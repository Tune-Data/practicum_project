{
 "cells": [
  {
   "cell_type": "markdown",
   "metadata": {},
   "source": [
    "# Определение стоимости автомобилей"
   ]
  },
  {
   "cell_type": "markdown",
   "metadata": {},
   "source": [
    "Сервис по продаже автомобилей с пробегом «Не бит, не крашен» разрабатывает приложение для привлечения новых клиентов. В нём можно быстро узнать рыночную стоимость своего автомобиля. В вашем распоряжении исторические данные: технические характеристики, комплектации и цены автомобилей. Нужно построить модель для определения стоимости. \n",
    "\n",
    "***Цели исследования:***\n",
    "\n",
    "1. Загрузить и подготовить данные.\n",
    "2. Обучить разные модели. Для каждой осуществить подбор гиперпараметров.\n",
    "3. Проанализировать скорость работы и качество моделей.\n",
    "\n",
    "***Ход исследования***\n",
    "\n",
    "Входные данные от заказчика — исторические данные о продаже автомобилей предоставлены в файле autos.csv. Перед обучением моделей необходимо провести предобработку данных. После подготовить данные для обучения и сравнить результаты моделей, время обучения и предсказания и порекомендовать лучшую."
   ]
  },
  {
   "cell_type": "markdown",
   "metadata": {},
   "source": [
    "## Подготовка данных"
   ]
  },
  {
   "cell_type": "markdown",
   "metadata": {},
   "source": [
    "Импортируем библиотеки:"
   ]
  },
  {
   "cell_type": "code",
   "execution_count": 1,
   "metadata": {},
   "outputs": [],
   "source": [
    "import pandas as pd \n",
    "import numpy as np\n",
    "import matplotlib.pyplot as plt\n",
    "import time\n",
    "\n",
    "from sklearn.model_selection import train_test_split, GridSearchCV\n",
    "from sklearn.compose import make_column_transformer\n",
    "from sklearn.preprocessing import StandardScaler, OneHotEncoder, LabelEncoder\n",
    "from sklearn.pipeline import make_pipeline\n",
    "from sklearn.linear_model import LogisticRegression, LinearRegression\n",
    "from sklearn.metrics import mean_squared_error\n",
    "from catboost import CatBoostRegressor\n",
    "from lightgbm import LGBMRegressor"
   ]
  },
  {
   "cell_type": "markdown",
   "metadata": {},
   "source": [
    "Загрузим данные:"
   ]
  },
  {
   "cell_type": "code",
   "execution_count": 2,
   "metadata": {},
   "outputs": [
    {
     "data": {
      "text/html": [
       "<div>\n",
       "<style scoped>\n",
       "    .dataframe tbody tr th:only-of-type {\n",
       "        vertical-align: middle;\n",
       "    }\n",
       "\n",
       "    .dataframe tbody tr th {\n",
       "        vertical-align: top;\n",
       "    }\n",
       "\n",
       "    .dataframe thead th {\n",
       "        text-align: right;\n",
       "    }\n",
       "</style>\n",
       "<table border=\"1\" class=\"dataframe\">\n",
       "  <thead>\n",
       "    <tr style=\"text-align: right;\">\n",
       "      <th></th>\n",
       "      <th>DateCrawled</th>\n",
       "      <th>Price</th>\n",
       "      <th>VehicleType</th>\n",
       "      <th>RegistrationYear</th>\n",
       "      <th>Gearbox</th>\n",
       "      <th>Power</th>\n",
       "      <th>Model</th>\n",
       "      <th>Kilometer</th>\n",
       "      <th>RegistrationMonth</th>\n",
       "      <th>FuelType</th>\n",
       "      <th>Brand</th>\n",
       "      <th>NotRepaired</th>\n",
       "      <th>DateCreated</th>\n",
       "      <th>NumberOfPictures</th>\n",
       "      <th>PostalCode</th>\n",
       "      <th>LastSeen</th>\n",
       "    </tr>\n",
       "  </thead>\n",
       "  <tbody>\n",
       "    <tr>\n",
       "      <th>0</th>\n",
       "      <td>2016-03-24 11:52:17</td>\n",
       "      <td>480</td>\n",
       "      <td>NaN</td>\n",
       "      <td>1993</td>\n",
       "      <td>manual</td>\n",
       "      <td>0</td>\n",
       "      <td>golf</td>\n",
       "      <td>150000</td>\n",
       "      <td>0</td>\n",
       "      <td>petrol</td>\n",
       "      <td>volkswagen</td>\n",
       "      <td>NaN</td>\n",
       "      <td>2016-03-24 00:00:00</td>\n",
       "      <td>0</td>\n",
       "      <td>70435</td>\n",
       "      <td>2016-04-07 03:16:57</td>\n",
       "    </tr>\n",
       "    <tr>\n",
       "      <th>1</th>\n",
       "      <td>2016-03-24 10:58:45</td>\n",
       "      <td>18300</td>\n",
       "      <td>coupe</td>\n",
       "      <td>2011</td>\n",
       "      <td>manual</td>\n",
       "      <td>190</td>\n",
       "      <td>NaN</td>\n",
       "      <td>125000</td>\n",
       "      <td>5</td>\n",
       "      <td>gasoline</td>\n",
       "      <td>audi</td>\n",
       "      <td>yes</td>\n",
       "      <td>2016-03-24 00:00:00</td>\n",
       "      <td>0</td>\n",
       "      <td>66954</td>\n",
       "      <td>2016-04-07 01:46:50</td>\n",
       "    </tr>\n",
       "    <tr>\n",
       "      <th>2</th>\n",
       "      <td>2016-03-14 12:52:21</td>\n",
       "      <td>9800</td>\n",
       "      <td>suv</td>\n",
       "      <td>2004</td>\n",
       "      <td>auto</td>\n",
       "      <td>163</td>\n",
       "      <td>grand</td>\n",
       "      <td>125000</td>\n",
       "      <td>8</td>\n",
       "      <td>gasoline</td>\n",
       "      <td>jeep</td>\n",
       "      <td>NaN</td>\n",
       "      <td>2016-03-14 00:00:00</td>\n",
       "      <td>0</td>\n",
       "      <td>90480</td>\n",
       "      <td>2016-04-05 12:47:46</td>\n",
       "    </tr>\n",
       "    <tr>\n",
       "      <th>3</th>\n",
       "      <td>2016-03-17 16:54:04</td>\n",
       "      <td>1500</td>\n",
       "      <td>small</td>\n",
       "      <td>2001</td>\n",
       "      <td>manual</td>\n",
       "      <td>75</td>\n",
       "      <td>golf</td>\n",
       "      <td>150000</td>\n",
       "      <td>6</td>\n",
       "      <td>petrol</td>\n",
       "      <td>volkswagen</td>\n",
       "      <td>no</td>\n",
       "      <td>2016-03-17 00:00:00</td>\n",
       "      <td>0</td>\n",
       "      <td>91074</td>\n",
       "      <td>2016-03-17 17:40:17</td>\n",
       "    </tr>\n",
       "    <tr>\n",
       "      <th>4</th>\n",
       "      <td>2016-03-31 17:25:20</td>\n",
       "      <td>3600</td>\n",
       "      <td>small</td>\n",
       "      <td>2008</td>\n",
       "      <td>manual</td>\n",
       "      <td>69</td>\n",
       "      <td>fabia</td>\n",
       "      <td>90000</td>\n",
       "      <td>7</td>\n",
       "      <td>gasoline</td>\n",
       "      <td>skoda</td>\n",
       "      <td>no</td>\n",
       "      <td>2016-03-31 00:00:00</td>\n",
       "      <td>0</td>\n",
       "      <td>60437</td>\n",
       "      <td>2016-04-06 10:17:21</td>\n",
       "    </tr>\n",
       "    <tr>\n",
       "      <th>...</th>\n",
       "      <td>...</td>\n",
       "      <td>...</td>\n",
       "      <td>...</td>\n",
       "      <td>...</td>\n",
       "      <td>...</td>\n",
       "      <td>...</td>\n",
       "      <td>...</td>\n",
       "      <td>...</td>\n",
       "      <td>...</td>\n",
       "      <td>...</td>\n",
       "      <td>...</td>\n",
       "      <td>...</td>\n",
       "      <td>...</td>\n",
       "      <td>...</td>\n",
       "      <td>...</td>\n",
       "      <td>...</td>\n",
       "    </tr>\n",
       "    <tr>\n",
       "      <th>354364</th>\n",
       "      <td>2016-03-21 09:50:58</td>\n",
       "      <td>0</td>\n",
       "      <td>NaN</td>\n",
       "      <td>2005</td>\n",
       "      <td>manual</td>\n",
       "      <td>0</td>\n",
       "      <td>colt</td>\n",
       "      <td>150000</td>\n",
       "      <td>7</td>\n",
       "      <td>petrol</td>\n",
       "      <td>mitsubishi</td>\n",
       "      <td>yes</td>\n",
       "      <td>2016-03-21 00:00:00</td>\n",
       "      <td>0</td>\n",
       "      <td>2694</td>\n",
       "      <td>2016-03-21 10:42:49</td>\n",
       "    </tr>\n",
       "    <tr>\n",
       "      <th>354365</th>\n",
       "      <td>2016-03-14 17:48:27</td>\n",
       "      <td>2200</td>\n",
       "      <td>NaN</td>\n",
       "      <td>2005</td>\n",
       "      <td>NaN</td>\n",
       "      <td>0</td>\n",
       "      <td>NaN</td>\n",
       "      <td>20000</td>\n",
       "      <td>1</td>\n",
       "      <td>NaN</td>\n",
       "      <td>sonstige_autos</td>\n",
       "      <td>NaN</td>\n",
       "      <td>2016-03-14 00:00:00</td>\n",
       "      <td>0</td>\n",
       "      <td>39576</td>\n",
       "      <td>2016-04-06 00:46:52</td>\n",
       "    </tr>\n",
       "    <tr>\n",
       "      <th>354366</th>\n",
       "      <td>2016-03-05 19:56:21</td>\n",
       "      <td>1199</td>\n",
       "      <td>convertible</td>\n",
       "      <td>2000</td>\n",
       "      <td>auto</td>\n",
       "      <td>101</td>\n",
       "      <td>fortwo</td>\n",
       "      <td>125000</td>\n",
       "      <td>3</td>\n",
       "      <td>petrol</td>\n",
       "      <td>smart</td>\n",
       "      <td>no</td>\n",
       "      <td>2016-03-05 00:00:00</td>\n",
       "      <td>0</td>\n",
       "      <td>26135</td>\n",
       "      <td>2016-03-11 18:17:12</td>\n",
       "    </tr>\n",
       "    <tr>\n",
       "      <th>354367</th>\n",
       "      <td>2016-03-19 18:57:12</td>\n",
       "      <td>9200</td>\n",
       "      <td>bus</td>\n",
       "      <td>1996</td>\n",
       "      <td>manual</td>\n",
       "      <td>102</td>\n",
       "      <td>transporter</td>\n",
       "      <td>150000</td>\n",
       "      <td>3</td>\n",
       "      <td>gasoline</td>\n",
       "      <td>volkswagen</td>\n",
       "      <td>no</td>\n",
       "      <td>2016-03-19 00:00:00</td>\n",
       "      <td>0</td>\n",
       "      <td>87439</td>\n",
       "      <td>2016-04-07 07:15:26</td>\n",
       "    </tr>\n",
       "    <tr>\n",
       "      <th>354368</th>\n",
       "      <td>2016-03-20 19:41:08</td>\n",
       "      <td>3400</td>\n",
       "      <td>wagon</td>\n",
       "      <td>2002</td>\n",
       "      <td>manual</td>\n",
       "      <td>100</td>\n",
       "      <td>golf</td>\n",
       "      <td>150000</td>\n",
       "      <td>6</td>\n",
       "      <td>gasoline</td>\n",
       "      <td>volkswagen</td>\n",
       "      <td>NaN</td>\n",
       "      <td>2016-03-20 00:00:00</td>\n",
       "      <td>0</td>\n",
       "      <td>40764</td>\n",
       "      <td>2016-03-24 12:45:21</td>\n",
       "    </tr>\n",
       "  </tbody>\n",
       "</table>\n",
       "<p>354369 rows × 16 columns</p>\n",
       "</div>"
      ],
      "text/plain": [
       "                DateCrawled  Price  VehicleType  RegistrationYear Gearbox  \\\n",
       "0       2016-03-24 11:52:17    480          NaN              1993  manual   \n",
       "1       2016-03-24 10:58:45  18300        coupe              2011  manual   \n",
       "2       2016-03-14 12:52:21   9800          suv              2004    auto   \n",
       "3       2016-03-17 16:54:04   1500        small              2001  manual   \n",
       "4       2016-03-31 17:25:20   3600        small              2008  manual   \n",
       "...                     ...    ...          ...               ...     ...   \n",
       "354364  2016-03-21 09:50:58      0          NaN              2005  manual   \n",
       "354365  2016-03-14 17:48:27   2200          NaN              2005     NaN   \n",
       "354366  2016-03-05 19:56:21   1199  convertible              2000    auto   \n",
       "354367  2016-03-19 18:57:12   9200          bus              1996  manual   \n",
       "354368  2016-03-20 19:41:08   3400        wagon              2002  manual   \n",
       "\n",
       "        Power        Model  Kilometer  RegistrationMonth  FuelType  \\\n",
       "0           0         golf     150000                  0    petrol   \n",
       "1         190          NaN     125000                  5  gasoline   \n",
       "2         163        grand     125000                  8  gasoline   \n",
       "3          75         golf     150000                  6    petrol   \n",
       "4          69        fabia      90000                  7  gasoline   \n",
       "...       ...          ...        ...                ...       ...   \n",
       "354364      0         colt     150000                  7    petrol   \n",
       "354365      0          NaN      20000                  1       NaN   \n",
       "354366    101       fortwo     125000                  3    petrol   \n",
       "354367    102  transporter     150000                  3  gasoline   \n",
       "354368    100         golf     150000                  6  gasoline   \n",
       "\n",
       "                 Brand NotRepaired          DateCreated  NumberOfPictures  \\\n",
       "0           volkswagen         NaN  2016-03-24 00:00:00                 0   \n",
       "1                 audi         yes  2016-03-24 00:00:00                 0   \n",
       "2                 jeep         NaN  2016-03-14 00:00:00                 0   \n",
       "3           volkswagen          no  2016-03-17 00:00:00                 0   \n",
       "4                skoda          no  2016-03-31 00:00:00                 0   \n",
       "...                ...         ...                  ...               ...   \n",
       "354364      mitsubishi         yes  2016-03-21 00:00:00                 0   \n",
       "354365  sonstige_autos         NaN  2016-03-14 00:00:00                 0   \n",
       "354366           smart          no  2016-03-05 00:00:00                 0   \n",
       "354367      volkswagen          no  2016-03-19 00:00:00                 0   \n",
       "354368      volkswagen         NaN  2016-03-20 00:00:00                 0   \n",
       "\n",
       "        PostalCode             LastSeen  \n",
       "0            70435  2016-04-07 03:16:57  \n",
       "1            66954  2016-04-07 01:46:50  \n",
       "2            90480  2016-04-05 12:47:46  \n",
       "3            91074  2016-03-17 17:40:17  \n",
       "4            60437  2016-04-06 10:17:21  \n",
       "...            ...                  ...  \n",
       "354364        2694  2016-03-21 10:42:49  \n",
       "354365       39576  2016-04-06 00:46:52  \n",
       "354366       26135  2016-03-11 18:17:12  \n",
       "354367       87439  2016-04-07 07:15:26  \n",
       "354368       40764  2016-03-24 12:45:21  \n",
       "\n",
       "[354369 rows x 16 columns]"
      ]
     },
     "execution_count": 2,
     "metadata": {},
     "output_type": "execute_result"
    }
   ],
   "source": [
    "try:\n",
    "    data = pd.read_csv('/datasets/autos.csv')\n",
    "except Exception:\n",
    "    data = pd.read_csv('autos.csv')\n",
    "    \n",
    "data"
   ]
  },
  {
   "cell_type": "markdown",
   "metadata": {},
   "source": [
    "Получим опиание:"
   ]
  },
  {
   "cell_type": "code",
   "execution_count": 3,
   "metadata": {},
   "outputs": [
    {
     "name": "stdout",
     "output_type": "stream",
     "text": [
      "<class 'pandas.core.frame.DataFrame'>\n",
      "RangeIndex: 354369 entries, 0 to 354368\n",
      "Data columns (total 16 columns):\n",
      " #   Column             Non-Null Count   Dtype \n",
      "---  ------             --------------   ----- \n",
      " 0   DateCrawled        354369 non-null  object\n",
      " 1   Price              354369 non-null  int64 \n",
      " 2   VehicleType        316879 non-null  object\n",
      " 3   RegistrationYear   354369 non-null  int64 \n",
      " 4   Gearbox            334536 non-null  object\n",
      " 5   Power              354369 non-null  int64 \n",
      " 6   Model              334664 non-null  object\n",
      " 7   Kilometer          354369 non-null  int64 \n",
      " 8   RegistrationMonth  354369 non-null  int64 \n",
      " 9   FuelType           321474 non-null  object\n",
      " 10  Brand              354369 non-null  object\n",
      " 11  NotRepaired        283215 non-null  object\n",
      " 12  DateCreated        354369 non-null  object\n",
      " 13  NumberOfPictures   354369 non-null  int64 \n",
      " 14  PostalCode         354369 non-null  int64 \n",
      " 15  LastSeen           354369 non-null  object\n",
      "dtypes: int64(7), object(9)\n",
      "memory usage: 43.3+ MB\n"
     ]
    }
   ],
   "source": [
    "data.info()"
   ]
  },
  {
   "cell_type": "markdown",
   "metadata": {},
   "source": [
    "***Согласно описания данных***\n",
    "\n",
    "Признаки\n",
    "* DateCrawled — дата скачивания анкеты из базы\n",
    "* VehicleType — тип автомобильного кузова\n",
    "* RegistrationYear — год регистрации автомобиля\n",
    "* Gearbox — тип коробки передач\n",
    "* Power — мощность (л. с.)\n",
    "* Model — модель автомобиля\n",
    "* Kilometer — пробег (км)\n",
    "* RegistrationMonth — месяц регистрации автомобиля\n",
    "* FuelType — тип топлива\n",
    "* Brand — марка автомобиля\n",
    "* NotRepaired — была машина в ремонте или нет\n",
    "* DateCreated — дата создания анкеты\n",
    "* NumberOfPictures — количество фотографий автомобиля\n",
    "* PostalCode — почтовый индекс владельца анкеты (пользователя)\n",
    "* LastSeen — дата последней активности пользователя\n",
    "\n",
    "Целевой признак\n",
    "* Price — цена (евро)"
   ]
  },
  {
   "cell_type": "markdown",
   "metadata": {},
   "source": [
    "Удалим из датасета признаки которые не оказывают влияния на результат предсказания модели."
   ]
  },
  {
   "cell_type": "code",
   "execution_count": 4,
   "metadata": {},
   "outputs": [],
   "source": [
    "data = data.drop(columns=['DateCrawled', 'DateCreated', 'LastSeen', 'RegistrationMonth', 'PostalCode'])"
   ]
  },
  {
   "cell_type": "markdown",
   "metadata": {},
   "source": [
    "Просмотрев уникальные значения в каждом столбце, обнаруживаем в что в \"NumberOfPictures\" все значения пусты."
   ]
  },
  {
   "cell_type": "code",
   "execution_count": 5,
   "metadata": {},
   "outputs": [
    {
     "data": {
      "text/plain": [
       "array([0])"
      ]
     },
     "execution_count": 5,
     "metadata": {},
     "output_type": "execute_result"
    }
   ],
   "source": [
    "data['NumberOfPictures'].unique()"
   ]
  },
  {
   "cell_type": "markdown",
   "metadata": {},
   "source": [
    "Столбец не информативен, удаляем."
   ]
  },
  {
   "cell_type": "code",
   "execution_count": 6,
   "metadata": {},
   "outputs": [],
   "source": [
    "data = data.drop(columns=['NumberOfPictures'])"
   ]
  },
  {
   "cell_type": "markdown",
   "metadata": {},
   "source": [
    "В данных есть пропуски. Для наглядности получим их процентные значения."
   ]
  },
  {
   "cell_type": "code",
   "execution_count": 7,
   "metadata": {
    "scrolled": true
   },
   "outputs": [
    {
     "data": {
      "text/plain": [
       "Price                0.0\n",
       "VehicleType         10.6\n",
       "RegistrationYear     0.0\n",
       "Gearbox              5.6\n",
       "Power                0.0\n",
       "Model                5.6\n",
       "Kilometer            0.0\n",
       "FuelType             9.3\n",
       "Brand                0.0\n",
       "NotRepaired         20.1\n",
       "dtype: float64"
      ]
     },
     "execution_count": 7,
     "metadata": {},
     "output_type": "execute_result"
    }
   ],
   "source": [
    "round(data.isna().mean() * 100, 1)"
   ]
  },
  {
   "cell_type": "markdown",
   "metadata": {},
   "source": [
    "Все пропуски имеют категориальный тип данных, проще всего заменить их маркерованным значением \"unknown\"."
   ]
  },
  {
   "cell_type": "code",
   "execution_count": 8,
   "metadata": {},
   "outputs": [],
   "source": [
    "data[['VehicleType', 'Gearbox', 'Model', 'FuelType', 'NotRepaired']] = data[['VehicleType',\n",
    "                                                                         'Gearbox', 'Model',\n",
    "                                                                         'FuelType', 'NotRepaired']].fillna('unknown')\n"
   ]
  },
  {
   "cell_type": "markdown",
   "metadata": {},
   "source": [
    "Далее нам нужно удалить из датасета все строки с значением 'Brand != \"sonstige_autos\"'. Их присутсвие выхывает ошибку при обучении модели которую мы используем в конце раздела."
   ]
  },
  {
   "cell_type": "code",
   "execution_count": 9,
   "metadata": {},
   "outputs": [],
   "source": [
    "data = data.query('Brand != \"sonstige_autos\"')"
   ]
  },
  {
   "cell_type": "markdown",
   "metadata": {},
   "source": [
    "Удаляем дубкаты."
   ]
  },
  {
   "cell_type": "code",
   "execution_count": 10,
   "metadata": {},
   "outputs": [
    {
     "data": {
      "text/plain": [
       "0"
      ]
     },
     "execution_count": 10,
     "metadata": {},
     "output_type": "execute_result"
    }
   ],
   "source": [
    "data = data.drop_duplicates().reset_index(drop=True)\n",
    "data.duplicated().sum()"
   ]
  },
  {
   "cell_type": "markdown",
   "metadata": {},
   "source": [
    "Проверим столбец \"Model\" на наличие неявных дубликатов. Получим список всех уникальных значений столбца."
   ]
  },
  {
   "cell_type": "code",
   "execution_count": 11,
   "metadata": {},
   "outputs": [
    {
     "data": {
      "text/plain": [
       "array(['golf', 'unknown', 'grand', 'fabia', '3er', '2_reihe', 'other',\n",
       "       'c_max', '3_reihe', 'passat', 'navara', 'ka', 'polo', 'twingo',\n",
       "       'a_klasse', 'scirocco', '5er', 'meriva', 'arosa', 'c4', 'civic',\n",
       "       'transporter', 'punto', 'e_klasse', 'clio', 'kadett', 'kangoo',\n",
       "       'corsa', 'one', 'fortwo', '1er', 'b_klasse', 'signum', 'astra',\n",
       "       'a8', 'jetta', 'fiesta', 'c_klasse', 'micra', 'vito', 'sprinter',\n",
       "       '156', 'escort', 'forester', 'xc_reihe', 'scenic', 'a4', 'a1',\n",
       "       'insignia', 'combo', 'focus', 'tt', 'a6', 'jazz', 'omega', 'slk',\n",
       "       '7er', '80', '147', '100', 'z_reihe', 'sportage', 'sorento', 'v40',\n",
       "       'ibiza', 'mustang', 'eos', 'touran', 'getz', 'a3', 'almera',\n",
       "       'megane', 'lupo', 'r19', 'zafira', 'caddy', 'mondeo', 'cordoba',\n",
       "       'colt', 'impreza', 'vectra', 'berlingo', 'tiguan', 'i_reihe',\n",
       "       'espace', 'sharan', '6_reihe', 'panda', 'up', 'seicento', 'ceed',\n",
       "       '5_reihe', 'yeti', 'octavia', 'mii', 'rx_reihe', '6er', 'modus',\n",
       "       'fox', 'matiz', 'beetle', 'c1', 'rio', 'touareg', 'logan',\n",
       "       'spider', 'cuore', 's_max', 'a2', 'galaxy', 'c3', 'viano',\n",
       "       's_klasse', '1_reihe', 'avensis', 'roomster', 'sl', 'kaefer',\n",
       "       'santa', 'cooper', 'leon', '4_reihe', 'a5', '500', 'laguna',\n",
       "       'ptcruiser', 'clk', 'primera', 'x_reihe', 'exeo', '159', 'transit',\n",
       "       'juke', 'qashqai', 'carisma', 'accord', 'corolla', 'lanos',\n",
       "       'phaeton', 'verso', 'swift', 'rav', 'picanto', 'boxster', 'kalos',\n",
       "       'superb', 'stilo', 'alhambra', 'mx_reihe', 'roadster', 'ypsilon',\n",
       "       'cayenne', 'galant', 'justy', '90', 'sirion', 'crossfire', 'agila',\n",
       "       'duster', 'cr_reihe', 'v50', 'c_reihe', 'v_klasse', 'm_klasse',\n",
       "       'yaris', 'c5', 'aygo', 'cc', 'carnival', 'fusion', '911', 'bora',\n",
       "       'forfour', 'm_reihe', 'cl', 'tigra', '300c', 'spark', 'v70',\n",
       "       'kuga', 'x_type', 'ducato', 's_type', 'x_trail', 'toledo', 'altea',\n",
       "       'voyager', 'calibra', 'bravo', 'antara', 'tucson', 'citigo',\n",
       "       'jimny', 'wrangler', 'lybra', 'q7', 'lancer', 'captiva', 'c2',\n",
       "       'discovery', 'freelander', 'sandero', 'note', '900', 'cherokee',\n",
       "       'clubman', 'samara', 'defender', '601', 'cx_reihe', 'legacy',\n",
       "       'pajero', 'auris', 'niva', 's60', 'nubira', 'vivaro', 'g_klasse',\n",
       "       'lodgy', '850', 'range_rover', 'q3', 'serie_2', 'glk', 'charade',\n",
       "       'croma', 'outlander', 'doblo', 'musa', 'move', '9000', 'v60',\n",
       "       '145', 'aveo', '200', 'b_max', 'range_rover_sport', 'terios',\n",
       "       'rangerover', 'q5', 'range_rover_evoque', 'materia', 'delta', 'gl',\n",
       "       'kalina', 'amarok', 'elefantino', 'i3', 'kappa', 'serie_3',\n",
       "       'serie_1'], dtype=object)"
      ]
     },
     "execution_count": 11,
     "metadata": {},
     "output_type": "execute_result"
    }
   ],
   "source": [
    "data['Model'].unique()"
   ]
  },
  {
   "cell_type": "markdown",
   "metadata": {},
   "source": [
    "В столбце по разнаму записан один автомобиль 'rangerover' и 'range_rover'. Приведём всё к одному."
   ]
  },
  {
   "cell_type": "code",
   "execution_count": 12,
   "metadata": {},
   "outputs": [],
   "source": [
    "data.loc[(data['Model'] == 'rangerover'), 'Model'] = 'range_rover'"
   ]
  },
  {
   "cell_type": "markdown",
   "metadata": {},
   "source": [
    "Получим описание данных."
   ]
  },
  {
   "cell_type": "code",
   "execution_count": 13,
   "metadata": {},
   "outputs": [
    {
     "data": {
      "text/html": [
       "<div>\n",
       "<style scoped>\n",
       "    .dataframe tbody tr th:only-of-type {\n",
       "        vertical-align: middle;\n",
       "    }\n",
       "\n",
       "    .dataframe tbody tr th {\n",
       "        vertical-align: top;\n",
       "    }\n",
       "\n",
       "    .dataframe thead th {\n",
       "        text-align: right;\n",
       "    }\n",
       "</style>\n",
       "<table border=\"1\" class=\"dataframe\">\n",
       "  <thead>\n",
       "    <tr style=\"text-align: right;\">\n",
       "      <th></th>\n",
       "      <th>Price</th>\n",
       "      <th>RegistrationYear</th>\n",
       "      <th>Power</th>\n",
       "      <th>Kilometer</th>\n",
       "    </tr>\n",
       "  </thead>\n",
       "  <tbody>\n",
       "    <tr>\n",
       "      <th>count</th>\n",
       "      <td>306398.000000</td>\n",
       "      <td>306398.000000</td>\n",
       "      <td>306398.000000</td>\n",
       "      <td>306398.000000</td>\n",
       "    </tr>\n",
       "    <tr>\n",
       "      <th>mean</th>\n",
       "      <td>4477.283592</td>\n",
       "      <td>2004.217612</td>\n",
       "      <td>111.075878</td>\n",
       "      <td>127562.989967</td>\n",
       "    </tr>\n",
       "    <tr>\n",
       "      <th>std</th>\n",
       "      <td>4553.873535</td>\n",
       "      <td>82.917009</td>\n",
       "      <td>200.154918</td>\n",
       "      <td>38148.018780</td>\n",
       "    </tr>\n",
       "    <tr>\n",
       "      <th>min</th>\n",
       "      <td>0.000000</td>\n",
       "      <td>1000.000000</td>\n",
       "      <td>0.000000</td>\n",
       "      <td>5000.000000</td>\n",
       "    </tr>\n",
       "    <tr>\n",
       "      <th>25%</th>\n",
       "      <td>1100.000000</td>\n",
       "      <td>1999.000000</td>\n",
       "      <td>69.000000</td>\n",
       "      <td>125000.000000</td>\n",
       "    </tr>\n",
       "    <tr>\n",
       "      <th>50%</th>\n",
       "      <td>2800.000000</td>\n",
       "      <td>2003.000000</td>\n",
       "      <td>105.000000</td>\n",
       "      <td>150000.000000</td>\n",
       "    </tr>\n",
       "    <tr>\n",
       "      <th>75%</th>\n",
       "      <td>6500.000000</td>\n",
       "      <td>2008.000000</td>\n",
       "      <td>143.000000</td>\n",
       "      <td>150000.000000</td>\n",
       "    </tr>\n",
       "    <tr>\n",
       "      <th>max</th>\n",
       "      <td>20000.000000</td>\n",
       "      <td>9999.000000</td>\n",
       "      <td>20000.000000</td>\n",
       "      <td>150000.000000</td>\n",
       "    </tr>\n",
       "  </tbody>\n",
       "</table>\n",
       "</div>"
      ],
      "text/plain": [
       "               Price  RegistrationYear          Power      Kilometer\n",
       "count  306398.000000     306398.000000  306398.000000  306398.000000\n",
       "mean     4477.283592       2004.217612     111.075878  127562.989967\n",
       "std      4553.873535         82.917009     200.154918   38148.018780\n",
       "min         0.000000       1000.000000       0.000000    5000.000000\n",
       "25%      1100.000000       1999.000000      69.000000  125000.000000\n",
       "50%      2800.000000       2003.000000     105.000000  150000.000000\n",
       "75%      6500.000000       2008.000000     143.000000  150000.000000\n",
       "max     20000.000000       9999.000000   20000.000000  150000.000000"
      ]
     },
     "execution_count": 13,
     "metadata": {},
     "output_type": "execute_result"
    }
   ],
   "source": [
    "data.describe()"
   ]
  },
  {
   "cell_type": "markdown",
   "metadata": {},
   "source": [
    "Столбцы \"RegistrationYear\" и \"Power\" содержат выбросы. Так же стоит обратить внимание на минимальные \"нулевые\" значения столбцов \"Price\" и \"Power\"."
   ]
  },
  {
   "cell_type": "code",
   "execution_count": 14,
   "metadata": {},
   "outputs": [
    {
     "data": {
      "image/png": "[encoded data removed]",
      "text/plain": [
       "<Figure size 288x432 with 1 Axes>"
      ]
     },
     "metadata": {
      "needs_background": "light"
     },
     "output_type": "display_data"
    }
   ],
   "source": [
    "data.boxplot('RegistrationYear', figsize=(4,6))\n",
    "plt.suptitle('Регистрации автомобиля')\n",
    "plt.title(None)\n",
    "plt.ylabel('Год')\n",
    "plt.show()"
   ]
  },
  {
   "cell_type": "markdown",
   "metadata": {},
   "source": [
    "Отсортируем выбросы из данных. Для этого сделаем срез с 1986 по 2019 год."
   ]
  },
  {
   "cell_type": "code",
   "execution_count": 15,
   "metadata": {},
   "outputs": [
    {
     "data": {
      "image/png": "[encoded data removed]",
      "text/plain": [
       "<Figure size 288x432 with 1 Axes>"
      ]
     },
     "metadata": {
      "needs_background": "light"
     },
     "output_type": "display_data"
    }
   ],
   "source": [
    "data = data.query('RegistrationYear >= 1986 & RegistrationYear <= 2019')\n",
    "\n",
    "data.boxplot('RegistrationYear', figsize=(4,6))\n",
    "plt.suptitle('Регистрации автомобиля')\n",
    "plt.title(None)\n",
    "plt.ylabel('Год')\n",
    "plt.show()"
   ]
  },
  {
   "cell_type": "markdown",
   "metadata": {},
   "source": [
    "Рассмотрим распределение цены в объявлениях."
   ]
  },
  {
   "cell_type": "code",
   "execution_count": 16,
   "metadata": {},
   "outputs": [
    {
     "data": {
      "image/png": "[encoded data removed]",
      "text/plain": [
       "<Figure size 576x288 with 1 Axes>"
      ]
     },
     "metadata": {
      "needs_background": "light"
     },
     "output_type": "display_data"
    }
   ],
   "source": [
    "data.hist('Price', figsize=(8,4), bins=40)\n",
    "plt.suptitle('Распределение цены объявлений')\n",
    "plt.title(None)\n",
    "plt.xlabel('Диапазон цен')\n",
    "plt.ylabel('Количество')\n",
    "plt.show()"
   ]
  },
  {
   "cell_type": "code",
   "execution_count": 17,
   "metadata": {},
   "outputs": [
    {
     "data": {
      "image/png": "[encoded data removed]",
      "text/plain": [
       "<Figure size 288x432 with 1 Axes>"
      ]
     },
     "metadata": {
      "needs_background": "light"
     },
     "output_type": "display_data"
    }
   ],
   "source": [
    "data.boxplot('Price', figsize=(4,6))\n",
    "plt.suptitle('Регистрации автомобиля')\n",
    "plt.title(None)\n",
    "plt.ylabel('Год')\n",
    "plt.show()"
   ]
  },
  {
   "cell_type": "markdown",
   "metadata": {},
   "source": [
    "Помимо большого количества нулевых значений, в столбце так же присутствуют выбросы. Можно предположить что ноль в цене может быть следсвием \"договорной цены\" или отдачи автомобиля на металолом, для нас остаётся однозначным только то, что значение нулевое и его придётся отбросить. Теперь нужно определиться с диапазоном. Минимум упирается в ноль, т.к данные сильно смещены влево (тяготеет медиана и среднее), поэтому делать срез по превому квартили не получится. Не приходит идеи лучше как подобрать порог интуитивно. Определим порог нижнего среза равным 200."
   ]
  },
  {
   "cell_type": "code",
   "execution_count": 18,
   "metadata": {},
   "outputs": [],
   "source": [
    "data = data.query('Price >= 200')"
   ]
  },
  {
   "cell_type": "markdown",
   "metadata": {},
   "source": [
    "Рассмотрим диаграмму размаха для значений столбца \"Power\"."
   ]
  },
  {
   "cell_type": "code",
   "execution_count": 19,
   "metadata": {},
   "outputs": [
    {
     "data": {
      "image/png": "[encoded data removed]",
      "text/plain": [
       "<Figure size 288x432 with 1 Axes>"
      ]
     },
     "metadata": {
      "needs_background": "light"
     },
     "output_type": "display_data"
    }
   ],
   "source": [
    "data.boxplot('Power', figsize=(4,6))\n",
    "plt.suptitle('Мощьность')\n",
    "plt.title(None)\n",
    "plt.ylabel('Значение')\n",
    "plt.ylim(0, 1000)\n",
    "plt.show()"
   ]
  },
  {
   "cell_type": "markdown",
   "metadata": {},
   "source": [
    "Верхний квартиль равен 143. Согласно описанию данные даны в лошадинных силах. Двигатели мощбностью более 500 л.с. в основном устанавливаются на тяжёлую спецтехнику. Выберем порог среза в районе 250."
   ]
  },
  {
   "cell_type": "code",
   "execution_count": 20,
   "metadata": {},
   "outputs": [],
   "source": [
    "data = data.query('Power <= 250')"
   ]
  },
  {
   "cell_type": "markdown",
   "metadata": {},
   "source": [
    "Данные с мощьностью двигателя равной нулю могут говорить о том что автомобиль продаётся без двигателя. \n",
    "\n",
    "Взяв размер изначального датасета определим процент потерянных данных."
   ]
  },
  {
   "cell_type": "code",
   "execution_count": 21,
   "metadata": {},
   "outputs": [
    {
     "data": {
      "text/plain": [
       "20.7"
      ]
     },
     "execution_count": 21,
     "metadata": {},
     "output_type": "execute_result"
    }
   ],
   "source": [
    "round(100 - data.shape[0] / 354369 * 100, 1)"
   ]
  },
  {
   "cell_type": "markdown",
   "metadata": {},
   "source": [
    "Посмотрим как числовые признаки корелируют между собой."
   ]
  },
  {
   "cell_type": "code",
   "execution_count": 22,
   "metadata": {},
   "outputs": [
    {
     "data": {
      "text/html": [
       "<div>\n",
       "<style scoped>\n",
       "    .dataframe tbody tr th:only-of-type {\n",
       "        vertical-align: middle;\n",
       "    }\n",
       "\n",
       "    .dataframe tbody tr th {\n",
       "        vertical-align: top;\n",
       "    }\n",
       "\n",
       "    .dataframe thead th {\n",
       "        text-align: right;\n",
       "    }\n",
       "</style>\n",
       "<table border=\"1\" class=\"dataframe\">\n",
       "  <thead>\n",
       "    <tr style=\"text-align: right;\">\n",
       "      <th></th>\n",
       "      <th>Price</th>\n",
       "      <th>RegistrationYear</th>\n",
       "      <th>Power</th>\n",
       "      <th>Kilometer</th>\n",
       "    </tr>\n",
       "  </thead>\n",
       "  <tbody>\n",
       "    <tr>\n",
       "      <th>Price</th>\n",
       "      <td>1.000000</td>\n",
       "      <td>0.482076</td>\n",
       "      <td>0.454492</td>\n",
       "      <td>-0.381259</td>\n",
       "    </tr>\n",
       "    <tr>\n",
       "      <th>RegistrationYear</th>\n",
       "      <td>0.482076</td>\n",
       "      <td>1.000000</td>\n",
       "      <td>0.072103</td>\n",
       "      <td>-0.300140</td>\n",
       "    </tr>\n",
       "    <tr>\n",
       "      <th>Power</th>\n",
       "      <td>0.454492</td>\n",
       "      <td>0.072103</td>\n",
       "      <td>1.000000</td>\n",
       "      <td>0.071128</td>\n",
       "    </tr>\n",
       "    <tr>\n",
       "      <th>Kilometer</th>\n",
       "      <td>-0.381259</td>\n",
       "      <td>-0.300140</td>\n",
       "      <td>0.071128</td>\n",
       "      <td>1.000000</td>\n",
       "    </tr>\n",
       "  </tbody>\n",
       "</table>\n",
       "</div>"
      ],
      "text/plain": [
       "                     Price  RegistrationYear     Power  Kilometer\n",
       "Price             1.000000          0.482076  0.454492  -0.381259\n",
       "RegistrationYear  0.482076          1.000000  0.072103  -0.300140\n",
       "Power             0.454492          0.072103  1.000000   0.071128\n",
       "Kilometer        -0.381259         -0.300140  0.071128   1.000000"
      ]
     },
     "execution_count": 22,
     "metadata": {},
     "output_type": "execute_result"
    }
   ],
   "source": [
    "data.corr()"
   ]
  },
  {
   "cell_type": "markdown",
   "metadata": {},
   "source": [
    "Целевой признак \"Price\" корелирует со всеми признаками, но в рамках разумных пределов."
   ]
  },
  {
   "cell_type": "markdown",
   "metadata": {},
   "source": [
    "После очистки данных можем попробовать восстановить пропуски в категориальных признаках. Сохраним часть датасета с заглушкой \"unknown\" в столбце \"Model\" в новой переменной."
   ]
  },
  {
   "cell_type": "code",
   "execution_count": 23,
   "metadata": {},
   "outputs": [
    {
     "data": {
      "text/plain": [
       "(12718, 10)"
      ]
     },
     "execution_count": 23,
     "metadata": {},
     "output_type": "execute_result"
    }
   ],
   "source": [
    "model_gaps = data[data['Model'] == 'unknown']\n",
    "model_gaps.shape"
   ]
  },
  {
   "cell_type": "code",
   "execution_count": 24,
   "metadata": {},
   "outputs": [
    {
     "data": {
      "text/plain": [
       "(268194, 10)"
      ]
     },
     "execution_count": 24,
     "metadata": {},
     "output_type": "execute_result"
    }
   ],
   "source": [
    "data_temp = data.query('Model != \"unknown\"')\n",
    "data_temp.shape"
   ]
  },
  {
   "cell_type": "markdown",
   "metadata": {},
   "source": [
    "После того как мы разделили датафрейм, можем переходить к подготовке признаков."
   ]
  },
  {
   "cell_type": "code",
   "execution_count": 25,
   "metadata": {},
   "outputs": [],
   "source": [
    "X = data_temp.drop(['Model'], axis=1)\n",
    "y = data_temp['Model']"
   ]
  },
  {
   "cell_type": "markdown",
   "metadata": {},
   "source": [
    "Теперь нам нужно закодировать целевой признак \"Model\", т.к. логистическая регрессия не умеет работать со строковым типом данных. Для кодировки подходит \"LabelEncoder\". Он имеет один явный недостаток - создание избыточных зависимостей в данных, но его вполне достаточно для учебного проекта."
   ]
  },
  {
   "cell_type": "code",
   "execution_count": 26,
   "metadata": {},
   "outputs": [],
   "source": [
    "labelencoder = LabelEncoder()\n",
    "y = pd.Series(labelencoder.fit_transform(y.values))"
   ]
  },
  {
   "cell_type": "markdown",
   "metadata": {},
   "source": [
    "Мы бы могли обучить модель и сразу заполнить пропуски, но тогда не удасться оценить качество обучения. Поэтому мы разделяем датасет на целевую и тестовую выборки."
   ]
  },
  {
   "cell_type": "code",
   "execution_count": 27,
   "metadata": {},
   "outputs": [],
   "source": [
    "X_train, X_test, y_train, y_test = train_test_split(X, y, test_size=0.2, random_state=12345)"
   ]
  },
  {
   "cell_type": "markdown",
   "metadata": {},
   "source": [
    "Разделим количественные и категориальные признаки."
   ]
  },
  {
   "cell_type": "code",
   "execution_count": 28,
   "metadata": {},
   "outputs": [],
   "source": [
    "numerical_columns = ['RegistrationYear', 'Price', 'Power', 'Kilometer']\n",
    "categorical_columns = ['VehicleType', 'Gearbox', 'FuelType', 'Brand', 'NotRepaired']\n"
   ]
  },
  {
   "cell_type": "markdown",
   "metadata": {},
   "source": [
    "С помощью \"make_column_transformer\" подготовим данные для обучения. Стандартизируем столбцы с количественными признаками метдом StandardScaler и выполним прямое кодирование (One-Hot Encoder) категориальных признаков."
   ]
  },
  {
   "cell_type": "code",
   "execution_count": 29,
   "metadata": {},
   "outputs": [],
   "source": [
    "column_trans = make_column_transformer((StandardScaler(), numerical_columns), \n",
    "                                       (OneHotEncoder(), categorical_columns))"
   ]
  },
  {
   "cell_type": "markdown",
   "metadata": {},
   "source": [
    "Переходим к обучению модели. "
   ]
  },
  {
   "cell_type": "code",
   "execution_count": 30,
   "metadata": {
    "scrolled": true
   },
   "outputs": [
    {
     "name": "stdout",
     "output_type": "stream",
     "text": [
      "CPU times: user 3min, sys: 2min 13s, total: 5min 13s\n",
      "Wall time: 5min 14s\n"
     ]
    },
    {
     "name": "stderr",
     "output_type": "stream",
     "text": [
      "/opt/conda/lib/python3.9/site-packages/sklearn/linear_model/_logistic.py:763: ConvergenceWarning: lbfgs failed to converge (status=1):\n",
      "STOP: TOTAL NO. of ITERATIONS REACHED LIMIT.\n",
      "\n",
      "Increase the number of iterations (max_iter) or scale the data as shown in:\n",
      "    https://scikit-learn.org/stable/modules/preprocessing.html\n",
      "Please also refer to the documentation for alternative solver options:\n",
      "    https://scikit-learn.org/stable/modules/linear_model.html#logistic-regression\n",
      "  n_iter_i = _check_optimize_result(\n"
     ]
    },
    {
     "data": {
      "text/plain": [
       "Pipeline(steps=[('columntransformer',\n",
       "                 ColumnTransformer(transformers=[('standardscaler',\n",
       "                                                  StandardScaler(),\n",
       "                                                  ['RegistrationYear', 'Price',\n",
       "                                                   'Power', 'Kilometer']),\n",
       "                                                 ('onehotencoder',\n",
       "                                                  OneHotEncoder(),\n",
       "                                                  ['VehicleType', 'Gearbox',\n",
       "                                                   'FuelType', 'Brand',\n",
       "                                                   'NotRepaired'])])),\n",
       "                ('logisticregression', LogisticRegression())])"
      ]
     },
     "execution_count": 30,
     "metadata": {},
     "output_type": "execute_result"
    }
   ],
   "source": [
    "%%time\n",
    "\n",
    "pipe_model = make_pipeline(column_trans, LogisticRegression())\n",
    "pipe_model.fit(X_train, y_train)"
   ]
  },
  {
   "cell_type": "code",
   "execution_count": 31,
   "metadata": {
    "scrolled": true
   },
   "outputs": [
    {
     "data": {
      "text/plain": [
       "48.74"
      ]
     },
     "execution_count": 31,
     "metadata": {},
     "output_type": "execute_result"
    }
   ],
   "source": [
    "y_pred = pipe_model.predict(X_test)\n",
    "round((mean_squared_error(y_test, y_pred)) ** .5, 2)"
   ]
  },
  {
   "cell_type": "code",
   "execution_count": 32,
   "metadata": {
    "scrolled": true
   },
   "outputs": [
    {
     "data": {
      "text/html": [
       "<div>\n",
       "<style scoped>\n",
       "    .dataframe tbody tr th:only-of-type {\n",
       "        vertical-align: middle;\n",
       "    }\n",
       "\n",
       "    .dataframe tbody tr th {\n",
       "        vertical-align: top;\n",
       "    }\n",
       "\n",
       "    .dataframe thead th {\n",
       "        text-align: right;\n",
       "    }\n",
       "</style>\n",
       "<table border=\"1\" class=\"dataframe\">\n",
       "  <thead>\n",
       "    <tr style=\"text-align: right;\">\n",
       "      <th></th>\n",
       "      <th>Price</th>\n",
       "      <th>VehicleType</th>\n",
       "      <th>RegistrationYear</th>\n",
       "      <th>Gearbox</th>\n",
       "      <th>Power</th>\n",
       "      <th>Model</th>\n",
       "      <th>Kilometer</th>\n",
       "      <th>FuelType</th>\n",
       "      <th>Brand</th>\n",
       "      <th>NotRepaired</th>\n",
       "    </tr>\n",
       "  </thead>\n",
       "  <tbody>\n",
       "    <tr>\n",
       "      <th>1</th>\n",
       "      <td>18300</td>\n",
       "      <td>coupe</td>\n",
       "      <td>2011</td>\n",
       "      <td>manual</td>\n",
       "      <td>190</td>\n",
       "      <td>unknown</td>\n",
       "      <td>125000</td>\n",
       "      <td>gasoline</td>\n",
       "      <td>audi</td>\n",
       "      <td>yes</td>\n",
       "    </tr>\n",
       "    <tr>\n",
       "      <th>80</th>\n",
       "      <td>350</td>\n",
       "      <td>small</td>\n",
       "      <td>1997</td>\n",
       "      <td>manual</td>\n",
       "      <td>54</td>\n",
       "      <td>unknown</td>\n",
       "      <td>150000</td>\n",
       "      <td>unknown</td>\n",
       "      <td>fiat</td>\n",
       "      <td>yes</td>\n",
       "    </tr>\n",
       "    <tr>\n",
       "      <th>134</th>\n",
       "      <td>1450</td>\n",
       "      <td>sedan</td>\n",
       "      <td>1992</td>\n",
       "      <td>manual</td>\n",
       "      <td>136</td>\n",
       "      <td>unknown</td>\n",
       "      <td>150000</td>\n",
       "      <td>unknown</td>\n",
       "      <td>audi</td>\n",
       "      <td>no</td>\n",
       "    </tr>\n",
       "    <tr>\n",
       "      <th>150</th>\n",
       "      <td>6799</td>\n",
       "      <td>small</td>\n",
       "      <td>2009</td>\n",
       "      <td>unknown</td>\n",
       "      <td>60</td>\n",
       "      <td>unknown</td>\n",
       "      <td>20000</td>\n",
       "      <td>petrol</td>\n",
       "      <td>volkswagen</td>\n",
       "      <td>no</td>\n",
       "    </tr>\n",
       "    <tr>\n",
       "      <th>159</th>\n",
       "      <td>500</td>\n",
       "      <td>small</td>\n",
       "      <td>1999</td>\n",
       "      <td>manual</td>\n",
       "      <td>0</td>\n",
       "      <td>unknown</td>\n",
       "      <td>150000</td>\n",
       "      <td>petrol</td>\n",
       "      <td>renault</td>\n",
       "      <td>no</td>\n",
       "    </tr>\n",
       "    <tr>\n",
       "      <th>...</th>\n",
       "      <td>...</td>\n",
       "      <td>...</td>\n",
       "      <td>...</td>\n",
       "      <td>...</td>\n",
       "      <td>...</td>\n",
       "      <td>...</td>\n",
       "      <td>...</td>\n",
       "      <td>...</td>\n",
       "      <td>...</td>\n",
       "      <td>...</td>\n",
       "    </tr>\n",
       "    <tr>\n",
       "      <th>306179</th>\n",
       "      <td>4300</td>\n",
       "      <td>small</td>\n",
       "      <td>2008</td>\n",
       "      <td>auto</td>\n",
       "      <td>0</td>\n",
       "      <td>unknown</td>\n",
       "      <td>150000</td>\n",
       "      <td>unknown</td>\n",
       "      <td>honda</td>\n",
       "      <td>unknown</td>\n",
       "    </tr>\n",
       "    <tr>\n",
       "      <th>306238</th>\n",
       "      <td>1500</td>\n",
       "      <td>unknown</td>\n",
       "      <td>1995</td>\n",
       "      <td>unknown</td>\n",
       "      <td>0</td>\n",
       "      <td>unknown</td>\n",
       "      <td>150000</td>\n",
       "      <td>unknown</td>\n",
       "      <td>volkswagen</td>\n",
       "      <td>unknown</td>\n",
       "    </tr>\n",
       "    <tr>\n",
       "      <th>306298</th>\n",
       "      <td>5000</td>\n",
       "      <td>sedan</td>\n",
       "      <td>2002</td>\n",
       "      <td>auto</td>\n",
       "      <td>170</td>\n",
       "      <td>unknown</td>\n",
       "      <td>150000</td>\n",
       "      <td>petrol</td>\n",
       "      <td>audi</td>\n",
       "      <td>no</td>\n",
       "    </tr>\n",
       "    <tr>\n",
       "      <th>306308</th>\n",
       "      <td>560</td>\n",
       "      <td>small</td>\n",
       "      <td>2001</td>\n",
       "      <td>auto</td>\n",
       "      <td>170</td>\n",
       "      <td>unknown</td>\n",
       "      <td>90000</td>\n",
       "      <td>petrol</td>\n",
       "      <td>fiat</td>\n",
       "      <td>yes</td>\n",
       "    </tr>\n",
       "    <tr>\n",
       "      <th>306386</th>\n",
       "      <td>1900</td>\n",
       "      <td>unknown</td>\n",
       "      <td>2000</td>\n",
       "      <td>manual</td>\n",
       "      <td>110</td>\n",
       "      <td>unknown</td>\n",
       "      <td>150000</td>\n",
       "      <td>unknown</td>\n",
       "      <td>volkswagen</td>\n",
       "      <td>no</td>\n",
       "    </tr>\n",
       "  </tbody>\n",
       "</table>\n",
       "<p>12718 rows × 10 columns</p>\n",
       "</div>"
      ],
      "text/plain": [
       "        Price VehicleType  RegistrationYear  Gearbox  Power    Model  \\\n",
       "1       18300       coupe              2011   manual    190  unknown   \n",
       "80        350       small              1997   manual     54  unknown   \n",
       "134      1450       sedan              1992   manual    136  unknown   \n",
       "150      6799       small              2009  unknown     60  unknown   \n",
       "159       500       small              1999   manual      0  unknown   \n",
       "...       ...         ...               ...      ...    ...      ...   \n",
       "306179   4300       small              2008     auto      0  unknown   \n",
       "306238   1500     unknown              1995  unknown      0  unknown   \n",
       "306298   5000       sedan              2002     auto    170  unknown   \n",
       "306308    560       small              2001     auto    170  unknown   \n",
       "306386   1900     unknown              2000   manual    110  unknown   \n",
       "\n",
       "        Kilometer  FuelType       Brand NotRepaired  \n",
       "1          125000  gasoline        audi         yes  \n",
       "80         150000   unknown        fiat         yes  \n",
       "134        150000   unknown        audi          no  \n",
       "150         20000    petrol  volkswagen          no  \n",
       "159        150000    petrol     renault          no  \n",
       "...           ...       ...         ...         ...  \n",
       "306179     150000   unknown       honda     unknown  \n",
       "306238     150000   unknown  volkswagen     unknown  \n",
       "306298     150000    petrol        audi          no  \n",
       "306308      90000    petrol        fiat         yes  \n",
       "306386     150000   unknown  volkswagen          no  \n",
       "\n",
       "[12718 rows x 10 columns]"
      ]
     },
     "execution_count": 32,
     "metadata": {},
     "output_type": "execute_result"
    }
   ],
   "source": [
    "model_gaps"
   ]
  },
  {
   "cell_type": "markdown",
   "metadata": {},
   "source": [
    "Удаляем целевой признак из датасета и возвращаем на его место столбец с предсказаниями модели."
   ]
  },
  {
   "cell_type": "code",
   "execution_count": 33,
   "metadata": {},
   "outputs": [
    {
     "name": "stderr",
     "output_type": "stream",
     "text": [
      "/opt/conda/lib/python3.9/site-packages/pandas/core/frame.py:4308: SettingWithCopyWarning: \n",
      "A value is trying to be set on a copy of a slice from a DataFrame\n",
      "\n",
      "See the caveats in the documentation: https://pandas.pydata.org/pandas-docs/stable/user_guide/indexing.html#returning-a-view-versus-a-copy\n",
      "  return super().drop(\n",
      "/tmp/ipykernel_129/2626165884.py:3: SettingWithCopyWarning: \n",
      "A value is trying to be set on a copy of a slice from a DataFrame.\n",
      "Try using .loc[row_indexer,col_indexer] = value instead\n",
      "\n",
      "See the caveats in the documentation: https://pandas.pydata.org/pandas-docs/stable/user_guide/indexing.html#returning-a-view-versus-a-copy\n",
      "  model_gaps['Model'] = pipe_model.predict(model_gaps)\n"
     ]
    }
   ],
   "source": [
    "model_gaps.drop(columns=['Model'], inplace=True)\n",
    "\n",
    "model_gaps['Model'] = pipe_model.predict(model_gaps)"
   ]
  },
  {
   "cell_type": "markdown",
   "metadata": {},
   "source": [
    "Создадим словарь по которому был закодирован признак \"Model\"."
   ]
  },
  {
   "cell_type": "code",
   "execution_count": 34,
   "metadata": {},
   "outputs": [],
   "source": [
    "dictionary = dict(zip(labelencoder.transform(labelencoder.classes_), labelencoder.classes_))"
   ]
  },
  {
   "cell_type": "markdown",
   "metadata": {},
   "source": [
    "Заменим значения столбца \"Model\" по значениям полученного словаря."
   ]
  },
  {
   "cell_type": "code",
   "execution_count": 35,
   "metadata": {},
   "outputs": [
    {
     "name": "stderr",
     "output_type": "stream",
     "text": [
      "/tmp/ipykernel_129/852593352.py:1: SettingWithCopyWarning: \n",
      "A value is trying to be set on a copy of a slice from a DataFrame.\n",
      "Try using .loc[row_indexer,col_indexer] = value instead\n",
      "\n",
      "See the caveats in the documentation: https://pandas.pydata.org/pandas-docs/stable/user_guide/indexing.html#returning-a-view-versus-a-copy\n",
      "  model_gaps['Model'] = model_gaps['Model'].map(dictionary)\n"
     ]
    }
   ],
   "source": [
    "model_gaps['Model'] = model_gaps['Model'].map(dictionary)"
   ]
  },
  {
   "cell_type": "markdown",
   "metadata": {},
   "source": [
    "Получaем таблицу с новым столбцом \"Model\" значение в котором заменены предсказаными логистической регрессии."
   ]
  },
  {
   "cell_type": "code",
   "execution_count": 36,
   "metadata": {
    "scrolled": true
   },
   "outputs": [
    {
     "data": {
      "text/html": [
       "<div>\n",
       "<style scoped>\n",
       "    .dataframe tbody tr th:only-of-type {\n",
       "        vertical-align: middle;\n",
       "    }\n",
       "\n",
       "    .dataframe tbody tr th {\n",
       "        vertical-align: top;\n",
       "    }\n",
       "\n",
       "    .dataframe thead th {\n",
       "        text-align: right;\n",
       "    }\n",
       "</style>\n",
       "<table border=\"1\" class=\"dataframe\">\n",
       "  <thead>\n",
       "    <tr style=\"text-align: right;\">\n",
       "      <th></th>\n",
       "      <th>Price</th>\n",
       "      <th>VehicleType</th>\n",
       "      <th>RegistrationYear</th>\n",
       "      <th>Gearbox</th>\n",
       "      <th>Power</th>\n",
       "      <th>Kilometer</th>\n",
       "      <th>FuelType</th>\n",
       "      <th>Brand</th>\n",
       "      <th>NotRepaired</th>\n",
       "      <th>Model</th>\n",
       "    </tr>\n",
       "  </thead>\n",
       "  <tbody>\n",
       "    <tr>\n",
       "      <th>1</th>\n",
       "      <td>18300</td>\n",
       "      <td>coupe</td>\n",
       "      <td>2011</td>\n",
       "      <td>manual</td>\n",
       "      <td>190</td>\n",
       "      <td>125000</td>\n",
       "      <td>gasoline</td>\n",
       "      <td>audi</td>\n",
       "      <td>yes</td>\n",
       "      <td>a5</td>\n",
       "    </tr>\n",
       "    <tr>\n",
       "      <th>80</th>\n",
       "      <td>350</td>\n",
       "      <td>small</td>\n",
       "      <td>1997</td>\n",
       "      <td>manual</td>\n",
       "      <td>54</td>\n",
       "      <td>150000</td>\n",
       "      <td>unknown</td>\n",
       "      <td>fiat</td>\n",
       "      <td>yes</td>\n",
       "      <td>punto</td>\n",
       "    </tr>\n",
       "    <tr>\n",
       "      <th>134</th>\n",
       "      <td>1450</td>\n",
       "      <td>sedan</td>\n",
       "      <td>1992</td>\n",
       "      <td>manual</td>\n",
       "      <td>136</td>\n",
       "      <td>150000</td>\n",
       "      <td>unknown</td>\n",
       "      <td>audi</td>\n",
       "      <td>no</td>\n",
       "      <td>80</td>\n",
       "    </tr>\n",
       "    <tr>\n",
       "      <th>150</th>\n",
       "      <td>6799</td>\n",
       "      <td>small</td>\n",
       "      <td>2009</td>\n",
       "      <td>unknown</td>\n",
       "      <td>60</td>\n",
       "      <td>20000</td>\n",
       "      <td>petrol</td>\n",
       "      <td>volkswagen</td>\n",
       "      <td>no</td>\n",
       "      <td>polo</td>\n",
       "    </tr>\n",
       "    <tr>\n",
       "      <th>159</th>\n",
       "      <td>500</td>\n",
       "      <td>small</td>\n",
       "      <td>1999</td>\n",
       "      <td>manual</td>\n",
       "      <td>0</td>\n",
       "      <td>150000</td>\n",
       "      <td>petrol</td>\n",
       "      <td>renault</td>\n",
       "      <td>no</td>\n",
       "      <td>twingo</td>\n",
       "    </tr>\n",
       "    <tr>\n",
       "      <th>...</th>\n",
       "      <td>...</td>\n",
       "      <td>...</td>\n",
       "      <td>...</td>\n",
       "      <td>...</td>\n",
       "      <td>...</td>\n",
       "      <td>...</td>\n",
       "      <td>...</td>\n",
       "      <td>...</td>\n",
       "      <td>...</td>\n",
       "      <td>...</td>\n",
       "    </tr>\n",
       "    <tr>\n",
       "      <th>306179</th>\n",
       "      <td>4300</td>\n",
       "      <td>small</td>\n",
       "      <td>2008</td>\n",
       "      <td>auto</td>\n",
       "      <td>0</td>\n",
       "      <td>150000</td>\n",
       "      <td>unknown</td>\n",
       "      <td>honda</td>\n",
       "      <td>unknown</td>\n",
       "      <td>jazz</td>\n",
       "    </tr>\n",
       "    <tr>\n",
       "      <th>306238</th>\n",
       "      <td>1500</td>\n",
       "      <td>unknown</td>\n",
       "      <td>1995</td>\n",
       "      <td>unknown</td>\n",
       "      <td>0</td>\n",
       "      <td>150000</td>\n",
       "      <td>unknown</td>\n",
       "      <td>volkswagen</td>\n",
       "      <td>unknown</td>\n",
       "      <td>golf</td>\n",
       "    </tr>\n",
       "    <tr>\n",
       "      <th>306298</th>\n",
       "      <td>5000</td>\n",
       "      <td>sedan</td>\n",
       "      <td>2002</td>\n",
       "      <td>auto</td>\n",
       "      <td>170</td>\n",
       "      <td>150000</td>\n",
       "      <td>petrol</td>\n",
       "      <td>audi</td>\n",
       "      <td>no</td>\n",
       "      <td>a4</td>\n",
       "    </tr>\n",
       "    <tr>\n",
       "      <th>306308</th>\n",
       "      <td>560</td>\n",
       "      <td>small</td>\n",
       "      <td>2001</td>\n",
       "      <td>auto</td>\n",
       "      <td>170</td>\n",
       "      <td>90000</td>\n",
       "      <td>petrol</td>\n",
       "      <td>fiat</td>\n",
       "      <td>yes</td>\n",
       "      <td>stilo</td>\n",
       "    </tr>\n",
       "    <tr>\n",
       "      <th>306386</th>\n",
       "      <td>1900</td>\n",
       "      <td>unknown</td>\n",
       "      <td>2000</td>\n",
       "      <td>manual</td>\n",
       "      <td>110</td>\n",
       "      <td>150000</td>\n",
       "      <td>unknown</td>\n",
       "      <td>volkswagen</td>\n",
       "      <td>no</td>\n",
       "      <td>golf</td>\n",
       "    </tr>\n",
       "  </tbody>\n",
       "</table>\n",
       "<p>12718 rows × 10 columns</p>\n",
       "</div>"
      ],
      "text/plain": [
       "        Price VehicleType  RegistrationYear  Gearbox  Power  Kilometer  \\\n",
       "1       18300       coupe              2011   manual    190     125000   \n",
       "80        350       small              1997   manual     54     150000   \n",
       "134      1450       sedan              1992   manual    136     150000   \n",
       "150      6799       small              2009  unknown     60      20000   \n",
       "159       500       small              1999   manual      0     150000   \n",
       "...       ...         ...               ...      ...    ...        ...   \n",
       "306179   4300       small              2008     auto      0     150000   \n",
       "306238   1500     unknown              1995  unknown      0     150000   \n",
       "306298   5000       sedan              2002     auto    170     150000   \n",
       "306308    560       small              2001     auto    170      90000   \n",
       "306386   1900     unknown              2000   manual    110     150000   \n",
       "\n",
       "        FuelType       Brand NotRepaired   Model  \n",
       "1       gasoline        audi         yes      a5  \n",
       "80       unknown        fiat         yes   punto  \n",
       "134      unknown        audi          no      80  \n",
       "150       petrol  volkswagen          no    polo  \n",
       "159       petrol     renault          no  twingo  \n",
       "...          ...         ...         ...     ...  \n",
       "306179   unknown       honda     unknown    jazz  \n",
       "306238   unknown  volkswagen     unknown    golf  \n",
       "306298    petrol        audi          no      a4  \n",
       "306308    petrol        fiat         yes   stilo  \n",
       "306386   unknown  volkswagen          no    golf  \n",
       "\n",
       "[12718 rows x 10 columns]"
      ]
     },
     "execution_count": 36,
     "metadata": {},
     "output_type": "execute_result"
    }
   ],
   "source": [
    "model_gaps"
   ]
  },
  {
   "cell_type": "markdown",
   "metadata": {},
   "source": [
    "Теперь нужно обновить данные в исходном датасете."
   ]
  },
  {
   "cell_type": "code",
   "execution_count": 37,
   "metadata": {
    "scrolled": true
   },
   "outputs": [],
   "source": [
    "data['Model'].update(model_gaps['Model'])"
   ]
  },
  {
   "cell_type": "code",
   "execution_count": 38,
   "metadata": {},
   "outputs": [
    {
     "data": {
      "text/html": [
       "<div>\n",
       "<style scoped>\n",
       "    .dataframe tbody tr th:only-of-type {\n",
       "        vertical-align: middle;\n",
       "    }\n",
       "\n",
       "    .dataframe tbody tr th {\n",
       "        vertical-align: top;\n",
       "    }\n",
       "\n",
       "    .dataframe thead th {\n",
       "        text-align: right;\n",
       "    }\n",
       "</style>\n",
       "<table border=\"1\" class=\"dataframe\">\n",
       "  <thead>\n",
       "    <tr style=\"text-align: right;\">\n",
       "      <th></th>\n",
       "      <th>Price</th>\n",
       "      <th>VehicleType</th>\n",
       "      <th>RegistrationYear</th>\n",
       "      <th>Gearbox</th>\n",
       "      <th>Power</th>\n",
       "      <th>Model</th>\n",
       "      <th>Kilometer</th>\n",
       "      <th>FuelType</th>\n",
       "      <th>Brand</th>\n",
       "      <th>NotRepaired</th>\n",
       "    </tr>\n",
       "  </thead>\n",
       "  <tbody>\n",
       "    <tr>\n",
       "      <th>0</th>\n",
       "      <td>480</td>\n",
       "      <td>unknown</td>\n",
       "      <td>1993</td>\n",
       "      <td>manual</td>\n",
       "      <td>0</td>\n",
       "      <td>golf</td>\n",
       "      <td>150000</td>\n",
       "      <td>petrol</td>\n",
       "      <td>volkswagen</td>\n",
       "      <td>unknown</td>\n",
       "    </tr>\n",
       "    <tr>\n",
       "      <th>1</th>\n",
       "      <td>18300</td>\n",
       "      <td>coupe</td>\n",
       "      <td>2011</td>\n",
       "      <td>manual</td>\n",
       "      <td>190</td>\n",
       "      <td>a5</td>\n",
       "      <td>125000</td>\n",
       "      <td>gasoline</td>\n",
       "      <td>audi</td>\n",
       "      <td>yes</td>\n",
       "    </tr>\n",
       "    <tr>\n",
       "      <th>2</th>\n",
       "      <td>9800</td>\n",
       "      <td>suv</td>\n",
       "      <td>2004</td>\n",
       "      <td>auto</td>\n",
       "      <td>163</td>\n",
       "      <td>grand</td>\n",
       "      <td>125000</td>\n",
       "      <td>gasoline</td>\n",
       "      <td>jeep</td>\n",
       "      <td>unknown</td>\n",
       "    </tr>\n",
       "    <tr>\n",
       "      <th>3</th>\n",
       "      <td>1500</td>\n",
       "      <td>small</td>\n",
       "      <td>2001</td>\n",
       "      <td>manual</td>\n",
       "      <td>75</td>\n",
       "      <td>golf</td>\n",
       "      <td>150000</td>\n",
       "      <td>petrol</td>\n",
       "      <td>volkswagen</td>\n",
       "      <td>no</td>\n",
       "    </tr>\n",
       "    <tr>\n",
       "      <th>4</th>\n",
       "      <td>3600</td>\n",
       "      <td>small</td>\n",
       "      <td>2008</td>\n",
       "      <td>manual</td>\n",
       "      <td>69</td>\n",
       "      <td>fabia</td>\n",
       "      <td>90000</td>\n",
       "      <td>gasoline</td>\n",
       "      <td>skoda</td>\n",
       "      <td>no</td>\n",
       "    </tr>\n",
       "    <tr>\n",
       "      <th>...</th>\n",
       "      <td>...</td>\n",
       "      <td>...</td>\n",
       "      <td>...</td>\n",
       "      <td>...</td>\n",
       "      <td>...</td>\n",
       "      <td>...</td>\n",
       "      <td>...</td>\n",
       "      <td>...</td>\n",
       "      <td>...</td>\n",
       "      <td>...</td>\n",
       "    </tr>\n",
       "    <tr>\n",
       "      <th>306392</th>\n",
       "      <td>5250</td>\n",
       "      <td>unknown</td>\n",
       "      <td>2016</td>\n",
       "      <td>auto</td>\n",
       "      <td>150</td>\n",
       "      <td>159</td>\n",
       "      <td>150000</td>\n",
       "      <td>unknown</td>\n",
       "      <td>alfa_romeo</td>\n",
       "      <td>no</td>\n",
       "    </tr>\n",
       "    <tr>\n",
       "      <th>306393</th>\n",
       "      <td>3200</td>\n",
       "      <td>sedan</td>\n",
       "      <td>2004</td>\n",
       "      <td>manual</td>\n",
       "      <td>225</td>\n",
       "      <td>leon</td>\n",
       "      <td>150000</td>\n",
       "      <td>petrol</td>\n",
       "      <td>seat</td>\n",
       "      <td>yes</td>\n",
       "    </tr>\n",
       "    <tr>\n",
       "      <th>306395</th>\n",
       "      <td>1199</td>\n",
       "      <td>convertible</td>\n",
       "      <td>2000</td>\n",
       "      <td>auto</td>\n",
       "      <td>101</td>\n",
       "      <td>fortwo</td>\n",
       "      <td>125000</td>\n",
       "      <td>petrol</td>\n",
       "      <td>smart</td>\n",
       "      <td>no</td>\n",
       "    </tr>\n",
       "    <tr>\n",
       "      <th>306396</th>\n",
       "      <td>9200</td>\n",
       "      <td>bus</td>\n",
       "      <td>1996</td>\n",
       "      <td>manual</td>\n",
       "      <td>102</td>\n",
       "      <td>transporter</td>\n",
       "      <td>150000</td>\n",
       "      <td>gasoline</td>\n",
       "      <td>volkswagen</td>\n",
       "      <td>no</td>\n",
       "    </tr>\n",
       "    <tr>\n",
       "      <th>306397</th>\n",
       "      <td>3400</td>\n",
       "      <td>wagon</td>\n",
       "      <td>2002</td>\n",
       "      <td>manual</td>\n",
       "      <td>100</td>\n",
       "      <td>golf</td>\n",
       "      <td>150000</td>\n",
       "      <td>gasoline</td>\n",
       "      <td>volkswagen</td>\n",
       "      <td>unknown</td>\n",
       "    </tr>\n",
       "  </tbody>\n",
       "</table>\n",
       "<p>280912 rows × 10 columns</p>\n",
       "</div>"
      ],
      "text/plain": [
       "        Price  VehicleType  RegistrationYear Gearbox  Power        Model  \\\n",
       "0         480      unknown              1993  manual      0         golf   \n",
       "1       18300        coupe              2011  manual    190           a5   \n",
       "2        9800          suv              2004    auto    163        grand   \n",
       "3        1500        small              2001  manual     75         golf   \n",
       "4        3600        small              2008  manual     69        fabia   \n",
       "...       ...          ...               ...     ...    ...          ...   \n",
       "306392   5250      unknown              2016    auto    150          159   \n",
       "306393   3200        sedan              2004  manual    225         leon   \n",
       "306395   1199  convertible              2000    auto    101       fortwo   \n",
       "306396   9200          bus              1996  manual    102  transporter   \n",
       "306397   3400        wagon              2002  manual    100         golf   \n",
       "\n",
       "        Kilometer  FuelType       Brand NotRepaired  \n",
       "0          150000    petrol  volkswagen     unknown  \n",
       "1          125000  gasoline        audi         yes  \n",
       "2          125000  gasoline        jeep     unknown  \n",
       "3          150000    petrol  volkswagen          no  \n",
       "4           90000  gasoline       skoda          no  \n",
       "...           ...       ...         ...         ...  \n",
       "306392     150000   unknown  alfa_romeo          no  \n",
       "306393     150000    petrol        seat         yes  \n",
       "306395     125000    petrol       smart          no  \n",
       "306396     150000  gasoline  volkswagen          no  \n",
       "306397     150000  gasoline  volkswagen     unknown  \n",
       "\n",
       "[280912 rows x 10 columns]"
      ]
     },
     "execution_count": 38,
     "metadata": {},
     "output_type": "execute_result"
    }
   ],
   "source": [
    "data"
   ]
  },
  {
   "cell_type": "markdown",
   "metadata": {},
   "source": [
    "Алгоритм описан и работает, данные получены. Время заполнить оставшиеся пропуски."
   ]
  },
  {
   "cell_type": "code",
   "execution_count": 39,
   "metadata": {},
   "outputs": [],
   "source": [
    "def fill_gaps(df, target):\n",
    "    target = 'Gearbox'\n",
    "    df = data\n",
    "    frame_gaps = df[df[target] == 'unknown']\n",
    "    df_temp = df[df[target] != 'unknown']\n",
    "    X = df_temp.drop([target], axis=1)\n",
    "    y = df_temp[target]\n",
    "    labelencoder = LabelEncoder()\n",
    "    y = pd.Series(labelencoder.fit_transform(y.values))\n",
    "    X_train, X_test, y_train, y_test = train_test_split(X, y, test_size=0.2, random_state=12345)\n",
    "\n",
    "    numerical_columns = ['RegistrationYear', 'Price', 'Power', 'Kilometer']\n",
    "    categorical_columns = ['VehicleType', 'Gearbox', 'FuelType', 'Brand', 'NotRepaired']\n",
    "    categorical_columns.remove(target)\n",
    "\n",
    "    column_trans = make_column_transformer((StandardScaler(), numerical_columns), \n",
    "                                           (OneHotEncoder(), categorical_columns))\n",
    "    start_learn = time.time()\n",
    "    pipe_model = make_pipeline(column_trans, LogisticRegression())\n",
    "    pipe_model.fit(X_train, y_train)\n",
    "    end_learn = time.time()\n",
    "    print('Learning time:', end_learn - start_learn)\n",
    "\n",
    "    y_pred = pipe_model.predict(X_test)\n",
    "    print('RMSE', round((mean_squared_error(y_test, y_pred)) ** .5, 2))\n",
    "\n",
    "    frame_gaps.drop(columns=[target], inplace=True)\n",
    "    frame_gaps[target] = pipe_model.predict(frame_gaps)\n",
    "\n",
    "    dictionary = dict(zip(labelencoder.transform(labelencoder.classes_), labelencoder.classes_))\n",
    "    frame_gaps[target] = frame_gaps[target].map(dictionary)\n",
    "\n",
    "    return frame_gaps"
   ]
  },
  {
   "cell_type": "code",
   "execution_count": 40,
   "metadata": {},
   "outputs": [
    {
     "name": "stdout",
     "output_type": "stream",
     "text": [
      "Learning time: 1.9030933380126953\n",
      "RMSE 0.39\n"
     ]
    },
    {
     "name": "stderr",
     "output_type": "stream",
     "text": [
      "/opt/conda/lib/python3.9/site-packages/sklearn/linear_model/_logistic.py:763: ConvergenceWarning: lbfgs failed to converge (status=1):\n",
      "STOP: TOTAL NO. of ITERATIONS REACHED LIMIT.\n",
      "\n",
      "Increase the number of iterations (max_iter) or scale the data as shown in:\n",
      "    https://scikit-learn.org/stable/modules/preprocessing.html\n",
      "Please also refer to the documentation for alternative solver options:\n",
      "    https://scikit-learn.org/stable/modules/linear_model.html#logistic-regression\n",
      "  n_iter_i = _check_optimize_result(\n",
      "/opt/conda/lib/python3.9/site-packages/pandas/core/frame.py:4308: SettingWithCopyWarning: \n",
      "A value is trying to be set on a copy of a slice from a DataFrame\n",
      "\n",
      "See the caveats in the documentation: https://pandas.pydata.org/pandas-docs/stable/user_guide/indexing.html#returning-a-view-versus-a-copy\n",
      "  return super().drop(\n",
      "/tmp/ipykernel_129/2061139624.py:28: SettingWithCopyWarning: \n",
      "A value is trying to be set on a copy of a slice from a DataFrame.\n",
      "Try using .loc[row_indexer,col_indexer] = value instead\n",
      "\n",
      "See the caveats in the documentation: https://pandas.pydata.org/pandas-docs/stable/user_guide/indexing.html#returning-a-view-versus-a-copy\n",
      "  frame_gaps[target] = pipe_model.predict(frame_gaps)\n",
      "/tmp/ipykernel_129/2061139624.py:31: SettingWithCopyWarning: \n",
      "A value is trying to be set on a copy of a slice from a DataFrame.\n",
      "Try using .loc[row_indexer,col_indexer] = value instead\n",
      "\n",
      "See the caveats in the documentation: https://pandas.pydata.org/pandas-docs/stable/user_guide/indexing.html#returning-a-view-versus-a-copy\n",
      "  frame_gaps[target] = frame_gaps[target].map(dictionary)\n"
     ]
    }
   ],
   "source": [
    "data['Gearbox'].update(fill_gaps(data, 'Gearbox')['Gearbox'])"
   ]
  },
  {
   "cell_type": "markdown",
   "metadata": {},
   "source": [
    "Заменим заглушки в столбцах VehicleType и FuelType."
   ]
  },
  {
   "cell_type": "code",
   "execution_count": 41,
   "metadata": {},
   "outputs": [],
   "source": [
    "data['Temp'] = data['Brand'] + data['Model']\n",
    "# заполняем пропуски в VehicleType и FuelType\n",
    "names_vt = [name for name in list(data[data['VehicleType'] == 'unknown']['Temp'].unique()) if isinstance(name, str) == True]\n",
    "names_ft = [name for name in list(data[data['FuelType'] == 'unknown']['Temp'].unique()) if isinstance(name, str) == True]\n",
    "\n",
    "for name in names_vt:\n",
    "    data.loc[(data['Temp']==name)&(data['VehicleType']== 'unknown'), 'VehicleType'] = data[data['Temp']==name]['VehicleType'].value_counts().index[0]\n",
    "for name in names_ft:\n",
    "    data.loc[(data['Temp']==name)&(data['FuelType']== 'unknown'), 'FuelType'] = data[data['Temp']==name]['FuelType'].value_counts().index[0]\n",
    "data = data.drop(columns=['Temp'])"
   ]
  },
  {
   "cell_type": "code",
   "execution_count": 42,
   "metadata": {},
   "outputs": [
    {
     "data": {
      "text/html": [
       "<div>\n",
       "<style scoped>\n",
       "    .dataframe tbody tr th:only-of-type {\n",
       "        vertical-align: middle;\n",
       "    }\n",
       "\n",
       "    .dataframe tbody tr th {\n",
       "        vertical-align: top;\n",
       "    }\n",
       "\n",
       "    .dataframe thead th {\n",
       "        text-align: right;\n",
       "    }\n",
       "</style>\n",
       "<table border=\"1\" class=\"dataframe\">\n",
       "  <thead>\n",
       "    <tr style=\"text-align: right;\">\n",
       "      <th></th>\n",
       "      <th>Price</th>\n",
       "      <th>VehicleType</th>\n",
       "      <th>RegistrationYear</th>\n",
       "      <th>Gearbox</th>\n",
       "      <th>Power</th>\n",
       "      <th>Model</th>\n",
       "      <th>Kilometer</th>\n",
       "      <th>FuelType</th>\n",
       "      <th>Brand</th>\n",
       "      <th>NotRepaired</th>\n",
       "    </tr>\n",
       "  </thead>\n",
       "  <tbody>\n",
       "    <tr>\n",
       "      <th>0</th>\n",
       "      <td>480</td>\n",
       "      <td>sedan</td>\n",
       "      <td>1993</td>\n",
       "      <td>manual</td>\n",
       "      <td>0</td>\n",
       "      <td>golf</td>\n",
       "      <td>150000</td>\n",
       "      <td>petrol</td>\n",
       "      <td>volkswagen</td>\n",
       "      <td>unknown</td>\n",
       "    </tr>\n",
       "    <tr>\n",
       "      <th>1</th>\n",
       "      <td>18300</td>\n",
       "      <td>coupe</td>\n",
       "      <td>2011</td>\n",
       "      <td>manual</td>\n",
       "      <td>190</td>\n",
       "      <td>a5</td>\n",
       "      <td>125000</td>\n",
       "      <td>gasoline</td>\n",
       "      <td>audi</td>\n",
       "      <td>yes</td>\n",
       "    </tr>\n",
       "    <tr>\n",
       "      <th>2</th>\n",
       "      <td>9800</td>\n",
       "      <td>suv</td>\n",
       "      <td>2004</td>\n",
       "      <td>auto</td>\n",
       "      <td>163</td>\n",
       "      <td>grand</td>\n",
       "      <td>125000</td>\n",
       "      <td>gasoline</td>\n",
       "      <td>jeep</td>\n",
       "      <td>unknown</td>\n",
       "    </tr>\n",
       "    <tr>\n",
       "      <th>3</th>\n",
       "      <td>1500</td>\n",
       "      <td>small</td>\n",
       "      <td>2001</td>\n",
       "      <td>manual</td>\n",
       "      <td>75</td>\n",
       "      <td>golf</td>\n",
       "      <td>150000</td>\n",
       "      <td>petrol</td>\n",
       "      <td>volkswagen</td>\n",
       "      <td>no</td>\n",
       "    </tr>\n",
       "    <tr>\n",
       "      <th>4</th>\n",
       "      <td>3600</td>\n",
       "      <td>small</td>\n",
       "      <td>2008</td>\n",
       "      <td>manual</td>\n",
       "      <td>69</td>\n",
       "      <td>fabia</td>\n",
       "      <td>90000</td>\n",
       "      <td>gasoline</td>\n",
       "      <td>skoda</td>\n",
       "      <td>no</td>\n",
       "    </tr>\n",
       "    <tr>\n",
       "      <th>...</th>\n",
       "      <td>...</td>\n",
       "      <td>...</td>\n",
       "      <td>...</td>\n",
       "      <td>...</td>\n",
       "      <td>...</td>\n",
       "      <td>...</td>\n",
       "      <td>...</td>\n",
       "      <td>...</td>\n",
       "      <td>...</td>\n",
       "      <td>...</td>\n",
       "    </tr>\n",
       "    <tr>\n",
       "      <th>306392</th>\n",
       "      <td>5250</td>\n",
       "      <td>wagon</td>\n",
       "      <td>2016</td>\n",
       "      <td>auto</td>\n",
       "      <td>150</td>\n",
       "      <td>159</td>\n",
       "      <td>150000</td>\n",
       "      <td>gasoline</td>\n",
       "      <td>alfa_romeo</td>\n",
       "      <td>no</td>\n",
       "    </tr>\n",
       "    <tr>\n",
       "      <th>306393</th>\n",
       "      <td>3200</td>\n",
       "      <td>sedan</td>\n",
       "      <td>2004</td>\n",
       "      <td>manual</td>\n",
       "      <td>225</td>\n",
       "      <td>leon</td>\n",
       "      <td>150000</td>\n",
       "      <td>petrol</td>\n",
       "      <td>seat</td>\n",
       "      <td>yes</td>\n",
       "    </tr>\n",
       "    <tr>\n",
       "      <th>306395</th>\n",
       "      <td>1199</td>\n",
       "      <td>convertible</td>\n",
       "      <td>2000</td>\n",
       "      <td>auto</td>\n",
       "      <td>101</td>\n",
       "      <td>fortwo</td>\n",
       "      <td>125000</td>\n",
       "      <td>petrol</td>\n",
       "      <td>smart</td>\n",
       "      <td>no</td>\n",
       "    </tr>\n",
       "    <tr>\n",
       "      <th>306396</th>\n",
       "      <td>9200</td>\n",
       "      <td>bus</td>\n",
       "      <td>1996</td>\n",
       "      <td>manual</td>\n",
       "      <td>102</td>\n",
       "      <td>transporter</td>\n",
       "      <td>150000</td>\n",
       "      <td>gasoline</td>\n",
       "      <td>volkswagen</td>\n",
       "      <td>no</td>\n",
       "    </tr>\n",
       "    <tr>\n",
       "      <th>306397</th>\n",
       "      <td>3400</td>\n",
       "      <td>wagon</td>\n",
       "      <td>2002</td>\n",
       "      <td>manual</td>\n",
       "      <td>100</td>\n",
       "      <td>golf</td>\n",
       "      <td>150000</td>\n",
       "      <td>gasoline</td>\n",
       "      <td>volkswagen</td>\n",
       "      <td>unknown</td>\n",
       "    </tr>\n",
       "  </tbody>\n",
       "</table>\n",
       "<p>280912 rows × 10 columns</p>\n",
       "</div>"
      ],
      "text/plain": [
       "        Price  VehicleType  RegistrationYear Gearbox  Power        Model  \\\n",
       "0         480        sedan              1993  manual      0         golf   \n",
       "1       18300        coupe              2011  manual    190           a5   \n",
       "2        9800          suv              2004    auto    163        grand   \n",
       "3        1500        small              2001  manual     75         golf   \n",
       "4        3600        small              2008  manual     69        fabia   \n",
       "...       ...          ...               ...     ...    ...          ...   \n",
       "306392   5250        wagon              2016    auto    150          159   \n",
       "306393   3200        sedan              2004  manual    225         leon   \n",
       "306395   1199  convertible              2000    auto    101       fortwo   \n",
       "306396   9200          bus              1996  manual    102  transporter   \n",
       "306397   3400        wagon              2002  manual    100         golf   \n",
       "\n",
       "        Kilometer  FuelType       Brand NotRepaired  \n",
       "0          150000    petrol  volkswagen     unknown  \n",
       "1          125000  gasoline        audi         yes  \n",
       "2          125000  gasoline        jeep     unknown  \n",
       "3          150000    petrol  volkswagen          no  \n",
       "4           90000  gasoline       skoda          no  \n",
       "...           ...       ...         ...         ...  \n",
       "306392     150000  gasoline  alfa_romeo          no  \n",
       "306393     150000    petrol        seat         yes  \n",
       "306395     125000    petrol       smart          no  \n",
       "306396     150000  gasoline  volkswagen          no  \n",
       "306397     150000  gasoline  volkswagen     unknown  \n",
       "\n",
       "[280912 rows x 10 columns]"
      ]
     },
     "execution_count": 42,
     "metadata": {},
     "output_type": "execute_result"
    }
   ],
   "source": [
    "data"
   ]
  },
  {
   "cell_type": "markdown",
   "metadata": {},
   "source": [
    "Подготовим получившийся датасет для обучения моделей."
   ]
  },
  {
   "cell_type": "code",
   "execution_count": 43,
   "metadata": {},
   "outputs": [],
   "source": [
    "X = data.drop(['Price'], axis=1)\n",
    "y = data['Price']\n",
    "X_train, X_test, y_train, y_test = train_test_split(X, y, test_size=0.2, random_state=12345)\n",
    "numerical_columns = ['RegistrationYear', 'Power', 'Kilometer']\n",
    "categorical_columns = ['VehicleType', 'Gearbox', 'Model', 'FuelType', 'Brand', 'NotRepaired']\n",
    "column_trans = make_column_transformer((StandardScaler(), numerical_columns), \n",
    "                                       (OneHotEncoder(), categorical_columns))"
   ]
  },
  {
   "cell_type": "markdown",
   "metadata": {},
   "source": [
    "### Вывод"
   ]
  },
  {
   "cell_type": "markdown",
   "metadata": {},
   "source": [
    "Сохранив датасет провели анализ признков. Пропуски были только в категориальных признаках. Заполнили их модой. Отфильтровали выбросы в количественных признаках, при этом потеряли ~20% от первоначальных данных. Провели анализ корелляции признаков. Заполнили пропуски в столбцах \"Model\"  и \"Gearbox\" предсказаниями логистической регрессии. Пропуски в VehicleType и FuelType заполнили по значениями из колонок Model и Brand. После перешли к подготовке данных для обучения модели. Выделили целевой признак. После подготовили данные для дальнейшего анализа."
   ]
  },
  {
   "cell_type": "markdown",
   "metadata": {},
   "source": [
    "## Обучение моделей"
   ]
  },
  {
   "cell_type": "markdown",
   "metadata": {},
   "source": [
    "Алгоритм обучения моделей не отличается от алгоритма заполнения пропусков."
   ]
  },
  {
   "cell_type": "code",
   "execution_count": 44,
   "metadata": {},
   "outputs": [],
   "source": [
    "def model_estimation(model, param):\n",
    "\n",
    "    pipe_model = make_pipeline(column_trans, model)\n",
    "\n",
    "    grid = GridSearchCV(estimator = pipe_model, param_grid = param)\n",
    "    \n",
    "    start_learn = time.time()\n",
    "    pipe_model.fit(X_train, y_train)\n",
    "    end_learn = time.time()\n",
    "\n",
    "    time_learn = end_learn - start_learn\n",
    "    \n",
    "    start_pred = time.time()\n",
    "    y_pred = pipe_model.predict(X_test)\n",
    "    end_pred = time.time()\n",
    "\n",
    "    time_pred = end_pred - start_pred \n",
    "\n",
    "    rmse = np.sqrt(mean_squared_error(y_test, y_pred))\n",
    "    \n",
    "    return round(rmse, 2), round(time_learn, 2), round(time_pred, 2)"
   ]
  },
  {
   "cell_type": "markdown",
   "metadata": {},
   "source": [
    "Функция принимает на вход модель обучения и возвращает RMSE, время обучения и предсказания."
   ]
  },
  {
   "cell_type": "code",
   "execution_count": 45,
   "metadata": {},
   "outputs": [],
   "source": [
    "param_lr = {}\n",
    "\n",
    "param_cb = {\n",
    "    'learning_rate': [0.03, 0.1],\n",
    "    'depth': [4, 6, 10]\n",
    "}\n",
    "\n",
    "param_lgbm = {\n",
    "    'learning_rate': [0.1, 0.3, 0.5, 0.7],\n",
    "    'max_depth': [15, 20, 30, 35]\n",
    "             }"
   ]
  },
  {
   "cell_type": "code",
   "execution_count": 46,
   "metadata": {},
   "outputs": [],
   "source": [
    "# LinearRegression\n",
    "rmse_lr, time_learn_lr, time_pred_lr = model_estimation(LinearRegression(), param_lr)\n",
    "\n",
    "# CatBoostRegressor\n",
    "rmse_cb, time_learn_cb, time_pred_cb = model_estimation(CatBoostRegressor(silent=True, random_state=12345), param_cb)\n",
    "\n",
    "# LGBMRegressor\n",
    "rmse_lgbm, time_learn_lgbm, time_pred_lgbm = model_estimation(LGBMRegressor(random_state=12345), param_lgbm)"
   ]
  },
  {
   "cell_type": "markdown",
   "metadata": {},
   "source": [
    "Модель обучена, ошибок нет, результаты сохранены в переменных."
   ]
  },
  {
   "cell_type": "markdown",
   "metadata": {},
   "source": [
    "## Анализ моделей"
   ]
  },
  {
   "cell_type": "markdown",
   "metadata": {},
   "source": [
    "Для удобства сведём результаты в таблицу."
   ]
  },
  {
   "cell_type": "code",
   "execution_count": 47,
   "metadata": {},
   "outputs": [
    {
     "data": {
      "text/html": [
       "<div>\n",
       "<style scoped>\n",
       "    .dataframe tbody tr th:only-of-type {\n",
       "        vertical-align: middle;\n",
       "    }\n",
       "\n",
       "    .dataframe tbody tr th {\n",
       "        vertical-align: top;\n",
       "    }\n",
       "\n",
       "    .dataframe thead th {\n",
       "        text-align: right;\n",
       "    }\n",
       "</style>\n",
       "<table border=\"1\" class=\"dataframe\">\n",
       "  <thead>\n",
       "    <tr style=\"text-align: right;\">\n",
       "      <th></th>\n",
       "      <th>LinearRegression</th>\n",
       "      <th>CatBoostRegressor</th>\n",
       "      <th>LGBMRegressor</th>\n",
       "    </tr>\n",
       "  </thead>\n",
       "  <tbody>\n",
       "    <tr>\n",
       "      <th>RMSE</th>\n",
       "      <td>2606.70</td>\n",
       "      <td>1533.14</td>\n",
       "      <td>1616.89</td>\n",
       "    </tr>\n",
       "    <tr>\n",
       "      <th>Время обучения</th>\n",
       "      <td>23.23</td>\n",
       "      <td>31.41</td>\n",
       "      <td>131.20</td>\n",
       "    </tr>\n",
       "    <tr>\n",
       "      <th>Время предсказания</th>\n",
       "      <td>0.19</td>\n",
       "      <td>0.21</td>\n",
       "      <td>0.50</td>\n",
       "    </tr>\n",
       "  </tbody>\n",
       "</table>\n",
       "</div>"
      ],
      "text/plain": [
       "                    LinearRegression  CatBoostRegressor  LGBMRegressor\n",
       "RMSE                         2606.70            1533.14        1616.89\n",
       "Время обучения                 23.23              31.41         131.20\n",
       "Время предсказания              0.19               0.21           0.50"
      ]
     },
     "execution_count": 47,
     "metadata": {},
     "output_type": "execute_result"
    }
   ],
   "source": [
    "result = pd.DataFrame(data = {'LinearRegression': [rmse_lr, time_learn_lr, time_pred_lr], \n",
    "                                   'CatBoostRegressor': [rmse_cb, time_learn_cb, time_pred_cb], \n",
    "                                   'LGBMRegressor': [rmse_lgbm, time_learn_lgbm, time_pred_lgbm]},\n",
    "                           index = ['RMSE', 'Время обучения', 'Время предсказания'])\n",
    "\n",
    "\n",
    "result"
   ]
  },
  {
   "cell_type": "markdown",
   "metadata": {},
   "source": [
    "Лучшее качество у моделей градиентного бустинга. CatBoost опережает LightGBM по всем параметрам. LinearRegression хоть и показала худший результат, но обучилась быстрее CatBoost."
   ]
  },
  {
   "cell_type": "markdown",
   "metadata": {},
   "source": [
    "### Вывод"
   ]
  },
  {
   "cell_type": "markdown",
   "metadata": {},
   "source": [
    "Была выполненана подготовка признаков, заполнены прпуски. Признаки закодировали с помощью StandardScaler и OneHotEncoder. Сравнили три модели. Самой быстрой оказалась LinearRegression, но в тоже время самой неточной. Сравнивая модели градиентного спуска, CatBoostRegressor опережает LGBMRegressor по скорости и точности, в связи с чем и рекомендуется для определения стоимости автомобилей."
   ]
  }
 ],
 "metadata": {
  "ExecuteTimeLog": [
   {
    "duration": 1673,
    "start_time": "2022-07-21T15:11:45.771Z"
   },
   {
    "duration": 4,
    "start_time": "2022-07-21T15:11:55.154Z"
   },
   {
    "duration": 1184,
    "start_time": "2022-07-21T15:11:55.160Z"
   },
   {
    "duration": 132,
    "start_time": "2022-07-21T15:11:56.345Z"
   },
   {
    "duration": 26,
    "start_time": "2022-07-21T15:11:56.479Z"
   },
   {
    "duration": 10,
    "start_time": "2022-07-21T15:11:56.507Z"
   },
   {
    "duration": 45,
    "start_time": "2022-07-21T15:11:56.518Z"
   },
   {
    "duration": 88,
    "start_time": "2022-07-21T15:11:56.565Z"
   },
   {
    "duration": 129,
    "start_time": "2022-07-21T15:11:56.664Z"
   },
   {
    "duration": 45,
    "start_time": "2022-07-21T15:11:56.795Z"
   },
   {
    "duration": 353,
    "start_time": "2022-07-21T15:11:56.842Z"
   },
   {
    "duration": 52,
    "start_time": "2022-07-21T15:11:57.197Z"
   },
   {
    "duration": 382,
    "start_time": "2022-07-21T15:11:57.251Z"
   },
   {
    "duration": 362,
    "start_time": "2022-07-21T15:11:57.635Z"
   },
   {
    "duration": 208,
    "start_time": "2022-07-21T15:11:58.000Z"
   },
   {
    "duration": 436,
    "start_time": "2022-07-21T15:11:58.210Z"
   },
   {
    "duration": 34,
    "start_time": "2022-07-21T15:11:58.648Z"
   },
   {
    "duration": 281,
    "start_time": "2022-07-21T15:11:58.684Z"
   },
   {
    "duration": 20,
    "start_time": "2022-07-21T15:11:58.967Z"
   },
   {
    "duration": 4,
    "start_time": "2022-07-21T15:11:58.989Z"
   },
   {
    "duration": 43,
    "start_time": "2022-07-21T15:11:58.995Z"
   },
   {
    "duration": 38,
    "start_time": "2022-07-21T15:11:59.040Z"
   },
   {
    "duration": 25,
    "start_time": "2022-07-21T15:11:59.080Z"
   },
   {
    "duration": 18,
    "start_time": "2022-07-21T15:11:59.108Z"
   },
   {
    "duration": 76,
    "start_time": "2022-07-21T15:11:59.128Z"
   },
   {
    "duration": 65,
    "start_time": "2022-07-21T15:11:59.206Z"
   },
   {
    "duration": 3,
    "start_time": "2022-07-21T15:11:59.273Z"
   },
   {
    "duration": 13,
    "start_time": "2022-07-21T15:11:59.278Z"
   },
   {
    "duration": 307973,
    "start_time": "2022-07-21T15:11:59.292Z"
   },
   {
    "duration": 436,
    "start_time": "2022-07-21T15:17:07.268Z"
   },
   {
    "duration": 96,
    "start_time": "2022-07-21T15:17:07.705Z"
   },
   {
    "duration": 3,
    "start_time": "2022-07-21T15:17:07.803Z"
   },
   {
    "duration": 12,
    "start_time": "2022-07-21T15:17:07.807Z"
   },
   {
    "duration": 17,
    "start_time": "2022-07-21T15:17:07.821Z"
   },
   {
    "duration": 36,
    "start_time": "2022-07-21T15:17:07.840Z"
   },
   {
    "duration": 16,
    "start_time": "2022-07-21T15:17:07.878Z"
   },
   {
    "duration": 32,
    "start_time": "2022-07-21T15:17:07.895Z"
   },
   {
    "duration": 2180,
    "start_time": "2022-07-21T15:17:07.929Z"
   },
   {
    "duration": 18,
    "start_time": "2022-07-21T15:17:10.110Z"
   },
   {
    "duration": 83,
    "start_time": "2022-07-21T15:17:10.130Z"
   },
   {
    "duration": 5,
    "start_time": "2022-07-21T15:17:10.215Z"
   },
   {
    "duration": 116,
    "start_time": "2022-07-21T15:17:10.224Z"
   },
   {
    "duration": 956,
    "start_time": "2022-07-21T15:18:45.204Z"
   },
   {
    "duration": 3,
    "start_time": "2022-07-21T15:19:18.363Z"
   },
   {
    "duration": 1080,
    "start_time": "2022-07-21T15:19:25.107Z"
   },
   {
    "duration": 910,
    "start_time": "2022-07-21T15:20:17.352Z"
   },
   {
    "duration": 65,
    "start_time": "2022-07-21T15:20:43.436Z"
   },
   {
    "duration": 1106,
    "start_time": "2022-07-21T15:20:51.363Z"
   },
   {
    "duration": 69,
    "start_time": "2022-07-21T15:21:25.195Z"
   },
   {
    "duration": 1108,
    "start_time": "2022-07-21T15:21:30.530Z"
   },
   {
    "duration": 65,
    "start_time": "2022-07-21T15:24:58.865Z"
   },
   {
    "duration": 72621,
    "start_time": "2022-07-21T15:25:04.651Z"
   },
   {
    "duration": 49,
    "start_time": "2022-07-21T15:29:09.658Z"
   },
   {
    "duration": 7,
    "start_time": "2022-07-21T15:29:19.009Z"
   },
   {
    "duration": 2752,
    "start_time": "2022-07-21T15:29:22.160Z"
   },
   {
    "duration": 1242,
    "start_time": "2022-07-21T15:29:24.915Z"
   },
   {
    "duration": 139,
    "start_time": "2022-07-21T15:29:26.159Z"
   },
   {
    "duration": 30,
    "start_time": "2022-07-21T15:29:26.300Z"
   },
   {
    "duration": 8,
    "start_time": "2022-07-21T15:29:26.332Z"
   },
   {
    "duration": 40,
    "start_time": "2022-07-21T15:29:26.342Z"
   },
   {
    "duration": 99,
    "start_time": "2022-07-21T15:29:26.384Z"
   },
   {
    "duration": 123,
    "start_time": "2022-07-21T15:29:26.485Z"
   },
   {
    "duration": 56,
    "start_time": "2022-07-21T15:29:26.610Z"
   },
   {
    "duration": 365,
    "start_time": "2022-07-21T15:29:26.668Z"
   },
   {
    "duration": 61,
    "start_time": "2022-07-21T15:29:27.034Z"
   },
   {
    "duration": 381,
    "start_time": "2022-07-21T15:29:27.097Z"
   },
   {
    "duration": 388,
    "start_time": "2022-07-21T15:29:27.480Z"
   },
   {
    "duration": 224,
    "start_time": "2022-07-21T15:29:27.870Z"
   },
   {
    "duration": 376,
    "start_time": "2022-07-21T15:29:28.095Z"
   },
   {
    "duration": 28,
    "start_time": "2022-07-21T15:29:28.472Z"
   },
   {
    "duration": 363,
    "start_time": "2022-07-21T15:29:28.502Z"
   },
   {
    "duration": 22,
    "start_time": "2022-07-21T15:29:28.866Z"
   },
   {
    "duration": 4,
    "start_time": "2022-07-21T15:29:28.890Z"
   },
   {
    "duration": 32,
    "start_time": "2022-07-21T15:29:28.895Z"
   },
   {
    "duration": 38,
    "start_time": "2022-07-21T15:29:28.929Z"
   },
   {
    "duration": 24,
    "start_time": "2022-07-21T15:29:28.968Z"
   },
   {
    "duration": 19,
    "start_time": "2022-07-21T15:29:28.994Z"
   },
   {
    "duration": 70,
    "start_time": "2022-07-21T15:29:29.015Z"
   },
   {
    "duration": 56,
    "start_time": "2022-07-21T15:29:29.087Z"
   },
   {
    "duration": 3,
    "start_time": "2022-07-21T15:29:29.145Z"
   },
   {
    "duration": 3,
    "start_time": "2022-07-21T15:29:29.164Z"
   },
   {
    "duration": 313191,
    "start_time": "2022-07-21T15:29:29.172Z"
   },
   {
    "duration": 419,
    "start_time": "2022-07-21T15:34:42.365Z"
   },
   {
    "duration": 100,
    "start_time": "2022-07-21T15:34:42.786Z"
   },
   {
    "duration": 4,
    "start_time": "2022-07-21T15:34:42.887Z"
   },
   {
    "duration": 13,
    "start_time": "2022-07-21T15:34:42.892Z"
   },
   {
    "duration": 33,
    "start_time": "2022-07-21T15:34:42.906Z"
   },
   {
    "duration": 25,
    "start_time": "2022-07-21T15:34:42.941Z"
   },
   {
    "duration": 15,
    "start_time": "2022-07-21T15:34:42.968Z"
   },
   {
    "duration": 38,
    "start_time": "2022-07-21T15:34:42.985Z"
   },
   {
    "duration": 2057,
    "start_time": "2022-07-21T15:34:43.024Z"
   },
   {
    "duration": 16,
    "start_time": "2022-07-21T15:34:45.083Z"
   },
   {
    "duration": 85,
    "start_time": "2022-07-21T15:34:45.101Z"
   },
   {
    "duration": 5,
    "start_time": "2022-07-21T15:34:45.188Z"
   },
   {
    "duration": 49,
    "start_time": "2022-07-21T15:43:06.293Z"
   },
   {
    "duration": 9,
    "start_time": "2022-07-21T15:43:38.927Z"
   },
   {
    "duration": 1807,
    "start_time": "2022-07-21T15:43:43.215Z"
   },
   {
    "duration": 77,
    "start_time": "2022-07-21T15:43:53.694Z"
   },
   {
    "duration": 12,
    "start_time": "2022-07-21T15:44:23.758Z"
   },
   {
    "duration": 10,
    "start_time": "2022-07-21T15:44:31.189Z"
   },
   {
    "duration": 3,
    "start_time": "2022-07-21T15:45:05.533Z"
   },
   {
    "duration": 1260,
    "start_time": "2022-07-21T15:45:05.538Z"
   },
   {
    "duration": 141,
    "start_time": "2022-07-21T15:45:06.799Z"
   },
   {
    "duration": 35,
    "start_time": "2022-07-21T15:45:06.941Z"
   },
   {
    "duration": 9,
    "start_time": "2022-07-21T15:45:06.979Z"
   },
   {
    "duration": 30,
    "start_time": "2022-07-21T15:45:06.990Z"
   },
   {
    "duration": 111,
    "start_time": "2022-07-21T15:45:07.022Z"
   },
   {
    "duration": 150,
    "start_time": "2022-07-21T15:45:07.134Z"
   },
   {
    "duration": 44,
    "start_time": "2022-07-21T15:45:07.286Z"
   },
   {
    "duration": 404,
    "start_time": "2022-07-21T15:45:07.332Z"
   },
   {
    "duration": 60,
    "start_time": "2022-07-21T15:45:07.737Z"
   },
   {
    "duration": 432,
    "start_time": "2022-07-21T15:45:07.799Z"
   },
   {
    "duration": 410,
    "start_time": "2022-07-21T15:45:08.232Z"
   },
   {
    "duration": 234,
    "start_time": "2022-07-21T15:45:08.645Z"
   },
   {
    "duration": 502,
    "start_time": "2022-07-21T15:45:08.881Z"
   },
   {
    "duration": 30,
    "start_time": "2022-07-21T15:45:09.385Z"
   },
   {
    "duration": 310,
    "start_time": "2022-07-21T15:45:09.416Z"
   },
   {
    "duration": 22,
    "start_time": "2022-07-21T15:45:09.728Z"
   },
   {
    "duration": 5,
    "start_time": "2022-07-21T15:45:09.752Z"
   },
   {
    "duration": 34,
    "start_time": "2022-07-21T15:45:09.765Z"
   },
   {
    "duration": 24,
    "start_time": "2022-07-21T15:45:09.801Z"
   },
   {
    "duration": 57,
    "start_time": "2022-07-21T15:45:09.826Z"
   },
   {
    "duration": 19,
    "start_time": "2022-07-21T15:45:09.885Z"
   },
   {
    "duration": 64,
    "start_time": "2022-07-21T15:45:09.906Z"
   },
   {
    "duration": 74,
    "start_time": "2022-07-21T15:45:09.975Z"
   },
   {
    "duration": 4,
    "start_time": "2022-07-21T15:45:10.051Z"
   },
   {
    "duration": 22,
    "start_time": "2022-07-21T15:45:10.056Z"
   },
   {
    "duration": 318392,
    "start_time": "2022-07-21T15:45:10.080Z"
   },
   {
    "duration": 368,
    "start_time": "2022-07-21T15:50:28.474Z"
   },
   {
    "duration": 107,
    "start_time": "2022-07-21T15:50:28.844Z"
   },
   {
    "duration": 4,
    "start_time": "2022-07-21T15:50:28.952Z"
   },
   {
    "duration": 7,
    "start_time": "2022-07-21T15:50:28.963Z"
   },
   {
    "duration": 31,
    "start_time": "2022-07-21T15:50:28.971Z"
   },
   {
    "duration": 40,
    "start_time": "2022-07-21T15:50:29.004Z"
   },
   {
    "duration": 29,
    "start_time": "2022-07-21T15:50:29.045Z"
   },
   {
    "duration": 36,
    "start_time": "2022-07-21T15:50:29.076Z"
   },
   {
    "duration": 2250,
    "start_time": "2022-07-21T15:50:29.114Z"
   },
   {
    "duration": 20,
    "start_time": "2022-07-21T15:50:31.365Z"
   },
   {
    "duration": 95,
    "start_time": "2022-07-21T15:50:31.387Z"
   },
   {
    "duration": 6,
    "start_time": "2022-07-21T15:50:31.484Z"
   },
   {
    "duration": 181481,
    "start_time": "2022-07-21T15:50:31.496Z"
   },
   {
    "duration": 91,
    "start_time": "2022-07-21T15:53:32.979Z"
   },
   {
    "duration": 13,
    "start_time": "2022-07-21T16:40:09.053Z"
   },
   {
    "duration": 10,
    "start_time": "2022-07-21T16:40:13.823Z"
   },
   {
    "duration": 267,
    "start_time": "2022-07-21T16:40:40.113Z"
   },
   {
    "duration": 161,
    "start_time": "2022-07-21T16:41:06.442Z"
   },
   {
    "duration": 1299,
    "start_time": "2022-07-21T16:41:47.700Z"
   },
   {
    "duration": 196,
    "start_time": "2022-07-21T16:42:22.062Z"
   },
   {
    "duration": 180,
    "start_time": "2022-07-21T16:42:33.308Z"
   },
   {
    "duration": 6,
    "start_time": "2022-07-21T16:44:28.482Z"
   },
   {
    "duration": 931,
    "start_time": "2022-07-21T16:44:28.492Z"
   },
   {
    "duration": 164,
    "start_time": "2022-07-21T16:44:29.425Z"
   },
   {
    "duration": 17,
    "start_time": "2022-07-21T16:44:29.592Z"
   },
   {
    "duration": 7,
    "start_time": "2022-07-21T16:44:29.610Z"
   },
   {
    "duration": 54,
    "start_time": "2022-07-21T16:44:29.618Z"
   },
   {
    "duration": 183,
    "start_time": "2022-07-21T16:44:29.674Z"
   },
   {
    "duration": 109,
    "start_time": "2022-07-21T16:44:29.863Z"
   },
   {
    "duration": 35,
    "start_time": "2022-07-21T16:44:29.975Z"
   },
   {
    "duration": 336,
    "start_time": "2022-07-21T16:44:30.012Z"
   },
   {
    "duration": 71,
    "start_time": "2022-07-21T16:44:30.350Z"
   },
   {
    "duration": 522,
    "start_time": "2022-07-21T16:44:30.423Z"
   },
   {
    "duration": 452,
    "start_time": "2022-07-21T16:44:30.947Z"
   },
   {
    "duration": 240,
    "start_time": "2022-07-21T16:44:31.401Z"
   },
   {
    "duration": 466,
    "start_time": "2022-07-21T16:44:31.643Z"
   },
   {
    "duration": 25,
    "start_time": "2022-07-21T16:44:32.110Z"
   },
   {
    "duration": 342,
    "start_time": "2022-07-21T16:44:32.138Z"
   },
   {
    "duration": 25,
    "start_time": "2022-07-21T16:44:32.482Z"
   },
   {
    "duration": 12,
    "start_time": "2022-07-21T16:44:32.509Z"
   },
   {
    "duration": 52,
    "start_time": "2022-07-21T16:44:32.523Z"
   },
   {
    "duration": 38,
    "start_time": "2022-07-21T16:44:32.578Z"
   },
   {
    "duration": 53,
    "start_time": "2022-07-21T16:44:32.619Z"
   },
   {
    "duration": 17,
    "start_time": "2022-07-21T16:44:32.674Z"
   },
   {
    "duration": 110,
    "start_time": "2022-07-21T16:44:32.698Z"
   },
   {
    "duration": 81,
    "start_time": "2022-07-21T16:44:32.810Z"
   },
   {
    "duration": 4,
    "start_time": "2022-07-21T16:44:32.893Z"
   },
   {
    "duration": 9,
    "start_time": "2022-07-21T16:44:32.899Z"
   },
   {
    "duration": 345961,
    "start_time": "2022-07-21T16:44:32.910Z"
   },
   {
    "duration": 521,
    "start_time": "2022-07-21T16:50:18.873Z"
   },
   {
    "duration": 68,
    "start_time": "2022-07-21T16:50:19.396Z"
   },
   {
    "duration": 7,
    "start_time": "2022-07-21T16:50:19.468Z"
   },
   {
    "duration": 14,
    "start_time": "2022-07-21T16:50:19.478Z"
   },
   {
    "duration": 22,
    "start_time": "2022-07-21T16:50:19.494Z"
   },
   {
    "duration": 31,
    "start_time": "2022-07-21T16:50:19.518Z"
   },
   {
    "duration": 29,
    "start_time": "2022-07-21T16:50:19.551Z"
   },
   {
    "duration": 9,
    "start_time": "2022-07-21T16:50:19.581Z"
   },
   {
    "duration": 2345,
    "start_time": "2022-07-21T16:50:19.591Z"
   },
   {
    "duration": 26,
    "start_time": "2022-07-21T16:50:21.938Z"
   },
   {
    "duration": 73,
    "start_time": "2022-07-21T16:50:21.965Z"
   },
   {
    "duration": 4,
    "start_time": "2022-07-21T16:50:22.040Z"
   },
   {
    "duration": 25118,
    "start_time": "2022-07-21T16:50:22.045Z"
   },
   {
    "duration": 0,
    "start_time": "2022-07-21T16:50:47.175Z"
   },
   {
    "duration": 0,
    "start_time": "2022-07-21T16:50:47.177Z"
   },
   {
    "duration": 31023,
    "start_time": "2022-07-21T16:51:54.750Z"
   },
   {
    "duration": 30716,
    "start_time": "2022-07-21T16:52:48.049Z"
   },
   {
    "duration": 4,
    "start_time": "2022-07-21T16:53:40.489Z"
   },
   {
    "duration": 30788,
    "start_time": "2022-07-21T16:53:41.933Z"
   },
   {
    "duration": 4,
    "start_time": "2022-07-21T16:54:39.670Z"
   },
   {
    "duration": 418059,
    "start_time": "2022-07-21T16:54:40.519Z"
   },
   {
    "duration": 11,
    "start_time": "2022-07-21T17:01:58.716Z"
   },
   {
    "duration": 154,
    "start_time": "2022-07-21T17:01:59.541Z"
   },
   {
    "duration": 50,
    "start_time": "2022-07-21T23:08:45.270Z"
   },
   {
    "duration": 1588,
    "start_time": "2022-07-21T23:08:48.987Z"
   },
   {
    "duration": 1280,
    "start_time": "2022-07-21T23:08:50.577Z"
   },
   {
    "duration": 137,
    "start_time": "2022-07-21T23:08:51.859Z"
   },
   {
    "duration": 36,
    "start_time": "2022-07-21T23:08:51.998Z"
   },
   {
    "duration": 8,
    "start_time": "2022-07-21T23:08:52.036Z"
   },
   {
    "duration": 29,
    "start_time": "2022-07-21T23:08:52.045Z"
   },
   {
    "duration": 103,
    "start_time": "2022-07-21T23:08:52.076Z"
   },
   {
    "duration": 139,
    "start_time": "2022-07-21T23:08:52.180Z"
   },
   {
    "duration": 41,
    "start_time": "2022-07-21T23:08:52.321Z"
   },
   {
    "duration": 385,
    "start_time": "2022-07-21T23:08:52.364Z"
   },
   {
    "duration": 46,
    "start_time": "2022-07-21T23:08:52.750Z"
   },
   {
    "duration": 398,
    "start_time": "2022-07-21T23:08:52.798Z"
   },
   {
    "duration": 396,
    "start_time": "2022-07-21T23:08:53.197Z"
   },
   {
    "duration": 224,
    "start_time": "2022-07-21T23:08:53.597Z"
   },
   {
    "duration": 474,
    "start_time": "2022-07-21T23:08:53.823Z"
   },
   {
    "duration": 34,
    "start_time": "2022-07-21T23:08:54.300Z"
   },
   {
    "duration": 323,
    "start_time": "2022-07-21T23:08:54.336Z"
   },
   {
    "duration": 22,
    "start_time": "2022-07-21T23:08:54.661Z"
   },
   {
    "duration": 5,
    "start_time": "2022-07-21T23:08:54.684Z"
   },
   {
    "duration": 48,
    "start_time": "2022-07-21T23:08:54.690Z"
   },
   {
    "duration": 21,
    "start_time": "2022-07-21T23:08:54.739Z"
   },
   {
    "duration": 30,
    "start_time": "2022-07-21T23:08:54.761Z"
   },
   {
    "duration": 32,
    "start_time": "2022-07-21T23:08:54.792Z"
   },
   {
    "duration": 48,
    "start_time": "2022-07-21T23:08:54.825Z"
   },
   {
    "duration": 72,
    "start_time": "2022-07-21T23:08:54.875Z"
   },
   {
    "duration": 2,
    "start_time": "2022-07-21T23:08:54.949Z"
   },
   {
    "duration": 9,
    "start_time": "2022-07-21T23:08:54.953Z"
   },
   {
    "duration": 306456,
    "start_time": "2022-07-21T23:08:54.963Z"
   },
   {
    "duration": 468,
    "start_time": "2022-07-21T23:14:01.427Z"
   },
   {
    "duration": 123,
    "start_time": "2022-07-21T23:14:01.897Z"
   },
   {
    "duration": 4,
    "start_time": "2022-07-21T23:14:02.024Z"
   },
   {
    "duration": 21,
    "start_time": "2022-07-21T23:14:02.030Z"
   },
   {
    "duration": 55,
    "start_time": "2022-07-21T23:14:02.053Z"
   },
   {
    "duration": 58,
    "start_time": "2022-07-21T23:14:02.110Z"
   },
   {
    "duration": 31,
    "start_time": "2022-07-21T23:14:02.170Z"
   },
   {
    "duration": 52,
    "start_time": "2022-07-21T23:14:02.205Z"
   },
   {
    "duration": 2233,
    "start_time": "2022-07-21T23:14:02.259Z"
   },
   {
    "duration": 37,
    "start_time": "2022-07-21T23:14:04.494Z"
   },
   {
    "duration": 72,
    "start_time": "2022-07-21T23:14:04.533Z"
   },
   {
    "duration": 6,
    "start_time": "2022-07-21T23:14:04.607Z"
   },
   {
    "duration": 116217,
    "start_time": "2022-07-21T23:14:04.617Z"
   },
   {
    "duration": 11,
    "start_time": "2022-07-21T23:16:00.836Z"
   },
   {
    "duration": 221,
    "start_time": "2022-07-21T23:16:00.849Z"
   },
   {
    "duration": 134,
    "start_time": "2022-07-21T23:24:52.333Z"
   },
   {
    "duration": 4,
    "start_time": "2022-07-21T23:25:22.341Z"
   },
   {
    "duration": 62,
    "start_time": "2022-07-22T18:36:45.301Z"
   },
   {
    "duration": 1466,
    "start_time": "2022-07-22T18:52:58.513Z"
   },
   {
    "duration": 1071,
    "start_time": "2022-07-22T18:52:59.981Z"
   },
   {
    "duration": 130,
    "start_time": "2022-07-22T18:53:01.054Z"
   },
   {
    "duration": 31,
    "start_time": "2022-07-22T18:53:01.186Z"
   },
   {
    "duration": 17,
    "start_time": "2022-07-22T18:53:01.219Z"
   },
   {
    "duration": 46,
    "start_time": "2022-07-22T18:53:01.238Z"
   },
   {
    "duration": 105,
    "start_time": "2022-07-22T18:53:56.482Z"
   },
   {
    "duration": 13521,
    "start_time": "2022-07-22T18:54:37.741Z"
   },
   {
    "duration": 88,
    "start_time": "2022-07-22T18:55:27.461Z"
   },
   {
    "duration": 17,
    "start_time": "2022-07-22T18:55:37.640Z"
   },
   {
    "duration": 871,
    "start_time": "2022-07-22T18:57:03.797Z"
   },
   {
    "duration": 13,
    "start_time": "2022-07-22T18:57:37.552Z"
   },
   {
    "duration": 18,
    "start_time": "2022-07-22T18:57:48.941Z"
   },
   {
    "duration": 14545,
    "start_time": "2022-07-22T19:00:08.877Z"
   },
   {
    "duration": 78,
    "start_time": "2022-07-22T19:00:45.113Z"
   },
   {
    "duration": 14500,
    "start_time": "2022-07-22T19:01:42.239Z"
   },
   {
    "duration": 80,
    "start_time": "2022-07-22T19:02:12.120Z"
   },
   {
    "duration": 1246,
    "start_time": "2022-07-22T19:08:47.607Z"
   },
   {
    "duration": 756,
    "start_time": "2022-07-22T19:08:48.855Z"
   },
   {
    "duration": 131,
    "start_time": "2022-07-22T19:08:49.612Z"
   },
   {
    "duration": 28,
    "start_time": "2022-07-22T19:08:49.745Z"
   },
   {
    "duration": 11,
    "start_time": "2022-07-22T19:08:49.775Z"
   },
   {
    "duration": 30,
    "start_time": "2022-07-22T19:08:49.788Z"
   },
   {
    "duration": 89,
    "start_time": "2022-07-22T19:08:49.820Z"
   },
   {
    "duration": 195,
    "start_time": "2022-07-22T19:08:49.911Z"
   },
   {
    "duration": 28803,
    "start_time": "2022-07-22T19:09:18.077Z"
   },
   {
    "duration": 11,
    "start_time": "2022-07-22T19:31:06.659Z"
   },
   {
    "duration": 854,
    "start_time": "2022-07-22T19:31:06.673Z"
   },
   {
    "duration": 146,
    "start_time": "2022-07-22T19:31:07.529Z"
   },
   {
    "duration": 18,
    "start_time": "2022-07-22T19:31:07.678Z"
   },
   {
    "duration": 5,
    "start_time": "2022-07-22T19:31:07.698Z"
   },
   {
    "duration": 22,
    "start_time": "2022-07-22T19:31:07.704Z"
   },
   {
    "duration": 100,
    "start_time": "2022-07-22T19:31:07.727Z"
   },
   {
    "duration": 31496,
    "start_time": "2022-07-22T19:31:07.828Z"
   },
   {
    "duration": 124,
    "start_time": "2022-07-22T19:31:39.326Z"
   },
   {
    "duration": 32,
    "start_time": "2022-07-22T19:31:39.452Z"
   },
   {
    "duration": 312,
    "start_time": "2022-07-22T19:31:39.485Z"
   },
   {
    "duration": 20,
    "start_time": "2022-07-22T19:32:11.537Z"
   },
   {
    "duration": 45,
    "start_time": "2022-07-22T19:35:20.107Z"
   },
   {
    "duration": 68,
    "start_time": "2022-07-22T19:38:03.861Z"
   },
   {
    "duration": 24,
    "start_time": "2022-07-22T19:44:18.476Z"
   },
   {
    "duration": 34,
    "start_time": "2022-07-22T19:44:49.676Z"
   },
   {
    "duration": 19,
    "start_time": "2022-07-22T19:45:04.007Z"
   },
   {
    "duration": 17,
    "start_time": "2022-07-22T19:46:19.670Z"
   },
   {
    "duration": 18,
    "start_time": "2022-07-22T19:46:36.004Z"
   },
   {
    "duration": 17,
    "start_time": "2022-07-22T20:12:33.146Z"
   },
   {
    "duration": 19,
    "start_time": "2022-07-22T20:12:34.162Z"
   },
   {
    "duration": 23,
    "start_time": "2022-07-22T20:12:40.490Z"
   },
   {
    "duration": 29,
    "start_time": "2022-07-22T20:13:12.168Z"
   },
   {
    "duration": 10,
    "start_time": "2022-07-22T20:14:07.065Z"
   },
   {
    "duration": 30,
    "start_time": "2022-07-22T20:14:12.271Z"
   },
   {
    "duration": 56,
    "start_time": "2022-07-22T20:14:16.231Z"
   },
   {
    "duration": 4,
    "start_time": "2022-07-22T20:15:04.008Z"
   },
   {
    "duration": 740,
    "start_time": "2022-07-22T20:15:04.014Z"
   },
   {
    "duration": 123,
    "start_time": "2022-07-22T20:15:04.761Z"
   },
   {
    "duration": 16,
    "start_time": "2022-07-22T20:15:04.886Z"
   },
   {
    "duration": 5,
    "start_time": "2022-07-22T20:15:04.904Z"
   },
   {
    "duration": 26,
    "start_time": "2022-07-22T20:15:04.911Z"
   },
   {
    "duration": 106,
    "start_time": "2022-07-22T20:15:04.938Z"
   },
   {
    "duration": 28727,
    "start_time": "2022-07-22T20:15:05.046Z"
   },
   {
    "duration": 95,
    "start_time": "2022-07-22T20:15:33.775Z"
   },
   {
    "duration": 28,
    "start_time": "2022-07-22T20:15:33.872Z"
   },
   {
    "duration": 302,
    "start_time": "2022-07-22T20:15:33.901Z"
   },
   {
    "duration": 20,
    "start_time": "2022-07-22T20:15:34.205Z"
   },
   {
    "duration": 41,
    "start_time": "2022-07-22T20:15:34.226Z"
   },
   {
    "duration": 61,
    "start_time": "2022-07-22T20:15:34.270Z"
   },
   {
    "duration": 42,
    "start_time": "2022-07-22T20:15:49.257Z"
   },
   {
    "duration": 19,
    "start_time": "2022-07-22T20:16:33.747Z"
   },
   {
    "duration": 21,
    "start_time": "2022-07-22T20:16:34.891Z"
   },
   {
    "duration": 3,
    "start_time": "2022-07-22T20:17:15.405Z"
   },
   {
    "duration": 812,
    "start_time": "2022-07-22T20:17:15.414Z"
   },
   {
    "duration": 184,
    "start_time": "2022-07-22T20:17:16.229Z"
   },
   {
    "duration": 18,
    "start_time": "2022-07-22T20:17:16.415Z"
   },
   {
    "duration": 18,
    "start_time": "2022-07-22T20:17:16.435Z"
   },
   {
    "duration": 52,
    "start_time": "2022-07-22T20:17:16.466Z"
   },
   {
    "duration": 101,
    "start_time": "2022-07-22T20:17:16.520Z"
   },
   {
    "duration": 30351,
    "start_time": "2022-07-22T20:17:16.623Z"
   },
   {
    "duration": 104,
    "start_time": "2022-07-22T20:17:46.977Z"
   },
   {
    "duration": 28,
    "start_time": "2022-07-22T20:17:47.083Z"
   },
   {
    "duration": 318,
    "start_time": "2022-07-22T20:17:47.113Z"
   },
   {
    "duration": 29,
    "start_time": "2022-07-22T20:17:47.432Z"
   },
   {
    "duration": 22,
    "start_time": "2022-07-22T20:17:47.466Z"
   },
   {
    "duration": 47,
    "start_time": "2022-07-22T20:17:47.490Z"
   },
   {
    "duration": 394,
    "start_time": "2022-07-22T20:17:47.540Z"
   },
   {
    "duration": 364,
    "start_time": "2022-07-22T20:17:47.936Z"
   },
   {
    "duration": 211,
    "start_time": "2022-07-22T20:17:48.301Z"
   },
   {
    "duration": 380,
    "start_time": "2022-07-22T20:17:48.513Z"
   },
   {
    "duration": 20,
    "start_time": "2022-07-22T20:17:48.895Z"
   },
   {
    "duration": 379,
    "start_time": "2022-07-22T20:17:48.917Z"
   },
   {
    "duration": 20,
    "start_time": "2022-07-22T20:17:49.297Z"
   },
   {
    "duration": 4,
    "start_time": "2022-07-22T20:17:49.319Z"
   },
   {
    "duration": 47,
    "start_time": "2022-07-22T20:17:49.325Z"
   },
   {
    "duration": 20,
    "start_time": "2022-07-22T20:17:49.374Z"
   },
   {
    "duration": 27,
    "start_time": "2022-07-22T20:17:49.396Z"
   },
   {
    "duration": 11,
    "start_time": "2022-07-22T20:17:49.425Z"
   },
   {
    "duration": 63,
    "start_time": "2022-07-22T20:17:49.437Z"
   },
   {
    "duration": 43,
    "start_time": "2022-07-22T20:17:49.502Z"
   },
   {
    "duration": 3,
    "start_time": "2022-07-22T20:17:49.547Z"
   },
   {
    "duration": 26,
    "start_time": "2022-07-22T20:17:49.560Z"
   },
   {
    "duration": 294884,
    "start_time": "2022-07-22T20:17:49.587Z"
   },
   {
    "duration": 443,
    "start_time": "2022-07-22T20:22:44.475Z"
   },
   {
    "duration": 50,
    "start_time": "2022-07-22T20:22:44.919Z"
   },
   {
    "duration": 0,
    "start_time": "2022-07-22T20:22:44.971Z"
   },
   {
    "duration": 0,
    "start_time": "2022-07-22T20:22:44.975Z"
   },
   {
    "duration": 0,
    "start_time": "2022-07-22T20:22:44.976Z"
   },
   {
    "duration": 0,
    "start_time": "2022-07-22T20:22:44.978Z"
   },
   {
    "duration": 0,
    "start_time": "2022-07-22T20:22:44.979Z"
   },
   {
    "duration": 0,
    "start_time": "2022-07-22T20:22:44.981Z"
   },
   {
    "duration": 0,
    "start_time": "2022-07-22T20:22:44.982Z"
   },
   {
    "duration": 14,
    "start_time": "2022-07-22T20:26:22.098Z"
   },
   {
    "duration": 92,
    "start_time": "2022-07-22T20:39:27.050Z"
   },
   {
    "duration": 6,
    "start_time": "2022-07-22T20:39:52.275Z"
   },
   {
    "duration": 797,
    "start_time": "2022-07-22T20:39:52.284Z"
   },
   {
    "duration": 150,
    "start_time": "2022-07-22T20:39:53.084Z"
   },
   {
    "duration": 24,
    "start_time": "2022-07-22T20:39:53.236Z"
   },
   {
    "duration": 8,
    "start_time": "2022-07-22T20:39:53.262Z"
   },
   {
    "duration": 28,
    "start_time": "2022-07-22T20:39:53.272Z"
   },
   {
    "duration": 96,
    "start_time": "2022-07-22T20:39:53.302Z"
   },
   {
    "duration": 34197,
    "start_time": "2022-07-22T20:39:53.400Z"
   },
   {
    "duration": 124,
    "start_time": "2022-07-22T20:40:56.183Z"
   },
   {
    "duration": 4,
    "start_time": "2022-07-22T20:42:17.565Z"
   },
   {
    "duration": 756,
    "start_time": "2022-07-22T20:42:17.572Z"
   },
   {
    "duration": 139,
    "start_time": "2022-07-22T20:42:18.329Z"
   },
   {
    "duration": 17,
    "start_time": "2022-07-22T20:42:18.470Z"
   },
   {
    "duration": 7,
    "start_time": "2022-07-22T20:42:18.489Z"
   },
   {
    "duration": 22,
    "start_time": "2022-07-22T20:42:18.498Z"
   },
   {
    "duration": 105,
    "start_time": "2022-07-22T20:42:18.522Z"
   },
   {
    "duration": 112,
    "start_time": "2022-07-22T20:42:18.628Z"
   },
   {
    "duration": 36,
    "start_time": "2022-07-22T20:42:18.743Z"
   },
   {
    "duration": 309,
    "start_time": "2022-07-22T20:42:18.782Z"
   },
   {
    "duration": 26,
    "start_time": "2022-07-22T20:42:19.093Z"
   },
   {
    "duration": 23,
    "start_time": "2022-07-22T20:42:19.121Z"
   },
   {
    "duration": 65,
    "start_time": "2022-07-22T20:42:19.145Z"
   },
   {
    "duration": 372,
    "start_time": "2022-07-22T20:42:19.212Z"
   },
   {
    "duration": 387,
    "start_time": "2022-07-22T20:42:19.587Z"
   },
   {
    "duration": 222,
    "start_time": "2022-07-22T20:42:19.977Z"
   },
   {
    "duration": 425,
    "start_time": "2022-07-22T20:42:20.202Z"
   },
   {
    "duration": 20,
    "start_time": "2022-07-22T20:42:20.629Z"
   },
   {
    "duration": 328,
    "start_time": "2022-07-22T20:42:20.651Z"
   },
   {
    "duration": 26,
    "start_time": "2022-07-22T20:42:20.982Z"
   },
   {
    "duration": 6,
    "start_time": "2022-07-22T20:42:21.010Z"
   },
   {
    "duration": 59,
    "start_time": "2022-07-22T20:42:21.017Z"
   },
   {
    "duration": 24,
    "start_time": "2022-07-22T20:42:21.079Z"
   },
   {
    "duration": 27,
    "start_time": "2022-07-22T20:42:21.106Z"
   },
   {
    "duration": 26,
    "start_time": "2022-07-22T20:42:21.134Z"
   },
   {
    "duration": 58,
    "start_time": "2022-07-22T20:42:21.162Z"
   },
   {
    "duration": 60,
    "start_time": "2022-07-22T20:42:21.222Z"
   },
   {
    "duration": 3,
    "start_time": "2022-07-22T20:42:21.284Z"
   },
   {
    "duration": 8,
    "start_time": "2022-07-22T20:42:21.290Z"
   },
   {
    "duration": 115658,
    "start_time": "2022-07-22T20:42:21.300Z"
   },
   {
    "duration": 109,
    "start_time": "2022-07-22T20:44:16.960Z"
   },
   {
    "duration": 1,
    "start_time": "2022-07-22T20:44:17.070Z"
   },
   {
    "duration": 0,
    "start_time": "2022-07-22T20:44:17.072Z"
   },
   {
    "duration": 0,
    "start_time": "2022-07-22T20:44:17.073Z"
   },
   {
    "duration": 0,
    "start_time": "2022-07-22T20:44:17.074Z"
   },
   {
    "duration": 0,
    "start_time": "2022-07-22T20:44:17.076Z"
   },
   {
    "duration": 0,
    "start_time": "2022-07-22T20:44:17.077Z"
   },
   {
    "duration": 0,
    "start_time": "2022-07-22T20:44:17.079Z"
   },
   {
    "duration": 0,
    "start_time": "2022-07-22T20:44:17.080Z"
   },
   {
    "duration": 0,
    "start_time": "2022-07-22T20:44:17.081Z"
   },
   {
    "duration": 4,
    "start_time": "2022-07-22T20:44:22.007Z"
   },
   {
    "duration": 781,
    "start_time": "2022-07-22T20:44:22.013Z"
   },
   {
    "duration": 150,
    "start_time": "2022-07-22T20:44:22.796Z"
   },
   {
    "duration": 20,
    "start_time": "2022-07-22T20:44:22.948Z"
   },
   {
    "duration": 7,
    "start_time": "2022-07-22T20:44:22.970Z"
   },
   {
    "duration": 25,
    "start_time": "2022-07-22T20:44:22.978Z"
   },
   {
    "duration": 111,
    "start_time": "2022-07-22T20:44:23.005Z"
   },
   {
    "duration": 103,
    "start_time": "2022-07-22T20:44:23.117Z"
   },
   {
    "duration": 55,
    "start_time": "2022-07-22T20:44:23.222Z"
   },
   {
    "duration": 309,
    "start_time": "2022-07-22T20:44:23.279Z"
   },
   {
    "duration": 23,
    "start_time": "2022-07-22T20:44:23.590Z"
   },
   {
    "duration": 18,
    "start_time": "2022-07-22T20:44:23.614Z"
   },
   {
    "duration": 66,
    "start_time": "2022-07-22T20:44:23.634Z"
   },
   {
    "duration": 373,
    "start_time": "2022-07-22T20:44:23.702Z"
   },
   {
    "duration": 415,
    "start_time": "2022-07-22T20:44:24.077Z"
   },
   {
    "duration": 227,
    "start_time": "2022-07-22T20:44:24.494Z"
   },
   {
    "duration": 387,
    "start_time": "2022-07-22T20:44:24.723Z"
   },
   {
    "duration": 26,
    "start_time": "2022-07-22T20:44:25.112Z"
   },
   {
    "duration": 347,
    "start_time": "2022-07-22T20:44:25.140Z"
   },
   {
    "duration": 23,
    "start_time": "2022-07-22T20:44:25.488Z"
   },
   {
    "duration": 12,
    "start_time": "2022-07-22T20:44:25.513Z"
   },
   {
    "duration": 38,
    "start_time": "2022-07-22T20:44:25.527Z"
   },
   {
    "duration": 26,
    "start_time": "2022-07-22T20:44:25.567Z"
   },
   {
    "duration": 28,
    "start_time": "2022-07-22T20:44:25.597Z"
   },
   {
    "duration": 35,
    "start_time": "2022-07-22T20:44:25.626Z"
   },
   {
    "duration": 55,
    "start_time": "2022-07-22T20:44:25.663Z"
   },
   {
    "duration": 61,
    "start_time": "2022-07-22T20:44:25.719Z"
   },
   {
    "duration": 3,
    "start_time": "2022-07-22T20:44:25.782Z"
   },
   {
    "duration": 37,
    "start_time": "2022-07-22T20:44:25.787Z"
   },
   {
    "duration": 314356,
    "start_time": "2022-07-22T20:44:25.826Z"
   },
   {
    "duration": 542,
    "start_time": "2022-07-22T20:49:40.184Z"
   },
   {
    "duration": 16,
    "start_time": "2022-07-22T20:49:40.727Z"
   },
   {
    "duration": 122,
    "start_time": "2022-07-22T20:49:40.744Z"
   },
   {
    "duration": 3,
    "start_time": "2022-07-22T20:49:40.873Z"
   },
   {
    "duration": 9,
    "start_time": "2022-07-22T20:49:40.878Z"
   },
   {
    "duration": 22,
    "start_time": "2022-07-22T20:49:40.889Z"
   },
   {
    "duration": 23,
    "start_time": "2022-07-22T20:49:40.913Z"
   },
   {
    "duration": 26,
    "start_time": "2022-07-22T20:49:50.591Z"
   },
   {
    "duration": 26603,
    "start_time": "2022-07-22T20:52:25.009Z"
   },
   {
    "duration": 7,
    "start_time": "2022-07-22T20:52:55.250Z"
   },
   {
    "duration": 2027,
    "start_time": "2022-07-22T20:52:56.762Z"
   },
   {
    "duration": 17,
    "start_time": "2022-07-22T20:53:02.646Z"
   },
   {
    "duration": 382,
    "start_time": "2022-07-22T20:56:35.174Z"
   },
   {
    "duration": 4,
    "start_time": "2022-07-22T20:56:53.074Z"
   },
   {
    "duration": 836,
    "start_time": "2022-07-22T20:56:53.081Z"
   },
   {
    "duration": 154,
    "start_time": "2022-07-22T20:56:53.918Z"
   },
   {
    "duration": 16,
    "start_time": "2022-07-22T20:56:54.075Z"
   },
   {
    "duration": 8,
    "start_time": "2022-07-22T20:56:54.094Z"
   },
   {
    "duration": 40,
    "start_time": "2022-07-22T20:56:54.104Z"
   },
   {
    "duration": 113,
    "start_time": "2022-07-22T20:56:54.145Z"
   },
   {
    "duration": 191,
    "start_time": "2022-07-22T20:56:54.261Z"
   },
   {
    "duration": 117,
    "start_time": "2022-07-22T20:56:54.454Z"
   },
   {
    "duration": 32,
    "start_time": "2022-07-22T20:56:54.574Z"
   },
   {
    "duration": 351,
    "start_time": "2022-07-22T20:56:54.609Z"
   },
   {
    "duration": 29,
    "start_time": "2022-07-22T20:56:54.967Z"
   },
   {
    "duration": 25,
    "start_time": "2022-07-22T20:56:54.997Z"
   },
   {
    "duration": 63,
    "start_time": "2022-07-22T20:56:55.024Z"
   },
   {
    "duration": 418,
    "start_time": "2022-07-22T20:56:55.089Z"
   },
   {
    "duration": 423,
    "start_time": "2022-07-22T20:56:55.509Z"
   },
   {
    "duration": 233,
    "start_time": "2022-07-22T20:56:55.934Z"
   },
   {
    "duration": 586,
    "start_time": "2022-07-22T20:56:56.168Z"
   },
   {
    "duration": 26,
    "start_time": "2022-07-22T20:56:56.756Z"
   },
   {
    "duration": 349,
    "start_time": "2022-07-22T20:56:56.785Z"
   },
   {
    "duration": 35,
    "start_time": "2022-07-22T20:56:57.136Z"
   },
   {
    "duration": 5,
    "start_time": "2022-07-22T20:56:57.174Z"
   },
   {
    "duration": 35,
    "start_time": "2022-07-22T20:56:57.180Z"
   },
   {
    "duration": 23,
    "start_time": "2022-07-22T20:56:57.216Z"
   },
   {
    "duration": 41,
    "start_time": "2022-07-22T20:56:57.240Z"
   },
   {
    "duration": 13,
    "start_time": "2022-07-22T20:56:57.283Z"
   },
   {
    "duration": 82,
    "start_time": "2022-07-22T20:56:57.298Z"
   },
   {
    "duration": 50,
    "start_time": "2022-07-22T20:56:57.382Z"
   },
   {
    "duration": 2,
    "start_time": "2022-07-22T20:56:57.434Z"
   },
   {
    "duration": 14,
    "start_time": "2022-07-22T20:56:57.438Z"
   },
   {
    "duration": 64450,
    "start_time": "2022-07-22T20:56:57.454Z"
   },
   {
    "duration": 132,
    "start_time": "2022-07-22T20:58:01.906Z"
   },
   {
    "duration": 0,
    "start_time": "2022-07-22T20:58:02.040Z"
   },
   {
    "duration": 0,
    "start_time": "2022-07-22T20:58:02.041Z"
   },
   {
    "duration": 0,
    "start_time": "2022-07-22T20:58:02.043Z"
   },
   {
    "duration": 0,
    "start_time": "2022-07-22T20:58:02.044Z"
   },
   {
    "duration": 0,
    "start_time": "2022-07-22T20:58:02.044Z"
   },
   {
    "duration": 0,
    "start_time": "2022-07-22T20:58:02.045Z"
   },
   {
    "duration": 5,
    "start_time": "2022-07-22T20:59:34.096Z"
   },
   {
    "duration": 843,
    "start_time": "2022-07-22T20:59:34.106Z"
   },
   {
    "duration": 136,
    "start_time": "2022-07-22T20:59:34.951Z"
   },
   {
    "duration": 22,
    "start_time": "2022-07-22T20:59:35.089Z"
   },
   {
    "duration": 20,
    "start_time": "2022-07-22T20:59:35.113Z"
   },
   {
    "duration": 29,
    "start_time": "2022-07-22T20:59:35.135Z"
   },
   {
    "duration": 106,
    "start_time": "2022-07-22T20:59:35.166Z"
   },
   {
    "duration": 34400,
    "start_time": "2022-07-22T20:59:35.274Z"
   },
   {
    "duration": 105,
    "start_time": "2022-07-22T21:00:09.677Z"
   },
   {
    "duration": 31,
    "start_time": "2022-07-22T21:00:09.784Z"
   },
   {
    "duration": 335,
    "start_time": "2022-07-22T21:00:09.818Z"
   },
   {
    "duration": 33,
    "start_time": "2022-07-22T21:00:10.154Z"
   },
   {
    "duration": 25,
    "start_time": "2022-07-22T21:00:10.189Z"
   },
   {
    "duration": 70,
    "start_time": "2022-07-22T21:00:10.216Z"
   },
   {
    "duration": 431,
    "start_time": "2022-07-22T21:00:10.290Z"
   },
   {
    "duration": 456,
    "start_time": "2022-07-22T21:00:10.723Z"
   },
   {
    "duration": 252,
    "start_time": "2022-07-22T21:00:11.181Z"
   },
   {
    "duration": 443,
    "start_time": "2022-07-22T21:00:11.435Z"
   },
   {
    "duration": 23,
    "start_time": "2022-07-22T21:00:11.880Z"
   },
   {
    "duration": 321,
    "start_time": "2022-07-22T21:00:11.905Z"
   },
   {
    "duration": 20,
    "start_time": "2022-07-22T21:00:12.227Z"
   },
   {
    "duration": 14,
    "start_time": "2022-07-22T21:00:12.249Z"
   },
   {
    "duration": 47,
    "start_time": "2022-07-22T21:00:12.264Z"
   },
   {
    "duration": 21,
    "start_time": "2022-07-22T21:00:12.313Z"
   },
   {
    "duration": 35,
    "start_time": "2022-07-22T21:00:12.335Z"
   },
   {
    "duration": 14,
    "start_time": "2022-07-22T21:00:12.376Z"
   },
   {
    "duration": 52,
    "start_time": "2022-07-22T21:00:12.393Z"
   },
   {
    "duration": 67,
    "start_time": "2022-07-22T21:00:12.446Z"
   },
   {
    "duration": 3,
    "start_time": "2022-07-22T21:00:12.515Z"
   },
   {
    "duration": 13,
    "start_time": "2022-07-22T21:00:12.520Z"
   },
   {
    "duration": 317232,
    "start_time": "2022-07-22T21:00:12.535Z"
   },
   {
    "duration": 550,
    "start_time": "2022-07-22T21:05:29.769Z"
   },
   {
    "duration": 15,
    "start_time": "2022-07-22T21:05:30.321Z"
   },
   {
    "duration": 51,
    "start_time": "2022-07-22T21:05:30.337Z"
   },
   {
    "duration": 0,
    "start_time": "2022-07-22T21:05:30.390Z"
   },
   {
    "duration": 0,
    "start_time": "2022-07-22T21:05:30.392Z"
   },
   {
    "duration": 0,
    "start_time": "2022-07-22T21:05:30.394Z"
   },
   {
    "duration": 0,
    "start_time": "2022-07-22T21:05:30.396Z"
   },
   {
    "duration": 1426,
    "start_time": "2022-07-22T21:07:00.704Z"
   },
   {
    "duration": 870,
    "start_time": "2022-07-22T21:07:02.132Z"
   },
   {
    "duration": 162,
    "start_time": "2022-07-22T21:07:03.004Z"
   },
   {
    "duration": 30,
    "start_time": "2022-07-22T21:07:03.169Z"
   },
   {
    "duration": 11,
    "start_time": "2022-07-22T21:07:03.201Z"
   },
   {
    "duration": 46,
    "start_time": "2022-07-22T21:07:03.214Z"
   },
   {
    "duration": 102,
    "start_time": "2022-07-22T21:07:03.262Z"
   },
   {
    "duration": 136,
    "start_time": "2022-07-22T21:07:03.366Z"
   },
   {
    "duration": 41,
    "start_time": "2022-07-22T21:07:03.505Z"
   },
   {
    "duration": 380,
    "start_time": "2022-07-22T21:07:03.549Z"
   },
   {
    "duration": 19,
    "start_time": "2022-07-22T21:07:03.931Z"
   },
   {
    "duration": 22,
    "start_time": "2022-07-22T21:07:03.961Z"
   },
   {
    "duration": 51,
    "start_time": "2022-07-22T21:07:03.985Z"
   },
   {
    "duration": 412,
    "start_time": "2022-07-22T21:07:04.038Z"
   },
   {
    "duration": 449,
    "start_time": "2022-07-22T21:07:04.451Z"
   },
   {
    "duration": 243,
    "start_time": "2022-07-22T21:07:04.902Z"
   },
   {
    "duration": 488,
    "start_time": "2022-07-22T21:07:05.147Z"
   },
   {
    "duration": 35,
    "start_time": "2022-07-22T21:07:05.637Z"
   },
   {
    "duration": 395,
    "start_time": "2022-07-22T21:07:05.675Z"
   },
   {
    "duration": 24,
    "start_time": "2022-07-22T21:07:06.072Z"
   },
   {
    "duration": 5,
    "start_time": "2022-07-22T21:07:06.098Z"
   },
   {
    "duration": 30,
    "start_time": "2022-07-22T21:07:06.105Z"
   },
   {
    "duration": 43,
    "start_time": "2022-07-22T21:07:06.136Z"
   },
   {
    "duration": 41,
    "start_time": "2022-07-22T21:07:06.181Z"
   },
   {
    "duration": 20,
    "start_time": "2022-07-22T21:07:06.224Z"
   },
   {
    "duration": 93,
    "start_time": "2022-07-22T21:07:06.246Z"
   },
   {
    "duration": 77,
    "start_time": "2022-07-22T21:07:06.341Z"
   },
   {
    "duration": 3,
    "start_time": "2022-07-22T21:07:06.423Z"
   },
   {
    "duration": 12,
    "start_time": "2022-07-22T21:07:06.428Z"
   },
   {
    "duration": 310825,
    "start_time": "2022-07-22T21:07:06.443Z"
   },
   {
    "duration": 371,
    "start_time": "2022-07-22T21:12:17.360Z"
   },
   {
    "duration": 16,
    "start_time": "2022-07-22T21:12:17.733Z"
   },
   {
    "duration": 111,
    "start_time": "2022-07-22T21:12:17.751Z"
   },
   {
    "duration": 5,
    "start_time": "2022-07-22T21:12:17.863Z"
   },
   {
    "duration": 8,
    "start_time": "2022-07-22T21:12:17.870Z"
   },
   {
    "duration": 29,
    "start_time": "2022-07-22T21:12:17.879Z"
   },
   {
    "duration": 24,
    "start_time": "2022-07-22T21:12:17.909Z"
   },
   {
    "duration": 35,
    "start_time": "2022-07-22T21:12:17.935Z"
   },
   {
    "duration": 27099,
    "start_time": "2022-07-22T21:12:17.972Z"
   },
   {
    "duration": 7,
    "start_time": "2022-07-22T21:13:32.562Z"
   },
   {
    "duration": 2167,
    "start_time": "2022-07-22T21:13:50.447Z"
   },
   {
    "duration": 20,
    "start_time": "2022-07-22T21:13:57.470Z"
   },
   {
    "duration": 2359,
    "start_time": "2022-07-22T21:15:26.206Z"
   },
   {
    "duration": 2341,
    "start_time": "2022-07-22T21:15:41.888Z"
   },
   {
    "duration": 52,
    "start_time": "2022-07-22T21:19:57.563Z"
   },
   {
    "duration": 26,
    "start_time": "2022-07-22T21:22:34.953Z"
   },
   {
    "duration": 73,
    "start_time": "2022-07-22T21:48:50.884Z"
   },
   {
    "duration": 4,
    "start_time": "2022-07-22T22:17:14.824Z"
   },
   {
    "duration": 4,
    "start_time": "2022-07-22T22:17:19.624Z"
   },
   {
    "duration": 13,
    "start_time": "2022-07-22T22:17:24.308Z"
   },
   {
    "duration": 12,
    "start_time": "2022-07-22T22:17:35.459Z"
   },
   {
    "duration": 3,
    "start_time": "2022-07-22T22:18:08.402Z"
   },
   {
    "duration": 12,
    "start_time": "2022-07-22T22:18:15.391Z"
   },
   {
    "duration": 4,
    "start_time": "2022-07-22T22:18:32.004Z"
   },
   {
    "duration": 3,
    "start_time": "2022-07-22T22:18:34.424Z"
   },
   {
    "duration": 34,
    "start_time": "2022-07-22T22:18:38.231Z"
   },
   {
    "duration": 4,
    "start_time": "2022-07-22T22:19:19.755Z"
   },
   {
    "duration": 189062,
    "start_time": "2022-07-22T22:19:20.468Z"
   },
   {
    "duration": 3,
    "start_time": "2022-07-22T22:23:26.540Z"
   },
   {
    "duration": 35,
    "start_time": "2022-07-22T22:23:28.681Z"
   },
   {
    "duration": 4,
    "start_time": "2022-07-22T22:23:54.118Z"
   },
   {
    "duration": 33,
    "start_time": "2022-07-22T22:23:55.171Z"
   },
   {
    "duration": 32,
    "start_time": "2022-07-22T22:24:20.901Z"
   },
   {
    "duration": 37,
    "start_time": "2022-07-22T22:24:34.329Z"
   },
   {
    "duration": 38,
    "start_time": "2022-07-22T22:24:52.398Z"
   },
   {
    "duration": 3,
    "start_time": "2022-07-22T22:25:10.673Z"
   },
   {
    "duration": 43,
    "start_time": "2022-07-22T22:25:11.371Z"
   },
   {
    "duration": 4,
    "start_time": "2022-07-22T22:25:55.737Z"
   },
   {
    "duration": 47,
    "start_time": "2022-07-22T22:25:56.358Z"
   },
   {
    "duration": 4,
    "start_time": "2022-07-22T22:26:04.275Z"
   },
   {
    "duration": 111,
    "start_time": "2022-07-22T22:42:27.088Z"
   },
   {
    "duration": 4,
    "start_time": "2022-07-22T22:49:16.497Z"
   },
   {
    "duration": 34,
    "start_time": "2022-07-22T22:49:17.222Z"
   },
   {
    "duration": 3,
    "start_time": "2022-07-22T22:50:48.915Z"
   },
   {
    "duration": 32,
    "start_time": "2022-07-22T22:50:51.281Z"
   },
   {
    "duration": 36,
    "start_time": "2022-07-22T22:55:40.575Z"
   },
   {
    "duration": 50,
    "start_time": "2022-07-22T22:56:18.481Z"
   },
   {
    "duration": 11,
    "start_time": "2022-07-22T22:56:33.901Z"
   },
   {
    "duration": 32,
    "start_time": "2022-07-22T22:56:59.701Z"
   },
   {
    "duration": 10,
    "start_time": "2022-07-22T22:57:26.077Z"
   },
   {
    "duration": 12,
    "start_time": "2022-07-22T22:58:31.403Z"
   },
   {
    "duration": 11,
    "start_time": "2022-07-22T23:01:19.750Z"
   },
   {
    "duration": 4,
    "start_time": "2022-07-22T23:03:36.538Z"
   },
   {
    "duration": 3,
    "start_time": "2022-07-22T23:03:41.714Z"
   },
   {
    "duration": 8,
    "start_time": "2022-07-22T23:03:42.792Z"
   },
   {
    "duration": 5,
    "start_time": "2022-07-22T23:11:06.104Z"
   },
   {
    "duration": 188307,
    "start_time": "2022-07-22T23:11:14.993Z"
   },
   {
    "duration": 3,
    "start_time": "2022-07-22T23:14:43.684Z"
   },
   {
    "duration": 32426,
    "start_time": "2022-07-22T23:14:44.724Z"
   },
   {
    "duration": 10,
    "start_time": "2022-07-22T23:15:24.303Z"
   },
   {
    "duration": 7,
    "start_time": "2022-07-22T23:16:00.583Z"
   },
   {
    "duration": 4,
    "start_time": "2022-07-22T23:16:03.686Z"
   },
   {
    "duration": 32440,
    "start_time": "2022-07-22T23:16:04.197Z"
   },
   {
    "duration": 1404,
    "start_time": "2022-07-22T23:18:24.670Z"
   },
   {
    "duration": 946,
    "start_time": "2022-07-22T23:18:26.076Z"
   },
   {
    "duration": 157,
    "start_time": "2022-07-22T23:18:27.023Z"
   },
   {
    "duration": 29,
    "start_time": "2022-07-22T23:18:27.183Z"
   },
   {
    "duration": 10,
    "start_time": "2022-07-22T23:18:27.214Z"
   },
   {
    "duration": 50,
    "start_time": "2022-07-22T23:18:27.225Z"
   },
   {
    "duration": 119,
    "start_time": "2022-07-22T23:18:27.278Z"
   },
   {
    "duration": 146,
    "start_time": "2022-07-22T23:18:27.402Z"
   },
   {
    "duration": 55,
    "start_time": "2022-07-22T23:18:27.550Z"
   },
   {
    "duration": 388,
    "start_time": "2022-07-22T23:18:27.608Z"
   },
   {
    "duration": 20,
    "start_time": "2022-07-22T23:18:27.998Z"
   },
   {
    "duration": 24,
    "start_time": "2022-07-22T23:18:28.020Z"
   },
   {
    "duration": 66,
    "start_time": "2022-07-22T23:18:28.045Z"
   },
   {
    "duration": 387,
    "start_time": "2022-07-22T23:18:28.112Z"
   },
   {
    "duration": 415,
    "start_time": "2022-07-22T23:18:28.500Z"
   },
   {
    "duration": 209,
    "start_time": "2022-07-22T23:18:28.916Z"
   },
   {
    "duration": 404,
    "start_time": "2022-07-22T23:18:29.126Z"
   },
   {
    "duration": 42,
    "start_time": "2022-07-22T23:18:29.532Z"
   },
   {
    "duration": 377,
    "start_time": "2022-07-22T23:18:29.576Z"
   },
   {
    "duration": 36,
    "start_time": "2022-07-22T23:18:29.955Z"
   },
   {
    "duration": 4,
    "start_time": "2022-07-22T23:18:29.993Z"
   },
   {
    "duration": 46,
    "start_time": "2022-07-22T23:18:29.998Z"
   },
   {
    "duration": 27,
    "start_time": "2022-07-22T23:18:30.045Z"
   },
   {
    "duration": 57,
    "start_time": "2022-07-22T23:18:30.073Z"
   },
   {
    "duration": 44,
    "start_time": "2022-07-22T23:18:30.132Z"
   },
   {
    "duration": 60,
    "start_time": "2022-07-22T23:18:30.178Z"
   },
   {
    "duration": 97,
    "start_time": "2022-07-22T23:18:30.240Z"
   },
   {
    "duration": 3,
    "start_time": "2022-07-22T23:18:30.340Z"
   },
   {
    "duration": 47,
    "start_time": "2022-07-22T23:18:30.344Z"
   },
   {
    "duration": 314589,
    "start_time": "2022-07-22T23:18:30.392Z"
   },
   {
    "duration": 519,
    "start_time": "2022-07-22T23:23:44.983Z"
   },
   {
    "duration": 17,
    "start_time": "2022-07-22T23:23:45.503Z"
   },
   {
    "duration": 107,
    "start_time": "2022-07-22T23:23:45.521Z"
   },
   {
    "duration": 4,
    "start_time": "2022-07-22T23:23:45.629Z"
   },
   {
    "duration": 32,
    "start_time": "2022-07-22T23:23:45.634Z"
   },
   {
    "duration": 61,
    "start_time": "2022-07-22T23:23:45.668Z"
   },
   {
    "duration": 47,
    "start_time": "2022-07-22T23:23:45.730Z"
   },
   {
    "duration": 27,
    "start_time": "2022-07-22T23:23:45.779Z"
   },
   {
    "duration": 37,
    "start_time": "2022-07-22T23:23:45.808Z"
   },
   {
    "duration": 2275,
    "start_time": "2022-07-22T23:23:45.846Z"
   },
   {
    "duration": 28870,
    "start_time": "2022-07-22T23:23:48.123Z"
   },
   {
    "duration": 16,
    "start_time": "2022-07-22T23:24:16.994Z"
   },
   {
    "duration": 93,
    "start_time": "2022-07-22T23:24:17.012Z"
   },
   {
    "duration": 5,
    "start_time": "2022-07-22T23:24:17.107Z"
   },
   {
    "duration": 7,
    "start_time": "2022-07-22T23:24:17.114Z"
   },
   {
    "duration": 186761,
    "start_time": "2022-07-22T23:24:17.122Z"
   },
   {
    "duration": 88,
    "start_time": "2022-07-22T23:27:23.885Z"
   }
  ],
  "kernelspec": {
   "display_name": "Python 3 (ipykernel)",
   "language": "python",
   "name": "python3"
  },
  "language_info": {
   "codemirror_mode": {
    "name": "ipython",
    "version": 3
   },
   "file_extension": ".py",
   "mimetype": "text/x-python",
   "name": "python",
   "nbconvert_exporter": "python",
   "pygments_lexer": "ipython3",
   "version": "3.9.7"
  },
  "toc": {
   "base_numbering": 1,
   "nav_menu": {},
   "number_sections": true,
   "sideBar": true,
   "skip_h1_title": true,
   "title_cell": "Table of Contents",
   "title_sidebar": "Contents",
   "toc_cell": false,
   "toc_position": {},
   "toc_section_display": true,
   "toc_window_display": false
  }
 },
 "nbformat": 4,
 "nbformat_minor": 2
}
