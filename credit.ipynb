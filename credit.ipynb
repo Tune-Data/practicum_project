{
 "cells": [
  {
   "cell_type": "markdown",
   "id": "fa01c16b",
   "metadata": {
    "toc": true
   },
   "source": [
    "<h1>Содержание<span class=\"tocSkip\"></span></h1>\n",
    "<div class=\"toc\"><ul class=\"toc-item\"><li><span><a href=\"#Обзор-данных\" data-toc-modified-id=\"Обзор-данных-1\"><span class=\"toc-item-num\">1&nbsp;&nbsp;</span>Обзор данных</a></span><ul class=\"toc-item\"><li><span><a href=\"#Выводы\" data-toc-modified-id=\"Выводы-1.1\"><span class=\"toc-item-num\">1.1&nbsp;&nbsp;</span>Выводы</a></span></li></ul></li><li><span><a href=\"#Заполнение-пропусков\" data-toc-modified-id=\"Заполнение-пропусков-2\"><span class=\"toc-item-num\">2&nbsp;&nbsp;</span>Заполнение пропусков</a></span></li><li><span><a href=\"#Проверка-данных-на-аномалии-и-исправления.\" data-toc-modified-id=\"Проверка-данных-на-аномалии-и-исправления.-3\"><span class=\"toc-item-num\">3&nbsp;&nbsp;</span>Проверка данных на аномалии и исправления.</a></span></li><li><span><a href=\"#Изменение-типов-данных.\" data-toc-modified-id=\"Изменение-типов-данных.-4\"><span class=\"toc-item-num\">4&nbsp;&nbsp;</span>Изменение типов данных.</a></span></li><li><span><a href=\"#Удаление-дубликатов.\" data-toc-modified-id=\"Удаление-дубликатов.-5\"><span class=\"toc-item-num\">5&nbsp;&nbsp;</span>Удаление дубликатов.</a></span></li><li><span><a href=\"#Формирование-дополнительных-датафреймов-словарей,-декомпозиция-исходного-датафрейма.\" data-toc-modified-id=\"Формирование-дополнительных-датафреймов-словарей,-декомпозиция-исходного-датафрейма.-6\"><span class=\"toc-item-num\">6&nbsp;&nbsp;</span>Формирование дополнительных датафреймов словарей, декомпозиция исходного датафрейма.</a></span></li><li><span><a href=\"#Категоризация-дохода.\" data-toc-modified-id=\"Категоризация-дохода.-7\"><span class=\"toc-item-num\">7&nbsp;&nbsp;</span>Категоризация дохода.</a></span></li><li><span><a href=\"#Категоризация-целей-кредита.\" data-toc-modified-id=\"Категоризация-целей-кредита.-8\"><span class=\"toc-item-num\">8&nbsp;&nbsp;</span>Категоризация целей кредита.</a></span></li><li><span><a href=\"#Ответы-на-вопросы.\" data-toc-modified-id=\"Ответы-на-вопросы.-9\"><span class=\"toc-item-num\">9&nbsp;&nbsp;</span>Ответы на вопросы.</a></span><ul class=\"toc-item\"><li><span><a href=\"#Зависимость-между-количеством-детей-и-возвратом-кредита-в-срок.\" data-toc-modified-id=\"Зависимость-между-количеством-детей-и-возвратом-кредита-в-срок.-9.1\"><span class=\"toc-item-num\">9.1&nbsp;&nbsp;</span>Зависимость между количеством детей и возвратом кредита в срок.</a></span><ul class=\"toc-item\"><li><span><a href=\"#Вывод:\" data-toc-modified-id=\"Вывод:-9.1.1\"><span class=\"toc-item-num\">9.1.1&nbsp;&nbsp;</span>Вывод:</a></span></li></ul></li><li><span><a href=\"#Зависимость-между-семейным-положением-и-возвратом-кредита-в-срок.\" data-toc-modified-id=\"Зависимость-между-семейным-положением-и-возвратом-кредита-в-срок.-9.2\"><span class=\"toc-item-num\">9.2&nbsp;&nbsp;</span>Зависимость между семейным положением и возвратом кредита в срок.</a></span><ul class=\"toc-item\"><li><span><a href=\"#Вывод:\" data-toc-modified-id=\"Вывод:-9.2.1\"><span class=\"toc-item-num\">9.2.1&nbsp;&nbsp;</span>Вывод:</a></span></li></ul></li><li><span><a href=\"#Зависимость-между-уровнем-дохода-и-возвратом-кредита-в-срок.\" data-toc-modified-id=\"Зависимость-между-уровнем-дохода-и-возвратом-кредита-в-срок.-9.3\"><span class=\"toc-item-num\">9.3&nbsp;&nbsp;</span>Зависимость между уровнем дохода и возвратом кредита в срок.</a></span><ul class=\"toc-item\"><li><span><a href=\"#Вывод:\" data-toc-modified-id=\"Вывод:-9.3.1\"><span class=\"toc-item-num\">9.3.1&nbsp;&nbsp;</span>Вывод:</a></span></li></ul></li><li><span><a href=\"#Влияние-цели-кредита-на-возврат-в-срок.\" data-toc-modified-id=\"Влияние-цели-кредита-на-возврат-в-срок.-9.4\"><span class=\"toc-item-num\">9.4&nbsp;&nbsp;</span>Влияние цели кредита на возврат в срок.</a></span><ul class=\"toc-item\"><li><span><a href=\"#Вывод:\" data-toc-modified-id=\"Вывод:-9.4.1\"><span class=\"toc-item-num\">9.4.1&nbsp;&nbsp;</span>Вывод:</a></span></li></ul></li></ul></li><li><span><a href=\"#Общий-вывод:\" data-toc-modified-id=\"Общий-вывод:-10\"><span class=\"toc-item-num\">10&nbsp;&nbsp;</span>Общий вывод:</a></span></li></ul></div>"
   ]
  },
  {
   "cell_type": "markdown",
   "id": "a1fa9ed1-5894-4a7f-a0b4-0a3fac4d5d76",
   "metadata": {},
   "source": [
    "# Исследование надёжности заёмщиков"
   ]
  },
  {
   "cell_type": "markdown",
   "id": "b5ee14e9-931c-4693-b122-57b51daeec54",
   "metadata": {},
   "source": [
    "**Цель исследования** — ответить на 4 вопроса:\n",
    "1. Есть ли зависимость между количеством детей и возвратом кредита в срок?\n",
    "2. Есть ли зависимость между семейным положением и возвратом кредита в срок?\n",
    "3. Есть ли зависимость между уровнем дохода и возвратом кредита в срок?\n",
    "4. Как разные цели кредита влияют на его возврат в срок?\n",
    "\n",
    "**Ход исследования**\n",
    "\n",
    "Входные данные от банка — статистика о платёжеспособности клиентов предоставлены в файле `data.csv`. О качестве данных ничего неизвестно. Поэтому перед проверкой гипотез понадобится обзор данных."
   ]
  },
  {
   "cell_type": "markdown",
   "id": "131e0f31",
   "metadata": {
    "tags": []
   },
   "source": [
    "## Обзор данных"
   ]
  },
  {
   "cell_type": "markdown",
   "id": "7736ad04-975d-49a1-bb49-3f847ffa6b23",
   "metadata": {},
   "source": [
    "Для начала импортируем библиотеку pandas."
   ]
  },
  {
   "cell_type": "code",
   "execution_count": 4,
   "id": "e447ec7f",
   "metadata": {},
   "outputs": [],
   "source": [
    "import pandas as pd"
   ]
  },
  {
   "cell_type": "markdown",
   "id": "045689c5",
   "metadata": {},
   "source": [
    "Сохраним данные в переменную `df`."
   ]
  },
  {
   "cell_type": "code",
   "execution_count": 5,
   "id": "514164c0",
   "metadata": {},
   "outputs": [],
   "source": [
    "df = pd.read_csv('data.csv')"
   ]
  },
  {
   "cell_type": "markdown",
   "id": "9d908b95-7443-4080-b824-8bd3c9cb305f",
   "metadata": {},
   "source": [
    "Выведем на экран первые десять строк таблицы:"
   ]
  },
  {
   "cell_type": "code",
   "execution_count": 6,
   "id": "e753d17d-a17c-4ea9-9305-ab71ae379eb8",
   "metadata": {},
   "outputs": [
    {
     "data": {
      "text/html": [
       "<div>\n",
       "<style scoped>\n",
       "    .dataframe tbody tr th:only-of-type {\n",
       "        vertical-align: middle;\n",
       "    }\n",
       "\n",
       "    .dataframe tbody tr th {\n",
       "        vertical-align: top;\n",
       "    }\n",
       "\n",
       "    .dataframe thead th {\n",
       "        text-align: right;\n",
       "    }\n",
       "</style>\n",
       "<table border=\"1\" class=\"dataframe\">\n",
       "  <thead>\n",
       "    <tr style=\"text-align: right;\">\n",
       "      <th></th>\n",
       "      <th>children</th>\n",
       "      <th>days_employed</th>\n",
       "      <th>dob_years</th>\n",
       "      <th>education</th>\n",
       "      <th>education_id</th>\n",
       "      <th>family_status</th>\n",
       "      <th>family_status_id</th>\n",
       "      <th>gender</th>\n",
       "      <th>income_type</th>\n",
       "      <th>debt</th>\n",
       "      <th>total_income</th>\n",
       "      <th>purpose</th>\n",
       "    </tr>\n",
       "  </thead>\n",
       "  <tbody>\n",
       "    <tr>\n",
       "      <th>0</th>\n",
       "      <td>1</td>\n",
       "      <td>-8437.673028</td>\n",
       "      <td>42</td>\n",
       "      <td>высшее</td>\n",
       "      <td>0</td>\n",
       "      <td>женат / замужем</td>\n",
       "      <td>0</td>\n",
       "      <td>F</td>\n",
       "      <td>сотрудник</td>\n",
       "      <td>0</td>\n",
       "      <td>253875.639453</td>\n",
       "      <td>покупка жилья</td>\n",
       "    </tr>\n",
       "    <tr>\n",
       "      <th>1</th>\n",
       "      <td>1</td>\n",
       "      <td>-4024.803754</td>\n",
       "      <td>36</td>\n",
       "      <td>среднее</td>\n",
       "      <td>1</td>\n",
       "      <td>женат / замужем</td>\n",
       "      <td>0</td>\n",
       "      <td>F</td>\n",
       "      <td>сотрудник</td>\n",
       "      <td>0</td>\n",
       "      <td>112080.014102</td>\n",
       "      <td>приобретение автомобиля</td>\n",
       "    </tr>\n",
       "    <tr>\n",
       "      <th>2</th>\n",
       "      <td>0</td>\n",
       "      <td>-5623.422610</td>\n",
       "      <td>33</td>\n",
       "      <td>Среднее</td>\n",
       "      <td>1</td>\n",
       "      <td>женат / замужем</td>\n",
       "      <td>0</td>\n",
       "      <td>M</td>\n",
       "      <td>сотрудник</td>\n",
       "      <td>0</td>\n",
       "      <td>145885.952297</td>\n",
       "      <td>покупка жилья</td>\n",
       "    </tr>\n",
       "    <tr>\n",
       "      <th>3</th>\n",
       "      <td>3</td>\n",
       "      <td>-4124.747207</td>\n",
       "      <td>32</td>\n",
       "      <td>среднее</td>\n",
       "      <td>1</td>\n",
       "      <td>женат / замужем</td>\n",
       "      <td>0</td>\n",
       "      <td>M</td>\n",
       "      <td>сотрудник</td>\n",
       "      <td>0</td>\n",
       "      <td>267628.550329</td>\n",
       "      <td>дополнительное образование</td>\n",
       "    </tr>\n",
       "    <tr>\n",
       "      <th>4</th>\n",
       "      <td>0</td>\n",
       "      <td>340266.072047</td>\n",
       "      <td>53</td>\n",
       "      <td>среднее</td>\n",
       "      <td>1</td>\n",
       "      <td>гражданский брак</td>\n",
       "      <td>1</td>\n",
       "      <td>F</td>\n",
       "      <td>пенсионер</td>\n",
       "      <td>0</td>\n",
       "      <td>158616.077870</td>\n",
       "      <td>сыграть свадьбу</td>\n",
       "    </tr>\n",
       "    <tr>\n",
       "      <th>5</th>\n",
       "      <td>0</td>\n",
       "      <td>-926.185831</td>\n",
       "      <td>27</td>\n",
       "      <td>высшее</td>\n",
       "      <td>0</td>\n",
       "      <td>гражданский брак</td>\n",
       "      <td>1</td>\n",
       "      <td>M</td>\n",
       "      <td>компаньон</td>\n",
       "      <td>0</td>\n",
       "      <td>255763.565419</td>\n",
       "      <td>покупка жилья</td>\n",
       "    </tr>\n",
       "    <tr>\n",
       "      <th>6</th>\n",
       "      <td>0</td>\n",
       "      <td>-2879.202052</td>\n",
       "      <td>43</td>\n",
       "      <td>высшее</td>\n",
       "      <td>0</td>\n",
       "      <td>женат / замужем</td>\n",
       "      <td>0</td>\n",
       "      <td>F</td>\n",
       "      <td>компаньон</td>\n",
       "      <td>0</td>\n",
       "      <td>240525.971920</td>\n",
       "      <td>операции с жильем</td>\n",
       "    </tr>\n",
       "    <tr>\n",
       "      <th>7</th>\n",
       "      <td>0</td>\n",
       "      <td>-152.779569</td>\n",
       "      <td>50</td>\n",
       "      <td>СРЕДНЕЕ</td>\n",
       "      <td>1</td>\n",
       "      <td>женат / замужем</td>\n",
       "      <td>0</td>\n",
       "      <td>M</td>\n",
       "      <td>сотрудник</td>\n",
       "      <td>0</td>\n",
       "      <td>135823.934197</td>\n",
       "      <td>образование</td>\n",
       "    </tr>\n",
       "    <tr>\n",
       "      <th>8</th>\n",
       "      <td>2</td>\n",
       "      <td>-6929.865299</td>\n",
       "      <td>35</td>\n",
       "      <td>ВЫСШЕЕ</td>\n",
       "      <td>0</td>\n",
       "      <td>гражданский брак</td>\n",
       "      <td>1</td>\n",
       "      <td>F</td>\n",
       "      <td>сотрудник</td>\n",
       "      <td>0</td>\n",
       "      <td>95856.832424</td>\n",
       "      <td>на проведение свадьбы</td>\n",
       "    </tr>\n",
       "    <tr>\n",
       "      <th>9</th>\n",
       "      <td>0</td>\n",
       "      <td>-2188.756445</td>\n",
       "      <td>41</td>\n",
       "      <td>среднее</td>\n",
       "      <td>1</td>\n",
       "      <td>женат / замужем</td>\n",
       "      <td>0</td>\n",
       "      <td>M</td>\n",
       "      <td>сотрудник</td>\n",
       "      <td>0</td>\n",
       "      <td>144425.938277</td>\n",
       "      <td>покупка жилья для семьи</td>\n",
       "    </tr>\n",
       "  </tbody>\n",
       "</table>\n",
       "</div>"
      ],
      "text/plain": [
       "   children  days_employed  dob_years education  education_id  \\\n",
       "0         1   -8437.673028         42    высшее             0   \n",
       "1         1   -4024.803754         36   среднее             1   \n",
       "2         0   -5623.422610         33   Среднее             1   \n",
       "3         3   -4124.747207         32   среднее             1   \n",
       "4         0  340266.072047         53   среднее             1   \n",
       "5         0    -926.185831         27    высшее             0   \n",
       "6         0   -2879.202052         43    высшее             0   \n",
       "7         0    -152.779569         50   СРЕДНЕЕ             1   \n",
       "8         2   -6929.865299         35    ВЫСШЕЕ             0   \n",
       "9         0   -2188.756445         41   среднее             1   \n",
       "\n",
       "      family_status  family_status_id gender income_type  debt   total_income  \\\n",
       "0   женат / замужем                 0      F   сотрудник     0  253875.639453   \n",
       "1   женат / замужем                 0      F   сотрудник     0  112080.014102   \n",
       "2   женат / замужем                 0      M   сотрудник     0  145885.952297   \n",
       "3   женат / замужем                 0      M   сотрудник     0  267628.550329   \n",
       "4  гражданский брак                 1      F   пенсионер     0  158616.077870   \n",
       "5  гражданский брак                 1      M   компаньон     0  255763.565419   \n",
       "6   женат / замужем                 0      F   компаньон     0  240525.971920   \n",
       "7   женат / замужем                 0      M   сотрудник     0  135823.934197   \n",
       "8  гражданский брак                 1      F   сотрудник     0   95856.832424   \n",
       "9   женат / замужем                 0      M   сотрудник     0  144425.938277   \n",
       "\n",
       "                      purpose  \n",
       "0               покупка жилья  \n",
       "1     приобретение автомобиля  \n",
       "2               покупка жилья  \n",
       "3  дополнительное образование  \n",
       "4             сыграть свадьбу  \n",
       "5               покупка жилья  \n",
       "6           операции с жильем  \n",
       "7                 образование  \n",
       "8       на проведение свадьбы  \n",
       "9     покупка жилья для семьи  "
      ]
     },
     "execution_count": 6,
     "metadata": {},
     "output_type": "execute_result"
    }
   ],
   "source": [
    "df.head(10)"
   ]
  },
  {
   "cell_type": "markdown",
   "id": "ef78d805-ad32-4c7c-9fbd-d37c32d0ab4a",
   "metadata": {},
   "source": [
    "Получим общую информацию о таблице."
   ]
  },
  {
   "cell_type": "code",
   "execution_count": 7,
   "id": "676d8152-f8be-4b62-9aa6-21d5b562db5b",
   "metadata": {},
   "outputs": [
    {
     "name": "stdout",
     "output_type": "stream",
     "text": [
      "<class 'pandas.core.frame.DataFrame'>\n",
      "RangeIndex: 21525 entries, 0 to 21524\n",
      "Data columns (total 12 columns):\n",
      " #   Column            Non-Null Count  Dtype  \n",
      "---  ------            --------------  -----  \n",
      " 0   children          21525 non-null  int64  \n",
      " 1   days_employed     19351 non-null  float64\n",
      " 2   dob_years         21525 non-null  int64  \n",
      " 3   education         21525 non-null  object \n",
      " 4   education_id      21525 non-null  int64  \n",
      " 5   family_status     21525 non-null  object \n",
      " 6   family_status_id  21525 non-null  int64  \n",
      " 7   gender            21525 non-null  object \n",
      " 8   income_type       21525 non-null  object \n",
      " 9   debt              21525 non-null  int64  \n",
      " 10  total_income      19351 non-null  float64\n",
      " 11  purpose           21525 non-null  object \n",
      "dtypes: float64(2), int64(5), object(5)\n",
      "memory usage: 2.0+ MB\n"
     ]
    }
   ],
   "source": [
    "df.info()"
   ]
  },
  {
   "cell_type": "markdown",
   "id": "1514e0df-7647-4468-b44c-b1ad339834a9",
   "metadata": {},
   "source": [
    "В таблице 12 столбцов с разными типами данных. \n",
    "\n",
    "***Согласно документации к данным:***\n",
    "\n",
    "* `children` — количество детей в семье\n",
    "* `days_employed` — общий трудовой стаж в днях\n",
    "* `dob_years` — возраст клиента в годах\n",
    "* `education` — уровень образования клиента\n",
    "* `education_id` — идентификатор уровня образования\n",
    "* `family_status` — семейное положение\n",
    "* `family_status_id` — идентификатор семейного положения\n",
    "* `gender` — пол клиента\n",
    "* `income_type` — тип занятости\n",
    "* `debt` — имел ли задолженность по возврату кредитов\n",
    "* `total_income` — ежемесячный доход\n",
    "* `purpose` — цель получения кредита\n",
    "\n",
    "Названия колонок оформлены без нарушений. По столбцу `Non-Null Count` понятно, что в двух столбцах таблицы есть пропуски, значит нужно определить причину их появления, как они влияют на данные и чем их можно заполнить. Так же в глаза бросается разный стиль написания в столбце `education`. \n",
    "\n"
   ]
  },
  {
   "cell_type": "markdown",
   "id": "62d873df",
   "metadata": {},
   "source": [
    "Посмотрим на диапазоны разброса значаний в таблице. Для этого применим к таблице метод `.desctibe`."
   ]
  },
  {
   "cell_type": "code",
   "execution_count": 8,
   "id": "f5feb242",
   "metadata": {},
   "outputs": [
    {
     "data": {
      "text/html": [
       "<div>\n",
       "<style scoped>\n",
       "    .dataframe tbody tr th:only-of-type {\n",
       "        vertical-align: middle;\n",
       "    }\n",
       "\n",
       "    .dataframe tbody tr th {\n",
       "        vertical-align: top;\n",
       "    }\n",
       "\n",
       "    .dataframe thead th {\n",
       "        text-align: right;\n",
       "    }\n",
       "</style>\n",
       "<table border=\"1\" class=\"dataframe\">\n",
       "  <thead>\n",
       "    <tr style=\"text-align: right;\">\n",
       "      <th></th>\n",
       "      <th>children</th>\n",
       "      <th>days_employed</th>\n",
       "      <th>dob_years</th>\n",
       "      <th>education_id</th>\n",
       "      <th>family_status_id</th>\n",
       "      <th>debt</th>\n",
       "      <th>total_income</th>\n",
       "    </tr>\n",
       "  </thead>\n",
       "  <tbody>\n",
       "    <tr>\n",
       "      <th>count</th>\n",
       "      <td>21525.000000</td>\n",
       "      <td>19351.000000</td>\n",
       "      <td>21525.000000</td>\n",
       "      <td>21525.000000</td>\n",
       "      <td>21525.000000</td>\n",
       "      <td>21525.000000</td>\n",
       "      <td>1.935100e+04</td>\n",
       "    </tr>\n",
       "    <tr>\n",
       "      <th>mean</th>\n",
       "      <td>0.538908</td>\n",
       "      <td>63046.497661</td>\n",
       "      <td>43.293380</td>\n",
       "      <td>0.817236</td>\n",
       "      <td>0.972544</td>\n",
       "      <td>0.080883</td>\n",
       "      <td>1.674223e+05</td>\n",
       "    </tr>\n",
       "    <tr>\n",
       "      <th>std</th>\n",
       "      <td>1.381587</td>\n",
       "      <td>140827.311974</td>\n",
       "      <td>12.574584</td>\n",
       "      <td>0.548138</td>\n",
       "      <td>1.420324</td>\n",
       "      <td>0.272661</td>\n",
       "      <td>1.029716e+05</td>\n",
       "    </tr>\n",
       "    <tr>\n",
       "      <th>min</th>\n",
       "      <td>-1.000000</td>\n",
       "      <td>-18388.949901</td>\n",
       "      <td>0.000000</td>\n",
       "      <td>0.000000</td>\n",
       "      <td>0.000000</td>\n",
       "      <td>0.000000</td>\n",
       "      <td>2.066726e+04</td>\n",
       "    </tr>\n",
       "    <tr>\n",
       "      <th>25%</th>\n",
       "      <td>0.000000</td>\n",
       "      <td>-2747.423625</td>\n",
       "      <td>33.000000</td>\n",
       "      <td>1.000000</td>\n",
       "      <td>0.000000</td>\n",
       "      <td>0.000000</td>\n",
       "      <td>1.030532e+05</td>\n",
       "    </tr>\n",
       "    <tr>\n",
       "      <th>50%</th>\n",
       "      <td>0.000000</td>\n",
       "      <td>-1203.369529</td>\n",
       "      <td>42.000000</td>\n",
       "      <td>1.000000</td>\n",
       "      <td>0.000000</td>\n",
       "      <td>0.000000</td>\n",
       "      <td>1.450179e+05</td>\n",
       "    </tr>\n",
       "    <tr>\n",
       "      <th>75%</th>\n",
       "      <td>1.000000</td>\n",
       "      <td>-291.095954</td>\n",
       "      <td>53.000000</td>\n",
       "      <td>1.000000</td>\n",
       "      <td>1.000000</td>\n",
       "      <td>0.000000</td>\n",
       "      <td>2.034351e+05</td>\n",
       "    </tr>\n",
       "    <tr>\n",
       "      <th>max</th>\n",
       "      <td>20.000000</td>\n",
       "      <td>401755.400475</td>\n",
       "      <td>75.000000</td>\n",
       "      <td>4.000000</td>\n",
       "      <td>4.000000</td>\n",
       "      <td>1.000000</td>\n",
       "      <td>2.265604e+06</td>\n",
       "    </tr>\n",
       "  </tbody>\n",
       "</table>\n",
       "</div>"
      ],
      "text/plain": [
       "           children  days_employed     dob_years  education_id  \\\n",
       "count  21525.000000   19351.000000  21525.000000  21525.000000   \n",
       "mean       0.538908   63046.497661     43.293380      0.817236   \n",
       "std        1.381587  140827.311974     12.574584      0.548138   \n",
       "min       -1.000000  -18388.949901      0.000000      0.000000   \n",
       "25%        0.000000   -2747.423625     33.000000      1.000000   \n",
       "50%        0.000000   -1203.369529     42.000000      1.000000   \n",
       "75%        1.000000    -291.095954     53.000000      1.000000   \n",
       "max       20.000000  401755.400475     75.000000      4.000000   \n",
       "\n",
       "       family_status_id          debt  total_income  \n",
       "count      21525.000000  21525.000000  1.935100e+04  \n",
       "mean           0.972544      0.080883  1.674223e+05  \n",
       "std            1.420324      0.272661  1.029716e+05  \n",
       "min            0.000000      0.000000  2.066726e+04  \n",
       "25%            0.000000      0.000000  1.030532e+05  \n",
       "50%            0.000000      0.000000  1.450179e+05  \n",
       "75%            1.000000      0.000000  2.034351e+05  \n",
       "max            4.000000      1.000000  2.265604e+06  "
      ]
     },
     "execution_count": 8,
     "metadata": {},
     "output_type": "execute_result"
    }
   ],
   "source": [
    "df.describe()"
   ]
  },
  {
   "cell_type": "markdown",
   "id": "b03f6a8f",
   "metadata": {},
   "source": [
    "### Выводы\n",
    "\n",
    "В таблице представлены данные о клиентах банка. На первый взгляд можно сказать, что данных достаточно для проверки гипотез, но в колонках `общий трудовой стаж в днях` и `ежемесячный доход` есть пропуски. Нужно определить, насколько они критичны и что с ними можно сделать."
   ]
  },
  {
   "cell_type": "markdown",
   "id": "965b6e6c",
   "metadata": {
    "tags": []
   },
   "source": [
    "## Заполнение пропусков"
   ]
  },
  {
   "cell_type": "markdown",
   "id": "4aeeb735-1dc4-40bf-84a4-fb5715ee07b2",
   "metadata": {},
   "source": [
    "Для начала посчитаем количество пропусков в таблице:"
   ]
  },
  {
   "cell_type": "code",
   "execution_count": 9,
   "id": "31b53dd2-7db6-4782-a54c-42ffbf2e9d3b",
   "metadata": {},
   "outputs": [
    {
     "data": {
      "text/plain": [
       "children               0\n",
       "days_employed       2174\n",
       "dob_years              0\n",
       "education              0\n",
       "education_id           0\n",
       "family_status          0\n",
       "family_status_id       0\n",
       "gender                 0\n",
       "income_type            0\n",
       "debt                   0\n",
       "total_income        2174\n",
       "purpose                0\n",
       "dtype: int64"
      ]
     },
     "execution_count": 9,
     "metadata": {},
     "output_type": "execute_result"
    }
   ],
   "source": [
    "df.isna().sum()"
   ]
  },
  {
   "cell_type": "markdown",
   "id": "d24c1e7a-5826-4233-9755-81055c917538",
   "metadata": {},
   "source": [
    "Рассмотрим строки с пропущенными значения подробнее:"
   ]
  },
  {
   "cell_type": "code",
   "execution_count": 10,
   "id": "cbb91305-cf35-401b-aacb-afc4be2f8fc7",
   "metadata": {},
   "outputs": [
    {
     "data": {
      "text/html": [
       "<div>\n",
       "<style scoped>\n",
       "    .dataframe tbody tr th:only-of-type {\n",
       "        vertical-align: middle;\n",
       "    }\n",
       "\n",
       "    .dataframe tbody tr th {\n",
       "        vertical-align: top;\n",
       "    }\n",
       "\n",
       "    .dataframe thead th {\n",
       "        text-align: right;\n",
       "    }\n",
       "</style>\n",
       "<table border=\"1\" class=\"dataframe\">\n",
       "  <thead>\n",
       "    <tr style=\"text-align: right;\">\n",
       "      <th></th>\n",
       "      <th>children</th>\n",
       "      <th>days_employed</th>\n",
       "      <th>dob_years</th>\n",
       "      <th>education</th>\n",
       "      <th>education_id</th>\n",
       "      <th>family_status</th>\n",
       "      <th>family_status_id</th>\n",
       "      <th>gender</th>\n",
       "      <th>income_type</th>\n",
       "      <th>debt</th>\n",
       "      <th>total_income</th>\n",
       "      <th>purpose</th>\n",
       "    </tr>\n",
       "  </thead>\n",
       "  <tbody>\n",
       "    <tr>\n",
       "      <th>12</th>\n",
       "      <td>0</td>\n",
       "      <td>NaN</td>\n",
       "      <td>65</td>\n",
       "      <td>среднее</td>\n",
       "      <td>1</td>\n",
       "      <td>гражданский брак</td>\n",
       "      <td>1</td>\n",
       "      <td>M</td>\n",
       "      <td>пенсионер</td>\n",
       "      <td>0</td>\n",
       "      <td>NaN</td>\n",
       "      <td>сыграть свадьбу</td>\n",
       "    </tr>\n",
       "    <tr>\n",
       "      <th>26</th>\n",
       "      <td>0</td>\n",
       "      <td>NaN</td>\n",
       "      <td>41</td>\n",
       "      <td>среднее</td>\n",
       "      <td>1</td>\n",
       "      <td>женат / замужем</td>\n",
       "      <td>0</td>\n",
       "      <td>M</td>\n",
       "      <td>госслужащий</td>\n",
       "      <td>0</td>\n",
       "      <td>NaN</td>\n",
       "      <td>образование</td>\n",
       "    </tr>\n",
       "    <tr>\n",
       "      <th>29</th>\n",
       "      <td>0</td>\n",
       "      <td>NaN</td>\n",
       "      <td>63</td>\n",
       "      <td>среднее</td>\n",
       "      <td>1</td>\n",
       "      <td>Не женат / не замужем</td>\n",
       "      <td>4</td>\n",
       "      <td>F</td>\n",
       "      <td>пенсионер</td>\n",
       "      <td>0</td>\n",
       "      <td>NaN</td>\n",
       "      <td>строительство жилой недвижимости</td>\n",
       "    </tr>\n",
       "    <tr>\n",
       "      <th>41</th>\n",
       "      <td>0</td>\n",
       "      <td>NaN</td>\n",
       "      <td>50</td>\n",
       "      <td>среднее</td>\n",
       "      <td>1</td>\n",
       "      <td>женат / замужем</td>\n",
       "      <td>0</td>\n",
       "      <td>F</td>\n",
       "      <td>госслужащий</td>\n",
       "      <td>0</td>\n",
       "      <td>NaN</td>\n",
       "      <td>сделка с подержанным автомобилем</td>\n",
       "    </tr>\n",
       "    <tr>\n",
       "      <th>55</th>\n",
       "      <td>0</td>\n",
       "      <td>NaN</td>\n",
       "      <td>54</td>\n",
       "      <td>среднее</td>\n",
       "      <td>1</td>\n",
       "      <td>гражданский брак</td>\n",
       "      <td>1</td>\n",
       "      <td>F</td>\n",
       "      <td>пенсионер</td>\n",
       "      <td>1</td>\n",
       "      <td>NaN</td>\n",
       "      <td>сыграть свадьбу</td>\n",
       "    </tr>\n",
       "    <tr>\n",
       "      <th>65</th>\n",
       "      <td>0</td>\n",
       "      <td>NaN</td>\n",
       "      <td>21</td>\n",
       "      <td>среднее</td>\n",
       "      <td>1</td>\n",
       "      <td>Не женат / не замужем</td>\n",
       "      <td>4</td>\n",
       "      <td>M</td>\n",
       "      <td>компаньон</td>\n",
       "      <td>0</td>\n",
       "      <td>NaN</td>\n",
       "      <td>операции с коммерческой недвижимостью</td>\n",
       "    </tr>\n",
       "    <tr>\n",
       "      <th>67</th>\n",
       "      <td>0</td>\n",
       "      <td>NaN</td>\n",
       "      <td>52</td>\n",
       "      <td>высшее</td>\n",
       "      <td>0</td>\n",
       "      <td>женат / замужем</td>\n",
       "      <td>0</td>\n",
       "      <td>F</td>\n",
       "      <td>пенсионер</td>\n",
       "      <td>0</td>\n",
       "      <td>NaN</td>\n",
       "      <td>покупка жилья для семьи</td>\n",
       "    </tr>\n",
       "    <tr>\n",
       "      <th>72</th>\n",
       "      <td>1</td>\n",
       "      <td>NaN</td>\n",
       "      <td>32</td>\n",
       "      <td>высшее</td>\n",
       "      <td>0</td>\n",
       "      <td>женат / замужем</td>\n",
       "      <td>0</td>\n",
       "      <td>M</td>\n",
       "      <td>госслужащий</td>\n",
       "      <td>0</td>\n",
       "      <td>NaN</td>\n",
       "      <td>операции с коммерческой недвижимостью</td>\n",
       "    </tr>\n",
       "    <tr>\n",
       "      <th>82</th>\n",
       "      <td>2</td>\n",
       "      <td>NaN</td>\n",
       "      <td>50</td>\n",
       "      <td>высшее</td>\n",
       "      <td>0</td>\n",
       "      <td>женат / замужем</td>\n",
       "      <td>0</td>\n",
       "      <td>F</td>\n",
       "      <td>сотрудник</td>\n",
       "      <td>0</td>\n",
       "      <td>NaN</td>\n",
       "      <td>жилье</td>\n",
       "    </tr>\n",
       "    <tr>\n",
       "      <th>83</th>\n",
       "      <td>0</td>\n",
       "      <td>NaN</td>\n",
       "      <td>52</td>\n",
       "      <td>среднее</td>\n",
       "      <td>1</td>\n",
       "      <td>женат / замужем</td>\n",
       "      <td>0</td>\n",
       "      <td>M</td>\n",
       "      <td>сотрудник</td>\n",
       "      <td>0</td>\n",
       "      <td>NaN</td>\n",
       "      <td>жилье</td>\n",
       "    </tr>\n",
       "  </tbody>\n",
       "</table>\n",
       "</div>"
      ],
      "text/plain": [
       "    children  days_employed  dob_years education  education_id  \\\n",
       "12         0            NaN         65   среднее             1   \n",
       "26         0            NaN         41   среднее             1   \n",
       "29         0            NaN         63   среднее             1   \n",
       "41         0            NaN         50   среднее             1   \n",
       "55         0            NaN         54   среднее             1   \n",
       "65         0            NaN         21   среднее             1   \n",
       "67         0            NaN         52    высшее             0   \n",
       "72         1            NaN         32    высшее             0   \n",
       "82         2            NaN         50    высшее             0   \n",
       "83         0            NaN         52   среднее             1   \n",
       "\n",
       "            family_status  family_status_id gender  income_type  debt  \\\n",
       "12       гражданский брак                 1      M    пенсионер     0   \n",
       "26        женат / замужем                 0      M  госслужащий     0   \n",
       "29  Не женат / не замужем                 4      F    пенсионер     0   \n",
       "41        женат / замужем                 0      F  госслужащий     0   \n",
       "55       гражданский брак                 1      F    пенсионер     1   \n",
       "65  Не женат / не замужем                 4      M    компаньон     0   \n",
       "67        женат / замужем                 0      F    пенсионер     0   \n",
       "72        женат / замужем                 0      M  госслужащий     0   \n",
       "82        женат / замужем                 0      F    сотрудник     0   \n",
       "83        женат / замужем                 0      M    сотрудник     0   \n",
       "\n",
       "    total_income                                purpose  \n",
       "12           NaN                        сыграть свадьбу  \n",
       "26           NaN                            образование  \n",
       "29           NaN       строительство жилой недвижимости  \n",
       "41           NaN       сделка с подержанным автомобилем  \n",
       "55           NaN                        сыграть свадьбу  \n",
       "65           NaN  операции с коммерческой недвижимостью  \n",
       "67           NaN                покупка жилья для семьи  \n",
       "72           NaN  операции с коммерческой недвижимостью  \n",
       "82           NaN                                  жилье  \n",
       "83           NaN                                  жилье  "
      ]
     },
     "execution_count": 10,
     "metadata": {},
     "output_type": "execute_result"
    }
   ],
   "source": [
    "df[df['days_employed'].isna()].head(10)"
   ]
  },
  {
   "cell_type": "markdown",
   "id": "99ce7dc9-9a1a-40cc-af06-1eca4c8cecda",
   "metadata": {},
   "source": [
    "Пропуски в таблице относятся к количественному типу данных. Единственной закономерностью в пропущенных данных является то, что данные пропущены сразу в двух колонках одной строки. Возможно, данные в строках характеризуют клиентов без официальной работы, следовательно без официального стажа и сведений о доходе.  "
   ]
  },
  {
   "cell_type": "markdown",
   "id": "254afef8-b423-42d4-81af-86bbdeed9774",
   "metadata": {},
   "source": [
    "Определим какую долю занимают пропуски:"
   ]
  },
  {
   "cell_type": "code",
   "execution_count": 11,
   "id": "cb759851-1ae5-4752-a3f3-77a5cadab895",
   "metadata": {},
   "outputs": [],
   "source": [
    "days_employed_NaN = df['days_employed'].isna().mean()\n",
    "total_income_NaN = df['total_income'].isna().mean()\n"
   ]
  },
  {
   "cell_type": "markdown",
   "id": "c92d9998-3bb5-4ab0-8c6f-57b71d443b29",
   "metadata": {},
   "source": [
    "9,9% информации в столбце - это пропуски. Хорошо, что для нашего исследования трудовой стаж не является ключевым показателем. Удаление строк с пропусками приведёт к потере почти 10% информации что может повлиять на полноту исследования и проверку других гипотез. \n",
    "Рассмотрим данные в столбце `days_employed` более подробно."
   ]
  },
  {
   "cell_type": "code",
   "execution_count": 12,
   "id": "4316954f-3806-4e20-97f3-4b9fc640916e",
   "metadata": {},
   "outputs": [
    {
     "data": {
      "text/plain": [
       "0     -8437.673028\n",
       "1     -4024.803754\n",
       "2     -5623.422610\n",
       "3     -4124.747207\n",
       "4    340266.072047\n",
       "5      -926.185831\n",
       "6     -2879.202052\n",
       "7      -152.779569\n",
       "8     -6929.865299\n",
       "9     -2188.756445\n",
       "Name: days_employed, dtype: float64"
      ]
     },
     "execution_count": 12,
     "metadata": {},
     "output_type": "execute_result"
    }
   ],
   "source": [
    "df['days_employed'].head(10)"
   ]
  },
  {
   "cell_type": "markdown",
   "id": "96dd734d-17cc-4f10-a730-b46aa323fbd2",
   "metadata": {},
   "source": [
    "Для заполнения пропусков отлично подойдёт медиана. Если взять среднее, то можно получить сильное отклонение из-за несоответствия диапазона значений и их частоты."
   ]
  },
  {
   "cell_type": "code",
   "execution_count": 13,
   "id": "fd6954f7-8a15-4461-9acc-587450b3f698",
   "metadata": {},
   "outputs": [
    {
     "name": "stdout",
     "output_type": "stream",
     "text": [
      "Количество пропусков в столбце `days_employed` - 0\n"
     ]
    }
   ],
   "source": [
    "# заполним пропуски медианой.\n",
    "df['days_employed'] = df['days_employed'].fillna(df['days_employed'].median())\n",
    "\n",
    "# проверим что пропусков в столбце не осталось\n",
    "print('Количество пропусков в столбце `days_employed` -', df['days_employed'].isna().sum())"
   ]
  },
  {
   "cell_type": "markdown",
   "id": "d438b3b4-f0a5-42ca-8c48-aecd2769cca9",
   "metadata": {},
   "source": [
    "Так гораздо лучше.\n",
    "\n",
    "Теперь разберёмся со столбцом с информацией о ежемесячном доходе: `total_income`.\n",
    "Мы уже определили, что 2173 значения из 21524 это пропуски (9,9%). Пропуски так же будем заполнять медианой, т.к. это даст наиболее приближённое значение. Если выбрать среднее, то даже один клиент с очень высоким или низким доходом сместит значение. "
   ]
  },
  {
   "cell_type": "code",
   "execution_count": 14,
   "id": "d517f956-eda0-4388-a284-d7abc1266c61",
   "metadata": {},
   "outputs": [
    {
     "name": "stdout",
     "output_type": "stream",
     "text": [
      "Количество пропусков в столбце `total_income` - 0\n"
     ]
    }
   ],
   "source": [
    "df['total_income'] = df['total_income'].fillna(df.groupby('income_type')['total_income'].transform(\"median\"))\n",
    "\n",
    "# проверим что пропусков в столбце не осталось\n",
    "print('Количество пропусков в столбце `total_income` -', df['total_income'].isna().sum())"
   ]
  },
  {
   "cell_type": "markdown",
   "id": "e8587e21-586a-4155-8c09-d6dfb00efb73",
   "metadata": {},
   "source": [
    "Пропусков больше нет, дальше проверим насколько данные близки к реальности."
   ]
  },
  {
   "cell_type": "markdown",
   "id": "c27ef987",
   "metadata": {},
   "source": [
    "## Проверка данных на аномалии и исправления."
   ]
  },
  {
   "cell_type": "markdown",
   "id": "053b66bb-ba3b-43e5-bca5-a65fa07842d3",
   "metadata": {},
   "source": [
    "Сразу бросается в глаза отрицательное значение стажа, исправим это."
   ]
  },
  {
   "cell_type": "code",
   "execution_count": 15,
   "id": "a3a192cb-b0b7-4e71-8ea4-3d5fe59ec427",
   "metadata": {},
   "outputs": [
    {
     "data": {
      "text/html": [
       "<div>\n",
       "<style scoped>\n",
       "    .dataframe tbody tr th:only-of-type {\n",
       "        vertical-align: middle;\n",
       "    }\n",
       "\n",
       "    .dataframe tbody tr th {\n",
       "        vertical-align: top;\n",
       "    }\n",
       "\n",
       "    .dataframe thead th {\n",
       "        text-align: right;\n",
       "    }\n",
       "</style>\n",
       "<table border=\"1\" class=\"dataframe\">\n",
       "  <thead>\n",
       "    <tr style=\"text-align: right;\">\n",
       "      <th></th>\n",
       "      <th>children</th>\n",
       "      <th>days_employed</th>\n",
       "      <th>dob_years</th>\n",
       "      <th>education</th>\n",
       "      <th>education_id</th>\n",
       "      <th>family_status</th>\n",
       "      <th>family_status_id</th>\n",
       "      <th>gender</th>\n",
       "      <th>income_type</th>\n",
       "      <th>debt</th>\n",
       "      <th>total_income</th>\n",
       "      <th>purpose</th>\n",
       "    </tr>\n",
       "  </thead>\n",
       "  <tbody>\n",
       "    <tr>\n",
       "      <th>0</th>\n",
       "      <td>1</td>\n",
       "      <td>8437.673028</td>\n",
       "      <td>42</td>\n",
       "      <td>высшее</td>\n",
       "      <td>0</td>\n",
       "      <td>женат / замужем</td>\n",
       "      <td>0</td>\n",
       "      <td>F</td>\n",
       "      <td>сотрудник</td>\n",
       "      <td>0</td>\n",
       "      <td>253875.639453</td>\n",
       "      <td>покупка жилья</td>\n",
       "    </tr>\n",
       "    <tr>\n",
       "      <th>1</th>\n",
       "      <td>1</td>\n",
       "      <td>4024.803754</td>\n",
       "      <td>36</td>\n",
       "      <td>среднее</td>\n",
       "      <td>1</td>\n",
       "      <td>женат / замужем</td>\n",
       "      <td>0</td>\n",
       "      <td>F</td>\n",
       "      <td>сотрудник</td>\n",
       "      <td>0</td>\n",
       "      <td>112080.014102</td>\n",
       "      <td>приобретение автомобиля</td>\n",
       "    </tr>\n",
       "    <tr>\n",
       "      <th>2</th>\n",
       "      <td>0</td>\n",
       "      <td>5623.422610</td>\n",
       "      <td>33</td>\n",
       "      <td>Среднее</td>\n",
       "      <td>1</td>\n",
       "      <td>женат / замужем</td>\n",
       "      <td>0</td>\n",
       "      <td>M</td>\n",
       "      <td>сотрудник</td>\n",
       "      <td>0</td>\n",
       "      <td>145885.952297</td>\n",
       "      <td>покупка жилья</td>\n",
       "    </tr>\n",
       "    <tr>\n",
       "      <th>3</th>\n",
       "      <td>3</td>\n",
       "      <td>4124.747207</td>\n",
       "      <td>32</td>\n",
       "      <td>среднее</td>\n",
       "      <td>1</td>\n",
       "      <td>женат / замужем</td>\n",
       "      <td>0</td>\n",
       "      <td>M</td>\n",
       "      <td>сотрудник</td>\n",
       "      <td>0</td>\n",
       "      <td>267628.550329</td>\n",
       "      <td>дополнительное образование</td>\n",
       "    </tr>\n",
       "    <tr>\n",
       "      <th>4</th>\n",
       "      <td>0</td>\n",
       "      <td>340266.072047</td>\n",
       "      <td>53</td>\n",
       "      <td>среднее</td>\n",
       "      <td>1</td>\n",
       "      <td>гражданский брак</td>\n",
       "      <td>1</td>\n",
       "      <td>F</td>\n",
       "      <td>пенсионер</td>\n",
       "      <td>0</td>\n",
       "      <td>158616.077870</td>\n",
       "      <td>сыграть свадьбу</td>\n",
       "    </tr>\n",
       "  </tbody>\n",
       "</table>\n",
       "</div>"
      ],
      "text/plain": [
       "   children  days_employed  dob_years education  education_id  \\\n",
       "0         1    8437.673028         42    высшее             0   \n",
       "1         1    4024.803754         36   среднее             1   \n",
       "2         0    5623.422610         33   Среднее             1   \n",
       "3         3    4124.747207         32   среднее             1   \n",
       "4         0  340266.072047         53   среднее             1   \n",
       "\n",
       "      family_status  family_status_id gender income_type  debt   total_income  \\\n",
       "0   женат / замужем                 0      F   сотрудник     0  253875.639453   \n",
       "1   женат / замужем                 0      F   сотрудник     0  112080.014102   \n",
       "2   женат / замужем                 0      M   сотрудник     0  145885.952297   \n",
       "3   женат / замужем                 0      M   сотрудник     0  267628.550329   \n",
       "4  гражданский брак                 1      F   пенсионер     0  158616.077870   \n",
       "\n",
       "                      purpose  \n",
       "0               покупка жилья  \n",
       "1     приобретение автомобиля  \n",
       "2               покупка жилья  \n",
       "3  дополнительное образование  \n",
       "4             сыграть свадьбу  "
      ]
     },
     "execution_count": 15,
     "metadata": {},
     "output_type": "execute_result"
    }
   ],
   "source": [
    "# возьмём модуль числа и сохраним вместо старого хзначения.\n",
    "# для того чтобы выполнение кода не остановилось встретив недопустимое значение применим внутри цикла конструкцию try...except...\n",
    "for row in range(len(df)):\n",
    "    try:\n",
    "        df.loc[row, 'days_employed'] = abs(df.loc[row, 'days_employed'])\n",
    "    except:\n",
    "        print(f'Неверное значение в строке {row}')\n",
    "df.head()"
   ]
  },
  {
   "cell_type": "markdown",
   "id": "50b663fd-83aa-46f7-ab04-24da058a81f5",
   "metadata": {},
   "source": [
    "Значение в четвёртой колонке вызывает вопросы. Согласно документации, значение стажа дано в днях. Тогда клиент в четвёртой строке имеет стаж в 340266 дней! Возможно, он бессмертный, разберём подробнее."
   ]
  },
  {
   "cell_type": "code",
   "execution_count": 16,
   "id": "7ebda83f-b2d7-4c94-b024-ec340fc9de0c",
   "metadata": {},
   "outputs": [
    {
     "data": {
      "text/plain": [
       "3529"
      ]
     },
     "execution_count": 16,
     "metadata": {},
     "output_type": "execute_result"
    }
   ],
   "source": [
    "# найдём количество клиентов трудовой стаж которых превышает возраст (при условии работы 365 дней в год без выходных)\n",
    "df[df['days_employed'] / 365 > df['dob_years']]['days_employed'].count()"
   ]
  },
  {
   "cell_type": "markdown",
   "id": "b4c1709a-9d9d-4212-824d-8e815880d190",
   "metadata": {},
   "source": [
    "Скорее всего часть данных в столбце имеет мало общего с реальностью, возможно кто-то ошибся и отделил не то количество знаков после запятой (3500 раз), возможно они были повреждены при выгрузке. В любом случае неверных значений оказалось, больше чем пропусков. Запросить свежую выгрузку у банка не представляется возможным, т.к. это учебный проект.\n",
    "\n",
    "Посмотрим какие уникальные значения есть в столбце с детьми:"
   ]
  },
  {
   "cell_type": "code",
   "execution_count": 17,
   "id": "5839433c",
   "metadata": {},
   "outputs": [
    {
     "data": {
      "text/plain": [
       " 0     14149\n",
       " 1      4818\n",
       " 2      2055\n",
       " 3       330\n",
       " 20       76\n",
       "-1        47\n",
       " 4        41\n",
       " 5         9\n",
       "Name: children, dtype: int64"
      ]
     },
     "execution_count": 17,
     "metadata": {},
     "output_type": "execute_result"
    }
   ],
   "source": [
    "df['children'].value_counts()"
   ]
  },
  {
   "cell_type": "markdown",
   "id": "bd8e55f3",
   "metadata": {},
   "source": [
    "В результате мы видим, что в количестве детей в семье однозначно есть прогрессия. Клиентов с большим количеством детей меньше. Но есть и аномалии, это отрицательные и очень высокие значения. К счастью их, немного и они не вносят большой погрешности. Так как 20 детей, это уникальные случаи, то будем считать что это опечатка от 2, как и в случае с -1 к 1."
   ]
  },
  {
   "cell_type": "code",
   "execution_count": 18,
   "id": "970dfedd",
   "metadata": {},
   "outputs": [
    {
     "data": {
      "text/plain": [
       "0    14149\n",
       "1     4865\n",
       "2     2131\n",
       "3      330\n",
       "4       41\n",
       "5        9\n",
       "Name: children, dtype: int64"
      ]
     },
     "execution_count": 18,
     "metadata": {},
     "output_type": "execute_result"
    }
   ],
   "source": [
    "df.loc[df['children'] == -1, 'children'] = 1\n",
    "df.loc[df['children'] == 20, 'children'] = 2\n",
    "df['children'].value_counts()"
   ]
  },
  {
   "cell_type": "markdown",
   "id": "ebfb5c97",
   "metadata": {},
   "source": [
    "Проверим на наличие уникальных значение столбец `gender`"
   ]
  },
  {
   "cell_type": "code",
   "execution_count": 19,
   "id": "315c8d4f",
   "metadata": {},
   "outputs": [
    {
     "data": {
      "text/plain": [
       "array(['F', 'M', 'XNA'], dtype=object)"
      ]
     },
     "execution_count": 19,
     "metadata": {},
     "output_type": "execute_result"
    }
   ],
   "source": [
    "df['gender'].unique()"
   ]
  },
  {
   "cell_type": "markdown",
   "id": "26df6691",
   "metadata": {},
   "source": [
    "Female, Male и скорее всего Хитмен. Посчитаем количество значений `XNA`."
   ]
  },
  {
   "cell_type": "code",
   "execution_count": 20,
   "id": "7d394179",
   "metadata": {},
   "outputs": [
    {
     "data": {
      "text/plain": [
       "1"
      ]
     },
     "execution_count": 20,
     "metadata": {},
     "output_type": "execute_result"
    }
   ],
   "source": [
    "df[df['gender'] == 'XNA']['gender'].count()"
   ]
  },
  {
   "cell_type": "markdown",
   "id": "f9d916c0",
   "metadata": {},
   "source": [
    "Он такой один. Или она. Определить пол по имеющимся данным не получится, поэтому одной строчкой придётся пожертвовать."
   ]
  },
  {
   "cell_type": "code",
   "execution_count": 21,
   "id": "24cb6f10",
   "metadata": {
    "scrolled": true
   },
   "outputs": [
    {
     "data": {
      "text/html": [
       "<div>\n",
       "<style scoped>\n",
       "    .dataframe tbody tr th:only-of-type {\n",
       "        vertical-align: middle;\n",
       "    }\n",
       "\n",
       "    .dataframe tbody tr th {\n",
       "        vertical-align: top;\n",
       "    }\n",
       "\n",
       "    .dataframe thead th {\n",
       "        text-align: right;\n",
       "    }\n",
       "</style>\n",
       "<table border=\"1\" class=\"dataframe\">\n",
       "  <thead>\n",
       "    <tr style=\"text-align: right;\">\n",
       "      <th></th>\n",
       "      <th>children</th>\n",
       "      <th>days_employed</th>\n",
       "      <th>dob_years</th>\n",
       "      <th>education</th>\n",
       "      <th>education_id</th>\n",
       "      <th>family_status</th>\n",
       "      <th>family_status_id</th>\n",
       "      <th>gender</th>\n",
       "      <th>income_type</th>\n",
       "      <th>debt</th>\n",
       "      <th>total_income</th>\n",
       "      <th>purpose</th>\n",
       "    </tr>\n",
       "  </thead>\n",
       "  <tbody>\n",
       "    <tr>\n",
       "      <th>10701</th>\n",
       "      <td>0</td>\n",
       "      <td>2358.600502</td>\n",
       "      <td>24</td>\n",
       "      <td>неоконченное высшее</td>\n",
       "      <td>2</td>\n",
       "      <td>гражданский брак</td>\n",
       "      <td>1</td>\n",
       "      <td>XNA</td>\n",
       "      <td>компаньон</td>\n",
       "      <td>0</td>\n",
       "      <td>203905.157261</td>\n",
       "      <td>покупка недвижимости</td>\n",
       "    </tr>\n",
       "  </tbody>\n",
       "</table>\n",
       "</div>"
      ],
      "text/plain": [
       "       children  days_employed  dob_years            education  education_id  \\\n",
       "10701         0    2358.600502         24  неоконченное высшее             2   \n",
       "\n",
       "          family_status  family_status_id gender income_type  debt  \\\n",
       "10701  гражданский брак                 1    XNA   компаньон     0   \n",
       "\n",
       "        total_income               purpose  \n",
       "10701  203905.157261  покупка недвижимости  "
      ]
     },
     "metadata": {},
     "output_type": "display_data"
    }
   ],
   "source": [
    "display(df[df['gender'] == 'XNA'])"
   ]
  },
  {
   "cell_type": "code",
   "execution_count": 22,
   "id": "bfb7f0ce",
   "metadata": {},
   "outputs": [],
   "source": [
    "df.drop(labels = [10701],axis = 0, inplace = True)"
   ]
  },
  {
   "cell_type": "code",
   "execution_count": 23,
   "id": "09c58f5f",
   "metadata": {},
   "outputs": [
    {
     "data": {
      "text/plain": [
       "array(['F', 'M'], dtype=object)"
      ]
     },
     "execution_count": 23,
     "metadata": {},
     "output_type": "execute_result"
    }
   ],
   "source": [
    "df['gender'].unique()"
   ]
  },
  {
   "cell_type": "markdown",
   "id": "98b78cfa",
   "metadata": {},
   "source": [
    "## Изменение типов данных."
   ]
  },
  {
   "cell_type": "markdown",
   "id": "f28a483f-562a-4fef-8339-d631504e9694",
   "metadata": {},
   "source": [
    "Так же значения в колонке имеют десятичную часть до шестого знака, нам такая точность излишне, преобразуем в целое число."
   ]
  },
  {
   "cell_type": "code",
   "execution_count": 24,
   "id": "594d47e5",
   "metadata": {},
   "outputs": [],
   "source": [
    "#Приведём данные к целочисленному типу\n",
    "df['days_employed'] = df['days_employed'].astype('int')\n",
    "df['total_income'] = df['total_income'].astype('int')"
   ]
  },
  {
   "cell_type": "markdown",
   "id": "0f7bf71f",
   "metadata": {},
   "source": [
    "## Удаление дубликатов."
   ]
  },
  {
   "cell_type": "markdown",
   "id": "cca8741b-f592-45f4-8609-5851ff700509",
   "metadata": {},
   "source": [
    "В столбце `education` встречается написание одного значения разным стилем. Получим список всех уникальных значений столбца."
   ]
  },
  {
   "cell_type": "code",
   "execution_count": 25,
   "id": "093ee3ae-5492-4811-913d-c1af88ccdce3",
   "metadata": {},
   "outputs": [
    {
     "data": {
      "text/plain": [
       "array(['высшее', 'среднее', 'Среднее', 'СРЕДНЕЕ', 'ВЫСШЕЕ',\n",
       "       'неоконченное высшее', 'начальное', 'Высшее',\n",
       "       'НЕОКОНЧЕННОЕ ВЫСШЕЕ', 'Неоконченное высшее', 'НАЧАЛЬНОЕ',\n",
       "       'Начальное', 'Ученая степень', 'УЧЕНАЯ СТЕПЕНЬ', 'ученая степень'],\n",
       "      dtype=object)"
      ]
     },
     "execution_count": 25,
     "metadata": {},
     "output_type": "execute_result"
    }
   ],
   "source": [
    "df['education'].unique()"
   ]
  },
  {
   "cell_type": "markdown",
   "id": "114eae23-270e-4910-b8cd-3d2a05124160",
   "metadata": {},
   "source": [
    "Получается, что каждое образование записано тремя альтернативными способами. Скорее всего это связано с тем, что нет общепринятого стандарта как заносить данные в таблицу и люди записывают их так как им удобно. Группировка или сортировка такого столбца будет некорректной, приведём всё в порядок. Для этого приведём все символы строк к нижнему регистру."
   ]
  },
  {
   "cell_type": "code",
   "execution_count": 26,
   "id": "f9d4ae41",
   "metadata": {},
   "outputs": [
    {
     "data": {
      "text/plain": [
       "array(['высшее', 'среднее', 'неоконченное высшее', 'начальное',\n",
       "       'ученая степень'], dtype=object)"
      ]
     },
     "execution_count": 26,
     "metadata": {},
     "output_type": "execute_result"
    }
   ],
   "source": [
    "df['education'] = df['education'].str.lower()\n",
    "df['education'].unique() # ещё раз запросим список уникальных значений"
   ]
  },
  {
   "cell_type": "markdown",
   "id": "a3047bc6-1b46-4a5b-bbc4-b7135c27ca69",
   "metadata": {},
   "source": [
    "Проверим датафрейм на наличие явных дубликатов:"
   ]
  },
  {
   "cell_type": "code",
   "execution_count": 27,
   "id": "1bc718d6-9ceb-46ad-993f-3a8326df4b3a",
   "metadata": {},
   "outputs": [
    {
     "name": "stdout",
     "output_type": "stream",
     "text": [
      "Явных дубликатов - 71\n"
     ]
    },
    {
     "data": {
      "text/html": [
       "<div>\n",
       "<style scoped>\n",
       "    .dataframe tbody tr th:only-of-type {\n",
       "        vertical-align: middle;\n",
       "    }\n",
       "\n",
       "    .dataframe tbody tr th {\n",
       "        vertical-align: top;\n",
       "    }\n",
       "\n",
       "    .dataframe thead th {\n",
       "        text-align: right;\n",
       "    }\n",
       "</style>\n",
       "<table border=\"1\" class=\"dataframe\">\n",
       "  <thead>\n",
       "    <tr style=\"text-align: right;\">\n",
       "      <th></th>\n",
       "      <th>children</th>\n",
       "      <th>days_employed</th>\n",
       "      <th>dob_years</th>\n",
       "      <th>education</th>\n",
       "      <th>education_id</th>\n",
       "      <th>family_status</th>\n",
       "      <th>family_status_id</th>\n",
       "      <th>gender</th>\n",
       "      <th>income_type</th>\n",
       "      <th>debt</th>\n",
       "      <th>total_income</th>\n",
       "      <th>purpose</th>\n",
       "    </tr>\n",
       "  </thead>\n",
       "  <tbody>\n",
       "    <tr>\n",
       "      <th>2849</th>\n",
       "      <td>0</td>\n",
       "      <td>1203</td>\n",
       "      <td>41</td>\n",
       "      <td>среднее</td>\n",
       "      <td>1</td>\n",
       "      <td>женат / замужем</td>\n",
       "      <td>0</td>\n",
       "      <td>F</td>\n",
       "      <td>сотрудник</td>\n",
       "      <td>0</td>\n",
       "      <td>142594</td>\n",
       "      <td>покупка жилья для семьи</td>\n",
       "    </tr>\n",
       "    <tr>\n",
       "      <th>3290</th>\n",
       "      <td>0</td>\n",
       "      <td>1203</td>\n",
       "      <td>58</td>\n",
       "      <td>среднее</td>\n",
       "      <td>1</td>\n",
       "      <td>гражданский брак</td>\n",
       "      <td>1</td>\n",
       "      <td>F</td>\n",
       "      <td>пенсионер</td>\n",
       "      <td>0</td>\n",
       "      <td>118514</td>\n",
       "      <td>сыграть свадьбу</td>\n",
       "    </tr>\n",
       "    <tr>\n",
       "      <th>4182</th>\n",
       "      <td>1</td>\n",
       "      <td>1203</td>\n",
       "      <td>34</td>\n",
       "      <td>высшее</td>\n",
       "      <td>0</td>\n",
       "      <td>гражданский брак</td>\n",
       "      <td>1</td>\n",
       "      <td>F</td>\n",
       "      <td>сотрудник</td>\n",
       "      <td>0</td>\n",
       "      <td>142594</td>\n",
       "      <td>свадьба</td>\n",
       "    </tr>\n",
       "    <tr>\n",
       "      <th>4851</th>\n",
       "      <td>0</td>\n",
       "      <td>1203</td>\n",
       "      <td>60</td>\n",
       "      <td>среднее</td>\n",
       "      <td>1</td>\n",
       "      <td>гражданский брак</td>\n",
       "      <td>1</td>\n",
       "      <td>F</td>\n",
       "      <td>пенсионер</td>\n",
       "      <td>0</td>\n",
       "      <td>118514</td>\n",
       "      <td>свадьба</td>\n",
       "    </tr>\n",
       "    <tr>\n",
       "      <th>5557</th>\n",
       "      <td>0</td>\n",
       "      <td>1203</td>\n",
       "      <td>58</td>\n",
       "      <td>среднее</td>\n",
       "      <td>1</td>\n",
       "      <td>гражданский брак</td>\n",
       "      <td>1</td>\n",
       "      <td>F</td>\n",
       "      <td>пенсионер</td>\n",
       "      <td>0</td>\n",
       "      <td>118514</td>\n",
       "      <td>сыграть свадьбу</td>\n",
       "    </tr>\n",
       "    <tr>\n",
       "      <th>6312</th>\n",
       "      <td>0</td>\n",
       "      <td>1203</td>\n",
       "      <td>30</td>\n",
       "      <td>среднее</td>\n",
       "      <td>1</td>\n",
       "      <td>женат / замужем</td>\n",
       "      <td>0</td>\n",
       "      <td>M</td>\n",
       "      <td>сотрудник</td>\n",
       "      <td>0</td>\n",
       "      <td>142594</td>\n",
       "      <td>строительство жилой недвижимости</td>\n",
       "    </tr>\n",
       "    <tr>\n",
       "      <th>7808</th>\n",
       "      <td>0</td>\n",
       "      <td>1203</td>\n",
       "      <td>57</td>\n",
       "      <td>среднее</td>\n",
       "      <td>1</td>\n",
       "      <td>гражданский брак</td>\n",
       "      <td>1</td>\n",
       "      <td>F</td>\n",
       "      <td>пенсионер</td>\n",
       "      <td>0</td>\n",
       "      <td>118514</td>\n",
       "      <td>на проведение свадьбы</td>\n",
       "    </tr>\n",
       "    <tr>\n",
       "      <th>7921</th>\n",
       "      <td>0</td>\n",
       "      <td>1203</td>\n",
       "      <td>64</td>\n",
       "      <td>высшее</td>\n",
       "      <td>0</td>\n",
       "      <td>гражданский брак</td>\n",
       "      <td>1</td>\n",
       "      <td>F</td>\n",
       "      <td>пенсионер</td>\n",
       "      <td>0</td>\n",
       "      <td>118514</td>\n",
       "      <td>на проведение свадьбы</td>\n",
       "    </tr>\n",
       "    <tr>\n",
       "      <th>7938</th>\n",
       "      <td>0</td>\n",
       "      <td>1203</td>\n",
       "      <td>71</td>\n",
       "      <td>среднее</td>\n",
       "      <td>1</td>\n",
       "      <td>гражданский брак</td>\n",
       "      <td>1</td>\n",
       "      <td>F</td>\n",
       "      <td>пенсионер</td>\n",
       "      <td>0</td>\n",
       "      <td>118514</td>\n",
       "      <td>на проведение свадьбы</td>\n",
       "    </tr>\n",
       "    <tr>\n",
       "      <th>8583</th>\n",
       "      <td>0</td>\n",
       "      <td>1203</td>\n",
       "      <td>58</td>\n",
       "      <td>высшее</td>\n",
       "      <td>0</td>\n",
       "      <td>Не женат / не замужем</td>\n",
       "      <td>4</td>\n",
       "      <td>F</td>\n",
       "      <td>пенсионер</td>\n",
       "      <td>0</td>\n",
       "      <td>118514</td>\n",
       "      <td>дополнительное образование</td>\n",
       "    </tr>\n",
       "  </tbody>\n",
       "</table>\n",
       "</div>"
      ],
      "text/plain": [
       "      children  days_employed  dob_years education  education_id  \\\n",
       "2849         0           1203         41   среднее             1   \n",
       "3290         0           1203         58   среднее             1   \n",
       "4182         1           1203         34    высшее             0   \n",
       "4851         0           1203         60   среднее             1   \n",
       "5557         0           1203         58   среднее             1   \n",
       "6312         0           1203         30   среднее             1   \n",
       "7808         0           1203         57   среднее             1   \n",
       "7921         0           1203         64    высшее             0   \n",
       "7938         0           1203         71   среднее             1   \n",
       "8583         0           1203         58    высшее             0   \n",
       "\n",
       "              family_status  family_status_id gender income_type  debt  \\\n",
       "2849        женат / замужем                 0      F   сотрудник     0   \n",
       "3290       гражданский брак                 1      F   пенсионер     0   \n",
       "4182       гражданский брак                 1      F   сотрудник     0   \n",
       "4851       гражданский брак                 1      F   пенсионер     0   \n",
       "5557       гражданский брак                 1      F   пенсионер     0   \n",
       "6312        женат / замужем                 0      M   сотрудник     0   \n",
       "7808       гражданский брак                 1      F   пенсионер     0   \n",
       "7921       гражданский брак                 1      F   пенсионер     0   \n",
       "7938       гражданский брак                 1      F   пенсионер     0   \n",
       "8583  Не женат / не замужем                 4      F   пенсионер     0   \n",
       "\n",
       "      total_income                           purpose  \n",
       "2849        142594           покупка жилья для семьи  \n",
       "3290        118514                   сыграть свадьбу  \n",
       "4182        142594                           свадьба  \n",
       "4851        118514                           свадьба  \n",
       "5557        118514                   сыграть свадьбу  \n",
       "6312        142594  строительство жилой недвижимости  \n",
       "7808        118514             на проведение свадьбы  \n",
       "7921        118514             на проведение свадьбы  \n",
       "7938        118514             на проведение свадьбы  \n",
       "8583        118514        дополнительное образование  "
      ]
     },
     "execution_count": 27,
     "metadata": {},
     "output_type": "execute_result"
    }
   ],
   "source": [
    "df_duplicated = df[df.duplicated()]\n",
    "print('Явных дубликатов -', df.duplicated().sum())\n",
    "df_duplicated.head(10)"
   ]
  },
  {
   "cell_type": "markdown",
   "id": "6ab8bfeb-98be-4eb6-a358-2cc5a0a5ce3e",
   "metadata": {},
   "source": [
    "Метод `.duplicated()` выявил 405 дубликат в датафрейме.\n",
    "Просмотрев таблицу с дубликатами, можно сказать, что дубликатов в ней нет. Есть похожие клиенты, но с разным возростом, т.е. люди могли обращаться в банк в разные периоды жизни или с разными целями.\n",
    "\n",
    "После предобработки датафрейм не содержит пропусков, дубликатов и аномалий. Теперь можно приступать к дальнейшему формированию и непосредственно аналитике."
   ]
  },
  {
   "cell_type": "markdown",
   "id": "1f0ea32b",
   "metadata": {},
   "source": [
    "## Формирование дополнительных датафреймов словарей, декомпозиция исходного датафрейма."
   ]
  },
  {
   "cell_type": "markdown",
   "id": "954770c8",
   "metadata": {},
   "source": [
    "Каждому значению в `education` соответствует значение в столбце `education_id`, аналогично для столбца `family_status`. Для удобства работы с таблицей и её большей наглядности создадим из этих столбцов отдельные словари.\n",
    "\n",
    "Для начала найдём все уникальные значения столбца `education`:"
   ]
  },
  {
   "cell_type": "code",
   "execution_count": 28,
   "id": "689c57a8",
   "metadata": {},
   "outputs": [
    {
     "data": {
      "text/plain": [
       "среднее                15233\n",
       "высшее                  5260\n",
       "неоконченное высшее      743\n",
       "начальное                282\n",
       "ученая степень             6\n",
       "Name: education, dtype: int64"
      ]
     },
     "execution_count": 28,
     "metadata": {},
     "output_type": "execute_result"
    }
   ],
   "source": [
    "df['education'].value_counts()"
   ]
  },
  {
   "cell_type": "markdown",
   "id": "0215c2cb",
   "metadata": {},
   "source": [
    "Выделим столбцы в отдельный словарь:"
   ]
  },
  {
   "cell_type": "code",
   "execution_count": 29,
   "id": "3c30323f",
   "metadata": {},
   "outputs": [
    {
     "data": {
      "text/html": [
       "<div>\n",
       "<style scoped>\n",
       "    .dataframe tbody tr th:only-of-type {\n",
       "        vertical-align: middle;\n",
       "    }\n",
       "\n",
       "    .dataframe tbody tr th {\n",
       "        vertical-align: top;\n",
       "    }\n",
       "\n",
       "    .dataframe thead th {\n",
       "        text-align: right;\n",
       "    }\n",
       "</style>\n",
       "<table border=\"1\" class=\"dataframe\">\n",
       "  <thead>\n",
       "    <tr style=\"text-align: right;\">\n",
       "      <th></th>\n",
       "      <th>education_id</th>\n",
       "      <th>education</th>\n",
       "    </tr>\n",
       "  </thead>\n",
       "  <tbody>\n",
       "    <tr>\n",
       "      <th>0</th>\n",
       "      <td>0</td>\n",
       "      <td>высшее</td>\n",
       "    </tr>\n",
       "    <tr>\n",
       "      <th>1</th>\n",
       "      <td>1</td>\n",
       "      <td>среднее</td>\n",
       "    </tr>\n",
       "    <tr>\n",
       "      <th>2</th>\n",
       "      <td>1</td>\n",
       "      <td>среднее</td>\n",
       "    </tr>\n",
       "    <tr>\n",
       "      <th>3</th>\n",
       "      <td>1</td>\n",
       "      <td>среднее</td>\n",
       "    </tr>\n",
       "    <tr>\n",
       "      <th>4</th>\n",
       "      <td>1</td>\n",
       "      <td>среднее</td>\n",
       "    </tr>\n",
       "  </tbody>\n",
       "</table>\n",
       "</div>"
      ],
      "text/plain": [
       "   education_id education\n",
       "0             0    высшее\n",
       "1             1   среднее\n",
       "2             1   среднее\n",
       "3             1   среднее\n",
       "4             1   среднее"
      ]
     },
     "execution_count": 29,
     "metadata": {},
     "output_type": "execute_result"
    }
   ],
   "source": [
    "education_dict = df[['education_id','education']]\n",
    "education_dict.head()"
   ]
  },
  {
   "cell_type": "markdown",
   "id": "693ae83e",
   "metadata": {},
   "source": [
    "В словаре большое количество дубликатов. Фактически их можно сократить до 5. Удалим дубликаты и сбросим индексы."
   ]
  },
  {
   "cell_type": "code",
   "execution_count": 30,
   "id": "8e2ff0aa",
   "metadata": {},
   "outputs": [
    {
     "data": {
      "text/html": [
       "<div>\n",
       "<style scoped>\n",
       "    .dataframe tbody tr th:only-of-type {\n",
       "        vertical-align: middle;\n",
       "    }\n",
       "\n",
       "    .dataframe tbody tr th {\n",
       "        vertical-align: top;\n",
       "    }\n",
       "\n",
       "    .dataframe thead th {\n",
       "        text-align: right;\n",
       "    }\n",
       "</style>\n",
       "<table border=\"1\" class=\"dataframe\">\n",
       "  <thead>\n",
       "    <tr style=\"text-align: right;\">\n",
       "      <th></th>\n",
       "      <th>education_id</th>\n",
       "      <th>education</th>\n",
       "    </tr>\n",
       "  </thead>\n",
       "  <tbody>\n",
       "    <tr>\n",
       "      <th>0</th>\n",
       "      <td>0</td>\n",
       "      <td>высшее</td>\n",
       "    </tr>\n",
       "    <tr>\n",
       "      <th>1</th>\n",
       "      <td>1</td>\n",
       "      <td>среднее</td>\n",
       "    </tr>\n",
       "    <tr>\n",
       "      <th>2</th>\n",
       "      <td>2</td>\n",
       "      <td>неоконченное высшее</td>\n",
       "    </tr>\n",
       "    <tr>\n",
       "      <th>3</th>\n",
       "      <td>3</td>\n",
       "      <td>начальное</td>\n",
       "    </tr>\n",
       "    <tr>\n",
       "      <th>4</th>\n",
       "      <td>4</td>\n",
       "      <td>ученая степень</td>\n",
       "    </tr>\n",
       "  </tbody>\n",
       "</table>\n",
       "</div>"
      ],
      "text/plain": [
       "   education_id            education\n",
       "0             0               высшее\n",
       "1             1              среднее\n",
       "2             2  неоконченное высшее\n",
       "3             3            начальное\n",
       "4             4       ученая степень"
      ]
     },
     "execution_count": 30,
     "metadata": {},
     "output_type": "execute_result"
    }
   ],
   "source": [
    "education_dict = education_dict.drop_duplicates().reset_index(drop=True)\n",
    "education_dict"
   ]
  },
  {
   "cell_type": "markdown",
   "id": "abb233e4",
   "metadata": {},
   "source": [
    "Теперь столбец `education` можно удалить и обращаться к его данным по индексу из `education_id`. Поступим аналогично с `family_status`:"
   ]
  },
  {
   "cell_type": "code",
   "execution_count": 31,
   "id": "d13757ce-6d79-47dd-9955-32acaacff081",
   "metadata": {},
   "outputs": [
    {
     "data": {
      "text/html": [
       "<div>\n",
       "<style scoped>\n",
       "    .dataframe tbody tr th:only-of-type {\n",
       "        vertical-align: middle;\n",
       "    }\n",
       "\n",
       "    .dataframe tbody tr th {\n",
       "        vertical-align: top;\n",
       "    }\n",
       "\n",
       "    .dataframe thead th {\n",
       "        text-align: right;\n",
       "    }\n",
       "</style>\n",
       "<table border=\"1\" class=\"dataframe\">\n",
       "  <thead>\n",
       "    <tr style=\"text-align: right;\">\n",
       "      <th></th>\n",
       "      <th>family_status_id</th>\n",
       "      <th>family_status</th>\n",
       "    </tr>\n",
       "  </thead>\n",
       "  <tbody>\n",
       "    <tr>\n",
       "      <th>0</th>\n",
       "      <td>0</td>\n",
       "      <td>женат / замужем</td>\n",
       "    </tr>\n",
       "    <tr>\n",
       "      <th>1</th>\n",
       "      <td>1</td>\n",
       "      <td>гражданский брак</td>\n",
       "    </tr>\n",
       "    <tr>\n",
       "      <th>2</th>\n",
       "      <td>2</td>\n",
       "      <td>вдовец / вдова</td>\n",
       "    </tr>\n",
       "    <tr>\n",
       "      <th>3</th>\n",
       "      <td>3</td>\n",
       "      <td>в разводе</td>\n",
       "    </tr>\n",
       "    <tr>\n",
       "      <th>4</th>\n",
       "      <td>4</td>\n",
       "      <td>Не женат / не замужем</td>\n",
       "    </tr>\n",
       "  </tbody>\n",
       "</table>\n",
       "</div>"
      ],
      "text/plain": [
       "   family_status_id          family_status\n",
       "0                 0        женат / замужем\n",
       "1                 1       гражданский брак\n",
       "2                 2         вдовец / вдова\n",
       "3                 3              в разводе\n",
       "4                 4  Не женат / не замужем"
      ]
     },
     "execution_count": 31,
     "metadata": {},
     "output_type": "execute_result"
    }
   ],
   "source": [
    "family_status_dict = df[['family_status_id', 'family_status']]\n",
    "family_status_dict = family_status_dict.drop_duplicates().reset_index(drop=True)\n",
    "family_status_dict.head()"
   ]
  },
  {
   "cell_type": "markdown",
   "id": "16e760bf",
   "metadata": {},
   "source": [
    "Столбцы `education` и `family_status` можно удалить из исходного датафрейма."
   ]
  },
  {
   "cell_type": "code",
   "execution_count": 32,
   "id": "9ef83ca1",
   "metadata": {},
   "outputs": [
    {
     "data": {
      "text/html": [
       "<div>\n",
       "<style scoped>\n",
       "    .dataframe tbody tr th:only-of-type {\n",
       "        vertical-align: middle;\n",
       "    }\n",
       "\n",
       "    .dataframe tbody tr th {\n",
       "        vertical-align: top;\n",
       "    }\n",
       "\n",
       "    .dataframe thead th {\n",
       "        text-align: right;\n",
       "    }\n",
       "</style>\n",
       "<table border=\"1\" class=\"dataframe\">\n",
       "  <thead>\n",
       "    <tr style=\"text-align: right;\">\n",
       "      <th></th>\n",
       "      <th>children</th>\n",
       "      <th>days_employed</th>\n",
       "      <th>dob_years</th>\n",
       "      <th>education_id</th>\n",
       "      <th>family_status_id</th>\n",
       "      <th>gender</th>\n",
       "      <th>income_type</th>\n",
       "      <th>debt</th>\n",
       "      <th>total_income</th>\n",
       "      <th>purpose</th>\n",
       "    </tr>\n",
       "  </thead>\n",
       "  <tbody>\n",
       "    <tr>\n",
       "      <th>0</th>\n",
       "      <td>1</td>\n",
       "      <td>8437</td>\n",
       "      <td>42</td>\n",
       "      <td>0</td>\n",
       "      <td>0</td>\n",
       "      <td>F</td>\n",
       "      <td>сотрудник</td>\n",
       "      <td>0</td>\n",
       "      <td>253875</td>\n",
       "      <td>покупка жилья</td>\n",
       "    </tr>\n",
       "    <tr>\n",
       "      <th>1</th>\n",
       "      <td>1</td>\n",
       "      <td>4024</td>\n",
       "      <td>36</td>\n",
       "      <td>1</td>\n",
       "      <td>0</td>\n",
       "      <td>F</td>\n",
       "      <td>сотрудник</td>\n",
       "      <td>0</td>\n",
       "      <td>112080</td>\n",
       "      <td>приобретение автомобиля</td>\n",
       "    </tr>\n",
       "    <tr>\n",
       "      <th>2</th>\n",
       "      <td>0</td>\n",
       "      <td>5623</td>\n",
       "      <td>33</td>\n",
       "      <td>1</td>\n",
       "      <td>0</td>\n",
       "      <td>M</td>\n",
       "      <td>сотрудник</td>\n",
       "      <td>0</td>\n",
       "      <td>145885</td>\n",
       "      <td>покупка жилья</td>\n",
       "    </tr>\n",
       "    <tr>\n",
       "      <th>3</th>\n",
       "      <td>3</td>\n",
       "      <td>4124</td>\n",
       "      <td>32</td>\n",
       "      <td>1</td>\n",
       "      <td>0</td>\n",
       "      <td>M</td>\n",
       "      <td>сотрудник</td>\n",
       "      <td>0</td>\n",
       "      <td>267628</td>\n",
       "      <td>дополнительное образование</td>\n",
       "    </tr>\n",
       "    <tr>\n",
       "      <th>4</th>\n",
       "      <td>0</td>\n",
       "      <td>340266</td>\n",
       "      <td>53</td>\n",
       "      <td>1</td>\n",
       "      <td>1</td>\n",
       "      <td>F</td>\n",
       "      <td>пенсионер</td>\n",
       "      <td>0</td>\n",
       "      <td>158616</td>\n",
       "      <td>сыграть свадьбу</td>\n",
       "    </tr>\n",
       "  </tbody>\n",
       "</table>\n",
       "</div>"
      ],
      "text/plain": [
       "   children  days_employed  dob_years  education_id  family_status_id gender  \\\n",
       "0         1           8437         42             0                 0      F   \n",
       "1         1           4024         36             1                 0      F   \n",
       "2         0           5623         33             1                 0      M   \n",
       "3         3           4124         32             1                 0      M   \n",
       "4         0         340266         53             1                 1      F   \n",
       "\n",
       "  income_type  debt  total_income                     purpose  \n",
       "0   сотрудник     0        253875               покупка жилья  \n",
       "1   сотрудник     0        112080     приобретение автомобиля  \n",
       "2   сотрудник     0        145885               покупка жилья  \n",
       "3   сотрудник     0        267628  дополнительное образование  \n",
       "4   пенсионер     0        158616             сыграть свадьбу  "
      ]
     },
     "execution_count": 32,
     "metadata": {},
     "output_type": "execute_result"
    }
   ],
   "source": [
    "df = df.drop(columns=['education', 'family_status'], axis = 1)\n",
    "df.head()"
   ]
  },
  {
   "cell_type": "markdown",
   "id": "fea8be81",
   "metadata": {},
   "source": [
    "## Категоризация дохода."
   ]
  },
  {
   "cell_type": "markdown",
   "id": "c6002010",
   "metadata": {},
   "source": [
    "Посчитаем клиентов по уровню зарплаты:"
   ]
  },
  {
   "cell_type": "code",
   "execution_count": 33,
   "id": "574f2c2a",
   "metadata": {},
   "outputs": [
    {
     "data": {
      "text/plain": [
       "142594    1105\n",
       "172357     509\n",
       "118514     414\n",
       "150447     147\n",
       "161807       3\n",
       "          ... \n",
       "300306       1\n",
       "381117       1\n",
       "70100        1\n",
       "110461       1\n",
       "82047        1\n",
       "Name: total_income, Length: 18607, dtype: int64"
      ]
     },
     "execution_count": 33,
     "metadata": {},
     "output_type": "execute_result"
    }
   ],
   "source": [
    "df['total_income'].value_counts()"
   ]
  },
  {
   "cell_type": "markdown",
   "id": "eb3f7ce2",
   "metadata": {},
   "source": [
    "Сложно сделать какие-либо выводы из единичных отрывков данных. Для того что бы дать аналитику по данному столбцу, сгруппируем данные по диапазонам зарплат."
   ]
  },
  {
   "cell_type": "code",
   "execution_count": 34,
   "id": "1e193b5d",
   "metadata": {},
   "outputs": [
    {
     "name": "stdout",
     "output_type": "stream",
     "text": [
      "A\n",
      "B\n",
      "C\n",
      "D\n",
      "E\n"
     ]
    }
   ],
   "source": [
    "# напишем функцию возвращающую категорию зависящую от диапазона\n",
    "def income_group(income):\n",
    "    if 0 <= income <= 30000:\n",
    "        return 'E'\n",
    "    if 30001 <= income <= 50000:\n",
    "        return 'D'\n",
    "    if 50001 <= income <= 200000:\n",
    "        return 'C'\n",
    "    if 200001 <= income <= 1000000:\n",
    "        return 'B'\n",
    "    if 1000001 <= income:\n",
    "        return 'A'\n",
    "    \n",
    "#проверим\n",
    "print(income_group(8000000))\n",
    "print(income_group(235000))\n",
    "print(income_group(60000))\n",
    "print(income_group(50000))\n",
    "print(income_group(25000))"
   ]
  },
  {
   "cell_type": "markdown",
   "id": "266f872f",
   "metadata": {},
   "source": [
    "Функция работает корректно. Теперь методом `.apply` добавим новый столбец с полученными категориями в таблицу:"
   ]
  },
  {
   "cell_type": "code",
   "execution_count": 35,
   "id": "3da3750d",
   "metadata": {},
   "outputs": [
    {
     "data": {
      "text/html": [
       "<div>\n",
       "<style scoped>\n",
       "    .dataframe tbody tr th:only-of-type {\n",
       "        vertical-align: middle;\n",
       "    }\n",
       "\n",
       "    .dataframe tbody tr th {\n",
       "        vertical-align: top;\n",
       "    }\n",
       "\n",
       "    .dataframe thead th {\n",
       "        text-align: right;\n",
       "    }\n",
       "</style>\n",
       "<table border=\"1\" class=\"dataframe\">\n",
       "  <thead>\n",
       "    <tr style=\"text-align: right;\">\n",
       "      <th></th>\n",
       "      <th>children</th>\n",
       "      <th>days_employed</th>\n",
       "      <th>dob_years</th>\n",
       "      <th>education_id</th>\n",
       "      <th>family_status_id</th>\n",
       "      <th>gender</th>\n",
       "      <th>income_type</th>\n",
       "      <th>debt</th>\n",
       "      <th>total_income</th>\n",
       "      <th>purpose</th>\n",
       "      <th>total_income_category</th>\n",
       "    </tr>\n",
       "  </thead>\n",
       "  <tbody>\n",
       "    <tr>\n",
       "      <th>0</th>\n",
       "      <td>1</td>\n",
       "      <td>8437</td>\n",
       "      <td>42</td>\n",
       "      <td>0</td>\n",
       "      <td>0</td>\n",
       "      <td>F</td>\n",
       "      <td>сотрудник</td>\n",
       "      <td>0</td>\n",
       "      <td>253875</td>\n",
       "      <td>покупка жилья</td>\n",
       "      <td>B</td>\n",
       "    </tr>\n",
       "    <tr>\n",
       "      <th>1</th>\n",
       "      <td>1</td>\n",
       "      <td>4024</td>\n",
       "      <td>36</td>\n",
       "      <td>1</td>\n",
       "      <td>0</td>\n",
       "      <td>F</td>\n",
       "      <td>сотрудник</td>\n",
       "      <td>0</td>\n",
       "      <td>112080</td>\n",
       "      <td>приобретение автомобиля</td>\n",
       "      <td>C</td>\n",
       "    </tr>\n",
       "    <tr>\n",
       "      <th>2</th>\n",
       "      <td>0</td>\n",
       "      <td>5623</td>\n",
       "      <td>33</td>\n",
       "      <td>1</td>\n",
       "      <td>0</td>\n",
       "      <td>M</td>\n",
       "      <td>сотрудник</td>\n",
       "      <td>0</td>\n",
       "      <td>145885</td>\n",
       "      <td>покупка жилья</td>\n",
       "      <td>C</td>\n",
       "    </tr>\n",
       "    <tr>\n",
       "      <th>3</th>\n",
       "      <td>3</td>\n",
       "      <td>4124</td>\n",
       "      <td>32</td>\n",
       "      <td>1</td>\n",
       "      <td>0</td>\n",
       "      <td>M</td>\n",
       "      <td>сотрудник</td>\n",
       "      <td>0</td>\n",
       "      <td>267628</td>\n",
       "      <td>дополнительное образование</td>\n",
       "      <td>B</td>\n",
       "    </tr>\n",
       "    <tr>\n",
       "      <th>4</th>\n",
       "      <td>0</td>\n",
       "      <td>340266</td>\n",
       "      <td>53</td>\n",
       "      <td>1</td>\n",
       "      <td>1</td>\n",
       "      <td>F</td>\n",
       "      <td>пенсионер</td>\n",
       "      <td>0</td>\n",
       "      <td>158616</td>\n",
       "      <td>сыграть свадьбу</td>\n",
       "      <td>C</td>\n",
       "    </tr>\n",
       "  </tbody>\n",
       "</table>\n",
       "</div>"
      ],
      "text/plain": [
       "   children  days_employed  dob_years  education_id  family_status_id gender  \\\n",
       "0         1           8437         42             0                 0      F   \n",
       "1         1           4024         36             1                 0      F   \n",
       "2         0           5623         33             1                 0      M   \n",
       "3         3           4124         32             1                 0      M   \n",
       "4         0         340266         53             1                 1      F   \n",
       "\n",
       "  income_type  debt  total_income                     purpose  \\\n",
       "0   сотрудник     0        253875               покупка жилья   \n",
       "1   сотрудник     0        112080     приобретение автомобиля   \n",
       "2   сотрудник     0        145885               покупка жилья   \n",
       "3   сотрудник     0        267628  дополнительное образование   \n",
       "4   пенсионер     0        158616             сыграть свадьбу   \n",
       "\n",
       "  total_income_category  \n",
       "0                     B  \n",
       "1                     C  \n",
       "2                     C  \n",
       "3                     B  \n",
       "4                     C  "
      ]
     },
     "execution_count": 35,
     "metadata": {},
     "output_type": "execute_result"
    }
   ],
   "source": [
    "df['total_income_category'] = df['total_income'].apply(income_group)\n",
    "df.head()"
   ]
  },
  {
   "cell_type": "markdown",
   "id": "61053588",
   "metadata": {},
   "source": [
    "Результатом работы стал столбец с категориями клиентов. Категорий всего 5, в таком виде данные подходят для анализа."
   ]
  },
  {
   "cell_type": "markdown",
   "id": "b7330b1d",
   "metadata": {},
   "source": [
    "## Категоризация целей кредита."
   ]
  },
  {
   "cell_type": "markdown",
   "id": "47c9e6a7",
   "metadata": {},
   "source": [
    "Создайте функцию, которая на основании данных из столбца purpose сформирует новый столбец purpose_category, в который войдут следующие категории:\n",
    "'операции с автомобилем',\n",
    "'операции с недвижимостью',\n",
    "'проведение свадьбы',\n",
    "'получение образования'.\n",
    "Например, если в столбце purpose находится подстрока 'на покупку автомобиля', то в столбце purpose_category должна появиться строка 'операции с автомобилем'.\n",
    "Вы можете использовать собственную функцию и метод apply(). Изучите данные в столбце purpose и определите, какие подстроки помогут вам правильно определить категорию."
   ]
  },
  {
   "cell_type": "code",
   "execution_count": 36,
   "id": "023ddca7",
   "metadata": {},
   "outputs": [
    {
     "data": {
      "text/plain": [
       "array(['покупка жилья', 'приобретение автомобиля',\n",
       "       'дополнительное образование', 'сыграть свадьбу',\n",
       "       'операции с жильем', 'образование', 'на проведение свадьбы',\n",
       "       'покупка жилья для семьи', 'покупка недвижимости',\n",
       "       'покупка коммерческой недвижимости', 'покупка жилой недвижимости',\n",
       "       'строительство собственной недвижимости', 'недвижимость',\n",
       "       'строительство недвижимости', 'на покупку подержанного автомобиля',\n",
       "       'на покупку своего автомобиля',\n",
       "       'операции с коммерческой недвижимостью',\n",
       "       'строительство жилой недвижимости', 'жилье',\n",
       "       'операции со своей недвижимостью', 'автомобили',\n",
       "       'заняться образованием', 'сделка с подержанным автомобилем',\n",
       "       'получение образования', 'автомобиль', 'свадьба',\n",
       "       'получение дополнительного образования', 'покупка своего жилья',\n",
       "       'операции с недвижимостью', 'получение высшего образования',\n",
       "       'свой автомобиль', 'сделка с автомобилем',\n",
       "       'профильное образование', 'высшее образование',\n",
       "       'покупка жилья для сдачи', 'на покупку автомобиля', 'ремонт жилью',\n",
       "       'заняться высшим образованием'], dtype=object)"
      ]
     },
     "execution_count": 36,
     "metadata": {},
     "output_type": "execute_result"
    }
   ],
   "source": [
    "df['purpose'].unique()"
   ]
  },
  {
   "cell_type": "code",
   "execution_count": 37,
   "id": "a3da4bef",
   "metadata": {},
   "outputs": [
    {
     "name": "stdout",
     "output_type": "stream",
     "text": [
      "операции с недвижимостью\n",
      "операции с автомобилем\n",
      "получение образования\n",
      "проведение свадьбы\n",
      "другие цели\n"
     ]
    }
   ],
   "source": [
    "def purpose_cat(purpose):\n",
    "    if 'жил' in purpose or 'движ' in purpose:\n",
    "        return 'операции с недвижимостью'\n",
    "    elif 'авто' in purpose:\n",
    "        return 'операции с автомобилем'\n",
    "    elif 'образован' in purpose:\n",
    "        return 'получение образования'\n",
    "    elif 'свадьб' in purpose:\n",
    "        return 'проведение свадьбы'\n",
    "    else: \n",
    "        return 'другие цели'\n",
    "print(purpose_cat('покупка жилья'))\n",
    "print(purpose_cat('приобретение автомобиля'))\n",
    "print(purpose_cat('дополнительное образование'))\n",
    "print(purpose_cat('сыграть свадьбу'))\n",
    "print(purpose_cat('купить бананы'))"
   ]
  },
  {
   "cell_type": "code",
   "execution_count": 38,
   "id": "3ea95e37",
   "metadata": {},
   "outputs": [
    {
     "data": {
      "text/plain": [
       "array(['операции с недвижимостью', 'операции с автомобилем',\n",
       "       'получение образования', 'проведение свадьбы'], dtype=object)"
      ]
     },
     "execution_count": 38,
     "metadata": {},
     "output_type": "execute_result"
    }
   ],
   "source": [
    "df['purpose_category'] = df['purpose'].apply(purpose_cat)\n",
    "df['purpose_category'].unique()"
   ]
  },
  {
   "cell_type": "markdown",
   "id": "65f54beb",
   "metadata": {},
   "source": [
    "## Ответы на вопросы."
   ]
  },
  {
   "cell_type": "markdown",
   "id": "d51ef5f7",
   "metadata": {},
   "source": [
    "В результате получаем таблицу готовую к анализу и можем приступить к ответам на вопросы.\n",
    "\n",
    "Для начала выведем итоговую таблицу чтобы она была перед глазами и было удобнее работать с данными."
   ]
  },
  {
   "cell_type": "code",
   "execution_count": 39,
   "id": "d0a21ac3",
   "metadata": {
    "scrolled": true
   },
   "outputs": [
    {
     "data": {
      "text/html": [
       "<div>\n",
       "<style scoped>\n",
       "    .dataframe tbody tr th:only-of-type {\n",
       "        vertical-align: middle;\n",
       "    }\n",
       "\n",
       "    .dataframe tbody tr th {\n",
       "        vertical-align: top;\n",
       "    }\n",
       "\n",
       "    .dataframe thead th {\n",
       "        text-align: right;\n",
       "    }\n",
       "</style>\n",
       "<table border=\"1\" class=\"dataframe\">\n",
       "  <thead>\n",
       "    <tr style=\"text-align: right;\">\n",
       "      <th></th>\n",
       "      <th>children</th>\n",
       "      <th>days_employed</th>\n",
       "      <th>dob_years</th>\n",
       "      <th>education_id</th>\n",
       "      <th>family_status_id</th>\n",
       "      <th>gender</th>\n",
       "      <th>income_type</th>\n",
       "      <th>debt</th>\n",
       "      <th>total_income</th>\n",
       "      <th>purpose</th>\n",
       "      <th>total_income_category</th>\n",
       "      <th>purpose_category</th>\n",
       "    </tr>\n",
       "  </thead>\n",
       "  <tbody>\n",
       "    <tr>\n",
       "      <th>0</th>\n",
       "      <td>1</td>\n",
       "      <td>8437</td>\n",
       "      <td>42</td>\n",
       "      <td>0</td>\n",
       "      <td>0</td>\n",
       "      <td>F</td>\n",
       "      <td>сотрудник</td>\n",
       "      <td>0</td>\n",
       "      <td>253875</td>\n",
       "      <td>покупка жилья</td>\n",
       "      <td>B</td>\n",
       "      <td>операции с недвижимостью</td>\n",
       "    </tr>\n",
       "    <tr>\n",
       "      <th>1</th>\n",
       "      <td>1</td>\n",
       "      <td>4024</td>\n",
       "      <td>36</td>\n",
       "      <td>1</td>\n",
       "      <td>0</td>\n",
       "      <td>F</td>\n",
       "      <td>сотрудник</td>\n",
       "      <td>0</td>\n",
       "      <td>112080</td>\n",
       "      <td>приобретение автомобиля</td>\n",
       "      <td>C</td>\n",
       "      <td>операции с автомобилем</td>\n",
       "    </tr>\n",
       "    <tr>\n",
       "      <th>2</th>\n",
       "      <td>0</td>\n",
       "      <td>5623</td>\n",
       "      <td>33</td>\n",
       "      <td>1</td>\n",
       "      <td>0</td>\n",
       "      <td>M</td>\n",
       "      <td>сотрудник</td>\n",
       "      <td>0</td>\n",
       "      <td>145885</td>\n",
       "      <td>покупка жилья</td>\n",
       "      <td>C</td>\n",
       "      <td>операции с недвижимостью</td>\n",
       "    </tr>\n",
       "    <tr>\n",
       "      <th>3</th>\n",
       "      <td>3</td>\n",
       "      <td>4124</td>\n",
       "      <td>32</td>\n",
       "      <td>1</td>\n",
       "      <td>0</td>\n",
       "      <td>M</td>\n",
       "      <td>сотрудник</td>\n",
       "      <td>0</td>\n",
       "      <td>267628</td>\n",
       "      <td>дополнительное образование</td>\n",
       "      <td>B</td>\n",
       "      <td>получение образования</td>\n",
       "    </tr>\n",
       "    <tr>\n",
       "      <th>4</th>\n",
       "      <td>0</td>\n",
       "      <td>340266</td>\n",
       "      <td>53</td>\n",
       "      <td>1</td>\n",
       "      <td>1</td>\n",
       "      <td>F</td>\n",
       "      <td>пенсионер</td>\n",
       "      <td>0</td>\n",
       "      <td>158616</td>\n",
       "      <td>сыграть свадьбу</td>\n",
       "      <td>C</td>\n",
       "      <td>проведение свадьбы</td>\n",
       "    </tr>\n",
       "  </tbody>\n",
       "</table>\n",
       "</div>"
      ],
      "text/plain": [
       "   children  days_employed  dob_years  education_id  family_status_id gender  \\\n",
       "0         1           8437         42             0                 0      F   \n",
       "1         1           4024         36             1                 0      F   \n",
       "2         0           5623         33             1                 0      M   \n",
       "3         3           4124         32             1                 0      M   \n",
       "4         0         340266         53             1                 1      F   \n",
       "\n",
       "  income_type  debt  total_income                     purpose  \\\n",
       "0   сотрудник     0        253875               покупка жилья   \n",
       "1   сотрудник     0        112080     приобретение автомобиля   \n",
       "2   сотрудник     0        145885               покупка жилья   \n",
       "3   сотрудник     0        267628  дополнительное образование   \n",
       "4   пенсионер     0        158616             сыграть свадьбу   \n",
       "\n",
       "  total_income_category          purpose_category  \n",
       "0                     B  операции с недвижимостью  \n",
       "1                     C    операции с автомобилем  \n",
       "2                     C  операции с недвижимостью  \n",
       "3                     B     получение образования  \n",
       "4                     C        проведение свадьбы  "
      ]
     },
     "execution_count": 39,
     "metadata": {},
     "output_type": "execute_result"
    }
   ],
   "source": [
    "df.head()"
   ]
  },
  {
   "cell_type": "markdown",
   "id": "05d7c369",
   "metadata": {},
   "source": [
    "### Зависимость между количеством детей и возвратом кредита в срок.\n"
   ]
  },
  {
   "cell_type": "markdown",
   "id": "db1f2581",
   "metadata": {},
   "source": [
    "Для начала сформируем сводную таблицу и добавим к ней столбец с суммой значений строк."
   ]
  },
  {
   "cell_type": "code",
   "execution_count": 40,
   "id": "6fd55044",
   "metadata": {},
   "outputs": [
    {
     "data": {
      "text/html": [
       "<div>\n",
       "<style scoped>\n",
       "    .dataframe tbody tr th:only-of-type {\n",
       "        vertical-align: middle;\n",
       "    }\n",
       "\n",
       "    .dataframe tbody tr th {\n",
       "        vertical-align: top;\n",
       "    }\n",
       "\n",
       "    .dataframe thead th {\n",
       "        text-align: right;\n",
       "    }\n",
       "</style>\n",
       "<table border=\"1\" class=\"dataframe\">\n",
       "  <thead>\n",
       "    <tr style=\"text-align: right;\">\n",
       "      <th>purpose_category</th>\n",
       "      <th>операции с автомобилем</th>\n",
       "      <th>операции с недвижимостью</th>\n",
       "      <th>получение образования</th>\n",
       "      <th>проведение свадьбы</th>\n",
       "      <th>Общий итог</th>\n",
       "    </tr>\n",
       "    <tr>\n",
       "      <th>children</th>\n",
       "      <th></th>\n",
       "      <th></th>\n",
       "      <th></th>\n",
       "      <th></th>\n",
       "      <th></th>\n",
       "    </tr>\n",
       "  </thead>\n",
       "  <tbody>\n",
       "    <tr>\n",
       "      <th>0</th>\n",
       "      <td>0.085203</td>\n",
       "      <td>0.067080</td>\n",
       "      <td>0.086448</td>\n",
       "      <td>0.074146</td>\n",
       "      <td>0.312877</td>\n",
       "    </tr>\n",
       "    <tr>\n",
       "      <th>1</th>\n",
       "      <td>0.106557</td>\n",
       "      <td>0.080775</td>\n",
       "      <td>0.102623</td>\n",
       "      <td>0.095149</td>\n",
       "      <td>0.385105</td>\n",
       "    </tr>\n",
       "    <tr>\n",
       "      <th>2</th>\n",
       "      <td>0.120482</td>\n",
       "      <td>0.083955</td>\n",
       "      <td>0.112172</td>\n",
       "      <td>0.066667</td>\n",
       "      <td>0.383276</td>\n",
       "    </tr>\n",
       "    <tr>\n",
       "      <th>3</th>\n",
       "      <td>0.083333</td>\n",
       "      <td>0.076923</td>\n",
       "      <td>0.057971</td>\n",
       "      <td>0.156250</td>\n",
       "      <td>0.374477</td>\n",
       "    </tr>\n",
       "    <tr>\n",
       "      <th>4</th>\n",
       "      <td>0.100000</td>\n",
       "      <td>0.142857</td>\n",
       "      <td>0.000000</td>\n",
       "      <td>0.000000</td>\n",
       "      <td>0.242857</td>\n",
       "    </tr>\n",
       "    <tr>\n",
       "      <th>5</th>\n",
       "      <td>0.000000</td>\n",
       "      <td>0.000000</td>\n",
       "      <td>0.000000</td>\n",
       "      <td>0.000000</td>\n",
       "      <td>0.000000</td>\n",
       "    </tr>\n",
       "  </tbody>\n",
       "</table>\n",
       "</div>"
      ],
      "text/plain": [
       "purpose_category  операции с автомобилем  операции с недвижимостью  \\\n",
       "children                                                             \n",
       "0                               0.085203                  0.067080   \n",
       "1                               0.106557                  0.080775   \n",
       "2                               0.120482                  0.083955   \n",
       "3                               0.083333                  0.076923   \n",
       "4                               0.100000                  0.142857   \n",
       "5                               0.000000                  0.000000   \n",
       "\n",
       "purpose_category  получение образования  проведение свадьбы  Общий итог  \n",
       "children                                                                 \n",
       "0                              0.086448            0.074146    0.312877  \n",
       "1                              0.102623            0.095149    0.385105  \n",
       "2                              0.112172            0.066667    0.383276  \n",
       "3                              0.057971            0.156250    0.374477  \n",
       "4                              0.000000            0.000000    0.242857  \n",
       "5                              0.000000            0.000000    0.000000  "
      ]
     },
     "execution_count": 40,
     "metadata": {},
     "output_type": "execute_result"
    }
   ],
   "source": [
    "df_pivot_children = df.pivot_table(index=['children'], columns='purpose_category', values='debt', aggfunc='mean')\n",
    "df_pivot_children['Общий итог'] = df_pivot_children.sum(axis=1)\n",
    "df_pivot_children"
   ]
  },
  {
   "cell_type": "markdown",
   "id": "47a416f0",
   "metadata": {},
   "source": [
    "В результате мы видим, что количество невозвратов кредита в срок от количества детей немного разнятся. Сгрупперуем данные по формуле: количество клиентов без детей и с долгом / (количество клиентов без детей и с долгом + количество клиентов без детей и без долга) и упорядочим по убыванию коэффициента."
   ]
  },
  {
   "cell_type": "code",
   "execution_count": 41,
   "id": "8a03dc42",
   "metadata": {},
   "outputs": [
    {
     "data": {
      "text/html": [
       "<div>\n",
       "<style scoped>\n",
       "    .dataframe tbody tr th:only-of-type {\n",
       "        vertical-align: middle;\n",
       "    }\n",
       "\n",
       "    .dataframe tbody tr th {\n",
       "        vertical-align: top;\n",
       "    }\n",
       "\n",
       "    .dataframe thead th {\n",
       "        text-align: right;\n",
       "    }\n",
       "</style>\n",
       "<table border=\"1\" class=\"dataframe\">\n",
       "  <thead>\n",
       "    <tr style=\"text-align: right;\">\n",
       "      <th></th>\n",
       "      <th>debt</th>\n",
       "      <th>Надёжность от количества детей</th>\n",
       "    </tr>\n",
       "    <tr>\n",
       "      <th>children</th>\n",
       "      <th></th>\n",
       "      <th></th>\n",
       "    </tr>\n",
       "  </thead>\n",
       "  <tbody>\n",
       "    <tr>\n",
       "      <th>4</th>\n",
       "      <td>4</td>\n",
       "      <td>0.098</td>\n",
       "    </tr>\n",
       "    <tr>\n",
       "      <th>2</th>\n",
       "      <td>202</td>\n",
       "      <td>0.095</td>\n",
       "    </tr>\n",
       "    <tr>\n",
       "      <th>1</th>\n",
       "      <td>445</td>\n",
       "      <td>0.091</td>\n",
       "    </tr>\n",
       "    <tr>\n",
       "      <th>3</th>\n",
       "      <td>27</td>\n",
       "      <td>0.082</td>\n",
       "    </tr>\n",
       "    <tr>\n",
       "      <th>0</th>\n",
       "      <td>1063</td>\n",
       "      <td>0.075</td>\n",
       "    </tr>\n",
       "    <tr>\n",
       "      <th>5</th>\n",
       "      <td>0</td>\n",
       "      <td>0.000</td>\n",
       "    </tr>\n",
       "  </tbody>\n",
       "</table>\n",
       "</div>"
      ],
      "text/plain": [
       "          debt  Надёжность от количества детей\n",
       "children                                      \n",
       "4            4                           0.098\n",
       "2          202                           0.095\n",
       "1          445                           0.091\n",
       "3           27                           0.082\n",
       "0         1063                           0.075\n",
       "5            0                           0.000"
      ]
     },
     "execution_count": 41,
     "metadata": {},
     "output_type": "execute_result"
    }
   ],
   "source": [
    "df_pivot_children = df.groupby(['children']).agg({'debt':'sum'})\n",
    "df_pivot_children['Надёжность от количества детей'] = round(\n",
    "    df_pivot_children['debt'] /\n",
    "    (df_pivot_children['debt'] + \n",
    "     df['children'].value_counts() - df_pivot_children['debt'])\n",
    ", 3)\n",
    "df_pivot_children = df_pivot_children.sort_values(by='Надёжность от количества детей', ascending=False)\n",
    "\n",
    "df_pivot_children"
   ]
  },
  {
   "cell_type": "markdown",
   "id": "ceb52ca6",
   "metadata": {},
   "source": [
    "#### Вывод:\n",
    "\n",
    "Из получившейся таблицы мы можем сделать вывод что есть зависимость вероятность просрочить кредит от числа детей. На первом месте по просроченным кредитам клиенты с 4 детьми. На последнем клиенты без детей, это также самая объёмная категория клиентов. Надёжнее всех оказались клиенты с 5 детьми т.к. невозвраты кредита в срок в этой категории отсутсвуют."
   ]
  },
  {
   "cell_type": "markdown",
   "id": "169b6dd3",
   "metadata": {},
   "source": [
    "### Зависимость между семейным положением и возвратом кредита в срок."
   ]
  },
  {
   "cell_type": "code",
   "execution_count": 42,
   "id": "32dd19e4",
   "metadata": {},
   "outputs": [
    {
     "data": {
      "text/html": [
       "<div>\n",
       "<style scoped>\n",
       "    .dataframe tbody tr th:only-of-type {\n",
       "        vertical-align: middle;\n",
       "    }\n",
       "\n",
       "    .dataframe tbody tr th {\n",
       "        vertical-align: top;\n",
       "    }\n",
       "\n",
       "    .dataframe thead th {\n",
       "        text-align: right;\n",
       "    }\n",
       "</style>\n",
       "<table border=\"1\" class=\"dataframe\">\n",
       "  <thead>\n",
       "    <tr style=\"text-align: right;\">\n",
       "      <th></th>\n",
       "      <th>family_status_id</th>\n",
       "      <th>debt</th>\n",
       "      <th>Надёжность от семейного положения</th>\n",
       "      <th>family_status</th>\n",
       "    </tr>\n",
       "  </thead>\n",
       "  <tbody>\n",
       "    <tr>\n",
       "      <th>4</th>\n",
       "      <td>4</td>\n",
       "      <td>274</td>\n",
       "      <td>0.097</td>\n",
       "      <td>Не женат / не замужем</td>\n",
       "    </tr>\n",
       "    <tr>\n",
       "      <th>1</th>\n",
       "      <td>1</td>\n",
       "      <td>388</td>\n",
       "      <td>0.093</td>\n",
       "      <td>гражданский брак</td>\n",
       "    </tr>\n",
       "    <tr>\n",
       "      <th>0</th>\n",
       "      <td>0</td>\n",
       "      <td>931</td>\n",
       "      <td>0.075</td>\n",
       "      <td>женат / замужем</td>\n",
       "    </tr>\n",
       "    <tr>\n",
       "      <th>3</th>\n",
       "      <td>3</td>\n",
       "      <td>85</td>\n",
       "      <td>0.071</td>\n",
       "      <td>в разводе</td>\n",
       "    </tr>\n",
       "    <tr>\n",
       "      <th>2</th>\n",
       "      <td>2</td>\n",
       "      <td>63</td>\n",
       "      <td>0.066</td>\n",
       "      <td>вдовец / вдова</td>\n",
       "    </tr>\n",
       "  </tbody>\n",
       "</table>\n",
       "</div>"
      ],
      "text/plain": [
       "   family_status_id  debt  Надёжность от семейного положения  \\\n",
       "4                 4   274                              0.097   \n",
       "1                 1   388                              0.093   \n",
       "0                 0   931                              0.075   \n",
       "3                 3    85                              0.071   \n",
       "2                 2    63                              0.066   \n",
       "\n",
       "           family_status  \n",
       "4  Не женат / не замужем  \n",
       "1       гражданский брак  \n",
       "0        женат / замужем  \n",
       "3              в разводе  \n",
       "2         вдовец / вдова  "
      ]
     },
     "execution_count": 42,
     "metadata": {},
     "output_type": "execute_result"
    }
   ],
   "source": [
    "df_pivot_family_status = df.groupby(['family_status_id']).agg({'debt':'sum'})\n",
    "df_pivot_family_status['Надёжность от семейного положения'] = round(\n",
    "    df_pivot_family_status['debt'] /\n",
    "    (df_pivot_family_status['debt'] + \n",
    "     df['family_status_id'].value_counts() - df_pivot_family_status['debt'])\n",
    ", 3)\n",
    "df_pivot_family_status = df_pivot_family_status.merge(family_status_dict, on='family_status_id')\n",
    "df_pivot_family_status = df_pivot_family_status.sort_values(by='Надёжность от семейного положения', ascending=False)\n",
    "\n",
    "df_pivot_family_status"
   ]
  },
  {
   "cell_type": "markdown",
   "id": "ac81975b",
   "metadata": {},
   "source": [
    "#### Вывод:\n",
    "\n",
    "В результате мы видим что клиенты в категории `вдовец / вдова` имеют самый низкий процент невозврата кредита в срок. Чуть меньше процент в категории `в разводе`.\n",
    "За ними идут клиенты в категории `женат / замужем`.\n",
    "Категории `гражданский брак` и `Не женат / не замужем` имеют самый высокую вероятность невозврата в срок. \n"
   ]
  },
  {
   "cell_type": "markdown",
   "id": "77d4012e",
   "metadata": {},
   "source": [
    "### Зависимость между уровнем дохода и возвратом кредита в срок."
   ]
  },
  {
   "cell_type": "code",
   "execution_count": 43,
   "id": "71405b2c",
   "metadata": {},
   "outputs": [
    {
     "data": {
      "text/html": [
       "<div>\n",
       "<style scoped>\n",
       "    .dataframe tbody tr th:only-of-type {\n",
       "        vertical-align: middle;\n",
       "    }\n",
       "\n",
       "    .dataframe tbody tr th {\n",
       "        vertical-align: top;\n",
       "    }\n",
       "\n",
       "    .dataframe thead th {\n",
       "        text-align: right;\n",
       "    }\n",
       "</style>\n",
       "<table border=\"1\" class=\"dataframe\">\n",
       "  <thead>\n",
       "    <tr style=\"text-align: right;\">\n",
       "      <th></th>\n",
       "      <th>debt</th>\n",
       "      <th>Надёжность от уровня дохода</th>\n",
       "    </tr>\n",
       "    <tr>\n",
       "      <th>total_income_category</th>\n",
       "      <th></th>\n",
       "      <th></th>\n",
       "    </tr>\n",
       "  </thead>\n",
       "  <tbody>\n",
       "    <tr>\n",
       "      <th>E</th>\n",
       "      <td>2</td>\n",
       "      <td>0.091</td>\n",
       "    </tr>\n",
       "    <tr>\n",
       "      <th>C</th>\n",
       "      <td>1360</td>\n",
       "      <td>0.085</td>\n",
       "    </tr>\n",
       "    <tr>\n",
       "      <th>A</th>\n",
       "      <td>2</td>\n",
       "      <td>0.080</td>\n",
       "    </tr>\n",
       "    <tr>\n",
       "      <th>B</th>\n",
       "      <td>356</td>\n",
       "      <td>0.071</td>\n",
       "    </tr>\n",
       "    <tr>\n",
       "      <th>D</th>\n",
       "      <td>21</td>\n",
       "      <td>0.060</td>\n",
       "    </tr>\n",
       "  </tbody>\n",
       "</table>\n",
       "</div>"
      ],
      "text/plain": [
       "                       debt  Надёжность от уровня дохода\n",
       "total_income_category                                   \n",
       "E                         2                        0.091\n",
       "C                      1360                        0.085\n",
       "A                         2                        0.080\n",
       "B                       356                        0.071\n",
       "D                        21                        0.060"
      ]
     },
     "execution_count": 43,
     "metadata": {},
     "output_type": "execute_result"
    }
   ],
   "source": [
    "df_pivot_income = df.groupby(['total_income_category']).agg({'debt':'sum'})\n",
    "df_pivot_income['Надёжность от уровня дохода'] = round(\n",
    "    df_pivot_income['debt'] /\n",
    "    (df_pivot_income['debt'] + \n",
    "     df['total_income_category'].value_counts() - df_pivot_income['debt'])\n",
    ", 3)\n",
    "df_pivot_income = df_pivot_income.sort_values(by='Надёжность от уровня дохода', ascending=False)\n",
    "\n",
    "df_pivot_income"
   ]
  },
  {
   "cell_type": "markdown",
   "id": "bb846f29",
   "metadata": {},
   "source": [
    "#### Вывод:"
   ]
  },
  {
   "cell_type": "markdown",
   "id": "9945d52c",
   "metadata": {},
   "source": [
    "Надёжнее всех оказались клиенты в категории в категории `D` - это клиенты с доходом в диапазоне 30001–50000.\n",
    "Самый высокий процент невозвратов у категории `E` - категории с самым низким доходом."
   ]
  },
  {
   "cell_type": "markdown",
   "id": "9536f944",
   "metadata": {},
   "source": [
    "### Влияние цели кредита на возврат в срок."
   ]
  },
  {
   "cell_type": "code",
   "execution_count": 44,
   "id": "db1e653d",
   "metadata": {
    "scrolled": true
   },
   "outputs": [
    {
     "data": {
      "text/html": [
       "<div>\n",
       "<style scoped>\n",
       "    .dataframe tbody tr th:only-of-type {\n",
       "        vertical-align: middle;\n",
       "    }\n",
       "\n",
       "    .dataframe tbody tr th {\n",
       "        vertical-align: top;\n",
       "    }\n",
       "\n",
       "    .dataframe thead th {\n",
       "        text-align: right;\n",
       "    }\n",
       "</style>\n",
       "<table border=\"1\" class=\"dataframe\">\n",
       "  <thead>\n",
       "    <tr style=\"text-align: right;\">\n",
       "      <th></th>\n",
       "      <th>debt</th>\n",
       "      <th>Надёжность от цели кредита</th>\n",
       "    </tr>\n",
       "    <tr>\n",
       "      <th>purpose_category</th>\n",
       "      <th></th>\n",
       "      <th></th>\n",
       "    </tr>\n",
       "  </thead>\n",
       "  <tbody>\n",
       "    <tr>\n",
       "      <th>операции с автомобилем</th>\n",
       "      <td>403</td>\n",
       "      <td>0.093</td>\n",
       "    </tr>\n",
       "    <tr>\n",
       "      <th>получение образования</th>\n",
       "      <td>370</td>\n",
       "      <td>0.092</td>\n",
       "    </tr>\n",
       "    <tr>\n",
       "      <th>проведение свадьбы</th>\n",
       "      <td>186</td>\n",
       "      <td>0.079</td>\n",
       "    </tr>\n",
       "    <tr>\n",
       "      <th>операции с недвижимостью</th>\n",
       "      <td>782</td>\n",
       "      <td>0.072</td>\n",
       "    </tr>\n",
       "  </tbody>\n",
       "</table>\n",
       "</div>"
      ],
      "text/plain": [
       "                          debt  Надёжность от цели кредита\n",
       "purpose_category                                          \n",
       "операции с автомобилем     403                       0.093\n",
       "получение образования      370                       0.092\n",
       "проведение свадьбы         186                       0.079\n",
       "операции с недвижимостью   782                       0.072"
      ]
     },
     "execution_count": 44,
     "metadata": {},
     "output_type": "execute_result"
    }
   ],
   "source": [
    "df_pivot_purpose = df.groupby(['purpose_category']).agg({'debt':'sum'})\n",
    "df_pivot_purpose['Надёжность от цели кредита'] = round(\n",
    "    df_pivot_purpose['debt'] /\n",
    "    (df_pivot_purpose['debt'] + \n",
    "     df['purpose_category'].value_counts() - df_pivot_purpose['debt'])\n",
    ", 3)\n",
    "df_pivot_purpose = df_pivot_purpose.sort_values(by='Надёжность от цели кредита', ascending=False)\n",
    "\n",
    "df_pivot_purpose"
   ]
  },
  {
   "cell_type": "markdown",
   "id": "f8538173",
   "metadata": {},
   "source": [
    "#### Вывод:"
   ]
  },
  {
   "cell_type": "markdown",
   "id": "b180e4d7",
   "metadata": {},
   "source": [
    "Из полученных данных видно что в основном клиенты берут заёмные средства для операций с недвижимостью. В этой же категории самый низкий процент невозвратов. За ними идут те, кто взял кредит на проведение свадьбы. Самыми не надёжными оказались те, кто берёт заёмные средства для получения образования и операций с авто."
   ]
  },
  {
   "cell_type": "markdown",
   "id": "1879f71e",
   "metadata": {},
   "source": [
    "## Общий вывод:"
   ]
  },
  {
   "cell_type": "markdown",
   "id": "8dc2d7cb",
   "metadata": {},
   "source": [
    "В результате расчётом мы получили следующие характеристики клиентов:"
   ]
  },
  {
   "cell_type": "code",
   "execution_count": 45,
   "id": "c906a4b2",
   "metadata": {},
   "outputs": [
    {
     "data": {
      "text/html": [
       "<div>\n",
       "<style scoped>\n",
       "    .dataframe tbody tr th:only-of-type {\n",
       "        vertical-align: middle;\n",
       "    }\n",
       "\n",
       "    .dataframe tbody tr th {\n",
       "        vertical-align: top;\n",
       "    }\n",
       "\n",
       "    .dataframe thead th {\n",
       "        text-align: right;\n",
       "    }\n",
       "</style>\n",
       "<table border=\"1\" class=\"dataframe\">\n",
       "  <thead>\n",
       "    <tr style=\"text-align: right;\">\n",
       "      <th></th>\n",
       "      <th>Количество детей</th>\n",
       "      <th>Семейное положение</th>\n",
       "      <th>Уровень дохода</th>\n",
       "      <th>Цель кредита</th>\n",
       "    </tr>\n",
       "  </thead>\n",
       "  <tbody>\n",
       "    <tr>\n",
       "      <th>0</th>\n",
       "      <td>4</td>\n",
       "      <td>Не женат / не замужем</td>\n",
       "      <td>E</td>\n",
       "      <td>операции с автомобилем</td>\n",
       "    </tr>\n",
       "    <tr>\n",
       "      <th>1</th>\n",
       "      <td>1</td>\n",
       "      <td>гражданский брак</td>\n",
       "      <td>C</td>\n",
       "      <td>получение образования</td>\n",
       "    </tr>\n",
       "    <tr>\n",
       "      <th>2</th>\n",
       "      <td>0</td>\n",
       "      <td>женат / замужем</td>\n",
       "      <td>A</td>\n",
       "      <td>проведение свадьбы</td>\n",
       "    </tr>\n",
       "    <tr>\n",
       "      <th>3</th>\n",
       "      <td>3</td>\n",
       "      <td>в разводе</td>\n",
       "      <td>B</td>\n",
       "      <td>операции с недвижимостью</td>\n",
       "    </tr>\n",
       "    <tr>\n",
       "      <th>4</th>\n",
       "      <td>2</td>\n",
       "      <td>вдовец / вдова</td>\n",
       "      <td>D</td>\n",
       "      <td>-</td>\n",
       "    </tr>\n",
       "  </tbody>\n",
       "</table>\n",
       "</div>"
      ],
      "text/plain": [
       "  Количество детей     Семейное положение Уровень дохода  \\\n",
       "0                4  Не женат / не замужем              E   \n",
       "1                1       гражданский брак              C   \n",
       "2                0        женат / замужем              A   \n",
       "3                3              в разводе              B   \n",
       "4                2         вдовец / вдова              D   \n",
       "\n",
       "               Цель кредита  \n",
       "0    операции с автомобилем  \n",
       "1     получение образования  \n",
       "2        проведение свадьбы  \n",
       "3  операции с недвижимостью  \n",
       "4                         -  "
      ]
     },
     "execution_count": 45,
     "metadata": {},
     "output_type": "execute_result"
    }
   ],
   "source": [
    "columns = ['Количество детей', 'Семейное положение', 'Уровень дохода', 'Цель кредита']\n",
    "\n",
    "data = [['4', 'Не женат / не замужем', 'E', 'операции с автомобилем'],\n",
    "        ['1', 'гражданский брак','C','получение образования'],\n",
    "        ['0', 'женат / замужем', 'A', 'проведение свадьбы'],\n",
    "        ['3', 'в разводе', 'B', 'операции с недвижимостью'],\n",
    "        ['2', 'вдовец / вдова', 'D', '-']]\n",
    "\n",
    "final_data = pd.DataFrame(data=data, columns=columns)\n",
    "final_data"
   ]
  },
  {
   "cell_type": "markdown",
   "id": "558f5e8c",
   "metadata": {},
   "source": [
    "Так самым ненадёжным оказывается многодетный клиент с низким уровнем дохода, не состоящий в браке, берущий деньги для операций с автомобилем."
   ]
  }
 ],
 "metadata": {
  "ExecuteTimeLog": [
   {
    "duration": 471,
    "start_time": "2022-04-14T08:54:52.148Z"
   },
   {
    "duration": 18,
    "start_time": "2022-04-14T08:54:52.622Z"
   },
   {
    "duration": 14,
    "start_time": "2022-04-14T08:54:52.642Z"
   },
   {
    "duration": 10,
    "start_time": "2022-04-14T08:54:52.658Z"
   },
   {
    "duration": 39,
    "start_time": "2022-04-14T08:54:52.670Z"
   },
   {
    "duration": 6,
    "start_time": "2022-04-14T08:54:52.711Z"
   },
   {
    "duration": 12,
    "start_time": "2022-04-14T08:54:52.719Z"
   },
   {
    "duration": 7,
    "start_time": "2022-04-14T08:54:52.733Z"
   },
   {
    "duration": 5,
    "start_time": "2022-04-14T08:54:52.742Z"
   },
   {
    "duration": 5333,
    "start_time": "2022-04-14T08:54:52.749Z"
   },
   {
    "duration": 18,
    "start_time": "2022-04-14T08:54:58.083Z"
   },
   {
    "duration": 5,
    "start_time": "2022-04-14T08:54:58.102Z"
   },
   {
    "duration": 10,
    "start_time": "2022-04-14T08:54:58.109Z"
   },
   {
    "duration": 12,
    "start_time": "2022-04-14T08:54:58.123Z"
   },
   {
    "duration": 13,
    "start_time": "2022-04-14T08:54:58.137Z"
   },
   {
    "duration": 16,
    "start_time": "2022-04-14T08:54:58.151Z"
   },
   {
    "duration": 8,
    "start_time": "2022-04-14T08:54:58.169Z"
   },
   {
    "duration": 24,
    "start_time": "2022-04-14T08:54:58.179Z"
   },
   {
    "duration": 7,
    "start_time": "2022-04-14T08:54:58.205Z"
   },
   {
    "duration": 8,
    "start_time": "2022-04-14T08:54:58.214Z"
   },
   {
    "duration": 25,
    "start_time": "2022-04-14T08:54:58.224Z"
   },
   {
    "duration": 68,
    "start_time": "2022-04-14T08:54:58.251Z"
   },
   {
    "duration": 8,
    "start_time": "2022-04-14T08:54:58.321Z"
   },
   {
    "duration": 10,
    "start_time": "2022-04-14T08:54:58.331Z"
   },
   {
    "duration": 16,
    "start_time": "2022-04-14T08:54:58.342Z"
   },
   {
    "duration": 11,
    "start_time": "2022-04-14T08:54:58.360Z"
   },
   {
    "duration": 38,
    "start_time": "2022-04-14T08:54:58.372Z"
   },
   {
    "duration": 9,
    "start_time": "2022-04-14T08:54:58.411Z"
   },
   {
    "duration": 7,
    "start_time": "2022-04-14T08:54:58.422Z"
   },
   {
    "duration": 25,
    "start_time": "2022-04-14T08:54:58.430Z"
   },
   {
    "duration": 11,
    "start_time": "2022-04-14T08:54:58.457Z"
   },
   {
    "duration": 7,
    "start_time": "2022-04-14T08:54:58.469Z"
   },
   {
    "duration": 13,
    "start_time": "2022-04-14T08:54:58.501Z"
   },
   {
    "duration": 16,
    "start_time": "2022-04-14T08:54:58.515Z"
   },
   {
    "duration": 29,
    "start_time": "2022-04-14T08:54:58.533Z"
   },
   {
    "duration": 10,
    "start_time": "2022-04-14T08:54:58.564Z"
   },
   {
    "duration": 31,
    "start_time": "2022-04-14T08:54:58.575Z"
   },
   {
    "duration": 22,
    "start_time": "2022-04-14T08:54:58.607Z"
   },
   {
    "duration": 17,
    "start_time": "2022-04-14T08:54:58.631Z"
   },
   {
    "duration": 18,
    "start_time": "2022-04-14T08:54:58.650Z"
   },
   {
    "duration": 433,
    "start_time": "2022-04-14T08:56:00.733Z"
   },
   {
    "duration": 24,
    "start_time": "2022-04-14T08:56:01.169Z"
   },
   {
    "duration": 95,
    "start_time": "2022-04-14T08:56:01.195Z"
   },
   {
    "duration": 18,
    "start_time": "2022-04-14T08:56:01.292Z"
   },
   {
    "duration": 43,
    "start_time": "2022-04-14T08:56:01.312Z"
   },
   {
    "duration": 22,
    "start_time": "2022-04-14T08:56:01.358Z"
   },
   {
    "duration": 44,
    "start_time": "2022-04-14T08:56:01.382Z"
   },
   {
    "duration": 57,
    "start_time": "2022-04-14T08:56:01.428Z"
   },
   {
    "duration": 18,
    "start_time": "2022-04-14T08:56:01.487Z"
   },
   {
    "duration": 8,
    "start_time": "2022-04-14T08:56:01.507Z"
   },
   {
    "duration": 5229,
    "start_time": "2022-04-14T08:56:01.526Z"
   },
   {
    "duration": 10,
    "start_time": "2022-04-14T08:56:06.757Z"
   },
   {
    "duration": 7,
    "start_time": "2022-04-14T08:56:06.769Z"
   },
   {
    "duration": 7,
    "start_time": "2022-04-14T08:56:06.801Z"
   },
   {
    "duration": 8,
    "start_time": "2022-04-14T08:56:06.810Z"
   },
   {
    "duration": 17,
    "start_time": "2022-04-14T08:56:06.820Z"
   },
   {
    "duration": 21,
    "start_time": "2022-04-14T08:56:06.839Z"
   },
   {
    "duration": 13,
    "start_time": "2022-04-14T08:56:06.862Z"
   },
   {
    "duration": 23,
    "start_time": "2022-04-14T08:56:06.878Z"
   },
   {
    "duration": 16,
    "start_time": "2022-04-14T08:56:06.903Z"
   },
   {
    "duration": 8,
    "start_time": "2022-04-14T08:56:06.921Z"
   },
   {
    "duration": 20,
    "start_time": "2022-04-14T08:56:06.930Z"
   },
   {
    "duration": 49,
    "start_time": "2022-04-14T08:56:06.952Z"
   },
   {
    "duration": 8,
    "start_time": "2022-04-14T08:56:07.003Z"
   },
   {
    "duration": 11,
    "start_time": "2022-04-14T08:56:07.013Z"
   },
   {
    "duration": 12,
    "start_time": "2022-04-14T08:56:07.026Z"
   },
   {
    "duration": 11,
    "start_time": "2022-04-14T08:56:07.040Z"
   },
   {
    "duration": 11,
    "start_time": "2022-04-14T08:56:07.053Z"
   },
   {
    "duration": 36,
    "start_time": "2022-04-14T08:56:07.066Z"
   },
   {
    "duration": 6,
    "start_time": "2022-04-14T08:56:07.104Z"
   },
   {
    "duration": 22,
    "start_time": "2022-04-14T08:56:07.112Z"
   },
   {
    "duration": 8,
    "start_time": "2022-04-14T08:56:07.136Z"
   },
   {
    "duration": 6,
    "start_time": "2022-04-14T08:56:07.147Z"
   },
   {
    "duration": 49,
    "start_time": "2022-04-14T08:56:07.155Z"
   },
   {
    "duration": 12,
    "start_time": "2022-04-14T08:56:07.206Z"
   },
   {
    "duration": 24,
    "start_time": "2022-04-14T08:56:07.220Z"
   },
   {
    "duration": 12,
    "start_time": "2022-04-14T08:56:07.245Z"
   },
   {
    "duration": 43,
    "start_time": "2022-04-14T08:56:07.258Z"
   },
   {
    "duration": 19,
    "start_time": "2022-04-14T08:56:07.303Z"
   },
   {
    "duration": 15,
    "start_time": "2022-04-14T08:56:07.323Z"
   },
   {
    "duration": 16,
    "start_time": "2022-04-14T08:56:07.342Z"
   },
   {
    "duration": 27,
    "start_time": "2022-04-14T08:57:06.854Z"
   },
   {
    "duration": 6,
    "start_time": "2022-04-14T08:58:12.324Z"
   },
   {
    "duration": 7,
    "start_time": "2022-04-14T08:58:35.203Z"
   },
   {
    "duration": 618,
    "start_time": "2022-04-14T09:00:46.568Z"
   },
   {
    "duration": 20,
    "start_time": "2022-04-14T09:00:47.188Z"
   },
   {
    "duration": 14,
    "start_time": "2022-04-14T09:00:47.210Z"
   },
   {
    "duration": 19,
    "start_time": "2022-04-14T09:00:47.870Z"
   },
   {
    "duration": 19,
    "start_time": "2022-04-14T09:00:49.338Z"
   },
   {
    "duration": 7,
    "start_time": "2022-04-14T09:00:50.700Z"
   },
   {
    "duration": 5,
    "start_time": "2022-04-14T09:00:58.259Z"
   },
   {
    "duration": 4,
    "start_time": "2022-04-14T09:01:06.101Z"
   },
   {
    "duration": 384,
    "start_time": "2022-04-15T19:00:09.263Z"
   },
   {
    "duration": 59,
    "start_time": "2022-04-15T19:00:09.649Z"
   },
   {
    "duration": 19,
    "start_time": "2022-04-15T19:00:09.709Z"
   },
   {
    "duration": 19,
    "start_time": "2022-04-15T19:00:09.729Z"
   },
   {
    "duration": 30,
    "start_time": "2022-04-15T19:00:09.750Z"
   },
   {
    "duration": 10,
    "start_time": "2022-04-15T19:00:09.781Z"
   },
   {
    "duration": 17,
    "start_time": "2022-04-15T19:00:09.792Z"
   },
   {
    "duration": 5,
    "start_time": "2022-04-15T19:00:09.810Z"
   },
   {
    "duration": 34,
    "start_time": "2022-04-15T19:00:09.816Z"
   },
   {
    "duration": 9,
    "start_time": "2022-04-15T19:00:09.851Z"
   },
   {
    "duration": 11,
    "start_time": "2022-04-15T19:00:09.862Z"
   },
   {
    "duration": 4942,
    "start_time": "2022-04-15T19:00:09.874Z"
   },
   {
    "duration": 7,
    "start_time": "2022-04-15T19:00:14.818Z"
   },
   {
    "duration": 20,
    "start_time": "2022-04-15T19:00:14.828Z"
   },
   {
    "duration": 9,
    "start_time": "2022-04-15T19:00:14.850Z"
   },
   {
    "duration": 5,
    "start_time": "2022-04-15T19:00:14.860Z"
   },
   {
    "duration": 9,
    "start_time": "2022-04-15T19:00:14.866Z"
   },
   {
    "duration": 15,
    "start_time": "2022-04-15T19:00:14.876Z"
   },
   {
    "duration": 9,
    "start_time": "2022-04-15T19:00:14.892Z"
   },
   {
    "duration": 5,
    "start_time": "2022-04-15T19:00:14.902Z"
   },
   {
    "duration": 5,
    "start_time": "2022-04-15T19:00:14.908Z"
   },
   {
    "duration": 36,
    "start_time": "2022-04-15T19:00:14.915Z"
   },
   {
    "duration": 16,
    "start_time": "2022-04-15T19:00:14.952Z"
   },
   {
    "duration": 39,
    "start_time": "2022-04-15T19:00:14.969Z"
   },
   {
    "duration": 9,
    "start_time": "2022-04-15T19:00:15.009Z"
   },
   {
    "duration": 37,
    "start_time": "2022-04-15T19:00:15.019Z"
   },
   {
    "duration": 12,
    "start_time": "2022-04-15T19:00:15.058Z"
   },
   {
    "duration": 13,
    "start_time": "2022-04-15T19:00:15.072Z"
   },
   {
    "duration": 20,
    "start_time": "2022-04-15T19:00:15.087Z"
   },
   {
    "duration": 40,
    "start_time": "2022-04-15T19:00:15.109Z"
   },
   {
    "duration": 5,
    "start_time": "2022-04-15T19:00:15.151Z"
   },
   {
    "duration": 19,
    "start_time": "2022-04-15T19:00:15.158Z"
   },
   {
    "duration": 7,
    "start_time": "2022-04-15T19:00:15.178Z"
   },
   {
    "duration": 9,
    "start_time": "2022-04-15T19:00:15.187Z"
   },
   {
    "duration": 17,
    "start_time": "2022-04-15T19:00:15.197Z"
   },
   {
    "duration": 37,
    "start_time": "2022-04-15T19:00:15.216Z"
   },
   {
    "duration": 23,
    "start_time": "2022-04-15T19:00:15.254Z"
   },
   {
    "duration": 12,
    "start_time": "2022-04-15T19:00:15.279Z"
   },
   {
    "duration": 17,
    "start_time": "2022-04-15T19:00:15.292Z"
   },
   {
    "duration": 43,
    "start_time": "2022-04-15T19:00:15.310Z"
   },
   {
    "duration": 16,
    "start_time": "2022-04-15T19:00:15.356Z"
   },
   {
    "duration": 8,
    "start_time": "2022-04-15T19:00:15.374Z"
   },
   {
    "duration": 60,
    "start_time": "2022-04-15T19:03:20.349Z"
   },
   {
    "duration": 14,
    "start_time": "2022-04-15T19:03:23.738Z"
   },
   {
    "duration": 17,
    "start_time": "2022-04-15T19:03:36.164Z"
   },
   {
    "duration": 7,
    "start_time": "2022-04-15T19:04:00.794Z"
   },
   {
    "duration": 14,
    "start_time": "2022-04-15T19:04:05.208Z"
   },
   {
    "duration": 6,
    "start_time": "2022-04-15T19:04:05.908Z"
   },
   {
    "duration": 7,
    "start_time": "2022-04-15T19:04:13.034Z"
   },
   {
    "duration": 14,
    "start_time": "2022-04-15T19:04:18.830Z"
   },
   {
    "duration": 7,
    "start_time": "2022-04-15T19:04:19.981Z"
   },
   {
    "duration": 22,
    "start_time": "2022-04-15T19:04:40.440Z"
   }
  ],
  "kernelspec": {
   "display_name": "Python 3 (ipykernel)",
   "language": "python",
   "name": "python3"
  },
  "language_info": {
   "codemirror_mode": {
    "name": "ipython",
    "version": 3
   },
   "file_extension": ".py",
   "mimetype": "text/x-python",
   "name": "python",
   "nbconvert_exporter": "python",
   "pygments_lexer": "ipython3",
   "version": "3.9.7"
  },
  "toc": {
   "base_numbering": 1,
   "nav_menu": {},
   "number_sections": true,
   "sideBar": true,
   "skip_h1_title": true,
   "title_cell": "Содержание",
   "title_sidebar": "Contents",
   "toc_cell": true,
   "toc_position": {},
   "toc_section_display": true,
   "toc_window_display": true
  }
 },
 "nbformat": 4,
 "nbformat_minor": 5
}
