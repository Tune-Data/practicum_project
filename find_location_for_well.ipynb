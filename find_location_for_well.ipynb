{
 "cells": [
  {
   "cell_type": "markdown",
   "metadata": {},
   "source": [
    "# Выбор локации для скважины"
   ]
  },
  {
   "cell_type": "markdown",
   "metadata": {},
   "source": [
    "Допустим, вы работаете в добывающей компании «ГлавРосГосНефть». Нужно решить, где бурить новую скважину.\n",
    "\n",
    "Вам предоставлены пробы нефти в трёх регионах: в каждом 10 000 месторождений, где измерили качество нефти и объём её запасов. Постройте модель машинного обучения, которая поможет определить регион, где добыча принесёт наибольшую прибыль. Проанализируйте возможную прибыль и риски техникой *Bootstrap.*\n",
    "\n",
    "Шаги для выбора локации:\n",
    "\n",
    "- В избранном регионе ищут месторождения, для каждого определяют значения признаков;\n",
    "- Строят модель и оценивают объём запасов;\n",
    "- Выбирают месторождения с самым высокими оценками значений. Количество месторождений зависит от бюджета компании и стоимости разработки одной скважины;\n",
    "- Прибыль равна суммарной прибыли отобранных месторождений."
   ]
  },
  {
   "cell_type": "markdown",
   "metadata": {},
   "source": [
    "## Загрузка и подготовка данных"
   ]
  },
  {
   "cell_type": "markdown",
   "metadata": {},
   "source": [
    "В первой ячейке библиотеки которые понадобятся в ходе выполнения проекта."
   ]
  },
  {
   "cell_type": "code",
   "execution_count": 2,
   "metadata": {},
   "outputs": [],
   "source": [
    "import pandas as pd\n",
    "import numpy as np\n",
    "from scipy import stats as st \n",
    "from sklearn.model_selection import train_test_split\n",
    "from sklearn.preprocessing import StandardScaler\n",
    "from sklearn.linear_model import LinearRegression\n",
    "from sklearn.pipeline import make_pipeline\n",
    "from sklearn.metrics import mean_squared_error\n",
    "from numpy.random import RandomState\n",
    "\n",
    "state = np.random.RandomState(12345)"
   ]
  },
  {
   "cell_type": "markdown",
   "metadata": {},
   "source": [
    "Подгрузим данные в проект."
   ]
  },
  {
   "cell_type": "code",
   "execution_count": 3,
   "metadata": {},
   "outputs": [],
   "source": [
    "try:\n",
    "    geo_gata_0 = pd.read_csv('/datasets/geo_data_0.csv')\n",
    "    geo_gata_1 = pd.read_csv('/datasets/geo_data_1.csv')\n",
    "    geo_gata_2 = pd.read_csv('/datasets/geo_data_2.csv')\n",
    "except Exception:\n",
    "    geo_gata_0 = pd.read_csv('geo_data_0.csv')\n",
    "    geo_gata_1 = pd.read_csv('geo_data_1.csv')\n",
    "    geo_gata_2 = pd.read_csv('geo_data_2.csv')"
   ]
  },
  {
   "cell_type": "markdown",
   "metadata": {},
   "source": [
    "После получения датафремов проанализируем один, а для двух остальных сделаем проверку по аналогии."
   ]
  },
  {
   "cell_type": "code",
   "execution_count": 3,
   "metadata": {},
   "outputs": [
    {
     "data": {
      "text/html": [
       "<div>\n",
       "<style scoped>\n",
       "    .dataframe tbody tr th:only-of-type {\n",
       "        vertical-align: middle;\n",
       "    }\n",
       "\n",
       "    .dataframe tbody tr th {\n",
       "        vertical-align: top;\n",
       "    }\n",
       "\n",
       "    .dataframe thead th {\n",
       "        text-align: right;\n",
       "    }\n",
       "</style>\n",
       "<table border=\"1\" class=\"dataframe\">\n",
       "  <thead>\n",
       "    <tr style=\"text-align: right;\">\n",
       "      <th></th>\n",
       "      <th>id</th>\n",
       "      <th>f0</th>\n",
       "      <th>f1</th>\n",
       "      <th>f2</th>\n",
       "      <th>product</th>\n",
       "    </tr>\n",
       "  </thead>\n",
       "  <tbody>\n",
       "    <tr>\n",
       "      <th>0</th>\n",
       "      <td>txEyH</td>\n",
       "      <td>0.705745</td>\n",
       "      <td>-0.497823</td>\n",
       "      <td>1.221170</td>\n",
       "      <td>105.280062</td>\n",
       "    </tr>\n",
       "    <tr>\n",
       "      <th>1</th>\n",
       "      <td>2acmU</td>\n",
       "      <td>1.334711</td>\n",
       "      <td>-0.340164</td>\n",
       "      <td>4.365080</td>\n",
       "      <td>73.037750</td>\n",
       "    </tr>\n",
       "    <tr>\n",
       "      <th>2</th>\n",
       "      <td>409Wp</td>\n",
       "      <td>1.022732</td>\n",
       "      <td>0.151990</td>\n",
       "      <td>1.419926</td>\n",
       "      <td>85.265647</td>\n",
       "    </tr>\n",
       "    <tr>\n",
       "      <th>3</th>\n",
       "      <td>iJLyR</td>\n",
       "      <td>-0.032172</td>\n",
       "      <td>0.139033</td>\n",
       "      <td>2.978566</td>\n",
       "      <td>168.620776</td>\n",
       "    </tr>\n",
       "    <tr>\n",
       "      <th>4</th>\n",
       "      <td>Xdl7t</td>\n",
       "      <td>1.988431</td>\n",
       "      <td>0.155413</td>\n",
       "      <td>4.751769</td>\n",
       "      <td>154.036647</td>\n",
       "    </tr>\n",
       "    <tr>\n",
       "      <th>...</th>\n",
       "      <td>...</td>\n",
       "      <td>...</td>\n",
       "      <td>...</td>\n",
       "      <td>...</td>\n",
       "      <td>...</td>\n",
       "    </tr>\n",
       "    <tr>\n",
       "      <th>99995</th>\n",
       "      <td>DLsed</td>\n",
       "      <td>0.971957</td>\n",
       "      <td>0.370953</td>\n",
       "      <td>6.075346</td>\n",
       "      <td>110.744026</td>\n",
       "    </tr>\n",
       "    <tr>\n",
       "      <th>99996</th>\n",
       "      <td>QKivN</td>\n",
       "      <td>1.392429</td>\n",
       "      <td>-0.382606</td>\n",
       "      <td>1.273912</td>\n",
       "      <td>122.346843</td>\n",
       "    </tr>\n",
       "    <tr>\n",
       "      <th>99997</th>\n",
       "      <td>3rnvd</td>\n",
       "      <td>1.029585</td>\n",
       "      <td>0.018787</td>\n",
       "      <td>-1.348308</td>\n",
       "      <td>64.375443</td>\n",
       "    </tr>\n",
       "    <tr>\n",
       "      <th>99998</th>\n",
       "      <td>7kl59</td>\n",
       "      <td>0.998163</td>\n",
       "      <td>-0.528582</td>\n",
       "      <td>1.583869</td>\n",
       "      <td>74.040764</td>\n",
       "    </tr>\n",
       "    <tr>\n",
       "      <th>99999</th>\n",
       "      <td>1CWhH</td>\n",
       "      <td>1.764754</td>\n",
       "      <td>-0.266417</td>\n",
       "      <td>5.722849</td>\n",
       "      <td>149.633246</td>\n",
       "    </tr>\n",
       "  </tbody>\n",
       "</table>\n",
       "<p>100000 rows × 5 columns</p>\n",
       "</div>"
      ],
      "text/plain": [
       "          id        f0        f1        f2     product\n",
       "0      txEyH  0.705745 -0.497823  1.221170  105.280062\n",
       "1      2acmU  1.334711 -0.340164  4.365080   73.037750\n",
       "2      409Wp  1.022732  0.151990  1.419926   85.265647\n",
       "3      iJLyR -0.032172  0.139033  2.978566  168.620776\n",
       "4      Xdl7t  1.988431  0.155413  4.751769  154.036647\n",
       "...      ...       ...       ...       ...         ...\n",
       "99995  DLsed  0.971957  0.370953  6.075346  110.744026\n",
       "99996  QKivN  1.392429 -0.382606  1.273912  122.346843\n",
       "99997  3rnvd  1.029585  0.018787 -1.348308   64.375443\n",
       "99998  7kl59  0.998163 -0.528582  1.583869   74.040764\n",
       "99999  1CWhH  1.764754 -0.266417  5.722849  149.633246\n",
       "\n",
       "[100000 rows x 5 columns]"
      ]
     },
     "execution_count": 3,
     "metadata": {},
     "output_type": "execute_result"
    }
   ],
   "source": [
    "geo_gata_0"
   ]
  },
  {
   "cell_type": "markdown",
   "metadata": {},
   "source": [
    "Описание данных:\n",
    "\n",
    "* id -  уникальный идентификатор скважины;\n",
    "* f0, f1, f2 — три признака точек (неважно, что они означают, но сами признаки значимы);\n",
    "* product — объём запасов в скважине (тыс. баррелей)."
   ]
  },
  {
   "cell_type": "code",
   "execution_count": 4,
   "metadata": {},
   "outputs": [
    {
     "name": "stdout",
     "output_type": "stream",
     "text": [
      "<class 'pandas.core.frame.DataFrame'>\n",
      "RangeIndex: 100000 entries, 0 to 99999\n",
      "Data columns (total 5 columns):\n",
      " #   Column   Non-Null Count   Dtype  \n",
      "---  ------   --------------   -----  \n",
      " 0   id       100000 non-null  object \n",
      " 1   f0       100000 non-null  float64\n",
      " 2   f1       100000 non-null  float64\n",
      " 3   f2       100000 non-null  float64\n",
      " 4   product  100000 non-null  float64\n",
      "dtypes: float64(4), object(1)\n",
      "memory usage: 3.8+ MB\n"
     ]
    }
   ],
   "source": [
    "geo_gata_0.info()"
   ]
  },
  {
   "cell_type": "markdown",
   "metadata": {},
   "source": [
    "С названиями столбцов всё в порядке, типы данных соответствуют содержимому ячеек. Пропусков в данных нет, но возможно есть дубликаты."
   ]
  },
  {
   "cell_type": "code",
   "execution_count": 5,
   "metadata": {},
   "outputs": [
    {
     "data": {
      "text/plain": [
       "0"
      ]
     },
     "execution_count": 5,
     "metadata": {},
     "output_type": "execute_result"
    }
   ],
   "source": [
    "geo_gata_0.duplicated().sum()"
   ]
  },
  {
   "cell_type": "markdown",
   "metadata": {},
   "source": [
    "Полных дубликатов нет, проверим есть ли объеты с одинаковым `id`."
   ]
  },
  {
   "cell_type": "code",
   "execution_count": 6,
   "metadata": {
    "scrolled": true
   },
   "outputs": [
    {
     "data": {
      "text/plain": [
       "10"
      ]
     },
     "execution_count": 6,
     "metadata": {},
     "output_type": "execute_result"
    }
   ],
   "source": [
    "geo_gata_0['id'].duplicated().sum()"
   ]
  },
  {
   "cell_type": "markdown",
   "metadata": {},
   "source": [
    "Десять из десяти, тысячь. Так как мы зарание проверили что полных дубликатов нет, то понимаем что совпадают только имена объектов. Чтобы не путать модель, удалим эти объекты. Так как признаки имеют одно название, но разные характеристики объекта, то делать вывод о том какие верные мы не можем, удалим пары дубликатов."
   ]
  },
  {
   "cell_type": "code",
   "execution_count": 7,
   "metadata": {},
   "outputs": [],
   "source": [
    "geo_gata_0.drop(index=geo_gata_0[geo_gata_0.duplicated('id', keep=False)].index, axis=1, inplace=True)\n",
    "geo_gata_0.reset_index(drop=True, inplace=True)\n"
   ]
  },
  {
   "cell_type": "code",
   "execution_count": 8,
   "metadata": {},
   "outputs": [
    {
     "data": {
      "text/html": [
       "<div>\n",
       "<style scoped>\n",
       "    .dataframe tbody tr th:only-of-type {\n",
       "        vertical-align: middle;\n",
       "    }\n",
       "\n",
       "    .dataframe tbody tr th {\n",
       "        vertical-align: top;\n",
       "    }\n",
       "\n",
       "    .dataframe thead th {\n",
       "        text-align: right;\n",
       "    }\n",
       "</style>\n",
       "<table border=\"1\" class=\"dataframe\">\n",
       "  <thead>\n",
       "    <tr style=\"text-align: right;\">\n",
       "      <th></th>\n",
       "      <th>f0</th>\n",
       "      <th>f1</th>\n",
       "      <th>f2</th>\n",
       "      <th>product</th>\n",
       "    </tr>\n",
       "  </thead>\n",
       "  <tbody>\n",
       "    <tr>\n",
       "      <th>count</th>\n",
       "      <td>99980.000000</td>\n",
       "      <td>99980.000000</td>\n",
       "      <td>99980.000000</td>\n",
       "      <td>99980.000000</td>\n",
       "    </tr>\n",
       "    <tr>\n",
       "      <th>mean</th>\n",
       "      <td>0.500447</td>\n",
       "      <td>0.250147</td>\n",
       "      <td>2.502638</td>\n",
       "      <td>92.499166</td>\n",
       "    </tr>\n",
       "    <tr>\n",
       "      <th>std</th>\n",
       "      <td>0.871879</td>\n",
       "      <td>0.504431</td>\n",
       "      <td>3.248056</td>\n",
       "      <td>44.289044</td>\n",
       "    </tr>\n",
       "    <tr>\n",
       "      <th>min</th>\n",
       "      <td>-1.408605</td>\n",
       "      <td>-0.848218</td>\n",
       "      <td>-12.088328</td>\n",
       "      <td>0.000000</td>\n",
       "    </tr>\n",
       "    <tr>\n",
       "      <th>25%</th>\n",
       "      <td>-0.072674</td>\n",
       "      <td>-0.200869</td>\n",
       "      <td>0.288010</td>\n",
       "      <td>56.496513</td>\n",
       "    </tr>\n",
       "    <tr>\n",
       "      <th>50%</th>\n",
       "      <td>0.502374</td>\n",
       "      <td>0.250252</td>\n",
       "      <td>2.516005</td>\n",
       "      <td>91.847928</td>\n",
       "    </tr>\n",
       "    <tr>\n",
       "      <th>75%</th>\n",
       "      <td>1.073692</td>\n",
       "      <td>0.700646</td>\n",
       "      <td>4.714884</td>\n",
       "      <td>128.564089</td>\n",
       "    </tr>\n",
       "    <tr>\n",
       "      <th>max</th>\n",
       "      <td>2.362331</td>\n",
       "      <td>1.343769</td>\n",
       "      <td>16.003790</td>\n",
       "      <td>185.364347</td>\n",
       "    </tr>\n",
       "  </tbody>\n",
       "</table>\n",
       "</div>"
      ],
      "text/plain": [
       "                 f0            f1            f2       product\n",
       "count  99980.000000  99980.000000  99980.000000  99980.000000\n",
       "mean       0.500447      0.250147      2.502638     92.499166\n",
       "std        0.871879      0.504431      3.248056     44.289044\n",
       "min       -1.408605     -0.848218    -12.088328      0.000000\n",
       "25%       -0.072674     -0.200869      0.288010     56.496513\n",
       "50%        0.502374      0.250252      2.516005     91.847928\n",
       "75%        1.073692      0.700646      4.714884    128.564089\n",
       "max        2.362331      1.343769     16.003790    185.364347"
      ]
     },
     "execution_count": 8,
     "metadata": {},
     "output_type": "execute_result"
    }
   ],
   "source": [
    "geo_gata_0.describe()"
   ]
  },
  {
   "cell_type": "markdown",
   "metadata": {},
   "source": [
    "Посмотрим на разброс значений."
   ]
  },
  {
   "cell_type": "code",
   "execution_count": 9,
   "metadata": {},
   "outputs": [
    {
     "data": {
      "text/plain": [
       "<AxesSubplot:>"
      ]
     },
     "execution_count": 9,
     "metadata": {},
     "output_type": "execute_result"
    },
    {
     "data": {
      "image/png": "[encoded data removed]",
      "text/plain": [
       "<Figure size 432x288 with 1 Axes>"
      ]
     },
     "metadata": {
      "needs_background": "light"
     },
     "output_type": "display_data"
    }
   ],
   "source": [
    "geo_gata_0.boxplot(['f0', 'f1', 'f2'])"
   ]
  },
  {
   "cell_type": "markdown",
   "metadata": {},
   "source": [
    "В столбце \"f2\" есть выбросы. Они будут мешать обучению модели поэтому их лучше удалить. Удаление выбросов будем производить с помощью ящичного анализа. Для этого найдём первый и третий квантили. Эти значения можно взять из вывода функции `describe()`, но всегда лучше получать значения через вычисления. В будующем это позволит автоматизировать расчёты и избавиться от рутинной работы."
   ]
  },
  {
   "cell_type": "code",
   "execution_count": 10,
   "metadata": {},
   "outputs": [
    {
     "name": "stdout",
     "output_type": "stream",
     "text": [
      "25% - 0.28800973629057447\n",
      "75% - 4.714884192523504\n"
     ]
    }
   ],
   "source": [
    "q25=np.array(geo_gata_0['f2'].quantile(0.25))\n",
    "q75=np.array(geo_gata_0['f2'].quantile(0.75))\n",
    "print('25% -', q25)\n",
    "print('75% -', q75)"
   ]
  },
  {
   "cell_type": "markdown",
   "metadata": {},
   "source": [
    "Результаты совпадают с выводом функции `describe()`, значит мы всё делаем правильно. Следующим шагом найдём верхний предел - максимальное значение в ненормальном диапазоне. Верхний предел = Q3 + 1,5 * IQR, где IQR - межквартильный размах определяющийся как разница третьего и первого квартилей."
   ]
  },
  {
   "cell_type": "code",
   "execution_count": 11,
   "metadata": {},
   "outputs": [],
   "source": [
    "upper_limit=q75+1.5*(q75-q25)"
   ]
  },
  {
   "cell_type": "markdown",
   "metadata": {},
   "source": [
    "Аналогично определим нижний предел, он будет на сигму меньше."
   ]
  },
  {
   "cell_type": "code",
   "execution_count": 12,
   "metadata": {},
   "outputs": [],
   "source": [
    "lower_limit=q25-1.5*(q75-q25)"
   ]
  },
  {
   "cell_type": "markdown",
   "metadata": {},
   "source": [
    "Определим количество значений (выбросов) находятся за пределами диапазона."
   ]
  },
  {
   "cell_type": "code",
   "execution_count": 13,
   "metadata": {},
   "outputs": [
    {
     "name": "stdout",
     "output_type": "stream",
     "text": [
      "Количество строк для удаления: 507 или 0.5%\n"
     ]
    }
   ],
   "source": [
    "del_data = 0 # Переменная-счётчик\n",
    "for index_value, value in zip(geo_gata_0['f2'].index,geo_gata_0['f2']): # Перебираем индексы и значения\n",
    "    if upper_limit <= value or value <= lower_limit:\n",
    "        del_data += 1\n",
    "    \n",
    "print(f'Количество строк для удаления: {del_data} или {round(del_data / len(geo_gata_0) * 100,1)}%')"
   ]
  },
  {
   "cell_type": "markdown",
   "metadata": {},
   "source": [
    "Меньше одного процента, таким количеством можно пожертвовать ради повышения качества обучения модели. Удалим данные. Для удобства соберём код выше в функцию."
   ]
  },
  {
   "cell_type": "code",
   "execution_count": 14,
   "metadata": {},
   "outputs": [],
   "source": [
    "def remove_unnecessary(df, column):\n",
    "    q25=np.array(df[column].quantile(0.25))\n",
    "    q75=np.array(df[column].quantile(0.75))\n",
    "    lower_limit=q25-1.5*(q75-q25)\n",
    "    upper_limit=q75+1.5*(q75-q25)\n",
    "    del_data = 0\n",
    "    for index_value, value in zip(df[column].index,df[column]):\n",
    "        if upper_limit <= value or value <= lower_limit:\n",
    "            del_data += 1\n",
    "            df.drop(index_value, axis = 0, inplace = True)\n",
    "    \n",
    "    print(f'Количество удалённых строк: {del_data} или {round(del_data / len(df) * 100,1)}%')\n",
    "    return df.reset_index(drop = True)"
   ]
  },
  {
   "cell_type": "code",
   "execution_count": 15,
   "metadata": {},
   "outputs": [
    {
     "name": "stdout",
     "output_type": "stream",
     "text": [
      "Количество удалённых строк: 507 или 0.5%\n"
     ]
    }
   ],
   "source": [
    "geo_gata_0 = remove_unnecessary(geo_gata_0, 'f2')"
   ]
  },
  {
   "cell_type": "markdown",
   "metadata": {},
   "source": [
    "Построим диаграмму размаха для целевого признака."
   ]
  },
  {
   "cell_type": "code",
   "execution_count": 16,
   "metadata": {},
   "outputs": [
    {
     "data": {
      "text/plain": [
       "<AxesSubplot:>"
      ]
     },
     "execution_count": 16,
     "metadata": {},
     "output_type": "execute_result"
    },
    {
     "data": {
      "image/png": "[encoded data removed]",
      "text/plain": [
       "<Figure size 432x288 with 1 Axes>"
      ]
     },
     "metadata": {
      "needs_background": "light"
     },
     "output_type": "display_data"
    }
   ],
   "source": [
    "geo_gata_0.boxplot(['product'])"
   ]
  },
  {
   "cell_type": "markdown",
   "metadata": {},
   "source": [
    "Выбросов нет, все данные попадают в межквартильный размах, медиана незначительно отличается от среднего. Проверим наличие корреляции."
   ]
  },
  {
   "cell_type": "code",
   "execution_count": 17,
   "metadata": {},
   "outputs": [
    {
     "data": {
      "text/html": [
       "<div>\n",
       "<style scoped>\n",
       "    .dataframe tbody tr th:only-of-type {\n",
       "        vertical-align: middle;\n",
       "    }\n",
       "\n",
       "    .dataframe tbody tr th {\n",
       "        vertical-align: top;\n",
       "    }\n",
       "\n",
       "    .dataframe thead th {\n",
       "        text-align: right;\n",
       "    }\n",
       "</style>\n",
       "<table border=\"1\" class=\"dataframe\">\n",
       "  <thead>\n",
       "    <tr style=\"text-align: right;\">\n",
       "      <th></th>\n",
       "      <th>f0</th>\n",
       "      <th>f1</th>\n",
       "      <th>f2</th>\n",
       "      <th>product</th>\n",
       "    </tr>\n",
       "  </thead>\n",
       "  <tbody>\n",
       "    <tr>\n",
       "      <th>f0</th>\n",
       "      <td>1.000000</td>\n",
       "      <td>-0.440718</td>\n",
       "      <td>-0.003382</td>\n",
       "      <td>0.143568</td>\n",
       "    </tr>\n",
       "    <tr>\n",
       "      <th>f1</th>\n",
       "      <td>-0.440718</td>\n",
       "      <td>1.000000</td>\n",
       "      <td>0.001161</td>\n",
       "      <td>-0.192732</td>\n",
       "    </tr>\n",
       "    <tr>\n",
       "      <th>f2</th>\n",
       "      <td>-0.003382</td>\n",
       "      <td>0.001161</td>\n",
       "      <td>1.000000</td>\n",
       "      <td>0.480093</td>\n",
       "    </tr>\n",
       "    <tr>\n",
       "      <th>product</th>\n",
       "      <td>0.143568</td>\n",
       "      <td>-0.192732</td>\n",
       "      <td>0.480093</td>\n",
       "      <td>1.000000</td>\n",
       "    </tr>\n",
       "  </tbody>\n",
       "</table>\n",
       "</div>"
      ],
      "text/plain": [
       "               f0        f1        f2   product\n",
       "f0       1.000000 -0.440718 -0.003382  0.143568\n",
       "f1      -0.440718  1.000000  0.001161 -0.192732\n",
       "f2      -0.003382  0.001161  1.000000  0.480093\n",
       "product  0.143568 -0.192732  0.480093  1.000000"
      ]
     },
     "execution_count": 17,
     "metadata": {},
     "output_type": "execute_result"
    }
   ],
   "source": [
    "geo_gata_0.corr()"
   ]
  },
  {
   "cell_type": "markdown",
   "metadata": {},
   "source": [
    "Из таблицы видно что \"f0\" отрицательно коррелирует с \"f1\", а \"f2\" коррелирует с целевым признаком.\n",
    "\n",
    "Быспро проведём аналогичный анализ для оставшихся таблиц."
   ]
  },
  {
   "cell_type": "code",
   "execution_count": 18,
   "metadata": {},
   "outputs": [
    {
     "name": "stdout",
     "output_type": "stream",
     "text": [
      "<class 'pandas.core.frame.DataFrame'>\n",
      "RangeIndex: 100000 entries, 0 to 99999\n",
      "Data columns (total 5 columns):\n",
      " #   Column   Non-Null Count   Dtype  \n",
      "---  ------   --------------   -----  \n",
      " 0   id       100000 non-null  object \n",
      " 1   f0       100000 non-null  float64\n",
      " 2   f1       100000 non-null  float64\n",
      " 3   f2       100000 non-null  float64\n",
      " 4   product  100000 non-null  float64\n",
      "dtypes: float64(4), object(1)\n",
      "memory usage: 3.8+ MB\n"
     ]
    }
   ],
   "source": [
    "geo_gata_1.info()"
   ]
  },
  {
   "cell_type": "code",
   "execution_count": 19,
   "metadata": {},
   "outputs": [
    {
     "data": {
      "text/plain": [
       "0"
      ]
     },
     "execution_count": 19,
     "metadata": {},
     "output_type": "execute_result"
    }
   ],
   "source": [
    "geo_gata_1.duplicated().sum()"
   ]
  },
  {
   "cell_type": "code",
   "execution_count": 20,
   "metadata": {},
   "outputs": [
    {
     "data": {
      "text/plain": [
       "4"
      ]
     },
     "execution_count": 20,
     "metadata": {},
     "output_type": "execute_result"
    }
   ],
   "source": [
    "geo_gata_1['id'].duplicated().sum()"
   ]
  },
  {
   "cell_type": "code",
   "execution_count": 21,
   "metadata": {},
   "outputs": [],
   "source": [
    "geo_gata_1.drop(index=geo_gata_1[geo_gata_1.duplicated('id', keep=False)].index, axis=1, inplace=True)\n",
    "geo_gata_1.reset_index(drop=True, inplace=True)"
   ]
  },
  {
   "cell_type": "code",
   "execution_count": 22,
   "metadata": {},
   "outputs": [
    {
     "data": {
      "text/html": [
       "<div>\n",
       "<style scoped>\n",
       "    .dataframe tbody tr th:only-of-type {\n",
       "        vertical-align: middle;\n",
       "    }\n",
       "\n",
       "    .dataframe tbody tr th {\n",
       "        vertical-align: top;\n",
       "    }\n",
       "\n",
       "    .dataframe thead th {\n",
       "        text-align: right;\n",
       "    }\n",
       "</style>\n",
       "<table border=\"1\" class=\"dataframe\">\n",
       "  <thead>\n",
       "    <tr style=\"text-align: right;\">\n",
       "      <th></th>\n",
       "      <th>f0</th>\n",
       "      <th>f1</th>\n",
       "      <th>f2</th>\n",
       "      <th>product</th>\n",
       "    </tr>\n",
       "  </thead>\n",
       "  <tbody>\n",
       "    <tr>\n",
       "      <th>count</th>\n",
       "      <td>99992.000000</td>\n",
       "      <td>99992.000000</td>\n",
       "      <td>99992.000000</td>\n",
       "      <td>99992.000000</td>\n",
       "    </tr>\n",
       "    <tr>\n",
       "      <th>mean</th>\n",
       "      <td>1.141363</td>\n",
       "      <td>-4.796522</td>\n",
       "      <td>2.494511</td>\n",
       "      <td>68.824148</td>\n",
       "    </tr>\n",
       "    <tr>\n",
       "      <th>std</th>\n",
       "      <td>8.965805</td>\n",
       "      <td>5.119934</td>\n",
       "      <td>1.703587</td>\n",
       "      <td>45.944889</td>\n",
       "    </tr>\n",
       "    <tr>\n",
       "      <th>min</th>\n",
       "      <td>-31.609576</td>\n",
       "      <td>-26.358598</td>\n",
       "      <td>-0.018144</td>\n",
       "      <td>0.000000</td>\n",
       "    </tr>\n",
       "    <tr>\n",
       "      <th>25%</th>\n",
       "      <td>-6.298525</td>\n",
       "      <td>-8.267985</td>\n",
       "      <td>1.000021</td>\n",
       "      <td>26.953261</td>\n",
       "    </tr>\n",
       "    <tr>\n",
       "      <th>50%</th>\n",
       "      <td>1.153190</td>\n",
       "      <td>-4.813005</td>\n",
       "      <td>2.011475</td>\n",
       "      <td>57.085625</td>\n",
       "    </tr>\n",
       "    <tr>\n",
       "      <th>75%</th>\n",
       "      <td>8.620964</td>\n",
       "      <td>-1.332704</td>\n",
       "      <td>3.999904</td>\n",
       "      <td>107.813044</td>\n",
       "    </tr>\n",
       "    <tr>\n",
       "      <th>max</th>\n",
       "      <td>29.421755</td>\n",
       "      <td>18.734063</td>\n",
       "      <td>5.019721</td>\n",
       "      <td>137.945408</td>\n",
       "    </tr>\n",
       "  </tbody>\n",
       "</table>\n",
       "</div>"
      ],
      "text/plain": [
       "                 f0            f1            f2       product\n",
       "count  99992.000000  99992.000000  99992.000000  99992.000000\n",
       "mean       1.141363     -4.796522      2.494511     68.824148\n",
       "std        8.965805      5.119934      1.703587     45.944889\n",
       "min      -31.609576    -26.358598     -0.018144      0.000000\n",
       "25%       -6.298525     -8.267985      1.000021     26.953261\n",
       "50%        1.153190     -4.813005      2.011475     57.085625\n",
       "75%        8.620964     -1.332704      3.999904    107.813044\n",
       "max       29.421755     18.734063      5.019721    137.945408"
      ]
     },
     "execution_count": 22,
     "metadata": {},
     "output_type": "execute_result"
    }
   ],
   "source": [
    "geo_gata_1.describe()"
   ]
  },
  {
   "cell_type": "code",
   "execution_count": 23,
   "metadata": {},
   "outputs": [
    {
     "data": {
      "text/plain": [
       "<AxesSubplot:>"
      ]
     },
     "execution_count": 23,
     "metadata": {},
     "output_type": "execute_result"
    },
    {
     "data": {
      "image/png": "[encoded data removed]",
      "text/plain": [
       "<Figure size 432x288 with 1 Axes>"
      ]
     },
     "metadata": {
      "needs_background": "light"
     },
     "output_type": "display_data"
    }
   ],
   "source": [
    "geo_gata_1.boxplot(['f0', 'f1', 'f2'])"
   ]
  },
  {
   "cell_type": "markdown",
   "metadata": {},
   "source": [
    "Удаляем выбросы из столбцов \"f0\" и \"f1\" c помощью функции \"remove_unnecessary\"."
   ]
  },
  {
   "cell_type": "code",
   "execution_count": 24,
   "metadata": {},
   "outputs": [
    {
     "name": "stdout",
     "output_type": "stream",
     "text": [
      "Количество удалённых строк: 1 или 0.0%\n"
     ]
    }
   ],
   "source": [
    "geo_gata_1 = remove_unnecessary(geo_gata_1, 'f0')"
   ]
  },
  {
   "cell_type": "code",
   "execution_count": 25,
   "metadata": {},
   "outputs": [
    {
     "name": "stdout",
     "output_type": "stream",
     "text": [
      "Количество удалённых строк: 636 или 0.6%\n"
     ]
    }
   ],
   "source": [
    "geo_gata_1 = remove_unnecessary(geo_gata_1, 'f1')"
   ]
  },
  {
   "cell_type": "code",
   "execution_count": 26,
   "metadata": {},
   "outputs": [
    {
     "data": {
      "text/plain": [
       "<AxesSubplot:>"
      ]
     },
     "execution_count": 26,
     "metadata": {},
     "output_type": "execute_result"
    },
    {
     "data": {
      "image/png": "[encoded data removed]",
      "text/plain": [
       "<Figure size 432x288 with 1 Axes>"
      ]
     },
     "metadata": {
      "needs_background": "light"
     },
     "output_type": "display_data"
    }
   ],
   "source": [
    "geo_gata_1.boxplot('product')"
   ]
  },
  {
   "cell_type": "code",
   "execution_count": 27,
   "metadata": {},
   "outputs": [
    {
     "data": {
      "text/html": [
       "<div>\n",
       "<style scoped>\n",
       "    .dataframe tbody tr th:only-of-type {\n",
       "        vertical-align: middle;\n",
       "    }\n",
       "\n",
       "    .dataframe tbody tr th {\n",
       "        vertical-align: top;\n",
       "    }\n",
       "\n",
       "    .dataframe thead th {\n",
       "        text-align: right;\n",
       "    }\n",
       "</style>\n",
       "<table border=\"1\" class=\"dataframe\">\n",
       "  <thead>\n",
       "    <tr style=\"text-align: right;\">\n",
       "      <th></th>\n",
       "      <th>f0</th>\n",
       "      <th>f1</th>\n",
       "      <th>f2</th>\n",
       "      <th>product</th>\n",
       "    </tr>\n",
       "  </thead>\n",
       "  <tbody>\n",
       "    <tr>\n",
       "      <th>f0</th>\n",
       "      <td>1.000000</td>\n",
       "      <td>0.178911</td>\n",
       "      <td>-0.001682</td>\n",
       "      <td>-0.030401</td>\n",
       "    </tr>\n",
       "    <tr>\n",
       "      <th>f1</th>\n",
       "      <td>0.178911</td>\n",
       "      <td>1.000000</td>\n",
       "      <td>-0.002780</td>\n",
       "      <td>-0.010199</td>\n",
       "    </tr>\n",
       "    <tr>\n",
       "      <th>f2</th>\n",
       "      <td>-0.001682</td>\n",
       "      <td>-0.002780</td>\n",
       "      <td>1.000000</td>\n",
       "      <td>0.999397</td>\n",
       "    </tr>\n",
       "    <tr>\n",
       "      <th>product</th>\n",
       "      <td>-0.030401</td>\n",
       "      <td>-0.010199</td>\n",
       "      <td>0.999397</td>\n",
       "      <td>1.000000</td>\n",
       "    </tr>\n",
       "  </tbody>\n",
       "</table>\n",
       "</div>"
      ],
      "text/plain": [
       "               f0        f1        f2   product\n",
       "f0       1.000000  0.178911 -0.001682 -0.030401\n",
       "f1       0.178911  1.000000 -0.002780 -0.010199\n",
       "f2      -0.001682 -0.002780  1.000000  0.999397\n",
       "product -0.030401 -0.010199  0.999397  1.000000"
      ]
     },
     "execution_count": 27,
     "metadata": {},
     "output_type": "execute_result"
    }
   ],
   "source": [
    "geo_gata_1.corr()"
   ]
  },
  {
   "cell_type": "markdown",
   "metadata": {},
   "source": [
    "Переходим к следующему."
   ]
  },
  {
   "cell_type": "code",
   "execution_count": 29,
   "metadata": {},
   "outputs": [
    {
     "name": "stdout",
     "output_type": "stream",
     "text": [
      "<class 'pandas.core.frame.DataFrame'>\n",
      "RangeIndex: 100000 entries, 0 to 99999\n",
      "Data columns (total 5 columns):\n",
      " #   Column   Non-Null Count   Dtype  \n",
      "---  ------   --------------   -----  \n",
      " 0   id       100000 non-null  object \n",
      " 1   f0       100000 non-null  float64\n",
      " 2   f1       100000 non-null  float64\n",
      " 3   f2       100000 non-null  float64\n",
      " 4   product  100000 non-null  float64\n",
      "dtypes: float64(4), object(1)\n",
      "memory usage: 3.8+ MB\n"
     ]
    }
   ],
   "source": [
    "geo_gata_2.info()"
   ]
  },
  {
   "cell_type": "code",
   "execution_count": 30,
   "metadata": {},
   "outputs": [
    {
     "data": {
      "text/plain": [
       "0"
      ]
     },
     "execution_count": 30,
     "metadata": {},
     "output_type": "execute_result"
    }
   ],
   "source": [
    "geo_gata_2.duplicated().sum()"
   ]
  },
  {
   "cell_type": "code",
   "execution_count": 31,
   "metadata": {},
   "outputs": [
    {
     "data": {
      "text/plain": [
       "4"
      ]
     },
     "execution_count": 31,
     "metadata": {},
     "output_type": "execute_result"
    }
   ],
   "source": [
    "geo_gata_2['id'].duplicated().sum()"
   ]
  },
  {
   "cell_type": "code",
   "execution_count": 32,
   "metadata": {},
   "outputs": [],
   "source": [
    "geo_gata_2.drop(index=geo_gata_2[geo_gata_2.duplicated('id', keep=False)].index, axis=1, inplace=True)\n",
    "geo_gata_2.reset_index(drop=True, inplace=True)"
   ]
  },
  {
   "cell_type": "code",
   "execution_count": 33,
   "metadata": {},
   "outputs": [
    {
     "data": {
      "text/html": [
       "<div>\n",
       "<style scoped>\n",
       "    .dataframe tbody tr th:only-of-type {\n",
       "        vertical-align: middle;\n",
       "    }\n",
       "\n",
       "    .dataframe tbody tr th {\n",
       "        vertical-align: top;\n",
       "    }\n",
       "\n",
       "    .dataframe thead th {\n",
       "        text-align: right;\n",
       "    }\n",
       "</style>\n",
       "<table border=\"1\" class=\"dataframe\">\n",
       "  <thead>\n",
       "    <tr style=\"text-align: right;\">\n",
       "      <th></th>\n",
       "      <th>f0</th>\n",
       "      <th>f1</th>\n",
       "      <th>f2</th>\n",
       "      <th>product</th>\n",
       "    </tr>\n",
       "  </thead>\n",
       "  <tbody>\n",
       "    <tr>\n",
       "      <th>count</th>\n",
       "      <td>99992.000000</td>\n",
       "      <td>99992.000000</td>\n",
       "      <td>99992.000000</td>\n",
       "      <td>99992.000000</td>\n",
       "    </tr>\n",
       "    <tr>\n",
       "      <th>mean</th>\n",
       "      <td>0.001975</td>\n",
       "      <td>-0.002113</td>\n",
       "      <td>2.495088</td>\n",
       "      <td>94.998767</td>\n",
       "    </tr>\n",
       "    <tr>\n",
       "      <th>std</th>\n",
       "      <td>1.732061</td>\n",
       "      <td>1.730404</td>\n",
       "      <td>3.473491</td>\n",
       "      <td>44.747763</td>\n",
       "    </tr>\n",
       "    <tr>\n",
       "      <th>min</th>\n",
       "      <td>-8.760004</td>\n",
       "      <td>-7.084020</td>\n",
       "      <td>-11.970335</td>\n",
       "      <td>0.000000</td>\n",
       "    </tr>\n",
       "    <tr>\n",
       "      <th>25%</th>\n",
       "      <td>-1.162328</td>\n",
       "      <td>-1.174820</td>\n",
       "      <td>0.130269</td>\n",
       "      <td>59.450441</td>\n",
       "    </tr>\n",
       "    <tr>\n",
       "      <th>50%</th>\n",
       "      <td>0.009411</td>\n",
       "      <td>-0.009580</td>\n",
       "      <td>2.484236</td>\n",
       "      <td>94.925026</td>\n",
       "    </tr>\n",
       "    <tr>\n",
       "      <th>75%</th>\n",
       "      <td>1.158442</td>\n",
       "      <td>1.163592</td>\n",
       "      <td>4.858662</td>\n",
       "      <td>130.585544</td>\n",
       "    </tr>\n",
       "    <tr>\n",
       "      <th>max</th>\n",
       "      <td>7.238262</td>\n",
       "      <td>7.844801</td>\n",
       "      <td>16.739402</td>\n",
       "      <td>190.029838</td>\n",
       "    </tr>\n",
       "  </tbody>\n",
       "</table>\n",
       "</div>"
      ],
      "text/plain": [
       "                 f0            f1            f2       product\n",
       "count  99992.000000  99992.000000  99992.000000  99992.000000\n",
       "mean       0.001975     -0.002113      2.495088     94.998767\n",
       "std        1.732061      1.730404      3.473491     44.747763\n",
       "min       -8.760004     -7.084020    -11.970335      0.000000\n",
       "25%       -1.162328     -1.174820      0.130269     59.450441\n",
       "50%        0.009411     -0.009580      2.484236     94.925026\n",
       "75%        1.158442      1.163592      4.858662    130.585544\n",
       "max        7.238262      7.844801     16.739402    190.029838"
      ]
     },
     "execution_count": 33,
     "metadata": {},
     "output_type": "execute_result"
    }
   ],
   "source": [
    "geo_gata_2.describe()"
   ]
  },
  {
   "cell_type": "code",
   "execution_count": 34,
   "metadata": {},
   "outputs": [
    {
     "data": {
      "text/plain": [
       "<AxesSubplot:>"
      ]
     },
     "execution_count": 34,
     "metadata": {},
     "output_type": "execute_result"
    },
    {
     "data": {
      "image/png": "[encoded data removed]",
      "text/plain": [
       "<Figure size 432x288 with 1 Axes>"
      ]
     },
     "metadata": {
      "needs_background": "light"
     },
     "output_type": "display_data"
    }
   ],
   "source": [
    "geo_gata_2.boxplot(['f0', 'f1', 'f2'])"
   ]
  },
  {
   "cell_type": "markdown",
   "metadata": {},
   "source": [
    "В последнем датафрейме выбросы присутствуют в каждом столбце."
   ]
  },
  {
   "cell_type": "code",
   "execution_count": 35,
   "metadata": {},
   "outputs": [
    {
     "name": "stdout",
     "output_type": "stream",
     "text": [
      "Количество удалённых строк: 733 или 0.7%\n"
     ]
    }
   ],
   "source": [
    "geo_gata_2 = remove_unnecessary(geo_gata_2, 'f0')"
   ]
  },
  {
   "cell_type": "code",
   "execution_count": 36,
   "metadata": {},
   "outputs": [
    {
     "name": "stdout",
     "output_type": "stream",
     "text": [
      "Количество удалённых строк: 682 или 0.7%\n"
     ]
    }
   ],
   "source": [
    "geo_gata_2 = remove_unnecessary(geo_gata_2, 'f1')"
   ]
  },
  {
   "cell_type": "code",
   "execution_count": 37,
   "metadata": {},
   "outputs": [
    {
     "name": "stdout",
     "output_type": "stream",
     "text": [
      "Количество удалённых строк: 582 или 0.6%\n"
     ]
    }
   ],
   "source": [
    "geo_gata_2 = remove_unnecessary(geo_gata_2, 'f2')"
   ]
  },
  {
   "cell_type": "code",
   "execution_count": 38,
   "metadata": {},
   "outputs": [
    {
     "data": {
      "text/plain": [
       "<AxesSubplot:>"
      ]
     },
     "execution_count": 38,
     "metadata": {},
     "output_type": "execute_result"
    },
    {
     "data": {
      "image/png": "[encoded data removed]",
      "text/plain": [
       "<Figure size 432x288 with 1 Axes>"
      ]
     },
     "metadata": {
      "needs_background": "light"
     },
     "output_type": "display_data"
    }
   ],
   "source": [
    "geo_gata_2.boxplot('product')"
   ]
  },
  {
   "cell_type": "code",
   "execution_count": 39,
   "metadata": {},
   "outputs": [
    {
     "data": {
      "text/html": [
       "<div>\n",
       "<style scoped>\n",
       "    .dataframe tbody tr th:only-of-type {\n",
       "        vertical-align: middle;\n",
       "    }\n",
       "\n",
       "    .dataframe tbody tr th {\n",
       "        vertical-align: top;\n",
       "    }\n",
       "\n",
       "    .dataframe thead th {\n",
       "        text-align: right;\n",
       "    }\n",
       "</style>\n",
       "<table border=\"1\" class=\"dataframe\">\n",
       "  <thead>\n",
       "    <tr style=\"text-align: right;\">\n",
       "      <th></th>\n",
       "      <th>f0</th>\n",
       "      <th>f1</th>\n",
       "      <th>f2</th>\n",
       "      <th>product</th>\n",
       "    </tr>\n",
       "  </thead>\n",
       "  <tbody>\n",
       "    <tr>\n",
       "      <th>f0</th>\n",
       "      <td>1.000000</td>\n",
       "      <td>0.000620</td>\n",
       "      <td>0.000466</td>\n",
       "      <td>-0.002948</td>\n",
       "    </tr>\n",
       "    <tr>\n",
       "      <th>f1</th>\n",
       "      <td>0.000620</td>\n",
       "      <td>1.000000</td>\n",
       "      <td>0.000693</td>\n",
       "      <td>-0.000930</td>\n",
       "    </tr>\n",
       "    <tr>\n",
       "      <th>f2</th>\n",
       "      <td>0.000466</td>\n",
       "      <td>0.000693</td>\n",
       "      <td>1.000000</td>\n",
       "      <td>0.441211</td>\n",
       "    </tr>\n",
       "    <tr>\n",
       "      <th>product</th>\n",
       "      <td>-0.002948</td>\n",
       "      <td>-0.000930</td>\n",
       "      <td>0.441211</td>\n",
       "      <td>1.000000</td>\n",
       "    </tr>\n",
       "  </tbody>\n",
       "</table>\n",
       "</div>"
      ],
      "text/plain": [
       "               f0        f1        f2   product\n",
       "f0       1.000000  0.000620  0.000466 -0.002948\n",
       "f1       0.000620  1.000000  0.000693 -0.000930\n",
       "f2       0.000466  0.000693  1.000000  0.441211\n",
       "product -0.002948 -0.000930  0.441211  1.000000"
      ]
     },
     "execution_count": 39,
     "metadata": {},
     "output_type": "execute_result"
    }
   ],
   "source": [
    "geo_gata_2.corr()"
   ]
  },
  {
   "cell_type": "markdown",
   "metadata": {},
   "source": [
    "Есть умеренная кореляция столбца \"f2\" с целевым признаком.\n",
    "\n",
    "Небольшое количество дубликатов было обнаружено в каждом наборе данных. Так как эта ошибка повторяется стоит обратить на это внимание тех кто отвечал за выгрузку. Из всех наборов данных были удалены выбросы. Больше всего их было в последнем датасете, но общее количество не превышает 2%. Так же была обнаружена сильная корреляция во втором датафрейме, один из признаков пришлось удалить."
   ]
  },
  {
   "cell_type": "markdown",
   "metadata": {},
   "source": [
    "## Обучение и проверка модели"
   ]
  },
  {
   "cell_type": "markdown",
   "metadata": {},
   "source": [
    "Подготовим данные для обучения модели, отделим признаки для обучения от целевого признака. Чтобы не копировать один и тот же код, переберём датасеты циклом. И обучим модель. Для расчёта используем построение конвейера с помощью функции make_pipeline."
   ]
  },
  {
   "cell_type": "code",
   "execution_count": 40,
   "metadata": {},
   "outputs": [
    {
     "name": "stdout",
     "output_type": "stream",
     "text": [
      "Средний запас сырья реальный: 91.97774194745743\n",
      "Средний запас сырья предсказанный: 92.59323413054406\n",
      "RMSE geo_data_0 : 37.723754923964115\n",
      "\n",
      "Средний запас сырья реальный: 68.63422477161956\n",
      "Средний запас сырья предсказанный: 68.6386802421195\n",
      "RMSE geo_data_1 : 0.8892698446231985\n",
      "\n",
      "Средний запас сырья реальный: 94.9532506614464\n",
      "Средний запас сырья предсказанный: 94.96694703867499\n",
      "RMSE geo_data_2 : 40.01836830591263\n",
      "\n"
     ]
    }
   ],
   "source": [
    "array_name = ['geo_data_0', 'geo_data_1', 'geo_data_2']\n",
    "array_data = [geo_gata_0, geo_gata_1, geo_gata_2]\n",
    "\n",
    "data_dict = {'valid':{}, 'predict':{}}\n",
    "\n",
    "for data, name in zip(array_data, array_name):\n",
    "    \n",
    "    features = data.drop(['id', 'product'], axis = 1)\n",
    "    target = data['product']\n",
    "    \n",
    "    new_pipeline = make_pipeline(StandardScaler(), LinearRegression())\n",
    "    \n",
    "    features_train, features_valid, target_train, target_valid = train_test_split(\n",
    "        features, target, test_size = 0.25, random_state = 12345)\n",
    "    \n",
    "    new_pipeline.fit(features_train, target_train)\n",
    "    \n",
    "    data_dict['valid'][name] = target_valid\n",
    "    data_dict['predict'][name] = new_pipeline.predict(features_valid)\n",
    "    \n",
    "    print('Средний запас сырья реальный:', target_valid.mean())\n",
    "    print('Средний запас сырья предсказанный:', data_dict['predict'][name].mean())\n",
    "    print('RMSE', name, ':', mean_squared_error(target_valid, data_dict['predict'][name])**0.5)\n",
    "    print()"
   ]
  },
  {
   "cell_type": "markdown",
   "metadata": {},
   "source": [
    "Из полученных результатов делаем следующий вывод самый большой запас в последнем регионе, но средняя ошибка. Самый маленький запас в регионе \"geo_data_1\" и самая маленькая ошибка. Первый регион похож на последний, имеет запас немного меньший запас и немного нижне RMSE."
   ]
  },
  {
   "cell_type": "markdown",
   "metadata": {},
   "source": [
    "## Подготовка к расчёту прибыли"
   ]
  },
  {
   "cell_type": "markdown",
   "metadata": {},
   "source": [
    "Все ключевые значения для расчётов сохраним в отдельных константах. Константы принято именовать буквами в верхнем регистре с _ в качестве разделителя."
   ]
  },
  {
   "cell_type": "code",
   "execution_count": 41,
   "metadata": {},
   "outputs": [],
   "source": [
    "BUDGET = 10*(10**9) # Бюджет на разработку скважин в регионе — 10 млрд рублей\n",
    "COST_PRE_POINT = 500 # При разведке региона исследуют 500 точек\n",
    "COST_FIN_POINTS = 200 # 200 лучших для разработки скважин\n",
    "PRODUCT_PRICE = 450000 # Доход с тысячи баррелей\n",
    "DAMAGE_THRESHOLD = .025 # Порог вероятности убытков 2.5%"
   ]
  },
  {
   "cell_type": "markdown",
   "metadata": {},
   "source": [
    "Имея данные для расчёта найдём точку безубыточности."
   ]
  },
  {
   "cell_type": "code",
   "execution_count": 42,
   "metadata": {},
   "outputs": [
    {
     "data": {
      "text/plain": [
       "44"
      ]
     },
     "execution_count": 42,
     "metadata": {},
     "output_type": "execute_result"
    }
   ],
   "source": [
    "BREAK_EVEN = BUDGET // COST_PRE_POINT // PRODUCT_PRICE\n",
    "BREAK_EVEN"
   ]
  },
  {
   "cell_type": "markdown",
   "metadata": {},
   "source": [
    "Исходя из полученной точки безубыточности можем сделать вывод все регионы нам подходят."
   ]
  },
  {
   "cell_type": "markdown",
   "metadata": {},
   "source": [
    "## Расчёт прибыли и рисков "
   ]
  },
  {
   "cell_type": "code",
   "execution_count": 43,
   "metadata": {},
   "outputs": [],
   "source": [
    "def profit(target, predict):\n",
    "    sort_Series = pd.Series(predict).sort_values(ascending=False)[:COST_FIN_POINTS]\n",
    "    target_sort = (target.reset_index(drop = True)[sort_Series.index])\n",
    "    sum_target = target_sort.sum() \n",
    "    return round((sum_target * PRODUCT_PRICE) - BUDGET, 2)"
   ]
  },
  {
   "cell_type": "code",
   "execution_count": 44,
   "metadata": {},
   "outputs": [
    {
     "name": "stdout",
     "output_type": "stream",
     "text": [
      "Прибыль с лучших 200 скважин в регионе geo_data_0: 3267957892.71\n",
      "Прибыль с лучших 200 скважин в регионе geo_data_1: 2415086696.68\n",
      "Прибыль с лучших 200 скважин в регионе geo_data_2: 2182887800.68\n"
     ]
    }
   ],
   "source": [
    "print('Прибыль с лучших 200 скважин в регионе geo_data_0:', profit(data_dict['valid']['geo_data_0'], data_dict['predict']['geo_data_0']))\n",
    "print('Прибыль с лучших 200 скважин в регионе geo_data_1:', profit(data_dict['valid']['geo_data_1'], data_dict['predict']['geo_data_1']))\n",
    "print('Прибыль с лучших 200 скважин в регионе geo_data_2:', profit(data_dict['valid']['geo_data_2'], data_dict['predict']['geo_data_2']))\n"
   ]
  },
  {
   "cell_type": "code",
   "execution_count": 45,
   "metadata": {},
   "outputs": [],
   "source": [
    "def bootsrtap(target, predict):\n",
    "    values = []\n",
    "    for i in range(1000):\n",
    "        sample = pd.Series(predict).sample(n = COST_PRE_POINT, replace=True, random_state=state)\n",
    "        values.append(profit(target, sample))\n",
    "    values = pd.Series(values)\n",
    "    print('Средняя прибыль:', values.mean())\n",
    "    print('Риски:', values.apply(lambda x: x < 0).sum()/len(values)*100,\"%\")\n",
    "    \n",
    "    lower = values.quantile(0.025)\n",
    "    upper = values.quantile(0.975)\n",
    "    return round(lower, 2), round(upper, 2)"
   ]
  },
  {
   "cell_type": "code",
   "execution_count": 46,
   "metadata": {},
   "outputs": [
    {
     "name": "stdout",
     "output_type": "stream",
     "text": [
      "Средняя прибыль: 378298087.95606005\n",
      "Риски: 7.1 %\n",
      "95% доверительный итервал для региона geo_data_0 лежит между: (-106768256.18, 852188552.91)\n",
      "\n",
      "Средняя прибыль: 437922748.99982\n",
      "Риски: 1.4000000000000001 %\n",
      "95% доверительный итервал для региона geo_data_1 лежит между: (53792875.83, 849428261.54)\n",
      "\n",
      "Средняя прибыль: 373744999.31156\n",
      "Риски: 8.200000000000001 %\n",
      "95% доверительный итервал для региона geo_data_2 лежит между: (-149193690.79, 942955061.63)\n"
     ]
    }
   ],
   "source": [
    "print(\"95% доверительный итервал для региона geo_data_0 лежит между:\",\n",
    "      bootsrtap(data_dict['valid']['geo_data_0'], data_dict['predict']['geo_data_0']))\n",
    "print()\n",
    "print(\"95% доверительный итервал для региона geo_data_1 лежит между:\",\n",
    "      bootsrtap(data_dict['valid']['geo_data_1'], data_dict['predict']['geo_data_1']))\n",
    "print()\n",
    "print(\"95% доверительный итервал для региона geo_data_2 лежит между:\",\n",
    "      bootsrtap(data_dict['valid']['geo_data_2'], data_dict['predict']['geo_data_2']))"
   ]
  },
  {
   "cell_type": "markdown",
   "metadata": {},
   "source": [
    "При написании проекта мы изучили 3 датасета по регионам. При предобработке были обнаружены дубликаты по имени скважины, были удалены. Были удалены выбросы и некоторых столбцов, максимальное значение потерь данных не превысило 2%. Во втором датасеты была обнаружена сильная корреляция столбца с целевым признаком, столбец был удалён. \n",
    "Далее разбили данные в соотношении 75:25 на тренировочную и валидационную выборки. Создали конвеер и обучили модель линейной регресси. Сделали предсказания и сравнили ошибки модели в разных регионах.\n",
    "\n",
    "При подготовке данных для расчёта прибыли сохранили все значения в константы и нашли точку безубыточности.\n",
    "\n",
    "Написали функцию подсчета прибыли для выбранных скважин. Отсеяли 200 шкважин из отсортированного списка. Методом bootstrap на 1000 выборок, нашли 95%-й доверительный интервал, среднюю прибыль и определили риски.\n",
    "\n",
    "В результате расчёта делаем вывод что регион \"geo_data_1\" наиболее перпективен для разработки скважин, т.к. имеет наибольшую среднюю прибыль и значительно меньшие риски."
   ]
  },
  {
   "cell_type": "markdown",
   "metadata": {},
   "source": [
    "## Чек-лист готовности проекта"
   ]
  },
  {
   "cell_type": "markdown",
   "metadata": {},
   "source": [
    "Поставьте 'x' в выполненных пунктах. Далее нажмите Shift+Enter."
   ]
  },
  {
   "cell_type": "markdown",
   "metadata": {},
   "source": [
    "- [x]  Jupyter Notebook открыт\n",
    "- [x]  Весь код выполняется без ошибок\n",
    "- [x]  Ячейки с кодом расположены в порядке исполнения\n",
    "- [x]  Выполнен шаг 1: данные подготовлены\n",
    "- [x]  Выполнен шаг 2: модели обучены и проверены\n",
    "    - [x]  Данные корректно разбиты на обучающую и валидационную выборки\n",
    "    - [x]  Модели обучены, предсказания сделаны\n",
    "    - [x]  Предсказания и правильные ответы на валидационной выборке сохранены\n",
    "    - [x]  На экране напечатаны результаты\n",
    "    - [x]  Сделаны выводы\n",
    "- [x]  Выполнен шаг 3: проведена подготовка к расчёту прибыли\n",
    "    - [x]  Для всех ключевых значений созданы константы Python\n",
    "    - [x]  Посчитано минимальное среднее количество продукта в месторождениях региона, достаточное для разработки\n",
    "    - [x]  По предыдущему пункту сделаны выводы\n",
    "    - [x]  Написана функция расчёта прибыли\n",
    "- [x]  Выполнен шаг 4: посчитаны риски и прибыль\n",
    "    - [x]  Проведена процедура *Bootstrap*\n",
    "    - [x]  Все параметры бутстрепа соответствуют условию\n",
    "    - [x]  Найдены все нужные величины\n",
    "    - [x]  Предложен регион для разработки месторождения\n",
    "    - [x]  Выбор региона обоснован"
   ]
  },
  {
   "cell_type": "code",
   "execution_count": null,
   "metadata": {},
   "outputs": [],
   "source": []
  }
 ],
 "metadata": {
  "ExecuteTimeLog": [
   {
    "duration": 1463,
    "start_time": "2022-06-09T08:22:37.865Z"
   },
   {
    "duration": 795,
    "start_time": "2022-06-09T08:22:39.330Z"
   },
   {
    "duration": 19,
    "start_time": "2022-06-09T08:22:40.127Z"
   },
   {
    "duration": 15,
    "start_time": "2022-06-09T08:22:40.149Z"
   },
   {
    "duration": 48,
    "start_time": "2022-06-09T08:22:40.165Z"
   },
   {
    "duration": 17,
    "start_time": "2022-06-09T08:22:40.215Z"
   },
   {
    "duration": 44,
    "start_time": "2022-06-09T08:22:40.234Z"
   },
   {
    "duration": 40,
    "start_time": "2022-06-09T08:22:40.280Z"
   },
   {
    "duration": 731,
    "start_time": "2022-06-09T08:22:40.321Z"
   },
   {
    "duration": 16,
    "start_time": "2022-06-09T08:22:41.056Z"
   },
   {
    "duration": 9,
    "start_time": "2022-06-09T08:22:41.074Z"
   },
   {
    "duration": 11,
    "start_time": "2022-06-09T08:22:41.085Z"
   },
   {
    "duration": 45,
    "start_time": "2022-06-09T08:22:41.097Z"
   },
   {
    "duration": 5,
    "start_time": "2022-06-09T08:22:41.144Z"
   },
   {
    "duration": 2849,
    "start_time": "2022-06-09T08:22:41.151Z"
   },
   {
    "duration": 197,
    "start_time": "2022-06-09T08:22:44.002Z"
   },
   {
    "duration": 18,
    "start_time": "2022-06-09T08:22:44.201Z"
   },
   {
    "duration": 19,
    "start_time": "2022-06-09T08:22:44.221Z"
   },
   {
    "duration": 46,
    "start_time": "2022-06-09T08:22:44.264Z"
   },
   {
    "duration": 23,
    "start_time": "2022-06-09T08:22:44.313Z"
   },
   {
    "duration": 57,
    "start_time": "2022-06-09T08:22:44.338Z"
   },
   {
    "duration": 41,
    "start_time": "2022-06-09T08:22:44.397Z"
   },
   {
    "duration": 379,
    "start_time": "2022-06-09T08:22:44.439Z"
   },
   {
    "duration": 51,
    "start_time": "2022-06-09T08:22:44.820Z"
   },
   {
    "duration": 3036,
    "start_time": "2022-06-09T08:22:44.873Z"
   },
   {
    "duration": 181,
    "start_time": "2022-06-09T08:22:47.910Z"
   },
   {
    "duration": 15,
    "start_time": "2022-06-09T08:22:48.092Z"
   },
   {
    "duration": 6,
    "start_time": "2022-06-09T08:22:48.111Z"
   },
   {
    "duration": 20,
    "start_time": "2022-06-09T08:22:48.119Z"
   },
   {
    "duration": 68,
    "start_time": "2022-06-09T08:22:48.141Z"
   },
   {
    "duration": 18,
    "start_time": "2022-06-09T08:22:48.211Z"
   },
   {
    "duration": 47,
    "start_time": "2022-06-09T08:22:48.231Z"
   },
   {
    "duration": 39,
    "start_time": "2022-06-09T08:22:48.280Z"
   },
   {
    "duration": 350,
    "start_time": "2022-06-09T08:22:48.321Z"
   },
   {
    "duration": 3670,
    "start_time": "2022-06-09T08:22:48.673Z"
   },
   {
    "duration": 3554,
    "start_time": "2022-06-09T08:22:52.345Z"
   },
   {
    "duration": 3186,
    "start_time": "2022-06-09T08:22:55.900Z"
   },
   {
    "duration": 176,
    "start_time": "2022-06-09T08:22:59.088Z"
   },
   {
    "duration": 14,
    "start_time": "2022-06-09T08:22:59.266Z"
   },
   {
    "duration": 487,
    "start_time": "2022-06-09T08:22:59.282Z"
   },
   {
    "duration": 93,
    "start_time": "2022-06-09T08:22:59.772Z"
   },
   {
    "duration": 102,
    "start_time": "2022-06-09T08:22:59.867Z"
   },
   {
    "duration": 8,
    "start_time": "2022-06-09T08:22:59.972Z"
   },
   {
    "duration": 23,
    "start_time": "2022-06-09T08:22:59.982Z"
   },
   {
    "duration": 5,
    "start_time": "2022-06-09T08:23:00.007Z"
   },
   {
    "duration": 2944,
    "start_time": "2022-06-09T08:23:00.015Z"
   },
   {
    "duration": 1262,
    "start_time": "2022-06-09T08:39:09.707Z"
   },
   {
    "duration": 399,
    "start_time": "2022-06-09T08:39:10.971Z"
   },
   {
    "duration": 20,
    "start_time": "2022-06-09T08:39:11.372Z"
   },
   {
    "duration": 22,
    "start_time": "2022-06-09T08:39:11.395Z"
   },
   {
    "duration": 58,
    "start_time": "2022-06-09T08:39:11.419Z"
   },
   {
    "duration": 18,
    "start_time": "2022-06-09T08:39:11.479Z"
   },
   {
    "duration": 43,
    "start_time": "2022-06-09T08:39:11.499Z"
   },
   {
    "duration": 49,
    "start_time": "2022-06-09T08:39:11.544Z"
   },
   {
    "duration": 552,
    "start_time": "2022-06-09T08:39:11.595Z"
   },
   {
    "duration": 17,
    "start_time": "2022-06-09T08:39:12.149Z"
   },
   {
    "duration": 7,
    "start_time": "2022-06-09T08:39:12.167Z"
   },
   {
    "duration": 18,
    "start_time": "2022-06-09T08:39:12.176Z"
   },
   {
    "duration": 48,
    "start_time": "2022-06-09T08:39:12.196Z"
   },
   {
    "duration": 18,
    "start_time": "2022-06-09T08:39:12.246Z"
   },
   {
    "duration": 2845,
    "start_time": "2022-06-09T08:39:12.266Z"
   },
   {
    "duration": 185,
    "start_time": "2022-06-09T08:39:15.113Z"
   },
   {
    "duration": 17,
    "start_time": "2022-06-09T08:39:15.299Z"
   },
   {
    "duration": 14,
    "start_time": "2022-06-09T08:39:15.318Z"
   },
   {
    "duration": 66,
    "start_time": "2022-06-09T08:39:15.334Z"
   },
   {
    "duration": 18,
    "start_time": "2022-06-09T08:39:15.402Z"
   },
   {
    "duration": 58,
    "start_time": "2022-06-09T08:39:15.421Z"
   },
   {
    "duration": 38,
    "start_time": "2022-06-09T08:39:15.481Z"
   },
   {
    "duration": 332,
    "start_time": "2022-06-09T08:39:15.520Z"
   },
   {
    "duration": 52,
    "start_time": "2022-06-09T08:39:15.853Z"
   },
   {
    "duration": 3005,
    "start_time": "2022-06-09T08:39:15.907Z"
   },
   {
    "duration": 227,
    "start_time": "2022-06-09T08:39:18.914Z"
   },
   {
    "duration": 26,
    "start_time": "2022-06-09T08:39:19.142Z"
   },
   {
    "duration": 3,
    "start_time": "2022-06-09T08:39:19.171Z"
   },
   {
    "duration": 20,
    "start_time": "2022-06-09T08:39:19.175Z"
   },
   {
    "duration": 45,
    "start_time": "2022-06-09T08:39:19.197Z"
   },
   {
    "duration": 37,
    "start_time": "2022-06-09T08:39:19.244Z"
   },
   {
    "duration": 47,
    "start_time": "2022-06-09T08:39:19.282Z"
   },
   {
    "duration": 35,
    "start_time": "2022-06-09T08:39:19.331Z"
   },
   {
    "duration": 317,
    "start_time": "2022-06-09T08:39:19.368Z"
   },
   {
    "duration": 3418,
    "start_time": "2022-06-09T08:39:19.687Z"
   },
   {
    "duration": 3890,
    "start_time": "2022-06-09T08:39:23.106Z"
   },
   {
    "duration": 3352,
    "start_time": "2022-06-09T08:39:26.997Z"
   },
   {
    "duration": 174,
    "start_time": "2022-06-09T08:39:30.351Z"
   },
   {
    "duration": 15,
    "start_time": "2022-06-09T08:39:30.527Z"
   },
   {
    "duration": 528,
    "start_time": "2022-06-09T08:39:30.544Z"
   },
   {
    "duration": 95,
    "start_time": "2022-06-09T08:39:31.075Z"
   },
   {
    "duration": 109,
    "start_time": "2022-06-09T08:39:31.172Z"
   },
   {
    "duration": 14,
    "start_time": "2022-06-09T08:39:31.282Z"
   },
   {
    "duration": 48,
    "start_time": "2022-06-09T08:39:31.297Z"
   },
   {
    "duration": 29,
    "start_time": "2022-06-09T08:39:31.347Z"
   },
   {
    "duration": 2878,
    "start_time": "2022-06-09T08:39:31.377Z"
   },
   {
    "duration": 1282,
    "start_time": "2022-06-09T08:39:50.335Z"
   },
   {
    "duration": 383,
    "start_time": "2022-06-09T08:39:51.619Z"
   },
   {
    "duration": 19,
    "start_time": "2022-06-09T08:39:52.004Z"
   },
   {
    "duration": 17,
    "start_time": "2022-06-09T08:39:52.025Z"
   },
   {
    "duration": 64,
    "start_time": "2022-06-09T08:39:52.044Z"
   },
   {
    "duration": 16,
    "start_time": "2022-06-09T08:39:52.110Z"
   },
   {
    "duration": 43,
    "start_time": "2022-06-09T08:39:52.128Z"
   },
   {
    "duration": 38,
    "start_time": "2022-06-09T08:39:52.172Z"
   },
   {
    "duration": 558,
    "start_time": "2022-06-09T08:39:52.211Z"
   },
   {
    "duration": 9,
    "start_time": "2022-06-09T08:39:52.771Z"
   },
   {
    "duration": 6,
    "start_time": "2022-06-09T08:39:52.782Z"
   },
   {
    "duration": 9,
    "start_time": "2022-06-09T08:39:52.789Z"
   },
   {
    "duration": 48,
    "start_time": "2022-06-09T08:39:52.799Z"
   },
   {
    "duration": 16,
    "start_time": "2022-06-09T08:39:52.849Z"
   },
   {
    "duration": 2881,
    "start_time": "2022-06-09T08:39:52.867Z"
   },
   {
    "duration": 175,
    "start_time": "2022-06-09T08:39:55.750Z"
   },
   {
    "duration": 16,
    "start_time": "2022-06-09T08:39:55.926Z"
   },
   {
    "duration": 29,
    "start_time": "2022-06-09T08:39:55.944Z"
   },
   {
    "duration": 43,
    "start_time": "2022-06-09T08:39:55.975Z"
   },
   {
    "duration": 17,
    "start_time": "2022-06-09T08:39:56.020Z"
   },
   {
    "duration": 53,
    "start_time": "2022-06-09T08:39:56.039Z"
   },
   {
    "duration": 39,
    "start_time": "2022-06-09T08:39:56.093Z"
   },
   {
    "duration": 340,
    "start_time": "2022-06-09T08:39:56.134Z"
   },
   {
    "duration": 45,
    "start_time": "2022-06-09T08:39:56.476Z"
   },
   {
    "duration": 3224,
    "start_time": "2022-06-09T08:39:56.523Z"
   },
   {
    "duration": 177,
    "start_time": "2022-06-09T08:39:59.750Z"
   },
   {
    "duration": 15,
    "start_time": "2022-06-09T08:39:59.928Z"
   },
   {
    "duration": 23,
    "start_time": "2022-06-09T08:39:59.946Z"
   },
   {
    "duration": 25,
    "start_time": "2022-06-09T08:39:59.971Z"
   },
   {
    "duration": 57,
    "start_time": "2022-06-09T08:39:59.997Z"
   },
   {
    "duration": 27,
    "start_time": "2022-06-09T08:40:00.055Z"
   },
   {
    "duration": 51,
    "start_time": "2022-06-09T08:40:00.084Z"
   },
   {
    "duration": 37,
    "start_time": "2022-06-09T08:40:00.138Z"
   },
   {
    "duration": 331,
    "start_time": "2022-06-09T08:40:00.177Z"
   },
   {
    "duration": 3869,
    "start_time": "2022-06-09T08:40:00.509Z"
   },
   {
    "duration": 3813,
    "start_time": "2022-06-09T08:40:04.379Z"
   },
   {
    "duration": 3449,
    "start_time": "2022-06-09T08:40:08.194Z"
   },
   {
    "duration": 181,
    "start_time": "2022-06-09T08:40:11.645Z"
   },
   {
    "duration": 15,
    "start_time": "2022-06-09T08:40:11.828Z"
   },
   {
    "duration": 532,
    "start_time": "2022-06-09T08:40:11.845Z"
   },
   {
    "duration": 4,
    "start_time": "2022-06-09T08:40:12.379Z"
   },
   {
    "duration": 92,
    "start_time": "2022-06-09T08:40:12.385Z"
   },
   {
    "duration": 96,
    "start_time": "2022-06-09T08:40:12.481Z"
   },
   {
    "duration": 21,
    "start_time": "2022-06-09T08:40:12.579Z"
   },
   {
    "duration": 5,
    "start_time": "2022-06-09T08:40:12.601Z"
   },
   {
    "duration": 2928,
    "start_time": "2022-06-09T08:40:12.608Z"
   },
   {
    "duration": 3,
    "start_time": "2022-06-09T08:57:42.078Z"
   },
   {
    "duration": 1129,
    "start_time": "2022-06-09T08:57:45.614Z"
   },
   {
    "duration": 857,
    "start_time": "2022-06-09T08:57:46.745Z"
   },
   {
    "duration": 24,
    "start_time": "2022-06-09T08:57:47.604Z"
   },
   {
    "duration": 16,
    "start_time": "2022-06-09T08:57:47.630Z"
   },
   {
    "duration": 48,
    "start_time": "2022-06-09T08:57:47.649Z"
   },
   {
    "duration": 30,
    "start_time": "2022-06-09T08:57:47.699Z"
   },
   {
    "duration": 38,
    "start_time": "2022-06-09T08:57:47.731Z"
   },
   {
    "duration": 56,
    "start_time": "2022-06-09T08:57:47.772Z"
   },
   {
    "duration": 722,
    "start_time": "2022-06-09T08:57:47.830Z"
   },
   {
    "duration": 10,
    "start_time": "2022-06-09T08:57:48.554Z"
   },
   {
    "duration": 5,
    "start_time": "2022-06-09T08:57:48.565Z"
   },
   {
    "duration": 5,
    "start_time": "2022-06-09T08:57:48.571Z"
   },
   {
    "duration": 54,
    "start_time": "2022-06-09T08:57:48.578Z"
   },
   {
    "duration": 5,
    "start_time": "2022-06-09T08:57:48.635Z"
   },
   {
    "duration": 2637,
    "start_time": "2022-06-09T08:57:48.641Z"
   },
   {
    "duration": 175,
    "start_time": "2022-06-09T08:57:51.279Z"
   },
   {
    "duration": 17,
    "start_time": "2022-06-09T08:57:51.456Z"
   },
   {
    "duration": 23,
    "start_time": "2022-06-09T08:57:51.475Z"
   },
   {
    "duration": 77,
    "start_time": "2022-06-09T08:57:51.500Z"
   },
   {
    "duration": 16,
    "start_time": "2022-06-09T08:57:51.578Z"
   },
   {
    "duration": 47,
    "start_time": "2022-06-09T08:57:51.596Z"
   },
   {
    "duration": 36,
    "start_time": "2022-06-09T08:57:51.644Z"
   },
   {
    "duration": 349,
    "start_time": "2022-06-09T08:57:51.681Z"
   },
   {
    "duration": 60,
    "start_time": "2022-06-09T08:57:52.032Z"
   },
   {
    "duration": 2702,
    "start_time": "2022-06-09T08:57:52.094Z"
   },
   {
    "duration": 179,
    "start_time": "2022-06-09T08:57:54.798Z"
   },
   {
    "duration": 14,
    "start_time": "2022-06-09T08:57:54.979Z"
   },
   {
    "duration": 3,
    "start_time": "2022-06-09T08:57:54.994Z"
   },
   {
    "duration": 35,
    "start_time": "2022-06-09T08:57:54.998Z"
   },
   {
    "duration": 44,
    "start_time": "2022-06-09T08:57:55.035Z"
   },
   {
    "duration": 17,
    "start_time": "2022-06-09T08:57:55.080Z"
   },
   {
    "duration": 45,
    "start_time": "2022-06-09T08:57:55.098Z"
   },
   {
    "duration": 36,
    "start_time": "2022-06-09T08:57:55.144Z"
   },
   {
    "duration": 324,
    "start_time": "2022-06-09T08:57:55.181Z"
   },
   {
    "duration": 3696,
    "start_time": "2022-06-09T08:57:55.507Z"
   },
   {
    "duration": 3828,
    "start_time": "2022-06-09T08:57:59.205Z"
   },
   {
    "duration": 3319,
    "start_time": "2022-06-09T08:58:03.035Z"
   },
   {
    "duration": 252,
    "start_time": "2022-06-09T08:58:06.356Z"
   },
   {
    "duration": 29,
    "start_time": "2022-06-09T08:58:06.610Z"
   },
   {
    "duration": 500,
    "start_time": "2022-06-09T08:58:06.641Z"
   },
   {
    "duration": 84,
    "start_time": "2022-06-09T08:58:07.148Z"
   },
   {
    "duration": 98,
    "start_time": "2022-06-09T08:58:07.238Z"
   },
   {
    "duration": 5,
    "start_time": "2022-06-09T08:58:07.338Z"
   },
   {
    "duration": 18,
    "start_time": "2022-06-09T08:58:07.344Z"
   },
   {
    "duration": 4,
    "start_time": "2022-06-09T08:58:07.364Z"
   },
   {
    "duration": 2757,
    "start_time": "2022-06-09T08:58:07.370Z"
   },
   {
    "duration": 4,
    "start_time": "2022-06-09T09:21:02.518Z"
   },
   {
    "duration": 15,
    "start_time": "2022-06-09T09:21:13.208Z"
   },
   {
    "duration": 4,
    "start_time": "2022-06-09T09:21:19.854Z"
   },
   {
    "duration": 2662,
    "start_time": "2022-06-09T09:21:23.119Z"
   },
   {
    "duration": 1073,
    "start_time": "2022-06-09T09:25:11.685Z"
   },
   {
    "duration": 386,
    "start_time": "2022-06-09T09:25:12.761Z"
   },
   {
    "duration": 19,
    "start_time": "2022-06-09T09:25:13.149Z"
   },
   {
    "duration": 19,
    "start_time": "2022-06-09T09:25:13.170Z"
   },
   {
    "duration": 57,
    "start_time": "2022-06-09T09:25:13.191Z"
   },
   {
    "duration": 20,
    "start_time": "2022-06-09T09:25:13.253Z"
   },
   {
    "duration": 32,
    "start_time": "2022-06-09T09:25:13.275Z"
   },
   {
    "duration": 50,
    "start_time": "2022-06-09T09:25:13.308Z"
   },
   {
    "duration": 632,
    "start_time": "2022-06-09T09:25:13.360Z"
   },
   {
    "duration": 10,
    "start_time": "2022-06-09T09:25:13.994Z"
   },
   {
    "duration": 3,
    "start_time": "2022-06-09T09:25:14.006Z"
   },
   {
    "duration": 3,
    "start_time": "2022-06-09T09:25:14.027Z"
   },
   {
    "duration": 45,
    "start_time": "2022-06-09T09:25:14.032Z"
   },
   {
    "duration": 4,
    "start_time": "2022-06-09T09:25:14.080Z"
   },
   {
    "duration": 2740,
    "start_time": "2022-06-09T09:25:14.086Z"
   },
   {
    "duration": 200,
    "start_time": "2022-06-09T09:25:16.827Z"
   },
   {
    "duration": 17,
    "start_time": "2022-06-09T09:25:17.029Z"
   },
   {
    "duration": 14,
    "start_time": "2022-06-09T09:25:17.048Z"
   },
   {
    "duration": 64,
    "start_time": "2022-06-09T09:25:17.064Z"
   },
   {
    "duration": 17,
    "start_time": "2022-06-09T09:25:17.130Z"
   },
   {
    "duration": 36,
    "start_time": "2022-06-09T09:25:17.149Z"
   },
   {
    "duration": 55,
    "start_time": "2022-06-09T09:25:17.187Z"
   },
   {
    "duration": 353,
    "start_time": "2022-06-09T09:25:17.244Z"
   },
   {
    "duration": 50,
    "start_time": "2022-06-09T09:25:17.599Z"
   },
   {
    "duration": 2731,
    "start_time": "2022-06-09T09:25:17.651Z"
   },
   {
    "duration": 186,
    "start_time": "2022-06-09T09:25:20.384Z"
   },
   {
    "duration": 15,
    "start_time": "2022-06-09T09:25:20.572Z"
   },
   {
    "duration": 3,
    "start_time": "2022-06-09T09:25:20.588Z"
   },
   {
    "duration": 35,
    "start_time": "2022-06-09T09:25:20.593Z"
   },
   {
    "duration": 43,
    "start_time": "2022-06-09T09:25:20.629Z"
   },
   {
    "duration": 18,
    "start_time": "2022-06-09T09:25:20.674Z"
   },
   {
    "duration": 46,
    "start_time": "2022-06-09T09:25:20.694Z"
   },
   {
    "duration": 35,
    "start_time": "2022-06-09T09:25:20.742Z"
   },
   {
    "duration": 368,
    "start_time": "2022-06-09T09:25:20.779Z"
   },
   {
    "duration": 3948,
    "start_time": "2022-06-09T09:25:21.149Z"
   },
   {
    "duration": 3774,
    "start_time": "2022-06-09T09:25:25.099Z"
   },
   {
    "duration": 2994,
    "start_time": "2022-06-09T09:25:28.875Z"
   },
   {
    "duration": 197,
    "start_time": "2022-06-09T09:25:31.871Z"
   },
   {
    "duration": 15,
    "start_time": "2022-06-09T09:25:32.070Z"
   },
   {
    "duration": 457,
    "start_time": "2022-06-09T09:25:32.086Z"
   },
   {
    "duration": 81,
    "start_time": "2022-06-09T09:25:32.549Z"
   },
   {
    "duration": 104,
    "start_time": "2022-06-09T09:25:32.632Z"
   },
   {
    "duration": 5,
    "start_time": "2022-06-09T09:25:32.738Z"
   },
   {
    "duration": 16,
    "start_time": "2022-06-09T09:25:32.745Z"
   },
   {
    "duration": 5,
    "start_time": "2022-06-09T09:25:32.763Z"
   },
   {
    "duration": 2756,
    "start_time": "2022-06-09T09:25:32.770Z"
   }
  ],
  "kernelspec": {
   "display_name": "Python 3 (ipykernel)",
   "language": "python",
   "name": "python3"
  },
  "language_info": {
   "codemirror_mode": {
    "name": "ipython",
    "version": 3
   },
   "file_extension": ".py",
   "mimetype": "text/x-python",
   "name": "python",
   "nbconvert_exporter": "python",
   "pygments_lexer": "ipython3",
   "version": "3.9.7"
  },
  "toc": {
   "base_numbering": 1,
   "nav_menu": {
    "height": "136px",
    "width": "281px"
   },
   "number_sections": true,
   "sideBar": true,
   "skip_h1_title": true,
   "title_cell": "Table of Contents",
   "title_sidebar": "Contents",
   "toc_cell": false,
   "toc_position": {
    "height": "calc(100% - 180px)",
    "left": "10px",
    "top": "150px",
    "width": "221px"
   },
   "toc_section_display": true,
   "toc_window_display": true
  }
 },
 "nbformat": 4,
 "nbformat_minor": 2
}
