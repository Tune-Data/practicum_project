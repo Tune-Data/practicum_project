{
 "cells": [
  {
   "cell_type": "markdown",
   "metadata": {
    "toc": true
   },
   "source": [
    "<h1>Содержание:<span class=\"tocSkip\"></span></h1>\n",
    "<div class=\"toc\"><ul class=\"toc-item\"><li><span><a href=\"#Обзор-данных\" data-toc-modified-id=\"Обзор-данных-1\"><span class=\"toc-item-num\">1&nbsp;&nbsp;</span>Обзор данных</a></span><ul class=\"toc-item\"><li><span><a href=\"#Вывод\" data-toc-modified-id=\"Вывод-1.1\"><span class=\"toc-item-num\">1.1&nbsp;&nbsp;</span>Вывод</a></span></li></ul></li><li><span><a href=\"#Предобработка-данных\" data-toc-modified-id=\"Предобработка-данных-2\"><span class=\"toc-item-num\">2&nbsp;&nbsp;</span>Предобработка данных</a></span><ul class=\"toc-item\"><li><span><a href=\"#Вывод\" data-toc-modified-id=\"Вывод-2.1\"><span class=\"toc-item-num\">2.1&nbsp;&nbsp;</span>Вывод</a></span></li></ul></li><li><span><a href=\"#Исследовательский-анализ-данных\" data-toc-modified-id=\"Исследовательский-анализ-данных-3\"><span class=\"toc-item-num\">3&nbsp;&nbsp;</span>Исследовательский анализ данных</a></span><ul class=\"toc-item\"><li><span><a href=\"#Определение-потенциально-прибыльной-платформы\" data-toc-modified-id=\"Определение-потенциально-прибыльной-платформы-3.1\"><span class=\"toc-item-num\">3.1&nbsp;&nbsp;</span>Определение потенциально прибыльной платформы</a></span></li><li><span><a href=\"#Объёмы-продаж\" data-toc-modified-id=\"Объёмы-продаж-3.2\"><span class=\"toc-item-num\">3.2&nbsp;&nbsp;</span>Объёмы продаж</a></span></li><li><span><a href=\"#Влияние-отзывов-на-продажи\" data-toc-modified-id=\"Влияние-отзывов-на-продажи-3.3\"><span class=\"toc-item-num\">3.3&nbsp;&nbsp;</span>Влияние отзывов на продажи</a></span></li><li><span><a href=\"#Актуальность-жанров\" data-toc-modified-id=\"Актуальность-жанров-3.4\"><span class=\"toc-item-num\">3.4&nbsp;&nbsp;</span>Актуальность жанров</a></span></li><li><span><a href=\"#Вывод\" data-toc-modified-id=\"Вывод-3.5\"><span class=\"toc-item-num\">3.5&nbsp;&nbsp;</span>Вывод</a></span></li></ul></li><li><span><a href=\"#Портрет-пользователя-каждого-региона\" data-toc-modified-id=\"Портрет-пользователя-каждого-региона-4\"><span class=\"toc-item-num\">4&nbsp;&nbsp;</span>Портрет пользователя каждого региона</a></span><ul class=\"toc-item\"><li><span><a href=\"#Вывод\" data-toc-modified-id=\"Вывод-4.1\"><span class=\"toc-item-num\">4.1&nbsp;&nbsp;</span>Вывод</a></span></li></ul></li><li><span><a href=\"#Проверка-гипотез\" data-toc-modified-id=\"Проверка-гипотез-5\"><span class=\"toc-item-num\">5&nbsp;&nbsp;</span>Проверка гипотез</a></span></li><li><span><a href=\"#Вывод\" data-toc-modified-id=\"Вывод-6\"><span class=\"toc-item-num\">6&nbsp;&nbsp;</span>Вывод</a></span></li></ul></div>"
   ]
  },
  {
   "cell_type": "markdown",
   "metadata": {},
   "source": [
    "# Исследование закономерностей определяющие успешность игры"
   ]
  },
  {
   "cell_type": "markdown",
   "metadata": {},
   "source": [
    "***Цель проекта:***\n",
    "\n",
    "Выявить определяющие успешность игры закономерности и для планирования рекламной кампании.\n",
    "\n",
    "***Ход выполнения проекта:***\n",
    "\n",
    "В проекте рассматриваются исторические данные о продажах игр, оценки пользователей и экспертов, жанры и платформы. Данные, полученные из открытых источников. Нужно выявить определяющие успешность игры закономерности для определения потенциально популярного продукта и спланировать рекламные кампании. Всё начинается с обзора и, если нужно, предобработки данных. Как правило на этапе предобработки основное внимание уделяется заполнению пропусков. Дальше начинают исследовательский анализ данных. Определяются актуальные платформы, целевые жанры и влияние рейтингов. Дальше нужно составить портрет пользователя по регионам основываясь на уже имеющихся выводах по общим данным. В завершении провидится статистический анализ для проверки гипотез и делается финальный вывод, даются рекомендации для проведения рекламной кампании."
   ]
  },
  {
   "cell_type": "markdown",
   "metadata": {},
   "source": [
    "## Обзор данных"
   ]
  },
  {
   "cell_type": "code",
   "execution_count": 1,
   "metadata": {},
   "outputs": [],
   "source": [
    "# Здесь будем импортировать библиотеки\n",
    "import pandas as pd\n",
    "import numpy as np\n",
    "import matplotlib.pyplot as plt\n",
    "from scipy import stats as st"
   ]
  },
  {
   "cell_type": "code",
   "execution_count": 1,
   "metadata": {},
   "outputs": [
    {
     "ename": "NameError",
     "evalue": "name 'pd' is not defined",
     "output_type": "error",
     "traceback": [
      "\u001b[0;31m---------------------------------------------------------------------------\u001b[0m",
      "\u001b[0;31mNameError\u001b[0m                                 Traceback (most recent call last)",
      "\u001b[0;32m/var/folders/sp/417svylx2nv45jpm2_tkxq800000gn/T/ipykernel_20431/1760143983.py\u001b[0m in \u001b[0;36m<module>\u001b[0;34m\u001b[0m\n\u001b[1;32m      1\u001b[0m \u001b[0;32mtry\u001b[0m\u001b[0;34m:\u001b[0m\u001b[0;34m\u001b[0m\u001b[0;34m\u001b[0m\u001b[0m\n\u001b[0;32m----> 2\u001b[0;31m     \u001b[0mdf\u001b[0m \u001b[0;34m=\u001b[0m \u001b[0mpd\u001b[0m\u001b[0;34m.\u001b[0m\u001b[0mread_csv\u001b[0m\u001b[0;34m(\u001b[0m\u001b[0;34m'games.csv'\u001b[0m\u001b[0;34m)\u001b[0m\u001b[0;34m\u001b[0m\u001b[0;34m\u001b[0m\u001b[0m\n\u001b[0m\u001b[1;32m      3\u001b[0m \u001b[0;32mexcept\u001b[0m \u001b[0mException\u001b[0m\u001b[0;34m:\u001b[0m\u001b[0;34m\u001b[0m\u001b[0;34m\u001b[0m\u001b[0m\n",
      "\u001b[0;31mNameError\u001b[0m: name 'pd' is not defined",
      "\nDuring handling of the above exception, another exception occurred:\n",
      "\u001b[0;31mNameError\u001b[0m                                 Traceback (most recent call last)",
      "\u001b[0;32m/var/folders/sp/417svylx2nv45jpm2_tkxq800000gn/T/ipykernel_20431/1760143983.py\u001b[0m in \u001b[0;36m<module>\u001b[0;34m\u001b[0m\n\u001b[1;32m      2\u001b[0m     \u001b[0mdf\u001b[0m \u001b[0;34m=\u001b[0m \u001b[0mpd\u001b[0m\u001b[0;34m.\u001b[0m\u001b[0mread_csv\u001b[0m\u001b[0;34m(\u001b[0m\u001b[0;34m'games.csv'\u001b[0m\u001b[0;34m)\u001b[0m\u001b[0;34m\u001b[0m\u001b[0;34m\u001b[0m\u001b[0m\n\u001b[1;32m      3\u001b[0m \u001b[0;32mexcept\u001b[0m \u001b[0mException\u001b[0m\u001b[0;34m:\u001b[0m\u001b[0;34m\u001b[0m\u001b[0;34m\u001b[0m\u001b[0m\n\u001b[0;32m----> 4\u001b[0;31m     \u001b[0mdf\u001b[0m \u001b[0;34m=\u001b[0m \u001b[0mpd\u001b[0m\u001b[0;34m.\u001b[0m\u001b[0mread_csv\u001b[0m\u001b[0;34m(\u001b[0m\u001b[0;34m'/datasets/games.csv'\u001b[0m\u001b[0;34m)\u001b[0m\u001b[0;34m\u001b[0m\u001b[0;34m\u001b[0m\u001b[0m\n\u001b[0m\u001b[1;32m      5\u001b[0m \u001b[0mdf\u001b[0m\u001b[0;34m\u001b[0m\u001b[0;34m\u001b[0m\u001b[0m\n",
      "\u001b[0;31mNameError\u001b[0m: name 'pd' is not defined"
     ]
    }
   ],
   "source": [
    "try:\n",
    "    df = pd.read_csv('games.csv')\n",
    "except Exception:\n",
    "    df = pd.read_csv('/datasets/games.csv')\n",
    "df"
   ]
  },
  {
   "cell_type": "markdown",
   "metadata": {},
   "source": [
    "***Описание данных***\n",
    "* Name — название игры\n",
    "* Platform — платформа\n",
    "* Year_of_Release — год выпуска\n",
    "* Genre — жанр игры\n",
    "* NA_sales — продажи в Северной Америке (миллионы проданных копий)\n",
    "* EU_sales — продажи в Европе (миллионы проданных копий)\n",
    "* JP_sales — продажи в Японии (миллионы проданных копий)\n",
    "* Other_sales — продажи в других странах (миллионы проданных копий)\n",
    "* Critic_Score — оценка критиков (максимум 100)\n",
    "* User_Score — оценка пользователей (максимум 10)\n",
    "* Rating — рейтинг от организации ESRB (англ. Entertainment Software Rating Board). Эта ассоциация определяет рейтинг компьютерных игр и присваивает им подходящую возрастную категорию.\n"
   ]
  },
  {
   "cell_type": "markdown",
   "metadata": {},
   "source": [
    "Давайте подробно разбираться с тем что у нас есть. Первое что бросается в глаза - заглавные буквы в названии колонок. Мы работаем с питоном, а потому приверженцы snake_case. Так же видим пропуски значений в колонках. Посмотрим сколько их:"
   ]
  },
  {
   "cell_type": "code",
   "execution_count": 3,
   "metadata": {
    "scrolled": false
   },
   "outputs": [
    {
     "name": "stdout",
     "output_type": "stream",
     "text": [
      "<class 'pandas.core.frame.DataFrame'>\n",
      "RangeIndex: 16715 entries, 0 to 16714\n",
      "Data columns (total 11 columns):\n",
      " #   Column           Non-Null Count  Dtype  \n",
      "---  ------           --------------  -----  \n",
      " 0   Name             16713 non-null  object \n",
      " 1   Platform         16715 non-null  object \n",
      " 2   Year_of_Release  16446 non-null  float64\n",
      " 3   Genre            16713 non-null  object \n",
      " 4   NA_sales         16715 non-null  float64\n",
      " 5   EU_sales         16715 non-null  float64\n",
      " 6   JP_sales         16715 non-null  float64\n",
      " 7   Other_sales      16715 non-null  float64\n",
      " 8   Critic_Score     8137 non-null   float64\n",
      " 9   User_Score       10014 non-null  object \n",
      " 10  Rating           9949 non-null   object \n",
      "dtypes: float64(6), object(5)\n",
      "memory usage: 1.4+ MB\n"
     ]
    }
   ],
   "source": [
    "df.info()"
   ]
  },
  {
   "cell_type": "code",
   "execution_count": 4,
   "metadata": {},
   "outputs": [
    {
     "data": {
      "text/plain": [
       "Name                0.011965\n",
       "Platform            0.000000\n",
       "Year_of_Release     1.609333\n",
       "Genre               0.011965\n",
       "NA_sales            0.000000\n",
       "EU_sales            0.000000\n",
       "JP_sales            0.000000\n",
       "Other_sales         0.000000\n",
       "Critic_Score       51.319174\n",
       "User_Score         40.089740\n",
       "Rating             40.478612\n",
       "dtype: float64"
      ]
     },
     "execution_count": 4,
     "metadata": {},
     "output_type": "execute_result"
    }
   ],
   "source": [
    "df.isna().sum()/len(df)*100"
   ]
  },
  {
   "cell_type": "markdown",
   "metadata": {},
   "source": [
    "5 из 10 столбцов с пропусками. Сразу смотрим типы данных и обращаем внимание что дата релиза сохранена как чисто с плавающей точкой. Оценка пользователей, согласно описанию, численное значение (в идеале целочисленное) в таблице как текстовое. Позже посмотрим список уникальных значений и найдём причины. Сейчас смотрим на разброс данных."
   ]
  },
  {
   "cell_type": "code",
   "execution_count": 5,
   "metadata": {},
   "outputs": [
    {
     "data": {
      "text/html": [
       "<div>\n",
       "<style scoped>\n",
       "    .dataframe tbody tr th:only-of-type {\n",
       "        vertical-align: middle;\n",
       "    }\n",
       "\n",
       "    .dataframe tbody tr th {\n",
       "        vertical-align: top;\n",
       "    }\n",
       "\n",
       "    .dataframe thead th {\n",
       "        text-align: right;\n",
       "    }\n",
       "</style>\n",
       "<table border=\"1\" class=\"dataframe\">\n",
       "  <thead>\n",
       "    <tr style=\"text-align: right;\">\n",
       "      <th></th>\n",
       "      <th>Year_of_Release</th>\n",
       "      <th>NA_sales</th>\n",
       "      <th>EU_sales</th>\n",
       "      <th>JP_sales</th>\n",
       "      <th>Other_sales</th>\n",
       "      <th>Critic_Score</th>\n",
       "    </tr>\n",
       "  </thead>\n",
       "  <tbody>\n",
       "    <tr>\n",
       "      <th>count</th>\n",
       "      <td>16446.000000</td>\n",
       "      <td>16715.000000</td>\n",
       "      <td>16715.000000</td>\n",
       "      <td>16715.000000</td>\n",
       "      <td>16715.000000</td>\n",
       "      <td>8137.000000</td>\n",
       "    </tr>\n",
       "    <tr>\n",
       "      <th>mean</th>\n",
       "      <td>2006.484616</td>\n",
       "      <td>0.263377</td>\n",
       "      <td>0.145060</td>\n",
       "      <td>0.077617</td>\n",
       "      <td>0.047342</td>\n",
       "      <td>68.967679</td>\n",
       "    </tr>\n",
       "    <tr>\n",
       "      <th>std</th>\n",
       "      <td>5.877050</td>\n",
       "      <td>0.813604</td>\n",
       "      <td>0.503339</td>\n",
       "      <td>0.308853</td>\n",
       "      <td>0.186731</td>\n",
       "      <td>13.938165</td>\n",
       "    </tr>\n",
       "    <tr>\n",
       "      <th>min</th>\n",
       "      <td>1980.000000</td>\n",
       "      <td>0.000000</td>\n",
       "      <td>0.000000</td>\n",
       "      <td>0.000000</td>\n",
       "      <td>0.000000</td>\n",
       "      <td>13.000000</td>\n",
       "    </tr>\n",
       "    <tr>\n",
       "      <th>25%</th>\n",
       "      <td>2003.000000</td>\n",
       "      <td>0.000000</td>\n",
       "      <td>0.000000</td>\n",
       "      <td>0.000000</td>\n",
       "      <td>0.000000</td>\n",
       "      <td>60.000000</td>\n",
       "    </tr>\n",
       "    <tr>\n",
       "      <th>50%</th>\n",
       "      <td>2007.000000</td>\n",
       "      <td>0.080000</td>\n",
       "      <td>0.020000</td>\n",
       "      <td>0.000000</td>\n",
       "      <td>0.010000</td>\n",
       "      <td>71.000000</td>\n",
       "    </tr>\n",
       "    <tr>\n",
       "      <th>75%</th>\n",
       "      <td>2010.000000</td>\n",
       "      <td>0.240000</td>\n",
       "      <td>0.110000</td>\n",
       "      <td>0.040000</td>\n",
       "      <td>0.030000</td>\n",
       "      <td>79.000000</td>\n",
       "    </tr>\n",
       "    <tr>\n",
       "      <th>max</th>\n",
       "      <td>2016.000000</td>\n",
       "      <td>41.360000</td>\n",
       "      <td>28.960000</td>\n",
       "      <td>10.220000</td>\n",
       "      <td>10.570000</td>\n",
       "      <td>98.000000</td>\n",
       "    </tr>\n",
       "  </tbody>\n",
       "</table>\n",
       "</div>"
      ],
      "text/plain": [
       "       Year_of_Release      NA_sales      EU_sales      JP_sales  \\\n",
       "count     16446.000000  16715.000000  16715.000000  16715.000000   \n",
       "mean       2006.484616      0.263377      0.145060      0.077617   \n",
       "std           5.877050      0.813604      0.503339      0.308853   \n",
       "min        1980.000000      0.000000      0.000000      0.000000   \n",
       "25%        2003.000000      0.000000      0.000000      0.000000   \n",
       "50%        2007.000000      0.080000      0.020000      0.000000   \n",
       "75%        2010.000000      0.240000      0.110000      0.040000   \n",
       "max        2016.000000     41.360000     28.960000     10.220000   \n",
       "\n",
       "        Other_sales  Critic_Score  \n",
       "count  16715.000000   8137.000000  \n",
       "mean       0.047342     68.967679  \n",
       "std        0.186731     13.938165  \n",
       "min        0.000000     13.000000  \n",
       "25%        0.000000     60.000000  \n",
       "50%        0.010000     71.000000  \n",
       "75%        0.030000     79.000000  \n",
       "max       10.570000     98.000000  "
      ]
     },
     "execution_count": 5,
     "metadata": {},
     "output_type": "execute_result"
    }
   ],
   "source": [
    "df.describe()"
   ]
  },
  {
   "cell_type": "markdown",
   "metadata": {},
   "source": [
    "В столбцах с продажами по странам сильное отклонение среднего от медианы, что также видно по стандартному отклонению. Сильно выделяющиеся максимальные значения."
   ]
  },
  {
   "cell_type": "markdown",
   "metadata": {},
   "source": [
    "### Вывод"
   ]
  },
  {
   "cell_type": "markdown",
   "metadata": {},
   "source": [
    "В результате обзора данных поставим следующие задачи для предобработки:\n",
    "1. Замените названия столбцов;\n",
    "2. Обработать пропуски;\n",
    "3. Преобразовать данные в нужные типы."
   ]
  },
  {
   "cell_type": "markdown",
   "metadata": {},
   "source": [
    "## Предобработка данных"
   ]
  },
  {
   "cell_type": "markdown",
   "metadata": {},
   "source": [
    "Рассмотрев данные мы выявили ряд недочётов. Обработаем данные по намеченным пунктам. Начнём с приведения имен столбцов к нижнему регистру."
   ]
  },
  {
   "cell_type": "code",
   "execution_count": 6,
   "metadata": {},
   "outputs": [
    {
     "data": {
      "text/plain": [
       "Index(['Name', 'Platform', 'Year_of_Release', 'Genre', 'NA_sales', 'EU_sales',\n",
       "       'JP_sales', 'Other_sales', 'Critic_Score', 'User_Score', 'Rating'],\n",
       "      dtype='object')"
      ]
     },
     "execution_count": 6,
     "metadata": {},
     "output_type": "execute_result"
    }
   ],
   "source": [
    "df.columns"
   ]
  },
  {
   "cell_type": "code",
   "execution_count": 7,
   "metadata": {},
   "outputs": [],
   "source": [
    "df.columns = df.columns.str.lower()"
   ]
  },
  {
   "cell_type": "code",
   "execution_count": 8,
   "metadata": {},
   "outputs": [
    {
     "data": {
      "text/plain": [
       "Index(['name', 'platform', 'year_of_release', 'genre', 'na_sales', 'eu_sales',\n",
       "       'jp_sales', 'other_sales', 'critic_score', 'user_score', 'rating'],\n",
       "      dtype='object')"
      ]
     },
     "execution_count": 8,
     "metadata": {},
     "output_type": "execute_result"
    }
   ],
   "source": [
    "df.columns"
   ]
  },
  {
   "cell_type": "markdown",
   "metadata": {},
   "source": [
    "Ислледуем таблицу на наличие явных дубликатов."
   ]
  },
  {
   "cell_type": "code",
   "execution_count": 9,
   "metadata": {
    "scrolled": true
   },
   "outputs": [
    {
     "data": {
      "text/plain": [
       "0"
      ]
     },
     "execution_count": 9,
     "metadata": {},
     "output_type": "execute_result"
    }
   ],
   "source": [
    "df.duplicated().sum()"
   ]
  },
  {
   "cell_type": "markdown",
   "metadata": {},
   "source": [
    "Перед изменением типов данных обработаем пропуски. Пойдём по колонкам по порядку."
   ]
  },
  {
   "cell_type": "code",
   "execution_count": 10,
   "metadata": {},
   "outputs": [
    {
     "data": {
      "text/html": [
       "<div>\n",
       "<style scoped>\n",
       "    .dataframe tbody tr th:only-of-type {\n",
       "        vertical-align: middle;\n",
       "    }\n",
       "\n",
       "    .dataframe tbody tr th {\n",
       "        vertical-align: top;\n",
       "    }\n",
       "\n",
       "    .dataframe thead th {\n",
       "        text-align: right;\n",
       "    }\n",
       "</style>\n",
       "<table border=\"1\" class=\"dataframe\">\n",
       "  <thead>\n",
       "    <tr style=\"text-align: right;\">\n",
       "      <th></th>\n",
       "      <th>name</th>\n",
       "      <th>platform</th>\n",
       "      <th>year_of_release</th>\n",
       "      <th>genre</th>\n",
       "      <th>na_sales</th>\n",
       "      <th>eu_sales</th>\n",
       "      <th>jp_sales</th>\n",
       "      <th>other_sales</th>\n",
       "      <th>critic_score</th>\n",
       "      <th>user_score</th>\n",
       "      <th>rating</th>\n",
       "    </tr>\n",
       "  </thead>\n",
       "  <tbody>\n",
       "    <tr>\n",
       "      <th>659</th>\n",
       "      <td>NaN</td>\n",
       "      <td>GEN</td>\n",
       "      <td>1993.0</td>\n",
       "      <td>NaN</td>\n",
       "      <td>1.78</td>\n",
       "      <td>0.53</td>\n",
       "      <td>0.00</td>\n",
       "      <td>0.08</td>\n",
       "      <td>NaN</td>\n",
       "      <td>NaN</td>\n",
       "      <td>NaN</td>\n",
       "    </tr>\n",
       "    <tr>\n",
       "      <th>14244</th>\n",
       "      <td>NaN</td>\n",
       "      <td>GEN</td>\n",
       "      <td>1993.0</td>\n",
       "      <td>NaN</td>\n",
       "      <td>0.00</td>\n",
       "      <td>0.00</td>\n",
       "      <td>0.03</td>\n",
       "      <td>0.00</td>\n",
       "      <td>NaN</td>\n",
       "      <td>NaN</td>\n",
       "      <td>NaN</td>\n",
       "    </tr>\n",
       "  </tbody>\n",
       "</table>\n",
       "</div>"
      ],
      "text/plain": [
       "      name platform  year_of_release genre  na_sales  eu_sales  jp_sales  \\\n",
       "659    NaN      GEN           1993.0   NaN      1.78      0.53      0.00   \n",
       "14244  NaN      GEN           1993.0   NaN      0.00      0.00      0.03   \n",
       "\n",
       "       other_sales  critic_score user_score rating  \n",
       "659           0.08           NaN        NaN    NaN  \n",
       "14244         0.00           NaN        NaN    NaN  "
      ]
     },
     "execution_count": 10,
     "metadata": {},
     "output_type": "execute_result"
    }
   ],
   "source": [
    "df[df['name'].isna()]"
   ]
  },
  {
   "cell_type": "markdown",
   "metadata": {},
   "source": [
    "Две игры 1993 года без названия, эти данные нам не восстановить. Удаляем."
   ]
  },
  {
   "cell_type": "code",
   "execution_count": 11,
   "metadata": {},
   "outputs": [],
   "source": [
    "df = df.dropna(subset=['name']).reset_index(drop=True)"
   ]
  },
  {
   "cell_type": "code",
   "execution_count": 12,
   "metadata": {},
   "outputs": [
    {
     "data": {
      "text/html": [
       "<div>\n",
       "<style scoped>\n",
       "    .dataframe tbody tr th:only-of-type {\n",
       "        vertical-align: middle;\n",
       "    }\n",
       "\n",
       "    .dataframe tbody tr th {\n",
       "        vertical-align: top;\n",
       "    }\n",
       "\n",
       "    .dataframe thead th {\n",
       "        text-align: right;\n",
       "    }\n",
       "</style>\n",
       "<table border=\"1\" class=\"dataframe\">\n",
       "  <thead>\n",
       "    <tr style=\"text-align: right;\">\n",
       "      <th></th>\n",
       "      <th>name</th>\n",
       "      <th>platform</th>\n",
       "      <th>year_of_release</th>\n",
       "      <th>genre</th>\n",
       "      <th>na_sales</th>\n",
       "      <th>eu_sales</th>\n",
       "      <th>jp_sales</th>\n",
       "      <th>other_sales</th>\n",
       "      <th>critic_score</th>\n",
       "      <th>user_score</th>\n",
       "      <th>rating</th>\n",
       "    </tr>\n",
       "  </thead>\n",
       "  <tbody>\n",
       "    <tr>\n",
       "      <th>183</th>\n",
       "      <td>Madden NFL 2004</td>\n",
       "      <td>PS2</td>\n",
       "      <td>NaN</td>\n",
       "      <td>Sports</td>\n",
       "      <td>4.26</td>\n",
       "      <td>0.26</td>\n",
       "      <td>0.01</td>\n",
       "      <td>0.71</td>\n",
       "      <td>94.0</td>\n",
       "      <td>8.5</td>\n",
       "      <td>E</td>\n",
       "    </tr>\n",
       "    <tr>\n",
       "      <th>377</th>\n",
       "      <td>FIFA Soccer 2004</td>\n",
       "      <td>PS2</td>\n",
       "      <td>NaN</td>\n",
       "      <td>Sports</td>\n",
       "      <td>0.59</td>\n",
       "      <td>2.36</td>\n",
       "      <td>0.04</td>\n",
       "      <td>0.51</td>\n",
       "      <td>84.0</td>\n",
       "      <td>6.4</td>\n",
       "      <td>E</td>\n",
       "    </tr>\n",
       "    <tr>\n",
       "      <th>456</th>\n",
       "      <td>LEGO Batman: The Videogame</td>\n",
       "      <td>Wii</td>\n",
       "      <td>NaN</td>\n",
       "      <td>Action</td>\n",
       "      <td>1.80</td>\n",
       "      <td>0.97</td>\n",
       "      <td>0.00</td>\n",
       "      <td>0.29</td>\n",
       "      <td>74.0</td>\n",
       "      <td>7.9</td>\n",
       "      <td>E10+</td>\n",
       "    </tr>\n",
       "    <tr>\n",
       "      <th>475</th>\n",
       "      <td>wwe Smackdown vs. Raw 2006</td>\n",
       "      <td>PS2</td>\n",
       "      <td>NaN</td>\n",
       "      <td>Fighting</td>\n",
       "      <td>1.57</td>\n",
       "      <td>1.02</td>\n",
       "      <td>0.00</td>\n",
       "      <td>0.41</td>\n",
       "      <td>NaN</td>\n",
       "      <td>NaN</td>\n",
       "      <td>NaN</td>\n",
       "    </tr>\n",
       "    <tr>\n",
       "      <th>609</th>\n",
       "      <td>Space Invaders</td>\n",
       "      <td>2600</td>\n",
       "      <td>NaN</td>\n",
       "      <td>Shooter</td>\n",
       "      <td>2.36</td>\n",
       "      <td>0.14</td>\n",
       "      <td>0.00</td>\n",
       "      <td>0.03</td>\n",
       "      <td>NaN</td>\n",
       "      <td>NaN</td>\n",
       "      <td>NaN</td>\n",
       "    </tr>\n",
       "    <tr>\n",
       "      <th>...</th>\n",
       "      <td>...</td>\n",
       "      <td>...</td>\n",
       "      <td>...</td>\n",
       "      <td>...</td>\n",
       "      <td>...</td>\n",
       "      <td>...</td>\n",
       "      <td>...</td>\n",
       "      <td>...</td>\n",
       "      <td>...</td>\n",
       "      <td>...</td>\n",
       "      <td>...</td>\n",
       "    </tr>\n",
       "    <tr>\n",
       "      <th>16371</th>\n",
       "      <td>PDC World Championship Darts 2008</td>\n",
       "      <td>PSP</td>\n",
       "      <td>NaN</td>\n",
       "      <td>Sports</td>\n",
       "      <td>0.01</td>\n",
       "      <td>0.00</td>\n",
       "      <td>0.00</td>\n",
       "      <td>0.00</td>\n",
       "      <td>43.0</td>\n",
       "      <td>tbd</td>\n",
       "      <td>E10+</td>\n",
       "    </tr>\n",
       "    <tr>\n",
       "      <th>16403</th>\n",
       "      <td>Freaky Flyers</td>\n",
       "      <td>GC</td>\n",
       "      <td>NaN</td>\n",
       "      <td>Racing</td>\n",
       "      <td>0.01</td>\n",
       "      <td>0.00</td>\n",
       "      <td>0.00</td>\n",
       "      <td>0.00</td>\n",
       "      <td>69.0</td>\n",
       "      <td>6.5</td>\n",
       "      <td>T</td>\n",
       "    </tr>\n",
       "    <tr>\n",
       "      <th>16446</th>\n",
       "      <td>Inversion</td>\n",
       "      <td>PC</td>\n",
       "      <td>NaN</td>\n",
       "      <td>Shooter</td>\n",
       "      <td>0.01</td>\n",
       "      <td>0.00</td>\n",
       "      <td>0.00</td>\n",
       "      <td>0.00</td>\n",
       "      <td>59.0</td>\n",
       "      <td>6.7</td>\n",
       "      <td>M</td>\n",
       "    </tr>\n",
       "    <tr>\n",
       "      <th>16456</th>\n",
       "      <td>Hakuouki: Shinsengumi Kitan</td>\n",
       "      <td>PS3</td>\n",
       "      <td>NaN</td>\n",
       "      <td>Adventure</td>\n",
       "      <td>0.01</td>\n",
       "      <td>0.00</td>\n",
       "      <td>0.00</td>\n",
       "      <td>0.00</td>\n",
       "      <td>NaN</td>\n",
       "      <td>NaN</td>\n",
       "      <td>NaN</td>\n",
       "    </tr>\n",
       "    <tr>\n",
       "      <th>16520</th>\n",
       "      <td>Virtua Quest</td>\n",
       "      <td>GC</td>\n",
       "      <td>NaN</td>\n",
       "      <td>Role-Playing</td>\n",
       "      <td>0.01</td>\n",
       "      <td>0.00</td>\n",
       "      <td>0.00</td>\n",
       "      <td>0.00</td>\n",
       "      <td>55.0</td>\n",
       "      <td>5.5</td>\n",
       "      <td>T</td>\n",
       "    </tr>\n",
       "  </tbody>\n",
       "</table>\n",
       "<p>269 rows × 11 columns</p>\n",
       "</div>"
      ],
      "text/plain": [
       "                                    name platform  year_of_release  \\\n",
       "183                      Madden NFL 2004      PS2              NaN   \n",
       "377                     FIFA Soccer 2004      PS2              NaN   \n",
       "456           LEGO Batman: The Videogame      Wii              NaN   \n",
       "475           wwe Smackdown vs. Raw 2006      PS2              NaN   \n",
       "609                       Space Invaders     2600              NaN   \n",
       "...                                  ...      ...              ...   \n",
       "16371  PDC World Championship Darts 2008      PSP              NaN   \n",
       "16403                      Freaky Flyers       GC              NaN   \n",
       "16446                          Inversion       PC              NaN   \n",
       "16456        Hakuouki: Shinsengumi Kitan      PS3              NaN   \n",
       "16520                       Virtua Quest       GC              NaN   \n",
       "\n",
       "              genre  na_sales  eu_sales  jp_sales  other_sales  critic_score  \\\n",
       "183          Sports      4.26      0.26      0.01         0.71          94.0   \n",
       "377          Sports      0.59      2.36      0.04         0.51          84.0   \n",
       "456          Action      1.80      0.97      0.00         0.29          74.0   \n",
       "475        Fighting      1.57      1.02      0.00         0.41           NaN   \n",
       "609         Shooter      2.36      0.14      0.00         0.03           NaN   \n",
       "...             ...       ...       ...       ...          ...           ...   \n",
       "16371        Sports      0.01      0.00      0.00         0.00          43.0   \n",
       "16403        Racing      0.01      0.00      0.00         0.00          69.0   \n",
       "16446       Shooter      0.01      0.00      0.00         0.00          59.0   \n",
       "16456     Adventure      0.01      0.00      0.00         0.00           NaN   \n",
       "16520  Role-Playing      0.01      0.00      0.00         0.00          55.0   \n",
       "\n",
       "      user_score rating  \n",
       "183          8.5      E  \n",
       "377          6.4      E  \n",
       "456          7.9   E10+  \n",
       "475          NaN    NaN  \n",
       "609          NaN    NaN  \n",
       "...          ...    ...  \n",
       "16371        tbd   E10+  \n",
       "16403        6.5      T  \n",
       "16446        6.7      M  \n",
       "16456        NaN    NaN  \n",
       "16520        5.5      T  \n",
       "\n",
       "[269 rows x 11 columns]"
      ]
     },
     "execution_count": 12,
     "metadata": {},
     "output_type": "execute_result"
    }
   ],
   "source": [
    "df[df['year_of_release'].isna()]"
   ]
  },
  {
   "cell_type": "markdown",
   "metadata": {},
   "source": [
    "В части названий игр указана дата. Как правило даты в названии совпадают с датой релиза игр. А если не совпадают, то являются наиболее близкими значениями (за исключением таких игр как 'battlefield 1942'). Заполним часть пропусков датой из названия. Чтобы защититься от выбросов полученные даты возьмём только в диапазоне с 1980-2016 (min, max из столбца)."
   ]
  },
  {
   "cell_type": "code",
   "execution_count": 13,
   "metadata": {},
   "outputs": [],
   "source": [
    "def get_date(row):\n",
    "    min_year = df['year_of_release'].min()\n",
    "    max_year = df['year_of_release'].max()\n",
    "    \n",
    "    if pd.isnull(row['year_of_release']):\n",
    "        if row['name'].split()[-1].isdigit() and min_year <= int(row['name'].split()[-1]) <= max_year:\n",
    "            return pd.to_numeric(row['name'].split()[-1])\n",
    "    else:\n",
    "        return row['year_of_release']"
   ]
  },
  {
   "cell_type": "code",
   "execution_count": 14,
   "metadata": {},
   "outputs": [],
   "source": [
    "df['year_of_release'] = df.apply(get_date, axis=1)"
   ]
  },
  {
   "cell_type": "code",
   "execution_count": 15,
   "metadata": {},
   "outputs": [
    {
     "name": "stdout",
     "output_type": "stream",
     "text": [
      "<class 'pandas.core.frame.DataFrame'>\n",
      "RangeIndex: 16713 entries, 0 to 16712\n",
      "Data columns (total 11 columns):\n",
      " #   Column           Non-Null Count  Dtype  \n",
      "---  ------           --------------  -----  \n",
      " 0   name             16713 non-null  object \n",
      " 1   platform         16713 non-null  object \n",
      " 2   year_of_release  16459 non-null  float64\n",
      " 3   genre            16713 non-null  object \n",
      " 4   na_sales         16713 non-null  float64\n",
      " 5   eu_sales         16713 non-null  float64\n",
      " 6   jp_sales         16713 non-null  float64\n",
      " 7   other_sales      16713 non-null  float64\n",
      " 8   critic_score     8137 non-null   float64\n",
      " 9   user_score       10014 non-null  object \n",
      " 10  rating           9949 non-null   object \n",
      "dtypes: float64(6), object(5)\n",
      "memory usage: 1.4+ MB\n"
     ]
    }
   ],
   "source": [
    "df.info()"
   ]
  },
  {
   "cell_type": "code",
   "execution_count": 16,
   "metadata": {},
   "outputs": [
    {
     "data": {
      "text/plain": [
       "13"
      ]
     },
     "execution_count": 16,
     "metadata": {},
     "output_type": "execute_result"
    }
   ],
   "source": [
    "16459 - 16446"
   ]
  },
  {
   "cell_type": "markdown",
   "metadata": {},
   "source": [
    "Не особо глобальными получились изменения. Но мы на этом не остановимся! Новая платформа поступает в продажу вытесняя старую, на определённый период, пока её не вытеснит более новая. То есть время \"жизни\" платформы ограниченно каким-то периодом. Пока новая платформа набирает популярность, к ней выходят игры. Мы можем сгруппировать данные по платформам, найти среднее значение года для этого периода и заполнить им оставшиеся пропуски. Не самый точный вариант, зато вполне рабочий. Сначала убедимся что в столбце \"platform\" всё в порядке."
   ]
  },
  {
   "cell_type": "code",
   "execution_count": 17,
   "metadata": {},
   "outputs": [
    {
     "data": {
      "text/plain": [
       "array(['Wii', 'NES', 'GB', 'DS', 'X360', 'PS3', 'PS2', 'SNES', 'GBA',\n",
       "       'PS4', '3DS', 'N64', 'PS', 'XB', 'PC', '2600', 'PSP', 'XOne',\n",
       "       'WiiU', 'GC', 'GEN', 'DC', 'PSV', 'SAT', 'SCD', 'WS', 'NG', 'TG16',\n",
       "       '3DO', 'GG', 'PCFX'], dtype=object)"
      ]
     },
     "execution_count": 17,
     "metadata": {},
     "output_type": "execute_result"
    }
   ],
   "source": [
    "df['platform'].unique()"
   ]
  },
  {
   "cell_type": "markdown",
   "metadata": {},
   "source": [
    "Всё в порядке. Группируем данные, ищем среднее, заполняем пропуски."
   ]
  },
  {
   "cell_type": "code",
   "execution_count": 18,
   "metadata": {},
   "outputs": [],
   "source": [
    "df['year_of_release'] = df['year_of_release'].fillna(df.groupby('platform')['year_of_release'].transform('mean'))\n"
   ]
  },
  {
   "cell_type": "code",
   "execution_count": 19,
   "metadata": {},
   "outputs": [
    {
     "name": "stdout",
     "output_type": "stream",
     "text": [
      "<class 'pandas.core.frame.DataFrame'>\n",
      "RangeIndex: 16713 entries, 0 to 16712\n",
      "Data columns (total 11 columns):\n",
      " #   Column           Non-Null Count  Dtype  \n",
      "---  ------           --------------  -----  \n",
      " 0   name             16713 non-null  object \n",
      " 1   platform         16713 non-null  object \n",
      " 2   year_of_release  16713 non-null  float64\n",
      " 3   genre            16713 non-null  object \n",
      " 4   na_sales         16713 non-null  float64\n",
      " 5   eu_sales         16713 non-null  float64\n",
      " 6   jp_sales         16713 non-null  float64\n",
      " 7   other_sales      16713 non-null  float64\n",
      " 8   critic_score     8137 non-null   float64\n",
      " 9   user_score       10014 non-null  object \n",
      " 10  rating           9949 non-null   object \n",
      "dtypes: float64(6), object(5)\n",
      "memory usage: 1.4+ MB\n"
     ]
    }
   ],
   "source": [
    "df.info()"
   ]
  },
  {
   "cell_type": "markdown",
   "metadata": {},
   "source": [
    "Уже лучше. Но это всё были весьма второстепенные данные. Для нас ключевыми являются рейтинги. В `critic_score` пропущено около половины значений, чуть меньше в `user_score`. Заполнить эти пробелы по имеющимся данным не представляется возможным. Отбросив половину данных потеряем слишком много информации. Оставим пропуски в этих столбцах без изменений.\n",
    "\n",
    "Во время обзора данных мы увидели что 'user_score' имеет тип object. Найдём причину."
   ]
  },
  {
   "cell_type": "code",
   "execution_count": 20,
   "metadata": {},
   "outputs": [
    {
     "data": {
      "text/plain": [
       "array(['8', nan, '8.3', '8.5', '6.6', '8.4', '8.6', '7.7', '6.3', '7.4',\n",
       "       '8.2', '9', '7.9', '8.1', '8.7', '7.1', '3.4', '5.3', '4.8', '3.2',\n",
       "       '8.9', '6.4', '7.8', '7.5', '2.6', '7.2', '9.2', '7', '7.3', '4.3',\n",
       "       '7.6', '5.7', '5', '9.1', '6.5', 'tbd', '8.8', '6.9', '9.4', '6.8',\n",
       "       '6.1', '6.7', '5.4', '4', '4.9', '4.5', '9.3', '6.2', '4.2', '6',\n",
       "       '3.7', '4.1', '5.8', '5.6', '5.5', '4.4', '4.6', '5.9', '3.9',\n",
       "       '3.1', '2.9', '5.2', '3.3', '4.7', '5.1', '3.5', '2.5', '1.9', '3',\n",
       "       '2.7', '2.2', '2', '9.5', '2.1', '3.6', '2.8', '1.8', '3.8', '0',\n",
       "       '1.6', '9.6', '2.4', '1.7', '1.1', '0.3', '1.5', '0.7', '1.2',\n",
       "       '2.3', '0.5', '1.3', '0.2', '0.6', '1.4', '0.9', '1', '9.7'],\n",
       "      dtype=object)"
      ]
     },
     "execution_count": 20,
     "metadata": {},
     "output_type": "execute_result"
    }
   ],
   "source": [
    "df['user_score'].unique()"
   ]
  },
  {
   "cell_type": "markdown",
   "metadata": {},
   "source": [
    "Некоторые игры имеют оценку от пользователей - 'tbd'. Давайте посмотрим сколько игр имеют такую оценку."
   ]
  },
  {
   "cell_type": "code",
   "execution_count": 21,
   "metadata": {},
   "outputs": [
    {
     "data": {
      "text/plain": [
       "2424"
      ]
     },
     "execution_count": 21,
     "metadata": {},
     "output_type": "execute_result"
    }
   ],
   "source": [
    "df[df['user_score'] == 'tbd']['user_score'].count()"
   ]
  },
  {
   "cell_type": "markdown",
   "metadata": {},
   "source": [
    "Согласно источникам tbd - To Be Decided (будет решено). То есть так отмечены игры ещё не получившие оценку пользователей. Для нас это не что иное как NaN. Получается что пропусков в 'user_score' на 2000 больше. Столбец скорее пуст. Перепишем 'tbd' на NaN."
   ]
  },
  {
   "cell_type": "code",
   "execution_count": 22,
   "metadata": {},
   "outputs": [],
   "source": [
    "df.loc[df['user_score'] == 'tbd', 'user_score'] = np.nan"
   ]
  },
  {
   "cell_type": "markdown",
   "metadata": {},
   "source": [
    "Остаётся последний столбец: рейтинг от организации ESRB. В столбце большое количество пропускв, это связано с тем что наша база данных охватывает 36 лет игровой индустрии начиная с 1980. ESRB была основана в 1994 году. Логично что игры, до момента основания ESRB, рейтинг не получали. С другой стороны индустрия была не развита и игр было очень небольшое количество. Давайте проверим."
   ]
  },
  {
   "cell_type": "code",
   "execution_count": 23,
   "metadata": {},
   "outputs": [
    {
     "data": {
      "text/plain": [
       "name               382\n",
       "platform           382\n",
       "year_of_release    382\n",
       "genre              382\n",
       "na_sales           382\n",
       "eu_sales           382\n",
       "jp_sales           382\n",
       "other_sales        382\n",
       "critic_score         3\n",
       "user_score           3\n",
       "rating               4\n",
       "dtype: int64"
      ]
     },
     "execution_count": 23,
     "metadata": {},
     "output_type": "execute_result"
    }
   ],
   "source": [
    "df.query('year_of_release < 1994').count()"
   ]
  },
  {
   "cell_type": "markdown",
   "metadata": {},
   "source": [
    "Пропусков оказалось относительно немного. Мы можем попробовать заполнить пропуски с группировкой по жанрам. Что бы не делать это вслепую, сначала возьмём жанр и посмотри какие чаще ему присваивают рейтинги. Давайте начнём, печатаем список."
   ]
  },
  {
   "cell_type": "code",
   "execution_count": 24,
   "metadata": {},
   "outputs": [
    {
     "data": {
      "text/plain": [
       "array(['E', nan, 'M', 'T', 'E10+', 'K-A', 'AO', 'EC', 'RP'], dtype=object)"
      ]
     },
     "execution_count": 24,
     "metadata": {},
     "output_type": "execute_result"
    }
   ],
   "source": [
    "df['rating'].unique()"
   ]
  },
  {
   "cell_type": "code",
   "execution_count": 25,
   "metadata": {},
   "outputs": [
    {
     "data": {
      "text/plain": [
       "array(['Sports', 'Platform', 'Racing', 'Role-Playing', 'Puzzle', 'Misc',\n",
       "       'Shooter', 'Simulation', 'Action', 'Fighting', 'Adventure',\n",
       "       'Strategy'], dtype=object)"
      ]
     },
     "execution_count": 25,
     "metadata": {},
     "output_type": "execute_result"
    }
   ],
   "source": [
    "df['genre'].unique()"
   ]
  },
  {
   "cell_type": "code",
   "execution_count": 26,
   "metadata": {
    "scrolled": true
   },
   "outputs": [
    {
     "data": {
      "text/plain": [
       "<AxesSubplot:title={'center':'Number of games in genre \"Action\"'}, xlabel='Rating', ylabel='Number of games'>"
      ]
     },
     "execution_count": 26,
     "metadata": {},
     "output_type": "execute_result"
    },
    {
     "data": {
      "image/png": "[encoded data removed]",
      "text/plain": [
       "<Figure size 432x288 with 1 Axes>"
      ]
     },
     "metadata": {
      "needs_background": "light"
     },
     "output_type": "display_data"
    }
   ],
   "source": [
    "df.query('genre == \"Action\"').groupby(by='rating')['name'].count().plot(\n",
    "    kind='bar',\n",
    "    title='Number of games in genre \"Action\"',\n",
    "    ylabel='Number of games',\n",
    "    xlabel='Rating'\n",
    ")"
   ]
  },
  {
   "cell_type": "code",
   "execution_count": 27,
   "metadata": {},
   "outputs": [
    {
     "data": {
      "text/plain": [
       "<AxesSubplot:title={'center':'Number of games in genre \"Shooter\"'}, xlabel='Rating', ylabel='Number of games'>"
      ]
     },
     "execution_count": 27,
     "metadata": {},
     "output_type": "execute_result"
    },
    {
     "data": {
      "image/png": "[encoded data removed]",
      "text/plain": [
       "<Figure size 432x288 with 1 Axes>"
      ]
     },
     "metadata": {
      "needs_background": "light"
     },
     "output_type": "display_data"
    }
   ],
   "source": [
    "df.query('genre == \"Shooter\"').groupby(by='rating')['name'].count().plot(\n",
    "    kind='bar',\n",
    "    title='Number of games in genre \"Shooter\"',\n",
    "    ylabel='Number of games',\n",
    "    xlabel='Rating'\n",
    ")"
   ]
  },
  {
   "cell_type": "code",
   "execution_count": 28,
   "metadata": {},
   "outputs": [
    {
     "data": {
      "text/plain": [
       "<AxesSubplot:title={'center':'Number of games in genre \"Sports\"'}, xlabel='Rating', ylabel='Number of games'>"
      ]
     },
     "execution_count": 28,
     "metadata": {},
     "output_type": "execute_result"
    },
    {
     "data": {
      "image/png": "[encoded data removed]",
      "text/plain": [
       "<Figure size 432x288 with 1 Axes>"
      ]
     },
     "metadata": {
      "needs_background": "light"
     },
     "output_type": "display_data"
    }
   ],
   "source": [
    "df.query('genre == \"Sports\"').groupby(by='rating')['name'].count().plot(\n",
    "    kind='bar',\n",
    "    title='Number of games in genre \"Sports\"',\n",
    "    ylabel='Number of games',\n",
    "    xlabel='Rating'\n",
    ")"
   ]
  },
  {
   "cell_type": "markdown",
   "metadata": {},
   "source": [
    "Как видим, распределение для одних жанров неравномерно для нескольких рейтингов, для других более ссылается к одному. Мы можем заполнить определённые жанры, к примеру для \"sports\" это в большинстве случаев \"E\". Но тогда получим смещение этого жанра для других, что приведёт к искажению результатов. Заменим пропуски значением \"заглушкой\". Это позволит учесть их при дальнейшем анализе."
   ]
  },
  {
   "cell_type": "code",
   "execution_count": 29,
   "metadata": {},
   "outputs": [],
   "source": [
    "df['rating'].fillna('Unknown', inplace=True)"
   ]
  },
  {
   "cell_type": "markdown",
   "metadata": {},
   "source": [
    "После того как пропуски заполнены (насколько это возможно), можно переходить к изменению типов данных. Начнём со столбца с годом релиза. Столбец содержит только год, приводить его к DateTime не нужно."
   ]
  },
  {
   "cell_type": "code",
   "execution_count": 30,
   "metadata": {},
   "outputs": [],
   "source": [
    "df['year_of_release'] = df['year_of_release'].astype('int32')"
   ]
  },
  {
   "cell_type": "code",
   "execution_count": 31,
   "metadata": {
    "scrolled": true
   },
   "outputs": [
    {
     "name": "stdout",
     "output_type": "stream",
     "text": [
      "<class 'pandas.core.frame.DataFrame'>\n",
      "RangeIndex: 16713 entries, 0 to 16712\n",
      "Data columns (total 11 columns):\n",
      " #   Column           Non-Null Count  Dtype  \n",
      "---  ------           --------------  -----  \n",
      " 0   name             16713 non-null  object \n",
      " 1   platform         16713 non-null  object \n",
      " 2   year_of_release  16713 non-null  int32  \n",
      " 3   genre            16713 non-null  object \n",
      " 4   na_sales         16713 non-null  float64\n",
      " 5   eu_sales         16713 non-null  float64\n",
      " 6   jp_sales         16713 non-null  float64\n",
      " 7   other_sales      16713 non-null  float64\n",
      " 8   critic_score     8137 non-null   float64\n",
      " 9   user_score       7590 non-null   object \n",
      " 10  rating           16713 non-null  object \n",
      "dtypes: float64(5), int32(1), object(5)\n",
      "memory usage: 1.3+ MB\n"
     ]
    }
   ],
   "source": [
    "df.info()"
   ]
  },
  {
   "cell_type": "markdown",
   "metadata": {},
   "source": [
    "После того как мы избавились от текстовых значений в 'user_score' можно привести столбец к типу float."
   ]
  },
  {
   "cell_type": "code",
   "execution_count": 32,
   "metadata": {},
   "outputs": [],
   "source": [
    "df['user_score'] = df['user_score'].astype('float32')"
   ]
  },
  {
   "cell_type": "markdown",
   "metadata": {},
   "source": [
    "На этом предобработку можно считать завершённой. В завершении посчитаем сумму продаж во всех странах и сведём полученные данные в отдельный столбец \"total_costs\"."
   ]
  },
  {
   "cell_type": "code",
   "execution_count": 33,
   "metadata": {},
   "outputs": [],
   "source": [
    "df.insert(8, 'total_sales', df[['na_sales','eu_sales','jp_sales', 'other_sales']].sum(axis=1))"
   ]
  },
  {
   "cell_type": "code",
   "execution_count": 34,
   "metadata": {},
   "outputs": [
    {
     "data": {
      "text/plain": [
       "array(['E', 'Unknown', 'M', 'T', 'E10+', 'K-A', 'AO', 'EC', 'RP'],\n",
       "      dtype=object)"
      ]
     },
     "execution_count": 34,
     "metadata": {},
     "output_type": "execute_result"
    }
   ],
   "source": [
    "df['rating'].unique()"
   ]
  },
  {
   "cell_type": "code",
   "execution_count": 35,
   "metadata": {
    "scrolled": true
   },
   "outputs": [
    {
     "data": {
      "text/html": [
       "<div>\n",
       "<style scoped>\n",
       "    .dataframe tbody tr th:only-of-type {\n",
       "        vertical-align: middle;\n",
       "    }\n",
       "\n",
       "    .dataframe tbody tr th {\n",
       "        vertical-align: top;\n",
       "    }\n",
       "\n",
       "    .dataframe thead th {\n",
       "        text-align: right;\n",
       "    }\n",
       "</style>\n",
       "<table border=\"1\" class=\"dataframe\">\n",
       "  <thead>\n",
       "    <tr style=\"text-align: right;\">\n",
       "      <th></th>\n",
       "      <th>name</th>\n",
       "      <th>platform</th>\n",
       "      <th>year_of_release</th>\n",
       "      <th>genre</th>\n",
       "      <th>na_sales</th>\n",
       "      <th>eu_sales</th>\n",
       "      <th>jp_sales</th>\n",
       "      <th>other_sales</th>\n",
       "      <th>total_sales</th>\n",
       "      <th>critic_score</th>\n",
       "      <th>user_score</th>\n",
       "      <th>rating</th>\n",
       "    </tr>\n",
       "  </thead>\n",
       "  <tbody>\n",
       "    <tr>\n",
       "      <th>0</th>\n",
       "      <td>Wii Sports</td>\n",
       "      <td>Wii</td>\n",
       "      <td>2006</td>\n",
       "      <td>Sports</td>\n",
       "      <td>41.36</td>\n",
       "      <td>28.96</td>\n",
       "      <td>3.77</td>\n",
       "      <td>8.45</td>\n",
       "      <td>82.54</td>\n",
       "      <td>76.0</td>\n",
       "      <td>8.0</td>\n",
       "      <td>E</td>\n",
       "    </tr>\n",
       "    <tr>\n",
       "      <th>1</th>\n",
       "      <td>Super Mario Bros.</td>\n",
       "      <td>NES</td>\n",
       "      <td>1985</td>\n",
       "      <td>Platform</td>\n",
       "      <td>29.08</td>\n",
       "      <td>3.58</td>\n",
       "      <td>6.81</td>\n",
       "      <td>0.77</td>\n",
       "      <td>40.24</td>\n",
       "      <td>NaN</td>\n",
       "      <td>NaN</td>\n",
       "      <td>Unknown</td>\n",
       "    </tr>\n",
       "    <tr>\n",
       "      <th>2</th>\n",
       "      <td>Mario Kart Wii</td>\n",
       "      <td>Wii</td>\n",
       "      <td>2008</td>\n",
       "      <td>Racing</td>\n",
       "      <td>15.68</td>\n",
       "      <td>12.76</td>\n",
       "      <td>3.79</td>\n",
       "      <td>3.29</td>\n",
       "      <td>35.52</td>\n",
       "      <td>82.0</td>\n",
       "      <td>8.3</td>\n",
       "      <td>E</td>\n",
       "    </tr>\n",
       "    <tr>\n",
       "      <th>3</th>\n",
       "      <td>Wii Sports Resort</td>\n",
       "      <td>Wii</td>\n",
       "      <td>2009</td>\n",
       "      <td>Sports</td>\n",
       "      <td>15.61</td>\n",
       "      <td>10.93</td>\n",
       "      <td>3.28</td>\n",
       "      <td>2.95</td>\n",
       "      <td>32.77</td>\n",
       "      <td>80.0</td>\n",
       "      <td>8.0</td>\n",
       "      <td>E</td>\n",
       "    </tr>\n",
       "    <tr>\n",
       "      <th>4</th>\n",
       "      <td>Pokemon Red/Pokemon Blue</td>\n",
       "      <td>GB</td>\n",
       "      <td>1996</td>\n",
       "      <td>Role-Playing</td>\n",
       "      <td>11.27</td>\n",
       "      <td>8.89</td>\n",
       "      <td>10.22</td>\n",
       "      <td>1.00</td>\n",
       "      <td>31.38</td>\n",
       "      <td>NaN</td>\n",
       "      <td>NaN</td>\n",
       "      <td>Unknown</td>\n",
       "    </tr>\n",
       "    <tr>\n",
       "      <th>...</th>\n",
       "      <td>...</td>\n",
       "      <td>...</td>\n",
       "      <td>...</td>\n",
       "      <td>...</td>\n",
       "      <td>...</td>\n",
       "      <td>...</td>\n",
       "      <td>...</td>\n",
       "      <td>...</td>\n",
       "      <td>...</td>\n",
       "      <td>...</td>\n",
       "      <td>...</td>\n",
       "      <td>...</td>\n",
       "    </tr>\n",
       "    <tr>\n",
       "      <th>16708</th>\n",
       "      <td>Samurai Warriors: Sanada Maru</td>\n",
       "      <td>PS3</td>\n",
       "      <td>2016</td>\n",
       "      <td>Action</td>\n",
       "      <td>0.00</td>\n",
       "      <td>0.00</td>\n",
       "      <td>0.01</td>\n",
       "      <td>0.00</td>\n",
       "      <td>0.01</td>\n",
       "      <td>NaN</td>\n",
       "      <td>NaN</td>\n",
       "      <td>Unknown</td>\n",
       "    </tr>\n",
       "    <tr>\n",
       "      <th>16709</th>\n",
       "      <td>LMA Manager 2007</td>\n",
       "      <td>X360</td>\n",
       "      <td>2006</td>\n",
       "      <td>Sports</td>\n",
       "      <td>0.00</td>\n",
       "      <td>0.01</td>\n",
       "      <td>0.00</td>\n",
       "      <td>0.00</td>\n",
       "      <td>0.01</td>\n",
       "      <td>NaN</td>\n",
       "      <td>NaN</td>\n",
       "      <td>Unknown</td>\n",
       "    </tr>\n",
       "    <tr>\n",
       "      <th>16710</th>\n",
       "      <td>Haitaka no Psychedelica</td>\n",
       "      <td>PSV</td>\n",
       "      <td>2016</td>\n",
       "      <td>Adventure</td>\n",
       "      <td>0.00</td>\n",
       "      <td>0.00</td>\n",
       "      <td>0.01</td>\n",
       "      <td>0.00</td>\n",
       "      <td>0.01</td>\n",
       "      <td>NaN</td>\n",
       "      <td>NaN</td>\n",
       "      <td>Unknown</td>\n",
       "    </tr>\n",
       "    <tr>\n",
       "      <th>16711</th>\n",
       "      <td>Spirits &amp; Spells</td>\n",
       "      <td>GBA</td>\n",
       "      <td>2003</td>\n",
       "      <td>Platform</td>\n",
       "      <td>0.01</td>\n",
       "      <td>0.00</td>\n",
       "      <td>0.00</td>\n",
       "      <td>0.00</td>\n",
       "      <td>0.01</td>\n",
       "      <td>NaN</td>\n",
       "      <td>NaN</td>\n",
       "      <td>Unknown</td>\n",
       "    </tr>\n",
       "    <tr>\n",
       "      <th>16712</th>\n",
       "      <td>Winning Post 8 2016</td>\n",
       "      <td>PSV</td>\n",
       "      <td>2016</td>\n",
       "      <td>Simulation</td>\n",
       "      <td>0.00</td>\n",
       "      <td>0.00</td>\n",
       "      <td>0.01</td>\n",
       "      <td>0.00</td>\n",
       "      <td>0.01</td>\n",
       "      <td>NaN</td>\n",
       "      <td>NaN</td>\n",
       "      <td>Unknown</td>\n",
       "    </tr>\n",
       "  </tbody>\n",
       "</table>\n",
       "<p>16713 rows × 12 columns</p>\n",
       "</div>"
      ],
      "text/plain": [
       "                                name platform  year_of_release         genre  \\\n",
       "0                         Wii Sports      Wii             2006        Sports   \n",
       "1                  Super Mario Bros.      NES             1985      Platform   \n",
       "2                     Mario Kart Wii      Wii             2008        Racing   \n",
       "3                  Wii Sports Resort      Wii             2009        Sports   \n",
       "4           Pokemon Red/Pokemon Blue       GB             1996  Role-Playing   \n",
       "...                              ...      ...              ...           ...   \n",
       "16708  Samurai Warriors: Sanada Maru      PS3             2016        Action   \n",
       "16709               LMA Manager 2007     X360             2006        Sports   \n",
       "16710        Haitaka no Psychedelica      PSV             2016     Adventure   \n",
       "16711               Spirits & Spells      GBA             2003      Platform   \n",
       "16712            Winning Post 8 2016      PSV             2016    Simulation   \n",
       "\n",
       "       na_sales  eu_sales  jp_sales  other_sales  total_sales  critic_score  \\\n",
       "0         41.36     28.96      3.77         8.45        82.54          76.0   \n",
       "1         29.08      3.58      6.81         0.77        40.24           NaN   \n",
       "2         15.68     12.76      3.79         3.29        35.52          82.0   \n",
       "3         15.61     10.93      3.28         2.95        32.77          80.0   \n",
       "4         11.27      8.89     10.22         1.00        31.38           NaN   \n",
       "...         ...       ...       ...          ...          ...           ...   \n",
       "16708      0.00      0.00      0.01         0.00         0.01           NaN   \n",
       "16709      0.00      0.01      0.00         0.00         0.01           NaN   \n",
       "16710      0.00      0.00      0.01         0.00         0.01           NaN   \n",
       "16711      0.01      0.00      0.00         0.00         0.01           NaN   \n",
       "16712      0.00      0.00      0.01         0.00         0.01           NaN   \n",
       "\n",
       "       user_score   rating  \n",
       "0             8.0        E  \n",
       "1             NaN  Unknown  \n",
       "2             8.3        E  \n",
       "3             8.0        E  \n",
       "4             NaN  Unknown  \n",
       "...           ...      ...  \n",
       "16708         NaN  Unknown  \n",
       "16709         NaN  Unknown  \n",
       "16710         NaN  Unknown  \n",
       "16711         NaN  Unknown  \n",
       "16712         NaN  Unknown  \n",
       "\n",
       "[16713 rows x 12 columns]"
      ]
     },
     "execution_count": 35,
     "metadata": {},
     "output_type": "execute_result"
    }
   ],
   "source": [
    "df"
   ]
  },
  {
   "cell_type": "markdown",
   "metadata": {},
   "source": [
    "### Вывод"
   ]
  },
  {
   "cell_type": "markdown",
   "metadata": {},
   "source": [
    "Подводя итог по предобработке данных можно сказать что часть данных удалось восполнить по уже имеющимся. Некоторые данные остались с пропусками, т.к. проект учебный и запросить более полную выгрузку возможности нет, а заполнение данных приведёт к их искажению, было принято решение оставить их без изменения."
   ]
  },
  {
   "cell_type": "markdown",
   "metadata": {},
   "source": [
    "## Исследовательский анализ данных"
   ]
  },
  {
   "cell_type": "markdown",
   "metadata": {},
   "source": [
    "Когда данные прошли предобработку самое время приступать к исследованиям. Исходя из цели проекта нам нужно определить:\n",
    "\n",
    "* Сколько игр выпускалось в разные годы;\n",
    "* Какие периоды наиболее актуальны для прогнозирования;\n",
    "* Как изменялись продажи по платформам;\n",
    "* Определить наиболее популярные платформы;\n",
    "* Срок актуальности платформы;\n",
    "* Определить актуальный период;\n",
    "* Определить лидирующие по продажам платформы;\n",
    "* Построить график `boxplot()` по глобальной продаже игр в разбивке по платформам;\n",
    "* Оценить как влияют отзывы пользователей и критиков на продажи внутри популярной платформы;\n",
    "* Посчитать корреляцию между отзывами и продажами;\n",
    "* Соотнести выводы с продажами игр на других платформах;\n",
    "* Проанализировать распределение игр по жанрам;\n",
    "* Определить наиболее прибыльные жанры."
   ]
  },
  {
   "cell_type": "markdown",
   "metadata": {},
   "source": [
    "### Определение потенциально прибыльной платформы"
   ]
  },
  {
   "cell_type": "markdown",
   "metadata": {},
   "source": [
    "Цели сформированы, начнём с постройки сводной таблицы в которой отразим сколько игр и на какую платформу было выпущено."
   ]
  },
  {
   "cell_type": "code",
   "execution_count": 36,
   "metadata": {},
   "outputs": [],
   "source": [
    "release_of_year = df.pivot_table(\n",
    "    index='year_of_release', columns='platform', values='name', aggfunc='count', fill_value=0\n",
    ")"
   ]
  },
  {
   "cell_type": "code",
   "execution_count": 37,
   "metadata": {},
   "outputs": [
    {
     "data": {
      "text/html": [
       "<div>\n",
       "<style scoped>\n",
       "    .dataframe tbody tr th:only-of-type {\n",
       "        vertical-align: middle;\n",
       "    }\n",
       "\n",
       "    .dataframe tbody tr th {\n",
       "        vertical-align: top;\n",
       "    }\n",
       "\n",
       "    .dataframe thead th {\n",
       "        text-align: right;\n",
       "    }\n",
       "</style>\n",
       "<table border=\"1\" class=\"dataframe\">\n",
       "  <thead>\n",
       "    <tr style=\"text-align: right;\">\n",
       "      <th>platform</th>\n",
       "      <th>2600</th>\n",
       "      <th>3DO</th>\n",
       "      <th>3DS</th>\n",
       "      <th>DC</th>\n",
       "      <th>DS</th>\n",
       "      <th>GB</th>\n",
       "      <th>GBA</th>\n",
       "      <th>GC</th>\n",
       "      <th>GEN</th>\n",
       "      <th>GG</th>\n",
       "      <th>...</th>\n",
       "      <th>SAT</th>\n",
       "      <th>SCD</th>\n",
       "      <th>SNES</th>\n",
       "      <th>TG16</th>\n",
       "      <th>WS</th>\n",
       "      <th>Wii</th>\n",
       "      <th>WiiU</th>\n",
       "      <th>X360</th>\n",
       "      <th>XB</th>\n",
       "      <th>XOne</th>\n",
       "    </tr>\n",
       "    <tr>\n",
       "      <th>year_of_release</th>\n",
       "      <th></th>\n",
       "      <th></th>\n",
       "      <th></th>\n",
       "      <th></th>\n",
       "      <th></th>\n",
       "      <th></th>\n",
       "      <th></th>\n",
       "      <th></th>\n",
       "      <th></th>\n",
       "      <th></th>\n",
       "      <th></th>\n",
       "      <th></th>\n",
       "      <th></th>\n",
       "      <th></th>\n",
       "      <th></th>\n",
       "      <th></th>\n",
       "      <th></th>\n",
       "      <th></th>\n",
       "      <th></th>\n",
       "      <th></th>\n",
       "      <th></th>\n",
       "    </tr>\n",
       "  </thead>\n",
       "  <tbody>\n",
       "    <tr>\n",
       "      <th>1980</th>\n",
       "      <td>9</td>\n",
       "      <td>0</td>\n",
       "      <td>0</td>\n",
       "      <td>0</td>\n",
       "      <td>0</td>\n",
       "      <td>0</td>\n",
       "      <td>0</td>\n",
       "      <td>0</td>\n",
       "      <td>0</td>\n",
       "      <td>0</td>\n",
       "      <td>...</td>\n",
       "      <td>0</td>\n",
       "      <td>0</td>\n",
       "      <td>0</td>\n",
       "      <td>0</td>\n",
       "      <td>0</td>\n",
       "      <td>0</td>\n",
       "      <td>0</td>\n",
       "      <td>0</td>\n",
       "      <td>0</td>\n",
       "      <td>0</td>\n",
       "    </tr>\n",
       "    <tr>\n",
       "      <th>1981</th>\n",
       "      <td>46</td>\n",
       "      <td>0</td>\n",
       "      <td>0</td>\n",
       "      <td>0</td>\n",
       "      <td>0</td>\n",
       "      <td>0</td>\n",
       "      <td>0</td>\n",
       "      <td>0</td>\n",
       "      <td>0</td>\n",
       "      <td>0</td>\n",
       "      <td>...</td>\n",
       "      <td>0</td>\n",
       "      <td>0</td>\n",
       "      <td>0</td>\n",
       "      <td>0</td>\n",
       "      <td>0</td>\n",
       "      <td>0</td>\n",
       "      <td>0</td>\n",
       "      <td>0</td>\n",
       "      <td>0</td>\n",
       "      <td>0</td>\n",
       "    </tr>\n",
       "    <tr>\n",
       "      <th>1982</th>\n",
       "      <td>53</td>\n",
       "      <td>0</td>\n",
       "      <td>0</td>\n",
       "      <td>0</td>\n",
       "      <td>0</td>\n",
       "      <td>0</td>\n",
       "      <td>0</td>\n",
       "      <td>0</td>\n",
       "      <td>0</td>\n",
       "      <td>0</td>\n",
       "      <td>...</td>\n",
       "      <td>0</td>\n",
       "      <td>0</td>\n",
       "      <td>0</td>\n",
       "      <td>0</td>\n",
       "      <td>0</td>\n",
       "      <td>0</td>\n",
       "      <td>0</td>\n",
       "      <td>0</td>\n",
       "      <td>0</td>\n",
       "      <td>0</td>\n",
       "    </tr>\n",
       "    <tr>\n",
       "      <th>1983</th>\n",
       "      <td>11</td>\n",
       "      <td>0</td>\n",
       "      <td>0</td>\n",
       "      <td>0</td>\n",
       "      <td>0</td>\n",
       "      <td>0</td>\n",
       "      <td>0</td>\n",
       "      <td>0</td>\n",
       "      <td>0</td>\n",
       "      <td>0</td>\n",
       "      <td>...</td>\n",
       "      <td>0</td>\n",
       "      <td>0</td>\n",
       "      <td>0</td>\n",
       "      <td>0</td>\n",
       "      <td>0</td>\n",
       "      <td>0</td>\n",
       "      <td>0</td>\n",
       "      <td>0</td>\n",
       "      <td>0</td>\n",
       "      <td>0</td>\n",
       "    </tr>\n",
       "    <tr>\n",
       "      <th>1984</th>\n",
       "      <td>1</td>\n",
       "      <td>0</td>\n",
       "      <td>0</td>\n",
       "      <td>0</td>\n",
       "      <td>0</td>\n",
       "      <td>0</td>\n",
       "      <td>0</td>\n",
       "      <td>0</td>\n",
       "      <td>0</td>\n",
       "      <td>0</td>\n",
       "      <td>...</td>\n",
       "      <td>0</td>\n",
       "      <td>0</td>\n",
       "      <td>0</td>\n",
       "      <td>0</td>\n",
       "      <td>0</td>\n",
       "      <td>0</td>\n",
       "      <td>0</td>\n",
       "      <td>0</td>\n",
       "      <td>0</td>\n",
       "      <td>0</td>\n",
       "    </tr>\n",
       "    <tr>\n",
       "      <th>1985</th>\n",
       "      <td>1</td>\n",
       "      <td>0</td>\n",
       "      <td>0</td>\n",
       "      <td>0</td>\n",
       "      <td>1</td>\n",
       "      <td>0</td>\n",
       "      <td>0</td>\n",
       "      <td>0</td>\n",
       "      <td>0</td>\n",
       "      <td>0</td>\n",
       "      <td>...</td>\n",
       "      <td>0</td>\n",
       "      <td>0</td>\n",
       "      <td>0</td>\n",
       "      <td>0</td>\n",
       "      <td>0</td>\n",
       "      <td>0</td>\n",
       "      <td>0</td>\n",
       "      <td>0</td>\n",
       "      <td>0</td>\n",
       "      <td>0</td>\n",
       "    </tr>\n",
       "    <tr>\n",
       "      <th>1986</th>\n",
       "      <td>2</td>\n",
       "      <td>0</td>\n",
       "      <td>0</td>\n",
       "      <td>0</td>\n",
       "      <td>0</td>\n",
       "      <td>0</td>\n",
       "      <td>0</td>\n",
       "      <td>0</td>\n",
       "      <td>0</td>\n",
       "      <td>0</td>\n",
       "      <td>...</td>\n",
       "      <td>0</td>\n",
       "      <td>0</td>\n",
       "      <td>0</td>\n",
       "      <td>0</td>\n",
       "      <td>0</td>\n",
       "      <td>0</td>\n",
       "      <td>0</td>\n",
       "      <td>0</td>\n",
       "      <td>0</td>\n",
       "      <td>0</td>\n",
       "    </tr>\n",
       "    <tr>\n",
       "      <th>1987</th>\n",
       "      <td>6</td>\n",
       "      <td>0</td>\n",
       "      <td>0</td>\n",
       "      <td>0</td>\n",
       "      <td>0</td>\n",
       "      <td>0</td>\n",
       "      <td>0</td>\n",
       "      <td>0</td>\n",
       "      <td>0</td>\n",
       "      <td>0</td>\n",
       "      <td>...</td>\n",
       "      <td>0</td>\n",
       "      <td>0</td>\n",
       "      <td>0</td>\n",
       "      <td>0</td>\n",
       "      <td>0</td>\n",
       "      <td>0</td>\n",
       "      <td>0</td>\n",
       "      <td>0</td>\n",
       "      <td>0</td>\n",
       "      <td>0</td>\n",
       "    </tr>\n",
       "    <tr>\n",
       "      <th>1988</th>\n",
       "      <td>2</td>\n",
       "      <td>0</td>\n",
       "      <td>0</td>\n",
       "      <td>0</td>\n",
       "      <td>0</td>\n",
       "      <td>1</td>\n",
       "      <td>0</td>\n",
       "      <td>0</td>\n",
       "      <td>0</td>\n",
       "      <td>0</td>\n",
       "      <td>...</td>\n",
       "      <td>0</td>\n",
       "      <td>0</td>\n",
       "      <td>0</td>\n",
       "      <td>0</td>\n",
       "      <td>0</td>\n",
       "      <td>0</td>\n",
       "      <td>0</td>\n",
       "      <td>0</td>\n",
       "      <td>0</td>\n",
       "      <td>0</td>\n",
       "    </tr>\n",
       "    <tr>\n",
       "      <th>1989</th>\n",
       "      <td>2</td>\n",
       "      <td>0</td>\n",
       "      <td>0</td>\n",
       "      <td>0</td>\n",
       "      <td>0</td>\n",
       "      <td>10</td>\n",
       "      <td>0</td>\n",
       "      <td>0</td>\n",
       "      <td>0</td>\n",
       "      <td>0</td>\n",
       "      <td>...</td>\n",
       "      <td>0</td>\n",
       "      <td>0</td>\n",
       "      <td>0</td>\n",
       "      <td>0</td>\n",
       "      <td>0</td>\n",
       "      <td>0</td>\n",
       "      <td>0</td>\n",
       "      <td>0</td>\n",
       "      <td>0</td>\n",
       "      <td>0</td>\n",
       "    </tr>\n",
       "    <tr>\n",
       "      <th>1990</th>\n",
       "      <td>0</td>\n",
       "      <td>0</td>\n",
       "      <td>0</td>\n",
       "      <td>0</td>\n",
       "      <td>0</td>\n",
       "      <td>3</td>\n",
       "      <td>0</td>\n",
       "      <td>0</td>\n",
       "      <td>1</td>\n",
       "      <td>0</td>\n",
       "      <td>...</td>\n",
       "      <td>0</td>\n",
       "      <td>0</td>\n",
       "      <td>4</td>\n",
       "      <td>0</td>\n",
       "      <td>0</td>\n",
       "      <td>0</td>\n",
       "      <td>0</td>\n",
       "      <td>0</td>\n",
       "      <td>0</td>\n",
       "      <td>0</td>\n",
       "    </tr>\n",
       "    <tr>\n",
       "      <th>1991</th>\n",
       "      <td>0</td>\n",
       "      <td>0</td>\n",
       "      <td>0</td>\n",
       "      <td>0</td>\n",
       "      <td>0</td>\n",
       "      <td>9</td>\n",
       "      <td>0</td>\n",
       "      <td>0</td>\n",
       "      <td>1</td>\n",
       "      <td>0</td>\n",
       "      <td>...</td>\n",
       "      <td>0</td>\n",
       "      <td>0</td>\n",
       "      <td>24</td>\n",
       "      <td>0</td>\n",
       "      <td>0</td>\n",
       "      <td>0</td>\n",
       "      <td>0</td>\n",
       "      <td>0</td>\n",
       "      <td>0</td>\n",
       "      <td>0</td>\n",
       "    </tr>\n",
       "    <tr>\n",
       "      <th>1992</th>\n",
       "      <td>0</td>\n",
       "      <td>0</td>\n",
       "      <td>0</td>\n",
       "      <td>0</td>\n",
       "      <td>0</td>\n",
       "      <td>7</td>\n",
       "      <td>0</td>\n",
       "      <td>0</td>\n",
       "      <td>6</td>\n",
       "      <td>1</td>\n",
       "      <td>...</td>\n",
       "      <td>0</td>\n",
       "      <td>0</td>\n",
       "      <td>21</td>\n",
       "      <td>0</td>\n",
       "      <td>0</td>\n",
       "      <td>0</td>\n",
       "      <td>0</td>\n",
       "      <td>0</td>\n",
       "      <td>0</td>\n",
       "      <td>0</td>\n",
       "    </tr>\n",
       "    <tr>\n",
       "      <th>1993</th>\n",
       "      <td>0</td>\n",
       "      <td>0</td>\n",
       "      <td>0</td>\n",
       "      <td>0</td>\n",
       "      <td>0</td>\n",
       "      <td>0</td>\n",
       "      <td>0</td>\n",
       "      <td>0</td>\n",
       "      <td>7</td>\n",
       "      <td>0</td>\n",
       "      <td>...</td>\n",
       "      <td>0</td>\n",
       "      <td>1</td>\n",
       "      <td>46</td>\n",
       "      <td>0</td>\n",
       "      <td>0</td>\n",
       "      <td>0</td>\n",
       "      <td>0</td>\n",
       "      <td>0</td>\n",
       "      <td>0</td>\n",
       "      <td>0</td>\n",
       "    </tr>\n",
       "    <tr>\n",
       "      <th>1994</th>\n",
       "      <td>0</td>\n",
       "      <td>1</td>\n",
       "      <td>0</td>\n",
       "      <td>0</td>\n",
       "      <td>0</td>\n",
       "      <td>3</td>\n",
       "      <td>0</td>\n",
       "      <td>0</td>\n",
       "      <td>12</td>\n",
       "      <td>0</td>\n",
       "      <td>...</td>\n",
       "      <td>19</td>\n",
       "      <td>5</td>\n",
       "      <td>53</td>\n",
       "      <td>0</td>\n",
       "      <td>0</td>\n",
       "      <td>0</td>\n",
       "      <td>0</td>\n",
       "      <td>0</td>\n",
       "      <td>0</td>\n",
       "      <td>0</td>\n",
       "    </tr>\n",
       "    <tr>\n",
       "      <th>1995</th>\n",
       "      <td>0</td>\n",
       "      <td>2</td>\n",
       "      <td>0</td>\n",
       "      <td>0</td>\n",
       "      <td>0</td>\n",
       "      <td>5</td>\n",
       "      <td>0</td>\n",
       "      <td>0</td>\n",
       "      <td>0</td>\n",
       "      <td>0</td>\n",
       "      <td>...</td>\n",
       "      <td>52</td>\n",
       "      <td>0</td>\n",
       "      <td>54</td>\n",
       "      <td>2</td>\n",
       "      <td>0</td>\n",
       "      <td>0</td>\n",
       "      <td>0</td>\n",
       "      <td>0</td>\n",
       "      <td>0</td>\n",
       "      <td>0</td>\n",
       "    </tr>\n",
       "    <tr>\n",
       "      <th>1996</th>\n",
       "      <td>0</td>\n",
       "      <td>0</td>\n",
       "      <td>0</td>\n",
       "      <td>0</td>\n",
       "      <td>0</td>\n",
       "      <td>6</td>\n",
       "      <td>0</td>\n",
       "      <td>0</td>\n",
       "      <td>0</td>\n",
       "      <td>0</td>\n",
       "      <td>...</td>\n",
       "      <td>38</td>\n",
       "      <td>0</td>\n",
       "      <td>30</td>\n",
       "      <td>0</td>\n",
       "      <td>0</td>\n",
       "      <td>0</td>\n",
       "      <td>0</td>\n",
       "      <td>0</td>\n",
       "      <td>0</td>\n",
       "      <td>0</td>\n",
       "    </tr>\n",
       "    <tr>\n",
       "      <th>1997</th>\n",
       "      <td>0</td>\n",
       "      <td>0</td>\n",
       "      <td>0</td>\n",
       "      <td>0</td>\n",
       "      <td>0</td>\n",
       "      <td>8</td>\n",
       "      <td>0</td>\n",
       "      <td>0</td>\n",
       "      <td>0</td>\n",
       "      <td>0</td>\n",
       "      <td>...</td>\n",
       "      <td>34</td>\n",
       "      <td>0</td>\n",
       "      <td>4</td>\n",
       "      <td>0</td>\n",
       "      <td>0</td>\n",
       "      <td>0</td>\n",
       "      <td>0</td>\n",
       "      <td>0</td>\n",
       "      <td>0</td>\n",
       "      <td>0</td>\n",
       "    </tr>\n",
       "    <tr>\n",
       "      <th>1998</th>\n",
       "      <td>0</td>\n",
       "      <td>0</td>\n",
       "      <td>0</td>\n",
       "      <td>7</td>\n",
       "      <td>0</td>\n",
       "      <td>8</td>\n",
       "      <td>0</td>\n",
       "      <td>0</td>\n",
       "      <td>0</td>\n",
       "      <td>0</td>\n",
       "      <td>...</td>\n",
       "      <td>29</td>\n",
       "      <td>0</td>\n",
       "      <td>2</td>\n",
       "      <td>0</td>\n",
       "      <td>0</td>\n",
       "      <td>0</td>\n",
       "      <td>0</td>\n",
       "      <td>0</td>\n",
       "      <td>0</td>\n",
       "      <td>0</td>\n",
       "    </tr>\n",
       "    <tr>\n",
       "      <th>1999</th>\n",
       "      <td>0</td>\n",
       "      <td>0</td>\n",
       "      <td>0</td>\n",
       "      <td>14</td>\n",
       "      <td>0</td>\n",
       "      <td>11</td>\n",
       "      <td>0</td>\n",
       "      <td>0</td>\n",
       "      <td>0</td>\n",
       "      <td>0</td>\n",
       "      <td>...</td>\n",
       "      <td>1</td>\n",
       "      <td>0</td>\n",
       "      <td>1</td>\n",
       "      <td>0</td>\n",
       "      <td>2</td>\n",
       "      <td>0</td>\n",
       "      <td>0</td>\n",
       "      <td>0</td>\n",
       "      <td>0</td>\n",
       "      <td>0</td>\n",
       "    </tr>\n",
       "    <tr>\n",
       "      <th>2000</th>\n",
       "      <td>0</td>\n",
       "      <td>0</td>\n",
       "      <td>0</td>\n",
       "      <td>20</td>\n",
       "      <td>0</td>\n",
       "      <td>17</td>\n",
       "      <td>1</td>\n",
       "      <td>0</td>\n",
       "      <td>0</td>\n",
       "      <td>0</td>\n",
       "      <td>...</td>\n",
       "      <td>0</td>\n",
       "      <td>0</td>\n",
       "      <td>0</td>\n",
       "      <td>0</td>\n",
       "      <td>2</td>\n",
       "      <td>0</td>\n",
       "      <td>0</td>\n",
       "      <td>0</td>\n",
       "      <td>1</td>\n",
       "      <td>0</td>\n",
       "    </tr>\n",
       "    <tr>\n",
       "      <th>2001</th>\n",
       "      <td>0</td>\n",
       "      <td>0</td>\n",
       "      <td>0</td>\n",
       "      <td>8</td>\n",
       "      <td>0</td>\n",
       "      <td>10</td>\n",
       "      <td>107</td>\n",
       "      <td>22</td>\n",
       "      <td>0</td>\n",
       "      <td>0</td>\n",
       "      <td>...</td>\n",
       "      <td>0</td>\n",
       "      <td>0</td>\n",
       "      <td>0</td>\n",
       "      <td>0</td>\n",
       "      <td>2</td>\n",
       "      <td>0</td>\n",
       "      <td>0</td>\n",
       "      <td>0</td>\n",
       "      <td>33</td>\n",
       "      <td>0</td>\n",
       "    </tr>\n",
       "    <tr>\n",
       "      <th>2002</th>\n",
       "      <td>0</td>\n",
       "      <td>0</td>\n",
       "      <td>0</td>\n",
       "      <td>1</td>\n",
       "      <td>0</td>\n",
       "      <td>0</td>\n",
       "      <td>198</td>\n",
       "      <td>152</td>\n",
       "      <td>0</td>\n",
       "      <td>0</td>\n",
       "      <td>...</td>\n",
       "      <td>0</td>\n",
       "      <td>0</td>\n",
       "      <td>0</td>\n",
       "      <td>0</td>\n",
       "      <td>0</td>\n",
       "      <td>0</td>\n",
       "      <td>0</td>\n",
       "      <td>0</td>\n",
       "      <td>159</td>\n",
       "      <td>0</td>\n",
       "    </tr>\n",
       "    <tr>\n",
       "      <th>2003</th>\n",
       "      <td>0</td>\n",
       "      <td>0</td>\n",
       "      <td>0</td>\n",
       "      <td>0</td>\n",
       "      <td>0</td>\n",
       "      <td>0</td>\n",
       "      <td>161</td>\n",
       "      <td>158</td>\n",
       "      <td>0</td>\n",
       "      <td>0</td>\n",
       "      <td>...</td>\n",
       "      <td>0</td>\n",
       "      <td>0</td>\n",
       "      <td>0</td>\n",
       "      <td>0</td>\n",
       "      <td>0</td>\n",
       "      <td>0</td>\n",
       "      <td>0</td>\n",
       "      <td>0</td>\n",
       "      <td>208</td>\n",
       "      <td>0</td>\n",
       "    </tr>\n",
       "    <tr>\n",
       "      <th>2004</th>\n",
       "      <td>0</td>\n",
       "      <td>0</td>\n",
       "      <td>0</td>\n",
       "      <td>0</td>\n",
       "      <td>23</td>\n",
       "      <td>0</td>\n",
       "      <td>175</td>\n",
       "      <td>83</td>\n",
       "      <td>0</td>\n",
       "      <td>0</td>\n",
       "      <td>...</td>\n",
       "      <td>0</td>\n",
       "      <td>0</td>\n",
       "      <td>0</td>\n",
       "      <td>0</td>\n",
       "      <td>0</td>\n",
       "      <td>0</td>\n",
       "      <td>0</td>\n",
       "      <td>0</td>\n",
       "      <td>177</td>\n",
       "      <td>0</td>\n",
       "    </tr>\n",
       "    <tr>\n",
       "      <th>2005</th>\n",
       "      <td>0</td>\n",
       "      <td>0</td>\n",
       "      <td>0</td>\n",
       "      <td>0</td>\n",
       "      <td>118</td>\n",
       "      <td>0</td>\n",
       "      <td>135</td>\n",
       "      <td>97</td>\n",
       "      <td>0</td>\n",
       "      <td>0</td>\n",
       "      <td>...</td>\n",
       "      <td>0</td>\n",
       "      <td>0</td>\n",
       "      <td>0</td>\n",
       "      <td>0</td>\n",
       "      <td>0</td>\n",
       "      <td>0</td>\n",
       "      <td>0</td>\n",
       "      <td>18</td>\n",
       "      <td>180</td>\n",
       "      <td>0</td>\n",
       "    </tr>\n",
       "    <tr>\n",
       "      <th>2006</th>\n",
       "      <td>0</td>\n",
       "      <td>0</td>\n",
       "      <td>0</td>\n",
       "      <td>0</td>\n",
       "      <td>201</td>\n",
       "      <td>0</td>\n",
       "      <td>39</td>\n",
       "      <td>40</td>\n",
       "      <td>0</td>\n",
       "      <td>0</td>\n",
       "      <td>...</td>\n",
       "      <td>0</td>\n",
       "      <td>0</td>\n",
       "      <td>0</td>\n",
       "      <td>0</td>\n",
       "      <td>0</td>\n",
       "      <td>44</td>\n",
       "      <td>0</td>\n",
       "      <td>93</td>\n",
       "      <td>62</td>\n",
       "      <td>0</td>\n",
       "    </tr>\n",
       "    <tr>\n",
       "      <th>2007</th>\n",
       "      <td>0</td>\n",
       "      <td>0</td>\n",
       "      <td>0</td>\n",
       "      <td>1</td>\n",
       "      <td>376</td>\n",
       "      <td>0</td>\n",
       "      <td>6</td>\n",
       "      <td>4</td>\n",
       "      <td>0</td>\n",
       "      <td>0</td>\n",
       "      <td>...</td>\n",
       "      <td>0</td>\n",
       "      <td>0</td>\n",
       "      <td>0</td>\n",
       "      <td>0</td>\n",
       "      <td>0</td>\n",
       "      <td>185</td>\n",
       "      <td>0</td>\n",
       "      <td>124</td>\n",
       "      <td>3</td>\n",
       "      <td>0</td>\n",
       "    </tr>\n",
       "    <tr>\n",
       "      <th>2008</th>\n",
       "      <td>0</td>\n",
       "      <td>0</td>\n",
       "      <td>0</td>\n",
       "      <td>1</td>\n",
       "      <td>522</td>\n",
       "      <td>0</td>\n",
       "      <td>0</td>\n",
       "      <td>0</td>\n",
       "      <td>0</td>\n",
       "      <td>0</td>\n",
       "      <td>...</td>\n",
       "      <td>0</td>\n",
       "      <td>0</td>\n",
       "      <td>0</td>\n",
       "      <td>0</td>\n",
       "      <td>0</td>\n",
       "      <td>316</td>\n",
       "      <td>0</td>\n",
       "      <td>146</td>\n",
       "      <td>1</td>\n",
       "      <td>0</td>\n",
       "    </tr>\n",
       "    <tr>\n",
       "      <th>2009</th>\n",
       "      <td>0</td>\n",
       "      <td>0</td>\n",
       "      <td>0</td>\n",
       "      <td>0</td>\n",
       "      <td>403</td>\n",
       "      <td>0</td>\n",
       "      <td>0</td>\n",
       "      <td>0</td>\n",
       "      <td>0</td>\n",
       "      <td>0</td>\n",
       "      <td>...</td>\n",
       "      <td>0</td>\n",
       "      <td>0</td>\n",
       "      <td>0</td>\n",
       "      <td>0</td>\n",
       "      <td>0</td>\n",
       "      <td>325</td>\n",
       "      <td>0</td>\n",
       "      <td>200</td>\n",
       "      <td>0</td>\n",
       "      <td>0</td>\n",
       "    </tr>\n",
       "    <tr>\n",
       "      <th>2010</th>\n",
       "      <td>0</td>\n",
       "      <td>0</td>\n",
       "      <td>0</td>\n",
       "      <td>0</td>\n",
       "      <td>323</td>\n",
       "      <td>0</td>\n",
       "      <td>0</td>\n",
       "      <td>0</td>\n",
       "      <td>0</td>\n",
       "      <td>0</td>\n",
       "      <td>...</td>\n",
       "      <td>0</td>\n",
       "      <td>0</td>\n",
       "      <td>0</td>\n",
       "      <td>0</td>\n",
       "      <td>0</td>\n",
       "      <td>253</td>\n",
       "      <td>0</td>\n",
       "      <td>182</td>\n",
       "      <td>0</td>\n",
       "      <td>0</td>\n",
       "    </tr>\n",
       "    <tr>\n",
       "      <th>2011</th>\n",
       "      <td>0</td>\n",
       "      <td>0</td>\n",
       "      <td>116</td>\n",
       "      <td>0</td>\n",
       "      <td>153</td>\n",
       "      <td>0</td>\n",
       "      <td>0</td>\n",
       "      <td>0</td>\n",
       "      <td>0</td>\n",
       "      <td>0</td>\n",
       "      <td>...</td>\n",
       "      <td>0</td>\n",
       "      <td>0</td>\n",
       "      <td>0</td>\n",
       "      <td>0</td>\n",
       "      <td>0</td>\n",
       "      <td>143</td>\n",
       "      <td>0</td>\n",
       "      <td>207</td>\n",
       "      <td>0</td>\n",
       "      <td>0</td>\n",
       "    </tr>\n",
       "    <tr>\n",
       "      <th>2012</th>\n",
       "      <td>0</td>\n",
       "      <td>0</td>\n",
       "      <td>93</td>\n",
       "      <td>0</td>\n",
       "      <td>23</td>\n",
       "      <td>0</td>\n",
       "      <td>0</td>\n",
       "      <td>0</td>\n",
       "      <td>0</td>\n",
       "      <td>0</td>\n",
       "      <td>...</td>\n",
       "      <td>0</td>\n",
       "      <td>0</td>\n",
       "      <td>0</td>\n",
       "      <td>0</td>\n",
       "      <td>0</td>\n",
       "      <td>31</td>\n",
       "      <td>32</td>\n",
       "      <td>106</td>\n",
       "      <td>0</td>\n",
       "      <td>0</td>\n",
       "    </tr>\n",
       "    <tr>\n",
       "      <th>2013</th>\n",
       "      <td>0</td>\n",
       "      <td>0</td>\n",
       "      <td>99</td>\n",
       "      <td>0</td>\n",
       "      <td>8</td>\n",
       "      <td>0</td>\n",
       "      <td>0</td>\n",
       "      <td>0</td>\n",
       "      <td>0</td>\n",
       "      <td>0</td>\n",
       "      <td>...</td>\n",
       "      <td>0</td>\n",
       "      <td>0</td>\n",
       "      <td>0</td>\n",
       "      <td>0</td>\n",
       "      <td>0</td>\n",
       "      <td>12</td>\n",
       "      <td>42</td>\n",
       "      <td>75</td>\n",
       "      <td>0</td>\n",
       "      <td>19</td>\n",
       "    </tr>\n",
       "    <tr>\n",
       "      <th>2014</th>\n",
       "      <td>0</td>\n",
       "      <td>0</td>\n",
       "      <td>80</td>\n",
       "      <td>0</td>\n",
       "      <td>0</td>\n",
       "      <td>0</td>\n",
       "      <td>0</td>\n",
       "      <td>0</td>\n",
       "      <td>0</td>\n",
       "      <td>0</td>\n",
       "      <td>...</td>\n",
       "      <td>0</td>\n",
       "      <td>0</td>\n",
       "      <td>0</td>\n",
       "      <td>0</td>\n",
       "      <td>0</td>\n",
       "      <td>6</td>\n",
       "      <td>31</td>\n",
       "      <td>63</td>\n",
       "      <td>0</td>\n",
       "      <td>61</td>\n",
       "    </tr>\n",
       "    <tr>\n",
       "      <th>2015</th>\n",
       "      <td>0</td>\n",
       "      <td>0</td>\n",
       "      <td>86</td>\n",
       "      <td>0</td>\n",
       "      <td>0</td>\n",
       "      <td>0</td>\n",
       "      <td>0</td>\n",
       "      <td>0</td>\n",
       "      <td>0</td>\n",
       "      <td>0</td>\n",
       "      <td>...</td>\n",
       "      <td>0</td>\n",
       "      <td>0</td>\n",
       "      <td>0</td>\n",
       "      <td>0</td>\n",
       "      <td>0</td>\n",
       "      <td>4</td>\n",
       "      <td>28</td>\n",
       "      <td>35</td>\n",
       "      <td>0</td>\n",
       "      <td>80</td>\n",
       "    </tr>\n",
       "    <tr>\n",
       "      <th>2016</th>\n",
       "      <td>0</td>\n",
       "      <td>0</td>\n",
       "      <td>46</td>\n",
       "      <td>0</td>\n",
       "      <td>0</td>\n",
       "      <td>0</td>\n",
       "      <td>0</td>\n",
       "      <td>0</td>\n",
       "      <td>0</td>\n",
       "      <td>0</td>\n",
       "      <td>...</td>\n",
       "      <td>0</td>\n",
       "      <td>0</td>\n",
       "      <td>0</td>\n",
       "      <td>0</td>\n",
       "      <td>0</td>\n",
       "      <td>1</td>\n",
       "      <td>14</td>\n",
       "      <td>13</td>\n",
       "      <td>0</td>\n",
       "      <td>87</td>\n",
       "    </tr>\n",
       "  </tbody>\n",
       "</table>\n",
       "<p>37 rows × 31 columns</p>\n",
       "</div>"
      ],
      "text/plain": [
       "platform         2600  3DO  3DS  DC   DS  GB  GBA   GC  GEN  GG  ...  SAT  \\\n",
       "year_of_release                                                  ...        \n",
       "1980                9    0    0   0    0   0    0    0    0   0  ...    0   \n",
       "1981               46    0    0   0    0   0    0    0    0   0  ...    0   \n",
       "1982               53    0    0   0    0   0    0    0    0   0  ...    0   \n",
       "1983               11    0    0   0    0   0    0    0    0   0  ...    0   \n",
       "1984                1    0    0   0    0   0    0    0    0   0  ...    0   \n",
       "1985                1    0    0   0    1   0    0    0    0   0  ...    0   \n",
       "1986                2    0    0   0    0   0    0    0    0   0  ...    0   \n",
       "1987                6    0    0   0    0   0    0    0    0   0  ...    0   \n",
       "1988                2    0    0   0    0   1    0    0    0   0  ...    0   \n",
       "1989                2    0    0   0    0  10    0    0    0   0  ...    0   \n",
       "1990                0    0    0   0    0   3    0    0    1   0  ...    0   \n",
       "1991                0    0    0   0    0   9    0    0    1   0  ...    0   \n",
       "1992                0    0    0   0    0   7    0    0    6   1  ...    0   \n",
       "1993                0    0    0   0    0   0    0    0    7   0  ...    0   \n",
       "1994                0    1    0   0    0   3    0    0   12   0  ...   19   \n",
       "1995                0    2    0   0    0   5    0    0    0   0  ...   52   \n",
       "1996                0    0    0   0    0   6    0    0    0   0  ...   38   \n",
       "1997                0    0    0   0    0   8    0    0    0   0  ...   34   \n",
       "1998                0    0    0   7    0   8    0    0    0   0  ...   29   \n",
       "1999                0    0    0  14    0  11    0    0    0   0  ...    1   \n",
       "2000                0    0    0  20    0  17    1    0    0   0  ...    0   \n",
       "2001                0    0    0   8    0  10  107   22    0   0  ...    0   \n",
       "2002                0    0    0   1    0   0  198  152    0   0  ...    0   \n",
       "2003                0    0    0   0    0   0  161  158    0   0  ...    0   \n",
       "2004                0    0    0   0   23   0  175   83    0   0  ...    0   \n",
       "2005                0    0    0   0  118   0  135   97    0   0  ...    0   \n",
       "2006                0    0    0   0  201   0   39   40    0   0  ...    0   \n",
       "2007                0    0    0   1  376   0    6    4    0   0  ...    0   \n",
       "2008                0    0    0   1  522   0    0    0    0   0  ...    0   \n",
       "2009                0    0    0   0  403   0    0    0    0   0  ...    0   \n",
       "2010                0    0    0   0  323   0    0    0    0   0  ...    0   \n",
       "2011                0    0  116   0  153   0    0    0    0   0  ...    0   \n",
       "2012                0    0   93   0   23   0    0    0    0   0  ...    0   \n",
       "2013                0    0   99   0    8   0    0    0    0   0  ...    0   \n",
       "2014                0    0   80   0    0   0    0    0    0   0  ...    0   \n",
       "2015                0    0   86   0    0   0    0    0    0   0  ...    0   \n",
       "2016                0    0   46   0    0   0    0    0    0   0  ...    0   \n",
       "\n",
       "platform         SCD  SNES  TG16  WS  Wii  WiiU  X360   XB  XOne  \n",
       "year_of_release                                                   \n",
       "1980               0     0     0   0    0     0     0    0     0  \n",
       "1981               0     0     0   0    0     0     0    0     0  \n",
       "1982               0     0     0   0    0     0     0    0     0  \n",
       "1983               0     0     0   0    0     0     0    0     0  \n",
       "1984               0     0     0   0    0     0     0    0     0  \n",
       "1985               0     0     0   0    0     0     0    0     0  \n",
       "1986               0     0     0   0    0     0     0    0     0  \n",
       "1987               0     0     0   0    0     0     0    0     0  \n",
       "1988               0     0     0   0    0     0     0    0     0  \n",
       "1989               0     0     0   0    0     0     0    0     0  \n",
       "1990               0     4     0   0    0     0     0    0     0  \n",
       "1991               0    24     0   0    0     0     0    0     0  \n",
       "1992               0    21     0   0    0     0     0    0     0  \n",
       "1993               1    46     0   0    0     0     0    0     0  \n",
       "1994               5    53     0   0    0     0     0    0     0  \n",
       "1995               0    54     2   0    0     0     0    0     0  \n",
       "1996               0    30     0   0    0     0     0    0     0  \n",
       "1997               0     4     0   0    0     0     0    0     0  \n",
       "1998               0     2     0   0    0     0     0    0     0  \n",
       "1999               0     1     0   2    0     0     0    0     0  \n",
       "2000               0     0     0   2    0     0     0    1     0  \n",
       "2001               0     0     0   2    0     0     0   33     0  \n",
       "2002               0     0     0   0    0     0     0  159     0  \n",
       "2003               0     0     0   0    0     0     0  208     0  \n",
       "2004               0     0     0   0    0     0     0  177     0  \n",
       "2005               0     0     0   0    0     0    18  180     0  \n",
       "2006               0     0     0   0   44     0    93   62     0  \n",
       "2007               0     0     0   0  185     0   124    3     0  \n",
       "2008               0     0     0   0  316     0   146    1     0  \n",
       "2009               0     0     0   0  325     0   200    0     0  \n",
       "2010               0     0     0   0  253     0   182    0     0  \n",
       "2011               0     0     0   0  143     0   207    0     0  \n",
       "2012               0     0     0   0   31    32   106    0     0  \n",
       "2013               0     0     0   0   12    42    75    0    19  \n",
       "2014               0     0     0   0    6    31    63    0    61  \n",
       "2015               0     0     0   0    4    28    35    0    80  \n",
       "2016               0     0     0   0    1    14    13    0    87  \n",
       "\n",
       "[37 rows x 31 columns]"
      ]
     },
     "execution_count": 37,
     "metadata": {},
     "output_type": "execute_result"
    }
   ],
   "source": [
    "release_of_year"
   ]
  },
  {
   "cell_type": "markdown",
   "metadata": {},
   "source": [
    "Построим график по суммарным продажам по годам."
   ]
  },
  {
   "cell_type": "code",
   "execution_count": 38,
   "metadata": {
    "scrolled": true
   },
   "outputs": [
    {
     "data": {
      "text/plain": [
       "<AxesSubplot:title={'center':'Releases per year'}, xlabel='Year', ylabel='Releases'>"
      ]
     },
     "execution_count": 38,
     "metadata": {},
     "output_type": "execute_result"
    },
    {
     "data": {
      "image/png": "[encoded data removed]",
      "text/plain": [
       "<Figure size 864x432 with 1 Axes>"
      ]
     },
     "metadata": {
      "needs_background": "light"
     },
     "output_type": "display_data"
    }
   ],
   "source": [
    "release_of_year.sum(axis=1).plot(\n",
    "    kind='bar', \n",
    "    title='Releases per year', \n",
    "    ylabel='Releases', \n",
    "    xlabel='Year', \n",
    "    figsize=(12, 6)\n",
    ")"
   ]
  },
  {
   "cell_type": "markdown",
   "metadata": {},
   "source": [
    "На графике видно как развивалась игровая индустрия. В первые десять лет мы видим что развития практически не было, выпускалось по 20-30 игр в год. Затем, в 1993 начался подъём и уже через пять лет количество игр увеличилось в 4 раза и к 2000 году составлял 400 игр в год. За следующие 5 лет количество выпускаемых игр увеличилось в двое и в среднем составляло 800 релизов в год к 2005 году. Пик развития приходится на 2008 год, когда на рынок вышло 1524 игры. После чего в индустрии наблюдается спад и уже в 2012 году количество релизов опускается до 600 в год, ниже уровня 2005 года. Скорее всего дальше на графике будет период стагнации.\n",
    "\n",
    "Отбросим данные до 1994 года поскольку данный период уже не актуален. Так же очистим таблицу от платформ популярных в ранние года и ныне не актуальны."
   ]
  },
  {
   "cell_type": "code",
   "execution_count": 39,
   "metadata": {},
   "outputs": [
    {
     "data": {
      "text/html": [
       "<div>\n",
       "<style scoped>\n",
       "    .dataframe tbody tr th:only-of-type {\n",
       "        vertical-align: middle;\n",
       "    }\n",
       "\n",
       "    .dataframe tbody tr th {\n",
       "        vertical-align: top;\n",
       "    }\n",
       "\n",
       "    .dataframe thead th {\n",
       "        text-align: right;\n",
       "    }\n",
       "</style>\n",
       "<table border=\"1\" class=\"dataframe\">\n",
       "  <thead>\n",
       "    <tr style=\"text-align: right;\">\n",
       "      <th>platform</th>\n",
       "      <th>3DS</th>\n",
       "      <th>DS</th>\n",
       "      <th>GBA</th>\n",
       "      <th>GC</th>\n",
       "      <th>N64</th>\n",
       "      <th>PC</th>\n",
       "      <th>PS</th>\n",
       "      <th>PS2</th>\n",
       "      <th>PS3</th>\n",
       "      <th>PS4</th>\n",
       "      <th>PSP</th>\n",
       "      <th>PSV</th>\n",
       "      <th>SAT</th>\n",
       "      <th>SNES</th>\n",
       "      <th>Wii</th>\n",
       "      <th>WiiU</th>\n",
       "      <th>X360</th>\n",
       "      <th>XB</th>\n",
       "      <th>XOne</th>\n",
       "    </tr>\n",
       "    <tr>\n",
       "      <th>year_of_release</th>\n",
       "      <th></th>\n",
       "      <th></th>\n",
       "      <th></th>\n",
       "      <th></th>\n",
       "      <th></th>\n",
       "      <th></th>\n",
       "      <th></th>\n",
       "      <th></th>\n",
       "      <th></th>\n",
       "      <th></th>\n",
       "      <th></th>\n",
       "      <th></th>\n",
       "      <th></th>\n",
       "      <th></th>\n",
       "      <th></th>\n",
       "      <th></th>\n",
       "      <th></th>\n",
       "      <th></th>\n",
       "      <th></th>\n",
       "    </tr>\n",
       "  </thead>\n",
       "  <tbody>\n",
       "    <tr>\n",
       "      <th>1994</th>\n",
       "      <td>0</td>\n",
       "      <td>0</td>\n",
       "      <td>0</td>\n",
       "      <td>0</td>\n",
       "      <td>0</td>\n",
       "      <td>6</td>\n",
       "      <td>17</td>\n",
       "      <td>0</td>\n",
       "      <td>0</td>\n",
       "      <td>0</td>\n",
       "      <td>0</td>\n",
       "      <td>0</td>\n",
       "      <td>19</td>\n",
       "      <td>53</td>\n",
       "      <td>0</td>\n",
       "      <td>0</td>\n",
       "      <td>0</td>\n",
       "      <td>0</td>\n",
       "      <td>0</td>\n",
       "    </tr>\n",
       "    <tr>\n",
       "      <th>1995</th>\n",
       "      <td>0</td>\n",
       "      <td>0</td>\n",
       "      <td>0</td>\n",
       "      <td>0</td>\n",
       "      <td>0</td>\n",
       "      <td>2</td>\n",
       "      <td>99</td>\n",
       "      <td>0</td>\n",
       "      <td>0</td>\n",
       "      <td>0</td>\n",
       "      <td>0</td>\n",
       "      <td>0</td>\n",
       "      <td>52</td>\n",
       "      <td>54</td>\n",
       "      <td>0</td>\n",
       "      <td>0</td>\n",
       "      <td>0</td>\n",
       "      <td>0</td>\n",
       "      <td>0</td>\n",
       "    </tr>\n",
       "    <tr>\n",
       "      <th>1996</th>\n",
       "      <td>0</td>\n",
       "      <td>0</td>\n",
       "      <td>0</td>\n",
       "      <td>0</td>\n",
       "      <td>18</td>\n",
       "      <td>4</td>\n",
       "      <td>164</td>\n",
       "      <td>0</td>\n",
       "      <td>0</td>\n",
       "      <td>0</td>\n",
       "      <td>0</td>\n",
       "      <td>0</td>\n",
       "      <td>38</td>\n",
       "      <td>30</td>\n",
       "      <td>0</td>\n",
       "      <td>0</td>\n",
       "      <td>0</td>\n",
       "      <td>0</td>\n",
       "      <td>0</td>\n",
       "    </tr>\n",
       "    <tr>\n",
       "      <th>1997</th>\n",
       "      <td>0</td>\n",
       "      <td>0</td>\n",
       "      <td>0</td>\n",
       "      <td>0</td>\n",
       "      <td>49</td>\n",
       "      <td>6</td>\n",
       "      <td>188</td>\n",
       "      <td>0</td>\n",
       "      <td>0</td>\n",
       "      <td>0</td>\n",
       "      <td>0</td>\n",
       "      <td>0</td>\n",
       "      <td>34</td>\n",
       "      <td>4</td>\n",
       "      <td>0</td>\n",
       "      <td>0</td>\n",
       "      <td>0</td>\n",
       "      <td>0</td>\n",
       "      <td>0</td>\n",
       "    </tr>\n",
       "    <tr>\n",
       "      <th>1998</th>\n",
       "      <td>0</td>\n",
       "      <td>0</td>\n",
       "      <td>0</td>\n",
       "      <td>0</td>\n",
       "      <td>80</td>\n",
       "      <td>8</td>\n",
       "      <td>255</td>\n",
       "      <td>0</td>\n",
       "      <td>0</td>\n",
       "      <td>0</td>\n",
       "      <td>0</td>\n",
       "      <td>0</td>\n",
       "      <td>29</td>\n",
       "      <td>2</td>\n",
       "      <td>0</td>\n",
       "      <td>0</td>\n",
       "      <td>0</td>\n",
       "      <td>0</td>\n",
       "      <td>0</td>\n",
       "    </tr>\n",
       "    <tr>\n",
       "      <th>1999</th>\n",
       "      <td>0</td>\n",
       "      <td>0</td>\n",
       "      <td>0</td>\n",
       "      <td>0</td>\n",
       "      <td>102</td>\n",
       "      <td>7</td>\n",
       "      <td>200</td>\n",
       "      <td>0</td>\n",
       "      <td>0</td>\n",
       "      <td>0</td>\n",
       "      <td>0</td>\n",
       "      <td>0</td>\n",
       "      <td>1</td>\n",
       "      <td>1</td>\n",
       "      <td>0</td>\n",
       "      <td>0</td>\n",
       "      <td>0</td>\n",
       "      <td>0</td>\n",
       "      <td>0</td>\n",
       "    </tr>\n",
       "    <tr>\n",
       "      <th>2000</th>\n",
       "      <td>0</td>\n",
       "      <td>0</td>\n",
       "      <td>1</td>\n",
       "      <td>0</td>\n",
       "      <td>60</td>\n",
       "      <td>7</td>\n",
       "      <td>160</td>\n",
       "      <td>82</td>\n",
       "      <td>0</td>\n",
       "      <td>0</td>\n",
       "      <td>0</td>\n",
       "      <td>0</td>\n",
       "      <td>0</td>\n",
       "      <td>0</td>\n",
       "      <td>0</td>\n",
       "      <td>0</td>\n",
       "      <td>0</td>\n",
       "      <td>1</td>\n",
       "      <td>0</td>\n",
       "    </tr>\n",
       "    <tr>\n",
       "      <th>2001</th>\n",
       "      <td>0</td>\n",
       "      <td>0</td>\n",
       "      <td>107</td>\n",
       "      <td>22</td>\n",
       "      <td>9</td>\n",
       "      <td>15</td>\n",
       "      <td>91</td>\n",
       "      <td>185</td>\n",
       "      <td>0</td>\n",
       "      <td>0</td>\n",
       "      <td>0</td>\n",
       "      <td>0</td>\n",
       "      <td>0</td>\n",
       "      <td>0</td>\n",
       "      <td>0</td>\n",
       "      <td>0</td>\n",
       "      <td>0</td>\n",
       "      <td>33</td>\n",
       "      <td>0</td>\n",
       "    </tr>\n",
       "    <tr>\n",
       "      <th>2002</th>\n",
       "      <td>0</td>\n",
       "      <td>0</td>\n",
       "      <td>198</td>\n",
       "      <td>152</td>\n",
       "      <td>1</td>\n",
       "      <td>19</td>\n",
       "      <td>20</td>\n",
       "      <td>280</td>\n",
       "      <td>0</td>\n",
       "      <td>0</td>\n",
       "      <td>0</td>\n",
       "      <td>0</td>\n",
       "      <td>0</td>\n",
       "      <td>0</td>\n",
       "      <td>0</td>\n",
       "      <td>0</td>\n",
       "      <td>0</td>\n",
       "      <td>159</td>\n",
       "      <td>0</td>\n",
       "    </tr>\n",
       "    <tr>\n",
       "      <th>2003</th>\n",
       "      <td>0</td>\n",
       "      <td>0</td>\n",
       "      <td>161</td>\n",
       "      <td>158</td>\n",
       "      <td>0</td>\n",
       "      <td>33</td>\n",
       "      <td>3</td>\n",
       "      <td>258</td>\n",
       "      <td>0</td>\n",
       "      <td>0</td>\n",
       "      <td>0</td>\n",
       "      <td>0</td>\n",
       "      <td>0</td>\n",
       "      <td>0</td>\n",
       "      <td>0</td>\n",
       "      <td>0</td>\n",
       "      <td>0</td>\n",
       "      <td>208</td>\n",
       "      <td>0</td>\n",
       "    </tr>\n",
       "    <tr>\n",
       "      <th>2004</th>\n",
       "      <td>0</td>\n",
       "      <td>23</td>\n",
       "      <td>175</td>\n",
       "      <td>83</td>\n",
       "      <td>0</td>\n",
       "      <td>30</td>\n",
       "      <td>0</td>\n",
       "      <td>288</td>\n",
       "      <td>0</td>\n",
       "      <td>0</td>\n",
       "      <td>15</td>\n",
       "      <td>0</td>\n",
       "      <td>0</td>\n",
       "      <td>0</td>\n",
       "      <td>0</td>\n",
       "      <td>0</td>\n",
       "      <td>0</td>\n",
       "      <td>177</td>\n",
       "      <td>0</td>\n",
       "    </tr>\n",
       "    <tr>\n",
       "      <th>2005</th>\n",
       "      <td>0</td>\n",
       "      <td>118</td>\n",
       "      <td>135</td>\n",
       "      <td>97</td>\n",
       "      <td>0</td>\n",
       "      <td>37</td>\n",
       "      <td>0</td>\n",
       "      <td>261</td>\n",
       "      <td>0</td>\n",
       "      <td>0</td>\n",
       "      <td>95</td>\n",
       "      <td>0</td>\n",
       "      <td>0</td>\n",
       "      <td>0</td>\n",
       "      <td>0</td>\n",
       "      <td>0</td>\n",
       "      <td>18</td>\n",
       "      <td>180</td>\n",
       "      <td>0</td>\n",
       "    </tr>\n",
       "    <tr>\n",
       "      <th>2006</th>\n",
       "      <td>0</td>\n",
       "      <td>201</td>\n",
       "      <td>39</td>\n",
       "      <td>40</td>\n",
       "      <td>0</td>\n",
       "      <td>52</td>\n",
       "      <td>0</td>\n",
       "      <td>261</td>\n",
       "      <td>27</td>\n",
       "      <td>0</td>\n",
       "      <td>189</td>\n",
       "      <td>0</td>\n",
       "      <td>0</td>\n",
       "      <td>0</td>\n",
       "      <td>44</td>\n",
       "      <td>0</td>\n",
       "      <td>93</td>\n",
       "      <td>62</td>\n",
       "      <td>0</td>\n",
       "    </tr>\n",
       "    <tr>\n",
       "      <th>2007</th>\n",
       "      <td>0</td>\n",
       "      <td>376</td>\n",
       "      <td>6</td>\n",
       "      <td>4</td>\n",
       "      <td>0</td>\n",
       "      <td>62</td>\n",
       "      <td>0</td>\n",
       "      <td>214</td>\n",
       "      <td>90</td>\n",
       "      <td>0</td>\n",
       "      <td>133</td>\n",
       "      <td>0</td>\n",
       "      <td>0</td>\n",
       "      <td>0</td>\n",
       "      <td>185</td>\n",
       "      <td>0</td>\n",
       "      <td>124</td>\n",
       "      <td>3</td>\n",
       "      <td>0</td>\n",
       "    </tr>\n",
       "    <tr>\n",
       "      <th>2008</th>\n",
       "      <td>0</td>\n",
       "      <td>522</td>\n",
       "      <td>0</td>\n",
       "      <td>0</td>\n",
       "      <td>0</td>\n",
       "      <td>93</td>\n",
       "      <td>0</td>\n",
       "      <td>191</td>\n",
       "      <td>138</td>\n",
       "      <td>0</td>\n",
       "      <td>116</td>\n",
       "      <td>0</td>\n",
       "      <td>0</td>\n",
       "      <td>0</td>\n",
       "      <td>316</td>\n",
       "      <td>0</td>\n",
       "      <td>146</td>\n",
       "      <td>1</td>\n",
       "      <td>0</td>\n",
       "    </tr>\n",
       "    <tr>\n",
       "      <th>2009</th>\n",
       "      <td>0</td>\n",
       "      <td>403</td>\n",
       "      <td>0</td>\n",
       "      <td>0</td>\n",
       "      <td>0</td>\n",
       "      <td>107</td>\n",
       "      <td>0</td>\n",
       "      <td>96</td>\n",
       "      <td>162</td>\n",
       "      <td>0</td>\n",
       "      <td>161</td>\n",
       "      <td>0</td>\n",
       "      <td>0</td>\n",
       "      <td>0</td>\n",
       "      <td>325</td>\n",
       "      <td>0</td>\n",
       "      <td>200</td>\n",
       "      <td>0</td>\n",
       "      <td>0</td>\n",
       "    </tr>\n",
       "    <tr>\n",
       "      <th>2010</th>\n",
       "      <td>0</td>\n",
       "      <td>323</td>\n",
       "      <td>0</td>\n",
       "      <td>0</td>\n",
       "      <td>0</td>\n",
       "      <td>90</td>\n",
       "      <td>0</td>\n",
       "      <td>38</td>\n",
       "      <td>206</td>\n",
       "      <td>0</td>\n",
       "      <td>188</td>\n",
       "      <td>0</td>\n",
       "      <td>0</td>\n",
       "      <td>0</td>\n",
       "      <td>253</td>\n",
       "      <td>0</td>\n",
       "      <td>182</td>\n",
       "      <td>0</td>\n",
       "      <td>0</td>\n",
       "    </tr>\n",
       "    <tr>\n",
       "      <th>2011</th>\n",
       "      <td>116</td>\n",
       "      <td>153</td>\n",
       "      <td>0</td>\n",
       "      <td>0</td>\n",
       "      <td>0</td>\n",
       "      <td>139</td>\n",
       "      <td>0</td>\n",
       "      <td>7</td>\n",
       "      <td>215</td>\n",
       "      <td>0</td>\n",
       "      <td>139</td>\n",
       "      <td>18</td>\n",
       "      <td>0</td>\n",
       "      <td>0</td>\n",
       "      <td>143</td>\n",
       "      <td>0</td>\n",
       "      <td>207</td>\n",
       "      <td>0</td>\n",
       "      <td>0</td>\n",
       "    </tr>\n",
       "    <tr>\n",
       "      <th>2012</th>\n",
       "      <td>93</td>\n",
       "      <td>23</td>\n",
       "      <td>0</td>\n",
       "      <td>0</td>\n",
       "      <td>0</td>\n",
       "      <td>61</td>\n",
       "      <td>0</td>\n",
       "      <td>0</td>\n",
       "      <td>148</td>\n",
       "      <td>0</td>\n",
       "      <td>106</td>\n",
       "      <td>53</td>\n",
       "      <td>0</td>\n",
       "      <td>0</td>\n",
       "      <td>31</td>\n",
       "      <td>32</td>\n",
       "      <td>106</td>\n",
       "      <td>0</td>\n",
       "      <td>0</td>\n",
       "    </tr>\n",
       "    <tr>\n",
       "      <th>2013</th>\n",
       "      <td>99</td>\n",
       "      <td>8</td>\n",
       "      <td>0</td>\n",
       "      <td>0</td>\n",
       "      <td>0</td>\n",
       "      <td>38</td>\n",
       "      <td>0</td>\n",
       "      <td>0</td>\n",
       "      <td>126</td>\n",
       "      <td>16</td>\n",
       "      <td>54</td>\n",
       "      <td>63</td>\n",
       "      <td>0</td>\n",
       "      <td>0</td>\n",
       "      <td>12</td>\n",
       "      <td>42</td>\n",
       "      <td>75</td>\n",
       "      <td>0</td>\n",
       "      <td>19</td>\n",
       "    </tr>\n",
       "    <tr>\n",
       "      <th>2014</th>\n",
       "      <td>80</td>\n",
       "      <td>0</td>\n",
       "      <td>0</td>\n",
       "      <td>0</td>\n",
       "      <td>0</td>\n",
       "      <td>47</td>\n",
       "      <td>0</td>\n",
       "      <td>0</td>\n",
       "      <td>108</td>\n",
       "      <td>75</td>\n",
       "      <td>10</td>\n",
       "      <td>101</td>\n",
       "      <td>0</td>\n",
       "      <td>0</td>\n",
       "      <td>6</td>\n",
       "      <td>31</td>\n",
       "      <td>63</td>\n",
       "      <td>0</td>\n",
       "      <td>61</td>\n",
       "    </tr>\n",
       "    <tr>\n",
       "      <th>2015</th>\n",
       "      <td>86</td>\n",
       "      <td>0</td>\n",
       "      <td>0</td>\n",
       "      <td>0</td>\n",
       "      <td>0</td>\n",
       "      <td>50</td>\n",
       "      <td>0</td>\n",
       "      <td>0</td>\n",
       "      <td>73</td>\n",
       "      <td>137</td>\n",
       "      <td>3</td>\n",
       "      <td>110</td>\n",
       "      <td>0</td>\n",
       "      <td>0</td>\n",
       "      <td>4</td>\n",
       "      <td>28</td>\n",
       "      <td>35</td>\n",
       "      <td>0</td>\n",
       "      <td>80</td>\n",
       "    </tr>\n",
       "    <tr>\n",
       "      <th>2016</th>\n",
       "      <td>46</td>\n",
       "      <td>0</td>\n",
       "      <td>0</td>\n",
       "      <td>0</td>\n",
       "      <td>0</td>\n",
       "      <td>54</td>\n",
       "      <td>0</td>\n",
       "      <td>0</td>\n",
       "      <td>38</td>\n",
       "      <td>164</td>\n",
       "      <td>0</td>\n",
       "      <td>85</td>\n",
       "      <td>0</td>\n",
       "      <td>0</td>\n",
       "      <td>1</td>\n",
       "      <td>14</td>\n",
       "      <td>13</td>\n",
       "      <td>0</td>\n",
       "      <td>87</td>\n",
       "    </tr>\n",
       "  </tbody>\n",
       "</table>\n",
       "</div>"
      ],
      "text/plain": [
       "platform         3DS   DS  GBA   GC  N64   PC   PS  PS2  PS3  PS4  PSP  PSV  \\\n",
       "year_of_release                                                               \n",
       "1994               0    0    0    0    0    6   17    0    0    0    0    0   \n",
       "1995               0    0    0    0    0    2   99    0    0    0    0    0   \n",
       "1996               0    0    0    0   18    4  164    0    0    0    0    0   \n",
       "1997               0    0    0    0   49    6  188    0    0    0    0    0   \n",
       "1998               0    0    0    0   80    8  255    0    0    0    0    0   \n",
       "1999               0    0    0    0  102    7  200    0    0    0    0    0   \n",
       "2000               0    0    1    0   60    7  160   82    0    0    0    0   \n",
       "2001               0    0  107   22    9   15   91  185    0    0    0    0   \n",
       "2002               0    0  198  152    1   19   20  280    0    0    0    0   \n",
       "2003               0    0  161  158    0   33    3  258    0    0    0    0   \n",
       "2004               0   23  175   83    0   30    0  288    0    0   15    0   \n",
       "2005               0  118  135   97    0   37    0  261    0    0   95    0   \n",
       "2006               0  201   39   40    0   52    0  261   27    0  189    0   \n",
       "2007               0  376    6    4    0   62    0  214   90    0  133    0   \n",
       "2008               0  522    0    0    0   93    0  191  138    0  116    0   \n",
       "2009               0  403    0    0    0  107    0   96  162    0  161    0   \n",
       "2010               0  323    0    0    0   90    0   38  206    0  188    0   \n",
       "2011             116  153    0    0    0  139    0    7  215    0  139   18   \n",
       "2012              93   23    0    0    0   61    0    0  148    0  106   53   \n",
       "2013              99    8    0    0    0   38    0    0  126   16   54   63   \n",
       "2014              80    0    0    0    0   47    0    0  108   75   10  101   \n",
       "2015              86    0    0    0    0   50    0    0   73  137    3  110   \n",
       "2016              46    0    0    0    0   54    0    0   38  164    0   85   \n",
       "\n",
       "platform         SAT  SNES  Wii  WiiU  X360   XB  XOne  \n",
       "year_of_release                                         \n",
       "1994              19    53    0     0     0    0     0  \n",
       "1995              52    54    0     0     0    0     0  \n",
       "1996              38    30    0     0     0    0     0  \n",
       "1997              34     4    0     0     0    0     0  \n",
       "1998              29     2    0     0     0    0     0  \n",
       "1999               1     1    0     0     0    0     0  \n",
       "2000               0     0    0     0     0    1     0  \n",
       "2001               0     0    0     0     0   33     0  \n",
       "2002               0     0    0     0     0  159     0  \n",
       "2003               0     0    0     0     0  208     0  \n",
       "2004               0     0    0     0     0  177     0  \n",
       "2005               0     0    0     0    18  180     0  \n",
       "2006               0     0   44     0    93   62     0  \n",
       "2007               0     0  185     0   124    3     0  \n",
       "2008               0     0  316     0   146    1     0  \n",
       "2009               0     0  325     0   200    0     0  \n",
       "2010               0     0  253     0   182    0     0  \n",
       "2011               0     0  143     0   207    0     0  \n",
       "2012               0     0   31    32   106    0     0  \n",
       "2013               0     0   12    42    75    0    19  \n",
       "2014               0     0    6    31    63    0    61  \n",
       "2015               0     0    4    28    35    0    80  \n",
       "2016               0     0    1    14    13    0    87  "
      ]
     },
     "execution_count": 39,
     "metadata": {},
     "output_type": "execute_result"
    }
   ],
   "source": [
    "release_of_year = release_of_year.query('year_of_release >= 1994').drop(\n",
    "    ['2600', 'GG', 'SCD', 'WS', 'TG16', '3DO', 'GEN', 'NES', 'GB', 'PCFX', 'DC', 'NG'], \n",
    "    axis=1\n",
    ")\n",
    "release_of_year"
   ]
  },
  {
   "cell_type": "markdown",
   "metadata": {},
   "source": [
    "Уже по таблице отчётливо видно как начинали и заканчивали развиваться платформы. Визуализируем серию 'PS'."
   ]
  },
  {
   "cell_type": "code",
   "execution_count": 40,
   "metadata": {},
   "outputs": [
    {
     "data": {
      "image/png": "[encoded data removed]",
      "text/plain": [
       "<Figure size 864x432 with 1 Axes>"
      ]
     },
     "metadata": {
      "needs_background": "light"
     },
     "output_type": "display_data"
    }
   ],
   "source": [
    "fig, ax = plt.subplots(figsize=(12, 6))\n",
    "ax.plot(release_of_year['PS'], label = 'PS')\n",
    "ax.plot(release_of_year['PS2'], label = 'PS2')\n",
    "ax.plot(release_of_year['PS3'], label = 'PS3')\n",
    "ax.plot(release_of_year['PS4'], label = 'PS4')\n",
    "ax.legend(fontsize = 16, title = 'Platforms')\n",
    "ax.set(xlabel='Year', ylabel='Releases',\n",
    "       title='Releases per year')\n",
    "plt.show()"
   ]
  },
  {
   "cell_type": "markdown",
   "metadata": {},
   "source": [
    "На графике отчётливо видно что период подъёма в среднем занимает 5 лет. После чего достигает максимума и тем же темпом идёт на спад. За исключением 'PS2' у которой так же присутствует задержка на пике популярности. В среднем платформа держится на рынке 10 лет. Примерно на пике популярности выходит новая платформа, тем самым перекрывая спрос не давая упасть продажам. Можно увидеть что 'PS4' только набирает популярность в следующем году выйдет на максисум. Для сравнения посмотрим конкурирующую платформу 'XB'."
   ]
  },
  {
   "cell_type": "code",
   "execution_count": 41,
   "metadata": {},
   "outputs": [
    {
     "data": {
      "image/png": "[encoded data removed]",
      "text/plain": [
       "<Figure size 864x432 with 1 Axes>"
      ]
     },
     "metadata": {
      "needs_background": "light"
     },
     "output_type": "display_data"
    }
   ],
   "source": [
    "fig, ax = plt.subplots(figsize=(12, 6))\n",
    "ax.plot(release_of_year['XB'], label = 'XB')\n",
    "ax.plot(release_of_year['X360'], label = 'X360')\n",
    "ax.plot(release_of_year['XOne'], label = 'XOne')\n",
    "ax.legend(fontsize = 16, title = 'Platforms')\n",
    "ax.set(xlabel='Year', ylabel='Releases',\n",
    "       title='Releases per year')\n",
    "ax.ylabel='Releases'\n",
    "plt.show()"
   ]
  },
  {
   "cell_type": "markdown",
   "metadata": {},
   "source": [
    "Видим аналогичную ситуацию. Первая версия платформы 'XB' резко набрала популярность и так же быстро её потеряла. Её подхватила 'X360' и продержалась в двое дольше. Последняя 'XOne' как и 'PS4' только начинает подъём.\n",
    "\n",
    "Рассмотри как выходят игры для PC."
   ]
  },
  {
   "cell_type": "code",
   "execution_count": 42,
   "metadata": {},
   "outputs": [
    {
     "data": {
      "text/plain": [
       "<AxesSubplot:title={'center':'Releases per year'}, xlabel='Year', ylabel='Releases'>"
      ]
     },
     "execution_count": 42,
     "metadata": {},
     "output_type": "execute_result"
    },
    {
     "data": {
      "image/png": "[encoded data removed]",
      "text/plain": [
       "<Figure size 864x432 with 1 Axes>"
      ]
     },
     "metadata": {
      "needs_background": "light"
     },
     "output_type": "display_data"
    }
   ],
   "source": [
    "release_of_year['PC'].plot(\n",
    "    title='Releases per year', \n",
    "    ylabel='Releases', \n",
    "    xlabel='Year', \n",
    "    figsize=(12, 6)\n",
    ")"
   ]
  },
  {
   "cell_type": "markdown",
   "metadata": {},
   "source": [
    "На пике популярности игр для PC значительно меньше чем для других платформ. К тому же график не отличается стабильностью имея долгое развитие и резкий спад.\n",
    "\n",
    "Посмотрим кто лидирует по продажам."
   ]
  },
  {
   "cell_type": "code",
   "execution_count": 43,
   "metadata": {},
   "outputs": [
    {
     "data": {
      "text/plain": [
       "<AxesSubplot:title={'center':'Releases per platform'}, xlabel='Platform', ylabel='Releases'>"
      ]
     },
     "execution_count": 43,
     "metadata": {},
     "output_type": "execute_result"
    },
    {
     "data": {
      "image/png": "[encoded data removed]",
      "text/plain": [
       "<Figure size 720x288 with 1 Axes>"
      ]
     },
     "metadata": {
      "needs_background": "light"
     },
     "output_type": "display_data"
    }
   ],
   "source": [
    "release_of_year.sum(axis=0).plot(\n",
    "    kind='bar', \n",
    "    title='Releases per platform', \n",
    "    ylabel='Releases', \n",
    "    xlabel='Platform', \n",
    "    figsize=(10, 4), \n",
    "    grid=True\n",
    ")\n"
   ]
  },
  {
   "cell_type": "markdown",
   "metadata": {},
   "source": [
    "Больше всего игр было продано для 'PS2' и 'DS'. Обе платформы уже вышли из популярности, но мы можем сделал вывод об объёме игр вышедших для них. В среднем для платформ выходит 1300 игр. \n",
    "\n",
    "Проанализировав данные, мы можем сделать вывод что актуальной является платформа не старше 5 лет. В среднем, через это время платформа начинает устаревать, а на её смену приходит новая. Дальше для наглядности рассмотрим период с 2006 года.\n",
    "\n",
    "Подводя итог определим список платформ, которые являются актуальными для нашего исследования:"
   ]
  },
  {
   "cell_type": "code",
   "execution_count": 44,
   "metadata": {
    "scrolled": true
   },
   "outputs": [
    {
     "data": {
      "text/html": [
       "<div>\n",
       "<style scoped>\n",
       "    .dataframe tbody tr th:only-of-type {\n",
       "        vertical-align: middle;\n",
       "    }\n",
       "\n",
       "    .dataframe tbody tr th {\n",
       "        vertical-align: top;\n",
       "    }\n",
       "\n",
       "    .dataframe thead th {\n",
       "        text-align: right;\n",
       "    }\n",
       "</style>\n",
       "<table border=\"1\" class=\"dataframe\">\n",
       "  <thead>\n",
       "    <tr style=\"text-align: right;\">\n",
       "      <th>platform</th>\n",
       "      <th>3DS</th>\n",
       "      <th>DS</th>\n",
       "      <th>GBA</th>\n",
       "      <th>GC</th>\n",
       "      <th>N64</th>\n",
       "      <th>PC</th>\n",
       "      <th>PS</th>\n",
       "      <th>PS2</th>\n",
       "      <th>PS3</th>\n",
       "      <th>PS4</th>\n",
       "      <th>PSP</th>\n",
       "      <th>PSV</th>\n",
       "      <th>SAT</th>\n",
       "      <th>SNES</th>\n",
       "      <th>Wii</th>\n",
       "      <th>WiiU</th>\n",
       "      <th>X360</th>\n",
       "      <th>XB</th>\n",
       "      <th>XOne</th>\n",
       "    </tr>\n",
       "    <tr>\n",
       "      <th>year_of_release</th>\n",
       "      <th></th>\n",
       "      <th></th>\n",
       "      <th></th>\n",
       "      <th></th>\n",
       "      <th></th>\n",
       "      <th></th>\n",
       "      <th></th>\n",
       "      <th></th>\n",
       "      <th></th>\n",
       "      <th></th>\n",
       "      <th></th>\n",
       "      <th></th>\n",
       "      <th></th>\n",
       "      <th></th>\n",
       "      <th></th>\n",
       "      <th></th>\n",
       "      <th></th>\n",
       "      <th></th>\n",
       "      <th></th>\n",
       "    </tr>\n",
       "  </thead>\n",
       "  <tbody>\n",
       "    <tr>\n",
       "      <th>2007</th>\n",
       "      <td>0</td>\n",
       "      <td>376</td>\n",
       "      <td>6</td>\n",
       "      <td>4</td>\n",
       "      <td>0</td>\n",
       "      <td>62</td>\n",
       "      <td>0</td>\n",
       "      <td>214</td>\n",
       "      <td>90</td>\n",
       "      <td>0</td>\n",
       "      <td>133</td>\n",
       "      <td>0</td>\n",
       "      <td>0</td>\n",
       "      <td>0</td>\n",
       "      <td>185</td>\n",
       "      <td>0</td>\n",
       "      <td>124</td>\n",
       "      <td>3</td>\n",
       "      <td>0</td>\n",
       "    </tr>\n",
       "    <tr>\n",
       "      <th>2008</th>\n",
       "      <td>0</td>\n",
       "      <td>522</td>\n",
       "      <td>0</td>\n",
       "      <td>0</td>\n",
       "      <td>0</td>\n",
       "      <td>93</td>\n",
       "      <td>0</td>\n",
       "      <td>191</td>\n",
       "      <td>138</td>\n",
       "      <td>0</td>\n",
       "      <td>116</td>\n",
       "      <td>0</td>\n",
       "      <td>0</td>\n",
       "      <td>0</td>\n",
       "      <td>316</td>\n",
       "      <td>0</td>\n",
       "      <td>146</td>\n",
       "      <td>1</td>\n",
       "      <td>0</td>\n",
       "    </tr>\n",
       "    <tr>\n",
       "      <th>2009</th>\n",
       "      <td>0</td>\n",
       "      <td>403</td>\n",
       "      <td>0</td>\n",
       "      <td>0</td>\n",
       "      <td>0</td>\n",
       "      <td>107</td>\n",
       "      <td>0</td>\n",
       "      <td>96</td>\n",
       "      <td>162</td>\n",
       "      <td>0</td>\n",
       "      <td>161</td>\n",
       "      <td>0</td>\n",
       "      <td>0</td>\n",
       "      <td>0</td>\n",
       "      <td>325</td>\n",
       "      <td>0</td>\n",
       "      <td>200</td>\n",
       "      <td>0</td>\n",
       "      <td>0</td>\n",
       "    </tr>\n",
       "    <tr>\n",
       "      <th>2010</th>\n",
       "      <td>0</td>\n",
       "      <td>323</td>\n",
       "      <td>0</td>\n",
       "      <td>0</td>\n",
       "      <td>0</td>\n",
       "      <td>90</td>\n",
       "      <td>0</td>\n",
       "      <td>38</td>\n",
       "      <td>206</td>\n",
       "      <td>0</td>\n",
       "      <td>188</td>\n",
       "      <td>0</td>\n",
       "      <td>0</td>\n",
       "      <td>0</td>\n",
       "      <td>253</td>\n",
       "      <td>0</td>\n",
       "      <td>182</td>\n",
       "      <td>0</td>\n",
       "      <td>0</td>\n",
       "    </tr>\n",
       "    <tr>\n",
       "      <th>2011</th>\n",
       "      <td>116</td>\n",
       "      <td>153</td>\n",
       "      <td>0</td>\n",
       "      <td>0</td>\n",
       "      <td>0</td>\n",
       "      <td>139</td>\n",
       "      <td>0</td>\n",
       "      <td>7</td>\n",
       "      <td>215</td>\n",
       "      <td>0</td>\n",
       "      <td>139</td>\n",
       "      <td>18</td>\n",
       "      <td>0</td>\n",
       "      <td>0</td>\n",
       "      <td>143</td>\n",
       "      <td>0</td>\n",
       "      <td>207</td>\n",
       "      <td>0</td>\n",
       "      <td>0</td>\n",
       "    </tr>\n",
       "    <tr>\n",
       "      <th>2012</th>\n",
       "      <td>93</td>\n",
       "      <td>23</td>\n",
       "      <td>0</td>\n",
       "      <td>0</td>\n",
       "      <td>0</td>\n",
       "      <td>61</td>\n",
       "      <td>0</td>\n",
       "      <td>0</td>\n",
       "      <td>148</td>\n",
       "      <td>0</td>\n",
       "      <td>106</td>\n",
       "      <td>53</td>\n",
       "      <td>0</td>\n",
       "      <td>0</td>\n",
       "      <td>31</td>\n",
       "      <td>32</td>\n",
       "      <td>106</td>\n",
       "      <td>0</td>\n",
       "      <td>0</td>\n",
       "    </tr>\n",
       "    <tr>\n",
       "      <th>2013</th>\n",
       "      <td>99</td>\n",
       "      <td>8</td>\n",
       "      <td>0</td>\n",
       "      <td>0</td>\n",
       "      <td>0</td>\n",
       "      <td>38</td>\n",
       "      <td>0</td>\n",
       "      <td>0</td>\n",
       "      <td>126</td>\n",
       "      <td>16</td>\n",
       "      <td>54</td>\n",
       "      <td>63</td>\n",
       "      <td>0</td>\n",
       "      <td>0</td>\n",
       "      <td>12</td>\n",
       "      <td>42</td>\n",
       "      <td>75</td>\n",
       "      <td>0</td>\n",
       "      <td>19</td>\n",
       "    </tr>\n",
       "    <tr>\n",
       "      <th>2014</th>\n",
       "      <td>80</td>\n",
       "      <td>0</td>\n",
       "      <td>0</td>\n",
       "      <td>0</td>\n",
       "      <td>0</td>\n",
       "      <td>47</td>\n",
       "      <td>0</td>\n",
       "      <td>0</td>\n",
       "      <td>108</td>\n",
       "      <td>75</td>\n",
       "      <td>10</td>\n",
       "      <td>101</td>\n",
       "      <td>0</td>\n",
       "      <td>0</td>\n",
       "      <td>6</td>\n",
       "      <td>31</td>\n",
       "      <td>63</td>\n",
       "      <td>0</td>\n",
       "      <td>61</td>\n",
       "    </tr>\n",
       "    <tr>\n",
       "      <th>2015</th>\n",
       "      <td>86</td>\n",
       "      <td>0</td>\n",
       "      <td>0</td>\n",
       "      <td>0</td>\n",
       "      <td>0</td>\n",
       "      <td>50</td>\n",
       "      <td>0</td>\n",
       "      <td>0</td>\n",
       "      <td>73</td>\n",
       "      <td>137</td>\n",
       "      <td>3</td>\n",
       "      <td>110</td>\n",
       "      <td>0</td>\n",
       "      <td>0</td>\n",
       "      <td>4</td>\n",
       "      <td>28</td>\n",
       "      <td>35</td>\n",
       "      <td>0</td>\n",
       "      <td>80</td>\n",
       "    </tr>\n",
       "    <tr>\n",
       "      <th>2016</th>\n",
       "      <td>46</td>\n",
       "      <td>0</td>\n",
       "      <td>0</td>\n",
       "      <td>0</td>\n",
       "      <td>0</td>\n",
       "      <td>54</td>\n",
       "      <td>0</td>\n",
       "      <td>0</td>\n",
       "      <td>38</td>\n",
       "      <td>164</td>\n",
       "      <td>0</td>\n",
       "      <td>85</td>\n",
       "      <td>0</td>\n",
       "      <td>0</td>\n",
       "      <td>1</td>\n",
       "      <td>14</td>\n",
       "      <td>13</td>\n",
       "      <td>0</td>\n",
       "      <td>87</td>\n",
       "    </tr>\n",
       "  </tbody>\n",
       "</table>\n",
       "</div>"
      ],
      "text/plain": [
       "platform         3DS   DS  GBA  GC  N64   PC  PS  PS2  PS3  PS4  PSP  PSV  \\\n",
       "year_of_release                                                             \n",
       "2007               0  376    6   4    0   62   0  214   90    0  133    0   \n",
       "2008               0  522    0   0    0   93   0  191  138    0  116    0   \n",
       "2009               0  403    0   0    0  107   0   96  162    0  161    0   \n",
       "2010               0  323    0   0    0   90   0   38  206    0  188    0   \n",
       "2011             116  153    0   0    0  139   0    7  215    0  139   18   \n",
       "2012              93   23    0   0    0   61   0    0  148    0  106   53   \n",
       "2013              99    8    0   0    0   38   0    0  126   16   54   63   \n",
       "2014              80    0    0   0    0   47   0    0  108   75   10  101   \n",
       "2015              86    0    0   0    0   50   0    0   73  137    3  110   \n",
       "2016              46    0    0   0    0   54   0    0   38  164    0   85   \n",
       "\n",
       "platform         SAT  SNES  Wii  WiiU  X360  XB  XOne  \n",
       "year_of_release                                        \n",
       "2007               0     0  185     0   124   3     0  \n",
       "2008               0     0  316     0   146   1     0  \n",
       "2009               0     0  325     0   200   0     0  \n",
       "2010               0     0  253     0   182   0     0  \n",
       "2011               0     0  143     0   207   0     0  \n",
       "2012               0     0   31    32   106   0     0  \n",
       "2013               0     0   12    42    75   0    19  \n",
       "2014               0     0    6    31    63   0    61  \n",
       "2015               0     0    4    28    35   0    80  \n",
       "2016               0     0    1    14    13   0    87  "
      ]
     },
     "execution_count": 44,
     "metadata": {},
     "output_type": "execute_result"
    }
   ],
   "source": [
    "release_of_year.query('year_of_release > (year_of_release.max() - 10)')"
   ]
  },
  {
   "cell_type": "markdown",
   "metadata": {},
   "source": [
    "Основываясь на последней таблице снова уберём из датасета потерявшие актуальность платформы."
   ]
  },
  {
   "cell_type": "code",
   "execution_count": 45,
   "metadata": {},
   "outputs": [
    {
     "data": {
      "text/plain": [
       "<AxesSubplot:title={'center':'Releases per platform'}, xlabel='Year', ylabel='Releases'>"
      ]
     },
     "execution_count": 45,
     "metadata": {},
     "output_type": "execute_result"
    },
    {
     "data": {
      "image/png": "[encoded data removed]",
      "text/plain": [
       "<Figure size 864x432 with 1 Axes>"
      ]
     },
     "metadata": {
      "needs_background": "light"
     },
     "output_type": "display_data"
    }
   ],
   "source": [
    "release_of_year.query('year_of_release > (year_of_release.max() - 10)').drop(\n",
    "    ['DS', 'GBA', 'GC', 'N64', 'PS', 'PS2', 'SAT', 'SNES', 'XB'], axis=1\n",
    ").plot(\n",
    "    figsize=(12, 6),\n",
    "    title='Releases per platform',\n",
    "    ylabel='Releases',\n",
    "    xlabel='Year'\n",
    ")"
   ]
  },
  {
   "cell_type": "markdown",
   "metadata": {},
   "source": [
    "На графике видно что большинство платформ потеряло свою актуальность. Подводя промежуточный итог делаем вывод что перспективнее всего готовить рекламную кампанию для 'PS4' или 'XOne', потому что они ещё не вышли на пик популярности. Так же актуальными остаются игры для 'PC'. Отберём список для дальнейшего анализа на основании определённых критериев."
   ]
  },
  {
   "cell_type": "code",
   "execution_count": 46,
   "metadata": {},
   "outputs": [],
   "source": [
    "actual = df.query(\n",
    "    'year_of_release > (year_of_release.max() - 5) and platform == [\"PS4\", \"XOne\", \"PC\"]'\n",
    ").reset_index(drop=True)"
   ]
  },
  {
   "cell_type": "markdown",
   "metadata": {},
   "source": [
    "### Объёмы продаж"
   ]
  },
  {
   "cell_type": "markdown",
   "metadata": {},
   "source": [
    "Определившись с целевыми платформами, переходим к исследованию объёмов продаж игр в мире."
   ]
  },
  {
   "cell_type": "code",
   "execution_count": 47,
   "metadata": {},
   "outputs": [
    {
     "data": {
      "image/png": "[encoded data removed]",
      "text/plain": [
       "<Figure size 864x432 with 1 Axes>"
      ]
     },
     "metadata": {
      "needs_background": "light"
     },
     "output_type": "display_data"
    }
   ],
   "source": [
    "actual.boxplot('total_sales', by='platform', figsize=(12,6))\n",
    "plt.suptitle('Global games sales by platform')\n",
    "plt.title(None)\n",
    "plt.xlabel('Platform')\n",
    "plt.ylabel('Total sales (million)')\n",
    "plt.show()"
   ]
  },
  {
   "cell_type": "markdown",
   "metadata": {},
   "source": [
    "По диаграмме размаха видим что наблюдаемый максимум не превышает двух миллионов. Данные выше него определены как выбросы. Для 'PS4' есть два значения превышающие продажи в 12 и 14 миллионов. Даже стало интересно что это за игры. Давайте найдём их, а после рассмотрим диаграммы размаха более детально."
   ]
  },
  {
   "cell_type": "code",
   "execution_count": 48,
   "metadata": {},
   "outputs": [
    {
     "data": {
      "text/html": [
       "<div>\n",
       "<style scoped>\n",
       "    .dataframe tbody tr th:only-of-type {\n",
       "        vertical-align: middle;\n",
       "    }\n",
       "\n",
       "    .dataframe tbody tr th {\n",
       "        vertical-align: top;\n",
       "    }\n",
       "\n",
       "    .dataframe thead th {\n",
       "        text-align: right;\n",
       "    }\n",
       "</style>\n",
       "<table border=\"1\" class=\"dataframe\">\n",
       "  <thead>\n",
       "    <tr style=\"text-align: right;\">\n",
       "      <th></th>\n",
       "      <th>name</th>\n",
       "      <th>platform</th>\n",
       "      <th>year_of_release</th>\n",
       "      <th>genre</th>\n",
       "      <th>na_sales</th>\n",
       "      <th>eu_sales</th>\n",
       "      <th>jp_sales</th>\n",
       "      <th>other_sales</th>\n",
       "      <th>total_sales</th>\n",
       "      <th>critic_score</th>\n",
       "      <th>user_score</th>\n",
       "      <th>rating</th>\n",
       "    </tr>\n",
       "  </thead>\n",
       "  <tbody>\n",
       "    <tr>\n",
       "      <th>0</th>\n",
       "      <td>Call of Duty: Black Ops 3</td>\n",
       "      <td>PS4</td>\n",
       "      <td>2015</td>\n",
       "      <td>Shooter</td>\n",
       "      <td>6.03</td>\n",
       "      <td>5.86</td>\n",
       "      <td>0.36</td>\n",
       "      <td>2.38</td>\n",
       "      <td>14.63</td>\n",
       "      <td>NaN</td>\n",
       "      <td>NaN</td>\n",
       "      <td>Unknown</td>\n",
       "    </tr>\n",
       "    <tr>\n",
       "      <th>1</th>\n",
       "      <td>Grand Theft Auto V</td>\n",
       "      <td>PS4</td>\n",
       "      <td>2014</td>\n",
       "      <td>Action</td>\n",
       "      <td>3.96</td>\n",
       "      <td>6.31</td>\n",
       "      <td>0.38</td>\n",
       "      <td>1.97</td>\n",
       "      <td>12.62</td>\n",
       "      <td>97.0</td>\n",
       "      <td>8.3</td>\n",
       "      <td>M</td>\n",
       "    </tr>\n",
       "  </tbody>\n",
       "</table>\n",
       "</div>"
      ],
      "text/plain": [
       "                        name platform  year_of_release    genre  na_sales  \\\n",
       "0  Call of Duty: Black Ops 3      PS4             2015  Shooter      6.03   \n",
       "1         Grand Theft Auto V      PS4             2014   Action      3.96   \n",
       "\n",
       "   eu_sales  jp_sales  other_sales  total_sales  critic_score  user_score  \\\n",
       "0      5.86      0.36         2.38        14.63           NaN         NaN   \n",
       "1      6.31      0.38         1.97        12.62          97.0         8.3   \n",
       "\n",
       "    rating  \n",
       "0  Unknown  \n",
       "1        M  "
      ]
     },
     "execution_count": 48,
     "metadata": {},
     "output_type": "execute_result"
    }
   ],
   "source": [
    "actual[actual['total_sales'] > 12]"
   ]
  },
  {
   "cell_type": "code",
   "execution_count": 49,
   "metadata": {
    "scrolled": true
   },
   "outputs": [
    {
     "data": {
      "image/png": "[encoded data removed]",
      "text/plain": [
       "<Figure size 864x432 with 1 Axes>"
      ]
     },
     "metadata": {
      "needs_background": "light"
     },
     "output_type": "display_data"
    }
   ],
   "source": [
    "actual.boxplot('total_sales', by='platform', figsize=(12,6))\n",
    "plt.suptitle('Total games sales by platform')\n",
    "plt.title(None)\n",
    "plt.xlabel('Platform')\n",
    "plt.ylabel('Total sales (million)')\n",
    "plt.ylim(0, 2)\n",
    "plt.show()"
   ]
  },
  {
   "cell_type": "code",
   "execution_count": 50,
   "metadata": {},
   "outputs": [
    {
     "data": {
      "text/html": [
       "<div>\n",
       "<style scoped>\n",
       "    .dataframe tbody tr th:only-of-type {\n",
       "        vertical-align: middle;\n",
       "    }\n",
       "\n",
       "    .dataframe tbody tr th {\n",
       "        vertical-align: top;\n",
       "    }\n",
       "\n",
       "    .dataframe thead th {\n",
       "        text-align: right;\n",
       "    }\n",
       "</style>\n",
       "<table border=\"1\" class=\"dataframe\">\n",
       "  <thead>\n",
       "    <tr style=\"text-align: right;\">\n",
       "      <th></th>\n",
       "      <th>count</th>\n",
       "      <th>mean</th>\n",
       "      <th>std</th>\n",
       "      <th>min</th>\n",
       "      <th>25%</th>\n",
       "      <th>50%</th>\n",
       "      <th>75%</th>\n",
       "      <th>max</th>\n",
       "    </tr>\n",
       "    <tr>\n",
       "      <th>platform</th>\n",
       "      <th></th>\n",
       "      <th></th>\n",
       "      <th></th>\n",
       "      <th></th>\n",
       "      <th></th>\n",
       "      <th></th>\n",
       "      <th></th>\n",
       "      <th></th>\n",
       "    </tr>\n",
       "  </thead>\n",
       "  <tbody>\n",
       "    <tr>\n",
       "      <th>PC</th>\n",
       "      <td>250.0</td>\n",
       "      <td>0.250600</td>\n",
       "      <td>0.494640</td>\n",
       "      <td>0.01</td>\n",
       "      <td>0.03</td>\n",
       "      <td>0.08</td>\n",
       "      <td>0.240</td>\n",
       "      <td>5.14</td>\n",
       "    </tr>\n",
       "    <tr>\n",
       "      <th>PS4</th>\n",
       "      <td>392.0</td>\n",
       "      <td>0.801378</td>\n",
       "      <td>1.609456</td>\n",
       "      <td>0.01</td>\n",
       "      <td>0.06</td>\n",
       "      <td>0.20</td>\n",
       "      <td>0.730</td>\n",
       "      <td>14.63</td>\n",
       "    </tr>\n",
       "    <tr>\n",
       "      <th>XOne</th>\n",
       "      <td>247.0</td>\n",
       "      <td>0.645020</td>\n",
       "      <td>1.036139</td>\n",
       "      <td>0.01</td>\n",
       "      <td>0.06</td>\n",
       "      <td>0.22</td>\n",
       "      <td>0.685</td>\n",
       "      <td>7.39</td>\n",
       "    </tr>\n",
       "  </tbody>\n",
       "</table>\n",
       "</div>"
      ],
      "text/plain": [
       "          count      mean       std   min   25%   50%    75%    max\n",
       "platform                                                           \n",
       "PC        250.0  0.250600  0.494640  0.01  0.03  0.08  0.240   5.14\n",
       "PS4       392.0  0.801378  1.609456  0.01  0.06  0.20  0.730  14.63\n",
       "XOne      247.0  0.645020  1.036139  0.01  0.06  0.22  0.685   7.39"
      ]
     },
     "execution_count": 50,
     "metadata": {},
     "output_type": "execute_result"
    }
   ],
   "source": [
    "actual.groupby('platform')['total_sales'].describe()"
   ]
  },
  {
   "cell_type": "markdown",
   "metadata": {},
   "source": [
    "Продажи для всех платформ начинаются с 0,1. Для 'PC' чуть выше начинается нижний квартиль. Интерквантильный размах составляет всего 0.16. Верхний квартиль не дотягивает до медианы других платформ. Низкое стандартное отклонение говорит о небольшом разбросе данных выборки. Это говорит о том, что значения выборки близки к среднему. При том что значение для 'PC' почти в два раза больше, чем для 'PS4'. Для второй стандартное отклонение выше в 3 раза что может говорить о худшем качестве данных. Для двух других платформ значения очень близки, это два ярких конкурента делящих рынок игровой индустрии. Для 'XOne' значений меньше, что говорит о сравнительно меньшей популярности платформы, что, собственно, мы и видели на графиках, когда определяли актуальные платформы.\n",
    "\n",
    "Датасет для всех трёх графиков датасет скошен вправо. Это видно как по диаграмме размаха - медиана тяготеет к первому квартилю, так и по отношению медианы к среднему - медиана меньше среднего. Как уже описывалось выше, медианные заказы у 'PS4' и 'XOne' больше и шире. Это говорит о больших продажах относительно 'PC'."
   ]
  },
  {
   "cell_type": "markdown",
   "metadata": {},
   "source": [
    "### Влияние отзывов на продажи"
   ]
  },
  {
   "cell_type": "markdown",
   "metadata": {},
   "source": [
    "Перейдём к исследовании отзывов критиков и пользователей. Смысла анализировать все платформы нет, так как на разных этапах развития индустрии ситуация могла меняться. Исследование будем проводить для ранее определённых платформ. Начнём с 'PC' и после применим алгоритм к двум другим. Так как решение будет типовым запишем весь алгоритм в функцию и позже проведём исследование для других платформ."
   ]
  },
  {
   "cell_type": "code",
   "execution_count": 51,
   "metadata": {},
   "outputs": [],
   "source": [
    "def scatter_plot(res_platform):      \n",
    "    actual[actual['platform'] == res_platform].plot(\n",
    "        x = 'critic_score', \n",
    "        y = 'total_sales', \n",
    "        kind='scatter', \n",
    "        title=f'Dependence of sales on critic ratings for {res_platform}',\n",
    "        ylabel='Total sales (million)',\n",
    "        xlabel='Critic score',\n",
    "        figsize=(8,4),\n",
    "        alpha=0.4\n",
    "    )\n",
    "    print('Сorrelation of critic to sales:',\n",
    "          round(\n",
    "              actual[actual['platform'] == res_platform]['total_sales']\n",
    "              .corr(actual[actual['platform'] == res_platform]['critic_score']), 3))\n",
    "    \n",
    "    actual[actual['platform'] == res_platform].plot(\n",
    "        x = 'user_score', \n",
    "        y = 'total_sales', \n",
    "        kind='scatter', \n",
    "        title=f'Dependence of sales on user ratings for {res_platform}',\n",
    "        ylabel='Total sales (million)',\n",
    "        xlabel='User score',\n",
    "        figsize=(8,4),\n",
    "        alpha=0.4\n",
    "    )\n",
    "    \n",
    "    print('Сorrelation of critic to sales:',\n",
    "          round(\n",
    "              actual[actual['platform'] == res_platform]['total_sales']\n",
    "              .corr(actual[actual['platform'] == res_platform]['user_score']), 3))"
   ]
  },
  {
   "cell_type": "markdown",
   "metadata": {},
   "source": [
    "Функция построена и готова принимать на вход только одно значение, исследуемую платформу."
   ]
  },
  {
   "cell_type": "code",
   "execution_count": 52,
   "metadata": {},
   "outputs": [
    {
     "name": "stdout",
     "output_type": "stream",
     "text": [
      "Сorrelation of critic to sales: 0.237\n",
      "Сorrelation of critic to sales: -0.122\n"
     ]
    },
    {
     "data": {
      "image/png": "[encoded data removed]",
      "text/plain": [
       "<Figure size 576x288 with 1 Axes>"
      ]
     },
     "metadata": {
      "needs_background": "light"
     },
     "output_type": "display_data"
    },
    {
     "data": {
      "image/png": "[encoded data removed]",
      "text/plain": [
       "<Figure size 576x288 with 1 Axes>"
      ]
     },
     "metadata": {
      "needs_background": "light"
     },
     "output_type": "display_data"
    }
   ],
   "source": [
    "scatter_plot('PC')"
   ]
  },
  {
   "cell_type": "markdown",
   "metadata": {},
   "source": [
    "Смотря на графики можно сказать что если зависимость есть, то очень незначительная. Все значения что для пользователей, что для критиков сконцентрированы в нижнем диапазоне. Это видно и по значениям корреляции, зависимость близка к нулю."
   ]
  },
  {
   "cell_type": "code",
   "execution_count": 53,
   "metadata": {},
   "outputs": [
    {
     "name": "stdout",
     "output_type": "stream",
     "text": [
      "Сorrelation of critic to sales: 0.407\n",
      "Сorrelation of critic to sales: -0.032\n"
     ]
    },
    {
     "data": {
      "image/png": "[encoded data removed]",
      "text/plain": [
       "<Figure size 576x288 with 1 Axes>"
      ]
     },
     "metadata": {
      "needs_background": "light"
     },
     "output_type": "display_data"
    },
    {
     "data": {
      "image/png": "[encoded data removed]",
      "text/plain": [
       "<Figure size 576x288 with 1 Axes>"
      ]
     },
     "metadata": {
      "needs_background": "light"
     },
     "output_type": "display_data"
    }
   ],
   "source": [
    "scatter_plot('PS4')"
   ]
  },
  {
   "cell_type": "markdown",
   "metadata": {},
   "source": [
    "Для 'PS4' зависимость продаж от оценок критиков уже имеет среднюю, положительную связь. Чего не скажешь об оценках пользователей, значение корреляции близка к нулю."
   ]
  },
  {
   "cell_type": "code",
   "execution_count": 54,
   "metadata": {},
   "outputs": [
    {
     "name": "stdout",
     "output_type": "stream",
     "text": [
      "Сorrelation of critic to sales: 0.417\n",
      "Сorrelation of critic to sales: -0.069\n"
     ]
    },
    {
     "data": {
      "image/png": "[encoded data removed]",
      "text/plain": [
       "<Figure size 576x288 with 1 Axes>"
      ]
     },
     "metadata": {
      "needs_background": "light"
     },
     "output_type": "display_data"
    },
    {
     "data": {
      "image/png": "[encoded data removed]",
      "text/plain": [
       "<Figure size 576x288 with 1 Axes>"
      ]
     },
     "metadata": {
      "needs_background": "light"
     },
     "output_type": "display_data"
    }
   ],
   "source": [
    "scatter_plot('XOne')"
   ]
  },
  {
   "cell_type": "markdown",
   "metadata": {},
   "source": [
    "Для 'XOne' ситуация аналогична предыдущей. Средняя положительная зависимость от оценки критиков и низкая от пользователей."
   ]
  },
  {
   "cell_type": "markdown",
   "metadata": {},
   "source": [
    "### Актуальность жанров"
   ]
  },
  {
   "cell_type": "markdown",
   "metadata": {},
   "source": [
    "Теперь рассмотрим есть ли зависимость между продажами и жанрами. Какие жанры более востребованы, а какие просто занимают пустующую нишу."
   ]
  },
  {
   "cell_type": "code",
   "execution_count": 55,
   "metadata": {},
   "outputs": [
    {
     "data": {
      "text/plain": [
       "<AxesSubplot:title={'center':'Releases per ganre'}, xlabel='Genre', ylabel='Releases'>"
      ]
     },
     "execution_count": 55,
     "metadata": {},
     "output_type": "execute_result"
    },
    {
     "data": {
      "image/png": "[encoded data removed]",
      "text/plain": [
       "<Figure size 864x432 with 1 Axes>"
      ]
     },
     "metadata": {
      "needs_background": "light"
     },
     "output_type": "display_data"
    }
   ],
   "source": [
    "actual.pivot_table(\n",
    "    index='genre', columns='platform', values='total_sales', aggfunc='sum'\n",
    ").plot(\n",
    "    kind='bar',\n",
    "    title='Releases per ganre',\n",
    "    ylabel='Releases',\n",
    "    xlabel='Genre',\n",
    "    figsize=(12, 6), \n",
    "    grid=True,\n",
    "    rot=45\n",
    ")"
   ]
  },
  {
   "cell_type": "markdown",
   "metadata": {},
   "source": [
    "На графике видно что наиболее популярны жанры 'Shooter' и 'Action'. За ними идёт жанр 'Sports'. Во всех трёх первое место занимает 'PS4', за ним идёт 'XOne' и 'PC'. Так же можно отметить жанры 'Role-Playing', 'Simulation' и 'Strategy' где лидирующие позиции занимает 'PC'. Построим диаграммы размаха."
   ]
  },
  {
   "cell_type": "code",
   "execution_count": 56,
   "metadata": {
    "scrolled": true
   },
   "outputs": [
    {
     "data": {
      "image/png": "[encoded data removed]",
      "text/plain": [
       "<Figure size 864x432 with 1 Axes>"
      ]
     },
     "metadata": {
      "needs_background": "light"
     },
     "output_type": "display_data"
    }
   ],
   "source": [
    "actual.boxplot('total_sales', by='genre', figsize=(12,6))\n",
    "plt.suptitle('Total sales by genre')\n",
    "plt.title(None)\n",
    "plt.xlabel('Genre')\n",
    "plt.ylabel('Total sales (million)')\n",
    "plt.show()"
   ]
  },
  {
   "cell_type": "markdown",
   "metadata": {},
   "source": [
    "На графике отлично видно выбросы, но нас больше интересуют данные до максимального значения диаграмм размаха."
   ]
  },
  {
   "cell_type": "code",
   "execution_count": 57,
   "metadata": {},
   "outputs": [
    {
     "data": {
      "image/png": "[encoded data removed]",
      "text/plain": [
       "<Figure size 864x432 with 1 Axes>"
      ]
     },
     "metadata": {
      "needs_background": "light"
     },
     "output_type": "display_data"
    }
   ],
   "source": [
    "actual.boxplot('total_sales', by='genre', figsize=(12,6))\n",
    "plt.suptitle('Total sales by genre')\n",
    "plt.title(None)\n",
    "plt.xlabel('Genre')\n",
    "plt.ylabel('Total sales (million)')\n",
    "plt.ylim(0, 2)\n",
    "plt.show()"
   ]
  },
  {
   "cell_type": "markdown",
   "metadata": {},
   "source": [
    "Можно выделить лидеров продаж - жанры 'Shooter' и 'Sports'. На примере жанра 'Shooter' можно сказать что первый квартиль выше - продаж больше, датасет скошен вправо - большенство платит больше медианной суммы."
   ]
  },
  {
   "cell_type": "markdown",
   "metadata": {},
   "source": [
    "### Вывод"
   ]
  },
  {
   "cell_type": "markdown",
   "metadata": {},
   "source": [
    "В данном разделе мы выяснили что платформа набирает популярность в среднем за пять леть после появления на рынке. Через пять лет выходит новая перехватывая внимание пользователя на себя и цикл повторяется. Таким образом срок жизни платформы составляет около 10 лет. После она становится неактуальной и игры для неё больше не выпускаются. Если расcчитывать рекламную компанию, то для платформ, с момента презентации которых прошло не больше 5 лет.\n",
    "\n",
    "Выделив три основных платформы: PC, PS4, XOne мы выполнили анализ рынка для них. Выяснили что больше всего игр продают для PS4 и XOne. Проанализировав диаграмму размаха выяснили что средний пользователь тратит больше при покупке игр для этих платформ.\n",
    "\n",
    "Проанализировали как отзывы критиков и пользователей влияют на продажи. Актуальным это оказалось для 'XOne' и 'PS4' только для отзывов критиков. Корреляция для других платформ близка к нулю."
   ]
  },
  {
   "cell_type": "markdown",
   "metadata": {},
   "source": [
    "## Портрет пользователя каждого региона"
   ]
  },
  {
   "cell_type": "markdown",
   "metadata": {},
   "source": [
    "Ранее мы рассматривали общие данные, но в исходных данных даны продажи в трёх регионах: NA, EU, JP. Можно составить портрет среднего пользователя для них чтобы рекламная кампания насколько возможно точно попадала в целевую аудиторию. Начнём с самых популярных платформ. Ограничимся ранее определённым периодом в 5 лет."
   ]
  },
  {
   "cell_type": "code",
   "execution_count": 58,
   "metadata": {},
   "outputs": [],
   "source": [
    "def top_five(x, region):\n",
    "    df.query('year_of_release > (year_of_release.max() - 5)').pivot_table(\n",
    "        index=x,  \n",
    "        values=region.lower()+'_sales', \n",
    "        aggfunc='sum'\n",
    "    ).sum(axis=1).sort_values(ascending=False)[:5].plot(\n",
    "        kind='bar', \n",
    "        title=f'Sales per {x} in {region.upper()}', \n",
    "        ylabel='Sale', \n",
    "        xlabel=x, \n",
    "        figsize=(10, 4),\n",
    "        rot=0\n",
    "    )"
   ]
  },
  {
   "cell_type": "code",
   "execution_count": 59,
   "metadata": {
    "scrolled": true
   },
   "outputs": [
    {
     "data": {
      "image/png": "[encoded data removed]",
      "text/plain": [
       "<Figure size 720x288 with 1 Axes>"
      ]
     },
     "metadata": {
      "needs_background": "light"
     },
     "output_type": "display_data"
    }
   ],
   "source": [
    "top_five('platform', 'na')"
   ]
  },
  {
   "cell_type": "code",
   "execution_count": 60,
   "metadata": {},
   "outputs": [
    {
     "data": {
      "image/png": "[encoded data removed]",
      "text/plain": [
       "<Figure size 720x288 with 1 Axes>"
      ]
     },
     "metadata": {
      "needs_background": "light"
     },
     "output_type": "display_data"
    }
   ],
   "source": [
    "top_five('platform', 'eu')"
   ]
  },
  {
   "cell_type": "code",
   "execution_count": 61,
   "metadata": {},
   "outputs": [
    {
     "data": {
      "image/png": "[encoded data removed]",
      "text/plain": [
       "<Figure size 720x288 with 1 Axes>"
      ]
     },
     "metadata": {
      "needs_background": "light"
     },
     "output_type": "display_data"
    }
   ],
   "source": [
    "top_five('platform', 'jp')"
   ]
  },
  {
   "cell_type": "markdown",
   "metadata": {},
   "source": [
    "Взяв выборку по продажам за последние пять лет мы определили какие платформы пользуются наибольшей популярностью в каждом регионе. Результаты показывают что за первое и второе место борются PS3 и X360 почти вдвое опережая другие платформы. Стоит заметить как 'PS4' набирает популярность в регионе 'NA'. Исключением является JP где лидирующее место занимает 3DS более чем в два раза обгоняя 'PS3', а X360 вообще не попала в список.\n",
    "\n",
    "Теперь определим топ 5 жанров за тот же период. Для построения графиков используем ту же функцию передавая параметр 'genre'."
   ]
  },
  {
   "cell_type": "code",
   "execution_count": 62,
   "metadata": {},
   "outputs": [
    {
     "data": {
      "image/png": "[encoded data removed]",
      "text/plain": [
       "<Figure size 720x288 with 1 Axes>"
      ]
     },
     "metadata": {
      "needs_background": "light"
     },
     "output_type": "display_data"
    }
   ],
   "source": [
    "top_five('genre', 'na')"
   ]
  },
  {
   "cell_type": "code",
   "execution_count": 63,
   "metadata": {},
   "outputs": [
    {
     "data": {
      "image/png": "[encoded data removed]",
      "text/plain": [
       "<Figure size 720x288 with 1 Axes>"
      ]
     },
     "metadata": {
      "needs_background": "light"
     },
     "output_type": "display_data"
    }
   ],
   "source": [
    "top_five('genre', 'eu')"
   ]
  },
  {
   "cell_type": "code",
   "execution_count": 64,
   "metadata": {},
   "outputs": [
    {
     "data": {
      "image/png": "[encoded data removed]",
      "text/plain": [
       "<Figure size 720x288 with 1 Axes>"
      ]
     },
     "metadata": {
      "needs_background": "light"
     },
     "output_type": "display_data"
    }
   ],
   "source": [
    "top_five('genre', 'jp')"
   ]
  },
  {
   "cell_type": "markdown",
   "metadata": {},
   "source": [
    "Для 'NA' и 'EU' результаты совпали, лидерами оказались жанры 'Action', 'Shooter' и 'Sports'. JP опять отличилась, на первом месте оказался жанр 'Role-Playing' опередив 'Shooter' на 1/3.\n",
    "\n",
    "Проанализируем влияние рейтинга на продажи по регионам. В разделе по предобработке данных мы выяснили что между жанрами 'Action' и 'Shooter' есть зависимость через рейтинг, скорее всего результаты будут похожи."
   ]
  },
  {
   "cell_type": "code",
   "execution_count": 65,
   "metadata": {},
   "outputs": [],
   "source": [
    "def rating_infuence(region):\n",
    "    temp = df.query('year_of_release > (year_of_release.max() - 5)').pivot_table(\n",
    "        index='rating', columns='platform', values=region.lower()+'_sales', aggfunc='sum'\n",
    "    )\n",
    "    df.query('year_of_release > (year_of_release.max() - 5)').pivot_table(\n",
    "        index='rating', values=region.lower()+'_sales', aggfunc='sum'\n",
    "    ).sort_values(region.lower()+'_sales', ascending=False).plot(\n",
    "        kind='bar', \n",
    "        title=f'Sales per rating in {region.upper()}', \n",
    "        ylabel='Sale', \n",
    "        xlabel='Rating', \n",
    "        figsize=(10, 4),\n",
    "        rot=0\n",
    "    )\n",
    "    return temp"
   ]
  },
  {
   "cell_type": "code",
   "execution_count": 66,
   "metadata": {},
   "outputs": [
    {
     "data": {
      "text/html": [
       "<div>\n",
       "<style scoped>\n",
       "    .dataframe tbody tr th:only-of-type {\n",
       "        vertical-align: middle;\n",
       "    }\n",
       "\n",
       "    .dataframe tbody tr th {\n",
       "        vertical-align: top;\n",
       "    }\n",
       "\n",
       "    .dataframe thead th {\n",
       "        text-align: right;\n",
       "    }\n",
       "</style>\n",
       "<table border=\"1\" class=\"dataframe\">\n",
       "  <thead>\n",
       "    <tr style=\"text-align: right;\">\n",
       "      <th>platform</th>\n",
       "      <th>3DS</th>\n",
       "      <th>DS</th>\n",
       "      <th>PC</th>\n",
       "      <th>PS3</th>\n",
       "      <th>PS4</th>\n",
       "      <th>PSP</th>\n",
       "      <th>PSV</th>\n",
       "      <th>Wii</th>\n",
       "      <th>WiiU</th>\n",
       "      <th>X360</th>\n",
       "      <th>XOne</th>\n",
       "    </tr>\n",
       "    <tr>\n",
       "      <th>rating</th>\n",
       "      <th></th>\n",
       "      <th></th>\n",
       "      <th></th>\n",
       "      <th></th>\n",
       "      <th></th>\n",
       "      <th></th>\n",
       "      <th></th>\n",
       "      <th></th>\n",
       "      <th></th>\n",
       "      <th></th>\n",
       "      <th></th>\n",
       "    </tr>\n",
       "  </thead>\n",
       "  <tbody>\n",
       "    <tr>\n",
       "      <th>E</th>\n",
       "      <td>17.43</td>\n",
       "      <td>0.80</td>\n",
       "      <td>0.21</td>\n",
       "      <td>20.85</td>\n",
       "      <td>16.76</td>\n",
       "      <td>0.13</td>\n",
       "      <td>1.75</td>\n",
       "      <td>2.70</td>\n",
       "      <td>15.39</td>\n",
       "      <td>24.07</td>\n",
       "      <td>14.40</td>\n",
       "    </tr>\n",
       "    <tr>\n",
       "      <th>E10+</th>\n",
       "      <td>8.59</td>\n",
       "      <td>0.61</td>\n",
       "      <td>0.90</td>\n",
       "      <td>7.77</td>\n",
       "      <td>9.02</td>\n",
       "      <td>NaN</td>\n",
       "      <td>0.97</td>\n",
       "      <td>13.43</td>\n",
       "      <td>11.80</td>\n",
       "      <td>13.87</td>\n",
       "      <td>9.00</td>\n",
       "    </tr>\n",
       "    <tr>\n",
       "      <th>M</th>\n",
       "      <td>1.34</td>\n",
       "      <td>NaN</td>\n",
       "      <td>11.74</td>\n",
       "      <td>50.64</td>\n",
       "      <td>42.81</td>\n",
       "      <td>NaN</td>\n",
       "      <td>3.73</td>\n",
       "      <td>NaN</td>\n",
       "      <td>1.99</td>\n",
       "      <td>74.40</td>\n",
       "      <td>44.92</td>\n",
       "    </tr>\n",
       "    <tr>\n",
       "      <th>T</th>\n",
       "      <td>3.76</td>\n",
       "      <td>NaN</td>\n",
       "      <td>5.04</td>\n",
       "      <td>11.97</td>\n",
       "      <td>16.38</td>\n",
       "      <td>0.00</td>\n",
       "      <td>2.70</td>\n",
       "      <td>0.11</td>\n",
       "      <td>2.21</td>\n",
       "      <td>13.97</td>\n",
       "      <td>10.17</td>\n",
       "    </tr>\n",
       "    <tr>\n",
       "      <th>Unknown</th>\n",
       "      <td>25.03</td>\n",
       "      <td>3.18</td>\n",
       "      <td>1.23</td>\n",
       "      <td>12.15</td>\n",
       "      <td>23.77</td>\n",
       "      <td>0.00</td>\n",
       "      <td>1.94</td>\n",
       "      <td>1.21</td>\n",
       "      <td>6.71</td>\n",
       "      <td>13.74</td>\n",
       "      <td>14.63</td>\n",
       "    </tr>\n",
       "  </tbody>\n",
       "</table>\n",
       "</div>"
      ],
      "text/plain": [
       "platform    3DS    DS     PC    PS3    PS4   PSP   PSV    Wii   WiiU   X360  \\\n",
       "rating                                                                        \n",
       "E         17.43  0.80   0.21  20.85  16.76  0.13  1.75   2.70  15.39  24.07   \n",
       "E10+       8.59  0.61   0.90   7.77   9.02   NaN  0.97  13.43  11.80  13.87   \n",
       "M          1.34   NaN  11.74  50.64  42.81   NaN  3.73    NaN   1.99  74.40   \n",
       "T          3.76   NaN   5.04  11.97  16.38  0.00  2.70   0.11   2.21  13.97   \n",
       "Unknown   25.03  3.18   1.23  12.15  23.77  0.00  1.94   1.21   6.71  13.74   \n",
       "\n",
       "platform   XOne  \n",
       "rating           \n",
       "E         14.40  \n",
       "E10+       9.00  \n",
       "M         44.92  \n",
       "T         10.17  \n",
       "Unknown   14.63  "
      ]
     },
     "execution_count": 66,
     "metadata": {},
     "output_type": "execute_result"
    },
    {
     "data": {
      "image/png": "[encoded data removed]",
      "text/plain": [
       "<Figure size 720x288 with 1 Axes>"
      ]
     },
     "metadata": {
      "needs_background": "light"
     },
     "output_type": "display_data"
    }
   ],
   "source": [
    "rating_infuence('na')"
   ]
  },
  {
   "cell_type": "code",
   "execution_count": 67,
   "metadata": {},
   "outputs": [
    {
     "data": {
      "text/html": [
       "<div>\n",
       "<style scoped>\n",
       "    .dataframe tbody tr th:only-of-type {\n",
       "        vertical-align: middle;\n",
       "    }\n",
       "\n",
       "    .dataframe tbody tr th {\n",
       "        vertical-align: top;\n",
       "    }\n",
       "\n",
       "    .dataframe thead th {\n",
       "        text-align: right;\n",
       "    }\n",
       "</style>\n",
       "<table border=\"1\" class=\"dataframe\">\n",
       "  <thead>\n",
       "    <tr style=\"text-align: right;\">\n",
       "      <th>platform</th>\n",
       "      <th>3DS</th>\n",
       "      <th>DS</th>\n",
       "      <th>PC</th>\n",
       "      <th>PS3</th>\n",
       "      <th>PS4</th>\n",
       "      <th>PSP</th>\n",
       "      <th>PSV</th>\n",
       "      <th>Wii</th>\n",
       "      <th>WiiU</th>\n",
       "      <th>X360</th>\n",
       "      <th>XOne</th>\n",
       "    </tr>\n",
       "    <tr>\n",
       "      <th>rating</th>\n",
       "      <th></th>\n",
       "      <th></th>\n",
       "      <th></th>\n",
       "      <th></th>\n",
       "      <th></th>\n",
       "      <th></th>\n",
       "      <th></th>\n",
       "      <th></th>\n",
       "      <th></th>\n",
       "      <th></th>\n",
       "      <th></th>\n",
       "    </tr>\n",
       "  </thead>\n",
       "  <tbody>\n",
       "    <tr>\n",
       "      <th>E</th>\n",
       "      <td>14.66</td>\n",
       "      <td>0.82</td>\n",
       "      <td>4.66</td>\n",
       "      <td>24.75</td>\n",
       "      <td>27.56</td>\n",
       "      <td>0.42</td>\n",
       "      <td>2.44</td>\n",
       "      <td>2.82</td>\n",
       "      <td>10.16</td>\n",
       "      <td>14.30</td>\n",
       "      <td>10.46</td>\n",
       "    </tr>\n",
       "    <tr>\n",
       "      <th>E10+</th>\n",
       "      <td>5.71</td>\n",
       "      <td>0.53</td>\n",
       "      <td>2.19</td>\n",
       "      <td>8.04</td>\n",
       "      <td>8.80</td>\n",
       "      <td>NaN</td>\n",
       "      <td>2.06</td>\n",
       "      <td>8.36</td>\n",
       "      <td>8.01</td>\n",
       "      <td>7.83</td>\n",
       "      <td>4.03</td>\n",
       "    </tr>\n",
       "    <tr>\n",
       "      <th>M</th>\n",
       "      <td>0.42</td>\n",
       "      <td>NaN</td>\n",
       "      <td>17.29</td>\n",
       "      <td>52.33</td>\n",
       "      <td>58.43</td>\n",
       "      <td>NaN</td>\n",
       "      <td>2.61</td>\n",
       "      <td>NaN</td>\n",
       "      <td>1.49</td>\n",
       "      <td>37.65</td>\n",
       "      <td>23.74</td>\n",
       "    </tr>\n",
       "    <tr>\n",
       "      <th>T</th>\n",
       "      <td>1.85</td>\n",
       "      <td>NaN</td>\n",
       "      <td>7.81</td>\n",
       "      <td>9.30</td>\n",
       "      <td>18.31</td>\n",
       "      <td>0.00</td>\n",
       "      <td>1.91</td>\n",
       "      <td>0.05</td>\n",
       "      <td>1.46</td>\n",
       "      <td>7.26</td>\n",
       "      <td>5.06</td>\n",
       "    </tr>\n",
       "    <tr>\n",
       "      <th>Unknown</th>\n",
       "      <td>20.21</td>\n",
       "      <td>2.18</td>\n",
       "      <td>5.81</td>\n",
       "      <td>12.44</td>\n",
       "      <td>27.99</td>\n",
       "      <td>0.00</td>\n",
       "      <td>2.39</td>\n",
       "      <td>0.69</td>\n",
       "      <td>4.01</td>\n",
       "      <td>7.48</td>\n",
       "      <td>8.30</td>\n",
       "    </tr>\n",
       "  </tbody>\n",
       "</table>\n",
       "</div>"
      ],
      "text/plain": [
       "platform    3DS    DS     PC    PS3    PS4   PSP   PSV   Wii   WiiU   X360  \\\n",
       "rating                                                                       \n",
       "E         14.66  0.82   4.66  24.75  27.56  0.42  2.44  2.82  10.16  14.30   \n",
       "E10+       5.71  0.53   2.19   8.04   8.80   NaN  2.06  8.36   8.01   7.83   \n",
       "M          0.42   NaN  17.29  52.33  58.43   NaN  2.61   NaN   1.49  37.65   \n",
       "T          1.85   NaN   7.81   9.30  18.31  0.00  1.91  0.05   1.46   7.26   \n",
       "Unknown   20.21  2.18   5.81  12.44  27.99  0.00  2.39  0.69   4.01   7.48   \n",
       "\n",
       "platform   XOne  \n",
       "rating           \n",
       "E         10.46  \n",
       "E10+       4.03  \n",
       "M         23.74  \n",
       "T          5.06  \n",
       "Unknown    8.30  "
      ]
     },
     "execution_count": 67,
     "metadata": {},
     "output_type": "execute_result"
    },
    {
     "data": {
      "image/png": "[encoded data removed]",
      "text/plain": [
       "<Figure size 720x288 with 1 Axes>"
      ]
     },
     "metadata": {
      "needs_background": "light"
     },
     "output_type": "display_data"
    }
   ],
   "source": [
    "rating_infuence('eu')"
   ]
  },
  {
   "cell_type": "code",
   "execution_count": 68,
   "metadata": {
    "scrolled": true
   },
   "outputs": [
    {
     "data": {
      "text/html": [
       "<div>\n",
       "<style scoped>\n",
       "    .dataframe tbody tr th:only-of-type {\n",
       "        vertical-align: middle;\n",
       "    }\n",
       "\n",
       "    .dataframe tbody tr th {\n",
       "        vertical-align: top;\n",
       "    }\n",
       "\n",
       "    .dataframe thead th {\n",
       "        text-align: right;\n",
       "    }\n",
       "</style>\n",
       "<table border=\"1\" class=\"dataframe\">\n",
       "  <thead>\n",
       "    <tr style=\"text-align: right;\">\n",
       "      <th>platform</th>\n",
       "      <th>3DS</th>\n",
       "      <th>DS</th>\n",
       "      <th>PC</th>\n",
       "      <th>PS3</th>\n",
       "      <th>PS4</th>\n",
       "      <th>PSP</th>\n",
       "      <th>PSV</th>\n",
       "      <th>Wii</th>\n",
       "      <th>WiiU</th>\n",
       "      <th>X360</th>\n",
       "      <th>XOne</th>\n",
       "    </tr>\n",
       "    <tr>\n",
       "      <th>rating</th>\n",
       "      <th></th>\n",
       "      <th></th>\n",
       "      <th></th>\n",
       "      <th></th>\n",
       "      <th></th>\n",
       "      <th></th>\n",
       "      <th></th>\n",
       "      <th></th>\n",
       "      <th></th>\n",
       "      <th></th>\n",
       "      <th></th>\n",
       "    </tr>\n",
       "  </thead>\n",
       "  <tbody>\n",
       "    <tr>\n",
       "      <th>E</th>\n",
       "      <td>16.29</td>\n",
       "      <td>0.37</td>\n",
       "      <td>0.0</td>\n",
       "      <td>2.76</td>\n",
       "      <td>0.84</td>\n",
       "      <td>0.34</td>\n",
       "      <td>0.16</td>\n",
       "      <td>0.82</td>\n",
       "      <td>6.66</td>\n",
       "      <td>0.05</td>\n",
       "      <td>0.04</td>\n",
       "    </tr>\n",
       "    <tr>\n",
       "      <th>E10+</th>\n",
       "      <td>3.89</td>\n",
       "      <td>0.00</td>\n",
       "      <td>0.0</td>\n",
       "      <td>0.22</td>\n",
       "      <td>0.67</td>\n",
       "      <td>NaN</td>\n",
       "      <td>0.29</td>\n",
       "      <td>0.33</td>\n",
       "      <td>2.75</td>\n",
       "      <td>0.01</td>\n",
       "      <td>0.03</td>\n",
       "    </tr>\n",
       "    <tr>\n",
       "      <th>M</th>\n",
       "      <td>1.49</td>\n",
       "      <td>NaN</td>\n",
       "      <td>0.0</td>\n",
       "      <td>10.97</td>\n",
       "      <td>5.23</td>\n",
       "      <td>NaN</td>\n",
       "      <td>1.95</td>\n",
       "      <td>NaN</td>\n",
       "      <td>0.29</td>\n",
       "      <td>1.08</td>\n",
       "      <td>0.19</td>\n",
       "    </tr>\n",
       "    <tr>\n",
       "      <th>T</th>\n",
       "      <td>6.12</td>\n",
       "      <td>NaN</td>\n",
       "      <td>0.0</td>\n",
       "      <td>10.11</td>\n",
       "      <td>2.97</td>\n",
       "      <td>0.26</td>\n",
       "      <td>5.85</td>\n",
       "      <td>0.00</td>\n",
       "      <td>0.47</td>\n",
       "      <td>0.28</td>\n",
       "      <td>0.03</td>\n",
       "    </tr>\n",
       "    <tr>\n",
       "      <th>Unknown</th>\n",
       "      <td>60.05</td>\n",
       "      <td>3.35</td>\n",
       "      <td>0.0</td>\n",
       "      <td>11.23</td>\n",
       "      <td>6.25</td>\n",
       "      <td>9.87</td>\n",
       "      <td>12.86</td>\n",
       "      <td>2.24</td>\n",
       "      <td>2.84</td>\n",
       "      <td>0.15</td>\n",
       "      <td>0.05</td>\n",
       "    </tr>\n",
       "  </tbody>\n",
       "</table>\n",
       "</div>"
      ],
      "text/plain": [
       "platform    3DS    DS   PC    PS3   PS4   PSP    PSV   Wii  WiiU  X360  XOne\n",
       "rating                                                                      \n",
       "E         16.29  0.37  0.0   2.76  0.84  0.34   0.16  0.82  6.66  0.05  0.04\n",
       "E10+       3.89  0.00  0.0   0.22  0.67   NaN   0.29  0.33  2.75  0.01  0.03\n",
       "M          1.49   NaN  0.0  10.97  5.23   NaN   1.95   NaN  0.29  1.08  0.19\n",
       "T          6.12   NaN  0.0  10.11  2.97  0.26   5.85  0.00  0.47  0.28  0.03\n",
       "Unknown   60.05  3.35  0.0  11.23  6.25  9.87  12.86  2.24  2.84  0.15  0.05"
      ]
     },
     "execution_count": 68,
     "metadata": {},
     "output_type": "execute_result"
    },
    {
     "data": {
      "image/png": "[encoded data removed]",
      "text/plain": [
       "<Figure size 720x288 with 1 Axes>"
      ]
     },
     "metadata": {
      "needs_background": "light"
     },
     "output_type": "display_data"
    }
   ],
   "source": [
    "rating_infuence('JP')"
   ]
  },
  {
   "cell_type": "markdown",
   "metadata": {},
   "source": [
    "Как и ожидалось, ситуация для 'NA' и 'EU' результаты оказались очень похожи на анализ жанров. Так, на первом месте по продажам рейтинг 'M' - возрастное ограничение игры не подходят для подростков младше 17 лет. На втором 'E' - для возрастной категории от 6 лет. На третье место попало наше значение \"заглушка\" - 'Unknown'. Тоесть по сути игры без рейтинга. Для 'JP' рейтинг 'Unknown' - возглавил список опередив остальные рейтинги на 3/4. Конечно отчасти это связано с тем что под этим значением скрыта часть игр, рейтинг которых просто был пропущен при формировании датасета, но это лишь часть значений. Получается что регион 'JP' лидер по продажам игр без рейтинга."
   ]
  },
  {
   "cell_type": "markdown",
   "metadata": {},
   "source": [
    "### Вывод"
   ]
  },
  {
   "cell_type": "markdown",
   "metadata": {},
   "source": [
    "Подводя итог можно составить следующие портреты пользователей:\n",
    "* NA - Жанр - 'Action' рейтинга 'M' для платформы серии Xbox;\n",
    "* EU - Жанр - 'Action' рейтинга 'M' для платформы серии PS;\n",
    "* JP - Жанр - 'Role-Playing' рейтинга 'E' для платформы 3DS;"
   ]
  },
  {
   "cell_type": "markdown",
   "metadata": {},
   "source": [
    "## Проверка гипотез"
   ]
  },
  {
   "cell_type": "markdown",
   "metadata": {},
   "source": [
    "Средние пользовательские рейтинги платформ Xbox One и PC одинаковые;\n",
    "Средние пользовательские рейтинги жанров Action (англ. «действие», экшен-игры) и Sports (англ. «спортивные соревнования») разные."
   ]
  },
  {
   "cell_type": "markdown",
   "metadata": {},
   "source": [
    "Для того чтобы проверить гипотезы, их нужно сформировать. Первой проверим гипотезу о том что \"Средние пользовательские рейтинги платформ Xbox One и PC одинаковые\". Эта гипотеза является нулевой. На её основании формируется альтернативная, та что принимается если отвергается нулевая. Альтернативная гипотеза звучит следующим образом: Средние пользовательские рейтинги платформ Xbox One и PC различаются. \n",
    "\n",
    "Проверка гипотез осуществляется посредством `.stats.ttest_ind` из библиотеки SciPy. Данным методом можно проверять гипотезы о равенстве средних двух генеральных совокупностей. Для него задаётся параметр `alpha` - уровень статистической значимости, задаётся в процентах. Окончательное решение о его величине всегда остаётся за аналитиком. 5% является общепринятым пороговым значением и достаточно для нашего теста. Так же стоит учесть параметр 'equal_var'. Т.к. метод создан для анализа с выборками одинакового размера для генеральных совокупностей с одинаковыми дисперсиями (а наши выборки по размеру неодинаковы), то этому параметру нужно передать значение False."
   ]
  },
  {
   "cell_type": "code",
   "execution_count": 69,
   "metadata": {},
   "outputs": [
    {
     "name": "stdout",
     "output_type": "stream",
     "text": [
      "p-значение: 0.5489560454239967\n",
      "Не получилось отвергнуть нулевую гипотезу\n"
     ]
    }
   ],
   "source": [
    "alpha = .05 # критический уровень статистической значимости\n",
    "\n",
    "results = st.ttest_ind(\n",
    "    df.query('year_of_release > (year_of_release.max() - 5) & platform == \"XOne\"')['user_score'].dropna(), \n",
    "    df.query('year_of_release > (year_of_release.max() - 5) & platform == \"PC\"')['user_score'].dropna(), \n",
    "    equal_var = False\n",
    ")\n",
    "\n",
    "print('p-значение:', results.pvalue)\n",
    "\n",
    "if results.pvalue < alpha:\n",
    "    print(\"Отвергаем нулевую гипотезу\")\n",
    "else:\n",
    "    print(\"Не получилось отвергнуть нулевую гипотезу\") "
   ]
  },
  {
   "cell_type": "markdown",
   "metadata": {},
   "source": [
    "Результате теста принимаем нулевую гипотезу о равенстве пользовательских рейтингов для 'PC' и 'XOne'.\n",
    "\n",
    "Проверим ещё одну гипотезу о том что \"Средние пользовательские рейтинги жанров Action и Sports одинаковые.\" Сформулируем альтернативную: \"Средние пользовательские рейтинги жанров Action и Sports разные.\" и перейдём к тесту."
   ]
  },
  {
   "cell_type": "code",
   "execution_count": 70,
   "metadata": {},
   "outputs": [
    {
     "name": "stdout",
     "output_type": "stream",
     "text": [
      "p-значение: 4.30516254586104e-20\n",
      "Отвергаем нулевую гипотезу\n"
     ]
    }
   ],
   "source": [
    "alpha = .05 # критический уровень статистической значимости\n",
    "\n",
    "results = st.ttest_ind(\n",
    "    df.query('year_of_release > (year_of_release.max() - 5) & genre == \"Action\"')['user_score'].dropna(), \n",
    "    df.query('year_of_release > (year_of_release.max() - 5) & genre == \"Sports\"')['user_score'].dropna(), \n",
    "    equal_var = False\n",
    ")\n",
    "\n",
    "print('p-значение:', results.pvalue)\n",
    "\n",
    "if results.pvalue < alpha:\n",
    "    print(\"Отвергаем нулевую гипотезу\")\n",
    "else:\n",
    "    print(\"Не получилось отвергнуть нулевую гипотезу\") "
   ]
  },
  {
   "cell_type": "markdown",
   "metadata": {},
   "source": [
    "Выборки небольшие по размеру и мы можем рассчитать и сравнить их среднее."
   ]
  },
  {
   "cell_type": "code",
   "execution_count": 71,
   "metadata": {},
   "outputs": [
    {
     "data": {
      "text/plain": [
       "6.8244276"
      ]
     },
     "execution_count": 71,
     "metadata": {},
     "output_type": "execute_result"
    }
   ],
   "source": [
    "df.query('year_of_release > (year_of_release.max() - 5) & genre == \"Action\"')['user_score'].mean()"
   ]
  },
  {
   "cell_type": "code",
   "execution_count": 72,
   "metadata": {},
   "outputs": [
    {
     "data": {
      "text/plain": [
       "5.4558973"
      ]
     },
     "execution_count": 72,
     "metadata": {},
     "output_type": "execute_result"
    }
   ],
   "source": [
    "df.query('year_of_release > (year_of_release.max() - 5) & genre == \"Sports\"')['user_score'].mean()"
   ]
  },
  {
   "cell_type": "markdown",
   "metadata": {},
   "source": [
    "Различие есть, но небольшое, попадает в заданный диапазон статистической значимости. Отвергаем нулевую гипотезу и принимаем альтернативную. Здесь стоит напомнить, что никакие эксперименты не доказывают гипотезу, они только ей не противоречат."
   ]
  },
  {
   "cell_type": "markdown",
   "metadata": {},
   "source": [
    "## Вывод"
   ]
  },
  {
   "cell_type": "markdown",
   "metadata": {},
   "source": [
    "В работе была выполнена обзор и предобработка данных. В частности заполнена часть пропущенных значений. Был проведён исследовательский анал данных в результате которого было выявлено три перспективные платформы 'XOne', 'PS4' и  'PC'. Проанализированы продажи для этих платформ, самыми популярными оказались 'Action' и 'Sports'. Была выяснено что рекомендации критиков способны влиять на продажи для 'XOne' и 'PS4' - покупатели прислушиваются к их мнению. Следующим этапом были проанализированы продажи в трёх регионах и составлен их портрет, их приоритеты. В заключении были сформулированы две гипотезы и проведён их статистический анализ.\n",
    "\n",
    "В Заключении можно сказать что в следующем 2017 году для регионов 'NA' и 'EU' на пике популярности будут две платформы 'XOne' и 'PS4'. Самыми продаваемыми для них станут игры жанров: 'Action', 'Shooter' и 'Sports' рейтинга 'M' или 'Е'. Для региона 'JP' наиболее перспективной остаётся платформа 3DS и игры в жанре 'Role-Playing' без рейтинга."
   ]
  }
 ],
 "metadata": {
  "ExecuteTimeLog": [
   {
    "duration": 1405,
    "start_time": "2022-05-23T16:59:12.871Z"
   },
   {
    "duration": 122,
    "start_time": "2022-05-23T16:59:14.278Z"
   },
   {
    "duration": 15,
    "start_time": "2022-05-23T16:59:14.401Z"
   },
   {
    "duration": 14,
    "start_time": "2022-05-23T17:13:13.045Z"
   },
   {
    "duration": 40,
    "start_time": "2022-05-23T17:13:13.061Z"
   },
   {
    "duration": 4,
    "start_time": "2022-05-23T17:13:13.103Z"
   },
   {
    "duration": 5,
    "start_time": "2022-05-23T17:13:13.108Z"
   },
   {
    "duration": 9,
    "start_time": "2022-05-23T17:13:13.115Z"
   },
   {
    "duration": 21,
    "start_time": "2022-05-23T17:13:13.125Z"
   },
   {
    "duration": 29,
    "start_time": "2022-05-23T17:13:13.148Z"
   },
   {
    "duration": 140,
    "start_time": "2022-05-23T17:13:13.178Z"
   },
   {
    "duration": 27,
    "start_time": "2022-05-23T17:13:13.321Z"
   },
   {
    "duration": 11,
    "start_time": "2022-05-23T17:13:13.350Z"
   },
   {
    "duration": 3889,
    "start_time": "2022-05-23T17:13:13.363Z"
   },
   {
    "duration": 19,
    "start_time": "2022-05-23T17:13:17.253Z"
   },
   {
    "duration": 3,
    "start_time": "2022-05-23T17:13:17.274Z"
   },
   {
    "duration": 9,
    "start_time": "2022-05-23T17:13:17.278Z"
   },
   {
    "duration": 9,
    "start_time": "2022-05-23T17:13:17.289Z"
   },
   {
    "duration": 16,
    "start_time": "2022-05-23T17:13:17.299Z"
   },
   {
    "duration": 5,
    "start_time": "2022-05-23T17:13:17.316Z"
   },
   {
    "duration": 8,
    "start_time": "2022-05-23T17:13:17.323Z"
   },
   {
    "duration": 33,
    "start_time": "2022-05-23T17:13:17.334Z"
   },
   {
    "duration": 18,
    "start_time": "2022-05-23T17:13:17.369Z"
   },
   {
    "duration": 5,
    "start_time": "2022-05-23T17:13:17.389Z"
   },
   {
    "duration": 12,
    "start_time": "2022-05-23T17:13:17.397Z"
   },
   {
    "duration": 197,
    "start_time": "2022-05-23T17:13:17.411Z"
   },
   {
    "duration": 136,
    "start_time": "2022-05-23T17:13:17.611Z"
   },
   {
    "duration": 217,
    "start_time": "2022-05-23T17:13:17.749Z"
   },
   {
    "duration": 4,
    "start_time": "2022-05-23T17:13:17.969Z"
   },
   {
    "duration": 23,
    "start_time": "2022-05-23T17:13:17.975Z"
   },
   {
    "duration": 6,
    "start_time": "2022-05-23T17:13:18.000Z"
   },
   {
    "duration": 14,
    "start_time": "2022-05-23T17:13:18.008Z"
   },
   {
    "duration": 13,
    "start_time": "2022-05-23T17:13:18.024Z"
   },
   {
    "duration": 38,
    "start_time": "2022-05-23T17:13:18.039Z"
   },
   {
    "duration": 22,
    "start_time": "2022-05-23T17:13:18.079Z"
   },
   {
    "duration": 23,
    "start_time": "2022-05-23T17:13:18.103Z"
   },
   {
    "duration": 358,
    "start_time": "2022-05-23T17:13:18.129Z"
   },
   {
    "duration": 27,
    "start_time": "2022-05-23T17:13:18.489Z"
   },
   {
    "duration": 219,
    "start_time": "2022-05-23T17:13:18.517Z"
   },
   {
    "duration": 206,
    "start_time": "2022-05-23T17:13:18.738Z"
   },
   {
    "duration": 211,
    "start_time": "2022-05-23T17:13:18.945Z"
   },
   {
    "duration": 234,
    "start_time": "2022-05-23T17:13:19.158Z"
   },
   {
    "duration": 16,
    "start_time": "2022-05-23T17:13:19.394Z"
   },
   {
    "duration": 323,
    "start_time": "2022-05-23T17:13:19.412Z"
   },
   {
    "duration": 8,
    "start_time": "2022-05-23T17:13:19.737Z"
   },
   {
    "duration": 24,
    "start_time": "2022-05-23T17:13:26.468Z"
   },
   {
    "duration": 299,
    "start_time": "2022-05-23T17:16:24.748Z"
   },
   {
    "duration": 5,
    "start_time": "2022-05-23T17:23:05.458Z"
   },
   {
    "duration": 174,
    "start_time": "2022-05-23T17:23:05.465Z"
   },
   {
    "duration": 3,
    "start_time": "2022-05-23T17:23:11.573Z"
   },
   {
    "duration": 112,
    "start_time": "2022-05-23T17:23:24.147Z"
   },
   {
    "duration": 13,
    "start_time": "2022-05-23T17:23:38.318Z"
   },
   {
    "duration": 13,
    "start_time": "2022-05-23T17:24:11.696Z"
   },
   {
    "duration": 17,
    "start_time": "2022-05-23T17:24:52.497Z"
   },
   {
    "duration": 28,
    "start_time": "2022-05-23T17:28:28.344Z"
   },
   {
    "duration": 4,
    "start_time": "2022-05-23T17:28:48.046Z"
   },
   {
    "duration": 27,
    "start_time": "2022-05-23T17:28:57.948Z"
   },
   {
    "duration": 5,
    "start_time": "2022-05-23T17:29:05.009Z"
   },
   {
    "duration": 66,
    "start_time": "2022-05-23T18:43:03.063Z"
   },
   {
    "duration": 8,
    "start_time": "2022-05-23T18:43:16.356Z"
   },
   {
    "duration": 1444,
    "start_time": "2022-05-23T18:43:21.460Z"
   },
   {
    "duration": 113,
    "start_time": "2022-05-23T18:43:24.467Z"
   },
   {
    "duration": 46,
    "start_time": "2022-05-23T18:45:11.196Z"
   },
   {
    "duration": 130,
    "start_time": "2022-05-23T18:45:49.684Z"
   },
   {
    "duration": 378,
    "start_time": "2022-05-23T18:58:31.561Z"
   },
   {
    "duration": 3,
    "start_time": "2022-05-23T18:58:52.861Z"
   },
   {
    "duration": 92,
    "start_time": "2022-05-23T18:58:52.866Z"
   },
   {
    "duration": 15,
    "start_time": "2022-05-23T18:58:52.959Z"
   },
   {
    "duration": 10,
    "start_time": "2022-05-23T18:58:52.976Z"
   },
   {
    "duration": 34,
    "start_time": "2022-05-23T18:58:52.989Z"
   },
   {
    "duration": 5,
    "start_time": "2022-05-23T18:58:53.024Z"
   },
   {
    "duration": 30,
    "start_time": "2022-05-23T18:58:53.030Z"
   },
   {
    "duration": 19,
    "start_time": "2022-05-23T18:58:53.062Z"
   },
   {
    "duration": 21,
    "start_time": "2022-05-23T18:58:53.083Z"
   },
   {
    "duration": 12,
    "start_time": "2022-05-23T18:58:53.106Z"
   },
   {
    "duration": 13,
    "start_time": "2022-05-23T18:58:53.119Z"
   },
   {
    "duration": 26,
    "start_time": "2022-05-23T18:58:53.134Z"
   },
   {
    "duration": 4,
    "start_time": "2022-05-23T18:58:53.162Z"
   },
   {
    "duration": 3663,
    "start_time": "2022-05-23T18:58:53.169Z"
   },
   {
    "duration": 25,
    "start_time": "2022-05-23T18:58:56.834Z"
   },
   {
    "duration": 4,
    "start_time": "2022-05-23T18:58:56.861Z"
   },
   {
    "duration": 17,
    "start_time": "2022-05-23T18:58:56.867Z"
   },
   {
    "duration": 9,
    "start_time": "2022-05-23T18:58:56.887Z"
   },
   {
    "duration": 17,
    "start_time": "2022-05-23T18:58:56.897Z"
   },
   {
    "duration": 4,
    "start_time": "2022-05-23T18:58:56.916Z"
   },
   {
    "duration": 7,
    "start_time": "2022-05-23T18:58:56.922Z"
   },
   {
    "duration": 28,
    "start_time": "2022-05-23T18:58:56.931Z"
   },
   {
    "duration": 11,
    "start_time": "2022-05-23T18:58:56.960Z"
   },
   {
    "duration": 7,
    "start_time": "2022-05-23T18:58:56.972Z"
   },
   {
    "duration": 7,
    "start_time": "2022-05-23T18:58:56.981Z"
   },
   {
    "duration": 403,
    "start_time": "2022-05-23T18:58:56.990Z"
   },
   {
    "duration": 130,
    "start_time": "2022-05-23T18:58:57.395Z"
   },
   {
    "duration": 181,
    "start_time": "2022-05-23T18:58:57.527Z"
   },
   {
    "duration": 38,
    "start_time": "2022-05-23T18:59:02.723Z"
   },
   {
    "duration": 500,
    "start_time": "2022-05-23T18:59:58.764Z"
   },
   {
    "duration": 482,
    "start_time": "2022-05-23T19:00:13.334Z"
   },
   {
    "duration": 411,
    "start_time": "2022-05-23T19:00:28.601Z"
   },
   {
    "duration": 380,
    "start_time": "2022-05-23T19:00:32.013Z"
   },
   {
    "duration": 7,
    "start_time": "2022-05-23T19:00:54.654Z"
   },
   {
    "duration": 6,
    "start_time": "2022-05-23T19:00:58.870Z"
   },
   {
    "duration": 13,
    "start_time": "2022-05-23T19:01:18.384Z"
   },
   {
    "duration": 4,
    "start_time": "2022-05-23T19:01:25.765Z"
   },
   {
    "duration": 15,
    "start_time": "2022-05-23T19:01:27.277Z"
   },
   {
    "duration": 4,
    "start_time": "2022-05-23T19:01:58.929Z"
   },
   {
    "duration": 14,
    "start_time": "2022-05-23T19:02:03.286Z"
   },
   {
    "duration": 8,
    "start_time": "2022-05-23T19:12:49.454Z"
   },
   {
    "duration": 2,
    "start_time": "2022-05-23T19:12:56.467Z"
   },
   {
    "duration": 92,
    "start_time": "2022-05-23T19:12:56.471Z"
   },
   {
    "duration": 13,
    "start_time": "2022-05-23T19:12:56.565Z"
   },
   {
    "duration": 12,
    "start_time": "2022-05-23T19:12:56.580Z"
   },
   {
    "duration": 33,
    "start_time": "2022-05-23T19:12:56.594Z"
   },
   {
    "duration": 4,
    "start_time": "2022-05-23T19:12:56.629Z"
   },
   {
    "duration": 4,
    "start_time": "2022-05-23T19:12:56.659Z"
   },
   {
    "duration": 23,
    "start_time": "2022-05-23T19:12:56.664Z"
   },
   {
    "duration": 23,
    "start_time": "2022-05-23T19:12:56.689Z"
   },
   {
    "duration": 34,
    "start_time": "2022-05-23T19:12:56.713Z"
   },
   {
    "duration": 16,
    "start_time": "2022-05-23T19:12:56.750Z"
   },
   {
    "duration": 23,
    "start_time": "2022-05-23T19:12:56.768Z"
   },
   {
    "duration": 8,
    "start_time": "2022-05-23T19:12:56.792Z"
   },
   {
    "duration": 3575,
    "start_time": "2022-05-23T19:12:56.801Z"
   },
   {
    "duration": 13,
    "start_time": "2022-05-23T19:13:00.377Z"
   },
   {
    "duration": 8,
    "start_time": "2022-05-23T19:13:00.392Z"
   },
   {
    "duration": 8,
    "start_time": "2022-05-23T19:13:00.402Z"
   },
   {
    "duration": 35,
    "start_time": "2022-05-23T19:13:00.412Z"
   },
   {
    "duration": 45,
    "start_time": "2022-05-23T19:13:00.449Z"
   },
   {
    "duration": 21,
    "start_time": "2022-05-23T19:13:00.495Z"
   },
   {
    "duration": 25,
    "start_time": "2022-05-23T19:13:00.518Z"
   },
   {
    "duration": 19,
    "start_time": "2022-05-23T19:13:00.544Z"
   },
   {
    "duration": 20,
    "start_time": "2022-05-23T19:13:00.565Z"
   },
   {
    "duration": 9,
    "start_time": "2022-05-23T19:13:00.587Z"
   },
   {
    "duration": 22,
    "start_time": "2022-05-23T19:13:00.598Z"
   },
   {
    "duration": 154,
    "start_time": "2022-05-23T19:13:00.623Z"
   },
   {
    "duration": 139,
    "start_time": "2022-05-23T19:13:00.779Z"
   },
   {
    "duration": 161,
    "start_time": "2022-05-23T19:13:00.920Z"
   },
   {
    "duration": 4,
    "start_time": "2022-05-23T19:13:01.086Z"
   },
   {
    "duration": 16,
    "start_time": "2022-05-23T19:13:01.092Z"
   },
   {
    "duration": 53,
    "start_time": "2022-05-23T19:13:01.110Z"
   },
   {
    "duration": 87,
    "start_time": "2022-05-23T19:13:01.164Z"
   },
   {
    "duration": 41,
    "start_time": "2022-05-23T19:13:01.253Z"
   },
   {
    "duration": 23,
    "start_time": "2022-05-23T19:13:01.296Z"
   },
   {
    "duration": 104,
    "start_time": "2022-05-23T19:13:01.321Z"
   },
   {
    "duration": 79,
    "start_time": "2022-05-23T19:13:01.427Z"
   },
   {
    "duration": 28,
    "start_time": "2022-05-23T19:13:01.507Z"
   },
   {
    "duration": 396,
    "start_time": "2022-05-23T19:13:01.537Z"
   },
   {
    "duration": 27,
    "start_time": "2022-05-23T19:13:01.935Z"
   },
   {
    "duration": 254,
    "start_time": "2022-05-23T19:13:01.964Z"
   },
   {
    "duration": 184,
    "start_time": "2022-05-23T19:13:02.219Z"
   },
   {
    "duration": 188,
    "start_time": "2022-05-23T19:13:02.404Z"
   },
   {
    "duration": 234,
    "start_time": "2022-05-23T19:13:02.594Z"
   },
   {
    "duration": 15,
    "start_time": "2022-05-23T19:13:02.830Z"
   },
   {
    "duration": 464,
    "start_time": "2022-05-23T19:13:02.848Z"
   },
   {
    "duration": 10,
    "start_time": "2022-05-23T19:13:03.314Z"
   },
   {
    "duration": 240,
    "start_time": "2022-05-23T19:13:03.325Z"
   },
   {
    "duration": 19,
    "start_time": "2022-05-23T19:13:03.567Z"
   },
   {
    "duration": 195,
    "start_time": "2022-05-23T19:13:03.588Z"
   },
   {
    "duration": 28,
    "start_time": "2022-05-23T19:13:03.786Z"
   },
   {
    "duration": 42,
    "start_time": "2022-05-23T19:13:03.815Z"
   },
   {
    "duration": 319,
    "start_time": "2022-05-23T19:13:03.859Z"
   },
   {
    "duration": 322,
    "start_time": "2022-05-23T19:13:04.179Z"
   },
   {
    "duration": 326,
    "start_time": "2022-05-23T19:13:04.503Z"
   },
   {
    "duration": 287,
    "start_time": "2022-05-23T19:13:04.833Z"
   },
   {
    "duration": 255,
    "start_time": "2022-05-23T19:13:05.122Z"
   },
   {
    "duration": 331,
    "start_time": "2022-05-23T19:13:14.189Z"
   },
   {
    "duration": 374,
    "start_time": "2022-05-23T19:13:20.858Z"
   },
   {
    "duration": 259,
    "start_time": "2022-05-23T19:13:35.025Z"
   },
   {
    "duration": 4,
    "start_time": "2022-05-23T19:39:34.641Z"
   },
   {
    "duration": 2,
    "start_time": "2022-05-23T19:39:49.604Z"
   },
   {
    "duration": 86,
    "start_time": "2022-05-23T19:39:49.608Z"
   },
   {
    "duration": 13,
    "start_time": "2022-05-23T19:39:49.695Z"
   },
   {
    "duration": 19,
    "start_time": "2022-05-23T19:39:49.710Z"
   },
   {
    "duration": 41,
    "start_time": "2022-05-23T19:39:49.731Z"
   },
   {
    "duration": 4,
    "start_time": "2022-05-23T19:39:49.773Z"
   },
   {
    "duration": 7,
    "start_time": "2022-05-23T19:39:49.778Z"
   },
   {
    "duration": 7,
    "start_time": "2022-05-23T19:39:49.786Z"
   },
   {
    "duration": 16,
    "start_time": "2022-05-23T19:39:49.794Z"
   },
   {
    "duration": 12,
    "start_time": "2022-05-23T19:39:49.811Z"
   },
   {
    "duration": 34,
    "start_time": "2022-05-23T19:39:49.826Z"
   },
   {
    "duration": 19,
    "start_time": "2022-05-23T19:39:49.861Z"
   },
   {
    "duration": 5,
    "start_time": "2022-05-23T19:39:49.881Z"
   },
   {
    "duration": 3561,
    "start_time": "2022-05-23T19:39:49.887Z"
   },
   {
    "duration": 16,
    "start_time": "2022-05-23T19:39:53.450Z"
   },
   {
    "duration": 3,
    "start_time": "2022-05-23T19:39:53.467Z"
   },
   {
    "duration": 6,
    "start_time": "2022-05-23T19:39:53.472Z"
   },
   {
    "duration": 6,
    "start_time": "2022-05-23T19:39:53.480Z"
   },
   {
    "duration": 13,
    "start_time": "2022-05-23T19:39:53.487Z"
   },
   {
    "duration": 4,
    "start_time": "2022-05-23T19:39:53.501Z"
   },
   {
    "duration": 8,
    "start_time": "2022-05-23T19:39:53.507Z"
   },
   {
    "duration": 5,
    "start_time": "2022-05-23T19:39:53.516Z"
   },
   {
    "duration": 37,
    "start_time": "2022-05-23T19:39:53.523Z"
   },
   {
    "duration": 4,
    "start_time": "2022-05-23T19:39:53.562Z"
   },
   {
    "duration": 8,
    "start_time": "2022-05-23T19:39:53.567Z"
   },
   {
    "duration": 135,
    "start_time": "2022-05-23T19:39:53.576Z"
   },
   {
    "duration": 122,
    "start_time": "2022-05-23T19:39:53.713Z"
   },
   {
    "duration": 116,
    "start_time": "2022-05-23T19:39:53.837Z"
   },
   {
    "duration": 4,
    "start_time": "2022-05-23T19:39:53.961Z"
   },
   {
    "duration": 13,
    "start_time": "2022-05-23T19:39:53.967Z"
   },
   {
    "duration": 19,
    "start_time": "2022-05-23T19:39:53.981Z"
   },
   {
    "duration": 5,
    "start_time": "2022-05-23T19:39:54.001Z"
   },
   {
    "duration": 9,
    "start_time": "2022-05-23T19:39:54.007Z"
   },
   {
    "duration": 10,
    "start_time": "2022-05-23T19:39:54.018Z"
   },
   {
    "duration": 31,
    "start_time": "2022-05-23T19:39:54.029Z"
   },
   {
    "duration": 18,
    "start_time": "2022-05-23T19:39:54.061Z"
   },
   {
    "duration": 18,
    "start_time": "2022-05-23T19:39:54.080Z"
   },
   {
    "duration": 308,
    "start_time": "2022-05-23T19:39:54.100Z"
   },
   {
    "duration": 17,
    "start_time": "2022-05-23T19:39:54.410Z"
   },
   {
    "duration": 180,
    "start_time": "2022-05-23T19:39:54.429Z"
   },
   {
    "duration": 167,
    "start_time": "2022-05-23T19:39:54.610Z"
   },
   {
    "duration": 160,
    "start_time": "2022-05-23T19:39:54.779Z"
   },
   {
    "duration": 213,
    "start_time": "2022-05-23T19:39:54.941Z"
   },
   {
    "duration": 15,
    "start_time": "2022-05-23T19:39:55.158Z"
   },
   {
    "duration": 260,
    "start_time": "2022-05-23T19:39:55.174Z"
   },
   {
    "duration": 7,
    "start_time": "2022-05-23T19:39:55.436Z"
   },
   {
    "duration": 258,
    "start_time": "2022-05-23T19:39:55.444Z"
   },
   {
    "duration": 12,
    "start_time": "2022-05-23T19:39:55.704Z"
   },
   {
    "duration": 166,
    "start_time": "2022-05-23T19:39:55.718Z"
   },
   {
    "duration": 19,
    "start_time": "2022-05-23T19:39:55.886Z"
   },
   {
    "duration": 5,
    "start_time": "2022-05-23T19:39:55.907Z"
   },
   {
    "duration": 286,
    "start_time": "2022-05-23T19:39:55.914Z"
   },
   {
    "duration": 297,
    "start_time": "2022-05-23T19:39:56.202Z"
   },
   {
    "duration": 293,
    "start_time": "2022-05-23T19:39:56.501Z"
   },
   {
    "duration": 262,
    "start_time": "2022-05-23T19:39:56.796Z"
   },
   {
    "duration": 307,
    "start_time": "2022-05-23T19:39:57.060Z"
   },
   {
    "duration": 266,
    "start_time": "2022-05-23T19:40:05.969Z"
   },
   {
    "duration": 3,
    "start_time": "2022-05-23T19:40:11.354Z"
   },
   {
    "duration": 4,
    "start_time": "2022-05-23T19:40:19.850Z"
   },
   {
    "duration": 5,
    "start_time": "2022-05-23T19:40:37.066Z"
   },
   {
    "duration": 101,
    "start_time": "2022-05-23T19:40:41.269Z"
   },
   {
    "duration": 111,
    "start_time": "2022-05-23T19:40:58.166Z"
   },
   {
    "duration": 132,
    "start_time": "2022-05-23T19:41:01.554Z"
   },
   {
    "duration": 4,
    "start_time": "2022-05-23T19:44:01.079Z"
   },
   {
    "duration": 130,
    "start_time": "2022-05-23T19:44:04.600Z"
   },
   {
    "duration": 261,
    "start_time": "2022-05-23T19:44:11.170Z"
   },
   {
    "duration": 188,
    "start_time": "2022-05-23T19:44:15.056Z"
   },
   {
    "duration": 127,
    "start_time": "2022-05-23T19:45:22.008Z"
   },
   {
    "duration": 132,
    "start_time": "2022-05-23T19:45:24.471Z"
   },
   {
    "duration": 120,
    "start_time": "2022-05-23T19:45:29.756Z"
   },
   {
    "duration": 4,
    "start_time": "2022-05-23T19:46:13.407Z"
   },
   {
    "duration": 161,
    "start_time": "2022-05-23T19:46:15.664Z"
   },
   {
    "duration": 171,
    "start_time": "2022-05-23T19:46:21.564Z"
   },
   {
    "duration": 190,
    "start_time": "2022-05-23T19:46:27.090Z"
   },
   {
    "duration": 11,
    "start_time": "2022-05-23T19:57:30.253Z"
   },
   {
    "duration": 14,
    "start_time": "2022-05-23T19:57:52.755Z"
   },
   {
    "duration": 9,
    "start_time": "2022-05-23T19:58:10.607Z"
   },
   {
    "duration": 10,
    "start_time": "2022-05-23T19:58:12.897Z"
   },
   {
    "duration": 3,
    "start_time": "2022-05-23T20:01:55.461Z"
   },
   {
    "duration": 82,
    "start_time": "2022-05-23T20:01:55.466Z"
   },
   {
    "duration": 14,
    "start_time": "2022-05-23T20:01:55.549Z"
   },
   {
    "duration": 10,
    "start_time": "2022-05-23T20:01:55.565Z"
   },
   {
    "duration": 31,
    "start_time": "2022-05-23T20:01:55.576Z"
   },
   {
    "duration": 4,
    "start_time": "2022-05-23T20:01:55.609Z"
   },
   {
    "duration": 12,
    "start_time": "2022-05-23T20:01:55.614Z"
   },
   {
    "duration": 32,
    "start_time": "2022-05-23T20:01:55.628Z"
   },
   {
    "duration": 20,
    "start_time": "2022-05-23T20:01:55.664Z"
   },
   {
    "duration": 19,
    "start_time": "2022-05-23T20:01:55.686Z"
   },
   {
    "duration": 19,
    "start_time": "2022-05-23T20:01:55.706Z"
   },
   {
    "duration": 49,
    "start_time": "2022-05-23T20:01:55.728Z"
   },
   {
    "duration": 8,
    "start_time": "2022-05-23T20:01:55.779Z"
   },
   {
    "duration": 3598,
    "start_time": "2022-05-23T20:01:55.789Z"
   },
   {
    "duration": 12,
    "start_time": "2022-05-23T20:01:59.389Z"
   },
   {
    "duration": 4,
    "start_time": "2022-05-23T20:01:59.402Z"
   },
   {
    "duration": 6,
    "start_time": "2022-05-23T20:01:59.407Z"
   },
   {
    "duration": 8,
    "start_time": "2022-05-23T20:01:59.415Z"
   },
   {
    "duration": 34,
    "start_time": "2022-05-23T20:01:59.425Z"
   },
   {
    "duration": 5,
    "start_time": "2022-05-23T20:01:59.460Z"
   },
   {
    "duration": 10,
    "start_time": "2022-05-23T20:01:59.466Z"
   },
   {
    "duration": 7,
    "start_time": "2022-05-23T20:01:59.477Z"
   },
   {
    "duration": 9,
    "start_time": "2022-05-23T20:01:59.486Z"
   },
   {
    "duration": 4,
    "start_time": "2022-05-23T20:01:59.499Z"
   },
   {
    "duration": 8,
    "start_time": "2022-05-23T20:01:59.505Z"
   },
   {
    "duration": 157,
    "start_time": "2022-05-23T20:01:59.514Z"
   },
   {
    "duration": 119,
    "start_time": "2022-05-23T20:01:59.673Z"
   },
   {
    "duration": 136,
    "start_time": "2022-05-23T20:01:59.793Z"
   },
   {
    "duration": 4,
    "start_time": "2022-05-23T20:01:59.931Z"
   },
   {
    "duration": 10,
    "start_time": "2022-05-23T20:01:59.936Z"
   },
   {
    "duration": 19,
    "start_time": "2022-05-23T20:01:59.948Z"
   },
   {
    "duration": 4,
    "start_time": "2022-05-23T20:01:59.969Z"
   },
   {
    "duration": 12,
    "start_time": "2022-05-23T20:01:59.975Z"
   },
   {
    "duration": 8,
    "start_time": "2022-05-23T20:01:59.988Z"
   },
   {
    "duration": 23,
    "start_time": "2022-05-23T20:01:59.998Z"
   },
   {
    "duration": 42,
    "start_time": "2022-05-23T20:02:00.023Z"
   },
   {
    "duration": 20,
    "start_time": "2022-05-23T20:02:00.067Z"
   },
   {
    "duration": 320,
    "start_time": "2022-05-23T20:02:00.089Z"
   },
   {
    "duration": 18,
    "start_time": "2022-05-23T20:02:00.410Z"
   },
   {
    "duration": 214,
    "start_time": "2022-05-23T20:02:00.430Z"
   },
   {
    "duration": 189,
    "start_time": "2022-05-23T20:02:00.646Z"
   },
   {
    "duration": 163,
    "start_time": "2022-05-23T20:02:00.837Z"
   },
   {
    "duration": 209,
    "start_time": "2022-05-23T20:02:01.002Z"
   },
   {
    "duration": 14,
    "start_time": "2022-05-23T20:02:01.213Z"
   },
   {
    "duration": 412,
    "start_time": "2022-05-23T20:02:01.229Z"
   },
   {
    "duration": 18,
    "start_time": "2022-05-23T20:02:01.643Z"
   },
   {
    "duration": 170,
    "start_time": "2022-05-23T20:02:01.663Z"
   },
   {
    "duration": 15,
    "start_time": "2022-05-23T20:02:01.834Z"
   },
   {
    "duration": 184,
    "start_time": "2022-05-23T20:02:01.858Z"
   },
   {
    "duration": 28,
    "start_time": "2022-05-23T20:02:02.043Z"
   },
   {
    "duration": 5,
    "start_time": "2022-05-23T20:02:02.072Z"
   },
   {
    "duration": 291,
    "start_time": "2022-05-23T20:02:02.079Z"
   },
   {
    "duration": 299,
    "start_time": "2022-05-23T20:02:02.372Z"
   },
   {
    "duration": 326,
    "start_time": "2022-05-23T20:02:02.673Z"
   },
   {
    "duration": 279,
    "start_time": "2022-05-23T20:02:03.001Z"
   },
   {
    "duration": 271,
    "start_time": "2022-05-23T20:02:03.282Z"
   },
   {
    "duration": 4,
    "start_time": "2022-05-23T20:02:03.555Z"
   },
   {
    "duration": 138,
    "start_time": "2022-05-23T20:02:03.561Z"
   },
   {
    "duration": 132,
    "start_time": "2022-05-23T20:02:03.701Z"
   },
   {
    "duration": 130,
    "start_time": "2022-05-23T20:02:03.835Z"
   },
   {
    "duration": 136,
    "start_time": "2022-05-23T20:02:03.967Z"
   },
   {
    "duration": 149,
    "start_time": "2022-05-23T20:02:04.105Z"
   },
   {
    "duration": 147,
    "start_time": "2022-05-23T20:02:04.256Z"
   },
   {
    "duration": 4,
    "start_time": "2022-05-23T20:02:04.405Z"
   },
   {
    "duration": 162,
    "start_time": "2022-05-23T20:02:04.411Z"
   },
   {
    "duration": 178,
    "start_time": "2022-05-23T20:02:04.575Z"
   },
   {
    "duration": 308,
    "start_time": "2022-05-23T20:02:04.758Z"
   },
   {
    "duration": 11,
    "start_time": "2022-05-23T20:02:05.068Z"
   },
   {
    "duration": 12,
    "start_time": "2022-05-23T20:02:05.084Z"
   },
   {
    "duration": 7,
    "start_time": "2022-05-23T20:02:05.098Z"
   },
   {
    "duration": 10,
    "start_time": "2022-05-23T20:02:05.106Z"
   },
   {
    "duration": 287,
    "start_time": "2022-05-23T20:04:04.900Z"
   },
   {
    "duration": 42,
    "start_time": "2022-05-24T04:50:14.542Z"
   },
   {
    "duration": 1088,
    "start_time": "2022-05-24T14:40:25.145Z"
   },
   {
    "duration": 192,
    "start_time": "2022-05-24T14:40:26.234Z"
   },
   {
    "duration": 14,
    "start_time": "2022-05-24T14:40:26.428Z"
   },
   {
    "duration": 10,
    "start_time": "2022-05-24T14:40:26.444Z"
   },
   {
    "duration": 26,
    "start_time": "2022-05-24T14:40:26.456Z"
   },
   {
    "duration": 4,
    "start_time": "2022-05-24T14:40:26.483Z"
   },
   {
    "duration": 5,
    "start_time": "2022-05-24T14:40:26.488Z"
   },
   {
    "duration": 7,
    "start_time": "2022-05-24T14:40:26.494Z"
   },
   {
    "duration": 16,
    "start_time": "2022-05-24T14:40:26.502Z"
   },
   {
    "duration": 12,
    "start_time": "2022-05-24T14:40:26.520Z"
   },
   {
    "duration": 29,
    "start_time": "2022-05-24T14:40:26.533Z"
   },
   {
    "duration": 23,
    "start_time": "2022-05-24T14:40:26.564Z"
   },
   {
    "duration": 4,
    "start_time": "2022-05-24T14:40:26.589Z"
   },
   {
    "duration": 3204,
    "start_time": "2022-05-24T14:40:26.595Z"
   },
   {
    "duration": 13,
    "start_time": "2022-05-24T14:40:29.800Z"
   },
   {
    "duration": 6,
    "start_time": "2022-05-24T14:40:29.815Z"
   },
   {
    "duration": 7,
    "start_time": "2022-05-24T14:40:29.822Z"
   },
   {
    "duration": 5,
    "start_time": "2022-05-24T14:40:29.831Z"
   },
   {
    "duration": 29,
    "start_time": "2022-05-24T14:40:29.837Z"
   },
   {
    "duration": 10,
    "start_time": "2022-05-24T14:40:29.867Z"
   },
   {
    "duration": 11,
    "start_time": "2022-05-24T14:40:29.879Z"
   },
   {
    "duration": 5,
    "start_time": "2022-05-24T14:40:29.892Z"
   },
   {
    "duration": 16,
    "start_time": "2022-05-24T14:40:29.898Z"
   },
   {
    "duration": 6,
    "start_time": "2022-05-24T14:40:29.915Z"
   },
   {
    "duration": 6,
    "start_time": "2022-05-24T14:40:29.922Z"
   },
   {
    "duration": 143,
    "start_time": "2022-05-24T14:40:29.930Z"
   },
   {
    "duration": 116,
    "start_time": "2022-05-24T14:40:30.075Z"
   },
   {
    "duration": 179,
    "start_time": "2022-05-24T14:40:30.194Z"
   },
   {
    "duration": 4,
    "start_time": "2022-05-24T14:40:30.375Z"
   },
   {
    "duration": 9,
    "start_time": "2022-05-24T14:40:30.381Z"
   },
   {
    "duration": 20,
    "start_time": "2022-05-24T14:40:30.392Z"
   },
   {
    "duration": 7,
    "start_time": "2022-05-24T14:40:30.414Z"
   },
   {
    "duration": 15,
    "start_time": "2022-05-24T14:40:30.422Z"
   },
   {
    "duration": 10,
    "start_time": "2022-05-24T14:40:30.439Z"
   },
   {
    "duration": 23,
    "start_time": "2022-05-24T14:40:30.451Z"
   },
   {
    "duration": 18,
    "start_time": "2022-05-24T14:40:30.476Z"
   },
   {
    "duration": 17,
    "start_time": "2022-05-24T14:40:30.496Z"
   },
   {
    "duration": 444,
    "start_time": "2022-05-24T14:40:30.515Z"
   },
   {
    "duration": 18,
    "start_time": "2022-05-24T14:40:30.961Z"
   },
   {
    "duration": 327,
    "start_time": "2022-05-24T14:40:30.980Z"
   },
   {
    "duration": 302,
    "start_time": "2022-05-24T14:40:31.360Z"
   },
   {
    "duration": 308,
    "start_time": "2022-05-24T14:40:31.664Z"
   },
   {
    "duration": 338,
    "start_time": "2022-05-24T14:40:31.974Z"
   },
   {
    "duration": 53,
    "start_time": "2022-05-24T14:40:32.314Z"
   },
   {
    "duration": 260,
    "start_time": "2022-05-24T14:40:32.368Z"
   },
   {
    "duration": 7,
    "start_time": "2022-05-24T14:40:32.630Z"
   },
   {
    "duration": 141,
    "start_time": "2022-05-24T14:40:32.638Z"
   },
   {
    "duration": 12,
    "start_time": "2022-05-24T14:40:32.780Z"
   },
   {
    "duration": 172,
    "start_time": "2022-05-24T14:40:32.794Z"
   },
   {
    "duration": 19,
    "start_time": "2022-05-24T14:40:32.967Z"
   },
   {
    "duration": 10,
    "start_time": "2022-05-24T14:40:32.988Z"
   },
   {
    "duration": 304,
    "start_time": "2022-05-24T14:40:32.999Z"
   },
   {
    "duration": 395,
    "start_time": "2022-05-24T14:40:33.305Z"
   },
   {
    "duration": 305,
    "start_time": "2022-05-24T14:40:33.702Z"
   },
   {
    "duration": 271,
    "start_time": "2022-05-24T14:40:34.008Z"
   },
   {
    "duration": 244,
    "start_time": "2022-05-24T14:40:34.281Z"
   },
   {
    "duration": 248,
    "start_time": "2022-05-24T14:40:34.527Z"
   },
   {
    "duration": 4,
    "start_time": "2022-05-24T14:40:34.776Z"
   },
   {
    "duration": 159,
    "start_time": "2022-05-24T14:40:34.781Z"
   },
   {
    "duration": 120,
    "start_time": "2022-05-24T14:40:34.942Z"
   },
   {
    "duration": 135,
    "start_time": "2022-05-24T14:40:35.063Z"
   },
   {
    "duration": 128,
    "start_time": "2022-05-24T14:40:35.200Z"
   },
   {
    "duration": 217,
    "start_time": "2022-05-24T14:40:35.329Z"
   },
   {
    "duration": 122,
    "start_time": "2022-05-24T14:40:35.548Z"
   },
   {
    "duration": 3,
    "start_time": "2022-05-24T14:40:35.672Z"
   },
   {
    "duration": 146,
    "start_time": "2022-05-24T14:40:35.676Z"
   },
   {
    "duration": 174,
    "start_time": "2022-05-24T14:40:35.823Z"
   },
   {
    "duration": 151,
    "start_time": "2022-05-24T14:40:35.998Z"
   },
   {
    "duration": 12,
    "start_time": "2022-05-24T14:40:36.159Z"
   },
   {
    "duration": 13,
    "start_time": "2022-05-24T14:40:36.173Z"
   },
   {
    "duration": 7,
    "start_time": "2022-05-24T14:40:36.187Z"
   },
   {
    "duration": 15,
    "start_time": "2022-05-24T14:40:36.195Z"
   },
   {
    "duration": 5,
    "start_time": "2022-05-24T14:40:46.456Z"
   },
   {
    "duration": 15,
    "start_time": "2022-05-24T14:40:54.424Z"
   }
  ],
  "kernelspec": {
   "display_name": "Python 3 (ipykernel)",
   "language": "python",
   "name": "python3"
  },
  "language_info": {
   "codemirror_mode": {
    "name": "ipython",
    "version": 3
   },
   "file_extension": ".py",
   "mimetype": "text/x-python",
   "name": "python",
   "nbconvert_exporter": "python",
   "pygments_lexer": "ipython3",
   "version": "3.9.7"
  },
  "toc": {
   "base_numbering": 1,
   "nav_menu": {
    "height": "398px",
    "width": "524px"
   },
   "number_sections": true,
   "sideBar": true,
   "skip_h1_title": true,
   "title_cell": "Содержание:",
   "title_sidebar": "Contents",
   "toc_cell": true,
   "toc_position": {},
   "toc_section_display": true,
   "toc_window_display": false
  }
 },
 "nbformat": 4,
 "nbformat_minor": 2
}
