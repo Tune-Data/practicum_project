{
 "cells": [
  {
   "cell_type": "markdown",
   "id": "225c95b5",
   "metadata": {
    "toc": true
   },
   "source": [
    "<h1>Содержание<span class=\"tocSkip\"></span></h1>\n",
    "<div class=\"toc\"><ul class=\"toc-item\"><li><span><a href=\"#Определение-перспективного-тарифа-для-телеком-компании\" data-toc-modified-id=\"Определение-перспективного-тарифа-для-телеком-компании-1\"><span class=\"toc-item-num\">1&nbsp;&nbsp;</span>Определение перспективного тарифа для телеком-компании</a></span><ul class=\"toc-item\"><li><span><a href=\"#Описание-тарифов\" data-toc-modified-id=\"Описание-тарифов-1.1\"><span class=\"toc-item-num\">1.1&nbsp;&nbsp;</span>Описание тарифов</a></span></li></ul></li><li><span><a href=\"#Изучение-данных-из-файла\" data-toc-modified-id=\"Изучение-данных-из-файла-2\"><span class=\"toc-item-num\">2&nbsp;&nbsp;</span>Изучение данных из файла</a></span><ul class=\"toc-item\"><li><span><a href=\"#Информация-о-пользователях\" data-toc-modified-id=\"Информация-о-пользователях-2.1\"><span class=\"toc-item-num\">2.1&nbsp;&nbsp;</span>Информация о пользователях</a></span></li><li><span><a href=\"#Информация-о-звонках\" data-toc-modified-id=\"Информация-о-звонках-2.2\"><span class=\"toc-item-num\">2.2&nbsp;&nbsp;</span>Информация о звонках</a></span></li><li><span><a href=\"#Информация-о-сообщениях\" data-toc-modified-id=\"Информация-о-сообщениях-2.3\"><span class=\"toc-item-num\">2.3&nbsp;&nbsp;</span>Информация о сообщениях</a></span></li><li><span><a href=\"#Информация-об-интернет-сессиях\" data-toc-modified-id=\"Информация-об-интернет-сессиях-2.4\"><span class=\"toc-item-num\">2.4&nbsp;&nbsp;</span>Информация об интернет-сессиях</a></span></li><li><span><a href=\"#Информация-о-тарифах\" data-toc-modified-id=\"Информация-о-тарифах-2.5\"><span class=\"toc-item-num\">2.5&nbsp;&nbsp;</span>Информация о тарифах</a></span></li><li><span><a href=\"#Вывод\" data-toc-modified-id=\"Вывод-2.6\"><span class=\"toc-item-num\">2.6&nbsp;&nbsp;</span>Вывод</a></span></li></ul></li><li><span><a href=\"#Предобработка-данных\" data-toc-modified-id=\"Предобработка-данных-3\"><span class=\"toc-item-num\">3&nbsp;&nbsp;</span>Предобработка данных</a></span><ul class=\"toc-item\"><li><span><a href=\"#Информация-о-пользователях\" data-toc-modified-id=\"Информация-о-пользователях-3.1\"><span class=\"toc-item-num\">3.1&nbsp;&nbsp;</span>Информация о пользователях</a></span></li><li><span><a href=\"#Информация-о-звонках\" data-toc-modified-id=\"Информация-о-звонках-3.2\"><span class=\"toc-item-num\">3.2&nbsp;&nbsp;</span>Информация о звонках</a></span></li><li><span><a href=\"#Информация-о-сообщениях\" data-toc-modified-id=\"Информация-о-сообщениях-3.3\"><span class=\"toc-item-num\">3.3&nbsp;&nbsp;</span>Информация о сообщениях</a></span></li><li><span><a href=\"#Информация-об-интернет-сессиях\" data-toc-modified-id=\"Информация-об-интернет-сессиях-3.4\"><span class=\"toc-item-num\">3.4&nbsp;&nbsp;</span>Информация об интернет-сессиях</a></span></li><li><span><a href=\"#Итоговая-таблица\" data-toc-modified-id=\"Итоговая-таблица-3.5\"><span class=\"toc-item-num\">3.5&nbsp;&nbsp;</span>Итоговая таблица</a></span><ul class=\"toc-item\"><li><span><a href=\"#Вывод\" data-toc-modified-id=\"Вывод-3.5.1\"><span class=\"toc-item-num\">3.5.1&nbsp;&nbsp;</span>Вывод</a></span></li></ul></li></ul></li><li><span><a href=\"#Анализ-данных\" data-toc-modified-id=\"Анализ-данных-4\"><span class=\"toc-item-num\">4&nbsp;&nbsp;</span>Анализ данных</a></span></li><li><span><a href=\"#Проверка-гипотез\" data-toc-modified-id=\"Проверка-гипотез-5\"><span class=\"toc-item-num\">5&nbsp;&nbsp;</span>Проверка гипотез</a></span></li><li><span><a href=\"#Вывод-по-проекту\" data-toc-modified-id=\"Вывод-по-проекту-6\"><span class=\"toc-item-num\">6&nbsp;&nbsp;</span>Вывод по проекту</a></span></li></ul></div>"
   ]
  },
  {
   "cell_type": "markdown",
   "id": "9b917d2b",
   "metadata": {},
   "source": [
    "# Определение перспективного тарифа для телеком-компании"
   ]
  },
  {
   "cell_type": "markdown",
   "id": "ebe5e603",
   "metadata": {},
   "source": [
    "**Цель данного проекта:** \n",
    "\n",
    "Определение наиболее экономиески выгодного тарифа.\n",
    "\n",
    "\n",
    "**Ход выполнения проекта:**\n",
    "\n",
    "Предварительный анализ тарифов на небольшой выборке клиентов. В вашем распоряжении данные 500 пользователей «Мегалайна»: кто они, откуда, каким тарифом пользуются, сколько звонков и сообщений каждый отправил за 2018 год. Нужно проанализировать поведение клиентов и сделать вывод — какой тариф лучше:  «Смарт» и «Ультра».\n",
    "\n"
   ]
  },
  {
   "cell_type": "markdown",
   "id": "e9031534",
   "metadata": {},
   "source": [
    "## Описание тарифов"
   ]
  },
  {
   "cell_type": "markdown",
   "id": "587e636d",
   "metadata": {},
   "source": [
    "Тариф «Смарт»\n",
    "1. Ежемесячная плата: 550 рублей\n",
    "2. Включено 500 минут разговора, 50 сообщений и 15 Гб интернет-трафика\n",
    "4. Стоимость услуг сверх тарифного пакета:\n",
    "* минута разговора: 3 рубля\n",
    "* сообщение: 3 рубля\n",
    "5. 1 Гб интернет-трафика: 200 рублей\n",
    "\n",
    "Тариф «Ультра» \n",
    "1. Ежемесячная плата: 1950 рублей\n",
    "2. Включено 3000 минут разговора, 1000 сообщений и 30 Гб интернет-трафика\n",
    "3. Стоимость услуг сверх тарифного пакета:\n",
    "* минута разговора: 1 рубль\n",
    "* сообщение: 1 рубль\n",
    "5. 1 Гб интернет-трафика: 150 рублей\n",
    "\n",
    "При обработке звонков и трафика стоит учесть тот факт что «Мегалайн» всегда округляет секунды до минут, а мегабайты — до гигабайт. Каждый звонок округляется отдельно: даже если он длился всего 1 секунду, будет засчитан как 1 минута.\n",
    "Для веб-трафика отдельные сессии не считаются. Вместо этого общая сумма за месяц округляется в бо́льшую сторону. Если абонент использует 1025 мегабайт в этом месяце, с него возьмут плату за 2 гигабайта. Примите, что неиспользованные за предыдущий месяц звонки, смс, интернет на следующий месяц не переносятся."
   ]
  },
  {
   "cell_type": "markdown",
   "id": "bbc1bc26",
   "metadata": {},
   "source": [
    "# Изучение данных из файла"
   ]
  },
  {
   "cell_type": "markdown",
   "id": "283632da",
   "metadata": {},
   "source": [
    "Для начала импортируем библиотеки которые понадобятся для работы над проектом."
   ]
  },
  {
   "cell_type": "code",
   "execution_count": 1,
   "id": "58d31206",
   "metadata": {},
   "outputs": [],
   "source": [
    "import pandas as pd # Для работы с БД\n",
    "import numpy as np # Для анализа\n",
    "import matplotlib.pyplot as plt # Для визуализации результатов\n",
    "from scipy import stats as st # Для проверки гипотез"
   ]
  },
  {
   "cell_type": "markdown",
   "id": "eabd743a",
   "metadata": {},
   "source": [
    "Данные представленны пятью разными файлами. Сохраним их в переменные и проведён предварительный анализ."
   ]
  },
  {
   "cell_type": "markdown",
   "id": "243730cc",
   "metadata": {},
   "source": [
    "## Информация о пользователях"
   ]
  },
  {
   "cell_type": "markdown",
   "id": "aead58d7",
   "metadata": {},
   "source": [
    "Таблица `users`:\n",
    "* user_id — уникальный идентификатор пользователя\n",
    "* first_name — имя пользователя\n",
    "* last_name — фамилия пользователя\n",
    "* age — возраст пользователя (годы)\n",
    "* reg_date — дата подключения тарифа (день, месяц, год)\n",
    "* churn_date — дата прекращения пользования тарифом (если значение пропущено, то тариф ещё действовал на момент выгрузки данных)\n",
    "* city — город проживания пользователя\n",
    "* tariff — название тарифного плана"
   ]
  },
  {
   "cell_type": "code",
   "execution_count": 2,
   "id": "dd928018",
   "metadata": {},
   "outputs": [
    {
     "data": {
      "text/html": [
       "<div>\n",
       "<style scoped>\n",
       "    .dataframe tbody tr th:only-of-type {\n",
       "        vertical-align: middle;\n",
       "    }\n",
       "\n",
       "    .dataframe tbody tr th {\n",
       "        vertical-align: top;\n",
       "    }\n",
       "\n",
       "    .dataframe thead th {\n",
       "        text-align: right;\n",
       "    }\n",
       "</style>\n",
       "<table border=\"1\" class=\"dataframe\">\n",
       "  <thead>\n",
       "    <tr style=\"text-align: right;\">\n",
       "      <th></th>\n",
       "      <th>user_id</th>\n",
       "      <th>age</th>\n",
       "      <th>churn_date</th>\n",
       "      <th>city</th>\n",
       "      <th>first_name</th>\n",
       "      <th>last_name</th>\n",
       "      <th>reg_date</th>\n",
       "      <th>tariff</th>\n",
       "    </tr>\n",
       "  </thead>\n",
       "  <tbody>\n",
       "    <tr>\n",
       "      <th>0</th>\n",
       "      <td>1000</td>\n",
       "      <td>52</td>\n",
       "      <td>NaN</td>\n",
       "      <td>Краснодар</td>\n",
       "      <td>Рафаил</td>\n",
       "      <td>Верещагин</td>\n",
       "      <td>2018-05-25</td>\n",
       "      <td>ultra</td>\n",
       "    </tr>\n",
       "    <tr>\n",
       "      <th>1</th>\n",
       "      <td>1001</td>\n",
       "      <td>41</td>\n",
       "      <td>NaN</td>\n",
       "      <td>Москва</td>\n",
       "      <td>Иван</td>\n",
       "      <td>Ежов</td>\n",
       "      <td>2018-11-01</td>\n",
       "      <td>smart</td>\n",
       "    </tr>\n",
       "    <tr>\n",
       "      <th>2</th>\n",
       "      <td>1002</td>\n",
       "      <td>59</td>\n",
       "      <td>NaN</td>\n",
       "      <td>Стерлитамак</td>\n",
       "      <td>Евгений</td>\n",
       "      <td>Абрамович</td>\n",
       "      <td>2018-06-17</td>\n",
       "      <td>smart</td>\n",
       "    </tr>\n",
       "    <tr>\n",
       "      <th>3</th>\n",
       "      <td>1003</td>\n",
       "      <td>23</td>\n",
       "      <td>NaN</td>\n",
       "      <td>Москва</td>\n",
       "      <td>Белла</td>\n",
       "      <td>Белякова</td>\n",
       "      <td>2018-08-17</td>\n",
       "      <td>ultra</td>\n",
       "    </tr>\n",
       "    <tr>\n",
       "      <th>4</th>\n",
       "      <td>1004</td>\n",
       "      <td>68</td>\n",
       "      <td>NaN</td>\n",
       "      <td>Новокузнецк</td>\n",
       "      <td>Татьяна</td>\n",
       "      <td>Авдеенко</td>\n",
       "      <td>2018-05-14</td>\n",
       "      <td>ultra</td>\n",
       "    </tr>\n",
       "    <tr>\n",
       "      <th>...</th>\n",
       "      <td>...</td>\n",
       "      <td>...</td>\n",
       "      <td>...</td>\n",
       "      <td>...</td>\n",
       "      <td>...</td>\n",
       "      <td>...</td>\n",
       "      <td>...</td>\n",
       "      <td>...</td>\n",
       "    </tr>\n",
       "    <tr>\n",
       "      <th>495</th>\n",
       "      <td>1495</td>\n",
       "      <td>65</td>\n",
       "      <td>NaN</td>\n",
       "      <td>Иркутск</td>\n",
       "      <td>Авксентий</td>\n",
       "      <td>Фокин</td>\n",
       "      <td>2018-08-28</td>\n",
       "      <td>ultra</td>\n",
       "    </tr>\n",
       "    <tr>\n",
       "      <th>496</th>\n",
       "      <td>1496</td>\n",
       "      <td>36</td>\n",
       "      <td>NaN</td>\n",
       "      <td>Вологда</td>\n",
       "      <td>Трифон</td>\n",
       "      <td>Блохин</td>\n",
       "      <td>2018-01-27</td>\n",
       "      <td>smart</td>\n",
       "    </tr>\n",
       "    <tr>\n",
       "      <th>497</th>\n",
       "      <td>1497</td>\n",
       "      <td>32</td>\n",
       "      <td>NaN</td>\n",
       "      <td>Челябинск</td>\n",
       "      <td>Каролина</td>\n",
       "      <td>Агеева</td>\n",
       "      <td>2018-10-09</td>\n",
       "      <td>smart</td>\n",
       "    </tr>\n",
       "    <tr>\n",
       "      <th>498</th>\n",
       "      <td>1498</td>\n",
       "      <td>68</td>\n",
       "      <td>2018-10-25</td>\n",
       "      <td>Владикавказ</td>\n",
       "      <td>Всеволод</td>\n",
       "      <td>Акимчин</td>\n",
       "      <td>2018-07-19</td>\n",
       "      <td>smart</td>\n",
       "    </tr>\n",
       "    <tr>\n",
       "      <th>499</th>\n",
       "      <td>1499</td>\n",
       "      <td>35</td>\n",
       "      <td>NaN</td>\n",
       "      <td>Пермь</td>\n",
       "      <td>Гектор</td>\n",
       "      <td>Корнилов</td>\n",
       "      <td>2018-09-27</td>\n",
       "      <td>smart</td>\n",
       "    </tr>\n",
       "  </tbody>\n",
       "</table>\n",
       "<p>500 rows × 8 columns</p>\n",
       "</div>"
      ],
      "text/plain": [
       "     user_id  age  churn_date         city first_name  last_name    reg_date  \\\n",
       "0       1000   52         NaN    Краснодар     Рафаил  Верещагин  2018-05-25   \n",
       "1       1001   41         NaN       Москва       Иван       Ежов  2018-11-01   \n",
       "2       1002   59         NaN  Стерлитамак    Евгений  Абрамович  2018-06-17   \n",
       "3       1003   23         NaN       Москва      Белла   Белякова  2018-08-17   \n",
       "4       1004   68         NaN  Новокузнецк    Татьяна   Авдеенко  2018-05-14   \n",
       "..       ...  ...         ...          ...        ...        ...         ...   \n",
       "495     1495   65         NaN      Иркутск  Авксентий      Фокин  2018-08-28   \n",
       "496     1496   36         NaN      Вологда     Трифон     Блохин  2018-01-27   \n",
       "497     1497   32         NaN    Челябинск   Каролина     Агеева  2018-10-09   \n",
       "498     1498   68  2018-10-25  Владикавказ   Всеволод    Акимчин  2018-07-19   \n",
       "499     1499   35         NaN        Пермь     Гектор   Корнилов  2018-09-27   \n",
       "\n",
       "    tariff  \n",
       "0    ultra  \n",
       "1    smart  \n",
       "2    smart  \n",
       "3    ultra  \n",
       "4    ultra  \n",
       "..     ...  \n",
       "495  ultra  \n",
       "496  smart  \n",
       "497  smart  \n",
       "498  smart  \n",
       "499  smart  \n",
       "\n",
       "[500 rows x 8 columns]"
      ]
     },
     "execution_count": 2,
     "metadata": {},
     "output_type": "execute_result"
    }
   ],
   "source": [
    "users = pd.read_csv('/datasets/users.csv')\n",
    "users"
   ]
  },
  {
   "cell_type": "code",
   "execution_count": 3,
   "id": "63332c87",
   "metadata": {},
   "outputs": [
    {
     "name": "stdout",
     "output_type": "stream",
     "text": [
      "<class 'pandas.core.frame.DataFrame'>\n",
      "RangeIndex: 500 entries, 0 to 499\n",
      "Data columns (total 8 columns):\n",
      " #   Column      Non-Null Count  Dtype \n",
      "---  ------      --------------  ----- \n",
      " 0   user_id     500 non-null    int64 \n",
      " 1   age         500 non-null    int64 \n",
      " 2   churn_date  38 non-null     object\n",
      " 3   city        500 non-null    object\n",
      " 4   first_name  500 non-null    object\n",
      " 5   last_name   500 non-null    object\n",
      " 6   reg_date    500 non-null    object\n",
      " 7   tariff      500 non-null    object\n",
      "dtypes: int64(2), object(6)\n",
      "memory usage: 31.4+ KB\n"
     ]
    }
   ],
   "source": [
    "users.info()"
   ]
  },
  {
   "cell_type": "markdown",
   "id": "85c2963c",
   "metadata": {},
   "source": [
    "Пропуски содержатся только в столбце `churn_date` что, согласно описанию, говорит о том что тариф действующий. Столбцы `user_id` и `age` имеют тип данных int64. "
   ]
  },
  {
   "cell_type": "markdown",
   "id": "2ed51b6a",
   "metadata": {},
   "source": [
    "## Информация о звонках"
   ]
  },
  {
   "cell_type": "markdown",
   "id": "49a39e63",
   "metadata": {},
   "source": [
    "Таблица `calls`:\n",
    "* id — уникальный номер звонка\n",
    "* call_date — дата звонка\n",
    "* duration — длительность звонка в минутах\n",
    "* user_id — идентификатор пользователя, сделавшего звонок"
   ]
  },
  {
   "cell_type": "code",
   "execution_count": 4,
   "id": "38157ca2",
   "metadata": {},
   "outputs": [
    {
     "data": {
      "text/html": [
       "<div>\n",
       "<style scoped>\n",
       "    .dataframe tbody tr th:only-of-type {\n",
       "        vertical-align: middle;\n",
       "    }\n",
       "\n",
       "    .dataframe tbody tr th {\n",
       "        vertical-align: top;\n",
       "    }\n",
       "\n",
       "    .dataframe thead th {\n",
       "        text-align: right;\n",
       "    }\n",
       "</style>\n",
       "<table border=\"1\" class=\"dataframe\">\n",
       "  <thead>\n",
       "    <tr style=\"text-align: right;\">\n",
       "      <th></th>\n",
       "      <th>id</th>\n",
       "      <th>call_date</th>\n",
       "      <th>duration</th>\n",
       "      <th>user_id</th>\n",
       "    </tr>\n",
       "  </thead>\n",
       "  <tbody>\n",
       "    <tr>\n",
       "      <th>0</th>\n",
       "      <td>1000_0</td>\n",
       "      <td>2018-07-25</td>\n",
       "      <td>0.00</td>\n",
       "      <td>1000</td>\n",
       "    </tr>\n",
       "    <tr>\n",
       "      <th>1</th>\n",
       "      <td>1000_1</td>\n",
       "      <td>2018-08-17</td>\n",
       "      <td>0.00</td>\n",
       "      <td>1000</td>\n",
       "    </tr>\n",
       "    <tr>\n",
       "      <th>2</th>\n",
       "      <td>1000_2</td>\n",
       "      <td>2018-06-11</td>\n",
       "      <td>2.85</td>\n",
       "      <td>1000</td>\n",
       "    </tr>\n",
       "    <tr>\n",
       "      <th>3</th>\n",
       "      <td>1000_3</td>\n",
       "      <td>2018-09-21</td>\n",
       "      <td>13.80</td>\n",
       "      <td>1000</td>\n",
       "    </tr>\n",
       "    <tr>\n",
       "      <th>4</th>\n",
       "      <td>1000_4</td>\n",
       "      <td>2018-12-15</td>\n",
       "      <td>5.18</td>\n",
       "      <td>1000</td>\n",
       "    </tr>\n",
       "    <tr>\n",
       "      <th>...</th>\n",
       "      <td>...</td>\n",
       "      <td>...</td>\n",
       "      <td>...</td>\n",
       "      <td>...</td>\n",
       "    </tr>\n",
       "    <tr>\n",
       "      <th>202602</th>\n",
       "      <td>1499_215</td>\n",
       "      <td>2018-12-26</td>\n",
       "      <td>0.76</td>\n",
       "      <td>1499</td>\n",
       "    </tr>\n",
       "    <tr>\n",
       "      <th>202603</th>\n",
       "      <td>1499_216</td>\n",
       "      <td>2018-10-18</td>\n",
       "      <td>18.83</td>\n",
       "      <td>1499</td>\n",
       "    </tr>\n",
       "    <tr>\n",
       "      <th>202604</th>\n",
       "      <td>1499_217</td>\n",
       "      <td>2018-11-10</td>\n",
       "      <td>10.81</td>\n",
       "      <td>1499</td>\n",
       "    </tr>\n",
       "    <tr>\n",
       "      <th>202605</th>\n",
       "      <td>1499_218</td>\n",
       "      <td>2018-10-06</td>\n",
       "      <td>4.27</td>\n",
       "      <td>1499</td>\n",
       "    </tr>\n",
       "    <tr>\n",
       "      <th>202606</th>\n",
       "      <td>1499_219</td>\n",
       "      <td>2018-12-14</td>\n",
       "      <td>19.62</td>\n",
       "      <td>1499</td>\n",
       "    </tr>\n",
       "  </tbody>\n",
       "</table>\n",
       "<p>202607 rows × 4 columns</p>\n",
       "</div>"
      ],
      "text/plain": [
       "              id   call_date  duration  user_id\n",
       "0         1000_0  2018-07-25      0.00     1000\n",
       "1         1000_1  2018-08-17      0.00     1000\n",
       "2         1000_2  2018-06-11      2.85     1000\n",
       "3         1000_3  2018-09-21     13.80     1000\n",
       "4         1000_4  2018-12-15      5.18     1000\n",
       "...          ...         ...       ...      ...\n",
       "202602  1499_215  2018-12-26      0.76     1499\n",
       "202603  1499_216  2018-10-18     18.83     1499\n",
       "202604  1499_217  2018-11-10     10.81     1499\n",
       "202605  1499_218  2018-10-06      4.27     1499\n",
       "202606  1499_219  2018-12-14     19.62     1499\n",
       "\n",
       "[202607 rows x 4 columns]"
      ]
     },
     "execution_count": 4,
     "metadata": {},
     "output_type": "execute_result"
    }
   ],
   "source": [
    "calls = pd.read_csv('/datasets/calls.csv')\n",
    "calls"
   ]
  },
  {
   "cell_type": "code",
   "execution_count": 5,
   "id": "dd6aa17b",
   "metadata": {},
   "outputs": [
    {
     "name": "stdout",
     "output_type": "stream",
     "text": [
      "<class 'pandas.core.frame.DataFrame'>\n",
      "RangeIndex: 202607 entries, 0 to 202606\n",
      "Data columns (total 4 columns):\n",
      " #   Column     Non-Null Count   Dtype  \n",
      "---  ------     --------------   -----  \n",
      " 0   id         202607 non-null  object \n",
      " 1   call_date  202607 non-null  object \n",
      " 2   duration   202607 non-null  float64\n",
      " 3   user_id    202607 non-null  int64  \n",
      "dtypes: float64(1), int64(1), object(2)\n",
      "memory usage: 6.2+ MB\n"
     ]
    }
   ],
   "source": [
    "calls.info()"
   ]
  },
  {
   "cell_type": "markdown",
   "id": "db2ddace",
   "metadata": {},
   "source": [
    "Столбец с уникальным номером звонка записан как строка. Это связано с тем что записанное в ячейке значение содержит уникальный идентификатор пользователя и порядковый номер звонка разделённые андерскором."
   ]
  },
  {
   "cell_type": "markdown",
   "id": "8e1fc4a6",
   "metadata": {},
   "source": [
    "##  Информация о сообщениях"
   ]
  },
  {
   "cell_type": "markdown",
   "id": "034227e9",
   "metadata": {},
   "source": [
    "Таблица `messages`:\n",
    "* id — уникальный номер сообщения\n",
    "* message_date — дата сообщения\n",
    "* user_id — идентификатор пользователя, отправившего сообщение"
   ]
  },
  {
   "cell_type": "code",
   "execution_count": 6,
   "id": "5a26feeb",
   "metadata": {},
   "outputs": [
    {
     "data": {
      "text/html": [
       "<div>\n",
       "<style scoped>\n",
       "    .dataframe tbody tr th:only-of-type {\n",
       "        vertical-align: middle;\n",
       "    }\n",
       "\n",
       "    .dataframe tbody tr th {\n",
       "        vertical-align: top;\n",
       "    }\n",
       "\n",
       "    .dataframe thead th {\n",
       "        text-align: right;\n",
       "    }\n",
       "</style>\n",
       "<table border=\"1\" class=\"dataframe\">\n",
       "  <thead>\n",
       "    <tr style=\"text-align: right;\">\n",
       "      <th></th>\n",
       "      <th>id</th>\n",
       "      <th>message_date</th>\n",
       "      <th>user_id</th>\n",
       "    </tr>\n",
       "  </thead>\n",
       "  <tbody>\n",
       "    <tr>\n",
       "      <th>0</th>\n",
       "      <td>1000_0</td>\n",
       "      <td>2018-06-27</td>\n",
       "      <td>1000</td>\n",
       "    </tr>\n",
       "    <tr>\n",
       "      <th>1</th>\n",
       "      <td>1000_1</td>\n",
       "      <td>2018-10-08</td>\n",
       "      <td>1000</td>\n",
       "    </tr>\n",
       "    <tr>\n",
       "      <th>2</th>\n",
       "      <td>1000_2</td>\n",
       "      <td>2018-08-04</td>\n",
       "      <td>1000</td>\n",
       "    </tr>\n",
       "    <tr>\n",
       "      <th>3</th>\n",
       "      <td>1000_3</td>\n",
       "      <td>2018-06-16</td>\n",
       "      <td>1000</td>\n",
       "    </tr>\n",
       "    <tr>\n",
       "      <th>4</th>\n",
       "      <td>1000_4</td>\n",
       "      <td>2018-12-05</td>\n",
       "      <td>1000</td>\n",
       "    </tr>\n",
       "    <tr>\n",
       "      <th>...</th>\n",
       "      <td>...</td>\n",
       "      <td>...</td>\n",
       "      <td>...</td>\n",
       "    </tr>\n",
       "    <tr>\n",
       "      <th>123031</th>\n",
       "      <td>1499_179</td>\n",
       "      <td>2018-12-12</td>\n",
       "      <td>1499</td>\n",
       "    </tr>\n",
       "    <tr>\n",
       "      <th>123032</th>\n",
       "      <td>1499_180</td>\n",
       "      <td>2018-09-28</td>\n",
       "      <td>1499</td>\n",
       "    </tr>\n",
       "    <tr>\n",
       "      <th>123033</th>\n",
       "      <td>1499_181</td>\n",
       "      <td>2018-09-27</td>\n",
       "      <td>1499</td>\n",
       "    </tr>\n",
       "    <tr>\n",
       "      <th>123034</th>\n",
       "      <td>1499_182</td>\n",
       "      <td>2018-11-15</td>\n",
       "      <td>1499</td>\n",
       "    </tr>\n",
       "    <tr>\n",
       "      <th>123035</th>\n",
       "      <td>1499_183</td>\n",
       "      <td>2018-11-16</td>\n",
       "      <td>1499</td>\n",
       "    </tr>\n",
       "  </tbody>\n",
       "</table>\n",
       "<p>123036 rows × 3 columns</p>\n",
       "</div>"
      ],
      "text/plain": [
       "              id message_date  user_id\n",
       "0         1000_0   2018-06-27     1000\n",
       "1         1000_1   2018-10-08     1000\n",
       "2         1000_2   2018-08-04     1000\n",
       "3         1000_3   2018-06-16     1000\n",
       "4         1000_4   2018-12-05     1000\n",
       "...          ...          ...      ...\n",
       "123031  1499_179   2018-12-12     1499\n",
       "123032  1499_180   2018-09-28     1499\n",
       "123033  1499_181   2018-09-27     1499\n",
       "123034  1499_182   2018-11-15     1499\n",
       "123035  1499_183   2018-11-16     1499\n",
       "\n",
       "[123036 rows x 3 columns]"
      ]
     },
     "execution_count": 6,
     "metadata": {},
     "output_type": "execute_result"
    }
   ],
   "source": [
    "messages = pd.read_csv('/datasets/messages.csv')\n",
    "messages"
   ]
  },
  {
   "cell_type": "code",
   "execution_count": 7,
   "id": "f0ffdb9b",
   "metadata": {},
   "outputs": [
    {
     "name": "stdout",
     "output_type": "stream",
     "text": [
      "<class 'pandas.core.frame.DataFrame'>\n",
      "RangeIndex: 123036 entries, 0 to 123035\n",
      "Data columns (total 3 columns):\n",
      " #   Column        Non-Null Count   Dtype \n",
      "---  ------        --------------   ----- \n",
      " 0   id            123036 non-null  object\n",
      " 1   message_date  123036 non-null  object\n",
      " 2   user_id       123036 non-null  int64 \n",
      "dtypes: int64(1), object(2)\n",
      "memory usage: 2.8+ MB\n"
     ]
    }
   ],
   "source": [
    "messages.info()"
   ]
  },
  {
   "cell_type": "markdown",
   "id": "05b945c9",
   "metadata": {},
   "source": [
    "## Информация об интернет-сессиях"
   ]
  },
  {
   "cell_type": "markdown",
   "id": "b557651f",
   "metadata": {},
   "source": [
    "Таблица `internet`:\n",
    "* id — уникальный номер сессии\n",
    "* mb_used — объём потраченного за сессию интернет-трафика (в мегабайтах)\n",
    "* session_date — дата интернет-сессии\n",
    "* user_id — идентификатор пользователя"
   ]
  },
  {
   "cell_type": "code",
   "execution_count": 8,
   "id": "2eaeac82",
   "metadata": {},
   "outputs": [
    {
     "data": {
      "text/html": [
       "<div>\n",
       "<style scoped>\n",
       "    .dataframe tbody tr th:only-of-type {\n",
       "        vertical-align: middle;\n",
       "    }\n",
       "\n",
       "    .dataframe tbody tr th {\n",
       "        vertical-align: top;\n",
       "    }\n",
       "\n",
       "    .dataframe thead th {\n",
       "        text-align: right;\n",
       "    }\n",
       "</style>\n",
       "<table border=\"1\" class=\"dataframe\">\n",
       "  <thead>\n",
       "    <tr style=\"text-align: right;\">\n",
       "      <th></th>\n",
       "      <th>id</th>\n",
       "      <th>mb_used</th>\n",
       "      <th>session_date</th>\n",
       "      <th>user_id</th>\n",
       "    </tr>\n",
       "  </thead>\n",
       "  <tbody>\n",
       "    <tr>\n",
       "      <th>0</th>\n",
       "      <td>1000_0</td>\n",
       "      <td>112.95</td>\n",
       "      <td>2018-11-25</td>\n",
       "      <td>1000</td>\n",
       "    </tr>\n",
       "    <tr>\n",
       "      <th>1</th>\n",
       "      <td>1000_1</td>\n",
       "      <td>1052.81</td>\n",
       "      <td>2018-09-07</td>\n",
       "      <td>1000</td>\n",
       "    </tr>\n",
       "    <tr>\n",
       "      <th>2</th>\n",
       "      <td>1000_2</td>\n",
       "      <td>1197.26</td>\n",
       "      <td>2018-06-25</td>\n",
       "      <td>1000</td>\n",
       "    </tr>\n",
       "    <tr>\n",
       "      <th>3</th>\n",
       "      <td>1000_3</td>\n",
       "      <td>550.27</td>\n",
       "      <td>2018-08-22</td>\n",
       "      <td>1000</td>\n",
       "    </tr>\n",
       "    <tr>\n",
       "      <th>4</th>\n",
       "      <td>1000_4</td>\n",
       "      <td>302.56</td>\n",
       "      <td>2018-09-24</td>\n",
       "      <td>1000</td>\n",
       "    </tr>\n",
       "    <tr>\n",
       "      <th>...</th>\n",
       "      <td>...</td>\n",
       "      <td>...</td>\n",
       "      <td>...</td>\n",
       "      <td>...</td>\n",
       "    </tr>\n",
       "    <tr>\n",
       "      <th>149391</th>\n",
       "      <td>1499_152</td>\n",
       "      <td>318.90</td>\n",
       "      <td>2018-10-03</td>\n",
       "      <td>1499</td>\n",
       "    </tr>\n",
       "    <tr>\n",
       "      <th>149392</th>\n",
       "      <td>1499_153</td>\n",
       "      <td>490.13</td>\n",
       "      <td>2018-12-14</td>\n",
       "      <td>1499</td>\n",
       "    </tr>\n",
       "    <tr>\n",
       "      <th>149393</th>\n",
       "      <td>1499_154</td>\n",
       "      <td>0.00</td>\n",
       "      <td>2018-10-27</td>\n",
       "      <td>1499</td>\n",
       "    </tr>\n",
       "    <tr>\n",
       "      <th>149394</th>\n",
       "      <td>1499_155</td>\n",
       "      <td>1246.32</td>\n",
       "      <td>2018-11-26</td>\n",
       "      <td>1499</td>\n",
       "    </tr>\n",
       "    <tr>\n",
       "      <th>149395</th>\n",
       "      <td>1499_156</td>\n",
       "      <td>544.37</td>\n",
       "      <td>2018-10-26</td>\n",
       "      <td>1499</td>\n",
       "    </tr>\n",
       "  </tbody>\n",
       "</table>\n",
       "<p>149396 rows × 4 columns</p>\n",
       "</div>"
      ],
      "text/plain": [
       "              id  mb_used session_date  user_id\n",
       "0         1000_0   112.95   2018-11-25     1000\n",
       "1         1000_1  1052.81   2018-09-07     1000\n",
       "2         1000_2  1197.26   2018-06-25     1000\n",
       "3         1000_3   550.27   2018-08-22     1000\n",
       "4         1000_4   302.56   2018-09-24     1000\n",
       "...          ...      ...          ...      ...\n",
       "149391  1499_152   318.90   2018-10-03     1499\n",
       "149392  1499_153   490.13   2018-12-14     1499\n",
       "149393  1499_154     0.00   2018-10-27     1499\n",
       "149394  1499_155  1246.32   2018-11-26     1499\n",
       "149395  1499_156   544.37   2018-10-26     1499\n",
       "\n",
       "[149396 rows x 4 columns]"
      ]
     },
     "execution_count": 8,
     "metadata": {},
     "output_type": "execute_result"
    }
   ],
   "source": [
    "internet = pd.read_csv('/datasets/internet.csv', index_col=0)\n",
    "internet"
   ]
  },
  {
   "cell_type": "code",
   "execution_count": 9,
   "id": "84418f05",
   "metadata": {},
   "outputs": [
    {
     "name": "stdout",
     "output_type": "stream",
     "text": [
      "<class 'pandas.core.frame.DataFrame'>\n",
      "Int64Index: 149396 entries, 0 to 149395\n",
      "Data columns (total 4 columns):\n",
      " #   Column        Non-Null Count   Dtype  \n",
      "---  ------        --------------   -----  \n",
      " 0   id            149396 non-null  object \n",
      " 1   mb_used       149396 non-null  float64\n",
      " 2   session_date  149396 non-null  object \n",
      " 3   user_id       149396 non-null  int64  \n",
      "dtypes: float64(1), int64(1), object(2)\n",
      "memory usage: 5.7+ MB\n"
     ]
    }
   ],
   "source": [
    "internet.info()"
   ]
  },
  {
   "cell_type": "code",
   "execution_count": 10,
   "id": "e5f474c6",
   "metadata": {},
   "outputs": [
    {
     "data": {
      "text/plain": [
       "<AxesSubplot:ylabel='Frequency'>"
      ]
     },
     "execution_count": 10,
     "metadata": {},
     "output_type": "execute_result"
    },
    {
     "data": {
      "image/png": "[encoded data removed]",
      "text/plain": [
       "<Figure size 432x288 with 1 Axes>"
      ]
     },
     "metadata": {
      "needs_background": "light"
     },
     "output_type": "display_data"
    }
   ],
   "source": [
    "internet['mb_used'].plot(kind='hist', bins=30)"
   ]
  },
  {
   "cell_type": "markdown",
   "id": "9d793433",
   "metadata": {},
   "source": [
    "В таблице с интернт трафиком большое количество нулевых значений. Возможно это вызвано ошибкой при попытке соединения. Лучше удалить эти данные на этапе предобработки."
   ]
  },
  {
   "cell_type": "markdown",
   "id": "d0d578f9",
   "metadata": {},
   "source": [
    "##  Информация о тарифах"
   ]
  },
  {
   "cell_type": "markdown",
   "id": "9a7f4a0f",
   "metadata": {},
   "source": [
    "Таблица `tariffs`:\n",
    "* tariff_name — название тарифа\n",
    "* rub_monthly_fee — ежемесячная абонентская плата в рублях\n",
    "* minutes_included — количество минут разговора в месяц, включённых в абонентскую плату\n",
    "* messages_included — количество сообщений в месяц, включённых в абонентскую плату\n",
    "* mb_per_month_included — объём интернет-трафика, включённого в абонентскую плату (в мегабайтах)\n",
    "* rub_per_minute — стоимость минуты разговора сверх тарифного пакета (например, если в тарифе 100 минут разговора в * месяц, то со 101 минуты будет взиматься плата)\n",
    "* rub_per_message — стоимость отправки сообщения сверх тарифного пакета\n",
    "* rub_per_gb — стоимость дополнительного гигабайта интернет-трафика сверх тарифного пакета (1 гигабайт = 1024 мегабайта)"
   ]
  },
  {
   "cell_type": "code",
   "execution_count": 11,
   "id": "76e1a18f",
   "metadata": {
    "scrolled": true
   },
   "outputs": [
    {
     "data": {
      "text/html": [
       "<div>\n",
       "<style scoped>\n",
       "    .dataframe tbody tr th:only-of-type {\n",
       "        vertical-align: middle;\n",
       "    }\n",
       "\n",
       "    .dataframe tbody tr th {\n",
       "        vertical-align: top;\n",
       "    }\n",
       "\n",
       "    .dataframe thead th {\n",
       "        text-align: right;\n",
       "    }\n",
       "</style>\n",
       "<table border=\"1\" class=\"dataframe\">\n",
       "  <thead>\n",
       "    <tr style=\"text-align: right;\">\n",
       "      <th></th>\n",
       "      <th>messages_included</th>\n",
       "      <th>mb_per_month_included</th>\n",
       "      <th>minutes_included</th>\n",
       "      <th>rub_monthly_fee</th>\n",
       "      <th>rub_per_gb</th>\n",
       "      <th>rub_per_message</th>\n",
       "      <th>rub_per_minute</th>\n",
       "      <th>tariff_name</th>\n",
       "    </tr>\n",
       "  </thead>\n",
       "  <tbody>\n",
       "    <tr>\n",
       "      <th>0</th>\n",
       "      <td>50</td>\n",
       "      <td>15360</td>\n",
       "      <td>500</td>\n",
       "      <td>550</td>\n",
       "      <td>200</td>\n",
       "      <td>3</td>\n",
       "      <td>3</td>\n",
       "      <td>smart</td>\n",
       "    </tr>\n",
       "    <tr>\n",
       "      <th>1</th>\n",
       "      <td>1000</td>\n",
       "      <td>30720</td>\n",
       "      <td>3000</td>\n",
       "      <td>1950</td>\n",
       "      <td>150</td>\n",
       "      <td>1</td>\n",
       "      <td>1</td>\n",
       "      <td>ultra</td>\n",
       "    </tr>\n",
       "  </tbody>\n",
       "</table>\n",
       "</div>"
      ],
      "text/plain": [
       "   messages_included  mb_per_month_included  minutes_included  \\\n",
       "0                 50                  15360               500   \n",
       "1               1000                  30720              3000   \n",
       "\n",
       "   rub_monthly_fee  rub_per_gb  rub_per_message  rub_per_minute tariff_name  \n",
       "0              550         200                3               3       smart  \n",
       "1             1950         150                1               1       ultra  "
      ]
     },
     "execution_count": 11,
     "metadata": {},
     "output_type": "execute_result"
    }
   ],
   "source": [
    "tariffs = pd.read_csv('/datasets/tariffs.csv')\n",
    "tariffs"
   ]
  },
  {
   "cell_type": "markdown",
   "id": "7efe81ed",
   "metadata": {},
   "source": [
    "Здесь особо анализировать нечего, таблица на две строки с данными о тарифах."
   ]
  },
  {
   "cell_type": "markdown",
   "id": "b3574e5b",
   "metadata": {},
   "source": [
    "## Вывод"
   ]
  },
  {
   "cell_type": "markdown",
   "id": "3e7aaa3a",
   "metadata": {},
   "source": [
    "После обзора данных первое что бросается в глаза, то что люди чаще пользуются мобильной связью чем интернетом или сообщениями. В данных есть небольшие недочёты, но мы с лёгкостью их исправим."
   ]
  },
  {
   "cell_type": "markdown",
   "id": "84e4ed22",
   "metadata": {},
   "source": [
    "# Предобработка данных"
   ]
  },
  {
   "cell_type": "markdown",
   "id": "250c8326",
   "metadata": {},
   "source": [
    "В этом разделе подготавливаем данные перед анализом. Ищем пропуски, дубликаты, аномалии и всё то, что может исказить результаты."
   ]
  },
  {
   "cell_type": "markdown",
   "id": "a2f3423e",
   "metadata": {},
   "source": [
    "## Информация о пользователях"
   ]
  },
  {
   "cell_type": "markdown",
   "id": "9b2dae07",
   "metadata": {},
   "source": [
    "Начнём с изменения типов данных. Хоть для 500 значений это не значительно, переведём их в тип int32 для экономии памяти."
   ]
  },
  {
   "cell_type": "code",
   "execution_count": 12,
   "id": "d2875c98",
   "metadata": {},
   "outputs": [],
   "source": [
    "users['user_id'] = users['user_id'].astype('int32')\n",
    "users['age'] = users['age'].astype('int32')"
   ]
  },
  {
   "cell_type": "markdown",
   "id": "ee2766e2",
   "metadata": {},
   "source": [
    "Столбец с датами приведём к типу datetime."
   ]
  },
  {
   "cell_type": "code",
   "execution_count": 13,
   "id": "b4b54b43",
   "metadata": {},
   "outputs": [],
   "source": [
    "users['reg_date'] = pd.to_datetime(users['reg_date'], format='%Y-%m-%d')\n",
    "users['churn_date'] = pd.to_datetime(users['churn_date'], format='%Y-%m-%d')"
   ]
  },
  {
   "cell_type": "markdown",
   "id": "d8c75ff6",
   "metadata": {},
   "source": [
    "<font color='DarkBlue'><b>Комментарий ревьюера</b></font><br>\n",
    "<font color='DarkGreen'>👌 Хорошо, перевели даты в нужный формат. 👍</font>"
   ]
  },
  {
   "cell_type": "markdown",
   "id": "bd6ae95a",
   "metadata": {},
   "source": [
    "Проверим описание данных. Т.к. столбец с численными значениями только одни (user_id - просто порядковый номер), то обратимся сразу к `age`."
   ]
  },
  {
   "cell_type": "code",
   "execution_count": 14,
   "id": "9aaf8c16",
   "metadata": {},
   "outputs": [
    {
     "data": {
      "text/plain": [
       "count    500.00000\n",
       "mean      46.58800\n",
       "std       16.66763\n",
       "min       18.00000\n",
       "25%       32.00000\n",
       "50%       46.00000\n",
       "75%       62.00000\n",
       "max       75.00000\n",
       "Name: age, dtype: float64"
      ]
     },
     "execution_count": 14,
     "metadata": {},
     "output_type": "execute_result"
    }
   ],
   "source": [
    "users['age'].describe()"
   ]
  },
  {
   "cell_type": "markdown",
   "id": "2aae75ea",
   "metadata": {},
   "source": [
    "Проверим наличие дубликатов"
   ]
  },
  {
   "cell_type": "code",
   "execution_count": 15,
   "id": "51522483",
   "metadata": {},
   "outputs": [
    {
     "data": {
      "text/plain": [
       "0"
      ]
     },
     "execution_count": 15,
     "metadata": {},
     "output_type": "execute_result"
    }
   ],
   "source": [
    "users.duplicated().sum()"
   ]
  },
  {
   "cell_type": "markdown",
   "id": "e2902ce0",
   "metadata": {},
   "source": [
    "Минимальный возраст с которого можно приобрести sim соответствует минимальному значению - 18. Максимальный вполне укладывается в среднюю продолжительность жизни для России. Среднее почти совпадает с медианой. С данными всё в порядке."
   ]
  },
  {
   "cell_type": "markdown",
   "id": "ef7ce964",
   "metadata": {},
   "source": [
    "## Информация о звонках"
   ]
  },
  {
   "cell_type": "markdown",
   "id": "33da6193",
   "metadata": {},
   "source": [
    "Как уже говорилось ранее, столбец `id` имеет тип object. С точки зрения аналитики этот столбец не представляет интереса. Мы за чистоту, так давайте избавимся от лишних данных."
   ]
  },
  {
   "cell_type": "code",
   "execution_count": 16,
   "id": "79abbefa",
   "metadata": {},
   "outputs": [],
   "source": [
    "calls = calls.drop(['id'], axis=1)"
   ]
  },
  {
   "cell_type": "markdown",
   "id": "50ffc921",
   "metadata": {},
   "source": [
    "Столбец `call_date` приведём к типу datetime, `user_id` к int32."
   ]
  },
  {
   "cell_type": "code",
   "execution_count": 17,
   "id": "705bb722",
   "metadata": {},
   "outputs": [],
   "source": [
    "calls['call_date']= pd.to_datetime(calls['call_date'], format='%Y-%m-%d')\n",
    "calls['user_id'] = calls['user_id'].astype('int32')"
   ]
  },
  {
   "cell_type": "code",
   "execution_count": 18,
   "id": "9e98bd83",
   "metadata": {},
   "outputs": [
    {
     "name": "stdout",
     "output_type": "stream",
     "text": [
      "<class 'pandas.core.frame.DataFrame'>\n",
      "RangeIndex: 202607 entries, 0 to 202606\n",
      "Data columns (total 3 columns):\n",
      " #   Column     Non-Null Count   Dtype         \n",
      "---  ------     --------------   -----         \n",
      " 0   call_date  202607 non-null  datetime64[ns]\n",
      " 1   duration   202607 non-null  float64       \n",
      " 2   user_id    202607 non-null  int32         \n",
      "dtypes: datetime64[ns](1), float64(1), int32(1)\n",
      "memory usage: 3.9 MB\n"
     ]
    }
   ],
   "source": [
    "calls.info()"
   ]
  },
  {
   "cell_type": "markdown",
   "id": "725377e7",
   "metadata": {},
   "source": [
    "Привели данные в нужный нам вид.\n",
    "\n",
    "Нам интересно количество звонков по месяцам. Добавим в таблицу новый столбец."
   ]
  },
  {
   "cell_type": "code",
   "execution_count": 19,
   "id": "f9f17c1d",
   "metadata": {},
   "outputs": [],
   "source": [
    "# Получим номер месяца из даты\n",
    "calls.insert(1, 'month', pd.DatetimeIndex(calls['call_date']).month)"
   ]
  },
  {
   "cell_type": "code",
   "execution_count": 20,
   "id": "b641c4de",
   "metadata": {},
   "outputs": [
    {
     "data": {
      "text/html": [
       "<div>\n",
       "<style scoped>\n",
       "    .dataframe tbody tr th:only-of-type {\n",
       "        vertical-align: middle;\n",
       "    }\n",
       "\n",
       "    .dataframe tbody tr th {\n",
       "        vertical-align: top;\n",
       "    }\n",
       "\n",
       "    .dataframe thead th {\n",
       "        text-align: right;\n",
       "    }\n",
       "</style>\n",
       "<table border=\"1\" class=\"dataframe\">\n",
       "  <thead>\n",
       "    <tr style=\"text-align: right;\">\n",
       "      <th></th>\n",
       "      <th>call_date</th>\n",
       "      <th>month</th>\n",
       "      <th>duration</th>\n",
       "      <th>user_id</th>\n",
       "    </tr>\n",
       "  </thead>\n",
       "  <tbody>\n",
       "    <tr>\n",
       "      <th>0</th>\n",
       "      <td>2018-07-25</td>\n",
       "      <td>7</td>\n",
       "      <td>0.00</td>\n",
       "      <td>1000</td>\n",
       "    </tr>\n",
       "    <tr>\n",
       "      <th>1</th>\n",
       "      <td>2018-08-17</td>\n",
       "      <td>8</td>\n",
       "      <td>0.00</td>\n",
       "      <td>1000</td>\n",
       "    </tr>\n",
       "    <tr>\n",
       "      <th>2</th>\n",
       "      <td>2018-06-11</td>\n",
       "      <td>6</td>\n",
       "      <td>2.85</td>\n",
       "      <td>1000</td>\n",
       "    </tr>\n",
       "    <tr>\n",
       "      <th>3</th>\n",
       "      <td>2018-09-21</td>\n",
       "      <td>9</td>\n",
       "      <td>13.80</td>\n",
       "      <td>1000</td>\n",
       "    </tr>\n",
       "    <tr>\n",
       "      <th>4</th>\n",
       "      <td>2018-12-15</td>\n",
       "      <td>12</td>\n",
       "      <td>5.18</td>\n",
       "      <td>1000</td>\n",
       "    </tr>\n",
       "    <tr>\n",
       "      <th>...</th>\n",
       "      <td>...</td>\n",
       "      <td>...</td>\n",
       "      <td>...</td>\n",
       "      <td>...</td>\n",
       "    </tr>\n",
       "    <tr>\n",
       "      <th>202602</th>\n",
       "      <td>2018-12-26</td>\n",
       "      <td>12</td>\n",
       "      <td>0.76</td>\n",
       "      <td>1499</td>\n",
       "    </tr>\n",
       "    <tr>\n",
       "      <th>202603</th>\n",
       "      <td>2018-10-18</td>\n",
       "      <td>10</td>\n",
       "      <td>18.83</td>\n",
       "      <td>1499</td>\n",
       "    </tr>\n",
       "    <tr>\n",
       "      <th>202604</th>\n",
       "      <td>2018-11-10</td>\n",
       "      <td>11</td>\n",
       "      <td>10.81</td>\n",
       "      <td>1499</td>\n",
       "    </tr>\n",
       "    <tr>\n",
       "      <th>202605</th>\n",
       "      <td>2018-10-06</td>\n",
       "      <td>10</td>\n",
       "      <td>4.27</td>\n",
       "      <td>1499</td>\n",
       "    </tr>\n",
       "    <tr>\n",
       "      <th>202606</th>\n",
       "      <td>2018-12-14</td>\n",
       "      <td>12</td>\n",
       "      <td>19.62</td>\n",
       "      <td>1499</td>\n",
       "    </tr>\n",
       "  </tbody>\n",
       "</table>\n",
       "<p>202607 rows × 4 columns</p>\n",
       "</div>"
      ],
      "text/plain": [
       "        call_date  month  duration  user_id\n",
       "0      2018-07-25      7      0.00     1000\n",
       "1      2018-08-17      8      0.00     1000\n",
       "2      2018-06-11      6      2.85     1000\n",
       "3      2018-09-21      9     13.80     1000\n",
       "4      2018-12-15     12      5.18     1000\n",
       "...           ...    ...       ...      ...\n",
       "202602 2018-12-26     12      0.76     1499\n",
       "202603 2018-10-18     10     18.83     1499\n",
       "202604 2018-11-10     11     10.81     1499\n",
       "202605 2018-10-06     10      4.27     1499\n",
       "202606 2018-12-14     12     19.62     1499\n",
       "\n",
       "[202607 rows x 4 columns]"
      ]
     },
     "execution_count": 20,
     "metadata": {},
     "output_type": "execute_result"
    }
   ],
   "source": [
    "calls"
   ]
  },
  {
   "cell_type": "markdown",
   "id": "cf1bf50f",
   "metadata": {},
   "source": [
    "По условию каждый звонок округляется до целого в пользу оператора, округлим звонки и переведём тип данных к int32."
   ]
  },
  {
   "cell_type": "code",
   "execution_count": 21,
   "id": "8bf854de",
   "metadata": {},
   "outputs": [],
   "source": [
    "#calls['duration'] = round(calls['duration'], 0)\n",
    "\n",
    "calls['duration'] = np.ceil(calls['duration'])\n",
    "calls['duration'] = calls['duration'].astype('int32')"
   ]
  },
  {
   "cell_type": "code",
   "execution_count": 22,
   "id": "6e9562e8",
   "metadata": {},
   "outputs": [
    {
     "data": {
      "text/plain": [
       "(1.0, 2.0)"
      ]
     },
     "execution_count": 22,
     "metadata": {},
     "output_type": "execute_result"
    }
   ],
   "source": [
    "# Комментарий ревьюера\n",
    "round(1.4, 0), round(1.5, 0)"
   ]
  },
  {
   "cell_type": "markdown",
   "id": "3e3f8f46",
   "metadata": {},
   "source": [
    "Создадим сводную таблицу с продолжительностью звонков в минутах в месяц для каждого пользователя."
   ]
  },
  {
   "cell_type": "code",
   "execution_count": 23,
   "id": "60180d09",
   "metadata": {},
   "outputs": [
    {
     "data": {
      "text/html": [
       "<div>\n",
       "<style scoped>\n",
       "    .dataframe tbody tr th:only-of-type {\n",
       "        vertical-align: middle;\n",
       "    }\n",
       "\n",
       "    .dataframe tbody tr th {\n",
       "        vertical-align: top;\n",
       "    }\n",
       "\n",
       "    .dataframe thead th {\n",
       "        text-align: right;\n",
       "    }\n",
       "</style>\n",
       "<table border=\"1\" class=\"dataframe\">\n",
       "  <thead>\n",
       "    <tr style=\"text-align: right;\">\n",
       "      <th>month</th>\n",
       "      <th>1</th>\n",
       "      <th>2</th>\n",
       "      <th>3</th>\n",
       "      <th>4</th>\n",
       "      <th>5</th>\n",
       "      <th>6</th>\n",
       "      <th>7</th>\n",
       "      <th>8</th>\n",
       "      <th>9</th>\n",
       "      <th>10</th>\n",
       "      <th>11</th>\n",
       "      <th>12</th>\n",
       "    </tr>\n",
       "    <tr>\n",
       "      <th>user_id</th>\n",
       "      <th></th>\n",
       "      <th></th>\n",
       "      <th></th>\n",
       "      <th></th>\n",
       "      <th></th>\n",
       "      <th></th>\n",
       "      <th></th>\n",
       "      <th></th>\n",
       "      <th></th>\n",
       "      <th></th>\n",
       "      <th></th>\n",
       "      <th></th>\n",
       "    </tr>\n",
       "  </thead>\n",
       "  <tbody>\n",
       "    <tr>\n",
       "      <th>1000</th>\n",
       "      <td>NaN</td>\n",
       "      <td>NaN</td>\n",
       "      <td>NaN</td>\n",
       "      <td>NaN</td>\n",
       "      <td>159.0</td>\n",
       "      <td>172.0</td>\n",
       "      <td>340.0</td>\n",
       "      <td>408.0</td>\n",
       "      <td>466.0</td>\n",
       "      <td>350.0</td>\n",
       "      <td>338.0</td>\n",
       "      <td>333.0</td>\n",
       "    </tr>\n",
       "    <tr>\n",
       "      <th>1001</th>\n",
       "      <td>NaN</td>\n",
       "      <td>NaN</td>\n",
       "      <td>NaN</td>\n",
       "      <td>NaN</td>\n",
       "      <td>NaN</td>\n",
       "      <td>NaN</td>\n",
       "      <td>NaN</td>\n",
       "      <td>NaN</td>\n",
       "      <td>NaN</td>\n",
       "      <td>NaN</td>\n",
       "      <td>430.0</td>\n",
       "      <td>414.0</td>\n",
       "    </tr>\n",
       "    <tr>\n",
       "      <th>1002</th>\n",
       "      <td>NaN</td>\n",
       "      <td>NaN</td>\n",
       "      <td>NaN</td>\n",
       "      <td>NaN</td>\n",
       "      <td>NaN</td>\n",
       "      <td>117.0</td>\n",
       "      <td>214.0</td>\n",
       "      <td>289.0</td>\n",
       "      <td>206.0</td>\n",
       "      <td>212.0</td>\n",
       "      <td>243.0</td>\n",
       "      <td>236.0</td>\n",
       "    </tr>\n",
       "    <tr>\n",
       "      <th>1003</th>\n",
       "      <td>NaN</td>\n",
       "      <td>NaN</td>\n",
       "      <td>NaN</td>\n",
       "      <td>NaN</td>\n",
       "      <td>NaN</td>\n",
       "      <td>NaN</td>\n",
       "      <td>NaN</td>\n",
       "      <td>380.0</td>\n",
       "      <td>961.0</td>\n",
       "      <td>855.0</td>\n",
       "      <td>824.0</td>\n",
       "      <td>802.0</td>\n",
       "    </tr>\n",
       "    <tr>\n",
       "      <th>1004</th>\n",
       "      <td>NaN</td>\n",
       "      <td>NaN</td>\n",
       "      <td>NaN</td>\n",
       "      <td>NaN</td>\n",
       "      <td>35.0</td>\n",
       "      <td>171.0</td>\n",
       "      <td>135.0</td>\n",
       "      <td>137.0</td>\n",
       "      <td>117.0</td>\n",
       "      <td>145.0</td>\n",
       "      <td>117.0</td>\n",
       "      <td>130.0</td>\n",
       "    </tr>\n",
       "    <tr>\n",
       "      <th>...</th>\n",
       "      <td>...</td>\n",
       "      <td>...</td>\n",
       "      <td>...</td>\n",
       "      <td>...</td>\n",
       "      <td>...</td>\n",
       "      <td>...</td>\n",
       "      <td>...</td>\n",
       "      <td>...</td>\n",
       "      <td>...</td>\n",
       "      <td>...</td>\n",
       "      <td>...</td>\n",
       "      <td>...</td>\n",
       "    </tr>\n",
       "    <tr>\n",
       "      <th>1495</th>\n",
       "      <td>NaN</td>\n",
       "      <td>NaN</td>\n",
       "      <td>NaN</td>\n",
       "      <td>NaN</td>\n",
       "      <td>NaN</td>\n",
       "      <td>NaN</td>\n",
       "      <td>NaN</td>\n",
       "      <td>92.0</td>\n",
       "      <td>813.0</td>\n",
       "      <td>1030.0</td>\n",
       "      <td>954.0</td>\n",
       "      <td>1031.0</td>\n",
       "    </tr>\n",
       "    <tr>\n",
       "      <th>1496</th>\n",
       "      <td>48.0</td>\n",
       "      <td>594.0</td>\n",
       "      <td>557.0</td>\n",
       "      <td>521.0</td>\n",
       "      <td>484.0</td>\n",
       "      <td>555.0</td>\n",
       "      <td>582.0</td>\n",
       "      <td>527.0</td>\n",
       "      <td>486.0</td>\n",
       "      <td>450.0</td>\n",
       "      <td>662.0</td>\n",
       "      <td>518.0</td>\n",
       "    </tr>\n",
       "    <tr>\n",
       "      <th>1497</th>\n",
       "      <td>NaN</td>\n",
       "      <td>NaN</td>\n",
       "      <td>NaN</td>\n",
       "      <td>NaN</td>\n",
       "      <td>NaN</td>\n",
       "      <td>NaN</td>\n",
       "      <td>NaN</td>\n",
       "      <td>NaN</td>\n",
       "      <td>NaN</td>\n",
       "      <td>490.0</td>\n",
       "      <td>371.0</td>\n",
       "      <td>545.0</td>\n",
       "    </tr>\n",
       "    <tr>\n",
       "      <th>1498</th>\n",
       "      <td>NaN</td>\n",
       "      <td>NaN</td>\n",
       "      <td>NaN</td>\n",
       "      <td>NaN</td>\n",
       "      <td>NaN</td>\n",
       "      <td>NaN</td>\n",
       "      <td>175.0</td>\n",
       "      <td>400.0</td>\n",
       "      <td>471.0</td>\n",
       "      <td>247.0</td>\n",
       "      <td>NaN</td>\n",
       "      <td>NaN</td>\n",
       "    </tr>\n",
       "    <tr>\n",
       "      <th>1499</th>\n",
       "      <td>NaN</td>\n",
       "      <td>NaN</td>\n",
       "      <td>NaN</td>\n",
       "      <td>NaN</td>\n",
       "      <td>NaN</td>\n",
       "      <td>NaN</td>\n",
       "      <td>NaN</td>\n",
       "      <td>NaN</td>\n",
       "      <td>70.0</td>\n",
       "      <td>449.0</td>\n",
       "      <td>612.0</td>\n",
       "      <td>492.0</td>\n",
       "    </tr>\n",
       "  </tbody>\n",
       "</table>\n",
       "<p>492 rows × 12 columns</p>\n",
       "</div>"
      ],
      "text/plain": [
       "month      1      2      3      4      5      6      7      8      9       10  \\\n",
       "user_id                                                                         \n",
       "1000      NaN    NaN    NaN    NaN  159.0  172.0  340.0  408.0  466.0   350.0   \n",
       "1001      NaN    NaN    NaN    NaN    NaN    NaN    NaN    NaN    NaN     NaN   \n",
       "1002      NaN    NaN    NaN    NaN    NaN  117.0  214.0  289.0  206.0   212.0   \n",
       "1003      NaN    NaN    NaN    NaN    NaN    NaN    NaN  380.0  961.0   855.0   \n",
       "1004      NaN    NaN    NaN    NaN   35.0  171.0  135.0  137.0  117.0   145.0   \n",
       "...       ...    ...    ...    ...    ...    ...    ...    ...    ...     ...   \n",
       "1495      NaN    NaN    NaN    NaN    NaN    NaN    NaN   92.0  813.0  1030.0   \n",
       "1496     48.0  594.0  557.0  521.0  484.0  555.0  582.0  527.0  486.0   450.0   \n",
       "1497      NaN    NaN    NaN    NaN    NaN    NaN    NaN    NaN    NaN   490.0   \n",
       "1498      NaN    NaN    NaN    NaN    NaN    NaN  175.0  400.0  471.0   247.0   \n",
       "1499      NaN    NaN    NaN    NaN    NaN    NaN    NaN    NaN   70.0   449.0   \n",
       "\n",
       "month       11      12  \n",
       "user_id                 \n",
       "1000     338.0   333.0  \n",
       "1001     430.0   414.0  \n",
       "1002     243.0   236.0  \n",
       "1003     824.0   802.0  \n",
       "1004     117.0   130.0  \n",
       "...        ...     ...  \n",
       "1495     954.0  1031.0  \n",
       "1496     662.0   518.0  \n",
       "1497     371.0   545.0  \n",
       "1498       NaN     NaN  \n",
       "1499     612.0   492.0  \n",
       "\n",
       "[492 rows x 12 columns]"
      ]
     },
     "execution_count": 23,
     "metadata": {},
     "output_type": "execute_result"
    }
   ],
   "source": [
    "calls_pvt = calls.pivot_table(\n",
    "    index='user_id', \n",
    "    columns='month', \n",
    "    values='duration', \n",
    "    aggfunc=['sum']\n",
    ")\n",
    "\n",
    "# Избавимся от мультииндекса\n",
    "calls_pvt.columns = calls_pvt.columns.droplevel(0)\n",
    "calls_pvt"
   ]
  },
  {
   "cell_type": "markdown",
   "id": "a9e9523b",
   "metadata": {},
   "source": [
    "Примечательно что многие пользователи не совершают ни одного звонка за полгода. Можем заметить что в таблице осталось 492 строки из 500. Это связано с тем, что есть абоненты не совершившие ни одного звонка, в результате чего были отброшены при группировке. Если это не исправить, то это вызовет проблемы в дальнейшем.\n",
    "\n",
    "Так примемся за работу! Посчитаем сколько каждый пользователь использует на разговоры в месяц. Для этого добавим в таблицу данные о используемых тарифах."
   ]
  },
  {
   "cell_type": "code",
   "execution_count": 24,
   "id": "bbf6e670",
   "metadata": {},
   "outputs": [],
   "source": [
    "calls_pvt = calls_pvt.merge(users[['user_id', 'tariff']], on='user_id', how='right').fillna(value=0)"
   ]
  },
  {
   "cell_type": "code",
   "execution_count": 25,
   "id": "e9fc0f04",
   "metadata": {
    "scrolled": true
   },
   "outputs": [
    {
     "data": {
      "text/html": [
       "<div>\n",
       "<style scoped>\n",
       "    .dataframe tbody tr th:only-of-type {\n",
       "        vertical-align: middle;\n",
       "    }\n",
       "\n",
       "    .dataframe tbody tr th {\n",
       "        vertical-align: top;\n",
       "    }\n",
       "\n",
       "    .dataframe thead th {\n",
       "        text-align: right;\n",
       "    }\n",
       "</style>\n",
       "<table border=\"1\" class=\"dataframe\">\n",
       "  <thead>\n",
       "    <tr style=\"text-align: right;\">\n",
       "      <th></th>\n",
       "      <th>user_id</th>\n",
       "      <th>1</th>\n",
       "      <th>2</th>\n",
       "      <th>3</th>\n",
       "      <th>4</th>\n",
       "      <th>5</th>\n",
       "      <th>6</th>\n",
       "      <th>7</th>\n",
       "      <th>8</th>\n",
       "      <th>9</th>\n",
       "      <th>10</th>\n",
       "      <th>11</th>\n",
       "      <th>12</th>\n",
       "      <th>tariff</th>\n",
       "    </tr>\n",
       "  </thead>\n",
       "  <tbody>\n",
       "    <tr>\n",
       "      <th>0</th>\n",
       "      <td>1000</td>\n",
       "      <td>0.0</td>\n",
       "      <td>0.0</td>\n",
       "      <td>0.0</td>\n",
       "      <td>0.0</td>\n",
       "      <td>159.0</td>\n",
       "      <td>172.0</td>\n",
       "      <td>340.0</td>\n",
       "      <td>408.0</td>\n",
       "      <td>466.0</td>\n",
       "      <td>350.0</td>\n",
       "      <td>338.0</td>\n",
       "      <td>333.0</td>\n",
       "      <td>ultra</td>\n",
       "    </tr>\n",
       "    <tr>\n",
       "      <th>1</th>\n",
       "      <td>1001</td>\n",
       "      <td>0.0</td>\n",
       "      <td>0.0</td>\n",
       "      <td>0.0</td>\n",
       "      <td>0.0</td>\n",
       "      <td>0.0</td>\n",
       "      <td>0.0</td>\n",
       "      <td>0.0</td>\n",
       "      <td>0.0</td>\n",
       "      <td>0.0</td>\n",
       "      <td>0.0</td>\n",
       "      <td>430.0</td>\n",
       "      <td>414.0</td>\n",
       "      <td>smart</td>\n",
       "    </tr>\n",
       "    <tr>\n",
       "      <th>2</th>\n",
       "      <td>1002</td>\n",
       "      <td>0.0</td>\n",
       "      <td>0.0</td>\n",
       "      <td>0.0</td>\n",
       "      <td>0.0</td>\n",
       "      <td>0.0</td>\n",
       "      <td>117.0</td>\n",
       "      <td>214.0</td>\n",
       "      <td>289.0</td>\n",
       "      <td>206.0</td>\n",
       "      <td>212.0</td>\n",
       "      <td>243.0</td>\n",
       "      <td>236.0</td>\n",
       "      <td>smart</td>\n",
       "    </tr>\n",
       "    <tr>\n",
       "      <th>3</th>\n",
       "      <td>1003</td>\n",
       "      <td>0.0</td>\n",
       "      <td>0.0</td>\n",
       "      <td>0.0</td>\n",
       "      <td>0.0</td>\n",
       "      <td>0.0</td>\n",
       "      <td>0.0</td>\n",
       "      <td>0.0</td>\n",
       "      <td>380.0</td>\n",
       "      <td>961.0</td>\n",
       "      <td>855.0</td>\n",
       "      <td>824.0</td>\n",
       "      <td>802.0</td>\n",
       "      <td>ultra</td>\n",
       "    </tr>\n",
       "    <tr>\n",
       "      <th>4</th>\n",
       "      <td>1004</td>\n",
       "      <td>0.0</td>\n",
       "      <td>0.0</td>\n",
       "      <td>0.0</td>\n",
       "      <td>0.0</td>\n",
       "      <td>35.0</td>\n",
       "      <td>171.0</td>\n",
       "      <td>135.0</td>\n",
       "      <td>137.0</td>\n",
       "      <td>117.0</td>\n",
       "      <td>145.0</td>\n",
       "      <td>117.0</td>\n",
       "      <td>130.0</td>\n",
       "      <td>ultra</td>\n",
       "    </tr>\n",
       "    <tr>\n",
       "      <th>...</th>\n",
       "      <td>...</td>\n",
       "      <td>...</td>\n",
       "      <td>...</td>\n",
       "      <td>...</td>\n",
       "      <td>...</td>\n",
       "      <td>...</td>\n",
       "      <td>...</td>\n",
       "      <td>...</td>\n",
       "      <td>...</td>\n",
       "      <td>...</td>\n",
       "      <td>...</td>\n",
       "      <td>...</td>\n",
       "      <td>...</td>\n",
       "      <td>...</td>\n",
       "    </tr>\n",
       "    <tr>\n",
       "      <th>495</th>\n",
       "      <td>1495</td>\n",
       "      <td>0.0</td>\n",
       "      <td>0.0</td>\n",
       "      <td>0.0</td>\n",
       "      <td>0.0</td>\n",
       "      <td>0.0</td>\n",
       "      <td>0.0</td>\n",
       "      <td>0.0</td>\n",
       "      <td>92.0</td>\n",
       "      <td>813.0</td>\n",
       "      <td>1030.0</td>\n",
       "      <td>954.0</td>\n",
       "      <td>1031.0</td>\n",
       "      <td>ultra</td>\n",
       "    </tr>\n",
       "    <tr>\n",
       "      <th>496</th>\n",
       "      <td>1496</td>\n",
       "      <td>48.0</td>\n",
       "      <td>594.0</td>\n",
       "      <td>557.0</td>\n",
       "      <td>521.0</td>\n",
       "      <td>484.0</td>\n",
       "      <td>555.0</td>\n",
       "      <td>582.0</td>\n",
       "      <td>527.0</td>\n",
       "      <td>486.0</td>\n",
       "      <td>450.0</td>\n",
       "      <td>662.0</td>\n",
       "      <td>518.0</td>\n",
       "      <td>smart</td>\n",
       "    </tr>\n",
       "    <tr>\n",
       "      <th>497</th>\n",
       "      <td>1497</td>\n",
       "      <td>0.0</td>\n",
       "      <td>0.0</td>\n",
       "      <td>0.0</td>\n",
       "      <td>0.0</td>\n",
       "      <td>0.0</td>\n",
       "      <td>0.0</td>\n",
       "      <td>0.0</td>\n",
       "      <td>0.0</td>\n",
       "      <td>0.0</td>\n",
       "      <td>490.0</td>\n",
       "      <td>371.0</td>\n",
       "      <td>545.0</td>\n",
       "      <td>smart</td>\n",
       "    </tr>\n",
       "    <tr>\n",
       "      <th>498</th>\n",
       "      <td>1498</td>\n",
       "      <td>0.0</td>\n",
       "      <td>0.0</td>\n",
       "      <td>0.0</td>\n",
       "      <td>0.0</td>\n",
       "      <td>0.0</td>\n",
       "      <td>0.0</td>\n",
       "      <td>175.0</td>\n",
       "      <td>400.0</td>\n",
       "      <td>471.0</td>\n",
       "      <td>247.0</td>\n",
       "      <td>0.0</td>\n",
       "      <td>0.0</td>\n",
       "      <td>smart</td>\n",
       "    </tr>\n",
       "    <tr>\n",
       "      <th>499</th>\n",
       "      <td>1499</td>\n",
       "      <td>0.0</td>\n",
       "      <td>0.0</td>\n",
       "      <td>0.0</td>\n",
       "      <td>0.0</td>\n",
       "      <td>0.0</td>\n",
       "      <td>0.0</td>\n",
       "      <td>0.0</td>\n",
       "      <td>0.0</td>\n",
       "      <td>70.0</td>\n",
       "      <td>449.0</td>\n",
       "      <td>612.0</td>\n",
       "      <td>492.0</td>\n",
       "      <td>smart</td>\n",
       "    </tr>\n",
       "  </tbody>\n",
       "</table>\n",
       "<p>500 rows × 14 columns</p>\n",
       "</div>"
      ],
      "text/plain": [
       "     user_id     1      2      3      4      5      6      7      8      9  \\\n",
       "0       1000   0.0    0.0    0.0    0.0  159.0  172.0  340.0  408.0  466.0   \n",
       "1       1001   0.0    0.0    0.0    0.0    0.0    0.0    0.0    0.0    0.0   \n",
       "2       1002   0.0    0.0    0.0    0.0    0.0  117.0  214.0  289.0  206.0   \n",
       "3       1003   0.0    0.0    0.0    0.0    0.0    0.0    0.0  380.0  961.0   \n",
       "4       1004   0.0    0.0    0.0    0.0   35.0  171.0  135.0  137.0  117.0   \n",
       "..       ...   ...    ...    ...    ...    ...    ...    ...    ...    ...   \n",
       "495     1495   0.0    0.0    0.0    0.0    0.0    0.0    0.0   92.0  813.0   \n",
       "496     1496  48.0  594.0  557.0  521.0  484.0  555.0  582.0  527.0  486.0   \n",
       "497     1497   0.0    0.0    0.0    0.0    0.0    0.0    0.0    0.0    0.0   \n",
       "498     1498   0.0    0.0    0.0    0.0    0.0    0.0  175.0  400.0  471.0   \n",
       "499     1499   0.0    0.0    0.0    0.0    0.0    0.0    0.0    0.0   70.0   \n",
       "\n",
       "         10     11      12 tariff  \n",
       "0     350.0  338.0   333.0  ultra  \n",
       "1       0.0  430.0   414.0  smart  \n",
       "2     212.0  243.0   236.0  smart  \n",
       "3     855.0  824.0   802.0  ultra  \n",
       "4     145.0  117.0   130.0  ultra  \n",
       "..      ...    ...     ...    ...  \n",
       "495  1030.0  954.0  1031.0  ultra  \n",
       "496   450.0  662.0   518.0  smart  \n",
       "497   490.0  371.0   545.0  smart  \n",
       "498   247.0    0.0     0.0  smart  \n",
       "499   449.0  612.0   492.0  smart  \n",
       "\n",
       "[500 rows x 14 columns]"
      ]
     },
     "execution_count": 25,
     "metadata": {},
     "output_type": "execute_result"
    }
   ],
   "source": [
    "calls_pvt"
   ]
  },
  {
   "cell_type": "markdown",
   "id": "eec66308",
   "metadata": {},
   "source": [
    "<font color='DarkBlue'><b>Комментарий ревьюера</b></font><br>\n",
    "<font color='DarkGreen'>👌 Хорошо, что заполнили пропуски нулями. 👍</font>"
   ]
  },
  {
   "cell_type": "markdown",
   "id": "d88d7388",
   "metadata": {},
   "source": [
    "При объединении таблиц методом `merge()` мы указали аргумент `how='right'` и объединение таблиц произошло по таблице с пользователями. В результате чего пользователи, не совершившие ни одного звонка за год заполнились  значениями NaN, которые мы в последствии заполнили 0. Теперь напишем функцию для расчёта переплаты."
   ]
  },
  {
   "cell_type": "code",
   "execution_count": 26,
   "id": "74f1918e",
   "metadata": {},
   "outputs": [],
   "source": [
    "def proof_call(row, col): # Функция принимает два значения: всю строку таблицы и месяц\n",
    "    # Проверяем три условия: Тариф = Smart, значение в ячейке > 0, есть перерасход минут\n",
    "    if row['tariff'] == 'smart' and row[col] > 0 and row[col] > tariffs.loc[0, 'minutes_included']:\n",
    "        # Возвращаем переплату в именованных единицах\n",
    "        return abs(tariffs.loc[0, 'minutes_included'] - row[col]) * tariffs.loc[0, 'rub_per_minute']\n",
    "    # Или проверяем другой тариф: Тариф = Ultra, значение в ячейке > 0, есть перерасход минут\n",
    "    elif row['tariff'] == 'ultra' and row[col] > 0 and row[col] > tariffs.loc[1, 'minutes_included']:\n",
    "        return abs(tariffs.loc[1, 'minutes_included'] - row[col])\n",
    "    # Если оба условия оказались ложными возвращаем 0 (чтобы не забивать таблицу NaN) \n",
    "    else:\n",
    "        return 0"
   ]
  },
  {
   "cell_type": "markdown",
   "id": "f94bf9f0",
   "metadata": {},
   "source": [
    "Теперь этой функцией как-то нужно перебрать таблицу. Т.к. мы не можем переписать всю таблицу целиком, нужно передавать в функцию значения по колонкам. Здесь нам на помощь приходит перебор по именам колонок, т.к. месяца у нас в диапазоне от 1 до 12 переберём значения в цикле от 1 до 13."
   ]
  },
  {
   "cell_type": "code",
   "execution_count": 27,
   "id": "1af4d0e8",
   "metadata": {},
   "outputs": [],
   "source": [
    "calls_pvt_overpayment = calls_pvt.copy()\n",
    "for month in range(1, 13):\n",
    "    calls_pvt_overpayment[month] = calls_pvt_overpayment.apply(proof_call, col = month, axis=1)\n"
   ]
  },
  {
   "cell_type": "markdown",
   "id": "d892eb68",
   "metadata": {},
   "source": [
    "Я неверующий но, спаси и сохрани этот фаил."
   ]
  },
  {
   "cell_type": "code",
   "execution_count": 28,
   "id": "5a28cd4d",
   "metadata": {
    "scrolled": true
   },
   "outputs": [
    {
     "data": {
      "text/html": [
       "<div>\n",
       "<style scoped>\n",
       "    .dataframe tbody tr th:only-of-type {\n",
       "        vertical-align: middle;\n",
       "    }\n",
       "\n",
       "    .dataframe tbody tr th {\n",
       "        vertical-align: top;\n",
       "    }\n",
       "\n",
       "    .dataframe thead th {\n",
       "        text-align: right;\n",
       "    }\n",
       "</style>\n",
       "<table border=\"1\" class=\"dataframe\">\n",
       "  <thead>\n",
       "    <tr style=\"text-align: right;\">\n",
       "      <th></th>\n",
       "      <th>user_id</th>\n",
       "      <th>1</th>\n",
       "      <th>2</th>\n",
       "      <th>3</th>\n",
       "      <th>4</th>\n",
       "      <th>5</th>\n",
       "      <th>6</th>\n",
       "      <th>7</th>\n",
       "      <th>8</th>\n",
       "      <th>9</th>\n",
       "      <th>10</th>\n",
       "      <th>11</th>\n",
       "      <th>12</th>\n",
       "      <th>tariff</th>\n",
       "    </tr>\n",
       "  </thead>\n",
       "  <tbody>\n",
       "    <tr>\n",
       "      <th>0</th>\n",
       "      <td>1000</td>\n",
       "      <td>0.0</td>\n",
       "      <td>0.0</td>\n",
       "      <td>0.0</td>\n",
       "      <td>0.0</td>\n",
       "      <td>0.0</td>\n",
       "      <td>0.0</td>\n",
       "      <td>0.0</td>\n",
       "      <td>0.0</td>\n",
       "      <td>0.0</td>\n",
       "      <td>0.0</td>\n",
       "      <td>0.0</td>\n",
       "      <td>0.0</td>\n",
       "      <td>ultra</td>\n",
       "    </tr>\n",
       "    <tr>\n",
       "      <th>1</th>\n",
       "      <td>1001</td>\n",
       "      <td>0.0</td>\n",
       "      <td>0.0</td>\n",
       "      <td>0.0</td>\n",
       "      <td>0.0</td>\n",
       "      <td>0.0</td>\n",
       "      <td>0.0</td>\n",
       "      <td>0.0</td>\n",
       "      <td>0.0</td>\n",
       "      <td>0.0</td>\n",
       "      <td>0.0</td>\n",
       "      <td>0.0</td>\n",
       "      <td>0.0</td>\n",
       "      <td>smart</td>\n",
       "    </tr>\n",
       "    <tr>\n",
       "      <th>2</th>\n",
       "      <td>1002</td>\n",
       "      <td>0.0</td>\n",
       "      <td>0.0</td>\n",
       "      <td>0.0</td>\n",
       "      <td>0.0</td>\n",
       "      <td>0.0</td>\n",
       "      <td>0.0</td>\n",
       "      <td>0.0</td>\n",
       "      <td>0.0</td>\n",
       "      <td>0.0</td>\n",
       "      <td>0.0</td>\n",
       "      <td>0.0</td>\n",
       "      <td>0.0</td>\n",
       "      <td>smart</td>\n",
       "    </tr>\n",
       "    <tr>\n",
       "      <th>3</th>\n",
       "      <td>1003</td>\n",
       "      <td>0.0</td>\n",
       "      <td>0.0</td>\n",
       "      <td>0.0</td>\n",
       "      <td>0.0</td>\n",
       "      <td>0.0</td>\n",
       "      <td>0.0</td>\n",
       "      <td>0.0</td>\n",
       "      <td>0.0</td>\n",
       "      <td>0.0</td>\n",
       "      <td>0.0</td>\n",
       "      <td>0.0</td>\n",
       "      <td>0.0</td>\n",
       "      <td>ultra</td>\n",
       "    </tr>\n",
       "    <tr>\n",
       "      <th>4</th>\n",
       "      <td>1004</td>\n",
       "      <td>0.0</td>\n",
       "      <td>0.0</td>\n",
       "      <td>0.0</td>\n",
       "      <td>0.0</td>\n",
       "      <td>0.0</td>\n",
       "      <td>0.0</td>\n",
       "      <td>0.0</td>\n",
       "      <td>0.0</td>\n",
       "      <td>0.0</td>\n",
       "      <td>0.0</td>\n",
       "      <td>0.0</td>\n",
       "      <td>0.0</td>\n",
       "      <td>ultra</td>\n",
       "    </tr>\n",
       "    <tr>\n",
       "      <th>...</th>\n",
       "      <td>...</td>\n",
       "      <td>...</td>\n",
       "      <td>...</td>\n",
       "      <td>...</td>\n",
       "      <td>...</td>\n",
       "      <td>...</td>\n",
       "      <td>...</td>\n",
       "      <td>...</td>\n",
       "      <td>...</td>\n",
       "      <td>...</td>\n",
       "      <td>...</td>\n",
       "      <td>...</td>\n",
       "      <td>...</td>\n",
       "      <td>...</td>\n",
       "    </tr>\n",
       "    <tr>\n",
       "      <th>495</th>\n",
       "      <td>1495</td>\n",
       "      <td>0.0</td>\n",
       "      <td>0.0</td>\n",
       "      <td>0.0</td>\n",
       "      <td>0.0</td>\n",
       "      <td>0.0</td>\n",
       "      <td>0.0</td>\n",
       "      <td>0.0</td>\n",
       "      <td>0.0</td>\n",
       "      <td>0.0</td>\n",
       "      <td>0.0</td>\n",
       "      <td>0.0</td>\n",
       "      <td>0.0</td>\n",
       "      <td>ultra</td>\n",
       "    </tr>\n",
       "    <tr>\n",
       "      <th>496</th>\n",
       "      <td>1496</td>\n",
       "      <td>0.0</td>\n",
       "      <td>282.0</td>\n",
       "      <td>171.0</td>\n",
       "      <td>63.0</td>\n",
       "      <td>0.0</td>\n",
       "      <td>165.0</td>\n",
       "      <td>246.0</td>\n",
       "      <td>81.0</td>\n",
       "      <td>0.0</td>\n",
       "      <td>0.0</td>\n",
       "      <td>486.0</td>\n",
       "      <td>54.0</td>\n",
       "      <td>smart</td>\n",
       "    </tr>\n",
       "    <tr>\n",
       "      <th>497</th>\n",
       "      <td>1497</td>\n",
       "      <td>0.0</td>\n",
       "      <td>0.0</td>\n",
       "      <td>0.0</td>\n",
       "      <td>0.0</td>\n",
       "      <td>0.0</td>\n",
       "      <td>0.0</td>\n",
       "      <td>0.0</td>\n",
       "      <td>0.0</td>\n",
       "      <td>0.0</td>\n",
       "      <td>0.0</td>\n",
       "      <td>0.0</td>\n",
       "      <td>135.0</td>\n",
       "      <td>smart</td>\n",
       "    </tr>\n",
       "    <tr>\n",
       "      <th>498</th>\n",
       "      <td>1498</td>\n",
       "      <td>0.0</td>\n",
       "      <td>0.0</td>\n",
       "      <td>0.0</td>\n",
       "      <td>0.0</td>\n",
       "      <td>0.0</td>\n",
       "      <td>0.0</td>\n",
       "      <td>0.0</td>\n",
       "      <td>0.0</td>\n",
       "      <td>0.0</td>\n",
       "      <td>0.0</td>\n",
       "      <td>0.0</td>\n",
       "      <td>0.0</td>\n",
       "      <td>smart</td>\n",
       "    </tr>\n",
       "    <tr>\n",
       "      <th>499</th>\n",
       "      <td>1499</td>\n",
       "      <td>0.0</td>\n",
       "      <td>0.0</td>\n",
       "      <td>0.0</td>\n",
       "      <td>0.0</td>\n",
       "      <td>0.0</td>\n",
       "      <td>0.0</td>\n",
       "      <td>0.0</td>\n",
       "      <td>0.0</td>\n",
       "      <td>0.0</td>\n",
       "      <td>0.0</td>\n",
       "      <td>336.0</td>\n",
       "      <td>0.0</td>\n",
       "      <td>smart</td>\n",
       "    </tr>\n",
       "  </tbody>\n",
       "</table>\n",
       "<p>500 rows × 14 columns</p>\n",
       "</div>"
      ],
      "text/plain": [
       "     user_id    1      2      3     4    5      6      7     8    9   10  \\\n",
       "0       1000  0.0    0.0    0.0   0.0  0.0    0.0    0.0   0.0  0.0  0.0   \n",
       "1       1001  0.0    0.0    0.0   0.0  0.0    0.0    0.0   0.0  0.0  0.0   \n",
       "2       1002  0.0    0.0    0.0   0.0  0.0    0.0    0.0   0.0  0.0  0.0   \n",
       "3       1003  0.0    0.0    0.0   0.0  0.0    0.0    0.0   0.0  0.0  0.0   \n",
       "4       1004  0.0    0.0    0.0   0.0  0.0    0.0    0.0   0.0  0.0  0.0   \n",
       "..       ...  ...    ...    ...   ...  ...    ...    ...   ...  ...  ...   \n",
       "495     1495  0.0    0.0    0.0   0.0  0.0    0.0    0.0   0.0  0.0  0.0   \n",
       "496     1496  0.0  282.0  171.0  63.0  0.0  165.0  246.0  81.0  0.0  0.0   \n",
       "497     1497  0.0    0.0    0.0   0.0  0.0    0.0    0.0   0.0  0.0  0.0   \n",
       "498     1498  0.0    0.0    0.0   0.0  0.0    0.0    0.0   0.0  0.0  0.0   \n",
       "499     1499  0.0    0.0    0.0   0.0  0.0    0.0    0.0   0.0  0.0  0.0   \n",
       "\n",
       "        11     12 tariff  \n",
       "0      0.0    0.0  ultra  \n",
       "1      0.0    0.0  smart  \n",
       "2      0.0    0.0  smart  \n",
       "3      0.0    0.0  ultra  \n",
       "4      0.0    0.0  ultra  \n",
       "..     ...    ...    ...  \n",
       "495    0.0    0.0  ultra  \n",
       "496  486.0   54.0  smart  \n",
       "497    0.0  135.0  smart  \n",
       "498    0.0    0.0  smart  \n",
       "499  336.0    0.0  smart  \n",
       "\n",
       "[500 rows x 14 columns]"
      ]
     },
     "execution_count": 28,
     "metadata": {},
     "output_type": "execute_result"
    }
   ],
   "source": [
    "calls_pvt_overpayment"
   ]
  },
  {
   "cell_type": "markdown",
   "id": "5bad4ed8",
   "metadata": {},
   "source": [
    "Наши старания не были напрасны, всё сработало! Теперь у нас есть таблица с переплатой по месяцам для каждого пользователя. Возрадуемся и идём считать следующую."
   ]
  },
  {
   "cell_type": "markdown",
   "id": "a21464d4",
   "metadata": {},
   "source": [
    "## Информация о сообщениях"
   ]
  },
  {
   "cell_type": "markdown",
   "id": "bedeef36",
   "metadata": {},
   "source": [
    "Обработка аналогична таблице `calls`"
   ]
  },
  {
   "cell_type": "code",
   "execution_count": 29,
   "id": "a0ce7651",
   "metadata": {},
   "outputs": [],
   "source": [
    "messages = messages.drop(['id'], axis=1)\n",
    "messages['message_date']= pd.to_datetime(messages['message_date'], format='%Y-%m-%d')\n",
    "messages['user_id'] = messages['user_id'].astype('int32')"
   ]
  },
  {
   "cell_type": "markdown",
   "id": "8219dc12",
   "metadata": {},
   "source": [
    "Добавим столбец с месяцами."
   ]
  },
  {
   "cell_type": "code",
   "execution_count": 30,
   "id": "6beeae6d",
   "metadata": {},
   "outputs": [],
   "source": [
    "messages.insert(1, 'month', pd.DatetimeIndex(messages['message_date']).month)"
   ]
  },
  {
   "cell_type": "markdown",
   "id": "57848bb7",
   "metadata": {},
   "source": [
    "Сводим данные по сообщениям за месяц и добавим столбец с тарифом."
   ]
  },
  {
   "cell_type": "code",
   "execution_count": 31,
   "id": "b19d5b6f",
   "metadata": {},
   "outputs": [
    {
     "data": {
      "text/html": [
       "<div>\n",
       "<style scoped>\n",
       "    .dataframe tbody tr th:only-of-type {\n",
       "        vertical-align: middle;\n",
       "    }\n",
       "\n",
       "    .dataframe tbody tr th {\n",
       "        vertical-align: top;\n",
       "    }\n",
       "\n",
       "    .dataframe thead th {\n",
       "        text-align: right;\n",
       "    }\n",
       "</style>\n",
       "<table border=\"1\" class=\"dataframe\">\n",
       "  <thead>\n",
       "    <tr style=\"text-align: right;\">\n",
       "      <th></th>\n",
       "      <th>user_id</th>\n",
       "      <th>1</th>\n",
       "      <th>2</th>\n",
       "      <th>3</th>\n",
       "      <th>4</th>\n",
       "      <th>5</th>\n",
       "      <th>6</th>\n",
       "      <th>7</th>\n",
       "      <th>8</th>\n",
       "      <th>9</th>\n",
       "      <th>10</th>\n",
       "      <th>11</th>\n",
       "      <th>12</th>\n",
       "      <th>tariff</th>\n",
       "    </tr>\n",
       "  </thead>\n",
       "  <tbody>\n",
       "    <tr>\n",
       "      <th>0</th>\n",
       "      <td>1000</td>\n",
       "      <td>0.0</td>\n",
       "      <td>0.0</td>\n",
       "      <td>0.0</td>\n",
       "      <td>0.0</td>\n",
       "      <td>22.0</td>\n",
       "      <td>60.0</td>\n",
       "      <td>75.0</td>\n",
       "      <td>81.0</td>\n",
       "      <td>57.0</td>\n",
       "      <td>73.0</td>\n",
       "      <td>58.0</td>\n",
       "      <td>70.0</td>\n",
       "      <td>ultra</td>\n",
       "    </tr>\n",
       "    <tr>\n",
       "      <th>1</th>\n",
       "      <td>1001</td>\n",
       "      <td>0.0</td>\n",
       "      <td>0.0</td>\n",
       "      <td>0.0</td>\n",
       "      <td>0.0</td>\n",
       "      <td>0.0</td>\n",
       "      <td>0.0</td>\n",
       "      <td>0.0</td>\n",
       "      <td>0.0</td>\n",
       "      <td>0.0</td>\n",
       "      <td>0.0</td>\n",
       "      <td>0.0</td>\n",
       "      <td>0.0</td>\n",
       "      <td>smart</td>\n",
       "    </tr>\n",
       "    <tr>\n",
       "      <th>2</th>\n",
       "      <td>1002</td>\n",
       "      <td>0.0</td>\n",
       "      <td>0.0</td>\n",
       "      <td>0.0</td>\n",
       "      <td>0.0</td>\n",
       "      <td>0.0</td>\n",
       "      <td>4.0</td>\n",
       "      <td>11.0</td>\n",
       "      <td>13.0</td>\n",
       "      <td>4.0</td>\n",
       "      <td>10.0</td>\n",
       "      <td>16.0</td>\n",
       "      <td>12.0</td>\n",
       "      <td>smart</td>\n",
       "    </tr>\n",
       "    <tr>\n",
       "      <th>3</th>\n",
       "      <td>1003</td>\n",
       "      <td>0.0</td>\n",
       "      <td>0.0</td>\n",
       "      <td>0.0</td>\n",
       "      <td>0.0</td>\n",
       "      <td>0.0</td>\n",
       "      <td>0.0</td>\n",
       "      <td>0.0</td>\n",
       "      <td>37.0</td>\n",
       "      <td>91.0</td>\n",
       "      <td>83.0</td>\n",
       "      <td>94.0</td>\n",
       "      <td>75.0</td>\n",
       "      <td>ultra</td>\n",
       "    </tr>\n",
       "    <tr>\n",
       "      <th>4</th>\n",
       "      <td>1004</td>\n",
       "      <td>0.0</td>\n",
       "      <td>0.0</td>\n",
       "      <td>0.0</td>\n",
       "      <td>0.0</td>\n",
       "      <td>95.0</td>\n",
       "      <td>134.0</td>\n",
       "      <td>181.0</td>\n",
       "      <td>151.0</td>\n",
       "      <td>146.0</td>\n",
       "      <td>165.0</td>\n",
       "      <td>158.0</td>\n",
       "      <td>162.0</td>\n",
       "      <td>ultra</td>\n",
       "    </tr>\n",
       "    <tr>\n",
       "      <th>...</th>\n",
       "      <td>...</td>\n",
       "      <td>...</td>\n",
       "      <td>...</td>\n",
       "      <td>...</td>\n",
       "      <td>...</td>\n",
       "      <td>...</td>\n",
       "      <td>...</td>\n",
       "      <td>...</td>\n",
       "      <td>...</td>\n",
       "      <td>...</td>\n",
       "      <td>...</td>\n",
       "      <td>...</td>\n",
       "      <td>...</td>\n",
       "      <td>...</td>\n",
       "    </tr>\n",
       "    <tr>\n",
       "      <th>495</th>\n",
       "      <td>1495</td>\n",
       "      <td>0.0</td>\n",
       "      <td>0.0</td>\n",
       "      <td>0.0</td>\n",
       "      <td>0.0</td>\n",
       "      <td>0.0</td>\n",
       "      <td>0.0</td>\n",
       "      <td>0.0</td>\n",
       "      <td>13.0</td>\n",
       "      <td>82.0</td>\n",
       "      <td>82.0</td>\n",
       "      <td>79.0</td>\n",
       "      <td>84.0</td>\n",
       "      <td>ultra</td>\n",
       "    </tr>\n",
       "    <tr>\n",
       "      <th>496</th>\n",
       "      <td>1496</td>\n",
       "      <td>9.0</td>\n",
       "      <td>45.0</td>\n",
       "      <td>46.0</td>\n",
       "      <td>49.0</td>\n",
       "      <td>40.0</td>\n",
       "      <td>35.0</td>\n",
       "      <td>42.0</td>\n",
       "      <td>41.0</td>\n",
       "      <td>29.0</td>\n",
       "      <td>35.0</td>\n",
       "      <td>46.0</td>\n",
       "      <td>51.0</td>\n",
       "      <td>smart</td>\n",
       "    </tr>\n",
       "    <tr>\n",
       "      <th>497</th>\n",
       "      <td>1497</td>\n",
       "      <td>0.0</td>\n",
       "      <td>0.0</td>\n",
       "      <td>0.0</td>\n",
       "      <td>0.0</td>\n",
       "      <td>0.0</td>\n",
       "      <td>0.0</td>\n",
       "      <td>0.0</td>\n",
       "      <td>0.0</td>\n",
       "      <td>0.0</td>\n",
       "      <td>20.0</td>\n",
       "      <td>14.0</td>\n",
       "      <td>17.0</td>\n",
       "      <td>smart</td>\n",
       "    </tr>\n",
       "    <tr>\n",
       "      <th>498</th>\n",
       "      <td>1498</td>\n",
       "      <td>0.0</td>\n",
       "      <td>0.0</td>\n",
       "      <td>0.0</td>\n",
       "      <td>0.0</td>\n",
       "      <td>0.0</td>\n",
       "      <td>0.0</td>\n",
       "      <td>20.0</td>\n",
       "      <td>62.0</td>\n",
       "      <td>44.0</td>\n",
       "      <td>42.0</td>\n",
       "      <td>0.0</td>\n",
       "      <td>0.0</td>\n",
       "      <td>smart</td>\n",
       "    </tr>\n",
       "    <tr>\n",
       "      <th>499</th>\n",
       "      <td>1499</td>\n",
       "      <td>0.0</td>\n",
       "      <td>0.0</td>\n",
       "      <td>0.0</td>\n",
       "      <td>0.0</td>\n",
       "      <td>0.0</td>\n",
       "      <td>0.0</td>\n",
       "      <td>0.0</td>\n",
       "      <td>0.0</td>\n",
       "      <td>11.0</td>\n",
       "      <td>48.0</td>\n",
       "      <td>59.0</td>\n",
       "      <td>66.0</td>\n",
       "      <td>smart</td>\n",
       "    </tr>\n",
       "  </tbody>\n",
       "</table>\n",
       "<p>500 rows × 14 columns</p>\n",
       "</div>"
      ],
      "text/plain": [
       "     user_id    1     2     3     4     5      6      7      8      9     10  \\\n",
       "0       1000  0.0   0.0   0.0   0.0  22.0   60.0   75.0   81.0   57.0   73.0   \n",
       "1       1001  0.0   0.0   0.0   0.0   0.0    0.0    0.0    0.0    0.0    0.0   \n",
       "2       1002  0.0   0.0   0.0   0.0   0.0    4.0   11.0   13.0    4.0   10.0   \n",
       "3       1003  0.0   0.0   0.0   0.0   0.0    0.0    0.0   37.0   91.0   83.0   \n",
       "4       1004  0.0   0.0   0.0   0.0  95.0  134.0  181.0  151.0  146.0  165.0   \n",
       "..       ...  ...   ...   ...   ...   ...    ...    ...    ...    ...    ...   \n",
       "495     1495  0.0   0.0   0.0   0.0   0.0    0.0    0.0   13.0   82.0   82.0   \n",
       "496     1496  9.0  45.0  46.0  49.0  40.0   35.0   42.0   41.0   29.0   35.0   \n",
       "497     1497  0.0   0.0   0.0   0.0   0.0    0.0    0.0    0.0    0.0   20.0   \n",
       "498     1498  0.0   0.0   0.0   0.0   0.0    0.0   20.0   62.0   44.0   42.0   \n",
       "499     1499  0.0   0.0   0.0   0.0   0.0    0.0    0.0    0.0   11.0   48.0   \n",
       "\n",
       "        11     12 tariff  \n",
       "0     58.0   70.0  ultra  \n",
       "1      0.0    0.0  smart  \n",
       "2     16.0   12.0  smart  \n",
       "3     94.0   75.0  ultra  \n",
       "4    158.0  162.0  ultra  \n",
       "..     ...    ...    ...  \n",
       "495   79.0   84.0  ultra  \n",
       "496   46.0   51.0  smart  \n",
       "497   14.0   17.0  smart  \n",
       "498    0.0    0.0  smart  \n",
       "499   59.0   66.0  smart  \n",
       "\n",
       "[500 rows x 14 columns]"
      ]
     },
     "execution_count": 31,
     "metadata": {},
     "output_type": "execute_result"
    }
   ],
   "source": [
    "messages_pvt = messages.pivot_table(\n",
    "    index='user_id', \n",
    "    columns='month', \n",
    "    values=['user_id'], \n",
    "    aggfunc='count'\n",
    ")\n",
    "\n",
    "messages_pvt.columns = messages_pvt.columns.droplevel(0)\n",
    "messages_pvt = messages_pvt.merge(users[['user_id', 'tariff']], on='user_id', how='right').fillna(value=0)\n",
    "\n",
    "messages_pvt"
   ]
  },
  {
   "cell_type": "markdown",
   "id": "3b4d8d81",
   "metadata": {},
   "source": [
    "Сводная таблица с сообщениями выглядит более правдоподобной. Хоть данные и за 2018 год, уже тогда смс становились всё менее популярны.\n",
    "\n",
    "Адаптируем функцию для подсчёта звонков под подсчёт сообщений."
   ]
  },
  {
   "cell_type": "code",
   "execution_count": 32,
   "id": "e5444a83",
   "metadata": {},
   "outputs": [],
   "source": [
    "def proof_mess(row, col):\n",
    "    if row['tariff'] == 'smart' and row[col] > 0 and row[col] > tariffs.loc[0, 'messages_included']: \n",
    "        return abs(50 - row[col]) * tariffs.loc[0, 'rub_per_message']\n",
    "    elif row['tariff'] == 'ultra' and row[col] > 0 and row[col] > tariffs.loc[1, 'messages_included']:\n",
    "        return abs(1000 - row[col])\n",
    "    else:\n",
    "        return 0"
   ]
  },
  {
   "cell_type": "code",
   "execution_count": 33,
   "id": "afda87a3",
   "metadata": {},
   "outputs": [],
   "source": [
    "messages_pvt_overpayment = messages_pvt.copy()\n",
    "\n",
    "for month in range(1, 13):\n",
    "    messages_pvt_overpayment[month] = messages_pvt_overpayment.apply(proof_mess, col = month, axis=1)"
   ]
  },
  {
   "cell_type": "code",
   "execution_count": 34,
   "id": "3aa8ae06",
   "metadata": {},
   "outputs": [
    {
     "data": {
      "text/html": [
       "<div>\n",
       "<style scoped>\n",
       "    .dataframe tbody tr th:only-of-type {\n",
       "        vertical-align: middle;\n",
       "    }\n",
       "\n",
       "    .dataframe tbody tr th {\n",
       "        vertical-align: top;\n",
       "    }\n",
       "\n",
       "    .dataframe thead th {\n",
       "        text-align: right;\n",
       "    }\n",
       "</style>\n",
       "<table border=\"1\" class=\"dataframe\">\n",
       "  <thead>\n",
       "    <tr style=\"text-align: right;\">\n",
       "      <th></th>\n",
       "      <th>user_id</th>\n",
       "      <th>1</th>\n",
       "      <th>2</th>\n",
       "      <th>3</th>\n",
       "      <th>4</th>\n",
       "      <th>5</th>\n",
       "      <th>6</th>\n",
       "      <th>7</th>\n",
       "      <th>8</th>\n",
       "      <th>9</th>\n",
       "      <th>10</th>\n",
       "      <th>11</th>\n",
       "      <th>12</th>\n",
       "      <th>tariff</th>\n",
       "    </tr>\n",
       "  </thead>\n",
       "  <tbody>\n",
       "    <tr>\n",
       "      <th>0</th>\n",
       "      <td>1000</td>\n",
       "      <td>0.0</td>\n",
       "      <td>0.0</td>\n",
       "      <td>0.0</td>\n",
       "      <td>0.0</td>\n",
       "      <td>0.0</td>\n",
       "      <td>0.0</td>\n",
       "      <td>0.0</td>\n",
       "      <td>0.0</td>\n",
       "      <td>0.0</td>\n",
       "      <td>0.0</td>\n",
       "      <td>0.0</td>\n",
       "      <td>0.0</td>\n",
       "      <td>ultra</td>\n",
       "    </tr>\n",
       "    <tr>\n",
       "      <th>1</th>\n",
       "      <td>1001</td>\n",
       "      <td>0.0</td>\n",
       "      <td>0.0</td>\n",
       "      <td>0.0</td>\n",
       "      <td>0.0</td>\n",
       "      <td>0.0</td>\n",
       "      <td>0.0</td>\n",
       "      <td>0.0</td>\n",
       "      <td>0.0</td>\n",
       "      <td>0.0</td>\n",
       "      <td>0.0</td>\n",
       "      <td>0.0</td>\n",
       "      <td>0.0</td>\n",
       "      <td>smart</td>\n",
       "    </tr>\n",
       "    <tr>\n",
       "      <th>2</th>\n",
       "      <td>1002</td>\n",
       "      <td>0.0</td>\n",
       "      <td>0.0</td>\n",
       "      <td>0.0</td>\n",
       "      <td>0.0</td>\n",
       "      <td>0.0</td>\n",
       "      <td>0.0</td>\n",
       "      <td>0.0</td>\n",
       "      <td>0.0</td>\n",
       "      <td>0.0</td>\n",
       "      <td>0.0</td>\n",
       "      <td>0.0</td>\n",
       "      <td>0.0</td>\n",
       "      <td>smart</td>\n",
       "    </tr>\n",
       "    <tr>\n",
       "      <th>3</th>\n",
       "      <td>1003</td>\n",
       "      <td>0.0</td>\n",
       "      <td>0.0</td>\n",
       "      <td>0.0</td>\n",
       "      <td>0.0</td>\n",
       "      <td>0.0</td>\n",
       "      <td>0.0</td>\n",
       "      <td>0.0</td>\n",
       "      <td>0.0</td>\n",
       "      <td>0.0</td>\n",
       "      <td>0.0</td>\n",
       "      <td>0.0</td>\n",
       "      <td>0.0</td>\n",
       "      <td>ultra</td>\n",
       "    </tr>\n",
       "    <tr>\n",
       "      <th>4</th>\n",
       "      <td>1004</td>\n",
       "      <td>0.0</td>\n",
       "      <td>0.0</td>\n",
       "      <td>0.0</td>\n",
       "      <td>0.0</td>\n",
       "      <td>0.0</td>\n",
       "      <td>0.0</td>\n",
       "      <td>0.0</td>\n",
       "      <td>0.0</td>\n",
       "      <td>0.0</td>\n",
       "      <td>0.0</td>\n",
       "      <td>0.0</td>\n",
       "      <td>0.0</td>\n",
       "      <td>ultra</td>\n",
       "    </tr>\n",
       "    <tr>\n",
       "      <th>...</th>\n",
       "      <td>...</td>\n",
       "      <td>...</td>\n",
       "      <td>...</td>\n",
       "      <td>...</td>\n",
       "      <td>...</td>\n",
       "      <td>...</td>\n",
       "      <td>...</td>\n",
       "      <td>...</td>\n",
       "      <td>...</td>\n",
       "      <td>...</td>\n",
       "      <td>...</td>\n",
       "      <td>...</td>\n",
       "      <td>...</td>\n",
       "      <td>...</td>\n",
       "    </tr>\n",
       "    <tr>\n",
       "      <th>495</th>\n",
       "      <td>1495</td>\n",
       "      <td>0.0</td>\n",
       "      <td>0.0</td>\n",
       "      <td>0.0</td>\n",
       "      <td>0.0</td>\n",
       "      <td>0.0</td>\n",
       "      <td>0.0</td>\n",
       "      <td>0.0</td>\n",
       "      <td>0.0</td>\n",
       "      <td>0.0</td>\n",
       "      <td>0.0</td>\n",
       "      <td>0.0</td>\n",
       "      <td>0.0</td>\n",
       "      <td>ultra</td>\n",
       "    </tr>\n",
       "    <tr>\n",
       "      <th>496</th>\n",
       "      <td>1496</td>\n",
       "      <td>0.0</td>\n",
       "      <td>0.0</td>\n",
       "      <td>0.0</td>\n",
       "      <td>0.0</td>\n",
       "      <td>0.0</td>\n",
       "      <td>0.0</td>\n",
       "      <td>0.0</td>\n",
       "      <td>0.0</td>\n",
       "      <td>0.0</td>\n",
       "      <td>0.0</td>\n",
       "      <td>0.0</td>\n",
       "      <td>3.0</td>\n",
       "      <td>smart</td>\n",
       "    </tr>\n",
       "    <tr>\n",
       "      <th>497</th>\n",
       "      <td>1497</td>\n",
       "      <td>0.0</td>\n",
       "      <td>0.0</td>\n",
       "      <td>0.0</td>\n",
       "      <td>0.0</td>\n",
       "      <td>0.0</td>\n",
       "      <td>0.0</td>\n",
       "      <td>0.0</td>\n",
       "      <td>0.0</td>\n",
       "      <td>0.0</td>\n",
       "      <td>0.0</td>\n",
       "      <td>0.0</td>\n",
       "      <td>0.0</td>\n",
       "      <td>smart</td>\n",
       "    </tr>\n",
       "    <tr>\n",
       "      <th>498</th>\n",
       "      <td>1498</td>\n",
       "      <td>0.0</td>\n",
       "      <td>0.0</td>\n",
       "      <td>0.0</td>\n",
       "      <td>0.0</td>\n",
       "      <td>0.0</td>\n",
       "      <td>0.0</td>\n",
       "      <td>0.0</td>\n",
       "      <td>36.0</td>\n",
       "      <td>0.0</td>\n",
       "      <td>0.0</td>\n",
       "      <td>0.0</td>\n",
       "      <td>0.0</td>\n",
       "      <td>smart</td>\n",
       "    </tr>\n",
       "    <tr>\n",
       "      <th>499</th>\n",
       "      <td>1499</td>\n",
       "      <td>0.0</td>\n",
       "      <td>0.0</td>\n",
       "      <td>0.0</td>\n",
       "      <td>0.0</td>\n",
       "      <td>0.0</td>\n",
       "      <td>0.0</td>\n",
       "      <td>0.0</td>\n",
       "      <td>0.0</td>\n",
       "      <td>0.0</td>\n",
       "      <td>0.0</td>\n",
       "      <td>27.0</td>\n",
       "      <td>48.0</td>\n",
       "      <td>smart</td>\n",
       "    </tr>\n",
       "  </tbody>\n",
       "</table>\n",
       "<p>500 rows × 14 columns</p>\n",
       "</div>"
      ],
      "text/plain": [
       "     user_id    1    2    3    4    5    6    7     8    9   10    11    12  \\\n",
       "0       1000  0.0  0.0  0.0  0.0  0.0  0.0  0.0   0.0  0.0  0.0   0.0   0.0   \n",
       "1       1001  0.0  0.0  0.0  0.0  0.0  0.0  0.0   0.0  0.0  0.0   0.0   0.0   \n",
       "2       1002  0.0  0.0  0.0  0.0  0.0  0.0  0.0   0.0  0.0  0.0   0.0   0.0   \n",
       "3       1003  0.0  0.0  0.0  0.0  0.0  0.0  0.0   0.0  0.0  0.0   0.0   0.0   \n",
       "4       1004  0.0  0.0  0.0  0.0  0.0  0.0  0.0   0.0  0.0  0.0   0.0   0.0   \n",
       "..       ...  ...  ...  ...  ...  ...  ...  ...   ...  ...  ...   ...   ...   \n",
       "495     1495  0.0  0.0  0.0  0.0  0.0  0.0  0.0   0.0  0.0  0.0   0.0   0.0   \n",
       "496     1496  0.0  0.0  0.0  0.0  0.0  0.0  0.0   0.0  0.0  0.0   0.0   3.0   \n",
       "497     1497  0.0  0.0  0.0  0.0  0.0  0.0  0.0   0.0  0.0  0.0   0.0   0.0   \n",
       "498     1498  0.0  0.0  0.0  0.0  0.0  0.0  0.0  36.0  0.0  0.0   0.0   0.0   \n",
       "499     1499  0.0  0.0  0.0  0.0  0.0  0.0  0.0   0.0  0.0  0.0  27.0  48.0   \n",
       "\n",
       "    tariff  \n",
       "0    ultra  \n",
       "1    smart  \n",
       "2    smart  \n",
       "3    ultra  \n",
       "4    ultra  \n",
       "..     ...  \n",
       "495  ultra  \n",
       "496  smart  \n",
       "497  smart  \n",
       "498  smart  \n",
       "499  smart  \n",
       "\n",
       "[500 rows x 14 columns]"
      ]
     },
     "execution_count": 34,
     "metadata": {},
     "output_type": "execute_result"
    }
   ],
   "source": [
    "messages_pvt_overpayment"
   ]
  },
  {
   "cell_type": "markdown",
   "id": "79c6d72a",
   "metadata": {},
   "source": [
    "Функция точна и надёжна как швейцарские часы! Переплата незначительна. Ещё одна таблица с результатами переплаты каждого пользователя по месяцам. Нужна ещё одна, так давайте её создадим."
   ]
  },
  {
   "cell_type": "markdown",
   "id": "b752532e",
   "metadata": {},
   "source": [
    "## Информация об интернет-сессиях"
   ]
  },
  {
   "cell_type": "markdown",
   "id": "339735e8",
   "metadata": {},
   "source": [
    "Обработка также аналогична. Удаляем столбец с номером сессии, изменяем типы данных."
   ]
  },
  {
   "cell_type": "code",
   "execution_count": 35,
   "id": "3c7198be",
   "metadata": {},
   "outputs": [],
   "source": [
    "internet = internet.drop(['id'], axis=1)\n",
    "internet['session_date']= pd.to_datetime(internet['session_date'], format='%Y-%m-%d')\n",
    "internet['user_id'] = internet['user_id'].astype('int32')"
   ]
  },
  {
   "cell_type": "markdown",
   "id": "0f7f6734",
   "metadata": {},
   "source": [
    "Так же проверим колонку `mb_used` на наличие нулевых значений."
   ]
  },
  {
   "cell_type": "code",
   "execution_count": 36,
   "id": "bd81e412",
   "metadata": {},
   "outputs": [
    {
     "data": {
      "text/plain": [
       "13"
      ]
     },
     "execution_count": 36,
     "metadata": {},
     "output_type": "execute_result"
    }
   ],
   "source": [
    "int(internet[internet['mb_used'] == 0]['mb_used'].count() / (len(internet) / 100))"
   ]
  },
  {
   "cell_type": "markdown",
   "id": "70e2f1ba",
   "metadata": {},
   "source": [
    "Здесь значений меньше, чем в таблице с вызовами, но они всё же есть. Давайте сделаем так чтобы их небыло."
   ]
  },
  {
   "cell_type": "code",
   "execution_count": 37,
   "id": "1c5dea9f",
   "metadata": {},
   "outputs": [
    {
     "data": {
      "text/html": [
       "<div>\n",
       "<style scoped>\n",
       "    .dataframe tbody tr th:only-of-type {\n",
       "        vertical-align: middle;\n",
       "    }\n",
       "\n",
       "    .dataframe tbody tr th {\n",
       "        vertical-align: top;\n",
       "    }\n",
       "\n",
       "    .dataframe thead th {\n",
       "        text-align: right;\n",
       "    }\n",
       "</style>\n",
       "<table border=\"1\" class=\"dataframe\">\n",
       "  <thead>\n",
       "    <tr style=\"text-align: right;\">\n",
       "      <th></th>\n",
       "      <th>mb_used</th>\n",
       "      <th>session_date</th>\n",
       "      <th>user_id</th>\n",
       "    </tr>\n",
       "  </thead>\n",
       "  <tbody>\n",
       "    <tr>\n",
       "      <th>0</th>\n",
       "      <td>112.95</td>\n",
       "      <td>2018-11-25</td>\n",
       "      <td>1000</td>\n",
       "    </tr>\n",
       "    <tr>\n",
       "      <th>1</th>\n",
       "      <td>1052.81</td>\n",
       "      <td>2018-09-07</td>\n",
       "      <td>1000</td>\n",
       "    </tr>\n",
       "    <tr>\n",
       "      <th>2</th>\n",
       "      <td>1197.26</td>\n",
       "      <td>2018-06-25</td>\n",
       "      <td>1000</td>\n",
       "    </tr>\n",
       "    <tr>\n",
       "      <th>3</th>\n",
       "      <td>550.27</td>\n",
       "      <td>2018-08-22</td>\n",
       "      <td>1000</td>\n",
       "    </tr>\n",
       "    <tr>\n",
       "      <th>4</th>\n",
       "      <td>302.56</td>\n",
       "      <td>2018-09-24</td>\n",
       "      <td>1000</td>\n",
       "    </tr>\n",
       "    <tr>\n",
       "      <th>...</th>\n",
       "      <td>...</td>\n",
       "      <td>...</td>\n",
       "      <td>...</td>\n",
       "    </tr>\n",
       "    <tr>\n",
       "      <th>149391</th>\n",
       "      <td>318.90</td>\n",
       "      <td>2018-10-03</td>\n",
       "      <td>1499</td>\n",
       "    </tr>\n",
       "    <tr>\n",
       "      <th>149392</th>\n",
       "      <td>490.13</td>\n",
       "      <td>2018-12-14</td>\n",
       "      <td>1499</td>\n",
       "    </tr>\n",
       "    <tr>\n",
       "      <th>149393</th>\n",
       "      <td>0.00</td>\n",
       "      <td>2018-10-27</td>\n",
       "      <td>1499</td>\n",
       "    </tr>\n",
       "    <tr>\n",
       "      <th>149394</th>\n",
       "      <td>1246.32</td>\n",
       "      <td>2018-11-26</td>\n",
       "      <td>1499</td>\n",
       "    </tr>\n",
       "    <tr>\n",
       "      <th>149395</th>\n",
       "      <td>544.37</td>\n",
       "      <td>2018-10-26</td>\n",
       "      <td>1499</td>\n",
       "    </tr>\n",
       "  </tbody>\n",
       "</table>\n",
       "<p>149396 rows × 3 columns</p>\n",
       "</div>"
      ],
      "text/plain": [
       "        mb_used session_date  user_id\n",
       "0        112.95   2018-11-25     1000\n",
       "1       1052.81   2018-09-07     1000\n",
       "2       1197.26   2018-06-25     1000\n",
       "3        550.27   2018-08-22     1000\n",
       "4        302.56   2018-09-24     1000\n",
       "...         ...          ...      ...\n",
       "149391   318.90   2018-10-03     1499\n",
       "149392   490.13   2018-12-14     1499\n",
       "149393     0.00   2018-10-27     1499\n",
       "149394  1246.32   2018-11-26     1499\n",
       "149395   544.37   2018-10-26     1499\n",
       "\n",
       "[149396 rows x 3 columns]"
      ]
     },
     "execution_count": 37,
     "metadata": {},
     "output_type": "execute_result"
    }
   ],
   "source": [
    "internet"
   ]
  },
  {
   "cell_type": "code",
   "execution_count": 38,
   "id": "e5e6feb8",
   "metadata": {},
   "outputs": [],
   "source": [
    "internet = internet[internet['mb_used'] > 0].reset_index(drop=True)"
   ]
  },
  {
   "cell_type": "code",
   "execution_count": 39,
   "id": "67fe0d8b",
   "metadata": {},
   "outputs": [
    {
     "data": {
      "text/plain": [
       "count    129798.000000\n",
       "mean        426.087210\n",
       "std         255.596447\n",
       "min           0.030000\n",
       "25%         227.460000\n",
       "50%         400.540000\n",
       "75%         592.947500\n",
       "max        1724.830000\n",
       "Name: mb_used, dtype: float64"
      ]
     },
     "execution_count": 39,
     "metadata": {},
     "output_type": "execute_result"
    }
   ],
   "source": [
    "internet['mb_used'].describe()"
   ]
  },
  {
   "cell_type": "markdown",
   "id": "966eba7e",
   "metadata": {},
   "source": [
    "Лишнее убрали, нужное поправили. Таблица готова к дальнейшему анализу. Добавляем столбец с названием месяца."
   ]
  },
  {
   "cell_type": "code",
   "execution_count": 40,
   "id": "f6f37752",
   "metadata": {},
   "outputs": [],
   "source": [
    "internet.insert(2, 'month', pd.DatetimeIndex(internet['session_date']).month)"
   ]
  },
  {
   "cell_type": "markdown",
   "id": "764539e4",
   "metadata": {},
   "source": [
    "Сведём данные в таблицу."
   ]
  },
  {
   "cell_type": "code",
   "execution_count": 41,
   "id": "438dcf0c",
   "metadata": {
    "scrolled": true
   },
   "outputs": [
    {
     "data": {
      "text/html": [
       "<div>\n",
       "<style scoped>\n",
       "    .dataframe tbody tr th:only-of-type {\n",
       "        vertical-align: middle;\n",
       "    }\n",
       "\n",
       "    .dataframe tbody tr th {\n",
       "        vertical-align: top;\n",
       "    }\n",
       "\n",
       "    .dataframe thead th {\n",
       "        text-align: right;\n",
       "    }\n",
       "</style>\n",
       "<table border=\"1\" class=\"dataframe\">\n",
       "  <thead>\n",
       "    <tr style=\"text-align: right;\">\n",
       "      <th></th>\n",
       "      <th>user_id</th>\n",
       "      <th>1</th>\n",
       "      <th>2</th>\n",
       "      <th>3</th>\n",
       "      <th>4</th>\n",
       "      <th>5</th>\n",
       "      <th>6</th>\n",
       "      <th>7</th>\n",
       "      <th>8</th>\n",
       "      <th>9</th>\n",
       "      <th>10</th>\n",
       "      <th>11</th>\n",
       "      <th>12</th>\n",
       "      <th>tariff</th>\n",
       "    </tr>\n",
       "  </thead>\n",
       "  <tbody>\n",
       "    <tr>\n",
       "      <th>0</th>\n",
       "      <td>1000</td>\n",
       "      <td>0.00</td>\n",
       "      <td>0.00</td>\n",
       "      <td>0.0</td>\n",
       "      <td>0.00</td>\n",
       "      <td>2253.49</td>\n",
       "      <td>23233.77</td>\n",
       "      <td>14003.64</td>\n",
       "      <td>14055.93</td>\n",
       "      <td>14568.91</td>\n",
       "      <td>14702.49</td>\n",
       "      <td>14756.47</td>\n",
       "      <td>9817.61</td>\n",
       "      <td>ultra</td>\n",
       "    </tr>\n",
       "    <tr>\n",
       "      <th>1</th>\n",
       "      <td>1001</td>\n",
       "      <td>0.00</td>\n",
       "      <td>0.00</td>\n",
       "      <td>0.0</td>\n",
       "      <td>0.00</td>\n",
       "      <td>0.00</td>\n",
       "      <td>0.00</td>\n",
       "      <td>0.00</td>\n",
       "      <td>0.00</td>\n",
       "      <td>0.00</td>\n",
       "      <td>0.00</td>\n",
       "      <td>18429.34</td>\n",
       "      <td>14036.66</td>\n",
       "      <td>smart</td>\n",
       "    </tr>\n",
       "    <tr>\n",
       "      <th>2</th>\n",
       "      <td>1002</td>\n",
       "      <td>0.00</td>\n",
       "      <td>0.00</td>\n",
       "      <td>0.0</td>\n",
       "      <td>0.00</td>\n",
       "      <td>0.00</td>\n",
       "      <td>10856.82</td>\n",
       "      <td>17580.10</td>\n",
       "      <td>20319.26</td>\n",
       "      <td>16691.08</td>\n",
       "      <td>13888.25</td>\n",
       "      <td>18587.28</td>\n",
       "      <td>18113.73</td>\n",
       "      <td>smart</td>\n",
       "    </tr>\n",
       "    <tr>\n",
       "      <th>3</th>\n",
       "      <td>1003</td>\n",
       "      <td>0.00</td>\n",
       "      <td>0.00</td>\n",
       "      <td>0.0</td>\n",
       "      <td>0.00</td>\n",
       "      <td>0.00</td>\n",
       "      <td>0.00</td>\n",
       "      <td>0.00</td>\n",
       "      <td>8565.21</td>\n",
       "      <td>12468.87</td>\n",
       "      <td>14768.14</td>\n",
       "      <td>11356.89</td>\n",
       "      <td>10121.53</td>\n",
       "      <td>ultra</td>\n",
       "    </tr>\n",
       "    <tr>\n",
       "      <th>4</th>\n",
       "      <td>1004</td>\n",
       "      <td>0.00</td>\n",
       "      <td>0.00</td>\n",
       "      <td>0.0</td>\n",
       "      <td>0.00</td>\n",
       "      <td>13403.98</td>\n",
       "      <td>17600.02</td>\n",
       "      <td>22229.58</td>\n",
       "      <td>28584.37</td>\n",
       "      <td>15109.03</td>\n",
       "      <td>18475.44</td>\n",
       "      <td>15616.02</td>\n",
       "      <td>18021.04</td>\n",
       "      <td>ultra</td>\n",
       "    </tr>\n",
       "    <tr>\n",
       "      <th>...</th>\n",
       "      <td>...</td>\n",
       "      <td>...</td>\n",
       "      <td>...</td>\n",
       "      <td>...</td>\n",
       "      <td>...</td>\n",
       "      <td>...</td>\n",
       "      <td>...</td>\n",
       "      <td>...</td>\n",
       "      <td>...</td>\n",
       "      <td>...</td>\n",
       "      <td>...</td>\n",
       "      <td>...</td>\n",
       "      <td>...</td>\n",
       "      <td>...</td>\n",
       "    </tr>\n",
       "    <tr>\n",
       "      <th>495</th>\n",
       "      <td>1495</td>\n",
       "      <td>0.00</td>\n",
       "      <td>0.00</td>\n",
       "      <td>0.0</td>\n",
       "      <td>0.00</td>\n",
       "      <td>0.00</td>\n",
       "      <td>0.00</td>\n",
       "      <td>0.00</td>\n",
       "      <td>2614.07</td>\n",
       "      <td>33067.62</td>\n",
       "      <td>29363.00</td>\n",
       "      <td>38939.11</td>\n",
       "      <td>23426.76</td>\n",
       "      <td>ultra</td>\n",
       "    </tr>\n",
       "    <tr>\n",
       "      <th>496</th>\n",
       "      <td>1496</td>\n",
       "      <td>3762.73</td>\n",
       "      <td>28489.67</td>\n",
       "      <td>24959.0</td>\n",
       "      <td>21074.67</td>\n",
       "      <td>23709.75</td>\n",
       "      <td>20134.31</td>\n",
       "      <td>24364.76</td>\n",
       "      <td>23530.03</td>\n",
       "      <td>26934.65</td>\n",
       "      <td>28183.17</td>\n",
       "      <td>25063.40</td>\n",
       "      <td>20736.15</td>\n",
       "      <td>smart</td>\n",
       "    </tr>\n",
       "    <tr>\n",
       "      <th>497</th>\n",
       "      <td>1497</td>\n",
       "      <td>0.00</td>\n",
       "      <td>0.00</td>\n",
       "      <td>0.0</td>\n",
       "      <td>0.00</td>\n",
       "      <td>0.00</td>\n",
       "      <td>0.00</td>\n",
       "      <td>0.00</td>\n",
       "      <td>0.00</td>\n",
       "      <td>0.00</td>\n",
       "      <td>11500.29</td>\n",
       "      <td>14156.08</td>\n",
       "      <td>19918.60</td>\n",
       "      <td>smart</td>\n",
       "    </tr>\n",
       "    <tr>\n",
       "      <th>498</th>\n",
       "      <td>1498</td>\n",
       "      <td>0.00</td>\n",
       "      <td>0.00</td>\n",
       "      <td>0.0</td>\n",
       "      <td>0.00</td>\n",
       "      <td>0.00</td>\n",
       "      <td>0.00</td>\n",
       "      <td>7476.24</td>\n",
       "      <td>24235.21</td>\n",
       "      <td>22134.41</td>\n",
       "      <td>20579.36</td>\n",
       "      <td>0.00</td>\n",
       "      <td>0.00</td>\n",
       "      <td>smart</td>\n",
       "    </tr>\n",
       "    <tr>\n",
       "      <th>499</th>\n",
       "      <td>1499</td>\n",
       "      <td>0.00</td>\n",
       "      <td>0.00</td>\n",
       "      <td>0.0</td>\n",
       "      <td>0.00</td>\n",
       "      <td>0.00</td>\n",
       "      <td>0.00</td>\n",
       "      <td>0.00</td>\n",
       "      <td>0.00</td>\n",
       "      <td>1845.75</td>\n",
       "      <td>17788.51</td>\n",
       "      <td>17963.31</td>\n",
       "      <td>13055.58</td>\n",
       "      <td>smart</td>\n",
       "    </tr>\n",
       "  </tbody>\n",
       "</table>\n",
       "<p>500 rows × 14 columns</p>\n",
       "</div>"
      ],
      "text/plain": [
       "     user_id        1         2        3         4         5         6  \\\n",
       "0       1000     0.00      0.00      0.0      0.00   2253.49  23233.77   \n",
       "1       1001     0.00      0.00      0.0      0.00      0.00      0.00   \n",
       "2       1002     0.00      0.00      0.0      0.00      0.00  10856.82   \n",
       "3       1003     0.00      0.00      0.0      0.00      0.00      0.00   \n",
       "4       1004     0.00      0.00      0.0      0.00  13403.98  17600.02   \n",
       "..       ...      ...       ...      ...       ...       ...       ...   \n",
       "495     1495     0.00      0.00      0.0      0.00      0.00      0.00   \n",
       "496     1496  3762.73  28489.67  24959.0  21074.67  23709.75  20134.31   \n",
       "497     1497     0.00      0.00      0.0      0.00      0.00      0.00   \n",
       "498     1498     0.00      0.00      0.0      0.00      0.00      0.00   \n",
       "499     1499     0.00      0.00      0.0      0.00      0.00      0.00   \n",
       "\n",
       "            7         8         9        10        11        12 tariff  \n",
       "0    14003.64  14055.93  14568.91  14702.49  14756.47   9817.61  ultra  \n",
       "1        0.00      0.00      0.00      0.00  18429.34  14036.66  smart  \n",
       "2    17580.10  20319.26  16691.08  13888.25  18587.28  18113.73  smart  \n",
       "3        0.00   8565.21  12468.87  14768.14  11356.89  10121.53  ultra  \n",
       "4    22229.58  28584.37  15109.03  18475.44  15616.02  18021.04  ultra  \n",
       "..        ...       ...       ...       ...       ...       ...    ...  \n",
       "495      0.00   2614.07  33067.62  29363.00  38939.11  23426.76  ultra  \n",
       "496  24364.76  23530.03  26934.65  28183.17  25063.40  20736.15  smart  \n",
       "497      0.00      0.00      0.00  11500.29  14156.08  19918.60  smart  \n",
       "498   7476.24  24235.21  22134.41  20579.36      0.00      0.00  smart  \n",
       "499      0.00      0.00   1845.75  17788.51  17963.31  13055.58  smart  \n",
       "\n",
       "[500 rows x 14 columns]"
      ]
     },
     "execution_count": 41,
     "metadata": {},
     "output_type": "execute_result"
    }
   ],
   "source": [
    "internet_pvt = internet.pivot_table(\n",
    "    index='user_id', \n",
    "    columns='month', \n",
    "    values='mb_used', \n",
    "    aggfunc=['sum']\n",
    ")\n",
    "\n",
    "internet_pvt.columns = internet_pvt.columns.droplevel(0)\n",
    "internet_pvt = internet_pvt.merge(users[['user_id', 'tariff']], on='user_id', how='right').fillna(value=0)\n",
    "\n",
    "internet_pvt"
   ]
  },
  {
   "cell_type": "markdown",
   "id": "dec8e96a",
   "metadata": {},
   "source": [
    "В результате мы получили таблицу с расходом трафика в мегабайтах по месяцу на каждого пользователя. В задании сказано, что ежемесячный расход округляется до Гб в пользу оператора. Сказано - сделано."
   ]
  },
  {
   "cell_type": "code",
   "execution_count": 42,
   "id": "bedc7f70",
   "metadata": {},
   "outputs": [],
   "source": [
    "def round_inet(row, col):\n",
    "    if row[col] > 0: \n",
    "        return int(-1 * (row[col] / 1024) // 1 * -1)\n",
    "    else:\n",
    "        return 0"
   ]
  },
  {
   "cell_type": "code",
   "execution_count": 43,
   "id": "5ef05a93",
   "metadata": {},
   "outputs": [],
   "source": [
    "for month in range(1, 13):\n",
    "    internet_pvt[month] = internet_pvt.apply(round_inet, col = month, axis=1)"
   ]
  },
  {
   "cell_type": "markdown",
   "id": "136c7011",
   "metadata": {},
   "source": [
    "Получаем расход трафика в Гб.\n",
    "Адаптируем функцию для расчёта перерасхода трафика. "
   ]
  },
  {
   "cell_type": "code",
   "execution_count": 44,
   "id": "5bd81395",
   "metadata": {},
   "outputs": [],
   "source": [
    "def proof_inet(row, col):\n",
    "    if row['tariff'] == 'smart' and row[col] > 0 and row[col] > tariffs.loc[0, 'mb_per_month_included'] / 1024: \n",
    "        return abs(15 - row[col]) * tariffs.loc[0, 'rub_per_gb']\n",
    "    elif row['tariff'] == 'ultra' and row[col] > 0 and row[col] > tariffs.loc[1, 'mb_per_month_included'] / 1024:\n",
    "        return abs(30 - row[col]) * tariffs.loc[1, 'rub_per_gb']\n",
    "    else:\n",
    "        return 0"
   ]
  },
  {
   "cell_type": "code",
   "execution_count": 45,
   "id": "be3ee311",
   "metadata": {},
   "outputs": [],
   "source": [
    "internet_pvt_overpayment = internet_pvt.copy()\n",
    "for month in range(1, 13):\n",
    "    internet_pvt_overpayment[month] = internet_pvt_overpayment.apply(proof_inet, col = month, axis=1)"
   ]
  },
  {
   "cell_type": "code",
   "execution_count": 46,
   "id": "be0c1918",
   "metadata": {},
   "outputs": [
    {
     "data": {
      "text/html": [
       "<div>\n",
       "<style scoped>\n",
       "    .dataframe tbody tr th:only-of-type {\n",
       "        vertical-align: middle;\n",
       "    }\n",
       "\n",
       "    .dataframe tbody tr th {\n",
       "        vertical-align: top;\n",
       "    }\n",
       "\n",
       "    .dataframe thead th {\n",
       "        text-align: right;\n",
       "    }\n",
       "</style>\n",
       "<table border=\"1\" class=\"dataframe\">\n",
       "  <thead>\n",
       "    <tr style=\"text-align: right;\">\n",
       "      <th></th>\n",
       "      <th>user_id</th>\n",
       "      <th>1</th>\n",
       "      <th>2</th>\n",
       "      <th>3</th>\n",
       "      <th>4</th>\n",
       "      <th>5</th>\n",
       "      <th>6</th>\n",
       "      <th>7</th>\n",
       "      <th>8</th>\n",
       "      <th>9</th>\n",
       "      <th>10</th>\n",
       "      <th>11</th>\n",
       "      <th>12</th>\n",
       "      <th>tariff</th>\n",
       "    </tr>\n",
       "  </thead>\n",
       "  <tbody>\n",
       "    <tr>\n",
       "      <th>0</th>\n",
       "      <td>1000</td>\n",
       "      <td>0</td>\n",
       "      <td>0</td>\n",
       "      <td>0</td>\n",
       "      <td>0</td>\n",
       "      <td>0</td>\n",
       "      <td>0</td>\n",
       "      <td>0</td>\n",
       "      <td>0</td>\n",
       "      <td>0</td>\n",
       "      <td>0</td>\n",
       "      <td>0</td>\n",
       "      <td>0</td>\n",
       "      <td>ultra</td>\n",
       "    </tr>\n",
       "    <tr>\n",
       "      <th>1</th>\n",
       "      <td>1001</td>\n",
       "      <td>0</td>\n",
       "      <td>0</td>\n",
       "      <td>0</td>\n",
       "      <td>0</td>\n",
       "      <td>0</td>\n",
       "      <td>0</td>\n",
       "      <td>0</td>\n",
       "      <td>0</td>\n",
       "      <td>0</td>\n",
       "      <td>0</td>\n",
       "      <td>600</td>\n",
       "      <td>0</td>\n",
       "      <td>smart</td>\n",
       "    </tr>\n",
       "    <tr>\n",
       "      <th>2</th>\n",
       "      <td>1002</td>\n",
       "      <td>0</td>\n",
       "      <td>0</td>\n",
       "      <td>0</td>\n",
       "      <td>0</td>\n",
       "      <td>0</td>\n",
       "      <td>0</td>\n",
       "      <td>600</td>\n",
       "      <td>1000</td>\n",
       "      <td>400</td>\n",
       "      <td>0</td>\n",
       "      <td>800</td>\n",
       "      <td>600</td>\n",
       "      <td>smart</td>\n",
       "    </tr>\n",
       "    <tr>\n",
       "      <th>3</th>\n",
       "      <td>1003</td>\n",
       "      <td>0</td>\n",
       "      <td>0</td>\n",
       "      <td>0</td>\n",
       "      <td>0</td>\n",
       "      <td>0</td>\n",
       "      <td>0</td>\n",
       "      <td>0</td>\n",
       "      <td>0</td>\n",
       "      <td>0</td>\n",
       "      <td>0</td>\n",
       "      <td>0</td>\n",
       "      <td>0</td>\n",
       "      <td>ultra</td>\n",
       "    </tr>\n",
       "    <tr>\n",
       "      <th>4</th>\n",
       "      <td>1004</td>\n",
       "      <td>0</td>\n",
       "      <td>0</td>\n",
       "      <td>0</td>\n",
       "      <td>0</td>\n",
       "      <td>0</td>\n",
       "      <td>0</td>\n",
       "      <td>0</td>\n",
       "      <td>0</td>\n",
       "      <td>0</td>\n",
       "      <td>0</td>\n",
       "      <td>0</td>\n",
       "      <td>0</td>\n",
       "      <td>ultra</td>\n",
       "    </tr>\n",
       "    <tr>\n",
       "      <th>...</th>\n",
       "      <td>...</td>\n",
       "      <td>...</td>\n",
       "      <td>...</td>\n",
       "      <td>...</td>\n",
       "      <td>...</td>\n",
       "      <td>...</td>\n",
       "      <td>...</td>\n",
       "      <td>...</td>\n",
       "      <td>...</td>\n",
       "      <td>...</td>\n",
       "      <td>...</td>\n",
       "      <td>...</td>\n",
       "      <td>...</td>\n",
       "      <td>...</td>\n",
       "    </tr>\n",
       "    <tr>\n",
       "      <th>495</th>\n",
       "      <td>1495</td>\n",
       "      <td>0</td>\n",
       "      <td>0</td>\n",
       "      <td>0</td>\n",
       "      <td>0</td>\n",
       "      <td>0</td>\n",
       "      <td>0</td>\n",
       "      <td>0</td>\n",
       "      <td>0</td>\n",
       "      <td>450</td>\n",
       "      <td>0</td>\n",
       "      <td>1350</td>\n",
       "      <td>0</td>\n",
       "      <td>ultra</td>\n",
       "    </tr>\n",
       "    <tr>\n",
       "      <th>496</th>\n",
       "      <td>1496</td>\n",
       "      <td>0</td>\n",
       "      <td>2600</td>\n",
       "      <td>2000</td>\n",
       "      <td>1200</td>\n",
       "      <td>1800</td>\n",
       "      <td>1000</td>\n",
       "      <td>1800</td>\n",
       "      <td>1600</td>\n",
       "      <td>2400</td>\n",
       "      <td>2600</td>\n",
       "      <td>2000</td>\n",
       "      <td>1200</td>\n",
       "      <td>smart</td>\n",
       "    </tr>\n",
       "    <tr>\n",
       "      <th>497</th>\n",
       "      <td>1497</td>\n",
       "      <td>0</td>\n",
       "      <td>0</td>\n",
       "      <td>0</td>\n",
       "      <td>0</td>\n",
       "      <td>0</td>\n",
       "      <td>0</td>\n",
       "      <td>0</td>\n",
       "      <td>0</td>\n",
       "      <td>0</td>\n",
       "      <td>0</td>\n",
       "      <td>0</td>\n",
       "      <td>1000</td>\n",
       "      <td>smart</td>\n",
       "    </tr>\n",
       "    <tr>\n",
       "      <th>498</th>\n",
       "      <td>1498</td>\n",
       "      <td>0</td>\n",
       "      <td>0</td>\n",
       "      <td>0</td>\n",
       "      <td>0</td>\n",
       "      <td>0</td>\n",
       "      <td>0</td>\n",
       "      <td>0</td>\n",
       "      <td>1800</td>\n",
       "      <td>1400</td>\n",
       "      <td>1200</td>\n",
       "      <td>0</td>\n",
       "      <td>0</td>\n",
       "      <td>smart</td>\n",
       "    </tr>\n",
       "    <tr>\n",
       "      <th>499</th>\n",
       "      <td>1499</td>\n",
       "      <td>0</td>\n",
       "      <td>0</td>\n",
       "      <td>0</td>\n",
       "      <td>0</td>\n",
       "      <td>0</td>\n",
       "      <td>0</td>\n",
       "      <td>0</td>\n",
       "      <td>0</td>\n",
       "      <td>0</td>\n",
       "      <td>600</td>\n",
       "      <td>600</td>\n",
       "      <td>0</td>\n",
       "      <td>smart</td>\n",
       "    </tr>\n",
       "  </tbody>\n",
       "</table>\n",
       "<p>500 rows × 14 columns</p>\n",
       "</div>"
      ],
      "text/plain": [
       "     user_id  1     2     3     4     5     6     7     8     9    10    11  \\\n",
       "0       1000  0     0     0     0     0     0     0     0     0     0     0   \n",
       "1       1001  0     0     0     0     0     0     0     0     0     0   600   \n",
       "2       1002  0     0     0     0     0     0   600  1000   400     0   800   \n",
       "3       1003  0     0     0     0     0     0     0     0     0     0     0   \n",
       "4       1004  0     0     0     0     0     0     0     0     0     0     0   \n",
       "..       ... ..   ...   ...   ...   ...   ...   ...   ...   ...   ...   ...   \n",
       "495     1495  0     0     0     0     0     0     0     0   450     0  1350   \n",
       "496     1496  0  2600  2000  1200  1800  1000  1800  1600  2400  2600  2000   \n",
       "497     1497  0     0     0     0     0     0     0     0     0     0     0   \n",
       "498     1498  0     0     0     0     0     0     0  1800  1400  1200     0   \n",
       "499     1499  0     0     0     0     0     0     0     0     0   600   600   \n",
       "\n",
       "       12 tariff  \n",
       "0       0  ultra  \n",
       "1       0  smart  \n",
       "2     600  smart  \n",
       "3       0  ultra  \n",
       "4       0  ultra  \n",
       "..    ...    ...  \n",
       "495     0  ultra  \n",
       "496  1200  smart  \n",
       "497  1000  smart  \n",
       "498     0  smart  \n",
       "499     0  smart  \n",
       "\n",
       "[500 rows x 14 columns]"
      ]
     },
     "execution_count": 46,
     "metadata": {},
     "output_type": "execute_result"
    }
   ],
   "source": [
    "internet_pvt_overpayment"
   ]
  },
  {
   "cell_type": "markdown",
   "id": "146d4527",
   "metadata": {},
   "source": [
    "Интересно, пользователя 1496 из Красноярска не удивляют счета за связь?"
   ]
  },
  {
   "cell_type": "markdown",
   "id": "3de3466f",
   "metadata": {},
   "source": [
    "## Итоговая таблица"
   ]
  },
  {
   "cell_type": "markdown",
   "id": "3bf6d8ec",
   "metadata": {},
   "source": [
    "Теперь получим полноценную таблицу с учётом всех данных."
   ]
  },
  {
   "cell_type": "code",
   "execution_count": 47,
   "id": "11cef0cb",
   "metadata": {
    "scrolled": true
   },
   "outputs": [
    {
     "data": {
      "text/html": [
       "<div>\n",
       "<style scoped>\n",
       "    .dataframe tbody tr th:only-of-type {\n",
       "        vertical-align: middle;\n",
       "    }\n",
       "\n",
       "    .dataframe tbody tr th {\n",
       "        vertical-align: top;\n",
       "    }\n",
       "\n",
       "    .dataframe thead th {\n",
       "        text-align: right;\n",
       "    }\n",
       "</style>\n",
       "<table border=\"1\" class=\"dataframe\">\n",
       "  <thead>\n",
       "    <tr style=\"text-align: right;\">\n",
       "      <th></th>\n",
       "      <th>user_id</th>\n",
       "      <th>month</th>\n",
       "      <th>calls_count</th>\n",
       "      <th>calls_sum</th>\n",
       "      <th>message_count</th>\n",
       "      <th>gb_used</th>\n",
       "      <th>tariff</th>\n",
       "      <th>city</th>\n",
       "      <th>profit</th>\n",
       "    </tr>\n",
       "  </thead>\n",
       "  <tbody>\n",
       "    <tr>\n",
       "      <th>0</th>\n",
       "      <td>1000</td>\n",
       "      <td>5</td>\n",
       "      <td>22</td>\n",
       "      <td>159</td>\n",
       "      <td>22</td>\n",
       "      <td>3</td>\n",
       "      <td>ultra</td>\n",
       "      <td>Краснодар</td>\n",
       "      <td>1950.0</td>\n",
       "    </tr>\n",
       "    <tr>\n",
       "      <th>1</th>\n",
       "      <td>1000</td>\n",
       "      <td>6</td>\n",
       "      <td>43</td>\n",
       "      <td>172</td>\n",
       "      <td>60</td>\n",
       "      <td>23</td>\n",
       "      <td>ultra</td>\n",
       "      <td>Краснодар</td>\n",
       "      <td>1950.0</td>\n",
       "    </tr>\n",
       "    <tr>\n",
       "      <th>2</th>\n",
       "      <td>1000</td>\n",
       "      <td>7</td>\n",
       "      <td>47</td>\n",
       "      <td>340</td>\n",
       "      <td>75</td>\n",
       "      <td>14</td>\n",
       "      <td>ultra</td>\n",
       "      <td>Краснодар</td>\n",
       "      <td>1950.0</td>\n",
       "    </tr>\n",
       "    <tr>\n",
       "      <th>3</th>\n",
       "      <td>1000</td>\n",
       "      <td>8</td>\n",
       "      <td>52</td>\n",
       "      <td>408</td>\n",
       "      <td>81</td>\n",
       "      <td>14</td>\n",
       "      <td>ultra</td>\n",
       "      <td>Краснодар</td>\n",
       "      <td>1950.0</td>\n",
       "    </tr>\n",
       "    <tr>\n",
       "      <th>4</th>\n",
       "      <td>1000</td>\n",
       "      <td>9</td>\n",
       "      <td>58</td>\n",
       "      <td>466</td>\n",
       "      <td>57</td>\n",
       "      <td>15</td>\n",
       "      <td>ultra</td>\n",
       "      <td>Краснодар</td>\n",
       "      <td>1950.0</td>\n",
       "    </tr>\n",
       "    <tr>\n",
       "      <th>...</th>\n",
       "      <td>...</td>\n",
       "      <td>...</td>\n",
       "      <td>...</td>\n",
       "      <td>...</td>\n",
       "      <td>...</td>\n",
       "      <td>...</td>\n",
       "      <td>...</td>\n",
       "      <td>...</td>\n",
       "      <td>...</td>\n",
       "    </tr>\n",
       "    <tr>\n",
       "      <th>3211</th>\n",
       "      <td>1489</td>\n",
       "      <td>10</td>\n",
       "      <td>0</td>\n",
       "      <td>0</td>\n",
       "      <td>21</td>\n",
       "      <td>20</td>\n",
       "      <td>smart</td>\n",
       "      <td>Санкт-Петербург</td>\n",
       "      <td>1550.0</td>\n",
       "    </tr>\n",
       "    <tr>\n",
       "      <th>3212</th>\n",
       "      <td>1489</td>\n",
       "      <td>11</td>\n",
       "      <td>0</td>\n",
       "      <td>0</td>\n",
       "      <td>20</td>\n",
       "      <td>18</td>\n",
       "      <td>smart</td>\n",
       "      <td>Санкт-Петербург</td>\n",
       "      <td>1150.0</td>\n",
       "    </tr>\n",
       "    <tr>\n",
       "      <th>3213</th>\n",
       "      <td>1489</td>\n",
       "      <td>12</td>\n",
       "      <td>0</td>\n",
       "      <td>0</td>\n",
       "      <td>35</td>\n",
       "      <td>17</td>\n",
       "      <td>smart</td>\n",
       "      <td>Санкт-Петербург</td>\n",
       "      <td>950.0</td>\n",
       "    </tr>\n",
       "    <tr>\n",
       "      <th>3214</th>\n",
       "      <td>1128</td>\n",
       "      <td>0</td>\n",
       "      <td>0</td>\n",
       "      <td>0</td>\n",
       "      <td>0</td>\n",
       "      <td>0</td>\n",
       "      <td>ultra</td>\n",
       "      <td>Волжский</td>\n",
       "      <td>1950.0</td>\n",
       "    </tr>\n",
       "    <tr>\n",
       "      <th>3215</th>\n",
       "      <td>1371</td>\n",
       "      <td>0</td>\n",
       "      <td>0</td>\n",
       "      <td>0</td>\n",
       "      <td>0</td>\n",
       "      <td>0</td>\n",
       "      <td>smart</td>\n",
       "      <td>Омск</td>\n",
       "      <td>550.0</td>\n",
       "    </tr>\n",
       "  </tbody>\n",
       "</table>\n",
       "<p>3216 rows × 9 columns</p>\n",
       "</div>"
      ],
      "text/plain": [
       "      user_id  month  calls_count  calls_sum  message_count  gb_used tariff  \\\n",
       "0        1000      5           22        159             22        3  ultra   \n",
       "1        1000      6           43        172             60       23  ultra   \n",
       "2        1000      7           47        340             75       14  ultra   \n",
       "3        1000      8           52        408             81       14  ultra   \n",
       "4        1000      9           58        466             57       15  ultra   \n",
       "...       ...    ...          ...        ...            ...      ...    ...   \n",
       "3211     1489     10            0          0             21       20  smart   \n",
       "3212     1489     11            0          0             20       18  smart   \n",
       "3213     1489     12            0          0             35       17  smart   \n",
       "3214     1128      0            0          0              0        0  ultra   \n",
       "3215     1371      0            0          0              0        0  smart   \n",
       "\n",
       "                 city  profit  \n",
       "0           Краснодар  1950.0  \n",
       "1           Краснодар  1950.0  \n",
       "2           Краснодар  1950.0  \n",
       "3           Краснодар  1950.0  \n",
       "4           Краснодар  1950.0  \n",
       "...               ...     ...  \n",
       "3211  Санкт-Петербург  1550.0  \n",
       "3212  Санкт-Петербург  1150.0  \n",
       "3213  Санкт-Петербург   950.0  \n",
       "3214         Волжский  1950.0  \n",
       "3215             Омск   550.0  \n",
       "\n",
       "[3216 rows x 9 columns]"
      ]
     },
     "execution_count": 47,
     "metadata": {},
     "output_type": "execute_result"
    }
   ],
   "source": [
    "# Создаём переменную и записываем в неё сводную со звонками\n",
    "revenue = calls.pivot_table(\n",
    "    index=['user_id', 'month'], values='duration', aggfunc=['count', 'sum'] \n",
    ").reset_index()\n",
    "\n",
    "# Сбрасываем мультииндекс и переименовываем столбцы\n",
    "revenue.columns = revenue.columns.droplevel(1)\n",
    "revenue = revenue.rename(columns={\n",
    "    'count': 'calls_count',\n",
    "    'sum': 'calls_sum',\n",
    "    }\n",
    ")\n",
    "\n",
    "# Объединяем со сводной с сообщениями\n",
    "revenue = revenue.merge(messages.pivot_table(\n",
    "    index=['user_id', 'month'], values='user_id', aggfunc='count' \n",
    ").reset_index().rename(columns={\n",
    "    'message_date': 'message_count',\n",
    "    }\n",
    ")[['user_id', 'month', 'message_count']], on=['user_id', 'month'], how='outer')\n",
    "\n",
    "# Объединяем со сводной с расходом трафика\n",
    "revenue = revenue.merge(internet.pivot_table(\n",
    "    index=['user_id', 'month'], values='mb_used', aggfunc='sum' \n",
    ").reset_index().rename(columns={\n",
    "    'mb_used': 'gb_used',\n",
    "    }\n",
    "), on=['user_id', 'month'], how='outer')\n",
    "\n",
    "# Пересчитываем мегабайты в гигабайты\n",
    "revenue['gb_used'] = np.ceil(revenue['gb_used'].fillna(0) / 1024).astype(int)\n",
    "\n",
    "# Добавляем в итоговую тариф и населённый пункт\n",
    "revenue = revenue.merge(users[['user_id', 'tariff', 'city']], on='user_id', how='outer')\n",
    "\n",
    "# Заполняем пропуски\n",
    "revenue = revenue.fillna(0)\n",
    "\n",
    "# Считаем оплату по тарифу\n",
    "def monthly_profit(row):\n",
    "    profit = 0\n",
    "    if row['tariff'] == 'smart': \n",
    "        profit = tariffs.loc[0, 'rub_monthly_fee']\n",
    "        if row['calls_sum'] > tariffs.loc[0, 'minutes_included']:\n",
    "            profit += (row['calls_sum'] - tariffs.loc[0, 'minutes_included']) * tariffs.loc[0, 'rub_per_minute']\n",
    "        if row['message_count'] > tariffs.loc[0, 'messages_included']:\n",
    "            profit += (row['message_count'] - tariffs.loc[0, 'messages_included']) * tariffs.loc[0, 'rub_per_message']\n",
    "        if row['gb_used'] > tariffs.loc[0, 'mb_per_month_included'] / 1024:\n",
    "            profit += (row['gb_used'] - tariffs.loc[0, 'mb_per_month_included'] / 1024) * tariffs.loc[0, 'rub_per_gb']\n",
    "        return profit\n",
    "        \n",
    "    elif row['tariff'] == 'ultra': \n",
    "        profit = tariffs.loc[1, 'rub_monthly_fee']\n",
    "        if row['calls_sum'] > tariffs.loc[1, 'minutes_included']:\n",
    "            profit += (row['calls_sum'] - tariffs.loc[1, 'minutes_included']) * tariffs.loc[1, 'rub_per_minute']\n",
    "        if row['message_count'] > tariffs.loc[1, 'messages_included']:\n",
    "            profit += (row['message_count'] - tariffs.loc[1, 'messages_included']) * tariffs.loc[1, 'rub_per_message']\n",
    "        if row['gb_used'] > tariffs.loc[1, 'mb_per_month_included'] / 1024:\n",
    "            profit += (row['gb_used'] - tariffs.loc[1, 'mb_per_month_included'] / 1024) * tariffs.loc[1, 'rub_per_gb']\n",
    "        return profit\n",
    "    \n",
    "revenue['profit'] = revenue.apply(monthly_profit, axis=1)\n",
    "revenue[['month', 'calls_count', 'calls_sum', 'message_count', 'gb_used']] = revenue[['month', 'calls_count', 'calls_sum', 'message_count', 'gb_used']].astype('int32')\n",
    "revenue"
   ]
  },
  {
   "cell_type": "code",
   "execution_count": 48,
   "id": "54138e89",
   "metadata": {},
   "outputs": [
    {
     "name": "stdout",
     "output_type": "stream",
     "text": [
      "<class 'pandas.core.frame.DataFrame'>\n",
      "Int64Index: 3216 entries, 0 to 3215\n",
      "Data columns (total 9 columns):\n",
      " #   Column         Non-Null Count  Dtype  \n",
      "---  ------         --------------  -----  \n",
      " 0   user_id        3216 non-null   int64  \n",
      " 1   month          3216 non-null   int32  \n",
      " 2   calls_count    3216 non-null   int32  \n",
      " 3   calls_sum      3216 non-null   int32  \n",
      " 4   message_count  3216 non-null   int32  \n",
      " 5   gb_used        3216 non-null   int32  \n",
      " 6   tariff         3216 non-null   object \n",
      " 7   city           3216 non-null   object \n",
      " 8   profit         3216 non-null   float64\n",
      "dtypes: float64(1), int32(5), int64(1), object(2)\n",
      "memory usage: 188.4+ KB\n"
     ]
    }
   ],
   "source": [
    "revenue.info()"
   ]
  },
  {
   "cell_type": "markdown",
   "id": "bb74fe5f",
   "metadata": {},
   "source": [
    "### Вывод "
   ]
  },
  {
   "cell_type": "markdown",
   "id": "8097abe2",
   "metadata": {},
   "source": [
    "Подводя итог по предобработке и подготовке данных для дальнейших расчётов можно сказать что данные изначально были даны без значительных дефектов. Мы просто отформатировали их под свои цели, другими словами предобработка заключалась скорее в подготовке данных к анализу чем в их скрупулёзной очистке."
   ]
  },
  {
   "cell_type": "code",
   "execution_count": 49,
   "id": "af8843e5",
   "metadata": {
    "scrolled": true
   },
   "outputs": [
    {
     "data": {
      "text/html": [
       "<div>\n",
       "<style scoped>\n",
       "    .dataframe tbody tr th:only-of-type {\n",
       "        vertical-align: middle;\n",
       "    }\n",
       "\n",
       "    .dataframe tbody tr th {\n",
       "        vertical-align: top;\n",
       "    }\n",
       "\n",
       "    .dataframe thead th {\n",
       "        text-align: right;\n",
       "    }\n",
       "</style>\n",
       "<table border=\"1\" class=\"dataframe\">\n",
       "  <thead>\n",
       "    <tr style=\"text-align: right;\">\n",
       "      <th></th>\n",
       "      <th>user_id</th>\n",
       "      <th>month</th>\n",
       "      <th>calls_count</th>\n",
       "      <th>calls_sum</th>\n",
       "      <th>message_count</th>\n",
       "      <th>gb_used</th>\n",
       "      <th>tariff</th>\n",
       "      <th>city</th>\n",
       "      <th>profit</th>\n",
       "    </tr>\n",
       "  </thead>\n",
       "  <tbody>\n",
       "    <tr>\n",
       "      <th>0</th>\n",
       "      <td>1000</td>\n",
       "      <td>5</td>\n",
       "      <td>22</td>\n",
       "      <td>159</td>\n",
       "      <td>22</td>\n",
       "      <td>3</td>\n",
       "      <td>ultra</td>\n",
       "      <td>Краснодар</td>\n",
       "      <td>1950.0</td>\n",
       "    </tr>\n",
       "    <tr>\n",
       "      <th>1</th>\n",
       "      <td>1000</td>\n",
       "      <td>6</td>\n",
       "      <td>43</td>\n",
       "      <td>172</td>\n",
       "      <td>60</td>\n",
       "      <td>23</td>\n",
       "      <td>ultra</td>\n",
       "      <td>Краснодар</td>\n",
       "      <td>1950.0</td>\n",
       "    </tr>\n",
       "    <tr>\n",
       "      <th>2</th>\n",
       "      <td>1000</td>\n",
       "      <td>7</td>\n",
       "      <td>47</td>\n",
       "      <td>340</td>\n",
       "      <td>75</td>\n",
       "      <td>14</td>\n",
       "      <td>ultra</td>\n",
       "      <td>Краснодар</td>\n",
       "      <td>1950.0</td>\n",
       "    </tr>\n",
       "    <tr>\n",
       "      <th>3</th>\n",
       "      <td>1000</td>\n",
       "      <td>8</td>\n",
       "      <td>52</td>\n",
       "      <td>408</td>\n",
       "      <td>81</td>\n",
       "      <td>14</td>\n",
       "      <td>ultra</td>\n",
       "      <td>Краснодар</td>\n",
       "      <td>1950.0</td>\n",
       "    </tr>\n",
       "    <tr>\n",
       "      <th>4</th>\n",
       "      <td>1000</td>\n",
       "      <td>9</td>\n",
       "      <td>58</td>\n",
       "      <td>466</td>\n",
       "      <td>57</td>\n",
       "      <td>15</td>\n",
       "      <td>ultra</td>\n",
       "      <td>Краснодар</td>\n",
       "      <td>1950.0</td>\n",
       "    </tr>\n",
       "    <tr>\n",
       "      <th>5</th>\n",
       "      <td>1000</td>\n",
       "      <td>10</td>\n",
       "      <td>57</td>\n",
       "      <td>350</td>\n",
       "      <td>73</td>\n",
       "      <td>15</td>\n",
       "      <td>ultra</td>\n",
       "      <td>Краснодар</td>\n",
       "      <td>1950.0</td>\n",
       "    </tr>\n",
       "    <tr>\n",
       "      <th>6</th>\n",
       "      <td>1000</td>\n",
       "      <td>11</td>\n",
       "      <td>43</td>\n",
       "      <td>338</td>\n",
       "      <td>58</td>\n",
       "      <td>15</td>\n",
       "      <td>ultra</td>\n",
       "      <td>Краснодар</td>\n",
       "      <td>1950.0</td>\n",
       "    </tr>\n",
       "    <tr>\n",
       "      <th>7</th>\n",
       "      <td>1000</td>\n",
       "      <td>12</td>\n",
       "      <td>46</td>\n",
       "      <td>333</td>\n",
       "      <td>70</td>\n",
       "      <td>10</td>\n",
       "      <td>ultra</td>\n",
       "      <td>Краснодар</td>\n",
       "      <td>1950.0</td>\n",
       "    </tr>\n",
       "    <tr>\n",
       "      <th>3214</th>\n",
       "      <td>1128</td>\n",
       "      <td>0</td>\n",
       "      <td>0</td>\n",
       "      <td>0</td>\n",
       "      <td>0</td>\n",
       "      <td>0</td>\n",
       "      <td>ultra</td>\n",
       "      <td>Волжский</td>\n",
       "      <td>1950.0</td>\n",
       "    </tr>\n",
       "    <tr>\n",
       "      <th>3215</th>\n",
       "      <td>1371</td>\n",
       "      <td>0</td>\n",
       "      <td>0</td>\n",
       "      <td>0</td>\n",
       "      <td>0</td>\n",
       "      <td>0</td>\n",
       "      <td>smart</td>\n",
       "      <td>Омск</td>\n",
       "      <td>550.0</td>\n",
       "    </tr>\n",
       "  </tbody>\n",
       "</table>\n",
       "</div>"
      ],
      "text/plain": [
       "      user_id  month  calls_count  calls_sum  message_count  gb_used tariff  \\\n",
       "0        1000      5           22        159             22        3  ultra   \n",
       "1        1000      6           43        172             60       23  ultra   \n",
       "2        1000      7           47        340             75       14  ultra   \n",
       "3        1000      8           52        408             81       14  ultra   \n",
       "4        1000      9           58        466             57       15  ultra   \n",
       "5        1000     10           57        350             73       15  ultra   \n",
       "6        1000     11           43        338             58       15  ultra   \n",
       "7        1000     12           46        333             70       10  ultra   \n",
       "3214     1128      0            0          0              0        0  ultra   \n",
       "3215     1371      0            0          0              0        0  smart   \n",
       "\n",
       "           city  profit  \n",
       "0     Краснодар  1950.0  \n",
       "1     Краснодар  1950.0  \n",
       "2     Краснодар  1950.0  \n",
       "3     Краснодар  1950.0  \n",
       "4     Краснодар  1950.0  \n",
       "5     Краснодар  1950.0  \n",
       "6     Краснодар  1950.0  \n",
       "7     Краснодар  1950.0  \n",
       "3214   Волжский  1950.0  \n",
       "3215       Омск   550.0  "
      ]
     },
     "metadata": {},
     "output_type": "display_data"
    },
    {
     "name": "stderr",
     "output_type": "stream",
     "text": [
      "/tmp/ipykernel_139/904994332.py:4: UserWarning: Boolean Series key will be reindexed to match DataFrame index.\n",
      "  users[(temp.user_id ==  1128) | (temp.user_id ==  1371) | (temp.user_id ==  1000)]\n"
     ]
    },
    {
     "data": {
      "text/html": [
       "<div>\n",
       "<style scoped>\n",
       "    .dataframe tbody tr th:only-of-type {\n",
       "        vertical-align: middle;\n",
       "    }\n",
       "\n",
       "    .dataframe tbody tr th {\n",
       "        vertical-align: top;\n",
       "    }\n",
       "\n",
       "    .dataframe thead th {\n",
       "        text-align: right;\n",
       "    }\n",
       "</style>\n",
       "<table border=\"1\" class=\"dataframe\">\n",
       "  <thead>\n",
       "    <tr style=\"text-align: right;\">\n",
       "      <th></th>\n",
       "      <th>user_id</th>\n",
       "      <th>age</th>\n",
       "      <th>churn_date</th>\n",
       "      <th>city</th>\n",
       "      <th>first_name</th>\n",
       "      <th>last_name</th>\n",
       "      <th>reg_date</th>\n",
       "      <th>tariff</th>\n",
       "    </tr>\n",
       "  </thead>\n",
       "  <tbody>\n",
       "    <tr>\n",
       "      <th>0</th>\n",
       "      <td>1000</td>\n",
       "      <td>52</td>\n",
       "      <td>NaT</td>\n",
       "      <td>Краснодар</td>\n",
       "      <td>Рафаил</td>\n",
       "      <td>Верещагин</td>\n",
       "      <td>2018-05-25</td>\n",
       "      <td>ultra</td>\n",
       "    </tr>\n",
       "    <tr>\n",
       "      <th>1</th>\n",
       "      <td>1001</td>\n",
       "      <td>41</td>\n",
       "      <td>NaT</td>\n",
       "      <td>Москва</td>\n",
       "      <td>Иван</td>\n",
       "      <td>Ежов</td>\n",
       "      <td>2018-11-01</td>\n",
       "      <td>smart</td>\n",
       "    </tr>\n",
       "    <tr>\n",
       "      <th>2</th>\n",
       "      <td>1002</td>\n",
       "      <td>59</td>\n",
       "      <td>NaT</td>\n",
       "      <td>Стерлитамак</td>\n",
       "      <td>Евгений</td>\n",
       "      <td>Абрамович</td>\n",
       "      <td>2018-06-17</td>\n",
       "      <td>smart</td>\n",
       "    </tr>\n",
       "    <tr>\n",
       "      <th>3</th>\n",
       "      <td>1003</td>\n",
       "      <td>23</td>\n",
       "      <td>NaT</td>\n",
       "      <td>Москва</td>\n",
       "      <td>Белла</td>\n",
       "      <td>Белякова</td>\n",
       "      <td>2018-08-17</td>\n",
       "      <td>ultra</td>\n",
       "    </tr>\n",
       "    <tr>\n",
       "      <th>4</th>\n",
       "      <td>1004</td>\n",
       "      <td>68</td>\n",
       "      <td>NaT</td>\n",
       "      <td>Новокузнецк</td>\n",
       "      <td>Татьяна</td>\n",
       "      <td>Авдеенко</td>\n",
       "      <td>2018-05-14</td>\n",
       "      <td>ultra</td>\n",
       "    </tr>\n",
       "    <tr>\n",
       "      <th>5</th>\n",
       "      <td>1005</td>\n",
       "      <td>67</td>\n",
       "      <td>NaT</td>\n",
       "      <td>Набережные Челны</td>\n",
       "      <td>Афанасий</td>\n",
       "      <td>Горлов</td>\n",
       "      <td>2018-01-25</td>\n",
       "      <td>smart</td>\n",
       "    </tr>\n",
       "    <tr>\n",
       "      <th>6</th>\n",
       "      <td>1006</td>\n",
       "      <td>21</td>\n",
       "      <td>NaT</td>\n",
       "      <td>Ульяновск</td>\n",
       "      <td>Леонид</td>\n",
       "      <td>Ермолаев</td>\n",
       "      <td>2018-02-26</td>\n",
       "      <td>smart</td>\n",
       "    </tr>\n",
       "    <tr>\n",
       "      <th>7</th>\n",
       "      <td>1007</td>\n",
       "      <td>65</td>\n",
       "      <td>NaT</td>\n",
       "      <td>Москва</td>\n",
       "      <td>Юна</td>\n",
       "      <td>Березина</td>\n",
       "      <td>2018-04-19</td>\n",
       "      <td>smart</td>\n",
       "    </tr>\n",
       "  </tbody>\n",
       "</table>\n",
       "</div>"
      ],
      "text/plain": [
       "   user_id  age churn_date              city first_name  last_name   reg_date  \\\n",
       "0     1000   52        NaT         Краснодар     Рафаил  Верещагин 2018-05-25   \n",
       "1     1001   41        NaT            Москва       Иван       Ежов 2018-11-01   \n",
       "2     1002   59        NaT       Стерлитамак    Евгений  Абрамович 2018-06-17   \n",
       "3     1003   23        NaT            Москва      Белла   Белякова 2018-08-17   \n",
       "4     1004   68        NaT       Новокузнецк    Татьяна   Авдеенко 2018-05-14   \n",
       "5     1005   67        NaT  Набережные Челны   Афанасий     Горлов 2018-01-25   \n",
       "6     1006   21        NaT         Ульяновск     Леонид   Ермолаев 2018-02-26   \n",
       "7     1007   65        NaT            Москва        Юна   Березина 2018-04-19   \n",
       "\n",
       "  tariff  \n",
       "0  ultra  \n",
       "1  smart  \n",
       "2  smart  \n",
       "3  ultra  \n",
       "4  ultra  \n",
       "5  smart  \n",
       "6  smart  \n",
       "7  smart  "
      ]
     },
     "execution_count": 49,
     "metadata": {},
     "output_type": "execute_result"
    }
   ],
   "source": [
    "# Комментарий ревьюера 2\n",
    "temp = revenue.copy()\n",
    "display(temp[(temp.user_id ==  1128) | (temp.user_id ==  1371) | (temp.user_id ==  1000)])\n",
    "users[(temp.user_id ==  1128) | (temp.user_id ==  1371) | (temp.user_id ==  1000)]"
   ]
  },
  {
   "cell_type": "code",
   "execution_count": 50,
   "id": "21a76fe0",
   "metadata": {},
   "outputs": [
    {
     "data": {
      "text/html": [
       "<div>\n",
       "<style scoped>\n",
       "    .dataframe tbody tr th:only-of-type {\n",
       "        vertical-align: middle;\n",
       "    }\n",
       "\n",
       "    .dataframe tbody tr th {\n",
       "        vertical-align: top;\n",
       "    }\n",
       "\n",
       "    .dataframe thead th {\n",
       "        text-align: right;\n",
       "    }\n",
       "</style>\n",
       "<table border=\"1\" class=\"dataframe\">\n",
       "  <thead>\n",
       "    <tr style=\"text-align: right;\">\n",
       "      <th></th>\n",
       "      <th>user_id</th>\n",
       "      <th>age</th>\n",
       "      <th>churn_date</th>\n",
       "      <th>city</th>\n",
       "      <th>first_name</th>\n",
       "      <th>last_name</th>\n",
       "      <th>reg_date</th>\n",
       "      <th>tariff</th>\n",
       "    </tr>\n",
       "  </thead>\n",
       "  <tbody>\n",
       "    <tr>\n",
       "      <th>0</th>\n",
       "      <td>1000</td>\n",
       "      <td>52</td>\n",
       "      <td>NaT</td>\n",
       "      <td>Краснодар</td>\n",
       "      <td>Рафаил</td>\n",
       "      <td>Верещагин</td>\n",
       "      <td>2018-05-25</td>\n",
       "      <td>ultra</td>\n",
       "    </tr>\n",
       "    <tr>\n",
       "      <th>1</th>\n",
       "      <td>1001</td>\n",
       "      <td>41</td>\n",
       "      <td>NaT</td>\n",
       "      <td>Москва</td>\n",
       "      <td>Иван</td>\n",
       "      <td>Ежов</td>\n",
       "      <td>2018-11-01</td>\n",
       "      <td>smart</td>\n",
       "    </tr>\n",
       "    <tr>\n",
       "      <th>2</th>\n",
       "      <td>1002</td>\n",
       "      <td>59</td>\n",
       "      <td>NaT</td>\n",
       "      <td>Стерлитамак</td>\n",
       "      <td>Евгений</td>\n",
       "      <td>Абрамович</td>\n",
       "      <td>2018-06-17</td>\n",
       "      <td>smart</td>\n",
       "    </tr>\n",
       "    <tr>\n",
       "      <th>3</th>\n",
       "      <td>1003</td>\n",
       "      <td>23</td>\n",
       "      <td>NaT</td>\n",
       "      <td>Москва</td>\n",
       "      <td>Белла</td>\n",
       "      <td>Белякова</td>\n",
       "      <td>2018-08-17</td>\n",
       "      <td>ultra</td>\n",
       "    </tr>\n",
       "    <tr>\n",
       "      <th>4</th>\n",
       "      <td>1004</td>\n",
       "      <td>68</td>\n",
       "      <td>NaT</td>\n",
       "      <td>Новокузнецк</td>\n",
       "      <td>Татьяна</td>\n",
       "      <td>Авдеенко</td>\n",
       "      <td>2018-05-14</td>\n",
       "      <td>ultra</td>\n",
       "    </tr>\n",
       "    <tr>\n",
       "      <th>...</th>\n",
       "      <td>...</td>\n",
       "      <td>...</td>\n",
       "      <td>...</td>\n",
       "      <td>...</td>\n",
       "      <td>...</td>\n",
       "      <td>...</td>\n",
       "      <td>...</td>\n",
       "      <td>...</td>\n",
       "    </tr>\n",
       "    <tr>\n",
       "      <th>495</th>\n",
       "      <td>1495</td>\n",
       "      <td>65</td>\n",
       "      <td>NaT</td>\n",
       "      <td>Иркутск</td>\n",
       "      <td>Авксентий</td>\n",
       "      <td>Фокин</td>\n",
       "      <td>2018-08-28</td>\n",
       "      <td>ultra</td>\n",
       "    </tr>\n",
       "    <tr>\n",
       "      <th>496</th>\n",
       "      <td>1496</td>\n",
       "      <td>36</td>\n",
       "      <td>NaT</td>\n",
       "      <td>Вологда</td>\n",
       "      <td>Трифон</td>\n",
       "      <td>Блохин</td>\n",
       "      <td>2018-01-27</td>\n",
       "      <td>smart</td>\n",
       "    </tr>\n",
       "    <tr>\n",
       "      <th>497</th>\n",
       "      <td>1497</td>\n",
       "      <td>32</td>\n",
       "      <td>NaT</td>\n",
       "      <td>Челябинск</td>\n",
       "      <td>Каролина</td>\n",
       "      <td>Агеева</td>\n",
       "      <td>2018-10-09</td>\n",
       "      <td>smart</td>\n",
       "    </tr>\n",
       "    <tr>\n",
       "      <th>498</th>\n",
       "      <td>1498</td>\n",
       "      <td>68</td>\n",
       "      <td>2018-10-25</td>\n",
       "      <td>Владикавказ</td>\n",
       "      <td>Всеволод</td>\n",
       "      <td>Акимчин</td>\n",
       "      <td>2018-07-19</td>\n",
       "      <td>smart</td>\n",
       "    </tr>\n",
       "    <tr>\n",
       "      <th>499</th>\n",
       "      <td>1499</td>\n",
       "      <td>35</td>\n",
       "      <td>NaT</td>\n",
       "      <td>Пермь</td>\n",
       "      <td>Гектор</td>\n",
       "      <td>Корнилов</td>\n",
       "      <td>2018-09-27</td>\n",
       "      <td>smart</td>\n",
       "    </tr>\n",
       "  </tbody>\n",
       "</table>\n",
       "<p>500 rows × 8 columns</p>\n",
       "</div>"
      ],
      "text/plain": [
       "     user_id  age churn_date         city first_name  last_name   reg_date  \\\n",
       "0       1000   52        NaT    Краснодар     Рафаил  Верещагин 2018-05-25   \n",
       "1       1001   41        NaT       Москва       Иван       Ежов 2018-11-01   \n",
       "2       1002   59        NaT  Стерлитамак    Евгений  Абрамович 2018-06-17   \n",
       "3       1003   23        NaT       Москва      Белла   Белякова 2018-08-17   \n",
       "4       1004   68        NaT  Новокузнецк    Татьяна   Авдеенко 2018-05-14   \n",
       "..       ...  ...        ...          ...        ...        ...        ...   \n",
       "495     1495   65        NaT      Иркутск  Авксентий      Фокин 2018-08-28   \n",
       "496     1496   36        NaT      Вологда     Трифон     Блохин 2018-01-27   \n",
       "497     1497   32        NaT    Челябинск   Каролина     Агеева 2018-10-09   \n",
       "498     1498   68 2018-10-25  Владикавказ   Всеволод    Акимчин 2018-07-19   \n",
       "499     1499   35        NaT        Пермь     Гектор   Корнилов 2018-09-27   \n",
       "\n",
       "    tariff  \n",
       "0    ultra  \n",
       "1    smart  \n",
       "2    smart  \n",
       "3    ultra  \n",
       "4    ultra  \n",
       "..     ...  \n",
       "495  ultra  \n",
       "496  smart  \n",
       "497  smart  \n",
       "498  smart  \n",
       "499  smart  \n",
       "\n",
       "[500 rows x 8 columns]"
      ]
     },
     "execution_count": 50,
     "metadata": {},
     "output_type": "execute_result"
    }
   ],
   "source": [
    "users"
   ]
  },
  {
   "cell_type": "markdown",
   "id": "7a23f1a3",
   "metadata": {},
   "source": [
    "# Анализ данных"
   ]
  },
  {
   "cell_type": "markdown",
   "id": "1d9fed5b",
   "metadata": {},
   "source": [
    "Сколько минут разговора, сколько сообщений и какой объём интернет-трафика требуется пользователям каждого тарифа в месяц? Пойдём по порядку."
   ]
  },
  {
   "cell_type": "code",
   "execution_count": 51,
   "id": "85a37101",
   "metadata": {},
   "outputs": [
    {
     "data": {
      "text/html": [
       "<div>\n",
       "<style scoped>\n",
       "    .dataframe tbody tr th:only-of-type {\n",
       "        vertical-align: middle;\n",
       "    }\n",
       "\n",
       "    .dataframe tbody tr th {\n",
       "        vertical-align: top;\n",
       "    }\n",
       "\n",
       "    .dataframe thead th {\n",
       "        text-align: right;\n",
       "    }\n",
       "</style>\n",
       "<table border=\"1\" class=\"dataframe\">\n",
       "  <thead>\n",
       "    <tr style=\"text-align: right;\">\n",
       "      <th></th>\n",
       "      <th>calls_sum</th>\n",
       "      <th>message_count</th>\n",
       "      <th>gb_used</th>\n",
       "      <th>profit</th>\n",
       "    </tr>\n",
       "    <tr>\n",
       "      <th>month</th>\n",
       "      <th></th>\n",
       "      <th></th>\n",
       "      <th></th>\n",
       "      <th></th>\n",
       "    </tr>\n",
       "  </thead>\n",
       "  <tbody>\n",
       "    <tr>\n",
       "      <th>0</th>\n",
       "      <td>0.0</td>\n",
       "      <td>0.0</td>\n",
       "      <td>0.0</td>\n",
       "      <td>550.0</td>\n",
       "    </tr>\n",
       "    <tr>\n",
       "      <th>1</th>\n",
       "      <td>204.0</td>\n",
       "      <td>18.0</td>\n",
       "      <td>9.0</td>\n",
       "      <td>721.0</td>\n",
       "    </tr>\n",
       "    <tr>\n",
       "      <th>2</th>\n",
       "      <td>299.0</td>\n",
       "      <td>24.0</td>\n",
       "      <td>12.0</td>\n",
       "      <td>828.0</td>\n",
       "    </tr>\n",
       "    <tr>\n",
       "      <th>3</th>\n",
       "      <td>390.0</td>\n",
       "      <td>32.0</td>\n",
       "      <td>15.0</td>\n",
       "      <td>1165.0</td>\n",
       "    </tr>\n",
       "    <tr>\n",
       "      <th>4</th>\n",
       "      <td>367.0</td>\n",
       "      <td>31.0</td>\n",
       "      <td>14.0</td>\n",
       "      <td>963.0</td>\n",
       "    </tr>\n",
       "    <tr>\n",
       "      <th>5</th>\n",
       "      <td>387.0</td>\n",
       "      <td>34.0</td>\n",
       "      <td>16.0</td>\n",
       "      <td>1198.0</td>\n",
       "    </tr>\n",
       "    <tr>\n",
       "      <th>6</th>\n",
       "      <td>396.0</td>\n",
       "      <td>33.0</td>\n",
       "      <td>16.0</td>\n",
       "      <td>1204.0</td>\n",
       "    </tr>\n",
       "    <tr>\n",
       "      <th>7</th>\n",
       "      <td>408.0</td>\n",
       "      <td>34.0</td>\n",
       "      <td>16.0</td>\n",
       "      <td>1224.0</td>\n",
       "    </tr>\n",
       "    <tr>\n",
       "      <th>8</th>\n",
       "      <td>421.0</td>\n",
       "      <td>34.0</td>\n",
       "      <td>17.0</td>\n",
       "      <td>1321.0</td>\n",
       "    </tr>\n",
       "    <tr>\n",
       "      <th>9</th>\n",
       "      <td>429.0</td>\n",
       "      <td>34.0</td>\n",
       "      <td>16.0</td>\n",
       "      <td>1250.0</td>\n",
       "    </tr>\n",
       "    <tr>\n",
       "      <th>10</th>\n",
       "      <td>426.0</td>\n",
       "      <td>34.0</td>\n",
       "      <td>17.0</td>\n",
       "      <td>1365.0</td>\n",
       "    </tr>\n",
       "    <tr>\n",
       "      <th>11</th>\n",
       "      <td>435.0</td>\n",
       "      <td>34.0</td>\n",
       "      <td>17.0</td>\n",
       "      <td>1343.0</td>\n",
       "    </tr>\n",
       "    <tr>\n",
       "      <th>12</th>\n",
       "      <td>479.0</td>\n",
       "      <td>36.0</td>\n",
       "      <td>18.0</td>\n",
       "      <td>1579.0</td>\n",
       "    </tr>\n",
       "  </tbody>\n",
       "</table>\n",
       "</div>"
      ],
      "text/plain": [
       "       calls_sum  message_count  gb_used  profit\n",
       "month                                           \n",
       "0            0.0            0.0      0.0   550.0\n",
       "1          204.0           18.0      9.0   721.0\n",
       "2          299.0           24.0     12.0   828.0\n",
       "3          390.0           32.0     15.0  1165.0\n",
       "4          367.0           31.0     14.0   963.0\n",
       "5          387.0           34.0     16.0  1198.0\n",
       "6          396.0           33.0     16.0  1204.0\n",
       "7          408.0           34.0     16.0  1224.0\n",
       "8          421.0           34.0     17.0  1321.0\n",
       "9          429.0           34.0     16.0  1250.0\n",
       "10         426.0           34.0     17.0  1365.0\n",
       "11         435.0           34.0     17.0  1343.0\n",
       "12         479.0           36.0     18.0  1579.0"
      ]
     },
     "execution_count": 51,
     "metadata": {},
     "output_type": "execute_result"
    }
   ],
   "source": [
    "round(revenue.query('tariff == \"smart\"').groupby('month')[['calls_sum', 'message_count', 'gb_used', 'profit']].mean(), 0)\n"
   ]
  },
  {
   "cell_type": "code",
   "execution_count": 52,
   "id": "73dfe91e",
   "metadata": {},
   "outputs": [
    {
     "data": {
      "text/html": [
       "<div>\n",
       "<style scoped>\n",
       "    .dataframe tbody tr th:only-of-type {\n",
       "        vertical-align: middle;\n",
       "    }\n",
       "\n",
       "    .dataframe tbody tr th {\n",
       "        vertical-align: top;\n",
       "    }\n",
       "\n",
       "    .dataframe thead th {\n",
       "        text-align: right;\n",
       "    }\n",
       "</style>\n",
       "<table border=\"1\" class=\"dataframe\">\n",
       "  <thead>\n",
       "    <tr style=\"text-align: right;\">\n",
       "      <th></th>\n",
       "      <th>calls_sum</th>\n",
       "      <th>message_count</th>\n",
       "      <th>gb_used</th>\n",
       "      <th>profit</th>\n",
       "    </tr>\n",
       "    <tr>\n",
       "      <th>month</th>\n",
       "      <th></th>\n",
       "      <th></th>\n",
       "      <th></th>\n",
       "      <th></th>\n",
       "    </tr>\n",
       "  </thead>\n",
       "  <tbody>\n",
       "    <tr>\n",
       "      <th>0</th>\n",
       "      <td>0.0</td>\n",
       "      <td>0.0</td>\n",
       "      <td>0.0</td>\n",
       "      <td>1950.0</td>\n",
       "    </tr>\n",
       "    <tr>\n",
       "      <th>1</th>\n",
       "      <td>428.0</td>\n",
       "      <td>34.0</td>\n",
       "      <td>13.0</td>\n",
       "      <td>1950.0</td>\n",
       "    </tr>\n",
       "    <tr>\n",
       "      <th>2</th>\n",
       "      <td>297.0</td>\n",
       "      <td>22.0</td>\n",
       "      <td>12.0</td>\n",
       "      <td>1975.0</td>\n",
       "    </tr>\n",
       "    <tr>\n",
       "      <th>3</th>\n",
       "      <td>490.0</td>\n",
       "      <td>32.0</td>\n",
       "      <td>18.0</td>\n",
       "      <td>2015.0</td>\n",
       "    </tr>\n",
       "    <tr>\n",
       "      <th>4</th>\n",
       "      <td>458.0</td>\n",
       "      <td>32.0</td>\n",
       "      <td>17.0</td>\n",
       "      <td>2002.0</td>\n",
       "    </tr>\n",
       "    <tr>\n",
       "      <th>5</th>\n",
       "      <td>510.0</td>\n",
       "      <td>38.0</td>\n",
       "      <td>19.0</td>\n",
       "      <td>2060.0</td>\n",
       "    </tr>\n",
       "    <tr>\n",
       "      <th>6</th>\n",
       "      <td>480.0</td>\n",
       "      <td>42.0</td>\n",
       "      <td>19.0</td>\n",
       "      <td>2039.0</td>\n",
       "    </tr>\n",
       "    <tr>\n",
       "      <th>7</th>\n",
       "      <td>546.0</td>\n",
       "      <td>50.0</td>\n",
       "      <td>21.0</td>\n",
       "      <td>2118.0</td>\n",
       "    </tr>\n",
       "    <tr>\n",
       "      <th>8</th>\n",
       "      <td>511.0</td>\n",
       "      <td>48.0</td>\n",
       "      <td>20.0</td>\n",
       "      <td>2083.0</td>\n",
       "    </tr>\n",
       "    <tr>\n",
       "      <th>9</th>\n",
       "      <td>539.0</td>\n",
       "      <td>52.0</td>\n",
       "      <td>19.0</td>\n",
       "      <td>2024.0</td>\n",
       "    </tr>\n",
       "    <tr>\n",
       "      <th>10</th>\n",
       "      <td>558.0</td>\n",
       "      <td>58.0</td>\n",
       "      <td>20.0</td>\n",
       "      <td>2066.0</td>\n",
       "    </tr>\n",
       "    <tr>\n",
       "      <th>11</th>\n",
       "      <td>541.0</td>\n",
       "      <td>56.0</td>\n",
       "      <td>20.0</td>\n",
       "      <td>2092.0</td>\n",
       "    </tr>\n",
       "    <tr>\n",
       "      <th>12</th>\n",
       "      <td>593.0</td>\n",
       "      <td>61.0</td>\n",
       "      <td>22.0</td>\n",
       "      <td>2139.0</td>\n",
       "    </tr>\n",
       "  </tbody>\n",
       "</table>\n",
       "</div>"
      ],
      "text/plain": [
       "       calls_sum  message_count  gb_used  profit\n",
       "month                                           \n",
       "0            0.0            0.0      0.0  1950.0\n",
       "1          428.0           34.0     13.0  1950.0\n",
       "2          297.0           22.0     12.0  1975.0\n",
       "3          490.0           32.0     18.0  2015.0\n",
       "4          458.0           32.0     17.0  2002.0\n",
       "5          510.0           38.0     19.0  2060.0\n",
       "6          480.0           42.0     19.0  2039.0\n",
       "7          546.0           50.0     21.0  2118.0\n",
       "8          511.0           48.0     20.0  2083.0\n",
       "9          539.0           52.0     19.0  2024.0\n",
       "10         558.0           58.0     20.0  2066.0\n",
       "11         541.0           56.0     20.0  2092.0\n",
       "12         593.0           61.0     22.0  2139.0"
      ]
     },
     "execution_count": 52,
     "metadata": {},
     "output_type": "execute_result"
    }
   ],
   "source": [
    "round(revenue.query('tariff == \"ultra\"').groupby('month')[['calls_sum', 'message_count', 'gb_used', 'profit']].mean(), 0)\n"
   ]
  },
  {
   "cell_type": "code",
   "execution_count": 53,
   "id": "3cb82a60",
   "metadata": {},
   "outputs": [
    {
     "data": {
      "text/plain": [
       "<function matplotlib.pyplot.show(close=None, block=None)>"
      ]
     },
     "execution_count": 53,
     "metadata": {},
     "output_type": "execute_result"
    },
    {
     "data": {
      "image/png": "[encoded data removed]",
      "text/plain": [
       "<Figure size 720x360 with 1 Axes>"
      ]
     },
     "metadata": {
      "needs_background": "light"
     },
     "output_type": "display_data"
    }
   ],
   "source": [
    "revenue.groupby('tariff')['calls_sum'].plot( \n",
    "    kind='hist',\n",
    "    bins=30,\n",
    "    title='Frequency bar chart average call duration for Smart and Utlra',\n",
    "    legend=True,\n",
    "    ylabel='Frequency',\n",
    "    xlabel='Minutes',\n",
    "    figsize=(10, 5),\n",
    "    alpha=0.5\n",
    ")\n",
    "plt.show"
   ]
  },
  {
   "cell_type": "code",
   "execution_count": 78,
   "id": "f2dd9bd6",
   "metadata": {},
   "outputs": [
    {
     "data": {
      "image/png": "[encoded data removed]",
      "text/plain": [
       "<Figure size 720x360 with 1 Axes>"
      ]
     },
     "metadata": {
      "needs_background": "light"
     },
     "output_type": "display_data"
    }
   ],
   "source": [
    "# Комментарий ревьюера 3\n",
    "fig = plt.figure(figsize=(10, 5))\n",
    "ax = fig.add_subplot()\n",
    "revenue.groupby('tariff')['calls_sum'].plot( \n",
    "    kind='hist',\n",
    "    bins=30,\n",
    "    title='Frequency bar chart average call duration for Smart and Utlra',\n",
    "    legend=True,\n",
    "    alpha=0.5\n",
    ")\n",
    "ax.set_ylabel('Frequency')\n",
    "ax.set_xlabel('Minutes')\n",
    "plt.show()"
   ]
  },
  {
   "cell_type": "markdown",
   "id": "5ad49ae4",
   "metadata": {},
   "source": [
    "На графике хорошо видно что большинство пользователей тарифа 'Smart' в среднем используют 500 минут. Пользователи тарифа 'Ultra' разбросаны в более широком диапазоне и более равномерно."
   ]
  },
  {
   "cell_type": "code",
   "execution_count": 54,
   "id": "84abbe93",
   "metadata": {
    "scrolled": true
   },
   "outputs": [
    {
     "data": {
      "text/plain": [
       "tariff\n",
       "smart    AxesSubplot(0.125,0.125;0.775x0.755)\n",
       "ultra    AxesSubplot(0.125,0.125;0.775x0.755)\n",
       "Name: message_count, dtype: object"
      ]
     },
     "execution_count": 54,
     "metadata": {},
     "output_type": "execute_result"
    },
    {
     "data": {
      "image/png": "[encoded data removed]",
      "text/plain": [
       "<Figure size 720x360 with 1 Axes>"
      ]
     },
     "metadata": {
      "needs_background": "light"
     },
     "output_type": "display_data"
    }
   ],
   "source": [
    "revenue.groupby('tariff')['message_count'].plot( \n",
    "    kind='hist',\n",
    "    bins=30,\n",
    "    title='Frequency bar chart average messages for Smart and Utlra',\n",
    "    legend=True,\n",
    "    ylabel='Frequency',\n",
    "    xlabel='Messages',\n",
    "    figsize=(10, 5),\n",
    "    alpha=0.5\n",
    ")"
   ]
  },
  {
   "cell_type": "markdown",
   "id": "599e1b3a",
   "metadata": {
    "scrolled": false
   },
   "source": [
    "С точки зрения использования сообщений пользователи тарифов имеют похожее поведение чаще всего используя их минимальное количество. Так же можно заметить что пользователи тарифа 'Smart' отправляют в среднем до 50 сообщенией, в редких случаях до 100. Пользователям тарифа 'Ultra' требуется до 100 сообщений."
   ]
  },
  {
   "cell_type": "code",
   "execution_count": 55,
   "id": "50d0381e",
   "metadata": {},
   "outputs": [
    {
     "data": {
      "text/plain": [
       "tariff\n",
       "smart    AxesSubplot(0.125,0.125;0.775x0.755)\n",
       "ultra    AxesSubplot(0.125,0.125;0.775x0.755)\n",
       "Name: gb_used, dtype: object"
      ]
     },
     "execution_count": 55,
     "metadata": {},
     "output_type": "execute_result"
    },
    {
     "data": {
      "image/png": "[encoded data removed]",
      "text/plain": [
       "<Figure size 720x360 with 1 Axes>"
      ]
     },
     "metadata": {
      "needs_background": "light"
     },
     "output_type": "display_data"
    }
   ],
   "source": [
    "revenue.groupby('tariff')['gb_used'].plot( \n",
    "    kind='hist',\n",
    "    bins=30,\n",
    "    title='Frequency bar chart average internet traffic for Smart and Utlra',\n",
    "    legend=True,\n",
    "    ylabel='Frequency',\n",
    "    xlabel='Gigabytes',\n",
    "    figsize=(10, 5),\n",
    "    alpha=0.5\n",
    ")"
   ]
  },
  {
   "cell_type": "markdown",
   "id": "63ac903e",
   "metadata": {},
   "source": [
    "В среднем пользователи обоих тарифов используют схожее количество трафика. Пользователи 'Ultra' расходуют немного больше."
   ]
  },
  {
   "cell_type": "code",
   "execution_count": 56,
   "id": "7ee91e42",
   "metadata": {},
   "outputs": [
    {
     "data": {
      "text/plain": [
       "tariff\n",
       "smart    AxesSubplot(0.125,0.125;0.775x0.755)\n",
       "ultra    AxesSubplot(0.125,0.125;0.775x0.755)\n",
       "Name: profit, dtype: object"
      ]
     },
     "execution_count": 56,
     "metadata": {},
     "output_type": "execute_result"
    },
    {
     "data": {
      "image/png": "[encoded data removed]",
      "text/plain": [
       "<Figure size 720x360 with 1 Axes>"
      ]
     },
     "metadata": {
      "needs_background": "light"
     },
     "output_type": "display_data"
    }
   ],
   "source": [
    "revenue.groupby('tariff')['profit'].plot( \n",
    "    kind='hist',\n",
    "    bins=30,\n",
    "    title='Frequency bar chart average internet traffic for Smart and Utlra',\n",
    "    legend=True,\n",
    "    ylabel='Frequency',\n",
    "    xlabel='Fee',\n",
    "    figsize=(10, 5),\n",
    "    alpha=0.5\n",
    ")"
   ]
  },
  {
   "cell_type": "markdown",
   "id": "a8c2adc7",
   "metadata": {},
   "source": [
    "На этом графике отчётливо видно как пользователи 'Smart' переплачивают.\n",
    "\n",
    "Посчитаем дисперсию и стандартное отклонение как несмещённую оценку для дисперсии генеральной совокупности."
   ]
  },
  {
   "cell_type": "code",
   "execution_count": 57,
   "id": "5717aaa2",
   "metadata": {},
   "outputs": [
    {
     "data": {
      "text/plain": [
       "calls_sum        16293.084634\n",
       "message_count       99.781333\n",
       "gb_used             24.095237\n",
       "dtype: float64"
      ]
     },
     "execution_count": 57,
     "metadata": {},
     "output_type": "execute_result"
    }
   ],
   "source": [
    "np.var(revenue.query('tariff == \"smart\"').groupby('month')[['calls_sum', 'message_count', 'gb_used']].mean(), ddof=1)"
   ]
  },
  {
   "cell_type": "code",
   "execution_count": 58,
   "id": "5e0dfd6b",
   "metadata": {},
   "outputs": [
    {
     "data": {
      "text/plain": [
       "calls_sum        24417.932874\n",
       "message_count      286.144468\n",
       "gb_used             33.469364\n",
       "dtype: float64"
      ]
     },
     "execution_count": 58,
     "metadata": {},
     "output_type": "execute_result"
    }
   ],
   "source": [
    "np.var(revenue.query('tariff == \"ultra\"').groupby('month')[['calls_sum', 'message_count', 'gb_used']].mean(), ddof=1)"
   ]
  },
  {
   "cell_type": "markdown",
   "id": "27060eae",
   "metadata": {},
   "source": [
    "Дисперсия не так информативна как стандартное отклонение, т.к. является квадратом стандартного отклонения."
   ]
  },
  {
   "cell_type": "code",
   "execution_count": 59,
   "id": "c31bf321",
   "metadata": {},
   "outputs": [
    {
     "data": {
      "text/plain": [
       "calls_sum        127.644368\n",
       "message_count      9.989061\n",
       "gb_used            4.908690\n",
       "dtype: float64"
      ]
     },
     "execution_count": 59,
     "metadata": {},
     "output_type": "execute_result"
    }
   ],
   "source": [
    "np.std(revenue.query('tariff == \"smart\"').groupby('month')[['calls_sum', 'message_count', 'gb_used']].mean(), ddof=1)"
   ]
  },
  {
   "cell_type": "code",
   "execution_count": 60,
   "id": "40543078",
   "metadata": {},
   "outputs": [
    {
     "data": {
      "text/plain": [
       "calls_sum        156.262385\n",
       "message_count     16.915805\n",
       "gb_used            5.785271\n",
       "dtype: float64"
      ]
     },
     "execution_count": 60,
     "metadata": {},
     "output_type": "execute_result"
    }
   ],
   "source": [
    "np.std(revenue.query('tariff == \"ultra\"').groupby('month')[['calls_sum', 'message_count', 'gb_used']].mean(), ddof=1)"
   ]
  },
  {
   "cell_type": "markdown",
   "id": "8609ad25",
   "metadata": {},
   "source": [
    "Стандартное отклонение более информативно, потому что его значения остаются в тех же единицах измерения что и исходные значения. По стандартному отклонению можно сделать вывод о разбросе данных.\n",
    "\n",
    "Как видно из полученных результатов разница между тарифами есть. Пользователи тарифа 'Smart' активнее пользуются возможностями тарифа, чаще выходя за его ограничения. Пользователи 'Ultra' менее активны и как правило не используют всех возможностей тарифа. Так же можно сделать вывод что в течении года количество клиентов увеличивается."
   ]
  },
  {
   "cell_type": "markdown",
   "id": "ad80323e",
   "metadata": {},
   "source": [
    "# Проверка гипотез"
   ]
  },
  {
   "cell_type": "markdown",
   "id": "87278ba8",
   "metadata": {},
   "source": [
    "Исходя из данных проекта нам нужно проверить гипотезы:\n",
    "1. H₀ - Cредняя выручка пользователей тарифов «Ультра» и «Смарт» совпадают;\n",
    "\n",
    "   H₁ - Cредняя выручка пользователей тарифов «Ультра» и «Смарт» различаются.\n",
    "   \n",
    "  \n",
    "2. H₀ - Средняя выручка пользователей из Москвы отличается от выручки пользователей из других регионов.\n",
    "\n",
    "   H₁ - Средняя выручка пользователей из Москвы равна выручке пользователей из других регионов.\n",
    "\n",
    "Нам нужно сравнивать средние двух совокупностей между собой. Для этого применяют t-тест `scipy.stats.ttest_ind`. Для его проведения размеры выборок и дисперсии рассматриваемых генеральных совокупностей должны быть равны. А это не так, поэтому для теста указывается параметр equal_var = False."
   ]
  },
  {
   "cell_type": "code",
   "execution_count": 61,
   "id": "da876285",
   "metadata": {},
   "outputs": [
    {
     "name": "stdout",
     "output_type": "stream",
     "text": [
      "p-значение: 1.927011394420941e-250\n",
      "Отвергаем нулевую гипотезу\n"
     ]
    }
   ],
   "source": [
    "alpha = .05 # критический уровень статистической значимости\n",
    "\n",
    "results = st.ttest_ind(\n",
    "    revenue[revenue['tariff'] == 'smart']['profit'], \n",
    "    revenue[revenue['tariff'] == 'ultra']['profit'], \n",
    "    equal_var = False\n",
    ")\n",
    "\n",
    "print('p-значение:', results.pvalue)\n",
    "\n",
    "if results.pvalue < alpha:\n",
    "    print(\"Отвергаем нулевую гипотезу\")\n",
    "else:\n",
    "    print(\"Не получилось отвергнуть нулевую гипотезу\") "
   ]
  },
  {
   "cell_type": "markdown",
   "id": "fe88acdc",
   "metadata": {},
   "source": [
    "Отвергаем нулевую гипотезу и принимаем альтернативную."
   ]
  },
  {
   "cell_type": "code",
   "execution_count": 62,
   "id": "52e62388",
   "metadata": {},
   "outputs": [
    {
     "name": "stdout",
     "output_type": "stream",
     "text": [
      "1289.6417040358745\n"
     ]
    },
    {
     "data": {
      "text/plain": [
       "2070.030425963489"
      ]
     },
     "execution_count": 62,
     "metadata": {},
     "output_type": "execute_result"
    }
   ],
   "source": [
    "print(revenue[revenue['tariff'] == 'smart']['profit'].mean())\n",
    "revenue[revenue['tariff'] == 'ultra']['profit'].mean()"
   ]
  },
  {
   "cell_type": "markdown",
   "id": "6d909111",
   "metadata": {},
   "source": [
    "Исходя из средних по тарифам делаем вывод что более прибыльным является тариф 'Ultra'."
   ]
  },
  {
   "cell_type": "markdown",
   "id": "f07885d9",
   "metadata": {},
   "source": [
    "Для проверки второй гипотезы нужно отсортировать таблицу revenue по месту жительства пользователей и провести аналогичный t-тест."
   ]
  },
  {
   "cell_type": "code",
   "execution_count": 63,
   "id": "13e8fc4e",
   "metadata": {},
   "outputs": [
    {
     "name": "stdout",
     "output_type": "stream",
     "text": [
      "p-значение: 0.5216952110000279\n",
      "Не получилось отвергнуть нулевую гипотезу\n"
     ]
    }
   ],
   "source": [
    "alpha = .05 # критический уровень статистической значимости\n",
    "\n",
    "results = st.ttest_ind(\n",
    "    revenue[revenue['city'] == 'Москва']['profit'], \n",
    "    revenue[revenue['city'] != 'Москва']['profit'],\n",
    "    equal_var=False\n",
    ")\n",
    "\n",
    "print('p-значение:', results.pvalue)\n",
    "\n",
    "if results.pvalue < alpha:\n",
    "    print(\"Отвергаем нулевую гипотезу\")\n",
    "else:\n",
    "    print(\"Не получилось отвергнуть нулевую гипотезу\")"
   ]
  },
  {
   "cell_type": "markdown",
   "id": "ec92bd57",
   "metadata": {},
   "source": [
    "Так как p value получилось совсем небольшим, то высока вероятность что доходность в Москве не сильно отличается от доходности других городов. Принимаем нулевую гипотезу. Чтобы дать окончательную рекомендацию о перспективном тарифе, посчитаем средние выручки для выборок:"
   ]
  },
  {
   "cell_type": "code",
   "execution_count": 64,
   "id": "e270527a",
   "metadata": {},
   "outputs": [
    {
     "name": "stdout",
     "output_type": "stream",
     "text": [
      "1546.7135842880523\n"
     ]
    },
    {
     "data": {
      "text/plain": [
       "1528.9026741293533"
      ]
     },
     "execution_count": 64,
     "metadata": {},
     "output_type": "execute_result"
    }
   ],
   "source": [
    "print(revenue[revenue['city'] == 'Москва']['profit'].mean())\n",
    "revenue[revenue['city'] != 'Моква']['profit'].mean()"
   ]
  },
  {
   "cell_type": "markdown",
   "id": "cd7a83fd",
   "metadata": {},
   "source": [
    "Разница средних значений отличается незначительно."
   ]
  },
  {
   "cell_type": "markdown",
   "id": "89cb4c84",
   "metadata": {},
   "source": [
    "# Вывод по проекту"
   ]
  },
  {
   "cell_type": "markdown",
   "id": "5e7ab55c",
   "metadata": {},
   "source": [
    "Изначально перед нами была поставлена задача провести предварительный анализ двух тарифов. Были даны таблицы с информацией о клиентах и полноте использования ими тарифов. На этапе предобработки обнаружили что есть нулевые значения для трафика - 13%. Есть вероятность что это неуспешные подключения или подключения, которые небыли посчитаны. Нужно определить причину появления таких значений. После предобработки данных мы вычислили сколько каждый пользователь использует минут разговора, сообщений и интернет-трафика. Так же посчитали доходность с каждого клиента и выяснили что средний пользователь тарифа 'Smart' переплачивает за услуги. Нашли дисперсию, стандартное отклонение, визуализировали данные. На этом этапе заметно как с течением года количество пользователей растёт. В пятом пункте сформировали гипотезы и проверили из с помощью t-теста. В результате можем заключить что тариф 'Ultra' приносит на ~35% больше дохода для компании, хотя его пользователи не используют его полноценно. Эту информацию стоит учитывать при планировании рекламной компании."
   ]
  }
 ],
 "metadata": {
  "ExecuteTimeLog": [
   {
    "duration": 1238,
    "start_time": "2022-05-17T10:39:57.897Z"
   },
   {
    "duration": 69,
    "start_time": "2022-05-17T10:39:59.137Z"
   },
   {
    "duration": 12,
    "start_time": "2022-05-17T10:39:59.208Z"
   },
   {
    "duration": 177,
    "start_time": "2022-05-17T10:39:59.222Z"
   },
   {
    "duration": 25,
    "start_time": "2022-05-17T10:39:59.401Z"
   },
   {
    "duration": 107,
    "start_time": "2022-05-17T10:39:59.428Z"
   },
   {
    "duration": 24,
    "start_time": "2022-05-17T10:39:59.537Z"
   },
   {
    "duration": 167,
    "start_time": "2022-05-17T10:39:59.563Z"
   },
   {
    "duration": 28,
    "start_time": "2022-05-17T10:39:59.732Z"
   },
   {
    "duration": 27,
    "start_time": "2022-05-17T10:39:59.762Z"
   },
   {
    "duration": 4,
    "start_time": "2022-05-17T10:39:59.790Z"
   },
   {
    "duration": 18,
    "start_time": "2022-05-17T10:39:59.796Z"
   },
   {
    "duration": 27,
    "start_time": "2022-05-17T10:39:59.815Z"
   },
   {
    "duration": 23,
    "start_time": "2022-05-17T10:39:59.844Z"
   },
   {
    "duration": 24,
    "start_time": "2022-05-17T10:39:59.869Z"
   },
   {
    "duration": 45,
    "start_time": "2022-05-17T10:39:59.895Z"
   },
   {
    "duration": 12,
    "start_time": "2022-05-17T10:39:59.942Z"
   },
   {
    "duration": 28,
    "start_time": "2022-05-17T10:39:59.955Z"
   },
   {
    "duration": 12,
    "start_time": "2022-05-17T10:39:59.984Z"
   },
   {
    "duration": 36,
    "start_time": "2022-05-17T10:39:59.998Z"
   },
   {
    "duration": 75,
    "start_time": "2022-05-17T10:40:00.036Z"
   },
   {
    "duration": 9,
    "start_time": "2022-05-17T10:40:00.112Z"
   },
   {
    "duration": 37,
    "start_time": "2022-05-17T10:40:00.123Z"
   },
   {
    "duration": 26,
    "start_time": "2022-05-17T10:40:00.161Z"
   },
   {
    "duration": 124,
    "start_time": "2022-05-17T10:40:00.189Z"
   },
   {
    "duration": 25,
    "start_time": "2022-05-17T10:40:00.315Z"
   },
   {
    "duration": 39,
    "start_time": "2022-05-17T10:40:00.342Z"
   },
   {
    "duration": 19,
    "start_time": "2022-05-17T10:40:00.386Z"
   },
   {
    "duration": 4037,
    "start_time": "2022-05-17T10:40:00.407Z"
   },
   {
    "duration": 0,
    "start_time": "2022-05-17T10:40:04.446Z"
   },
   {
    "duration": 0,
    "start_time": "2022-05-17T10:40:04.447Z"
   },
   {
    "duration": 0,
    "start_time": "2022-05-17T10:40:04.448Z"
   },
   {
    "duration": 0,
    "start_time": "2022-05-17T10:40:04.449Z"
   },
   {
    "duration": 0,
    "start_time": "2022-05-17T10:40:04.450Z"
   },
   {
    "duration": 0,
    "start_time": "2022-05-17T10:40:04.451Z"
   },
   {
    "duration": 0,
    "start_time": "2022-05-17T10:40:04.452Z"
   },
   {
    "duration": 0,
    "start_time": "2022-05-17T10:40:04.453Z"
   },
   {
    "duration": 0,
    "start_time": "2022-05-17T10:40:04.455Z"
   },
   {
    "duration": 0,
    "start_time": "2022-05-17T10:40:04.455Z"
   },
   {
    "duration": 0,
    "start_time": "2022-05-17T10:40:04.456Z"
   },
   {
    "duration": 0,
    "start_time": "2022-05-17T10:40:04.458Z"
   },
   {
    "duration": 0,
    "start_time": "2022-05-17T10:40:04.458Z"
   },
   {
    "duration": 1,
    "start_time": "2022-05-17T10:40:04.459Z"
   },
   {
    "duration": 0,
    "start_time": "2022-05-17T10:40:04.461Z"
   },
   {
    "duration": 0,
    "start_time": "2022-05-17T10:40:04.462Z"
   },
   {
    "duration": 0,
    "start_time": "2022-05-17T10:40:04.463Z"
   },
   {
    "duration": 0,
    "start_time": "2022-05-17T10:40:04.464Z"
   },
   {
    "duration": 0,
    "start_time": "2022-05-17T10:40:04.465Z"
   },
   {
    "duration": 0,
    "start_time": "2022-05-17T10:40:04.466Z"
   },
   {
    "duration": 0,
    "start_time": "2022-05-17T10:40:04.467Z"
   },
   {
    "duration": 0,
    "start_time": "2022-05-17T10:40:04.468Z"
   },
   {
    "duration": 0,
    "start_time": "2022-05-17T10:40:04.469Z"
   },
   {
    "duration": 0,
    "start_time": "2022-05-17T10:40:04.470Z"
   },
   {
    "duration": 0,
    "start_time": "2022-05-17T10:40:04.472Z"
   },
   {
    "duration": 0,
    "start_time": "2022-05-17T10:40:04.473Z"
   },
   {
    "duration": 0,
    "start_time": "2022-05-17T10:40:04.474Z"
   },
   {
    "duration": 0,
    "start_time": "2022-05-17T10:40:04.475Z"
   },
   {
    "duration": 0,
    "start_time": "2022-05-17T10:40:04.476Z"
   },
   {
    "duration": 0,
    "start_time": "2022-05-17T10:40:04.477Z"
   },
   {
    "duration": 0,
    "start_time": "2022-05-17T10:40:04.478Z"
   },
   {
    "duration": 0,
    "start_time": "2022-05-17T10:40:04.479Z"
   },
   {
    "duration": 0,
    "start_time": "2022-05-17T10:40:04.480Z"
   },
   {
    "duration": 0,
    "start_time": "2022-05-17T10:40:04.481Z"
   },
   {
    "duration": 0,
    "start_time": "2022-05-17T10:40:04.482Z"
   },
   {
    "duration": 0,
    "start_time": "2022-05-17T10:40:04.483Z"
   },
   {
    "duration": 0,
    "start_time": "2022-05-17T10:40:04.485Z"
   },
   {
    "duration": 0,
    "start_time": "2022-05-17T10:40:04.486Z"
   },
   {
    "duration": 0,
    "start_time": "2022-05-17T10:40:04.487Z"
   },
   {
    "duration": 0,
    "start_time": "2022-05-17T10:40:04.488Z"
   },
   {
    "duration": 0,
    "start_time": "2022-05-17T10:40:04.489Z"
   },
   {
    "duration": 0,
    "start_time": "2022-05-17T10:40:04.491Z"
   },
   {
    "duration": 0,
    "start_time": "2022-05-17T10:40:04.492Z"
   },
   {
    "duration": 0,
    "start_time": "2022-05-17T10:40:04.493Z"
   },
   {
    "duration": 0,
    "start_time": "2022-05-17T10:40:04.494Z"
   },
   {
    "duration": 0,
    "start_time": "2022-05-17T10:40:04.495Z"
   },
   {
    "duration": 0,
    "start_time": "2022-05-17T10:40:04.557Z"
   },
   {
    "duration": 0,
    "start_time": "2022-05-17T10:40:04.558Z"
   },
   {
    "duration": 0,
    "start_time": "2022-05-17T10:40:04.560Z"
   },
   {
    "duration": 0,
    "start_time": "2022-05-17T10:40:04.561Z"
   },
   {
    "duration": 0,
    "start_time": "2022-05-17T10:40:04.562Z"
   },
   {
    "duration": 4,
    "start_time": "2022-05-17T10:41:23.591Z"
   },
   {
    "duration": 5,
    "start_time": "2022-05-17T10:43:00.320Z"
   },
   {
    "duration": 4,
    "start_time": "2022-05-17T10:43:12.095Z"
   },
   {
    "duration": 1386,
    "start_time": "2022-05-18T11:59:56.312Z"
   },
   {
    "duration": 100,
    "start_time": "2022-05-18T11:59:57.700Z"
   },
   {
    "duration": 11,
    "start_time": "2022-05-18T11:59:57.802Z"
   },
   {
    "duration": 498,
    "start_time": "2022-05-18T11:59:57.816Z"
   },
   {
    "duration": 23,
    "start_time": "2022-05-18T11:59:58.315Z"
   },
   {
    "duration": 286,
    "start_time": "2022-05-18T11:59:58.340Z"
   },
   {
    "duration": 19,
    "start_time": "2022-05-18T11:59:58.628Z"
   },
   {
    "duration": 448,
    "start_time": "2022-05-18T11:59:58.649Z"
   },
   {
    "duration": 20,
    "start_time": "2022-05-18T11:59:59.099Z"
   },
   {
    "duration": 208,
    "start_time": "2022-05-18T11:59:59.122Z"
   },
   {
    "duration": 77,
    "start_time": "2022-05-18T11:59:59.332Z"
   },
   {
    "duration": 4,
    "start_time": "2022-05-18T11:59:59.411Z"
   },
   {
    "duration": 7,
    "start_time": "2022-05-18T11:59:59.417Z"
   },
   {
    "duration": 15,
    "start_time": "2022-05-18T11:59:59.426Z"
   },
   {
    "duration": 7,
    "start_time": "2022-05-18T11:59:59.443Z"
   },
   {
    "duration": 5,
    "start_time": "2022-05-18T11:59:59.452Z"
   },
   {
    "duration": 44,
    "start_time": "2022-05-18T11:59:59.459Z"
   },
   {
    "duration": 11,
    "start_time": "2022-05-18T11:59:59.505Z"
   },
   {
    "duration": 21,
    "start_time": "2022-05-18T11:59:59.518Z"
   },
   {
    "duration": 11,
    "start_time": "2022-05-18T11:59:59.541Z"
   },
   {
    "duration": 6,
    "start_time": "2022-05-18T11:59:59.554Z"
   },
   {
    "duration": 5,
    "start_time": "2022-05-18T11:59:59.561Z"
   },
   {
    "duration": 59,
    "start_time": "2022-05-18T11:59:59.595Z"
   },
   {
    "duration": 8,
    "start_time": "2022-05-18T11:59:59.655Z"
   },
   {
    "duration": 43,
    "start_time": "2022-05-18T11:59:59.665Z"
   },
   {
    "duration": 6,
    "start_time": "2022-05-18T11:59:59.710Z"
   },
   {
    "duration": 163,
    "start_time": "2022-05-18T11:59:59.718Z"
   },
   {
    "duration": 31,
    "start_time": "2022-05-18T11:59:59.887Z"
   },
   {
    "duration": 22,
    "start_time": "2022-05-18T11:59:59.920Z"
   },
   {
    "duration": 15,
    "start_time": "2022-05-18T11:59:59.944Z"
   },
   {
    "duration": 65,
    "start_time": "2022-05-18T11:59:59.961Z"
   },
   {
    "duration": 4,
    "start_time": "2022-05-18T12:00:00.027Z"
   },
   {
    "duration": 155,
    "start_time": "2022-05-18T12:00:00.033Z"
   },
   {
    "duration": 32,
    "start_time": "2022-05-18T12:00:00.190Z"
   },
   {
    "duration": 33,
    "start_time": "2022-05-18T12:00:00.224Z"
   },
   {
    "duration": 12,
    "start_time": "2022-05-18T12:00:00.259Z"
   },
   {
    "duration": 13,
    "start_time": "2022-05-18T12:00:00.296Z"
   },
   {
    "duration": 18,
    "start_time": "2022-05-18T12:00:00.311Z"
   },
   {
    "duration": 17,
    "start_time": "2022-05-18T12:00:00.331Z"
   },
   {
    "duration": 45,
    "start_time": "2022-05-18T12:00:00.350Z"
   },
   {
    "duration": 57,
    "start_time": "2022-05-18T12:00:00.396Z"
   },
   {
    "duration": 3,
    "start_time": "2022-05-18T12:00:00.455Z"
   },
   {
    "duration": 82,
    "start_time": "2022-05-18T12:00:00.459Z"
   },
   {
    "duration": 4,
    "start_time": "2022-05-18T12:00:00.542Z"
   },
   {
    "duration": 141,
    "start_time": "2022-05-18T12:00:00.547Z"
   },
   {
    "duration": 15,
    "start_time": "2022-05-18T12:00:00.690Z"
   },
   {
    "duration": 40,
    "start_time": "2022-05-18T12:00:00.707Z"
   },
   {
    "duration": 12,
    "start_time": "2022-05-18T12:00:00.749Z"
   },
   {
    "duration": 23,
    "start_time": "2022-05-18T12:00:00.762Z"
   },
   {
    "duration": 112,
    "start_time": "2022-05-18T12:00:00.787Z"
   },
   {
    "duration": 19,
    "start_time": "2022-05-18T12:00:00.901Z"
   },
   {
    "duration": 38,
    "start_time": "2022-05-18T12:00:00.922Z"
   },
   {
    "duration": 16,
    "start_time": "2022-05-18T12:00:00.962Z"
   },
   {
    "duration": 8,
    "start_time": "2022-05-18T12:00:00.980Z"
   },
   {
    "duration": 146,
    "start_time": "2022-05-18T12:00:00.989Z"
   },
   {
    "duration": 23,
    "start_time": "2022-05-18T12:00:01.137Z"
   },
   {
    "duration": 6,
    "start_time": "2022-05-18T12:00:01.162Z"
   },
   {
    "duration": 57,
    "start_time": "2022-05-18T12:00:01.169Z"
   },
   {
    "duration": 8,
    "start_time": "2022-05-18T12:00:01.228Z"
   },
   {
    "duration": 273,
    "start_time": "2022-05-18T12:00:01.237Z"
   },
   {
    "duration": 8,
    "start_time": "2022-05-18T12:00:01.512Z"
   },
   {
    "duration": 191,
    "start_time": "2022-05-18T12:00:01.522Z"
   },
   {
    "duration": 8,
    "start_time": "2022-05-18T12:00:01.715Z"
   },
   {
    "duration": 244,
    "start_time": "2022-05-18T12:00:01.725Z"
   },
   {
    "duration": 26,
    "start_time": "2022-05-18T12:00:01.970Z"
   },
   {
    "duration": 23,
    "start_time": "2022-05-18T12:00:01.998Z"
   },
   {
    "duration": 14,
    "start_time": "2022-05-18T12:00:02.023Z"
   },
   {
    "duration": 22,
    "start_time": "2022-05-18T12:00:02.039Z"
   },
   {
    "duration": 34,
    "start_time": "2022-05-18T12:00:02.063Z"
   },
   {
    "duration": 165,
    "start_time": "2022-05-18T12:00:02.099Z"
   },
   {
    "duration": 5,
    "start_time": "2022-05-18T12:00:02.266Z"
   },
   {
    "duration": 20,
    "start_time": "2022-05-18T12:00:02.273Z"
   },
   {
    "duration": 181,
    "start_time": "2022-05-18T12:00:02.295Z"
   },
   {
    "duration": 5,
    "start_time": "2022-05-18T12:00:02.478Z"
   },
   {
    "duration": 5,
    "start_time": "2022-05-18T12:00:02.496Z"
   },
   {
    "duration": 155,
    "start_time": "2022-05-18T12:00:02.503Z"
   },
   {
    "duration": 18,
    "start_time": "2022-05-18T12:00:02.660Z"
   },
   {
    "duration": 383,
    "start_time": "2022-05-18T12:00:02.679Z"
   },
   {
    "duration": 5,
    "start_time": "2022-05-18T12:00:03.063Z"
   },
   {
    "duration": 15,
    "start_time": "2022-05-18T12:00:03.070Z"
   },
   {
    "duration": 36,
    "start_time": "2022-05-18T12:00:03.087Z"
   },
   {
    "duration": 121,
    "start_time": "2022-05-18T12:00:03.128Z"
   },
   {
    "duration": 0,
    "start_time": "2022-05-18T12:00:03.251Z"
   },
   {
    "duration": 0,
    "start_time": "2022-05-18T12:00:03.252Z"
   },
   {
    "duration": 0,
    "start_time": "2022-05-18T12:00:03.253Z"
   },
   {
    "duration": 5,
    "start_time": "2022-05-18T12:06:58.345Z"
   },
   {
    "duration": 19,
    "start_time": "2022-05-18T12:07:40.813Z"
   },
   {
    "duration": 12,
    "start_time": "2022-05-18T12:10:32.263Z"
   },
   {
    "duration": 38,
    "start_time": "2022-05-18T12:10:54.855Z"
   },
   {
    "duration": 4,
    "start_time": "2022-05-18T12:17:51.523Z"
   },
   {
    "duration": 4,
    "start_time": "2022-05-18T12:18:40.607Z"
   },
   {
    "duration": 4,
    "start_time": "2022-05-18T12:19:04.124Z"
   },
   {
    "duration": 20,
    "start_time": "2022-05-18T12:19:26.889Z"
   },
   {
    "duration": 32,
    "start_time": "2022-05-18T12:19:30.735Z"
   },
   {
    "duration": 1477,
    "start_time": "2022-05-22T10:37:33.363Z"
   },
   {
    "duration": 118,
    "start_time": "2022-05-22T10:37:34.842Z"
   },
   {
    "duration": 12,
    "start_time": "2022-05-22T10:37:34.961Z"
   },
   {
    "duration": 576,
    "start_time": "2022-05-22T10:37:34.975Z"
   },
   {
    "duration": 24,
    "start_time": "2022-05-22T10:37:35.553Z"
   },
   {
    "duration": 364,
    "start_time": "2022-05-22T10:37:35.579Z"
   },
   {
    "duration": 20,
    "start_time": "2022-05-22T10:37:35.945Z"
   },
   {
    "duration": 543,
    "start_time": "2022-05-22T10:37:35.966Z"
   },
   {
    "duration": 30,
    "start_time": "2022-05-22T10:37:36.511Z"
   },
   {
    "duration": 235,
    "start_time": "2022-05-22T10:37:36.543Z"
   },
   {
    "duration": 83,
    "start_time": "2022-05-22T10:37:36.779Z"
   },
   {
    "duration": 4,
    "start_time": "2022-05-22T10:37:36.864Z"
   },
   {
    "duration": 10,
    "start_time": "2022-05-22T10:37:36.870Z"
   },
   {
    "duration": 8,
    "start_time": "2022-05-22T10:37:36.883Z"
   },
   {
    "duration": 81,
    "start_time": "2022-05-22T10:37:36.892Z"
   },
   {
    "duration": 5,
    "start_time": "2022-05-22T10:37:36.975Z"
   },
   {
    "duration": 47,
    "start_time": "2022-05-22T10:37:36.982Z"
   },
   {
    "duration": 11,
    "start_time": "2022-05-22T10:37:37.031Z"
   },
   {
    "duration": 23,
    "start_time": "2022-05-22T10:37:37.043Z"
   },
   {
    "duration": 13,
    "start_time": "2022-05-22T10:37:37.067Z"
   },
   {
    "duration": 34,
    "start_time": "2022-05-22T10:37:37.081Z"
   },
   {
    "duration": 16,
    "start_time": "2022-05-22T10:37:37.117Z"
   },
   {
    "duration": 64,
    "start_time": "2022-05-22T10:37:37.135Z"
   },
   {
    "duration": 11,
    "start_time": "2022-05-22T10:37:37.208Z"
   },
   {
    "duration": 36,
    "start_time": "2022-05-22T10:37:37.221Z"
   },
   {
    "duration": 6,
    "start_time": "2022-05-22T10:37:37.259Z"
   },
   {
    "duration": 198,
    "start_time": "2022-05-22T10:37:37.266Z"
   },
   {
    "duration": 28,
    "start_time": "2022-05-22T10:37:37.466Z"
   },
   {
    "duration": 36,
    "start_time": "2022-05-22T10:37:37.506Z"
   },
   {
    "duration": 15,
    "start_time": "2022-05-22T10:37:37.544Z"
   },
   {
    "duration": 61,
    "start_time": "2022-05-22T10:37:37.561Z"
   },
   {
    "duration": 3,
    "start_time": "2022-05-22T10:37:37.630Z"
   },
   {
    "duration": 152,
    "start_time": "2022-05-22T10:37:37.634Z"
   },
   {
    "duration": 38,
    "start_time": "2022-05-22T10:37:37.787Z"
   },
   {
    "duration": 42,
    "start_time": "2022-05-22T10:37:37.830Z"
   },
   {
    "duration": 9,
    "start_time": "2022-05-22T10:37:37.874Z"
   },
   {
    "duration": 24,
    "start_time": "2022-05-22T10:37:37.885Z"
   },
   {
    "duration": 22,
    "start_time": "2022-05-22T10:37:37.920Z"
   },
   {
    "duration": 14,
    "start_time": "2022-05-22T10:37:37.944Z"
   },
   {
    "duration": 16,
    "start_time": "2022-05-22T10:37:37.959Z"
   },
   {
    "duration": 57,
    "start_time": "2022-05-22T10:37:37.979Z"
   },
   {
    "duration": 3,
    "start_time": "2022-05-22T10:37:38.039Z"
   },
   {
    "duration": 91,
    "start_time": "2022-05-22T10:37:38.043Z"
   },
   {
    "duration": 5,
    "start_time": "2022-05-22T10:37:38.136Z"
   },
   {
    "duration": 154,
    "start_time": "2022-05-22T10:37:38.142Z"
   },
   {
    "duration": 19,
    "start_time": "2022-05-22T10:37:38.301Z"
   },
   {
    "duration": 422,
    "start_time": "2022-05-22T10:37:38.321Z"
   },
   {
    "duration": 12,
    "start_time": "2022-05-22T10:37:38.745Z"
   },
   {
    "duration": 47,
    "start_time": "2022-05-22T10:37:38.759Z"
   },
   {
    "duration": 20,
    "start_time": "2022-05-22T10:37:38.807Z"
   },
   {
    "duration": 23,
    "start_time": "2022-05-22T10:37:38.831Z"
   },
   {
    "duration": 18,
    "start_time": "2022-05-22T10:37:38.856Z"
   },
   {
    "duration": 312,
    "start_time": "2022-05-22T10:37:38.876Z"
   },
   {
    "duration": 285,
    "start_time": "2022-05-22T10:37:39.190Z"
   },
   {
    "duration": 302,
    "start_time": "2022-05-22T10:37:39.477Z"
   },
   {
    "duration": 307,
    "start_time": "2022-05-22T10:37:39.781Z"
   },
   {
    "duration": 22,
    "start_time": "2022-05-22T10:37:40.090Z"
   },
   {
    "duration": 28,
    "start_time": "2022-05-22T10:37:40.113Z"
   },
   {
    "duration": 21,
    "start_time": "2022-05-22T10:37:40.142Z"
   },
   {
    "duration": 16,
    "start_time": "2022-05-22T10:37:40.165Z"
   },
   {
    "duration": 48,
    "start_time": "2022-05-22T10:37:40.183Z"
   },
   {
    "duration": 14,
    "start_time": "2022-05-22T10:37:40.233Z"
   },
   {
    "duration": 15,
    "start_time": "2022-05-22T10:37:40.249Z"
   },
   {
    "duration": 45,
    "start_time": "2022-05-22T10:37:40.266Z"
   },
   {
    "duration": 10,
    "start_time": "2022-05-22T10:38:49.778Z"
   },
   {
    "duration": 9,
    "start_time": "2022-05-22T10:38:52.628Z"
   },
   {
    "duration": 9,
    "start_time": "2022-05-22T10:40:03.875Z"
   },
   {
    "duration": 307,
    "start_time": "2022-05-22T10:40:10.056Z"
   },
   {
    "duration": 415,
    "start_time": "2022-05-22T10:40:14.413Z"
   },
   {
    "duration": 358,
    "start_time": "2022-05-22T10:41:14.759Z"
   },
   {
    "duration": 180,
    "start_time": "2022-05-22T10:42:13.586Z"
   },
   {
    "duration": 163,
    "start_time": "2022-05-22T10:42:21.259Z"
   },
   {
    "duration": 45,
    "start_time": "2022-05-22T10:42:31.471Z"
   },
   {
    "duration": 33,
    "start_time": "2022-05-22T10:42:45.721Z"
   },
   {
    "duration": 41,
    "start_time": "2022-05-22T10:42:59.676Z"
   },
   {
    "duration": 11,
    "start_time": "2022-05-22T10:43:04.674Z"
   },
   {
    "duration": 379,
    "start_time": "2022-05-22T10:43:29.729Z"
   },
   {
    "duration": 13,
    "start_time": "2022-05-22T10:43:34.125Z"
   },
   {
    "duration": 384,
    "start_time": "2022-05-22T10:45:36.642Z"
   },
   {
    "duration": 7,
    "start_time": "2022-05-22T10:45:55.304Z"
   },
   {
    "duration": 49,
    "start_time": "2022-05-22T10:45:55.316Z"
   },
   {
    "duration": 12,
    "start_time": "2022-05-22T10:45:55.367Z"
   },
   {
    "duration": 187,
    "start_time": "2022-05-22T10:45:55.381Z"
   },
   {
    "duration": 49,
    "start_time": "2022-05-22T10:45:55.570Z"
   },
   {
    "duration": 108,
    "start_time": "2022-05-22T10:45:55.624Z"
   },
   {
    "duration": 18,
    "start_time": "2022-05-22T10:45:55.733Z"
   },
   {
    "duration": 195,
    "start_time": "2022-05-22T10:45:55.753Z"
   },
   {
    "duration": 25,
    "start_time": "2022-05-22T10:45:55.950Z"
   },
   {
    "duration": 219,
    "start_time": "2022-05-22T10:45:55.977Z"
   },
   {
    "duration": 28,
    "start_time": "2022-05-22T10:45:56.197Z"
   },
   {
    "duration": 4,
    "start_time": "2022-05-22T10:45:56.227Z"
   },
   {
    "duration": 10,
    "start_time": "2022-05-22T10:45:56.233Z"
   },
   {
    "duration": 11,
    "start_time": "2022-05-22T10:45:56.244Z"
   },
   {
    "duration": 7,
    "start_time": "2022-05-22T10:45:56.257Z"
   },
   {
    "duration": 8,
    "start_time": "2022-05-22T10:45:56.265Z"
   },
   {
    "duration": 57,
    "start_time": "2022-05-22T10:45:56.275Z"
   },
   {
    "duration": 12,
    "start_time": "2022-05-22T10:45:56.335Z"
   },
   {
    "duration": 24,
    "start_time": "2022-05-22T10:45:56.348Z"
   },
   {
    "duration": 41,
    "start_time": "2022-05-22T10:45:56.374Z"
   },
   {
    "duration": 5,
    "start_time": "2022-05-22T10:45:56.417Z"
   },
   {
    "duration": 3,
    "start_time": "2022-05-22T10:45:56.424Z"
   },
   {
    "duration": 55,
    "start_time": "2022-05-22T10:45:56.429Z"
   },
   {
    "duration": 25,
    "start_time": "2022-05-22T10:45:56.485Z"
   },
   {
    "duration": 32,
    "start_time": "2022-05-22T10:45:56.512Z"
   },
   {
    "duration": 6,
    "start_time": "2022-05-22T10:45:56.546Z"
   },
   {
    "duration": 175,
    "start_time": "2022-05-22T10:45:56.554Z"
   },
   {
    "duration": 24,
    "start_time": "2022-05-22T10:45:56.732Z"
   },
   {
    "duration": 22,
    "start_time": "2022-05-22T10:45:56.757Z"
   },
   {
    "duration": 33,
    "start_time": "2022-05-22T10:45:56.780Z"
   },
   {
    "duration": 47,
    "start_time": "2022-05-22T10:45:56.815Z"
   },
   {
    "duration": 4,
    "start_time": "2022-05-22T10:45:56.864Z"
   },
   {
    "duration": 163,
    "start_time": "2022-05-22T10:45:56.869Z"
   },
   {
    "duration": 24,
    "start_time": "2022-05-22T10:45:57.034Z"
   },
   {
    "duration": 47,
    "start_time": "2022-05-22T10:45:57.060Z"
   },
   {
    "duration": 11,
    "start_time": "2022-05-22T10:45:57.108Z"
   },
   {
    "duration": 11,
    "start_time": "2022-05-22T10:45:57.121Z"
   },
   {
    "duration": 8,
    "start_time": "2022-05-22T10:45:57.133Z"
   },
   {
    "duration": 12,
    "start_time": "2022-05-22T10:45:57.142Z"
   },
   {
    "duration": 16,
    "start_time": "2022-05-22T10:45:57.156Z"
   },
   {
    "duration": 81,
    "start_time": "2022-05-22T10:45:57.173Z"
   },
   {
    "duration": 3,
    "start_time": "2022-05-22T10:45:57.258Z"
   },
   {
    "duration": 90,
    "start_time": "2022-05-22T10:45:57.263Z"
   },
   {
    "duration": 4,
    "start_time": "2022-05-22T10:45:57.355Z"
   },
   {
    "duration": 154,
    "start_time": "2022-05-22T10:45:57.361Z"
   },
   {
    "duration": 13,
    "start_time": "2022-05-22T10:45:57.517Z"
   },
   {
    "duration": 381,
    "start_time": "2022-05-22T10:45:57.532Z"
   },
   {
    "duration": 17,
    "start_time": "2022-05-22T10:45:57.915Z"
   },
   {
    "duration": 28,
    "start_time": "2022-05-22T10:45:57.934Z"
   },
   {
    "duration": 15,
    "start_time": "2022-05-22T10:45:57.964Z"
   },
   {
    "duration": 39,
    "start_time": "2022-05-22T10:45:57.981Z"
   },
   {
    "duration": 20,
    "start_time": "2022-05-22T10:45:58.022Z"
   },
   {
    "duration": 297,
    "start_time": "2022-05-22T10:45:58.044Z"
   },
   {
    "duration": 317,
    "start_time": "2022-05-22T10:45:58.342Z"
   },
   {
    "duration": 303,
    "start_time": "2022-05-22T10:45:58.660Z"
   },
   {
    "duration": 297,
    "start_time": "2022-05-22T10:45:58.964Z"
   },
   {
    "duration": 11,
    "start_time": "2022-05-22T10:45:59.263Z"
   },
   {
    "duration": 29,
    "start_time": "2022-05-22T10:45:59.276Z"
   },
   {
    "duration": 13,
    "start_time": "2022-05-22T10:45:59.306Z"
   },
   {
    "duration": 10,
    "start_time": "2022-05-22T10:45:59.321Z"
   },
   {
    "duration": 7,
    "start_time": "2022-05-22T10:45:59.332Z"
   },
   {
    "duration": 7,
    "start_time": "2022-05-22T10:45:59.341Z"
   },
   {
    "duration": 7,
    "start_time": "2022-05-22T10:45:59.349Z"
   },
   {
    "duration": 8,
    "start_time": "2022-05-22T10:45:59.358Z"
   },
   {
    "duration": 1963,
    "start_time": "2022-05-22T16:31:44.328Z"
   },
   {
    "duration": 80,
    "start_time": "2022-05-22T16:31:46.294Z"
   },
   {
    "duration": 11,
    "start_time": "2022-05-22T16:31:46.376Z"
   },
   {
    "duration": 415,
    "start_time": "2022-05-22T16:31:46.389Z"
   },
   {
    "duration": 22,
    "start_time": "2022-05-22T16:31:46.853Z"
   },
   {
    "duration": 226,
    "start_time": "2022-05-22T16:31:46.877Z"
   },
   {
    "duration": 18,
    "start_time": "2022-05-22T16:31:47.153Z"
   },
   {
    "duration": 425,
    "start_time": "2022-05-22T16:31:47.172Z"
   },
   {
    "duration": 24,
    "start_time": "2022-05-22T16:31:47.652Z"
   },
   {
    "duration": 472,
    "start_time": "2022-05-22T16:31:47.680Z"
   },
   {
    "duration": 41,
    "start_time": "2022-05-22T16:31:48.154Z"
   },
   {
    "duration": 4,
    "start_time": "2022-05-22T16:31:48.197Z"
   },
   {
    "duration": 54,
    "start_time": "2022-05-22T16:31:48.203Z"
   },
   {
    "duration": 21,
    "start_time": "2022-05-22T16:31:48.258Z"
   },
   {
    "duration": 12,
    "start_time": "2022-05-22T16:31:48.281Z"
   },
   {
    "duration": 9,
    "start_time": "2022-05-22T16:31:48.351Z"
   },
   {
    "duration": 102,
    "start_time": "2022-05-22T16:31:48.362Z"
   },
   {
    "duration": 12,
    "start_time": "2022-05-22T16:31:48.466Z"
   },
   {
    "duration": 85,
    "start_time": "2022-05-22T16:31:48.480Z"
   },
   {
    "duration": 18,
    "start_time": "2022-05-22T16:31:48.568Z"
   },
   {
    "duration": 65,
    "start_time": "2022-05-22T16:31:48.588Z"
   },
   {
    "duration": 10,
    "start_time": "2022-05-22T16:31:48.655Z"
   },
   {
    "duration": 115,
    "start_time": "2022-05-22T16:31:48.668Z"
   },
   {
    "duration": 68,
    "start_time": "2022-05-22T16:31:48.785Z"
   },
   {
    "duration": 37,
    "start_time": "2022-05-22T16:31:48.855Z"
   },
   {
    "duration": 63,
    "start_time": "2022-05-22T16:31:48.894Z"
   },
   {
    "duration": 320,
    "start_time": "2022-05-22T16:31:48.959Z"
   },
   {
    "duration": 75,
    "start_time": "2022-05-22T16:31:49.283Z"
   },
   {
    "duration": 22,
    "start_time": "2022-05-22T16:31:49.360Z"
   },
   {
    "duration": 73,
    "start_time": "2022-05-22T16:31:49.384Z"
   },
   {
    "duration": 108,
    "start_time": "2022-05-22T16:31:49.460Z"
   },
   {
    "duration": 3,
    "start_time": "2022-05-22T16:31:49.571Z"
   },
   {
    "duration": 316,
    "start_time": "2022-05-22T16:31:49.576Z"
   },
   {
    "duration": 82,
    "start_time": "2022-05-22T16:31:49.894Z"
   },
   {
    "duration": 83,
    "start_time": "2022-05-22T16:31:49.978Z"
   },
   {
    "duration": 7,
    "start_time": "2022-05-22T16:31:50.063Z"
   },
   {
    "duration": 12,
    "start_time": "2022-05-22T16:31:50.072Z"
   },
   {
    "duration": 66,
    "start_time": "2022-05-22T16:31:50.086Z"
   },
   {
    "duration": 16,
    "start_time": "2022-05-22T16:31:50.154Z"
   },
   {
    "duration": 16,
    "start_time": "2022-05-22T16:31:50.172Z"
   },
   {
    "duration": 105,
    "start_time": "2022-05-22T16:31:50.251Z"
   },
   {
    "duration": 3,
    "start_time": "2022-05-22T16:31:50.358Z"
   },
   {
    "duration": 127,
    "start_time": "2022-05-22T16:31:50.363Z"
   },
   {
    "duration": 5,
    "start_time": "2022-05-22T16:31:50.492Z"
   },
   {
    "duration": 357,
    "start_time": "2022-05-22T16:31:50.499Z"
   },
   {
    "duration": 14,
    "start_time": "2022-05-22T16:31:50.858Z"
   },
   {
    "duration": 706,
    "start_time": "2022-05-22T16:31:50.873Z"
   },
   {
    "duration": 15,
    "start_time": "2022-05-22T16:31:51.581Z"
   },
   {
    "duration": 30,
    "start_time": "2022-05-22T16:31:51.653Z"
   },
   {
    "duration": 82,
    "start_time": "2022-05-22T16:31:51.685Z"
   },
   {
    "duration": 19,
    "start_time": "2022-05-22T16:31:51.769Z"
   },
   {
    "duration": 76,
    "start_time": "2022-05-22T16:31:51.790Z"
   },
   {
    "duration": 723,
    "start_time": "2022-05-22T16:31:51.868Z"
   },
   {
    "duration": 761,
    "start_time": "2022-05-22T16:31:52.594Z"
   },
   {
    "duration": 522,
    "start_time": "2022-05-22T16:31:53.357Z"
   },
   {
    "duration": 602,
    "start_time": "2022-05-22T16:31:53.881Z"
   },
   {
    "duration": 70,
    "start_time": "2022-05-22T16:31:54.485Z"
   },
   {
    "duration": 13,
    "start_time": "2022-05-22T16:31:54.556Z"
   },
   {
    "duration": 12,
    "start_time": "2022-05-22T16:31:54.571Z"
   },
   {
    "duration": 77,
    "start_time": "2022-05-22T16:31:54.584Z"
   },
   {
    "duration": 17,
    "start_time": "2022-05-22T16:31:54.664Z"
   },
   {
    "duration": 71,
    "start_time": "2022-05-22T16:31:54.683Z"
   },
   {
    "duration": 12,
    "start_time": "2022-05-22T16:31:54.756Z"
   },
   {
    "duration": 17,
    "start_time": "2022-05-22T16:31:54.770Z"
   },
   {
    "duration": 261,
    "start_time": "2022-05-22T16:56:01.213Z"
   },
   {
    "duration": 264,
    "start_time": "2022-05-22T16:56:40.982Z"
   },
   {
    "duration": 486,
    "start_time": "2022-05-22T16:57:35.862Z"
   },
   {
    "duration": 264,
    "start_time": "2022-05-22T16:57:53.409Z"
   },
   {
    "duration": 276,
    "start_time": "2022-05-22T16:58:03.353Z"
   },
   {
    "duration": 271,
    "start_time": "2022-05-22T16:58:35.889Z"
   },
   {
    "duration": 290,
    "start_time": "2022-05-22T17:06:24.072Z"
   },
   {
    "duration": 353,
    "start_time": "2022-05-22T17:07:07.142Z"
   },
   {
    "duration": 266,
    "start_time": "2022-05-22T17:08:03.515Z"
   },
   {
    "duration": 278,
    "start_time": "2022-05-22T17:09:02.075Z"
   },
   {
    "duration": 324,
    "start_time": "2022-05-22T17:10:35.008Z"
   },
   {
    "duration": 263,
    "start_time": "2022-05-22T17:10:40.545Z"
   },
   {
    "duration": 263,
    "start_time": "2022-05-22T17:11:17.044Z"
   },
   {
    "duration": 362,
    "start_time": "2022-05-22T17:11:51.517Z"
   }
  ],
  "kernelspec": {
   "display_name": "Python 3 (ipykernel)",
   "language": "python",
   "name": "python3"
  },
  "language_info": {
   "codemirror_mode": {
    "name": "ipython",
    "version": 3
   },
   "file_extension": ".py",
   "mimetype": "text/x-python",
   "name": "python",
   "nbconvert_exporter": "python",
   "pygments_lexer": "ipython3",
   "version": "3.9.7"
  },
  "toc": {
   "base_numbering": 1,
   "nav_menu": {
    "height": "303px",
    "width": "329px"
   },
   "number_sections": true,
   "sideBar": true,
   "skip_h1_title": false,
   "title_cell": "Содержание",
   "title_sidebar": "Contents",
   "toc_cell": true,
   "toc_position": {
    "height": "calc(100% - 180px)",
    "left": "10px",
    "top": "150px",
    "width": "165px"
   },
   "toc_section_display": true,
   "toc_window_display": true
  }
 },
 "nbformat": 4,
 "nbformat_minor": 5
}
